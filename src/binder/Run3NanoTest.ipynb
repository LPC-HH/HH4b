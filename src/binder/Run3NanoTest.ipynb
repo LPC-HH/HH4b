{
 "cells": [
  {
   "cell_type": "code",
   "execution_count": 2,
   "metadata": {},
   "outputs": [],
   "source": [
    "from coffea import nanoevents\n",
    "from coffea.nanoevents.methods.base import NanoEventsArray\n",
    "import awkward as ak"
   ]
  },
  {
   "cell_type": "code",
   "execution_count": 4,
   "metadata": {},
   "outputs": [],
   "source": [
    "events = nanoevents.NanoEventsFactory.from_root(\n",
    "    # TSG HH4b sample\n",
    "    \"root://cmsxrootd.fnal.gov///store/user/lpcdihiggsboost/nanov11_trigobj//cmantill/2022/HH/GluGlutoHHto4B_kl-1p00_kt-1p00_c2-0p00_TuneCP5_13p6TeV_powheg-pythia8/GluGlutoHHto4B_kl-1p00_kt-1p00_c2-0p00_TuneCP5_13p6TeV_TSG/230808_161402/0000/nano_mc2022_v11_2.root\",\n",
    "    schemaclass=nanoevents.NanoAODSchema,\n",
    ").events()"
   ]
  },
  {
   "cell_type": "code",
   "execution_count": 4,
   "metadata": {},
   "outputs": [
    {
     "data": {
      "text/plain": [
       "['GenProton',\n",
       " 'LHEWeight',\n",
       " 'SoftActivityJetHT10',\n",
       " 'Rho',\n",
       " 'DeepMETResolutionTune',\n",
       " 'GenVtx',\n",
       " 'HTXS',\n",
       " 'Flag',\n",
       " 'SoftActivityJetNjets5',\n",
       " 'run',\n",
       " 'GenDressedLepton',\n",
       " 'IsoTrack',\n",
       " 'luminosityBlock',\n",
       " 'CaloMET',\n",
       " 'Tau',\n",
       " 'GenIsolatedPhoton',\n",
       " 'GenMET',\n",
       " 'PuppiMET',\n",
       " 'genWeight',\n",
       " 'RawMET',\n",
       " 'LowPtElectron',\n",
       " 'bunchCrossing',\n",
       " 'SoftActivityJetHT5',\n",
       " 'SoftActivityJet',\n",
       " 'MET',\n",
       " 'LHEReweightingWeight',\n",
       " 'BeamSpot',\n",
       " 'FsrPhoton',\n",
       " 'DeepMETResponseTune',\n",
       " 'PV',\n",
       " 'L1simulation',\n",
       " 'boostedTau',\n",
       " 'CorrT1METJet',\n",
       " 'SoftActivityJetNjets2',\n",
       " 'LHEScaleWeight',\n",
       " 'PSWeight',\n",
       " 'HLTriggerFinalPath',\n",
       " 'genTtbarId',\n",
       " 'Muon',\n",
       " 'L1',\n",
       " 'GenVisTau',\n",
       " 'Photon',\n",
       " 'TkMET',\n",
       " 'LHE',\n",
       " 'TrigObj',\n",
       " 'event',\n",
       " 'HLTriggerFirstPath',\n",
       " 'Jet',\n",
       " 'GenPart',\n",
       " 'SoftActivityJetHT',\n",
       " 'SoftActivityJetHT2',\n",
       " 'SoftActivityJetNjets10',\n",
       " 'FatJet',\n",
       " 'SubJet',\n",
       " 'GenJetAK8',\n",
       " 'ChsMET',\n",
       " 'SubGenJetAK8',\n",
       " 'LHEPart',\n",
       " 'GenJet',\n",
       " 'L1Reco',\n",
       " 'HLT',\n",
       " 'RawPuppiMET',\n",
       " 'L1PreFiringWeight',\n",
       " 'Electron',\n",
       " 'OtherPV',\n",
       " 'SV',\n",
       " 'Pileup',\n",
       " 'LHEPdfWeight',\n",
       " 'Generator']"
      ]
     },
     "execution_count": 4,
     "metadata": {},
     "output_type": "execute_result"
    }
   ],
   "source": [
    "events.fields"
   ]
  },
  {
   "cell_type": "code",
   "execution_count": 4,
   "metadata": {},
   "outputs": [
    {
     "data": {
      "text/plain": [
       "['area',\n",
       " 'btagCSVV2',\n",
       " 'btagDDBvLV2',\n",
       " 'btagDDCvBV2',\n",
       " 'btagDDCvLV2',\n",
       " 'btagDeepB',\n",
       " 'btagHbb',\n",
       " 'deepTagMD_H4qvsQCD',\n",
       " 'deepTagMD_HbbvsQCD',\n",
       " 'deepTagMD_TvsQCD',\n",
       " 'deepTagMD_WvsQCD',\n",
       " 'deepTagMD_ZHbbvsQCD',\n",
       " 'deepTagMD_ZHccvsQCD',\n",
       " 'deepTagMD_ZbbvsQCD',\n",
       " 'deepTagMD_ZvsQCD',\n",
       " 'deepTagMD_bbvsLight',\n",
       " 'deepTagMD_ccvsLight',\n",
       " 'deepTag_H',\n",
       " 'deepTag_QCD',\n",
       " 'deepTag_QCDothers',\n",
       " 'deepTag_TvsQCD',\n",
       " 'deepTag_WvsQCD',\n",
       " 'deepTag_ZvsQCD',\n",
       " 'eta',\n",
       " 'mass',\n",
       " 'msoftdrop',\n",
       " 'n2b1',\n",
       " 'n3b1',\n",
       " 'particleNetMD_QCD',\n",
       " 'particleNetMD_Xbb',\n",
       " 'particleNetMD_Xcc',\n",
       " 'particleNetMD_Xqq',\n",
       " 'particleNet_H4qvsQCD',\n",
       " 'particleNet_HbbvsQCD',\n",
       " 'particleNet_HccvsQCD',\n",
       " 'particleNet_QCD',\n",
       " 'particleNet_TvsQCD',\n",
       " 'particleNet_WvsQCD',\n",
       " 'particleNet_ZvsQCD',\n",
       " 'particleNet_mass',\n",
       " 'phi',\n",
       " 'pt',\n",
       " 'rawFactor',\n",
       " 'tau1',\n",
       " 'tau2',\n",
       " 'tau3',\n",
       " 'tau4',\n",
       " 'lsf3',\n",
       " 'jetId',\n",
       " 'subJetIdx1',\n",
       " 'subJetIdx2',\n",
       " 'electronIdx3SJ',\n",
       " 'muonIdx3SJ',\n",
       " 'nConstituents',\n",
       " 'genJetAK8Idx',\n",
       " 'hadronFlavour',\n",
       " 'nBHadrons',\n",
       " 'nCHadrons',\n",
       " 'genJetAK8IdxG',\n",
       " 'subJetIdx1G',\n",
       " 'subJetIdx2G',\n",
       " 'subJetIdxG']"
      ]
     },
     "execution_count": 4,
     "metadata": {},
     "output_type": "execute_result"
    }
   ],
   "source": [
    "events.FatJet.fields"
   ]
  },
  {
   "cell_type": "code",
   "execution_count": null,
   "metadata": {},
   "outputs": [],
   "source": []
  }
 ],
 "metadata": {
  "kernelspec": {
   "display_name": "python39",
   "language": "python",
   "name": "python3"
  },
  "language_info": {
   "codemirror_mode": {
    "name": "ipython",
    "version": 3
   },
   "file_extension": ".py",
   "mimetype": "text/x-python",
   "name": "python",
   "nbconvert_exporter": "python",
   "pygments_lexer": "ipython3",
   "version": "3.9.15"
  },
  "orig_nbformat": 4
 },
 "nbformat": 4,
 "nbformat_minor": 2
}
