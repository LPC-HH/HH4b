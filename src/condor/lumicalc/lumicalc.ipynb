{
 "cells": [
  {
   "cell_type": "code",
   "execution_count": null,
   "id": "11b9975a",
   "metadata": {},
   "outputs": [],
   "source": [
    "import json\n",
    "from pathlib import Path"
   ]
  },
  {
   "cell_type": "code",
   "execution_count": null,
   "id": "6bc4f129",
   "metadata": {},
   "outputs": [],
   "source": [
    "def read_json(file_path):\n",
    "    \"\"\"\n",
    "    Reads a JSON file and returns its content.\n",
    "\n",
    "    :param file_path: Path to the JSON file.\n",
    "    :return: Parsed JSON content.\n",
    "    \"\"\"\n",
    "    with open(file_path, \"r\") as file:\n",
    "        return json.load(file)\n",
    "\n",
    "\n",
    "def write_json(data, file_path):\n",
    "    \"\"\"\n",
    "    Writes data to a JSON file.\n",
    "\n",
    "    :param data: Data to write to the JSON file.\n",
    "    :param file_path: Path where the JSON file will be saved.\n",
    "    \"\"\"\n",
    "    with open(file_path, \"w\") as file:\n",
    "        json.dump(data, file, indent=4)"
   ]
  },
  {
   "cell_type": "code",
   "execution_count": null,
   "id": "1651475c",
   "metadata": {},
   "outputs": [],
   "source": [
    "def extract_year(era):\n",
    "    return era[:4]"
   ]
  },
  {
   "cell_type": "code",
   "execution_count": null,
   "id": "b1b2179c",
   "metadata": {},
   "outputs": [],
   "source": [
    "def subtract_lumi_lists(list_a, list_b):\n",
    "    \"\"\"\n",
    "    Subtract lumi list B from lumi list A (A - B).\n",
    "    Returns ranges that are in A but not in B.\n",
    "\n",
    "    Args:\n",
    "        list_a: Dict with run numbers as keys and list of [start, end] ranges as values\n",
    "        list_b: Dict with run numbers as keys and list of [start, end] ranges as values\n",
    "\n",
    "    Returns:\n",
    "        Dict in the same format containing ranges in A but not in B\n",
    "    \"\"\"\n",
    "    result = {}\n",
    "\n",
    "    for run_num, ranges_a in list_a.items():\n",
    "        if run_num not in list_b:\n",
    "            # If run doesn't exist in B, keep all ranges from A\n",
    "            result[run_num] = ranges_a[:]\n",
    "        else:\n",
    "            ranges_b = list_b[run_num]\n",
    "            remaining_ranges = []\n",
    "\n",
    "            for start_a, end_a in ranges_a:\n",
    "                # Start with the current range from A\n",
    "                current_ranges = [(start_a, end_a)]\n",
    "\n",
    "                # Subtract each range from B\n",
    "                for start_b, end_b in ranges_b:\n",
    "                    new_ranges = []\n",
    "\n",
    "                    for start_curr, end_curr in current_ranges:\n",
    "                        # Check if ranges overlap\n",
    "                        if end_curr < start_b or start_curr > end_b:\n",
    "                            # No overlap, keep the range\n",
    "                            new_ranges.append((start_curr, end_curr))\n",
    "                        else:\n",
    "                            # There's overlap, split the range\n",
    "                            # Keep part before B's range\n",
    "                            if start_curr < start_b:\n",
    "                                new_ranges.append((start_curr, start_b - 1))\n",
    "\n",
    "                            # Keep part after B's range\n",
    "                            if end_curr > end_b:\n",
    "                                new_ranges.append((end_b + 1, end_curr))\n",
    "\n",
    "                    current_ranges = new_ranges\n",
    "\n",
    "                # Add any remaining ranges\n",
    "                remaining_ranges.extend(current_ranges)\n",
    "\n",
    "            # Convert back to list format and add to result if not empty\n",
    "            if remaining_ranges:\n",
    "                result[run_num] = [[start, end] for start, end in remaining_ranges]\n",
    "\n",
    "    return result"
   ]
  },
  {
   "cell_type": "code",
   "execution_count": null,
   "id": "05238284",
   "metadata": {},
   "outputs": [],
   "source": [
    "def intersect_lumi_lists(list_a, list_b):\n",
    "    \"\"\"\n",
    "    Find intersection of lumi list A and lumi list B (A ∩ B).\n",
    "    Returns ranges that are in both A and B.\n",
    "\n",
    "    Args:\n",
    "        list_a: Dict with run numbers as keys and list of [start, end] ranges as values\n",
    "        list_b: Dict with run numbers as keys and list of [start, end] ranges as values\n",
    "\n",
    "    Returns:\n",
    "        Dict in the same format containing ranges in both A and B\n",
    "    \"\"\"\n",
    "    result = {}\n",
    "\n",
    "    for run_num, ranges_a in list_a.items():\n",
    "        if run_num in list_b:\n",
    "            ranges_b = list_b[run_num]\n",
    "            intersections = []\n",
    "\n",
    "            for start_a, end_a in ranges_a:\n",
    "                for start_b, end_b in ranges_b:\n",
    "                    # Find intersection of the two ranges\n",
    "                    start_intersect = max(start_a, start_b)\n",
    "                    end_intersect = min(end_a, end_b)\n",
    "\n",
    "                    # If there's a valid intersection, add it\n",
    "                    if start_intersect <= end_intersect:\n",
    "                        intersections.append([start_intersect, end_intersect])\n",
    "\n",
    "            # Add to result if there are intersections\n",
    "            if intersections:\n",
    "                result[run_num] = intersections\n",
    "\n",
    "    return result"
   ]
  },
  {
   "cell_type": "code",
   "execution_count": null,
   "id": "64f1520f",
   "metadata": {},
   "outputs": [],
   "source": [
    "def count_total_lumi(lumi_dict):\n",
    "    \"\"\"\n",
    "    Counts the total luminosity from a lumi dictionary.\n",
    "\n",
    "    Args:\n",
    "        lumi_dict: Dict with run numbers as keys and list of [start, end] ranges as values\n",
    "\n",
    "    Returns:\n",
    "        Total luminosity as an integer\n",
    "    \"\"\"\n",
    "    total_lumi = 0\n",
    "    for ranges in lumi_dict.values():\n",
    "        for start, end in ranges:\n",
    "            total_lumi += end - start + 1\n",
    "    return total_lumi"
   ]
  },
  {
   "cell_type": "code",
   "execution_count": null,
   "id": "bfdc8a63",
   "metadata": {},
   "outputs": [],
   "source": [
    "lumi_dir = Path(\"nano_v14_25v2_JetMET\")\n",
    "lumi_block_dir = lumi_dir / \"lumi_blocks\"\n",
    "eras = [\"2022\", \"2022EE\", \"2023\", \"2023BPix\"]\n",
    "\n",
    "lumi_lists = {era: read_json(lumi_block_dir / f\"nano_v14_25v2_JetMET_{era}.json\") for era in eras}"
   ]
  },
  {
   "cell_type": "code",
   "execution_count": null,
   "id": "733f5dc4",
   "metadata": {},
   "outputs": [],
   "source": [
    "golden_json_dir = Path(\"LumiJSON\")\n",
    "golden_jsons = {\n",
    "    \"2022\": read_json(golden_json_dir / \"Cert_Collisions2022_355100_362760_Golden.json\"),\n",
    "    \"2023\": read_json(golden_json_dir / \"Cert_Collisions2023_366442_370790_Golden.json\"),\n",
    "}"
   ]
  },
  {
   "cell_type": "code",
   "execution_count": null,
   "id": "03b59ee8",
   "metadata": {},
   "outputs": [],
   "source": [
    "missing_lumis = {}\n",
    "intersected_lumis = {}\n",
    "for era, lumi_list in lumi_lists.items():\n",
    "    intersected_lumis[era] = intersect_lumi_lists(golden_jsons[extract_year(era)], lumi_list)"
   ]
  },
  {
   "cell_type": "code",
   "execution_count": null,
   "id": "7ccb433b",
   "metadata": {},
   "outputs": [],
   "source": [
    "intersected_lumis_dir = lumi_dir / \"lumi_intersections\"\n",
    "intersected_lumis_dir.mkdir(parents=True, exist_ok=True)\n",
    "for era, lumi in intersected_lumis.items():\n",
    "    write_json(lumi, intersected_lumis_dir / f\"nano_v14_25v2_JetMET_{era}.json\")"
   ]
  },
  {
   "cell_type": "markdown",
   "id": "5ab71abf",
   "metadata": {},
   "source": [
    "Then, run the following commands under `lumi_intersections` on **lxplus**\n",
    "```bash\n",
    "source /cvmfs/cms-bril.cern.ch/cms-lumi-pog/brilws-docker/brilws-env;\n",
    "\n",
    "for eras in \"2022\" \"2022EE\" \"2023\" \"2023BPix\"; do brilcalc lumi --normtag /cvmfs/cms-bril.cern.ch/cms-lumi-pog/Normtags/normtag_PHYSICS.json -u /fb -i nano_v14_25v2_JetMET_${year}.json -o lumi_nano_v14_25v2_JetMET_${year}.csv; done\n",
    "```"
   ]
  },
  {
   "cell_type": "code",
   "execution_count": null,
   "id": "aeb63d37",
   "metadata": {},
   "outputs": [],
   "source": []
  }
 ],
 "metadata": {
  "kernelspec": {
   "display_name": "hh4b",
   "language": "python",
   "name": "python3"
  },
  "language_info": {
   "codemirror_mode": {
    "name": "ipython",
    "version": 3
   },
   "file_extension": ".py",
   "mimetype": "text/x-python",
   "name": "python",
   "nbconvert_exporter": "python",
   "pygments_lexer": "ipython3",
   "version": "3.10.17"
  }
 },
 "nbformat": 4,
 "nbformat_minor": 5
}
