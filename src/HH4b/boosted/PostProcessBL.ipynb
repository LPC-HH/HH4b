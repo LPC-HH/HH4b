{
 "cells": [
  {
   "cell_type": "markdown",
   "metadata": {},
   "source": [
    "# Misc Checks"
   ]
  },
  {
   "cell_type": "code",
   "execution_count": 1,
   "metadata": {},
   "outputs": [],
   "source": [
    "from __future__ import annotations\n",
    "\n",
    "import importlib\n",
    "from pathlib import Path\n",
    "\n",
    "import matplotlib.pyplot as plt\n",
    "import matplotlib.ticker as mticker\n",
    "import numpy as np\n",
    "import pandas as pd\n",
    "from xgboost import XGBClassifier\n",
    "\n",
    "import HH4b.plotting as plotting\n",
    "import HH4b.postprocessing as postprocessing\n",
    "from HH4b.hh_vars import samples, samples_run3, years\n",
    "from HH4b.postprocessing import PostProcess\n",
    "\n",
    "formatter = mticker.ScalarFormatter(useMathText=True)\n",
    "formatter.set_powerlimits((-3, 3))"
   ]
  },
  {
   "cell_type": "code",
   "execution_count": 2,
   "metadata": {},
   "outputs": [],
   "source": [
    "# automatically reloads imported files on edits\n",
    "%load_ext autoreload\n",
    "%autoreload 2"
   ]
  },
  {
   "cell_type": "markdown",
   "metadata": {},
   "source": [
    "## Load samples"
   ]
  },
  {
   "cell_type": "code",
   "execution_count": 3,
   "metadata": {},
   "outputs": [],
   "source": [
    "MAIN_DIR = Path(\"../../../\")\n",
    "plot_dir = MAIN_DIR / \"../plots/PostProcess/24Apr24Legacy\"\n",
    "plot_dir.mkdir(parents=True, exist_ok=True)\n",
    "\n",
    "data_dir = \"/eos/uscms/store/user/rkansal/bbbb/skimmer/24Apr19LegacyFixes_v12_private_signal/\"\n",
    "dirs = {data_dir: samples}\n",
    "\n",
    "bdt_model_name = \"24Apr21_legacy_vbf_vars\"\n",
    "bdt_config = \"24Apr21_legacy_vbf_vars\""
   ]
  },
  {
   "cell_type": "code",
   "execution_count": 4,
   "metadata": {},
   "outputs": [],
   "source": [
    "def load_process_run3_samples(data_dir, year, samples_run3):\n",
    "    events_dict = postprocessing.load_run3_samples(data_dir, year, True, samples_run3)\n",
    "    legacy_label = \"Legacy\"\n",
    "\n",
    "    # define BDT model\n",
    "    bdt_model = XGBClassifier()\n",
    "    bdt_model.load_model(fname=f\"../boosted/bdt_trainings_run3/{bdt_model_name}/trained_bdt.model\")\n",
    "    # get function\n",
    "    make_bdt_dataframe = importlib.import_module(\n",
    "        f\".{bdt_config}\", package=\"HH4b.boosted.bdt_trainings_run3\"\n",
    "    )\n",
    "\n",
    "    # inference and assign score\n",
    "    events_dict_postprocess = {}\n",
    "    for key in events_dict:\n",
    "        bdt_events = make_bdt_dataframe.bdt_dataframe(events_dict[key])\n",
    "        preds = bdt_model.predict_proba(bdt_events)\n",
    "        PostProcess.add_bdt_scores(bdt_events, preds)\n",
    "        bdt_events[\"weight\"] = events_dict[key][\"finalWeight\"].to_numpy()\n",
    "        bdt_events[\"H2TXbb\"] = events_dict[key][f\"bbFatJetPNetTXbb{legacy_label}\"].to_numpy()[:, 1]\n",
    "        bdt_events[\"H2PNetMass\"] = events_dict[key][f\"bbFatJetPNetMass{legacy_label}\"].to_numpy()[\n",
    "            :, 1\n",
    "        ]\n",
    "        events_dict[key] = bdt_events\n",
    "\n",
    "    return events_dict"
   ]
  },
  {
   "cell_type": "code",
   "execution_count": 5,
   "metadata": {},
   "outputs": [],
   "source": [
    "bg_keys = [\"ttbar\", \"vhtobb\", \"gghtobb\"]\n",
    "processes = [\"data\"] + [\"hh4b\"] + bg_keys\n",
    "\n",
    "from copy import deepcopy\n",
    "\n",
    "samples_run3 = deepcopy(samples_run3)\n",
    "\n",
    "for year in samples_run3:\n",
    "    for key in list(samples_run3[year].keys()):\n",
    "        if key not in processes:\n",
    "            samples_run3[year].pop(key)"
   ]
  },
  {
   "cell_type": "code",
   "execution_count": 6,
   "metadata": {},
   "outputs": [
    {
     "name": "stdout",
     "output_type": "stream",
     "text": [
      "Found BDT Training keys ['hh4b', 'qcd', 'ttbar', 'vbfhh4b-k2v0']\n",
      "\n",
      "2022\n",
      "Loaded JetMET_Run2022C                                   : 201356 entries\n",
      "Loaded JetMET_Run2022C_single                            : 22682 entries\n",
      "Loaded JetMET_Run2022D                                   : 131741 entries\n",
      "Loaded TTto2L2Nu                                         : 17657 entries\n",
      "Loaded TTto4Q                                            : 623203 entries\n",
      "Loaded TTtoLNu2Q                                         : 214484 entries\n",
      "Loaded GluGluHto2B_PT-200_M-125                          : 1307 entries\n",
      "Loaded WminusH_Hto2B_Wto2Q_M-125                         : 6165 entries\n",
      "Loaded WplusH_Hto2B_Wto2Q_M-125                          : 8882 entries\n",
      "Loaded ZH_Hto2B_Zto2Q_M-125                              : 27150 entries\n",
      "Loaded ggZH_Hto2B_Zto2Q_M-125                            : 27150 entries\n",
      "\n",
      "2022EE\n",
      "Loaded JetMET_Run2022E                                   : 232098 entries\n",
      "Loaded JetMET_Run2022F                                   : 759680 entries\n",
      "Loaded JetMET_Run2022G                                   : 122892 entries\n",
      "Loaded TTto2L2Nu                                         : 11178 entries\n",
      "Loaded TTto4Q                                            : 1993794 entries\n",
      "Loaded TTtoLNu2Q                                         : 721935 entries\n",
      "Loaded GluGluHto2B_PT-200_M-125                          : 4852 entries\n",
      "Loaded WminusH_Hto2B_Wto2Q_M-125                         : 16997 entries\n",
      "Loaded WplusH_Hto2B_Wto2Q_M-125                          : 26755 entries\n",
      "Loaded ZH_Hto2B_Zto2Q_M-125                              : 24434 entries\n",
      "Loaded ggZH_Hto2B_Zto2L_M-125                            : 1852 entries\n",
      "Loaded ggZH_Hto2B_Zto2Nu_M-125                           : 3024 entries\n",
      "Loaded ggZH_Hto2B_Zto2Q_M-125                            : 24434 entries\n",
      "Loaded GluGlutoHHto4B_kl-1p00_kt-1p00_c2-0p00_TuneCP5_13p6TeV: 111175 entries\n",
      "\n",
      "2023\n",
      "Loaded JetMET_Run2023Cv1                                 : 173229 entries\n",
      "Loaded JetMET_Run2023Cv2                                 : 51110 entries\n",
      "Loaded JetMET_Run2023Cv3                                 : 56090 entries\n",
      "Loaded JetMET_Run2023Cv4                                 : 395355 entries\n",
      "Loaded TTto2L2Nu                                         : 18098 entries\n",
      "Loaded TTto4Q                                            : 624386 entries\n",
      "Loaded TTtoLNu2Q                                         : 214797 entries\n",
      "Loaded GluGluHto2B_PT-200_M-125                          : 253921 entries\n",
      "Loaded WminusH_Hto2B_Wto2Q_M-125                         : 58079 entries\n",
      "Loaded WplusH_Hto2B_Wto2Q_M-125                          : 76136 entries\n",
      "Loaded ZH_Hto2B_Zto2Q_M-125                              : 68588 entries\n",
      "Loaded ggZH_Hto2B_Zto2Q_M-125                            : 68588 entries\n",
      "Loaded GluGlutoHHto4B_kl-1p00_kt-1p00_c2-0p00_TuneCP5_13p6TeV_TSG: 14607 entries\n",
      "\n",
      "2023BPix\n",
      "Loaded JetMET_Run2023D                                   : 300842 entries\n",
      "Loaded TTto2L2Nu                                         : 7980 entries\n",
      "Loaded TTto4Q                                            : 276762 entries\n",
      "Loaded TTtoLNu2Q                                         : 94135 entries\n",
      "Loaded GluGluHto2B_PT-200_M-125                          : 112153 entries\n",
      "Loaded WminusH_Hto2B_Wto2Q_M-125                         : 25222 entries\n",
      "Loaded WplusH_Hto2B_Wto2Q_M-125                          : 34541 entries\n",
      "Loaded ZH_Hto2B_Zto2Q_M-125                              : 31095 entries\n",
      "Loaded ggZH_Hto2B_Zto2Q_M-125                            : 31095 entries\n",
      "Loaded GluGlutoHHto4B_kl-1p00_kt-1p00_c2-0p00_TuneCP5_13p6TeV_TSG: 6397 entries\n",
      "Loaded all years\n"
     ]
    }
   ],
   "source": [
    "bdt_training_keys = PostProcess.get_bdt_training_keys(\"24Apr21_legacy_vbf_vars\")\n",
    "\n",
    "events_dict_postprocess = {}\n",
    "cutflows = {}\n",
    "for year in years:\n",
    "    print(f\"\\n{year}\")\n",
    "    events_dict_postprocess[year] = load_process_run3_samples(data_dir, year, samples_run3)\n",
    "\n",
    "print(\"Loaded all years\")"
   ]
  },
  {
   "cell_type": "code",
   "execution_count": 7,
   "metadata": {},
   "outputs": [],
   "source": [
    "events_combined = PostProcess.combine_run3_samples(events_dict_postprocess, processes, bg_keys)"
   ]
  },
  {
   "cell_type": "markdown",
   "metadata": {},
   "source": [
    "## S/B optimization using the ABCD method"
   ]
  },
  {
   "cell_type": "code",
   "execution_count": 8,
   "metadata": {},
   "outputs": [],
   "source": [
    "def get_nevents_sidebands(events, cut, mass, mass_window):\n",
    "    mw_size = mass_window[1] - mass_window[0]\n",
    "\n",
    "    # get yield in left sideband\n",
    "    cut_mass_0 = (events[mass] < mass_window[0]) & (events[mass] > (mass_window[0] - mw_size / 2))\n",
    "\n",
    "    # get yield in right sideband\n",
    "    cut_mass_1 = (events[mass] < mass_window[1] + mw_size / 2) & (events[mass] > mass_window[1])\n",
    "\n",
    "    return np.sum(events[\"weight\"][(cut_mass_0 | cut_mass_1) & cut])\n",
    "\n",
    "\n",
    "def get_nevents_signal(events, cut, mass, mass_window):\n",
    "    cut_mass = (events[mass] >= mass_window[0]) & (events[mass] <= mass_window[1])\n",
    "\n",
    "    # get yield in Higgs mass window\n",
    "    return np.sum(events[\"weight\"][cut & cut_mass])\n",
    "\n",
    "\n",
    "def get_nevents_nosignal(events, cut, mass, mass_window):\n",
    "    cut_mass = (events[mass] >= mass_window[0]) & (events[mass] <= mass_window[1])\n",
    "\n",
    "    # get yield in Higgs mass window\n",
    "    return np.sum(events[\"weight\"][cut & ~cut_mass])\n",
    "\n",
    "\n",
    "def get_s_b(events_dict, cut_dict, mass, mass_window):\n",
    "    s = get_nevents_signal(events_dict[\"hh4b\"], cut_dict[\"hh4b\"], mass, mass_window)\n",
    "    bd = get_nevents_sidebands(events_dict[\"data\"], cut_dict[\"data\"], mass, mass_window)\n",
    "\n",
    "    bgmcb = 0\n",
    "    bgmcs = 0\n",
    "    for key in bg_keys:\n",
    "        bgmcb += get_nevents_sidebands(events_dict[key], cut_dict[key], mass, mass_window)\n",
    "        bgmcs += get_nevents_signal(events_dict[key], cut_dict[key], mass, mass_window)\n",
    "\n",
    "    b = bd - bgmcb + bgmcs\n",
    "    return s, b"
   ]
  },
  {
   "cell_type": "code",
   "execution_count": 9,
   "metadata": {},
   "outputs": [],
   "source": [
    "def abcd(events_dict, txbb_cut, bdt_cut, mass, mass_window):\n",
    "    dicts = {\"data\": [], **{key: [] for key in bg_keys}}\n",
    "\n",
    "    for key in [\"hh4b\", \"data\"] + bg_keys:\n",
    "        events = events_dict[key]\n",
    "        cut = (events[\"bdt_score\"] > bdt_cut) & (events[\"H2TXbb\"] > txbb_cut)\n",
    "\n",
    "        if key == \"hh4b\":\n",
    "            s = get_nevents_signal(events, cut, mass, mass_window)\n",
    "            continue\n",
    "\n",
    "        # region A\n",
    "        if key == \"data\":\n",
    "            dicts[key].append(0)\n",
    "        else:\n",
    "            dicts[key].append(get_nevents_signal(events, cut, mass, mass_window))\n",
    "\n",
    "        # region B\n",
    "        dicts[key].append(get_nevents_nosignal(events, cut, mass, mass_window))\n",
    "\n",
    "        cut = (events[\"bdt_score\"] < 0.6) & (events[\"H2TXbb\"] < 0.8)\n",
    "        # region C\n",
    "        dicts[key].append(get_nevents_signal(events, cut, mass, mass_window))\n",
    "        # region D\n",
    "        dicts[key].append(get_nevents_nosignal(events, cut, mass, mass_window))\n",
    "\n",
    "    bg_tots = np.sum([dicts[key] for key in bg_keys], axis=0)\n",
    "    dmt = np.array(dicts[\"data\"]) - bg_tots\n",
    "    bqcd = dmt[2] * dmt[1] / dmt[3]\n",
    "    # print(dicts)\n",
    "\n",
    "    return s, bqcd + bg_tots[0], dicts"
   ]
  },
  {
   "cell_type": "markdown",
   "metadata": {},
   "source": [
    "## Run the optimization:"
   ]
  },
  {
   "cell_type": "code",
   "execution_count": null,
   "metadata": {},
   "outputs": [],
   "source": [
    "# Input: abcd_dicts: {key1: [Region A nevents, B nevents, C nevents, D], key2: ...}\n",
    "# Return: estimated nevents of bg in region B\n",
    "def get_regionB_nevents(abcd_dicts):\n",
    "    dicts = abcd_dicts\n",
    "    nevents_regionB_per_key = [val[1] for key, val in dicts.items()]\n",
    "    return np.sum(nevents_regionB_per_key)"
   ]
  },
  {
   "cell_type": "code",
   "execution_count": 11,
   "metadata": {
    "scrolled": true
   },
   "outputs": [
    {
     "name": "stderr",
     "output_type": "stream",
     "text": [
      "/tmp/ipykernel_1897/3942764664.py:22: RuntimeWarning: invalid value encountered in double_scalars\n",
      "  b_vs_s_list.append(b/s)\n"
     ]
    }
   ],
   "source": [
    "mass = \"H2PNetMass\"\n",
    "mass_window = [115, 135]\n",
    "\n",
    "txbb_cut_list = []\n",
    "bdt_cut_list = []\n",
    "s_list = []\n",
    "b_list = []\n",
    "b_vs_s_list = []\n",
    "nevents_regionB_list = []\n",
    "for txbb_cut in np.arange(0.95, 1.0, 0.002):\n",
    "    for bdt_cut in np.arange(0.9, 1.0, 0.005):\n",
    "        s, b, d = abcd(events_combined, txbb_cut, bdt_cut, mass, mass_window)\n",
    "\n",
    "        # derive values\n",
    "        nevents_regionB = d[\"data\"][1]\n",
    "        nevents_regionB_list.append(nevents_regionB)\n",
    "\n",
    "        txbb_cut_list.append(txbb_cut)\n",
    "        bdt_cut_list.append(bdt_cut)\n",
    "        s_list.append(s)\n",
    "        b_list.append(b)\n",
    "        b_vs_s_list.append(b / s)\n",
    "\n",
    "s, tot, dicts = abcd(events_combined, 0.99, 0.955, mass, mass_window)"
   ]
  },
  {
   "cell_type": "code",
   "execution_count": 12,
   "metadata": {},
   "outputs": [],
   "source": [
    "b_array = np.array(b_list)\n",
    "s_array = np.array(s_list)\n",
    "nevents_regionB_array = np.array(nevents_regionB_list)"
   ]
  },
  {
   "cell_type": "code",
   "execution_count": 13,
   "metadata": {},
   "outputs": [
    {
     "name": "stderr",
     "output_type": "stream",
     "text": [
      "/tmp/ipykernel_1897/1765973336.py:5: RuntimeWarning: invalid value encountered in sqrt\n",
      "  sigma_B = b_array/np.sqrt(b_array + nevents_regionB_array)\n",
      "/tmp/ipykernel_1897/1765973336.py:5: RuntimeWarning: invalid value encountered in divide\n",
      "  sigma_B = b_array/np.sqrt(b_array + nevents_regionB_array)\n"
     ]
    }
   ],
   "source": [
    "# 2√(B+sigma_B^2)/S\n",
    "# sigma_B = B/sqrt(total data in the A + B regions)\n",
    "# total data in A region = b\n",
    "# total data in B region: nevents_regionB_array\n",
    "sigma_B = b_array / np.sqrt(b_array + nevents_regionB_array)\n",
    "double_sqrtBPlusVarB_vs_s = 2 * np.sqrt(b_array + np.square(sigma_B)) / s_array"
   ]
  },
  {
   "cell_type": "code",
   "execution_count": 14,
   "metadata": {},
   "outputs": [
    {
     "name": "stderr",
     "output_type": "stream",
     "text": [
      "/tmp/ipykernel_1897/2888732902.py:2: RuntimeWarning: invalid value encountered in sqrt\n",
      "  double_sqrtB_vs_s = 2*np.sqrt(b_array)/s_array\n",
      "/tmp/ipykernel_1897/2888732902.py:2: RuntimeWarning: invalid value encountered in divide\n",
      "  double_sqrtB_vs_s = 2*np.sqrt(b_array)/s_array\n"
     ]
    }
   ],
   "source": [
    "# 2*sqrt(B)/S\n",
    "double_sqrtB_vs_s = 2 * np.sqrt(b_array) / s_array"
   ]
  },
  {
   "cell_type": "code",
   "execution_count": 15,
   "metadata": {},
   "outputs": [
    {
     "name": "stderr",
     "output_type": "stream",
     "text": [
      "/tmp/ipykernel_1897/3468189243.py:1: RuntimeWarning: invalid value encountered in divide\n",
      "  asimov = np.sqrt(2*((s_array+b_array)*np.log(1+s_array/b_array)-s_array))\n",
      "/tmp/ipykernel_1897/3468189243.py:1: RuntimeWarning: invalid value encountered in log\n",
      "  asimov = np.sqrt(2*((s_array+b_array)*np.log(1+s_array/b_array)-s_array))\n"
     ]
    }
   ],
   "source": [
    "asimov = np.sqrt(2 * ((s_array + b_array) * np.log(1 + s_array / b_array) - s_array))"
   ]
  },
  {
   "cell_type": "code",
   "execution_count": 16,
   "metadata": {},
   "outputs": [
    {
     "data": {
      "text/html": [
       "<div>\n",
       "<style scoped>\n",
       "    .dataframe tbody tr th:only-of-type {\n",
       "        vertical-align: middle;\n",
       "    }\n",
       "\n",
       "    .dataframe tbody tr th {\n",
       "        vertical-align: top;\n",
       "    }\n",
       "\n",
       "    .dataframe thead th {\n",
       "        text-align: right;\n",
       "    }\n",
       "</style>\n",
       "<table border=\"1\" class=\"dataframe\">\n",
       "  <thead>\n",
       "    <tr style=\"text-align: right;\">\n",
       "      <th></th>\n",
       "      <th>txbb_cut</th>\n",
       "      <th>bdt_cut</th>\n",
       "      <th>s</th>\n",
       "      <th>b</th>\n",
       "      <th>b_vs_s</th>\n",
       "      <th>2*sqrt(B)/S</th>\n",
       "      <th>2*sqrt(B+sigma_B^2)/S</th>\n",
       "      <th>asimov</th>\n",
       "    </tr>\n",
       "  </thead>\n",
       "  <tbody>\n",
       "    <tr>\n",
       "      <th>0</th>\n",
       "      <td>0.95</td>\n",
       "      <td>0.900</td>\n",
       "      <td>1.297166</td>\n",
       "      <td>67.004510</td>\n",
       "      <td>51.654554</td>\n",
       "      <td>12.620792</td>\n",
       "      <td>13.562174</td>\n",
       "      <td>0.157961</td>\n",
       "    </tr>\n",
       "    <tr>\n",
       "      <th>1</th>\n",
       "      <td>0.95</td>\n",
       "      <td>0.905</td>\n",
       "      <td>1.268163</td>\n",
       "      <td>63.297107</td>\n",
       "      <td>49.912457</td>\n",
       "      <td>12.547206</td>\n",
       "      <td>13.478154</td>\n",
       "      <td>0.158870</td>\n",
       "    </tr>\n",
       "    <tr>\n",
       "      <th>2</th>\n",
       "      <td>0.95</td>\n",
       "      <td>0.910</td>\n",
       "      <td>1.238501</td>\n",
       "      <td>59.069101</td>\n",
       "      <td>47.694022</td>\n",
       "      <td>12.411200</td>\n",
       "      <td>13.331489</td>\n",
       "      <td>0.160587</td>\n",
       "    </tr>\n",
       "    <tr>\n",
       "      <th>3</th>\n",
       "      <td>0.95</td>\n",
       "      <td>0.915</td>\n",
       "      <td>1.206988</td>\n",
       "      <td>54.461977</td>\n",
       "      <td>45.122206</td>\n",
       "      <td>12.228512</td>\n",
       "      <td>13.136869</td>\n",
       "      <td>0.162954</td>\n",
       "    </tr>\n",
       "    <tr>\n",
       "      <th>4</th>\n",
       "      <td>0.95</td>\n",
       "      <td>0.920</td>\n",
       "      <td>1.167367</td>\n",
       "      <td>50.693778</td>\n",
       "      <td>43.425737</td>\n",
       "      <td>12.198316</td>\n",
       "      <td>13.102605</td>\n",
       "      <td>0.163334</td>\n",
       "    </tr>\n",
       "    <tr>\n",
       "      <th>...</th>\n",
       "      <td>...</td>\n",
       "      <td>...</td>\n",
       "      <td>...</td>\n",
       "      <td>...</td>\n",
       "      <td>...</td>\n",
       "      <td>...</td>\n",
       "      <td>...</td>\n",
       "      <td>...</td>\n",
       "    </tr>\n",
       "    <tr>\n",
       "      <th>515</th>\n",
       "      <td>1.00</td>\n",
       "      <td>0.975</td>\n",
       "      <td>0.000000</td>\n",
       "      <td>0.000000</td>\n",
       "      <td>NaN</td>\n",
       "      <td>NaN</td>\n",
       "      <td>NaN</td>\n",
       "      <td>NaN</td>\n",
       "    </tr>\n",
       "    <tr>\n",
       "      <th>516</th>\n",
       "      <td>1.00</td>\n",
       "      <td>0.980</td>\n",
       "      <td>0.000000</td>\n",
       "      <td>0.000000</td>\n",
       "      <td>NaN</td>\n",
       "      <td>NaN</td>\n",
       "      <td>NaN</td>\n",
       "      <td>NaN</td>\n",
       "    </tr>\n",
       "    <tr>\n",
       "      <th>517</th>\n",
       "      <td>1.00</td>\n",
       "      <td>0.985</td>\n",
       "      <td>0.000000</td>\n",
       "      <td>0.000000</td>\n",
       "      <td>NaN</td>\n",
       "      <td>NaN</td>\n",
       "      <td>NaN</td>\n",
       "      <td>NaN</td>\n",
       "    </tr>\n",
       "    <tr>\n",
       "      <th>518</th>\n",
       "      <td>1.00</td>\n",
       "      <td>0.990</td>\n",
       "      <td>0.000000</td>\n",
       "      <td>0.000000</td>\n",
       "      <td>NaN</td>\n",
       "      <td>NaN</td>\n",
       "      <td>NaN</td>\n",
       "      <td>NaN</td>\n",
       "    </tr>\n",
       "    <tr>\n",
       "      <th>519</th>\n",
       "      <td>1.00</td>\n",
       "      <td>0.995</td>\n",
       "      <td>0.000000</td>\n",
       "      <td>0.000000</td>\n",
       "      <td>NaN</td>\n",
       "      <td>NaN</td>\n",
       "      <td>NaN</td>\n",
       "      <td>NaN</td>\n",
       "    </tr>\n",
       "  </tbody>\n",
       "</table>\n",
       "<p>520 rows × 8 columns</p>\n",
       "</div>"
      ],
      "text/plain": [
       "     txbb_cut  bdt_cut         s          b     b_vs_s  2*sqrt(B)/S  \\\n",
       "0        0.95    0.900  1.297166  67.004510  51.654554    12.620792   \n",
       "1        0.95    0.905  1.268163  63.297107  49.912457    12.547206   \n",
       "2        0.95    0.910  1.238501  59.069101  47.694022    12.411200   \n",
       "3        0.95    0.915  1.206988  54.461977  45.122206    12.228512   \n",
       "4        0.95    0.920  1.167367  50.693778  43.425737    12.198316   \n",
       "..        ...      ...       ...        ...        ...          ...   \n",
       "515      1.00    0.975  0.000000   0.000000        NaN          NaN   \n",
       "516      1.00    0.980  0.000000   0.000000        NaN          NaN   \n",
       "517      1.00    0.985  0.000000   0.000000        NaN          NaN   \n",
       "518      1.00    0.990  0.000000   0.000000        NaN          NaN   \n",
       "519      1.00    0.995  0.000000   0.000000        NaN          NaN   \n",
       "\n",
       "     2*sqrt(B+sigma_B^2)/S    asimov  \n",
       "0                13.562174  0.157961  \n",
       "1                13.478154  0.158870  \n",
       "2                13.331489  0.160587  \n",
       "3                13.136869  0.162954  \n",
       "4                13.102605  0.163334  \n",
       "..                     ...       ...  \n",
       "515                    NaN       NaN  \n",
       "516                    NaN       NaN  \n",
       "517                    NaN       NaN  \n",
       "518                    NaN       NaN  \n",
       "519                    NaN       NaN  \n",
       "\n",
       "[520 rows x 8 columns]"
      ]
     },
     "execution_count": 16,
     "metadata": {},
     "output_type": "execute_result"
    }
   ],
   "source": [
    "df_billy = pd.DataFrame(\n",
    "    {\n",
    "        \"txbb_cut\": txbb_cut_list,\n",
    "        \"bdt_cut\": bdt_cut_list,\n",
    "        \"s\": s_list,\n",
    "        \"b\": b_list,\n",
    "        \"b_vs_s\": b_vs_s_list,\n",
    "        \"2*sqrt(B)/S\": double_sqrtB_vs_s,\n",
    "        \"2*sqrt(B+sigma_B^2)/S\": double_sqrtBPlusVarB_vs_s,\n",
    "        \"asimov\": asimov,\n",
    "    }\n",
    ")\n",
    "\n",
    "df_billy"
   ]
  },
  {
   "cell_type": "code",
   "execution_count": 17,
   "metadata": {},
   "outputs": [
    {
     "data": {
      "text/plain": [
       "1.2971655887003222"
      ]
     },
     "execution_count": 17,
     "metadata": {},
     "output_type": "execute_result"
    }
   ],
   "source": [
    "df_billy[\"s\"].max()"
   ]
  },
  {
   "cell_type": "code",
   "execution_count": 18,
   "metadata": {},
   "outputs": [],
   "source": [
    "s_greater_0pt6 = df_billy[\"s\"] > 0.6\n",
    "s_greater_0pt7 = df_billy[\"s\"] > 0.7\n",
    "s_greater_1 = df_billy[\"s\"] > 1"
   ]
  },
  {
   "cell_type": "code",
   "execution_count": 19,
   "metadata": {
    "scrolled": true
   },
   "outputs": [
    {
     "data": {
      "text/plain": [
       "txbb_cut                  0.970000\n",
       "bdt_cut                   0.915000\n",
       "s                         1.017023\n",
       "b                        29.944751\n",
       "b_vs_s                   29.443523\n",
       "2*sqrt(B)/S              10.761168\n",
       "2*sqrt(B+sigma_B^2)/S    11.550330\n",
       "asimov                    0.184816\n",
       "Name: 203, dtype: float64"
      ]
     },
     "execution_count": 19,
     "metadata": {},
     "output_type": "execute_result"
    }
   ],
   "source": [
    "best_row_s_greater_1 = df_billy[s_greater_1][\"2*sqrt(B+sigma_B^2)/S\"].argmin()\n",
    "df_billy[s_greater_1].iloc[best_row_s_greater_1]"
   ]
  },
  {
   "cell_type": "code",
   "execution_count": 20,
   "metadata": {},
   "outputs": [
    {
     "data": {
      "text/plain": [
       "txbb_cut                  0.974000\n",
       "bdt_cut                   0.945000\n",
       "s                         0.753345\n",
       "b                        14.481900\n",
       "b_vs_s                   19.223473\n",
       "2*sqrt(B)/S              10.102970\n",
       "2*sqrt(B+sigma_B^2)/S    10.827443\n",
       "asimov                    0.196281\n",
       "Name: 249, dtype: float64"
      ]
     },
     "execution_count": 20,
     "metadata": {},
     "output_type": "execute_result"
    }
   ],
   "source": [
    "best_row_s_greater_0pt7 = df_billy[s_greater_0pt7][\"2*sqrt(B)/S\"].argmin()\n",
    "df_billy[s_greater_0pt7].iloc[best_row_s_greater_0pt7]"
   ]
  },
  {
   "cell_type": "code",
   "execution_count": 21,
   "metadata": {},
   "outputs": [
    {
     "data": {
      "text/plain": [
       "txbb_cut                  0.978000\n",
       "bdt_cut                   0.950000\n",
       "s                         0.643572\n",
       "b                         9.946387\n",
       "b_vs_s                   15.454962\n",
       "2*sqrt(B)/S               9.800884\n",
       "2*sqrt(B+sigma_B^2)/S    10.493749\n",
       "asimov                    0.201920\n",
       "Name: 290, dtype: float64"
      ]
     },
     "execution_count": 21,
     "metadata": {},
     "output_type": "execute_result"
    }
   ],
   "source": [
    "best_row_s_greater_0pt6 = df_billy[s_greater_0pt6][\"2*sqrt(B)/S\"].argmin()\n",
    "df_billy[s_greater_0pt6].iloc[best_row_s_greater_0pt6]"
   ]
  },
  {
   "cell_type": "code",
   "execution_count": 22,
   "metadata": {},
   "outputs": [
    {
     "data": {
      "text/plain": [
       "txbb_cut                 0.994000\n",
       "bdt_cut                  0.990000\n",
       "s                        0.054790\n",
       "b                        0.002766\n",
       "b_vs_s                   0.050478\n",
       "2*sqrt(B)/S              1.919673\n",
       "2*sqrt(B+sigma_B^2)/S    2.714827\n",
       "asimov                   0.489733\n",
       "Name: 458, dtype: float64"
      ]
     },
     "execution_count": 22,
     "metadata": {},
     "output_type": "execute_result"
    }
   ],
   "source": [
    "best_row = df_billy[\"2*sqrt(B)/S\"].argmin()\n",
    "df_billy.iloc[best_row]"
   ]
  },
  {
   "cell_type": "code",
   "execution_count": 24,
   "metadata": {},
   "outputs": [
    {
     "data": {
      "text/plain": [
       "txbb_cut                 0.990000\n",
       "bdt_cut                  0.960000\n",
       "s                        0.318916\n",
       "b                        1.391891\n",
       "b_vs_s                   4.364449\n",
       "2*sqrt(B)/S              7.398725\n",
       "2*sqrt(B+sigma_B^2)/S    7.988777\n",
       "asimov                   0.260870\n",
       "Name: 412, dtype: float64"
      ]
     },
     "execution_count": 24,
     "metadata": {},
     "output_type": "execute_result"
    }
   ],
   "source": [
    "b_greater_1 = df_billy[\"b\"] > 1\n",
    "best_row_b_greater_1 = df_billy[b_greater_1][\"2*sqrt(B)/S\"].argmin()\n",
    "df_billy[b_greater_1].iloc[best_row_b_greater_1]"
   ]
  },
  {
   "cell_type": "code",
   "execution_count": 25,
   "metadata": {},
   "outputs": [
    {
     "data": {
      "text/plain": [
       "txbb_cut                 0.988000\n",
       "bdt_cut                  0.960000\n",
       "s                        0.369107\n",
       "b                        2.195266\n",
       "b_vs_s                   5.947512\n",
       "2*sqrt(B)/S              8.028266\n",
       "2*sqrt(B+sigma_B^2)/S    8.670407\n",
       "asimov                   0.242587\n",
       "Name: 392, dtype: float64"
      ]
     },
     "execution_count": 25,
     "metadata": {},
     "output_type": "execute_result"
    }
   ],
   "source": [
    "b_greater_2 = df_billy[\"b\"] > 2\n",
    "best_row_b_greater_2 = df_billy[b_greater_2][\"2*sqrt(B)/S\"].argmin()\n",
    "df_billy[b_greater_2].iloc[best_row_b_greater_2]"
   ]
  },
  {
   "cell_type": "code",
   "execution_count": 26,
   "metadata": {},
   "outputs": [
    {
     "data": {
      "text/plain": [
       "txbb_cut                 0.988000\n",
       "bdt_cut                  0.950000\n",
       "s                        0.428807\n",
       "b                        3.122548\n",
       "b_vs_s                   7.281937\n",
       "2*sqrt(B)/S              8.241806\n",
       "2*sqrt(B+sigma_B^2)/S    8.858222\n",
       "asimov                   0.237407\n",
       "Name: 390, dtype: float64"
      ]
     },
     "execution_count": 26,
     "metadata": {},
     "output_type": "execute_result"
    }
   ],
   "source": [
    "b_greater_2pt8 = df_billy[\"b\"] > 2.8\n",
    "best_row_b_greater_2pt8 = df_billy[b_greater_2pt8][\"2*sqrt(B)/S\"].argmin()\n",
    "df_billy[b_greater_2pt8].iloc[best_row_b_greater_2pt8]"
   ]
  },
  {
   "cell_type": "code",
   "execution_count": 11,
   "metadata": {},
   "outputs": [
    {
     "name": "stdout",
     "output_type": "stream",
     "text": [
      "0.3456375263338129\n",
      "1.9341606302405638\n",
      "{'data': [5.0, 10.0, 308849.0, 1932472.0],\n",
      " 'gghtobb': [0.08909892492511226,\n",
      "             0.06149747496262502,\n",
      "             41.54549065304297,\n",
      "             245.85426839043004],\n",
      " 'ttbar': [0.8107525481447151,\n",
      "           2.800376876561667,\n",
      "           16303.09656374311,\n",
      "           107041.71773143728],\n",
      " 'vhtobb': [0.0911000119421361,\n",
      "            1.2528814953534342,\n",
      "            6.391645754069161,\n",
      "            115.24300076740114]}\n"
     ]
    }
   ],
   "source": [
    "import pprint\n",
    "\n",
    "print(s)\n",
    "print(tot)\n",
    "pprint.pprint(dicts)"
   ]
  },
  {
   "cell_type": "markdown",
   "metadata": {},
   "source": [
    "## Old stuff:"
   ]
  },
  {
   "cell_type": "code",
   "execution_count": null,
   "metadata": {},
   "outputs": [],
   "source": [
    "sig_samples = {\"hh4b\": samples[year][\"hh4b\"]}"
   ]
  },
  {
   "cell_type": "code",
   "execution_count": null,
   "metadata": {},
   "outputs": [],
   "source": [
    "events = pd.read_parquet(\n",
    "    Path(data_dir) / \"2022EE\" / \"GluGlutoHHto4B_kl-1p00_kt-1p00_c2-0p00_TuneCP5_13p6TeV\" / \"parquet\"\n",
    ")"
   ]
  },
  {
   "cell_type": "code",
   "execution_count": null,
   "metadata": {},
   "outputs": [],
   "source": [
    "samples = [\"qcd\", \"ttbar\"]\n",
    "mass = \"bbFatJetMsd\"\n",
    "tagger = \"bbFatJetPNetTXbbLegacy\"\n",
    "i = 1\n",
    "\n",
    "for sample in samples:\n",
    "    plt.figure(figsize=(10, 10))\n",
    "    plt.title(sample)\n",
    "    for cut in [0, 0.8, 0.9, 0.95]:\n",
    "        cut_mask = events_dict[sample][tagger][i] >= cut\n",
    "        plt.hist(\n",
    "            events_dict[sample][mass][i][cut_mask],\n",
    "            np.arange(60, 251, 10),\n",
    "            weights=events_dict[sample][\"finalWeight\"][cut_mask],\n",
    "            histtype=\"step\",\n",
    "            label=rf\"$T_{{Xbb}} \\geq {cut}$\",\n",
    "            density=True,\n",
    "        )\n",
    "\n",
    "    plt.xlabel(f\"Jet {i+1} {mass} (GeV)\")\n",
    "    plt.legend()\n",
    "    plt.savefig(plot_dir / f\"{sample}_{mass}{i}_{tagger}_sculpting.pdf\", bbox_inches=\"tight\")\n",
    "    plt.show()"
   ]
  },
  {
   "cell_type": "markdown",
   "metadata": {},
   "source": [
    "## BDT ROC Curve"
   ]
  },
  {
   "cell_type": "markdown",
   "metadata": {},
   "source": [
    "## tt ROC curve"
   ]
  },
  {
   "cell_type": "code",
   "execution_count": null,
   "metadata": {},
   "outputs": [],
   "source": [
    "jet = 1\n",
    "tagger = \"bbFatJetPNetTXbbLegacy\"\n",
    "sig_jets_score = events_dict[\"hh4b\"][tagger][jet]\n",
    "bg_jets_score = {\n",
    "    \"qcd\": events_dict[\"qcd\"][tagger][jet],\n",
    "    \"ttbar\": events_dict[\"ttbar\"][tagger][jet],\n",
    "}"
   ]
  },
  {
   "cell_type": "code",
   "execution_count": null,
   "metadata": {},
   "outputs": [],
   "source": [
    "from sklearn.metrics import roc_curve\n",
    "\n",
    "bg_skip = 1\n",
    "sig_key = \"hh4b\"\n",
    "weight_key = \"finalWeight\"\n",
    "rocs = {}\n",
    "\n",
    "for bg_key in [\"qcd\", \"ttbar\"]:\n",
    "    print(bg_key)\n",
    "    y_true = np.concatenate(\n",
    "        [\n",
    "            np.ones(len(sig_jets_score)),\n",
    "            np.zeros((len(bg_jets_score[bg_key]) - 1) // bg_skip + 1),\n",
    "        ]\n",
    "    )\n",
    "\n",
    "    weights = np.concatenate(\n",
    "        [\n",
    "            events_dict[sig_key][weight_key].to_numpy(),\n",
    "            events_dict[bg_key][weight_key].to_numpy()[::bg_skip],\n",
    "        ]\n",
    "    )\n",
    "\n",
    "    scores = np.concatenate((sig_jets_score, bg_jets_score[bg_key][::bg_skip]))\n",
    "\n",
    "    fpr, tpr, thresholds = roc_curve(y_true, scores, sample_weight=weights)\n",
    "\n",
    "    rocs[bg_key] = {\n",
    "        \"fpr\": fpr,\n",
    "        \"tpr\": tpr,\n",
    "        \"thresholds\": thresholds,\n",
    "        \"label\": plotting.label_by_sample[bg_key],\n",
    "    }"
   ]
  },
  {
   "cell_type": "code",
   "execution_count": null,
   "metadata": {},
   "outputs": [],
   "source": [
    "def find_nearest(array, value):\n",
    "    array = np.asarray(array)\n",
    "    idx = (np.abs(array - value)).argmin()\n",
    "    return idx"
   ]
  },
  {
   "cell_type": "code",
   "execution_count": null,
   "metadata": {},
   "outputs": [],
   "source": [
    "plotting.multiROCCurveGrey(\n",
    "    {\"test\": rocs},\n",
    "    [0.2, 0.5],\n",
    "    xlim=[0, 0.8],\n",
    "    ylim=[1e-5, 1],\n",
    "    plot_dir=plot_dir,\n",
    "    name=f\"{tagger}_ROCs\",\n",
    "    show=True,\n",
    ")"
   ]
  },
  {
   "cell_type": "code",
   "execution_count": null,
   "metadata": {},
   "outputs": [],
   "source": []
  }
 ],
 "metadata": {
  "kernelspec": {
   "display_name": "Python 3 (ipykernel)",
   "language": "python",
   "name": "python3"
  },
  "language_info": {
   "codemirror_mode": {
    "name": "ipython",
    "version": 3
   },
   "file_extension": ".py",
   "mimetype": "text/x-python",
   "name": "python",
   "nbconvert_exporter": "python",
   "pygments_lexer": "ipython3",
   "version": "3.9.18"
  }
 },
 "nbformat": 4,
 "nbformat_minor": 4
}
