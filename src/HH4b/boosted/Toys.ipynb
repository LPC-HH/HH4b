{
 "cells": [
  {
   "cell_type": "code",
   "execution_count": null,
   "metadata": {},
   "outputs": [],
   "source": [
    "import numpy as np\n",
    "from HH4b import utils\n",
    "from HH4b.postprocessing import load_columns_legacy\n",
    "import xgboost as xgb\n",
    "import importlib\n",
    "import hist\n",
    "\n",
    "import mplhep as hep\n",
    "import matplotlib.ticker as mticker\n",
    "import matplotlib.pyplot as plt\n",
    "from matplotlib.lines import Line2D\n",
    "\n",
    "formatter = mticker.ScalarFormatter(useMathText=True)\n",
    "formatter.set_powerlimits((-3, 3))\n",
    "plt.rcParams.update({\"font.size\": 12})\n",
    "plt.rcParams[\"lines.linewidth\"] = 2\n",
    "plt.rcParams[\"grid.color\"] = \"#CCCCCC\"\n",
    "plt.rcParams[\"grid.linewidth\"] = 0.5\n",
    "plt.rcParams[\"figure.edgecolor\"] = \"none\""
   ]
  },
  {
   "cell_type": "markdown",
   "metadata": {},
   "source": [
    "## Toys for optimization test"
   ]
  },
  {
   "cell_type": "markdown",
   "metadata": {},
   "source": [
    "Load data events"
   ]
  },
  {
   "cell_type": "code",
   "execution_count": null,
   "metadata": {},
   "outputs": [],
   "source": [
    "samples_run3 = {\n",
    "    \"2022EE\": {\n",
    "        \"data\": [\"JetMET_Run\"],\n",
    "        \"hh4b\": [\"GluGlutoHHto4B_kl-1p00_kt-1p00_c2-0p00_TuneCP5_13p6TeV\"],\n",
    "    },\n",
    "}\n",
    "data_dir = \"24Apr23LegacyLowerThresholds_v12_private_signal\"\n",
    "input_dir = f\"/eos/uscms/store/user/cmantill/bbbb/skimmer/{data_dir}\"\n",
    "year = \"2022EE\"\n",
    "\n",
    "events_dict = utils.load_samples(\n",
    "    input_dir,\n",
    "    samples_run3[year],\n",
    "    year,\n",
    "    filters=None,\n",
    "    columns=utils.format_columns(\n",
    "        load_columns_legacy + [(\"AK8PFJet250_SoftDropMass40_PFAK8ParticleNetBB0p35\", 1)]\n",
    "    ),\n",
    "    reorder_txbb=True,\n",
    "    txbb=\"bbFatJetPNetTXbbLegacy\",\n",
    "    variations=False,\n",
    ")"
   ]
  },
  {
   "cell_type": "markdown",
   "metadata": {},
   "source": [
    "Get dataframe"
   ]
  },
  {
   "cell_type": "code",
   "execution_count": null,
   "metadata": {},
   "outputs": [],
   "source": [
    "bdt_config = \"24Apr20_legacy_fix\"\n",
    "bdt_model_name = \"24Apr20_legacy_fix\"\n",
    "bdt_model = xgb.XGBClassifier()\n",
    "bdt_model.load_model(fname=f\"../boosted/bdt_trainings_run3/{bdt_model_name}/trained_bdt.model\")\n",
    "make_bdt_dataframe = importlib.import_module(\n",
    "    f\".{bdt_config}\", package=\"HH4b.boosted.bdt_trainings_run3\"\n",
    ")\n",
    "\n",
    "HLTs = {\n",
    "    \"2022EE\": [\n",
    "        \"AK8PFJet250_SoftDropMass40_PFAK8ParticleNetBB0p35\",\n",
    "    ],\n",
    "}\n",
    "\n",
    "legacy_label = \"Legacy\"\n",
    "bdt_events_dict = {}\n",
    "for key in events_dict:\n",
    "    events = events_dict[key]\n",
    "    bdt_events = make_bdt_dataframe.bdt_dataframe(events)\n",
    "    preds = bdt_model.predict_proba(bdt_events)\n",
    "    # inference\n",
    "    bdt_events[\"bdt_score\"] = preds[:, 0]\n",
    "\n",
    "    bdt_events[\"H2PNetMass\"] = events[f\"bbFatJetPNetMassLegacy\"][1]\n",
    "    bdt_events[\"H1Msd\"] = events[\"bbFatJetMsd\"][0]\n",
    "    bdt_events[\"H1TXbb\"] = events[f\"bbFatJetPNetTXbb{legacy_label}\"][0]\n",
    "    bdt_events[\"H2TXbb\"] = events[f\"bbFatJetPNetTXbb{legacy_label}\"][1]\n",
    "\n",
    "    bdt_events[\"weight\"] = events[\"finalWeight\"].to_numpy()\n",
    "    bdt_events[\"hlt\"] = np.any(\n",
    "        np.array([events[trigger][0] for trigger in HLTs[year] if trigger in events]),\n",
    "        axis=0,\n",
    "    )\n",
    "    mask_hlt = bdt_events[\"hlt\"] == 1\n",
    "\n",
    "    mask_presel = (\n",
    "        (bdt_events[\"H1Msd\"] > 30)\n",
    "        & (bdt_events[\"H1Pt\"] > 300)\n",
    "        & (bdt_events[\"H2Pt\"] > 300)\n",
    "        & (bdt_events[\"H1TXbb\"] > 0.8)\n",
    "    )\n",
    "\n",
    "    mask_mass = (bdt_events[\"H2PNetMass\"] > 50) & (bdt_events[\"H2PNetMass\"] < 250)\n",
    "    bdt_events = bdt_events[(mask_mass) & (mask_hlt) & (mask_presel)]\n",
    "\n",
    "    columns = [\"bdt_score\", \"H2TXbb\", \"H2PNetMass\", \"weight\"]\n",
    "    bdt_events_dict[key] = bdt_events[columns]"
   ]
  },
  {
   "cell_type": "code",
   "execution_count": null,
   "metadata": {},
   "outputs": [],
   "source": [
    "mass_axis = hist.axis.Regular(20, 50, 250, name=\"mass\")\n",
    "bdt_axis = hist.axis.Regular(60, 0, 1, name=\"bdt\")\n",
    "diff_axis = hist.axis.Regular(100, -2, 2, name=\"diff\")\n",
    "cut_axis = hist.axis.StrCategory([], name=\"cut\", growth=True)"
   ]
  },
  {
   "cell_type": "code",
   "execution_count": null,
   "metadata": {},
   "outputs": [],
   "source": [
    "xbb_cut = 0.95\n",
    "bdt_events_data = bdt_events_dict[\"data\"][bdt_events_dict[\"data\"][\"H2TXbb\"] > xbb_cut]\n",
    "bdt_events_sig = bdt_events_dict[\"hh4b\"][bdt_events_dict[\"hh4b\"][\"H2TXbb\"] > xbb_cut]"
   ]
  },
  {
   "cell_type": "markdown",
   "metadata": {},
   "source": [
    "Now look at signal"
   ]
  },
  {
   "cell_type": "code",
   "execution_count": null,
   "metadata": {},
   "outputs": [],
   "source": [
    "h_mass_sig = hist.Hist(mass_axis)\n",
    "h_mass_sig.fill(bdt_events_sig[\"H2PNetMass\"], weight=bdt_events_sig[\"weight\"])\n",
    "h_mass_sig"
   ]
  },
  {
   "cell_type": "code",
   "execution_count": null,
   "metadata": {},
   "outputs": [],
   "source": [
    "h_bdt_sig = hist.Hist(bdt_axis)\n",
    "h_bdt_sig.fill(bdt_events_sig[\"bdt_score\"], weight=bdt_events_sig[\"weight\"])\n",
    "h_bdt_sig"
   ]
  },
  {
   "cell_type": "code",
   "execution_count": null,
   "metadata": {},
   "outputs": [],
   "source": [
    "def get_nevents_data(events, cut, mass, mass_window):\n",
    "    mw_size = mass_window[1] - mass_window[0]\n",
    "\n",
    "    # get yield in left sideband (half the size of the mass window)\n",
    "    cut_mass_0 = (events[mass] < mass_window[0]) & (events[mass] > (mass_window[0] - mw_size / 2))\n",
    "\n",
    "    # get yield in right sideband (half the size of the mass window)\n",
    "    cut_mass_1 = (events[mass] < mass_window[1] + mw_size / 2) & (events[mass] > mass_window[1])\n",
    "\n",
    "    return np.sum((cut_mass_0 | cut_mass_1) & cut)\n",
    "\n",
    "\n",
    "def get_nevents_signal(events, cut, mass, mass_window):\n",
    "    cut_mass = (events[mass] >= mass_window[0]) & (events[mass] <= mass_window[1])\n",
    "\n",
    "    # get yield in Higgs mass window\n",
    "    return np.sum(events[\"weight\"][cut & cut_mass])"
   ]
  },
  {
   "cell_type": "code",
   "execution_count": null,
   "metadata": {},
   "outputs": [],
   "source": [
    "all_bdt_cuts = 0.01 * np.arange(0, 100)\n",
    "all_bdt_cuts"
   ]
  },
  {
   "cell_type": "markdown",
   "metadata": {},
   "source": [
    "Check how big the signal should be before the cut"
   ]
  },
  {
   "cell_type": "code",
   "execution_count": null,
   "metadata": {},
   "outputs": [],
   "source": [
    "mass_window = [110, 140]\n",
    "scale_signal_by_bdt_cut = {}\n",
    "expected_soverb_by_bdt_cut = {}\n",
    "\n",
    "for bdt_cut in all_bdt_cuts:\n",
    "    nevents_data = get_nevents_data(\n",
    "        bdt_events_data,\n",
    "        (bdt_events_data[\"bdt_score\"] >= bdt_cut),\n",
    "        \"H2PNetMass\",\n",
    "        mass_window,\n",
    "    )\n",
    "    nevents_signal = get_nevents_signal(\n",
    "        bdt_events_sig,\n",
    "        (bdt_events_sig[\"bdt_score\"] >= bdt_cut),\n",
    "        \"H2PNetMass\",\n",
    "        mass_window,\n",
    "    )\n",
    "    # print(nevents_data, nevents_signal, nevents_signal/np.sqrt(nevents_data))\n",
    "    figure_of_merit = 0\n",
    "    # for scale_signal in range(10, 100):\n",
    "    for scale_signal in range(10, 1000):\n",
    "        nev_signal = nevents_signal * scale_signal\n",
    "        figure_of_merit = nev_signal / np.sqrt(nev_signal + nevents_data)\n",
    "        if figure_of_merit > 3:\n",
    "            # print(scale_signal)\n",
    "            # print(\"S / sqrt(B) \", figure_of_merit)\n",
    "            figure_of_merit_limit = 2 * np.sqrt(nevents_data) / nev_signal\n",
    "            # print(\"2sqrt(b)/s \", figure_of_merit_limit)\n",
    "            scale_signal_by_bdt_cut[bdt_cut] = scale_signal\n",
    "            expected_soverb_by_bdt_cut[bdt_cut] = figure_of_merit\n",
    "            break\n",
    "\n",
    "for bdt_cut in all_bdt_cuts:\n",
    "    print(\n",
    "        f\"BDT > {bdt_cut}, scale hh4b by {scale_signal_by_bdt_cut[bdt_cut]}: {expected_soverb_by_bdt_cut[bdt_cut]:.2f}\"\n",
    "    )"
   ]
  },
  {
   "cell_type": "code",
   "execution_count": null,
   "metadata": {},
   "outputs": [],
   "source": [
    "x = all_bdt_cuts.copy()\n",
    "y = scale_signal_by_bdt_cut.values()"
   ]
  },
  {
   "cell_type": "code",
   "execution_count": null,
   "metadata": {},
   "outputs": [],
   "source": [
    "fig, ax = plt.subplots(1, 1, figsize=(6, 5))\n",
    "ax.scatter(x, y, label=\"Xbb > 0.8\")\n",
    "ax.scatter(all_bdt_cuts.copy(), scale_signal_by_bdt_cut.values(), label=\"Xbb > 0.95\")\n",
    "ax.set_xlabel(\"BDT cut\")\n",
    "ax.set_ylabel(\"k-factor\")\n",
    "ax.legend()"
   ]
  },
  {
   "cell_type": "code",
   "execution_count": null,
   "metadata": {},
   "outputs": [],
   "source": [
    "scale_signal_by_bdt_cut"
   ]
  },
  {
   "cell_type": "markdown",
   "metadata": {},
   "source": [
    "Let's choose 3"
   ]
  },
  {
   "cell_type": "code",
   "execution_count": null,
   "metadata": {},
   "outputs": [],
   "source": [
    "signal_mass = bdt_events_sig[\"H2PNetMass\"]\n",
    "signal_mass"
   ]
  },
  {
   "cell_type": "code",
   "execution_count": null,
   "metadata": {},
   "outputs": [],
   "source": [
    "fig, ax = plt.subplots(1, 1, figsize=(6, 5))\n",
    "hep.histplot((h_mass_sig * scale_signal_by_bdt_cut[0.9]))"
   ]
  },
  {
   "cell_type": "markdown",
   "metadata": {},
   "source": [
    "Create a toy\n",
    "- Construct a CDF: cumulative density function\n",
    "- Choose based on a uniform random number"
   ]
  },
  {
   "cell_type": "code",
   "execution_count": null,
   "metadata": {},
   "outputs": [],
   "source": [
    "h_mass = hist.Hist(mass_axis)\n",
    "h_mass.fill(bdt_events_data[\"H2PNetMass\"])\n",
    "\n",
    "# https://stackoverflow.com/questions/17821458/random-number-from-histogram/17822210#17822210\n",
    "h, bins = h_mass.to_numpy()\n",
    "integral = int(np.sum(h_mass.values()))\n",
    "\n",
    "fig, ax = plt.subplots(1, 1, figsize=(6, 5))\n",
    "hep.histplot(h_mass, ax=ax, label=\"Data\", histtype=\"errorbar\", color=\"k\", capsize=1, yerr=True)\n",
    "\n",
    "for i in range(1):\n",
    "    h_mass_toy = hist.Hist(mass_axis)\n",
    "    bin_midpoints = bins[:-1] + np.diff(bins) / 2\n",
    "    cdf = np.cumsum(h)\n",
    "    cdf = cdf / cdf[-1]\n",
    "    values = np.random.rand(integral)\n",
    "    value_bins = np.searchsorted(cdf, values)\n",
    "    random_from_cdf = bin_midpoints[value_bins]\n",
    "    h_mass_toy.fill(random_from_cdf)\n",
    "\n",
    "    hep.histplot(h_mass_toy, ax=ax, label=\"Toy\")\n",
    "\n",
    "    hep.histplot(\n",
    "        h_mass_toy + h_mass_sig * scale_signal_by_bdt_cut[0.9],\n",
    "        ax=ax,\n",
    "        label=r\"Toy+Signal$\\times$\" + f\"{scale_signal_by_bdt_cut[0.9]}\",\n",
    "    )\n",
    "\n",
    "    # print(len(bdt_events[\"H2PNetMass\"]))\n",
    "    # print(np.sum(h_mass.values()))\n",
    "    # print(np.sum(h_mass_toy.values()))\n",
    "\n",
    "\n",
    "ax.legend(title=f\"Xbb > {xbb_cut}\")"
   ]
  },
  {
   "cell_type": "markdown",
   "metadata": {},
   "source": [
    "Cross check data sensitivity"
   ]
  },
  {
   "cell_type": "code",
   "execution_count": null,
   "metadata": {},
   "outputs": [],
   "source": [
    "mass_window = [110, 140]\n",
    "scale_signal_by_bdt_cut = {}\n",
    "expected_soverb_by_bdt_cut = {}\n",
    "\n",
    "for bdt_cut in [0.9]:\n",
    "    nevents_data = get_nevents_data(\n",
    "        bdt_events_data,\n",
    "        (bdt_events_data[\"bdt_score\"] >= bdt_cut),\n",
    "        \"H2PNetMass\",\n",
    "        mass_window,\n",
    "    )\n",
    "    nevents_signal = get_nevents_signal(\n",
    "        bdt_events_sig,\n",
    "        (bdt_events_sig[\"bdt_score\"] >= bdt_cut),\n",
    "        \"H2PNetMass\",\n",
    "        mass_window,\n",
    "    )\n",
    "    # print(nevents_data, nevents_signal, nevents_signal/np.sqrt(nevents_data))\n",
    "    figure_of_merit = 0\n",
    "    print(\"data \", nevents_data)\n",
    "    print(\"sig \", nevents_signal)\n",
    "    print(\"s/sqrt(s+b)\", nevents_signal / np.sqrt(nevents_data + nevents_signal))\n",
    "    # for scale_signal in range(10, 100):\n",
    "    for scale_signal in range(10, 1000):\n",
    "        nev_signal = nevents_signal * scale_signal\n",
    "        figure_of_merit = nev_signal / np.sqrt(nevents_data + nev_signal)\n",
    "        if figure_of_merit > 3:\n",
    "            # print(scale_signal)\n",
    "            # print(\"S / sqrt(B) \", figure_of_merit)\n",
    "            figure_of_merit_limit = 2 * np.sqrt(nevents_data) / nev_signal\n",
    "            # print(\"2sqrt(b)/s \", figure_of_merit_limit)\n",
    "            scale_signal_by_bdt_cut[bdt_cut] = scale_signal\n",
    "            expected_soverb_by_bdt_cut[bdt_cut] = figure_of_merit\n",
    "            print(nev_signal)\n",
    "            break\n",
    "\n",
    "for bdt_cut in [0.9]:\n",
    "    print(\n",
    "        f\"BDT > {bdt_cut}, scale hh4b by {scale_signal_by_bdt_cut[bdt_cut]}: {expected_soverb_by_bdt_cut[bdt_cut]:.2f}\"\n",
    "    )\n",
    "\n",
    "mass_toy = np.concatenate([bdt_events_data[\"H2PNetMass\"], bdt_events_sig[\"H2PNetMass\"]])\n",
    "bdt_toy = np.concatenate([bdt_events_data[\"bdt_score\"], bdt_events_sig[\"bdt_score\"]])\n",
    "weight_toy = np.concatenate(\n",
    "    [bdt_events_data[\"weight\"], bdt_events_sig[\"weight\"] * scale_signal_by_bdt_cut[bdt_cut]]\n",
    ")\n",
    "\n",
    "bdt_cut = 0.9\n",
    "mw_size = mass_window[1] - mass_window[0]\n",
    "\n",
    "mask_bdt_cut = bdt_toy >= bdt_cut\n",
    "cut_mass_0 = (mass_toy < mass_window[0]) & (mass_toy > (mass_window[0] - mw_size / 2))\n",
    "cut_mass_1 = (mass_toy < mass_window[1] + mw_size / 2) & (mass_toy > mass_window[1])\n",
    "\n",
    "nevents_data_bdt_cut = int(np.sum(weight_toy[(cut_mass_0 | cut_mass_1) & mask_bdt_cut]))\n",
    "print(int(nevents_data_bdt_cut))\n",
    "\n",
    "cut_mass = (bdt_events_sig[\"H2PNetMass\"] >= mass_window[0]) & (\n",
    "    bdt_events_sig[\"H2PNetMass\"] <= mass_window[1]\n",
    ")\n",
    "\n",
    "mask_bdt_cut = bdt_events_sig[\"bdt_score\"] > bdt_cut\n",
    "nevents_sig_bdt_cut = (\n",
    "    np.sum(bdt_events_sig[\"weight\"][(cut_mass) & mask_bdt_cut]) * scale_signal_by_bdt_cut[bdt_cut]\n",
    ")\n",
    "print(nevents_sig_bdt_cut)\n",
    "\n",
    "s_over_b = nevents_sig_bdt_cut / np.sqrt(nevents_data_bdt_cut + nevents_sig_bdt_cut)\n",
    "fom_limit = 2 * np.sqrt(nevents_data_bdt_cut) / nevents_sig_bdt_cut\n",
    "print(\"S / sqrt(B) \", s_over_b)\n",
    "print(\"2sqrt(b)/s \", fom_limit)"
   ]
  },
  {
   "cell_type": "code",
   "execution_count": null,
   "metadata": {},
   "outputs": [],
   "source": [
    "xbb_cut"
   ]
  },
  {
   "cell_type": "markdown",
   "metadata": {},
   "source": [
    "Now let's add a bdt cut to the toy"
   ]
  },
  {
   "cell_type": "code",
   "execution_count": null,
   "metadata": {},
   "outputs": [],
   "source": [
    "print(random_from_cdf)\n",
    "print(bdt_events_data[\"H2PNetMass\"])\n",
    "bdt_events_data[\"bdt_score\"]"
   ]
  },
  {
   "cell_type": "code",
   "execution_count": null,
   "metadata": {},
   "outputs": [],
   "source": [
    "h_corr = hist.Hist(mass_axis, bdt_axis)\n",
    "h_corr.fill(bdt_events_sig[\"H2PNetMass\"], bdt_events_sig[\"bdt_score\"])\n",
    "h_corr.plot2d()"
   ]
  },
  {
   "cell_type": "code",
   "execution_count": null,
   "metadata": {},
   "outputs": [],
   "source": [
    "h_corr = hist.Hist(mass_axis, bdt_axis)\n",
    "h_corr.fill(random_from_cdf, bdt_events_data[\"bdt_score\"])\n",
    "h_corr.plot2d()"
   ]
  },
  {
   "cell_type": "code",
   "execution_count": null,
   "metadata": {},
   "outputs": [],
   "source": [
    "random_from_cdf[bdt_events_data[\"bdt_score\"] > 0.92]"
   ]
  },
  {
   "cell_type": "code",
   "execution_count": null,
   "metadata": {},
   "outputs": [],
   "source": [
    "bdt_events_data[\"H2PNetMass\"][bdt_events_data[\"bdt_score\"] > 0.9]"
   ]
  },
  {
   "cell_type": "code",
   "execution_count": null,
   "metadata": {},
   "outputs": [],
   "source": [
    "mass_toy = np.concatenate([random_from_cdf, bdt_events_sig[\"H2PNetMass\"]])\n",
    "bdt_toy = np.concatenate([bdt_events_data[\"bdt_score\"], bdt_events_sig[\"bdt_score\"]])\n",
    "weight_toy = np.concatenate([bdt_events_data[\"weight\"], bdt_events_sig[\"weight\"]])\n",
    "\n",
    "bdt_cut = 0.1\n",
    "h_mass_bdtcut = hist.Hist(mass_axis)\n",
    "h_mass_bdtcut.fill(mass_toy[bdt_toy > bdt_cut], weight=weight_toy[bdt_toy > bdt_cut])"
   ]
  },
  {
   "cell_type": "code",
   "execution_count": null,
   "metadata": {},
   "outputs": [],
   "source": [
    "mass_toy = np.concatenate([random_from_cdf, bdt_events_sig[\"H2PNetMass\"]])\n",
    "bdt_toy = np.concatenate([bdt_events_data[\"bdt_score\"], bdt_events_sig[\"bdt_score\"]])\n",
    "weight_toy = np.concatenate([bdt_events_data[\"weight\"], bdt_events_sig[\"weight\"] * nev_signal])\n",
    "\n",
    "bdt_cut = 0.1\n",
    "mask_bdt_cut = bdt_toy > bdt_cut\n",
    "h_mass_bdtcut = hist.Hist(mass_axis)\n",
    "h_mass_bdtcut.fill(mass_toy[mask_bdt_cut], weight=weight_toy[mask_bdt_cut])"
   ]
  },
  {
   "cell_type": "code",
   "execution_count": null,
   "metadata": {},
   "outputs": [],
   "source": [
    "h_mass_bdtcut.values()"
   ]
  },
  {
   "cell_type": "code",
   "execution_count": null,
   "metadata": {},
   "outputs": [],
   "source": [
    "h, bins = h_mass_bdtcut.to_numpy()\n",
    "bins"
   ]
  },
  {
   "cell_type": "code",
   "execution_count": null,
   "metadata": {},
   "outputs": [],
   "source": [
    "np.sum(h_mass_bdtcut[6:9].values())"
   ]
  },
  {
   "cell_type": "code",
   "execution_count": null,
   "metadata": {},
   "outputs": [],
   "source": [
    "mass_window = [110, 140]\n",
    "mw_size = mass_window[1] - mass_window[0]\n",
    "\n",
    "bdt_cut = 0.98\n",
    "mask_bdt_cut = bdt_toy > bdt_cut\n",
    "cut_mass_0 = (mass_toy < mass_window[0]) & (mass_toy > (mass_window[0] - mw_size / 2))\n",
    "cut_mass_1 = (mass_toy < mass_window[1] + mw_size / 2) & (mass_toy > mass_window[1])\n",
    "\n",
    "nevents_data_bdt_cut = np.sum(weight_toy[(cut_mass_0 | cut_mass_1) & mask_bdt_cut])\n",
    "print(nevents_data_bdt_cut)\n",
    "\n",
    "cut_mass = (bdt_events_sig[\"H2PNetMass\"] >= mass_window[0]) & (\n",
    "    bdt_events_sig[\"H2PNetMass\"] <= mass_window[1]\n",
    ")\n",
    "\n",
    "mask_bdt_cut = bdt_events_sig[\"bdt_score\"] > bdt_cut\n",
    "nevents_sig_bdt_cut = np.sum(bdt_events_sig[\"weight\"][(cut_mass) & mask_bdt_cut]) * nev_signal\n",
    "print(nevents_sig_bdt_cut)\n",
    "\n",
    "s_over_b = nevents_sig_bdt_cut / np.sqrt(nevents_data_bdt_cut)\n",
    "fom_limit = 2 * np.sqrt(nevents_data_bdt_cut) / nevents_sig_bdt_cut\n",
    "print(\"S / sqrt(B) \", s_over_b)\n",
    "print(\"2sqrt(b)/s \", fom_limit)"
   ]
  },
  {
   "cell_type": "markdown",
   "metadata": {},
   "source": [
    "Scale up"
   ]
  },
  {
   "cell_type": "code",
   "execution_count": null,
   "metadata": {},
   "outputs": [],
   "source": [
    "mass_window = [110, 140]\n",
    "mw_size = mass_window[1] - mass_window[0]\n",
    "bdt_cuts = [0.7, 0.75, 0.8, 0.85, 0.9, 0.95]\n",
    "\n",
    "h_pull = hist.Hist(diff_axis, cut_axis)\n",
    "for xbb_cut in [0.8, 0.85, 0.9, 0.95]:\n",
    "\n",
    "    bdt_events_data = bdt_events_dict[\"data\"][bdt_events_dict[\"data\"][\"H2TXbb\"] > xbb_cut]\n",
    "    bdt_events_sig = bdt_events_dict[\"hh4b\"][bdt_events_dict[\"hh4b\"][\"H2TXbb\"] > xbb_cut]\n",
    "\n",
    "    # compute k-factor\n",
    "    scale_signal_by_bdt_cut = {}\n",
    "    expected_soverb_by_bdt_cut = {}\n",
    "\n",
    "    for bdt_cut in bdt_cuts:\n",
    "        nevents_data = get_nevents_data(\n",
    "            bdt_events_data,\n",
    "            (bdt_events_data[\"bdt_score\"] >= bdt_cut),\n",
    "            \"H2PNetMass\",\n",
    "            mass_window,\n",
    "        )\n",
    "        nevents_signal = get_nevents_signal(\n",
    "            bdt_events_sig,\n",
    "            (bdt_events_sig[\"bdt_score\"] >= bdt_cut),\n",
    "            \"H2PNetMass\",\n",
    "            mass_window,\n",
    "        )\n",
    "        # print(nevents_data, nevents_signal, nevents_signal/np.sqrt(nevents_data))\n",
    "        figure_of_merit = 0\n",
    "        for scale_signal in range(10, 1000):\n",
    "            nev_signal = nevents_signal * scale_signal\n",
    "            figure_of_merit = nev_signal / np.sqrt(nevents_data + nev_signal)\n",
    "            if figure_of_merit > 3:\n",
    "                # print(scale_signal)\n",
    "                # print(\"S / sqrt(B) \", figure_of_merit)\n",
    "                figure_of_merit_limit = 2 * np.sqrt(nevents_data) / nev_signal\n",
    "                # print(\"2sqrt(b)/s \", figure_of_merit_limit)\n",
    "                scale_signal_by_bdt_cut[bdt_cut] = scale_signal\n",
    "                expected_soverb_by_bdt_cut[bdt_cut] = figure_of_merit\n",
    "                # print(nev_signal)\n",
    "                break\n",
    "\n",
    "    h_mass = hist.Hist(mass_axis)\n",
    "    h_mass.fill(bdt_events_data[\"H2PNetMass\"])\n",
    "    h, bins = h_mass.to_numpy()\n",
    "    integral = int(np.sum(h_mass.values()))\n",
    "\n",
    "    for toy in range(250):\n",
    "        h_mass_toy = hist.Hist(mass_axis)\n",
    "        bin_midpoints = bins[:-1] + np.diff(bins) / 2\n",
    "        cdf = np.cumsum(h)\n",
    "        cdf = cdf / cdf[-1]\n",
    "        values = np.random.rand(integral)\n",
    "        value_bins = np.searchsorted(cdf, values)\n",
    "        random_from_cdf = bin_midpoints[value_bins]\n",
    "\n",
    "        mass_toy = np.concatenate([random_from_cdf, bdt_events_sig[\"H2PNetMass\"]])\n",
    "        bdt_toy = np.concatenate([bdt_events_data[\"bdt_score\"], bdt_events_sig[\"bdt_score\"]])\n",
    "\n",
    "        min_fom = 1000\n",
    "        max_fom = 0\n",
    "        min_nevents = []\n",
    "        cuts = []\n",
    "        figure_of_merits = []\n",
    "        for bdt_cut in bdt_cuts:\n",
    "            weight_toy = np.concatenate(\n",
    "                [\n",
    "                    bdt_events_data[\"weight\"],\n",
    "                    bdt_events_sig[\"weight\"] * scale_signal_by_bdt_cut[bdt_cut],\n",
    "                ]\n",
    "            )\n",
    "\n",
    "            mask_bdt_cut = bdt_toy > bdt_cut\n",
    "            cut_mass_0 = (mass_toy < mass_window[0]) & (mass_toy > (mass_window[0] - mw_size / 2))\n",
    "            cut_mass_1 = (mass_toy < mass_window[1] + mw_size / 2) & (mass_toy > mass_window[1])\n",
    "\n",
    "            # get data\n",
    "            nevents_data_bdt_cut = np.sum(weight_toy[(cut_mass_0 | cut_mass_1) & mask_bdt_cut])\n",
    "\n",
    "            # get signal\n",
    "            cut_mass = (bdt_events_sig[\"H2PNetMass\"] >= mass_window[0]) & (\n",
    "                bdt_events_sig[\"H2PNetMass\"] <= mass_window[1]\n",
    "            )\n",
    "            mask_bdt_cut = bdt_events_sig[\"bdt_score\"] > bdt_cut\n",
    "            nevents_sig_bdt_cut = (\n",
    "                np.sum(bdt_events_sig[\"weight\"][(cut_mass) & mask_bdt_cut])\n",
    "                * scale_signal_by_bdt_cut[bdt_cut]\n",
    "            )\n",
    "\n",
    "            s_over_b = nevents_sig_bdt_cut / np.sqrt(nevents_data_bdt_cut + nevents_sig_bdt_cut)\n",
    "            fom_limit = 2 * np.sqrt(nevents_data_bdt_cut) / nevents_sig_bdt_cut\n",
    "\n",
    "            # print(bdt_cut, fom_limit, s_over_b)\n",
    "            if nevents_sig_bdt_cut > 0.5 and nevents_data_bdt_cut >= 2:\n",
    "                # if fom_limit < min_fom:\n",
    "                if s_over_b > max_fom:\n",
    "                    cuts.append(bdt_cut)\n",
    "                    figure_of_merits.append(s_over_b)\n",
    "                    min_fom = fom_limit\n",
    "                    min_nevents = [nevents_data_bdt_cut, nevents_sig_bdt_cut]\n",
    "\n",
    "        if len(cuts) > 0:\n",
    "            cuts = np.array(cuts)\n",
    "            figure_of_merits = np.array(figure_of_merits)\n",
    "            # smallest = np.argmin(figure_of_merits)\n",
    "            biggest = np.argmax(figure_of_merits)\n",
    "            # print(biggest)\n",
    "            # print(figure_of_merits)\n",
    "            # print(\n",
    "            #    f\"{xbb_cut:.3f} {cuts[biggest]:.2f} {figure_of_merits[biggest]:.2f} \"\n",
    "            #    f\"BG: {min_nevents[0]:.2f} S: {min_nevents[1]:.2f}\"\n",
    "            # )\n",
    "            print(\n",
    "                f\"Xbb: {xbb_cut:.3f} BDT:{cuts[biggest]:.2f} S/(S+B): {figure_of_merits[biggest]:.2f} Pull:{(figure_of_merits[biggest]-expected_soverb_by_bdt_cut[bdt_cut]):.2f} Expected: {expected_soverb_by_bdt_cut[bdt_cut]:.2f}\"\n",
    "            )\n",
    "            h_pull.fill(\n",
    "                figure_of_merits[biggest] - expected_soverb_by_bdt_cut[bdt_cut], cut=str(xbb_cut)\n",
    "            )"
   ]
  },
  {
   "cell_type": "code",
   "execution_count": null,
   "metadata": {},
   "outputs": [],
   "source": [
    "h_pull"
   ]
  },
  {
   "cell_type": "code",
   "execution_count": null,
   "metadata": {},
   "outputs": [],
   "source": [
    "fig, ax = plt.subplots(1, 1, figsize=(6, 5))\n",
    "for xbb_cut in [0.8, 0.85, 0.9, 0.95]:\n",
    "    hep.histplot(\n",
    "        h_pull[{\"cut\": f\"{xbb_cut}\"}],\n",
    "        ax=ax,\n",
    "        label=f\"Xbb > {xbb_cut}\",\n",
    "        # histtype=\"errorbar\",\n",
    "        # capsize=1,\n",
    "        # yerr=True\n",
    "    )\n",
    "ax.set_xlabel(f\"Difference w.r.t expected\" + r\"S/$\\sqrt{S+B}$\")\n",
    "ax.set_title(r\"Injected S, S/$\\sqrt{S+B} \\sim$ 3\")\n",
    "ax.legend()"
   ]
  },
  {
   "cell_type": "code",
   "execution_count": null,
   "metadata": {},
   "outputs": [],
   "source": []
  }
 ],
 "metadata": {
  "kernelspec": {
   "display_name": "coffea-env",
   "language": "python",
   "name": "python3"
  },
  "language_info": {
   "codemirror_mode": {
    "name": "ipython",
    "version": 3
   },
   "file_extension": ".py",
   "mimetype": "text/x-python",
   "name": "python",
   "nbconvert_exporter": "python",
   "pygments_lexer": "ipython3",
   "version": "3.8.16"
  },
  "orig_nbformat": 4
 },
 "nbformat": 4,
 "nbformat_minor": 2
}
