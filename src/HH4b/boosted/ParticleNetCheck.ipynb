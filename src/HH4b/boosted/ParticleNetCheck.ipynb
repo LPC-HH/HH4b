{
 "cells": [
  {
   "cell_type": "code",
   "execution_count": null,
   "metadata": {},
   "outputs": [],
   "source": [
    "import os\n",
    "import sys\n",
    "\n",
    "sys.path.append(\"..\")\n",
    "import numpy as np\n",
    "import pandas as pd\n",
    "\n",
    "import matplotlib.pyplot as plt\n",
    "import mplhep as hep\n",
    "import matplotlib.ticker as mticker\n",
    "\n",
    "plt.style.use(hep.style.CMS)\n",
    "hep.style.use(\"CMS\")\n",
    "formatter = mticker.ScalarFormatter(useMathText=True)\n",
    "formatter.set_powerlimits((-3, 3))\n",
    "plt.rcParams.update({\"font.size\": 12})"
   ]
  },
  {
   "cell_type": "code",
   "execution_count": null,
   "metadata": {},
   "outputs": [],
   "source": [
    "import sys\n",
    "\n",
    "import utils\n",
    "import plotting\n",
    "from postprocessing.postprocessing import Region, weight_shifts\n",
    "from utils import ShapeVar, CUT_MAX_VAL\n",
    "from hh_vars import samples, data_key, bg_keys, sig_keys"
   ]
  },
  {
   "cell_type": "code",
   "execution_count": null,
   "metadata": {},
   "outputs": [],
   "source": [
    "# automatically reloads imported files on edits\n",
    "%load_ext autoreload\n",
    "%autoreload 2"
   ]
  },
  {
   "cell_type": "code",
   "execution_count": null,
   "metadata": {},
   "outputs": [],
   "source": [
    "year = \"2022\"\n",
    "samples_year = samples[year].copy()\n",
    "\n",
    "MAIN_DIR = \"../../../\"\n",
    "# this is the directory to the files\n",
    "# path_to_dir = \"/eos/uscms/store/user/cmantill/bbbb/skimmer/Oct13Test/\"\n",
    "# path_to_dir = f\"{MAIN_DIR}/../data/skimmer/Oct19wSelection/\"\n",
    "path_to_dir = f\"{MAIN_DIR}/../data/skimmer/Oct26/\"\n",
    "\n",
    "# define dictionary with directories of files (this can be configured in a yaml file later in the script)\n",
    "sig_keys = [\"hh4b\"]\n",
    "for key in list(samples_year.keys()):\n",
    "    if key not in [\"qcd\", \"gghtobb\"] + sig_keys:\n",
    "        del samples_year[key]\n",
    "\n",
    "sample_dirs = {path_to_dir: samples_year}\n",
    "\n",
    "# make plot and template directory\n",
    "date = \"23Nov3\"\n",
    "plot_dir = f\"{MAIN_DIR}/plots/PostProcessing/{date}/{year}\"\n",
    "template_dir = f\"templates/{date}/\"\n",
    "_ = os.system(f\"mkdir -p {plot_dir}\")\n",
    "_ = os.system(f\"mkdir -p {template_dir}/cutflows/{year}\")"
   ]
  },
  {
   "cell_type": "code",
   "execution_count": null,
   "metadata": {},
   "outputs": [],
   "source": [
    "samples_year"
   ]
  },
  {
   "cell_type": "code",
   "execution_count": null,
   "metadata": {},
   "outputs": [],
   "source": [
    "pt_cut = 300\n",
    "\n",
    "filters = [\n",
    "    [\n",
    "        (\"('ak8FatJetPt', '0')\", \">=\", pt_cut),\n",
    "        (\"('ak8FatJetPt', '1')\", \">=\", pt_cut),\n",
    "        (\"('ak8FatJetMsd', '0')\", \">=\", 60),\n",
    "        (\"('ak8FatJetMsd', '1')\", \">=\", 60),\n",
    "        (\"('ak8FatJetPNetXbb', '0')\", \">=\", 0.8),\n",
    "    ],\n",
    "    [\n",
    "        (\"('ak8FatJetPt', '0')\", \">=\", pt_cut),\n",
    "        (\"('ak8FatJetPt', '1')\", \">=\", pt_cut),\n",
    "        (\"('ak8FatJetMsd', '0')\", \">=\", 60),\n",
    "        (\"('ak8FatJetMsd', '1')\", \">=\", 60),\n",
    "        (\"('ak8FatJetPNetXbb', '1')\", \">=\", 0.8),\n",
    "    ],\n",
    "]\n",
    "\n",
    "# save cutflow as pandas table\n",
    "cutflow = pd.DataFrame(index=list(samples_year.keys()))\n",
    "\n",
    "# dictionary that will contain all information (from all samples)\n",
    "events_dict = {}\n",
    "for input_dir, samples_dict in sample_dirs.items():\n",
    "    events_dict = {\n",
    "        **events_dict,\n",
    "        # this function will load files (only the columns selected), apply filters and compute a weight per event\n",
    "        **utils.load_samples(\n",
    "            input_dir,\n",
    "            samples_dict,\n",
    "            year,\n",
    "            filters=filters,\n",
    "            # columns_mc=utils.format_columns(load_columns_mc),\n",
    "        ),\n",
    "    }\n",
    "\n",
    "utils.add_to_cutflow(events_dict, \"Preselection\", \"weight\", cutflow)\n",
    "print(\"\\n\", cutflow)"
   ]
  },
  {
   "cell_type": "code",
   "execution_count": null,
   "metadata": {},
   "outputs": [],
   "source": [
    "for key, events in events_dict.items():\n",
    "    if key == data_key:\n",
    "        events[\"weight_nopileup\"] = events[\"weight\"]\n",
    "    else:\n",
    "        events[\"weight_nopileup\"] = events[\"weight\"] / events[\"single_weight_pileup\"]"
   ]
  },
  {
   "cell_type": "markdown",
   "metadata": {},
   "source": [
    "## ROC curve"
   ]
  },
  {
   "cell_type": "code",
   "execution_count": null,
   "metadata": {},
   "outputs": [],
   "source": [
    "sig_jets_score = events_dict[\"gghtobb\"][\"ak8FatJetPNetXbb\"].values\n",
    "sig_jets_score = np.max(sig_jets_score, axis=1)\n",
    "sig_jets_score"
   ]
  },
  {
   "cell_type": "code",
   "execution_count": null,
   "metadata": {},
   "outputs": [],
   "source": [
    "bg_jets_score = events_dict[\"qcd\"][\"ak8FatJetPNetXbb\"].values.reshape(-1)\n",
    "bg_jets_score"
   ]
  },
  {
   "cell_type": "code",
   "execution_count": null,
   "metadata": {},
   "outputs": [],
   "source": [
    "from sklearn.metrics import roc_curve\n",
    "\n",
    "bg_skip = 4\n",
    "sig_key = \"gghtobb\"\n",
    "bg_keys = [\"qcd\"]  # add ttbar too?\n",
    "\n",
    "y_true = np.concatenate(\n",
    "    [\n",
    "        np.ones(len(sig_jets_score)),\n",
    "        np.zeros(len(bg_jets_score) // bg_skip + 1),\n",
    "    ]\n",
    ")\n",
    "\n",
    "weights = np.concatenate(\n",
    "    [events_dict[sig_key][\"weight\"].values.reshape(-1)]\n",
    "    + [\n",
    "        np.stack(\n",
    "            (events_dict[bg_key][\"weight\"].values, events_dict[bg_key][\"weight\"].values), axis=1\n",
    "        ).reshape(-1)[::bg_skip]\n",
    "        for bg_key in bg_keys\n",
    "    ],\n",
    ")\n",
    "\n",
    "scores = np.concatenate((sig_jets_score, bg_jets_score[::bg_skip]))\n",
    "\n",
    "fpr, tpr, thresholds = roc_curve(y_true, scores, sample_weight=weights)"
   ]
  },
  {
   "cell_type": "code",
   "execution_count": null,
   "metadata": {},
   "outputs": [],
   "source": [
    "y_true"
   ]
  },
  {
   "cell_type": "code",
   "execution_count": null,
   "metadata": {},
   "outputs": [],
   "source": [
    "def find_nearest(array, value):\n",
    "    array = np.asarray(array)\n",
    "    idx = (np.abs(array - value)).argmin()\n",
    "    return idx"
   ]
  },
  {
   "cell_type": "code",
   "execution_count": null,
   "metadata": {},
   "outputs": [],
   "source": [
    "plot_thresholds = [0.35, 0.8, 0.95, 0.975, 0.985, 0.99]\n",
    "th_colours = [\"#9381FF\", \"#1f78b4\", \"#a6cee3\", \"#ff7f00\", \"#7CB518\", \"#EDB458\", \"#36213E\"]\n",
    "\n",
    "pths = {th: [[], []] for th in plot_thresholds}\n",
    "plt.figure(figsize=(12, 12))\n",
    "plt.plot(\n",
    "    tpr,\n",
    "    fpr,\n",
    "    linewidth=2,\n",
    ")\n",
    "\n",
    "for th in plot_thresholds:\n",
    "    idx = find_nearest(thresholds, th)\n",
    "    pths[th][0].append(tpr[idx])\n",
    "    pths[th][1].append(fpr[idx])\n",
    "\n",
    "\n",
    "for k, th in enumerate(plot_thresholds):\n",
    "    plt.scatter(\n",
    "        *pths[th],\n",
    "        marker=\"o\",\n",
    "        s=40,\n",
    "        label=rf\"$T_{{Xbb}}$ > {th}\",\n",
    "        color=th_colours[k],\n",
    "        zorder=100,\n",
    "    )\n",
    "\n",
    "    plt.vlines(\n",
    "        x=pths[th][0],\n",
    "        ymin=0,\n",
    "        ymax=pths[th][1],\n",
    "        color=th_colours[k],\n",
    "        linestyles=\"dashed\",\n",
    "        alpha=0.5,\n",
    "    )\n",
    "\n",
    "    plt.hlines(\n",
    "        y=pths[th][1],\n",
    "        xmin=0,\n",
    "        xmax=pths[th][0],\n",
    "        color=th_colours[k],\n",
    "        linestyles=\"dashed\",\n",
    "        alpha=0.5,\n",
    "    )\n",
    "\n",
    "\n",
    "hep.cms.label(data=False, rlabel=\"\")\n",
    "# plt.hlines(y=0.01, xmin=0, xmax=1, colors=\"lightgrey\", linestyles=\"dashed\")\n",
    "plt.yscale(\"log\")\n",
    "plt.xlabel(\"Signal efficiency\")\n",
    "plt.ylabel(\"Background efficiency\")\n",
    "# plt.suptitle(f\"HVV FatJet {pvars['title']} ROC\", y=0.95)\n",
    "# plt.title(cut_labels[cutstr], fontsize=20)\n",
    "plt.xlim([0.1, 1])\n",
    "# plt.ylim(*ylim)\n",
    "plt.legend(loc=\"lower left\")\n",
    "plt.savefig(f\"{plot_dir}/roccurve.pdf\", bbox_inches=\"tight\")"
   ]
  },
  {
   "cell_type": "code",
   "execution_count": null,
   "metadata": {},
   "outputs": [],
   "source": []
  }
 ],
 "metadata": {
  "kernelspec": {
   "display_name": "coffea",
   "language": "python",
   "name": "python3"
  },
  "language_info": {
   "codemirror_mode": {
    "name": "ipython",
    "version": 3
   },
   "file_extension": ".py",
   "mimetype": "text/x-python",
   "name": "python",
   "nbconvert_exporter": "python",
   "pygments_lexer": "ipython3",
   "version": "3.8.16"
  },
  "orig_nbformat": 4
 },
 "nbformat": 4,
 "nbformat_minor": 2
}
