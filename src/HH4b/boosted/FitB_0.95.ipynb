{
 "cells": [
  {
   "cell_type": "markdown",
   "metadata": {},
   "source": [
    "# Fit B in the FoM TXbb and BDT space"
   ]
  },
  {
   "cell_type": "markdown",
   "metadata": {},
   "source": [
    "# Misc Checks"
   ]
  },
  {
   "cell_type": "code",
   "execution_count": 1,
   "metadata": {},
   "outputs": [],
   "source": [
    "import pandas as pd\n",
    "import numpy as np\n",
    "import vector\n",
    "import os\n",
    "from xgboost import XGBClassifier\n",
    "from pathlib import Path\n",
    "\n",
    "import HH4b.utils as utils\n",
    "from HH4b.utils import ShapeVar\n",
    "import HH4b.plotting as plotting\n",
    "from HH4b.postprocessing import PostProcess, Region\n",
    "import HH4b.postprocessing as postprocessing\n",
    "from HH4b.hh_vars import samples, years, samples_run3\n",
    "\n",
    "import hist\n",
    "import matplotlib.pyplot as plt\n",
    "import mplhep as hep\n",
    "import matplotlib.ticker as mticker\n",
    "import importlib\n",
    "\n",
    "formatter = mticker.ScalarFormatter(useMathText=True)\n",
    "formatter.set_powerlimits((-3, 3))"
   ]
  },
  {
   "cell_type": "code",
   "execution_count": 2,
   "metadata": {},
   "outputs": [],
   "source": [
    "pdf = pd.read_json(\"df_txbb_0pt6_bdt_0pt6.json\")"
   ]
  },
  {
   "cell_type": "code",
   "execution_count": null,
   "metadata": {},
   "outputs": [],
   "source": [
    "pdf"
   ]
  },
  {
   "cell_type": "markdown",
   "metadata": {},
   "source": [
    "# Fitting Starts"
   ]
  },
  {
   "cell_type": "code",
   "execution_count": 4,
   "metadata": {},
   "outputs": [],
   "source": [
    "import matplotlib.pyplot as plt\n",
    "import numpy as np\n",
    "\n",
    "from matplotlib import cm\n",
    "from matplotlib.ticker import LinearLocator"
   ]
  },
  {
   "cell_type": "code",
   "execution_count": 5,
   "metadata": {},
   "outputs": [],
   "source": [
    "# plot region parameter\n",
    "txbb_low = 0.95\n",
    "bdt_low = 0.95\n",
    "# x_low = 0.6\n",
    "# y_low = 0.6\n",
    "\n",
    "# scan parameters\n",
    "txbb_stepsize = 0.002\n",
    "bdt_stepsize = 0.005"
   ]
  },
  {
   "cell_type": "code",
   "execution_count": 6,
   "metadata": {},
   "outputs": [],
   "source": [
    "# init data\n",
    "Txbb = np.array(df[\"txbb_cut\"])\n",
    "BDT = np.array(df[\"bdt_cut\"])\n",
    "B = np.array(df[\"nevents_regionB\"])\n",
    "\n",
    "# select data in the plotting region\n",
    "Txbb_cond = Txbb >= txbb_low\n",
    "BDT_cond = BDT >= bdt_low\n",
    "cond = Txbb_cond & BDT_cond\n",
    "\n",
    "Txbb = Txbb[cond]\n",
    "BDT = BDT[cond]\n",
    "B = B[cond]"
   ]
  },
  {
   "cell_type": "markdown",
   "metadata": {},
   "source": [
    "### Add nevents_B = 0 at boundaries to make interpolation more physical"
   ]
  },
  {
   "cell_type": "code",
   "execution_count": 7,
   "metadata": {},
   "outputs": [],
   "source": [
    "# at Txbb = 1\n",
    "for bdt_val in np.unique(BDT):\n",
    "    Txbb = np.append(Txbb, 1)\n",
    "    BDT = np.append(BDT, bdt_val)\n",
    "    B = np.append(B, 0.0)\n",
    "\n",
    "# at BDT = 1\n",
    "for txbb_val in np.unique(Txbb):\n",
    "    Txbb = np.append(Txbb, txbb_val)\n",
    "    BDT = np.append(BDT, 1)\n",
    "    B = np.append(B, 0.0)"
   ]
  },
  {
   "cell_type": "code",
   "execution_count": null,
   "metadata": {},
   "outputs": [],
   "source": [
    "df[df[\"nevents_regionB\"] == 0]"
   ]
  },
  {
   "cell_type": "code",
   "execution_count": 9,
   "metadata": {},
   "outputs": [],
   "source": [
    "txbb_bins = np.arange(txbb_low - txbb_stepsize / 2, 1 + txbb_stepsize, txbb_stepsize)\n",
    "bdt_bins = np.arange(bdt_low - bdt_stepsize / 2, 1 + bdt_stepsize, bdt_stepsize)"
   ]
  },
  {
   "cell_type": "code",
   "execution_count": 10,
   "metadata": {},
   "outputs": [],
   "source": [
    "# check if the predictions are smooth\n",
    "test_Txbb_stepsize = 0.0002\n",
    "test_BDT_stepsize = 0.0005\n",
    "\n",
    "test_Txbb_bins = np.arange(\n",
    "    txbb_low - test_Txbb_stepsize / 2, 1 + test_Txbb_stepsize, test_Txbb_stepsize\n",
    ")\n",
    "test_BDT_bins = np.arange(bdt_low - test_BDT_stepsize / 2, 1 + test_BDT_stepsize, test_BDT_stepsize)"
   ]
  },
  {
   "cell_type": "code",
   "execution_count": 11,
   "metadata": {},
   "outputs": [],
   "source": [
    "test_Txbb_range = np.arange(txbb_low, 1, test_Txbb_stepsize)\n",
    "test_BDT_range = np.arange(bdt_low, 1, test_BDT_stepsize)\n",
    "test_Txbb_grid, test_BDT_grid = np.meshgrid(test_Txbb_range, test_BDT_range)\n",
    "test_Txbb = test_Txbb_grid.flatten()\n",
    "test_BDT = test_BDT_grid.flatten()"
   ]
  },
  {
   "cell_type": "markdown",
   "metadata": {},
   "source": [
    "## RBF fitting (plots are for checking if the fitting is successful)"
   ]
  },
  {
   "cell_type": "code",
   "execution_count": 12,
   "metadata": {},
   "outputs": [],
   "source": [
    "from scipy.interpolate import Rbf"
   ]
  },
  {
   "cell_type": "code",
   "execution_count": 13,
   "metadata": {},
   "outputs": [],
   "source": [
    "from scipy.spatial.distance import cdist"
   ]
  },
  {
   "cell_type": "code",
   "execution_count": 14,
   "metadata": {},
   "outputs": [],
   "source": [
    "def calc_distance(a, b, option):\n",
    "    x = np.concatenate([a.reshape(-1, 1), b.reshape(-1, 1)], axis=1)\n",
    "    matrix = cdist(x, np.zeros_like(x), option)\n",
    "    return np.diagonal(matrix)"
   ]
  },
  {
   "cell_type": "code",
   "execution_count": 20,
   "metadata": {},
   "outputs": [],
   "source": [
    "styles = [\n",
    "    #    \"euclidean\",\n",
    "    #    \"seuclidean\",\n",
    "    \"cityblock\",\n",
    "    #     \"chebyshev\",\n",
    "    #     \"minkowski\",\n",
    "    #     \"hamming\",\n",
    "    #     \"cosine\",\n",
    "    #     \"jaccard\",\n",
    "    #     \"mahalanobis\",\n",
    "    #     \"canberra\",\n",
    "    #     \"braycurtis\",\n",
    "    #     \"dice\",\n",
    "    #     \"kulsinski\"\n",
    "]"
   ]
  },
  {
   "cell_type": "code",
   "execution_count": null,
   "metadata": {},
   "outputs": [],
   "source": [
    "fig, ax = plt.subplots()\n",
    "for style in styles:\n",
    "    distance = calc_distance((Txbb - 1), (BDT - 1), style)\n",
    "    ax.scatter(\n",
    "        (distance - distance.min()) / (distance.max() - distance.min()),\n",
    "        B,\n",
    "        s=10,\n",
    "        label=style + \"from (1,1)\",\n",
    "    )\n",
    "\n",
    "for style in styles:\n",
    "    distance = calc_distance((0.9 - Txbb), (0.9 - BDT), style)\n",
    "    ax.scatter(\n",
    "        (distance - distance.min()) / (distance.max() - distance.min()),\n",
    "        B,\n",
    "        s=10,\n",
    "        label=style + \"from (0.9,0.9)\",\n",
    "    )\n",
    "\n",
    "distance = (1.01 - Txbb) * (1 - BDT)\n",
    "ax.scatter(distance / distance.max(), B, s=10, label=\"product\")\n",
    "ax.legend()"
   ]
  },
  {
   "cell_type": "code",
   "execution_count": 42,
   "metadata": {},
   "outputs": [],
   "source": [
    "rbfi = Rbf(\n",
    "    Txbb - 0.9, BDT - 0.9, B, function=\"multiquadric\", norm=\"seuclidean\", epsilon=0.1, smooth=1e-5\n",
    ")"
   ]
  },
  {
   "cell_type": "code",
   "execution_count": 43,
   "metadata": {},
   "outputs": [],
   "source": [
    "B_RBF_Fitted = rbfi(Txbb - 0.9, BDT - 0.9)"
   ]
  },
  {
   "cell_type": "code",
   "execution_count": null,
   "metadata": {},
   "outputs": [],
   "source": [
    "# Plot the surface.\n",
    "heatmap, Txbbedges, BDTedges = np.histogram2d(\n",
    "    Txbb, BDT, bins=[txbb_bins, bdt_bins], weights=B_RBF_Fitted\n",
    ")\n",
    "\n",
    "# Create the heatmap plot\n",
    "plt.imshow(\n",
    "    heatmap.T,\n",
    "    extent=[Txbbedges[0], Txbbedges[-1], BDTedges[0], BDTedges[-1]],\n",
    "    origin=\"lower\",\n",
    "    cmap=\"hot\",\n",
    ")\n",
    "plt.colorbar()  # add a colorbar\n",
    "plt.title(\"RBF Fitted B Values\")\n",
    "plt.xlabel(\"tTxbbbb_cut\")\n",
    "plt.ylabel(\"bdt_cut\")\n",
    "plt.show(\"Number of Data in Region B\")"
   ]
  },
  {
   "cell_type": "code",
   "execution_count": null,
   "metadata": {},
   "outputs": [],
   "source": [
    "# Plot the surface.\n",
    "heatmap, Txbbedges, BDTedges = np.histogram2d(\n",
    "    Txbb, BDT, bins=[txbb_bins, bdt_bins], weights=(B_RBF_Fitted - B) / B\n",
    ")\n",
    "\n",
    "# Create the heatmap plot\n",
    "plt.imshow(\n",
    "    heatmap.T,\n",
    "    extent=[Txbbedges[0], Txbbedges[-1], BDTedges[0], BDTedges[-1]],\n",
    "    origin=\"lower\",\n",
    "    cmap=\"hot\",\n",
    ")\n",
    "plt.colorbar()  # add a colorbar\n",
    "plt.title(\"Diff(RBF, Scanned) of B (0.1 is 10%)\")\n",
    "plt.xlabel(\"tTxbbbb_cut\")\n",
    "plt.ylabel(\"bdt_cut\")\n",
    "plt.show(\"Number of Data in Region B\")"
   ]
  },
  {
   "cell_type": "markdown",
   "metadata": {},
   "source": [
    "## RBF Interpolation (smooth check)"
   ]
  },
  {
   "cell_type": "code",
   "execution_count": 46,
   "metadata": {},
   "outputs": [],
   "source": [
    "B_RBF_Pred = rbfi(test_Txbb - 0.9, test_BDT - 0.9)"
   ]
  },
  {
   "cell_type": "code",
   "execution_count": null,
   "metadata": {},
   "outputs": [],
   "source": [
    "# Plot the surface.\n",
    "heatmap, Txbbedges, BDTedges = np.histogram2d(\n",
    "    test_Txbb, test_BDT, bins=[test_Txbb_bins, test_BDT_bins], weights=B_RBF_Pred\n",
    ")\n",
    "\n",
    "# Create the heatmap plot\n",
    "plt.imshow(\n",
    "    heatmap.T,\n",
    "    extent=[Txbbedges[0], Txbbedges[-1], BDTedges[0], BDTedges[-1]],\n",
    "    origin=\"lower\",\n",
    "    cmap=\"hot\",\n",
    ")\n",
    "plt.colorbar()  # add a colorbar\n",
    "plt.title(\"RBF B Predictions on 10x Finer Grid\")\n",
    "plt.xlabel(\"txbb_cut\")\n",
    "plt.ylabel(\"bdt_cut\")\n",
    "plt.show(\"Number of Data in Region B\")"
   ]
  },
  {
   "cell_type": "markdown",
   "metadata": {},
   "source": [
    "## RBF 1D smooth check"
   ]
  },
  {
   "cell_type": "markdown",
   "metadata": {},
   "source": [
    "### 1. Fix txbb cut, vary bdt cut"
   ]
  },
  {
   "cell_type": "code",
   "execution_count": null,
   "metadata": {
    "scrolled": true
   },
   "outputs": [],
   "source": [
    "fix_txbb_cuts = [0.93, 0.95, 0.97, 0.99]\n",
    "\n",
    "\n",
    "for txbb_cut in fix_txbb_cuts:\n",
    "    # init plot\n",
    "    fig, ax = plt.subplots(figsize=(10, 8))\n",
    "\n",
    "    # plot data\n",
    "    txbb_select = np.isclose(df[\"txbb_cut\"], txbb_cut)\n",
    "    bdt_select = df[\"bdt_cut\"] >= bdt_low\n",
    "    select = txbb_select & bdt_select\n",
    "\n",
    "    BDT_1D = df[select][\"bdt_cut\"]\n",
    "    B_1D = df[select][\"nevents_regionB\"]\n",
    "\n",
    "    # plot interpolation\n",
    "    test_BDT_1D = np.arange(bdt_low, 1, test_BDT_stepsize)\n",
    "    test_Txbb_1D = np.ones_like(test_BDT_1D) * txbb_cut\n",
    "\n",
    "    B_RBF_Pred_1D = rbfi(test_Txbb_1D - 0.9, test_BDT_1D - 0.9)\n",
    "\n",
    "    ax.scatter(BDT_1D, B_1D, c=\"y\", label=\"measurements\")\n",
    "    ax.plot(test_BDT_1D, B_RBF_Pred_1D, label=\"interpolation\")\n",
    "    ax.set(\n",
    "        xlabel=\"bdt cut\",\n",
    "        ylabel=\"Number of Events in Region B\",\n",
    "        title=f\"RBF Interpolation @ Txbb cut = {txbb_cut}\",\n",
    "    )\n",
    "    ax.legend()\n",
    "    plt.show()"
   ]
  },
  {
   "cell_type": "markdown",
   "metadata": {},
   "source": [
    "### 2. Fix bdt cut, vary txbb cut"
   ]
  },
  {
   "cell_type": "code",
   "execution_count": null,
   "metadata": {
    "scrolled": false
   },
   "outputs": [],
   "source": [
    "fix_bdt_cuts = [0.93, 0.95, 0.97, 0.99]\n",
    "\n",
    "\n",
    "for bdt_cut in fix_bdt_cuts:\n",
    "    # init plot\n",
    "    fig, ax = plt.subplots(figsize=(10, 8))\n",
    "\n",
    "    # plot data\n",
    "    bdt_select = np.isclose(df[\"bdt_cut\"], bdt_cut)\n",
    "    txbb_select = df[\"txbb_cut\"] >= txbb_low\n",
    "    select = txbb_select & bdt_select\n",
    "\n",
    "    Txbb_1D = df[select][\"txbb_cut\"]\n",
    "    B_1D = df[select][\"nevents_regionB\"]\n",
    "\n",
    "    # plot interpolation\n",
    "    test_Txbb_1D = np.arange(txbb_low, 1, test_Txbb_stepsize)\n",
    "    test_BDT_1D = np.ones_like(test_Txbb_1D) * bdt_cut\n",
    "\n",
    "    B_RBF_Pred_1D = rbfi(test_Txbb_1D - 0.9, test_BDT_1D - 0.9)\n",
    "\n",
    "    ax.scatter(Txbb_1D, B_1D, c=\"y\", label=\"measurements\")\n",
    "    ax.plot(test_Txbb_1D, B_RBF_Pred_1D, label=\"interpolation\")\n",
    "    ax.set(\n",
    "        xlabel=\"txbb cut\",\n",
    "        ylabel=\"Number of Events in Region B\",\n",
    "        title=f\"RBF Interpolation @ BDT cut = {bdt_cut}\",\n",
    "    )\n",
    "    ax.legend()\n",
    "    plt.show()"
   ]
  },
  {
   "cell_type": "markdown",
   "metadata": {},
   "source": [
    "## RBF fit with product as input"
   ]
  },
  {
   "cell_type": "code",
   "execution_count": 50,
   "metadata": {},
   "outputs": [],
   "source": [
    "fit_product = (1 - Txbb) * (1 - BDT)"
   ]
  },
  {
   "cell_type": "code",
   "execution_count": 51,
   "metadata": {},
   "outputs": [],
   "source": [
    "rbfi = Rbf(fit_product, B, function=\"multiquadric\", norm=\"euclidean\", epsilon=0.02, smooth=1e-3)"
   ]
  },
  {
   "cell_type": "code",
   "execution_count": 52,
   "metadata": {},
   "outputs": [],
   "source": [
    "B_RBF_Fitted = rbfi(fit_product)"
   ]
  },
  {
   "cell_type": "code",
   "execution_count": null,
   "metadata": {},
   "outputs": [],
   "source": [
    "# Plot the surface.\n",
    "heatmap, Txbbedges, BDTedges = np.histogram2d(\n",
    "    Txbb, BDT, bins=[txbb_bins, bdt_bins], weights=B_RBF_Fitted\n",
    ")\n",
    "\n",
    "# Create the heatmap plot\n",
    "plt.imshow(\n",
    "    heatmap.T,\n",
    "    extent=[Txbbedges[0], Txbbedges[-1], BDTedges[0], BDTedges[-1]],\n",
    "    origin=\"lower\",\n",
    "    cmap=\"hot\",\n",
    ")\n",
    "plt.colorbar()  # add a colorbar\n",
    "plt.title(\"RBF Fitted B Values\")\n",
    "plt.xlabel(\"tTxbbbb_cut\")\n",
    "plt.ylabel(\"bdt_cut\")\n",
    "plt.show(\"Number of Data in Region B\")"
   ]
  },
  {
   "cell_type": "code",
   "execution_count": null,
   "metadata": {},
   "outputs": [],
   "source": [
    "# Plot the surface.\n",
    "heatmap, Txbbedges, BDTedges = np.histogram2d(\n",
    "    Txbb, BDT, bins=[txbb_bins, bdt_bins], weights=(B_RBF_Fitted - B) / B\n",
    ")\n",
    "\n",
    "# Create the heatmap plot\n",
    "plt.imshow(\n",
    "    heatmap.T,\n",
    "    extent=[Txbbedges[0], Txbbedges[-1], BDTedges[0], BDTedges[-1]],\n",
    "    origin=\"lower\",\n",
    "    cmap=\"hot\",\n",
    ")\n",
    "plt.colorbar()  # add a colorbar\n",
    "plt.title(\"Diff(RBF, Scanned) of B (0.1 is 10%)\")\n",
    "plt.xlabel(\"tTxbbbb_cut\")\n",
    "plt.ylabel(\"bdt_cut\")\n",
    "plt.show(\"Number of Data in Region B\")"
   ]
  },
  {
   "cell_type": "code",
   "execution_count": 55,
   "metadata": {},
   "outputs": [],
   "source": [
    "test_product = (1 - test_Txbb) * (1 - test_BDT)\n",
    "B_RBF_Pred = rbfi(test_product)"
   ]
  },
  {
   "cell_type": "code",
   "execution_count": null,
   "metadata": {},
   "outputs": [],
   "source": [
    "# Plot the surface.\n",
    "heatmap, Txbbedges, BDTedges = np.histogram2d(\n",
    "    test_Txbb, test_BDT, bins=[test_Txbb_bins, test_BDT_bins], weights=B_RBF_Pred\n",
    ")\n",
    "\n",
    "# Create the heatmap plot\n",
    "plt.imshow(\n",
    "    heatmap.T,\n",
    "    extent=[Txbbedges[0], Txbbedges[-1], BDTedges[0], BDTedges[-1]],\n",
    "    origin=\"lower\",\n",
    "    cmap=\"hot\",\n",
    ")\n",
    "plt.colorbar()  # add a colorbar\n",
    "plt.title(\"RBF B Predictions on 10x Finer Grid\")\n",
    "plt.xlabel(\"txbb_cut\")\n",
    "plt.ylabel(\"bdt_cut\")\n",
    "plt.show(\"Number of Data in Region B\")"
   ]
  },
  {
   "cell_type": "markdown",
   "metadata": {},
   "source": [
    "## 1D smooth check for this RBF fitted on product feature"
   ]
  },
  {
   "cell_type": "markdown",
   "metadata": {},
   "source": [
    "### fix txbb, vary bdt"
   ]
  },
  {
   "cell_type": "code",
   "execution_count": null,
   "metadata": {
    "scrolled": false
   },
   "outputs": [],
   "source": [
    "fix_txbb_cuts = [0.93, 0.95, 0.97, 0.99]\n",
    "\n",
    "\n",
    "for txbb_cut in fix_txbb_cuts:\n",
    "    # init plot\n",
    "    fig, ax = plt.subplots(figsize=(10, 8))\n",
    "\n",
    "    # plot data\n",
    "    txbb_select = np.isclose(df[\"txbb_cut\"], txbb_cut)\n",
    "    bdt_select = df[\"bdt_cut\"] >= bdt_low\n",
    "    select = txbb_select & bdt_select\n",
    "\n",
    "    BDT_1D = df[select][\"bdt_cut\"]\n",
    "    B_1D = df[select][\"nevents_regionB\"]\n",
    "\n",
    "    # plot interpolation\n",
    "    test_BDT_1D = np.arange(bdt_low, 1, test_BDT_stepsize)\n",
    "    test_Txbb_1D = np.ones_like(test_BDT_1D) * txbb_cut\n",
    "\n",
    "    B_RBF_Pred_1D = rbfi((1 - test_BDT_1D) * (1 - test_Txbb_1D))\n",
    "\n",
    "    ax.scatter(BDT_1D, B_1D, c=\"y\", label=\"measurements\")\n",
    "    ax.plot(test_BDT_1D, B_RBF_Pred_1D, label=\"interpolation\")\n",
    "    ax.set(\n",
    "        xlabel=\"bdt cut\",\n",
    "        ylabel=\"Number of Events in Region B\",\n",
    "        title=f\"RBF Interpolation @ Txbb cut = {txbb_cut}\",\n",
    "    )\n",
    "    ax.legend()\n",
    "    plt.show()"
   ]
  },
  {
   "cell_type": "markdown",
   "metadata": {},
   "source": [
    "### fix bdt, vary txbb"
   ]
  },
  {
   "cell_type": "code",
   "execution_count": null,
   "metadata": {
    "scrolled": false
   },
   "outputs": [],
   "source": [
    "fix_bdt_cuts = [0.93, 0.95, 0.97, 0.99]\n",
    "\n",
    "\n",
    "for bdt_cut in fix_bdt_cuts:\n",
    "    # init plot\n",
    "    fig, ax = plt.subplots(figsize=(10, 8))\n",
    "\n",
    "    # plot data\n",
    "    bdt_select = np.isclose(df[\"bdt_cut\"], bdt_cut)\n",
    "    txbb_select = df[\"txbb_cut\"] >= txbb_low\n",
    "    select = txbb_select & bdt_select\n",
    "\n",
    "    Txbb_1D = df[select][\"txbb_cut\"]\n",
    "    B_1D = df[select][\"nevents_regionB\"]\n",
    "\n",
    "    # plot interpolation\n",
    "    test_Txbb_1D = np.arange(txbb_low, 1, test_Txbb_stepsize)\n",
    "    test_BDT_1D = np.ones_like(test_Txbb_1D) * bdt_cut\n",
    "\n",
    "    B_RBF_Pred_1D = rbfi((1 - test_Txbb_1D) * (1 - test_BDT_1D))\n",
    "\n",
    "    ax.scatter(Txbb_1D, B_1D, c=\"y\", label=\"measurements\")\n",
    "    ax.plot(test_Txbb_1D, B_RBF_Pred_1D, label=\"interpolation\")\n",
    "    ax.set(\n",
    "        xlabel=\"txbb cut\",\n",
    "        ylabel=\"Number of Events in Region B\",\n",
    "        title=f\"RBF Interpolation @ BDT cut = {bdt_cut}\",\n",
    "    )\n",
    "    ax.legend()\n",
    "    plt.show()"
   ]
  },
  {
   "cell_type": "markdown",
   "metadata": {},
   "source": [
    "## Monotone Cubic Decreasing"
   ]
  },
  {
   "cell_type": "markdown",
   "metadata": {},
   "source": [
    "### Check if I can let the function take |x| as an input to do 1d fitting"
   ]
  },
  {
   "cell_type": "code",
   "execution_count": null,
   "metadata": {},
   "outputs": [],
   "source": [
    "select = np.isclose(df[\"txbb_cut\"], 0.970) & np.isclose(df[\"bdt_cut\"], 0.970)\n",
    "df[select][\"nevents_regionB\"]"
   ]
  },
  {
   "cell_type": "markdown",
   "metadata": {},
   "source": [
    "### Conclusion: no, because txbb_cut=1 or bdt_cut = 1 gives 0, but a 45 degrees vector of length 0.1 from (0.9, 0.9) gives non-zero"
   ]
  },
  {
   "cell_type": "markdown",
   "metadata": {},
   "source": [
    "### Trying to add an angle factor "
   ]
  },
  {
   "cell_type": "code",
   "execution_count": 681,
   "metadata": {},
   "outputs": [],
   "source": [
    "def monotone_cubic_interpolation(x, y):\n",
    "    n = len(x)\n",
    "    # Compute slopes of secant lines between successive points\n",
    "    delta_x = np.diff(x)\n",
    "    delta_y = np.diff(y)\n",
    "    m = delta_y / delta_x\n",
    "\n",
    "    # Initialize tangent slopes (m_t) at each point with shape preservation\n",
    "    m_t = np.zeros_like(y)\n",
    "    m_t[1:-1] = (m[:-1] + m[1:]) / 2.0\n",
    "\n",
    "    # Adjust tangent slopes to ensure the monotonicity\n",
    "    for i in range(1, n - 1):\n",
    "        if np.sign(delta_y[i - 1]) != np.sign(delta_y[i]):\n",
    "            m_t[i] = 0\n",
    "        elif np.abs(m[i - 1]) < np.abs(m[i]) or (m[i - 1] == 0 and m[i] != 0):\n",
    "            m_t[i] = m[i - 1]\n",
    "        elif np.abs(m[i - 1]) > np.abs(m[i]) or (m[i] == 0 and m[i - 1] != 0):\n",
    "            m_t[i] = m[i]\n",
    "\n",
    "    # Boundary conditions: use non-centered, shape-preserving three-point formula\n",
    "    m_t[0] = ((2 * delta_x[0] + delta_x[1]) * m[0] - delta_x[0] * m[1]) / (delta_x[0] + delta_x[1])\n",
    "    if np.sign(m_t[0]) != np.sign(m[0]):\n",
    "        m_t[0] = 0\n",
    "    m_t[-1] = ((2 * delta_x[-2] + delta_x[-3]) * m[-2] - delta_x[-2] * m[-3]) / (\n",
    "        delta_x[-2] + delta_x[-3]\n",
    "    )\n",
    "    if np.sign(m_t[-1]) != np.sign(m[-2]):\n",
    "        m_t[-1] = 0\n",
    "\n",
    "    # Compute coefficients for the cubic polynomials\n",
    "    a = y[:-1]\n",
    "    b = m_t[:-1]\n",
    "    c = (3 * m - 2 * m_t[:-1] - m_t[1:]) / delta_x\n",
    "    d = (m_t[:-1] + m_t[1:] - 2 * m) / delta_x**2\n",
    "\n",
    "    # Define function to evaluate spline at a given point\n",
    "    def spline(t):\n",
    "        # Find the interval index such that x[i] <= t < x[i+1]\n",
    "        i = np.searchsorted(x, t) - 1\n",
    "        i = np.clip(i, 0, n - 2)\n",
    "        dx = t - x[i]\n",
    "        return a[i] + b[i] * dx + c[i] * dx**2 + d[i] * dx**3\n",
    "\n",
    "    return spline"
   ]
  },
  {
   "cell_type": "code",
   "execution_count": 694,
   "metadata": {},
   "outputs": [],
   "source": [
    "# init data\n",
    "Txbb = np.array(df[\"txbb_cut\"])\n",
    "BDT = np.array(df[\"bdt_cut\"])\n",
    "B = np.array(df[\"nevents_regionB\"])\n",
    "\n",
    "# select data in the plotting region\n",
    "Txbb_cond = Txbb >= txbb_low\n",
    "BDT_cond = BDT >= bdt_low\n",
    "cond = Txbb_cond & BDT_cond\n",
    "\n",
    "Txbb = Txbb[cond]\n",
    "BDT = BDT[cond]\n",
    "B = B[cond]"
   ]
  },
  {
   "cell_type": "code",
   "execution_count": 700,
   "metadata": {},
   "outputs": [],
   "source": [
    "fn = monotone_cubic_interpolation((1 - Txbb) * (1 - BDT), B.astype(\"float\"))"
   ]
  },
  {
   "cell_type": "code",
   "execution_count": null,
   "metadata": {
    "scrolled": false
   },
   "outputs": [],
   "source": [
    "fix_txbb_cuts = [0.93, 0.95, 0.97, 0.99]\n",
    "\n",
    "\n",
    "for txbb_cut in fix_txbb_cuts:\n",
    "    # init plot\n",
    "    fig, ax = plt.subplots(figsize=(10, 8))\n",
    "\n",
    "    # data for fitting and plotting\n",
    "    txbb_select = np.isclose(df[\"txbb_cut\"], txbb_cut)\n",
    "    bdt_select = df[\"bdt_cut\"] >= bdt_low\n",
    "    select = txbb_select & bdt_select\n",
    "\n",
    "    BDT_1D = np.array(df[select][\"bdt_cut\"])\n",
    "    B_1D = np.array(df[select][\"nevents_regionB\"])\n",
    "\n",
    "    # interpolation for plotting\n",
    "    test_BDT_1D = np.arange(bdt_low, 1, test_BDT_stepsize)\n",
    "    test_Txbb_1D = np.ones_like(test_BDT_1D) * txbb_cut\n",
    "\n",
    "    fn_pred = fn((1 - test_Txbb_1D) * (1 - test_BDT_1D))\n",
    "\n",
    "    ax.scatter(BDT_1D, B_1D, c=\"y\", label=\"measurements\")\n",
    "    ax.plot(test_BDT_1D, fn_pred, label=\"interpolation\")\n",
    "    ax.set(\n",
    "        xlabel=\"bdt cut\",\n",
    "        ylabel=\"Number of Events in Region B\",\n",
    "        title=f\"RBF Interpolation @ Txbb cut = {txbb_cut}\",\n",
    "    )\n",
    "    ax.legend()\n",
    "    plt.show()"
   ]
  },
  {
   "cell_type": "code",
   "execution_count": null,
   "metadata": {
    "scrolled": false
   },
   "outputs": [],
   "source": [
    "fix_bdt_cuts = [0.93, 0.95, 0.97, 0.99]\n",
    "\n",
    "\n",
    "for bdt_cut in fix_bdt_cuts:\n",
    "    # init plot\n",
    "    fig, ax = plt.subplots(figsize=(10, 8))\n",
    "\n",
    "    # plot data\n",
    "    bdt_select = np.isclose(df[\"bdt_cut\"], bdt_cut)\n",
    "    txbb_select = df[\"txbb_cut\"] >= txbb_low\n",
    "    select = txbb_select & bdt_select\n",
    "\n",
    "    Txbb_1D = np.array(df[select][\"txbb_cut\"])\n",
    "    B_1D = np.array(df[select][\"nevents_regionB\"])\n",
    "\n",
    "    # fit\n",
    "    fn = monotone_cubic_interpolation(Txbb_1D, B_1D)\n",
    "\n",
    "    # plot interpolation\n",
    "    test_Txbb_1D = np.arange(txbb_low, 1, test_Txbb_stepsize)\n",
    "    test_BDT_1D = np.ones_like(test_Txbb_1D) * bdt_cut\n",
    "\n",
    "    fn_pred = fn(test_Txbb_1D)\n",
    "\n",
    "    ax.scatter(Txbb_1D, B_1D, c=\"y\", label=\"measurements\")\n",
    "    ax.plot(test_Txbb_1D, fn_pred, label=\"interpolation\")\n",
    "    ax.set(\n",
    "        xlabel=\"txbb cut\",\n",
    "        ylabel=\"Number of Events in Region B\",\n",
    "        title=f\"RBF Interpolation @ BDT cut = {bdt_cut}\",\n",
    "    )\n",
    "    ax.legend()\n",
    "    plt.show()"
   ]
  },
  {
   "cell_type": "markdown",
   "metadata": {},
   "source": [
    "# Optimization on RBF Interpolation"
   ]
  },
  {
   "cell_type": "markdown",
   "metadata": {},
   "source": [
    "## Old stuff"
   ]
  },
  {
   "cell_type": "code",
   "execution_count": 18,
   "metadata": {},
   "outputs": [],
   "source": [
    "s_greater_0pt6 = df_billy[\"s\"] > 0.6\n",
    "s_greater_0pt7 = df_billy[\"s\"] > 0.7\n",
    "s_greater_1 = df_billy[\"s\"] > 1"
   ]
  },
  {
   "cell_type": "code",
   "execution_count": null,
   "metadata": {
    "scrolled": true
   },
   "outputs": [],
   "source": [
    "best_row_s_greater_1 = df_billy[s_greater_1][\"2*sqrt(B+sigma_B^2)/S\"].argmin()\n",
    "df_billy[s_greater_1].iloc[best_row_s_greater_1]"
   ]
  },
  {
   "cell_type": "code",
   "execution_count": null,
   "metadata": {},
   "outputs": [],
   "source": [
    "best_row_s_greater_0pt7 = df_billy[s_greater_0pt7][\"2*sqrt(B+sigma_B^2)/S\"].argmin()\n",
    "df_billy[s_greater_0pt7].iloc[best_row_s_greater_0pt7]"
   ]
  },
  {
   "cell_type": "code",
   "execution_count": null,
   "metadata": {},
   "outputs": [],
   "source": [
    "best_row_s_greater_0pt6 = df_billy[s_greater_0pt6][\"2*sqrt(B+sigma_B^2)/S\"].argmin()\n",
    "df_billy[s_greater_0pt6].iloc[best_row_s_greater_0pt6]"
   ]
  },
  {
   "cell_type": "code",
   "execution_count": null,
   "metadata": {},
   "outputs": [],
   "source": [
    "best_row = df_billy[\"2*sqrt(B+sigma_B^2)/S\"].argmin()\n",
    "df_billy.iloc[best_row]"
   ]
  },
  {
   "cell_type": "code",
   "execution_count": null,
   "metadata": {},
   "outputs": [],
   "source": [
    "b_greater_1 = df_billy[\"b\"] > 1\n",
    "best_row_b_greater_1 = df_billy[b_greater_1][\"2*sqrt(B+sigma_B^2)/S\"].argmin()\n",
    "df_billy[b_greater_1].iloc[best_row_b_greater_1]"
   ]
  },
  {
   "cell_type": "code",
   "execution_count": null,
   "metadata": {},
   "outputs": [],
   "source": [
    "b_greater_2 = df_billy[\"b\"] > 2\n",
    "best_row_b_greater_2 = df_billy[b_greater_2][\"2*sqrt(B+sigma_B^2)/S\"].argmin()\n",
    "df_billy[b_greater_2].iloc[best_row_b_greater_2]"
   ]
  },
  {
   "cell_type": "code",
   "execution_count": null,
   "metadata": {},
   "outputs": [],
   "source": [
    "b_greater_2pt8 = df_billy[\"b\"] > 2.8\n",
    "best_row_b_greater_2pt8 = df_billy[b_greater_2pt8][\"2*sqrt(B+sigma_B^2)/S\"].argmin()\n",
    "df_billy[b_greater_2pt8].iloc[best_row_b_greater_2pt8]"
   ]
  },
  {
   "cell_type": "code",
   "execution_count": null,
   "metadata": {},
   "outputs": [],
   "source": [
    "import pprint\n",
    "\n",
    "print(s)\n",
    "print(tot)\n",
    "pprint.pprint(dicts)"
   ]
  },
  {
   "cell_type": "markdown",
   "metadata": {},
   "source": [
    "## Old stuff:"
   ]
  },
  {
   "cell_type": "code",
   "execution_count": null,
   "metadata": {},
   "outputs": [],
   "source": [
    "sig_samples = {\"hh4b\": samples[year][\"hh4b\"]}"
   ]
  },
  {
   "cell_type": "code",
   "execution_count": null,
   "metadata": {},
   "outputs": [],
   "source": [
    "events = pd.read_parquet(\n",
    "    Path(data_dir) / \"2022EE\" / \"GluGlutoHHto4B_kl-1p00_kt-1p00_c2-0p00_TuneCP5_13p6TeV\" / \"parquet\"\n",
    ")"
   ]
  },
  {
   "cell_type": "code",
   "execution_count": null,
   "metadata": {},
   "outputs": [],
   "source": [
    "samples = [\"qcd\", \"ttbar\"]\n",
    "mass = \"bbFatJetMsd\"\n",
    "tagger = \"bbFatJetPNetTXbbLegacy\"\n",
    "i = 1\n",
    "\n",
    "for sample in samples:\n",
    "    plt.figure(figsize=(10, 10))\n",
    "    plt.title(sample)\n",
    "    for cut in [0, 0.8, 0.9, 0.95]:\n",
    "        cut_mask = events_dict[sample][tagger][i] >= cut\n",
    "        plt.hist(\n",
    "            events_dict[sample][mass][i][cut_mask],\n",
    "            np.arange(60, 251, 10),\n",
    "            weights=events_dict[sample][\"finalWeight\"][cut_mask],\n",
    "            histtype=\"step\",\n",
    "            label=rf\"$T_{{Xbb}} \\geq {cut}$\",\n",
    "            density=True,\n",
    "        )\n",
    "\n",
    "    plt.xlabel(f\"Jet {i+1} {mass} (GeV)\")\n",
    "    plt.legend()\n",
    "    plt.savefig(plot_dir / f\"{sample}_{mass}{i}_{tagger}_sculpting.pdf\", bbox_inches=\"tight\")\n",
    "    plt.show()"
   ]
  },
  {
   "cell_type": "markdown",
   "metadata": {},
   "source": [
    "## BDT ROC Curve"
   ]
  },
  {
   "cell_type": "markdown",
   "metadata": {},
   "source": [
    "## tt ROC curve"
   ]
  },
  {
   "cell_type": "code",
   "execution_count": null,
   "metadata": {},
   "outputs": [],
   "source": [
    "jet = 1\n",
    "tagger = \"bbFatJetPNetTXbbLegacy\"\n",
    "sig_jets_score = events_dict[\"hh4b\"][tagger][jet]\n",
    "bg_jets_score = {\n",
    "    \"qcd\": events_dict[\"qcd\"][tagger][jet],\n",
    "    \"ttbar\": events_dict[\"ttbar\"][tagger][jet],\n",
    "}"
   ]
  },
  {
   "cell_type": "code",
   "execution_count": null,
   "metadata": {},
   "outputs": [],
   "source": [
    "from sklearn.metrics import roc_curve\n",
    "\n",
    "bg_skip = 1\n",
    "sig_key = \"hh4b\"\n",
    "weight_key = \"finalWeight\"\n",
    "rocs = {}\n",
    "\n",
    "for bg_key in [\"qcd\", \"ttbar\"]:\n",
    "    print(bg_key)\n",
    "    y_true = np.concatenate(\n",
    "        [\n",
    "            np.ones(len(sig_jets_score)),\n",
    "            np.zeros((len(bg_jets_score[bg_key]) - 1) // bg_skip + 1),\n",
    "        ]\n",
    "    )\n",
    "\n",
    "    weights = np.concatenate(\n",
    "        [\n",
    "            events_dict[sig_key][weight_key].to_numpy(),\n",
    "            events_dict[bg_key][weight_key].to_numpy()[::bg_skip],\n",
    "        ]\n",
    "    )\n",
    "\n",
    "    scores = np.concatenate((sig_jets_score, bg_jets_score[bg_key][::bg_skip]))\n",
    "\n",
    "    fpr, tpr, thresholds = roc_curve(y_true, scores, sample_weight=weights)\n",
    "\n",
    "    rocs[bg_key] = {\n",
    "        \"fpr\": fpr,\n",
    "        \"tpr\": tpr,\n",
    "        \"thresholds\": thresholds,\n",
    "        \"label\": plotting.label_by_sample[bg_key],\n",
    "    }"
   ]
  },
  {
   "cell_type": "code",
   "execution_count": null,
   "metadata": {},
   "outputs": [],
   "source": [
    "def find_nearest(array, value):\n",
    "    array = np.asarray(array)\n",
    "    idx = (np.abs(array - value)).argmin()\n",
    "    return idx"
   ]
  },
  {
   "cell_type": "code",
   "execution_count": null,
   "metadata": {},
   "outputs": [],
   "source": [
    "plotting.multiROCCurveGrey(\n",
    "    {\"test\": rocs},\n",
    "    [0.2, 0.5],\n",
    "    xlim=[0, 0.8],\n",
    "    ylim=[1e-5, 1],\n",
    "    plot_dir=plot_dir,\n",
    "    name=f\"{tagger}_ROCs\",\n",
    "    show=True,\n",
    ")"
   ]
  },
  {
   "cell_type": "code",
   "execution_count": null,
   "metadata": {},
   "outputs": [],
   "source": []
  }
 ],
 "metadata": {
  "kernelspec": {
   "display_name": "Python 3 (ipykernel)",
   "language": "python",
   "name": "python3"
  },
  "language_info": {
   "codemirror_mode": {
    "name": "ipython",
    "version": 3
   },
   "file_extension": ".py",
   "mimetype": "text/x-python",
   "name": "python",
   "nbconvert_exporter": "python",
   "pygments_lexer": "ipython3",
   "version": "3.9.10"
  }
 },
 "nbformat": 4,
 "nbformat_minor": 4
}
