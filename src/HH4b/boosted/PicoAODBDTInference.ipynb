{
 "cells": [
  {
   "cell_type": "code",
   "execution_count": null,
   "metadata": {},
   "outputs": [],
   "source": [
    "import xgboost as xgb\n",
    "from coffea import nanoevents\n",
    "from coffea.nanoevents.methods.base import NanoEventsArray\n",
    "import awkward as ak\n",
    "import vector\n",
    "import pandas as pd\n",
    "import numpy as np\n",
    "import matplotlib.pyplot as plt\n",
    "import mplhep as hep\n",
    "plt.style.use(hep.style.CMS)\n",
    "\n",
    "def to_np_array(ak_array, max_n=2, pad=0):\n",
    "    return ak.fill_none(ak.pad_none(ak_array, max_n, clip=True, axis=-1), pad).to_numpy()\n",
    "\n",
    "\n",
    "model_fname = \"src/HH4b/boosted/bdt_trainings_run2/model_xgboost_training_weights_qcd_and_ttbar_Run2_bdt_enhanced_v8p2/trained_bdt.model\"\n",
    "bdt_model = xgb.XGBClassifier()\n",
    "bdt_model.load_model(fname=model_fname)\n"
   ]
  },
  {
   "cell_type": "code",
   "execution_count": null,
   "metadata": {},
   "outputs": [],
   "source": [
    "events = nanoevents.NanoEventsFactory.from_root(\n",
    "    \"src/HH4b/boosted/picoAOD.root\",\n",
    "    schemaclass=nanoevents.NanoAODSchema,\n",
    ").events()"
   ]
  },
  {
   "cell_type": "code",
   "execution_count": null,
   "metadata": {},
   "outputs": [],
   "source": [
    "sorted_by_bbtag = ak.argsort(events[\"FatJet\"][\"particleNetMD_Xbb\"], ascending=False, axis=-1)\n",
    "fatjets_sorted = events[\"FatJet\"][sorted_by_bbtag]"
   ]
  },
  {
   "cell_type": "code",
   "execution_count": null,
   "metadata": {},
   "outputs": [],
   "source": [
    "fatjet_xbb = to_np_array(fatjets_sorted[\"particleNetMD_Xbb\"], max_n=2, pad=0)\n",
    "fatjet_qcdb = to_np_array (fatjets_sorted[\"particleNetMD_QCDb\"], max_n=2, pad=0)\n",
    "fatjet_qcdbb = to_np_array (fatjets_sorted[\"particleNetMD_QCDbb\"], max_n=2, pad=0)\n",
    "fatjet_qcdothers = to_np_array (fatjets_sorted[\"particleNetMD_QCDothers\"], max_n=2, pad=0)\n",
    "fatjet_pnetmass = to_np_array(fatjets_sorted[\"particleNet_mass\"], max_n=2, pad=0)\n",
    "\n",
    "fatjet_pt = to_np_array(fatjets_sorted[\"pt\"], max_n=2, pad=0)\n",
    "fatjet_eta = to_np_array(fatjets_sorted[\"eta\"], max_n=2, pad=0)\n",
    "fatjet_phi = to_np_array(fatjets_sorted[\"phi\"], max_n=2, pad=0)\n",
    "fatjet_msd = to_np_array(fatjets_sorted[\"msoftdrop\"], max_n=2, pad=0)\n",
    "fatjet_tau2 = to_np_array (fatjets_sorted[\"tau2\"], max_n=2, pad=0)\n",
    "fatjet_tau3 = to_np_array (fatjets_sorted[\"tau3\"], max_n=2, pad=0)\n",
    "\n",
    "mask  = (fatjet_pt[:, 0] > 300) & (fatjet_pt[:, 1] > 300) & (fatjet_msd[:, 0] > 40) & (fatjet_pnetmass[:, 1] > 50) & (fatjet_xbb[:, 0] > 0.8) & (np.abs(fatjet_eta[:, 0]) < 2.4)  & (np.abs(fatjet_eta[:, 1]) < 2.4)"
   ]
  },
  {
   "cell_type": "code",
   "execution_count": null,
   "metadata": {},
   "outputs": [],
   "source": [
    "h1 = vector.array(\n",
    "    {\n",
    "        \"pt\": fatjet_pt[:, 0],\n",
    "        \"phi\": fatjet_phi[:, 0],\n",
    "        \"eta\": fatjet_eta[:, 0],\n",
    "        \"M\": fatjet_msd[:, 0]\n",
    "    }\n",
    ")\n",
    "h2 = vector.array(\n",
    "    {\n",
    "        \"pt\": fatjet_pt[:, 1],\n",
    "        \"phi\": fatjet_phi[:, 1],\n",
    "        \"eta\": fatjet_eta[:, 1],\n",
    "        \"M\": fatjet_msd[:, 1]\n",
    "    }\n",
    ")\n",
    "hh = h1 + h2"
   ]
  },
  {
   "cell_type": "code",
   "execution_count": null,
   "metadata": {},
   "outputs": [],
   "source": [
    "df_events = pd.DataFrame(\n",
    "    {\n",
    "        # dihiggs system\n",
    "        \"HHPt\": hh.pt,\n",
    "        \"HHeta\": hh.eta,\n",
    "        \"HHmass\": hh.mass,\n",
    "        # met in the event\n",
    "        \"MET\": events[\"PuppiMET\"][\"pt\"].to_numpy(),\n",
    "        # fatjet tau32\n",
    "        \"H1T32\": fatjet_tau3[:, 0] / fatjet_tau2[:, 0],\n",
    "        \"H2T32\": fatjet_tau3[:, 1] / fatjet_tau2[:, 1],\n",
    "        # fatjet mass\n",
    "        \"H1Mass\": fatjet_msd[:, 0],\n",
    "        # fatjet kinematics\n",
    "        \"H1Pt\": fatjet_pt[:, 0],\n",
    "        \"H1eta\": fatjet_eta[:, 0],\n",
    "        # xbb\n",
    "        \"H1Xbb\": fatjet_xbb[:, 0],\n",
    "        \"H1QCDb\": fatjet_qcdb[:, 0],\n",
    "        \"H1QCDbb\": fatjet_qcdbb[:, 0],\n",
    "        \"H1QCDothers\": fatjet_qcdothers[:, 0],\n",
    "        \"H2Pt\": fatjet_pt[:, 1],\n",
    "        # ratios\n",
    "        \"H1Pt_HHmass\": fatjet_pt[:, 0] / hh.mass,\n",
    "        \"H2Pt_HHmass\": fatjet_pt[:, 1] / hh.mass,\n",
    "        \"H2Pt/H1Pt\": fatjet_pt[:, 1] / fatjet_pt[:, 0],\n",
    "    }\n",
    ")\n"
   ]
  },
  {
   "cell_type": "code",
   "execution_count": null,
   "metadata": {},
   "outputs": [],
   "source": [
    "df_events.columns"
   ]
  },
  {
   "cell_type": "code",
   "execution_count": null,
   "metadata": {},
   "outputs": [],
   "source": [
    "df_events[\"bdt_score\"] = bdt_model.predict_proba(df_events)[:, 1]"
   ]
  },
  {
   "cell_type": "code",
   "execution_count": null,
   "metadata": {},
   "outputs": [],
   "source": [
    "# make 18 subfigures\n",
    "plt.figure()\n",
    "fig, axs = plt.subplots(3, 6, figsize=(40, 20), sharey=True)\n",
    "for i, col in enumerate(df_events.columns):\n",
    "    ax = axs[i//6, i%6]\n",
    "    ax.hist(df_events[col][mask], bins=50, histtype=\"step\")\n",
    "    ax.set_xlabel(col)\n",
    "    if i%6 == 0:\n",
    "        ax.set_ylabel(\"Events\")\n",
    "    ax.set_yscale(\"log\")\n",
    "plt.show()"
   ]
  },
  {
   "cell_type": "code",
   "execution_count": null,
   "metadata": {},
   "outputs": [],
   "source": []
  }
 ],
 "metadata": {
  "kernelspec": {
   "display_name": "Python 3",
   "language": "python",
   "name": "python3"
  },
  "language_info": {
   "codemirror_mode": {
    "name": "ipython",
    "version": 3
   },
   "file_extension": ".py",
   "mimetype": "text/x-python",
   "name": "python",
   "nbconvert_exporter": "python",
   "pygments_lexer": "ipython3",
   "version": "3.10.14"
  }
 },
 "nbformat": 4,
 "nbformat_minor": 2
}
