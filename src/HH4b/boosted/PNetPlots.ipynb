{
 "cells": [
  {
   "cell_type": "code",
   "execution_count": 9,
   "metadata": {},
   "outputs": [],
   "source": [
    "import os\n",
    "import sys\n",
    "\n",
    "sys.path.append(\"..\")\n",
    "import numpy as np\n",
    "import pandas as pd\n",
    "\n",
    "import matplotlib.pyplot as plt\n",
    "import mplhep as hep\n",
    "import matplotlib.ticker as mticker\n",
    "\n",
    "plt.style.use(hep.style.CMS)\n",
    "hep.style.use(\"CMS\")\n",
    "formatter = mticker.ScalarFormatter(useMathText=True)\n",
    "formatter.set_powerlimits((-3, 3))\n",
    "plt.rcParams.update({\"font.size\": 12})"
   ]
  },
  {
   "cell_type": "code",
   "execution_count": 4,
   "metadata": {},
   "outputs": [],
   "source": [
    "import sys\n",
    "import os\n",
    "\n",
    "import HH4b.utils as utils\n",
    "import HH4b.plotting as plotting\n",
    "from HH4b.postprocessing.postprocessing import Region, weight_shifts\n",
    "from HH4b.utils import ShapeVar, CUT_MAX_VAL\n",
    "from HH4b.hh_vars import samples, data_key, bg_keys, sig_keys"
   ]
  },
  {
   "cell_type": "code",
   "execution_count": 5,
   "metadata": {},
   "outputs": [],
   "source": [
    "# automatically reloads imported files on edits\n",
    "%load_ext autoreload\n",
    "%autoreload 2"
   ]
  },
  {
   "cell_type": "code",
   "execution_count": 8,
   "metadata": {},
   "outputs": [],
   "source": [
    "year = \"2022EE\"\n",
    "\n",
    "# TODO: figure out how to properly get samples from hh_vars.samples\n",
    "samples_year = samples[year].copy()\n",
    "\n",
    "MAIN_DIR = \"/ceph/cms/store/user/dprimosc/bbbb/skimmer\"\n",
    "# this is the directory to the files\n",
    "\n",
    "tag = \"24Sep3_v12_private_signal\"\n",
    "path_to_dir = f\"{MAIN_DIR}/{tag}/\"\n",
    "\n",
    "# define dictionary with directories of files (this can be configured in a yaml file later in the script)\n",
    "sig_keys = [\"hh4b\"]\n",
    "for key in list(samples_year.keys()):\n",
    "    if key not in [\"qcd\", \"ttbar\"] + sig_keys:\n",
    "        del samples_year[key]\n",
    "\n",
    "sample_dirs = {path_to_dir: samples_year}\n",
    "\n",
    "# make plot and template directory\n",
    "date = \"24Sep6\"  # date of plotting\n",
    "plot_dir = f\"{MAIN_DIR}/plots/PostProcessing/{date}/{year}\"\n",
    "template_dir = f\"templates/{date}/\"  # why needed?\n",
    "_ = os.system(f\"mkdir -p {plot_dir}\")\n",
    "_ = os.system(f\"mkdir -p {template_dir}/cutflows/{year}\")"
   ]
  },
  {
   "cell_type": "code",
   "execution_count": 10,
   "metadata": {},
   "outputs": [
    {
     "ename": "TypeError",
     "evalue": "unsupported operand type(s) for +: 'NoneType' and 'list'",
     "output_type": "error",
     "traceback": [
      "\u001b[0;31m---------------------------------------------------------------------------\u001b[0m",
      "\u001b[0;31mTypeError\u001b[0m                                 Traceback (most recent call last)",
      "Cell \u001b[0;32mIn[10], line 17\u001b[0m\n\u001b[1;32m     12\u001b[0m events_dict \u001b[38;5;241m=\u001b[39m {}\n\u001b[1;32m     13\u001b[0m \u001b[38;5;28;01mfor\u001b[39;00m input_dir, samples_dict \u001b[38;5;129;01min\u001b[39;00m sample_dirs\u001b[38;5;241m.\u001b[39mitems():\n\u001b[1;32m     14\u001b[0m     events_dict \u001b[38;5;241m=\u001b[39m {\n\u001b[1;32m     15\u001b[0m         \u001b[38;5;241m*\u001b[39m\u001b[38;5;241m*\u001b[39mevents_dict,\n\u001b[1;32m     16\u001b[0m         \u001b[38;5;66;03m# this function will load files (only the columns selected), apply filters and compute a weight per event\u001b[39;00m\n\u001b[0;32m---> 17\u001b[0m         \u001b[38;5;241m*\u001b[39m\u001b[38;5;241m*\u001b[39m\u001b[43mutils\u001b[49m\u001b[38;5;241;43m.\u001b[39;49m\u001b[43mload_samples\u001b[49m\u001b[43m(\u001b[49m\n\u001b[1;32m     18\u001b[0m \u001b[43m            \u001b[49m\u001b[43minput_dir\u001b[49m\u001b[43m,\u001b[49m\n\u001b[1;32m     19\u001b[0m \u001b[43m            \u001b[49m\u001b[43msamples_dict\u001b[49m\u001b[43m,\u001b[49m\n\u001b[1;32m     20\u001b[0m \u001b[43m            \u001b[49m\u001b[43myear\u001b[49m\u001b[43m,\u001b[49m\n\u001b[1;32m     21\u001b[0m \u001b[43m            \u001b[49m\u001b[43mfilters\u001b[49m\u001b[38;5;241;43m=\u001b[39;49m\u001b[43mfilters\u001b[49m\u001b[43m,\u001b[49m\n\u001b[1;32m     22\u001b[0m \u001b[43m            \u001b[49m\u001b[38;5;66;43;03m# columns_mc=utils.format_columns(load_columns_mc),\u001b[39;49;00m\n\u001b[1;32m     23\u001b[0m \u001b[43m        \u001b[49m\u001b[43m)\u001b[49m,\n\u001b[1;32m     24\u001b[0m     }\n\u001b[1;32m     26\u001b[0m \u001b[38;5;66;03m#TODO: check details of add_to_cutflow(...) function\u001b[39;00m\n\u001b[1;32m     27\u001b[0m utils\u001b[38;5;241m.\u001b[39madd_to_cutflow(events_dict, \u001b[38;5;124m\"\u001b[39m\u001b[38;5;124mPreselection\u001b[39m\u001b[38;5;124m\"\u001b[39m, \u001b[38;5;124m\"\u001b[39m\u001b[38;5;124mweight\u001b[39m\u001b[38;5;124m\"\u001b[39m, cutflow)\n",
      "File \u001b[0;32m~/HH4b/src/HH4b/utils.py:325\u001b[0m, in \u001b[0;36mload_samples\u001b[0;34m(data_dir, samples, year, filters, columns, variations, weight_shifts, reorder_txbb, txbb, load_weight_noxsec)\u001b[0m\n\u001b[1;32m    323\u001b[0m load_columns \u001b[38;5;241m=\u001b[39m columns\n\u001b[1;32m    324\u001b[0m \u001b[38;5;28;01mif\u001b[39;00m label \u001b[38;5;241m!=\u001b[39m \u001b[38;5;124m\"\u001b[39m\u001b[38;5;124mdata\u001b[39m\u001b[38;5;124m\"\u001b[39m \u001b[38;5;129;01mand\u001b[39;00m load_weight_noxsec:\n\u001b[0;32m--> 325\u001b[0m     load_columns \u001b[38;5;241m=\u001b[39m \u001b[43mcolumns\u001b[49m\u001b[43m \u001b[49m\u001b[38;5;241;43m+\u001b[39;49m\u001b[43m \u001b[49m\u001b[43mformat_columns\u001b[49m\u001b[43m(\u001b[49m\u001b[43m[\u001b[49m\u001b[43m(\u001b[49m\u001b[38;5;124;43m\"\u001b[39;49m\u001b[38;5;124;43mweight_noxsec\u001b[39;49m\u001b[38;5;124;43m\"\u001b[39;49m\u001b[43m,\u001b[49m\u001b[43m \u001b[49m\u001b[38;5;241;43m1\u001b[39;49m\u001b[43m)\u001b[49m\u001b[43m]\u001b[49m\u001b[43m)\u001b[49m\n\u001b[1;32m    327\u001b[0m events_dict[label] \u001b[38;5;241m=\u001b[39m []  \u001b[38;5;66;03m# list of directories we load in for this sample\u001b[39;00m\n\u001b[1;32m    328\u001b[0m \u001b[38;5;28;01mfor\u001b[39;00m sample \u001b[38;5;129;01min\u001b[39;00m full_samples_list:\n\u001b[1;32m    329\u001b[0m     \u001b[38;5;66;03m# check if this directory passes our selector string\u001b[39;00m\n",
      "\u001b[0;31mTypeError\u001b[0m: unsupported operand type(s) for +: 'NoneType' and 'list'"
     ]
    }
   ],
   "source": [
    "# ---------------------------------------------\n",
    "# Filters usually applied here, skipped for now\n",
    "# ---------------------------------------------\n",
    "filters = []\n",
    "\n",
    "\n",
    "# save cutflow as pandas table\n",
    "# TODO: check this is running correctly\n",
    "cutflow = pd.DataFrame(index=list(samples_year.keys()))\n",
    "\n",
    "# dictionary that will contain all information (from all samples)\n",
    "events_dict = {}\n",
    "for input_dir, samples_dict in sample_dirs.items():\n",
    "    events_dict = {\n",
    "        **events_dict,\n",
    "        # this function will load files (only the columns selected), apply filters and compute a weight per event\n",
    "        **utils.load_samples(\n",
    "            input_dir,\n",
    "            samples_dict,\n",
    "            year,\n",
    "            filters=filters,\n",
    "            # columns_mc=utils.format_columns(load_columns_mc),\n",
    "        ),\n",
    "    }\n",
    "\n",
    "# TODO: check details of add_to_cutflow(...) function\n",
    "utils.add_to_cutflow(events_dict, \"Preselection\", \"weight\", cutflow)\n",
    "print(\"\\n\", cutflow)"
   ]
  },
  {
   "cell_type": "code",
   "execution_count": null,
   "metadata": {},
   "outputs": [],
   "source": []
  }
 ],
 "metadata": {
  "kernelspec": {
   "display_name": "Python 3",
   "language": "python",
   "name": "python3"
  },
  "language_info": {
   "codemirror_mode": {
    "name": "ipython",
    "version": 3
   },
   "file_extension": ".py",
   "mimetype": "text/x-python",
   "name": "python",
   "nbconvert_exporter": "python",
   "pygments_lexer": "ipython3",
   "version": "3.10.14"
  }
 },
 "nbformat": 4,
 "nbformat_minor": 2
}
