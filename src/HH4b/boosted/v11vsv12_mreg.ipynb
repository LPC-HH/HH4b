{
 "cells": [
  {
   "cell_type": "markdown",
   "metadata": {},
   "source": [
    "Import libraries"
   ]
  },
  {
   "cell_type": "code",
   "execution_count": 1,
   "metadata": {},
   "outputs": [],
   "source": [
    "import uproot\n",
    "import os\n",
    "import pickle\n",
    "import coffea\n",
    "\n",
    "from HH4b.utils import load_samples, get_feat, format_columns\n",
    "\n",
    "from coffea import nanoevents\n",
    "from coffea.lookup_tools.dense_lookup import dense_lookup\n",
    "\n",
    "import numpy as np\n",
    "import awkward as ak\n",
    "import pandas as pd\n",
    "\n",
    "import mplhep as hep\n",
    "import matplotlib.ticker as mticker\n",
    "import matplotlib.pyplot as plt\n",
    "from matplotlib.lines import Line2D\n",
    "\n",
    "import hist\n",
    "\n",
    "formatter = mticker.ScalarFormatter(useMathText=True)\n",
    "formatter.set_powerlimits((-3, 3))\n",
    "plt.rcParams.update({\"font.size\": 12})\n",
    "plt.rcParams[\"lines.linewidth\"] = 2\n",
    "plt.rcParams[\"grid.color\"] = \"#CCCCCC\"\n",
    "plt.rcParams[\"grid.linewidth\"] = 0.5\n",
    "plt.rcParams[\"figure.edgecolor\"] = \"none\""
   ]
  },
  {
   "cell_type": "markdown",
   "metadata": {},
   "source": [
    "Open samples with both v11 and v12"
   ]
  },
  {
   "cell_type": "code",
   "execution_count": 2,
   "metadata": {},
   "outputs": [
    {
     "name": "stdout",
     "output_type": "stream",
     "text": [
      "Loading GluGlutoHHto4B_kl-1p00_kt-1p00_c2-0p00_TuneCP5_13p6TeV\n",
      "Loading QCD_HT-2000\n"
     ]
    },
    {
     "ename": "",
     "evalue": "",
     "output_type": "error",
     "traceback": [
      "\u001b[1;31mCannot execute code, session has been disposed. Please try restarting the Kernel."
     ]
    },
    {
     "ename": "",
     "evalue": "",
     "output_type": "error",
     "traceback": [
      "\u001b[1;31mThe Kernel crashed while executing code in the the current cell or a previous cell. Please review the code in the cell(s) to identify a possible cause of the failure. Click <a href='https://aka.ms/vscodeJupyterKernelCrash'>here</a> for more info. View Jupyter <a href='command:jupyter.viewOutput'>log</a> for further details."
     ]
    }
   ],
   "source": [
    "MAIN_DIR = \"../../../../\"\n",
    "\n",
    "filters = [\n",
    "    [\n",
    "        (\"('bbFatJetPt', '0')\", \">=\", 250),\n",
    "        (\"('bbFatJetPt', '1')\", \">=\", 250),\n",
    "        (\"('bbFatJetMsd', '0')\", \">=\", 30),\n",
    "        (\"('bbFatJetMsd', '1')\", \">=\", 30),\n",
    "        (\"('bbFatJetPNetXbb', '0')\", \">=\", 0.8),\n",
    "    ],\n",
    "]\n",
    "year = \"2022EE\"\n",
    "\n",
    "sample_dirs = {\n",
    "    f\"{MAIN_DIR}/data/skimmer/Feb20_v12_private_pre-sel/\": {\n",
    "        \"hh4b\": [\"GluGlutoHHto4B_kl-1p00_kt-1p00_c2-0p00_TuneCP5_13p6TeV\"],\n",
    "        \"qcd\": [\n",
    "            \"QCD_HT-1000to1200\",\n",
    "            \"QCD_HT-200to400\",\n",
    "            \"QCD_HT-400to600\",\n",
    "            \"QCD_HT-600to800\",\n",
    "            \"QCD_HT-800to1000\",\n",
    "            \"QCD_HT-1500to2000\",\n",
    "            \"QCD_HT-1200to1500\",\n",
    "            \"QCD_HT-2000\",\n",
    "        ],\n",
    "        \"ttbar\": [\n",
    "            \"TTto4Q\"\n",
    "        ]\n",
    "    },\n",
    "}\n",
    "\n",
    "# dictionary that will contain all information (from all samples)\n",
    "events_dict = {}\n",
    "for input_dir, samples_dict in sample_dirs.items():\n",
    "    events_dict = {\n",
    "        **events_dict,\n",
    "        # this function will load files (only the columns selected), apply filters and compute a weight per event\n",
    "        **load_samples(\n",
    "            input_dir,\n",
    "            samples_dict,\n",
    "            year,\n",
    "            # filters=filters,\n",
    "            # columns_mc=utils.format_columns(load_columns_mc),\n",
    "        ),\n",
    "    }"
   ]
  },
  {
   "cell_type": "code",
   "execution_count": null,
   "metadata": {},
   "outputs": [],
   "source": []
  }
 ],
 "metadata": {
  "kernelspec": {
   "display_name": "coffea",
   "language": "python",
   "name": "python3"
  },
  "language_info": {
   "codemirror_mode": {
    "name": "ipython",
    "version": 3
   },
   "file_extension": ".py",
   "mimetype": "text/x-python",
   "name": "python",
   "nbconvert_exporter": "python",
   "pygments_lexer": "ipython3",
   "version": "3.8.16"
  },
  "orig_nbformat": 4
 },
 "nbformat": 4,
 "nbformat_minor": 2
}
