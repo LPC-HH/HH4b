{
 "cells": [
  {
   "cell_type": "code",
   "execution_count": 2,
   "id": "f559cb7a-7c3b-45fa-90ed-9715a3374985",
   "metadata": {},
   "outputs": [],
   "source": [
    "import os\n",
    "import uproot\n",
    "import numpy as np\n",
    "\n",
    "\n",
    "def run_command(command, dry_run=False):\n",
    "    print(command)\n",
    "    if not dry_run:\n",
    "        os.system(command)"
   ]
  },
  {
   "cell_type": "code",
   "execution_count": 15,
   "id": "13f40014-0d96-4c1f-8fd1-a795928abf06",
   "metadata": {},
   "outputs": [],
   "source": [
    "ntoys = 40\n",
    "\n",
    "# run_command(f\"python3 TestToys.py  --method abcd --tag test --ntoys {ntoys}\")"
   ]
  },
  {
   "cell_type": "code",
   "execution_count": 16,
   "id": "3e02020b-588e-4c24-a312-391815e43eda",
   "metadata": {},
   "outputs": [
    {
     "name": "stdout",
     "output_type": "stream",
     "text": [
      "python3 ../postprocessing/CreateDatacard.py --templates-dir /home/users/cmantill/hh/HH4b/src/HH4b/boosted/templates/alltoys_test/toy_16 --year 2022EE --model-name toy_16 --cards-dir cards --regions pass_bin1 --unblinded\n"
     ]
    },
    {
     "name": "stderr",
     "output_type": "stream",
     "text": [
      "/home/users/woodson/.local/lib/python3.8/site-packages/numpy/core/getlimits.py:518: UserWarning: The value of the smallest subnormal for <class 'numpy.float64'> type is zero.\n",
      "  setattr(self, word, getattr(machar, word).flat[0])\n",
      "/home/users/woodson/.local/lib/python3.8/site-packages/numpy/core/getlimits.py:89: UserWarning: The value of the smallest subnormal for <class 'numpy.float64'> type is zero.\n",
      "  return self._float_to_str(self.smallest_subnormal)\n",
      "/home/users/woodson/.local/lib/python3.8/site-packages/numpy/core/getlimits.py:518: UserWarning: The value of the smallest subnormal for <class 'numpy.float32'> type is zero.\n",
      "  setattr(self, word, getattr(machar, word).flat[0])\n",
      "/home/users/woodson/.local/lib/python3.8/site-packages/numpy/core/getlimits.py:89: UserWarning: The value of the smallest subnormal for <class 'numpy.float32'> type is zero.\n",
      "  return self._float_to_str(self.smallest_subnormal)\n",
      "INFO:root:starting region: pass_bin1\n",
      "INFO:root:get templates for: ttbar\n",
      "INFO:root:Getting pdf_gg rate\n",
      "INFO:root:Getting QCDscale_ttbar rate\n",
      "INFO:root:Getting lumi_2022 rate\n",
      "INFO:root:get templates for: vhtobb\n",
      "INFO:root:Getting lumi_2022 rate\n",
      "INFO:root:get templates for: diboson\n",
      "INFO:root:Getting lumi_2022 rate\n",
      "INFO:root:get templates for: vjets\n",
      "INFO:root:Getting lumi_2022 rate\n",
      "INFO:root:get templates for: tthtobb\n",
      "INFO:root:Getting lumi_2022 rate\n",
      "INFO:root:get templates for: hh4b\n",
      "INFO:root:Getting BR_hbb rate\n",
      "INFO:root:Getting pdf_Higgs_ggHH rate\n",
      "INFO:root:Getting THU_HH rate\n",
      "INFO:root:Getting lumi_2022 rate\n",
      "INFO:root:starting region: fail\n",
      "INFO:root:get templates for: ttbar\n",
      "INFO:root:Getting pdf_gg rate\n",
      "INFO:root:Getting QCDscale_ttbar rate\n",
      "INFO:root:Getting lumi_2022 rate\n",
      "INFO:root:get templates for: vhtobb\n",
      "INFO:root:Getting lumi_2022 rate\n",
      "INFO:root:get templates for: diboson\n",
      "INFO:root:Getting lumi_2022 rate\n",
      "INFO:root:get templates for: vjets\n",
      "INFO:root:Getting lumi_2022 rate\n",
      "INFO:root:get templates for: tthtobb\n",
      "INFO:root:Getting lumi_2022 rate\n",
      "INFO:root:\n",
      "Skipping hh4b in fail region\n",
      "\n",
      "INFO:root:Setting up fail region fail\n",
      "INFO:root:qcd eff 0.00014\n",
      "INFO:root:rendering combine model\n"
     ]
    },
    {
     "name": "stdout",
     "output_type": "stream",
     "text": [
      "['hh4b']\n",
      "python3 ../postprocessing/CreateDatacard.py --templates-dir /home/users/cmantill/hh/HH4b/src/HH4b/boosted/templates/alltoys_test/toy_17 --year 2022EE --model-name toy_17 --cards-dir cards --regions pass_bin1 --unblinded\n"
     ]
    },
    {
     "name": "stderr",
     "output_type": "stream",
     "text": [
      "/home/users/woodson/.local/lib/python3.8/site-packages/numpy/core/getlimits.py:518: UserWarning: The value of the smallest subnormal for <class 'numpy.float64'> type is zero.\n",
      "  setattr(self, word, getattr(machar, word).flat[0])\n",
      "/home/users/woodson/.local/lib/python3.8/site-packages/numpy/core/getlimits.py:89: UserWarning: The value of the smallest subnormal for <class 'numpy.float64'> type is zero.\n",
      "  return self._float_to_str(self.smallest_subnormal)\n",
      "/home/users/woodson/.local/lib/python3.8/site-packages/numpy/core/getlimits.py:518: UserWarning: The value of the smallest subnormal for <class 'numpy.float32'> type is zero.\n",
      "  setattr(self, word, getattr(machar, word).flat[0])\n",
      "/home/users/woodson/.local/lib/python3.8/site-packages/numpy/core/getlimits.py:89: UserWarning: The value of the smallest subnormal for <class 'numpy.float32'> type is zero.\n",
      "  return self._float_to_str(self.smallest_subnormal)\n",
      "INFO:root:starting region: pass_bin1\n",
      "INFO:root:get templates for: ttbar\n",
      "INFO:root:Getting pdf_gg rate\n",
      "INFO:root:Getting QCDscale_ttbar rate\n",
      "INFO:root:Getting lumi_2022 rate\n",
      "INFO:root:get templates for: vhtobb\n",
      "INFO:root:Getting lumi_2022 rate\n",
      "INFO:root:get templates for: diboson\n",
      "INFO:root:Getting lumi_2022 rate\n",
      "INFO:root:get templates for: vjets\n",
      "INFO:root:Getting lumi_2022 rate\n",
      "INFO:root:get templates for: tthtobb\n",
      "INFO:root:Getting lumi_2022 rate\n",
      "INFO:root:get templates for: hh4b\n",
      "INFO:root:Getting BR_hbb rate\n",
      "INFO:root:Getting pdf_Higgs_ggHH rate\n",
      "INFO:root:Getting THU_HH rate\n",
      "INFO:root:Getting lumi_2022 rate\n",
      "INFO:root:starting region: fail\n",
      "INFO:root:get templates for: ttbar\n",
      "INFO:root:Getting pdf_gg rate\n",
      "INFO:root:Getting QCDscale_ttbar rate\n",
      "INFO:root:Getting lumi_2022 rate\n",
      "INFO:root:get templates for: vhtobb\n",
      "INFO:root:Getting lumi_2022 rate\n",
      "INFO:root:get templates for: diboson\n",
      "INFO:root:Getting lumi_2022 rate\n",
      "INFO:root:get templates for: vjets\n",
      "INFO:root:Getting lumi_2022 rate\n",
      "INFO:root:get templates for: tthtobb\n",
      "INFO:root:Getting lumi_2022 rate\n",
      "INFO:root:\n",
      "Skipping hh4b in fail region\n",
      "\n",
      "INFO:root:Setting up fail region fail\n",
      "INFO:root:qcd eff 0.00014\n",
      "INFO:root:rendering combine model\n"
     ]
    },
    {
     "name": "stdout",
     "output_type": "stream",
     "text": [
      "['hh4b']\n",
      "python3 ../postprocessing/CreateDatacard.py --templates-dir /home/users/cmantill/hh/HH4b/src/HH4b/boosted/templates/alltoys_test/toy_18 --year 2022EE --model-name toy_18 --cards-dir cards --regions pass_bin1 --unblinded\n"
     ]
    },
    {
     "name": "stderr",
     "output_type": "stream",
     "text": [
      "/home/users/woodson/.local/lib/python3.8/site-packages/numpy/core/getlimits.py:518: UserWarning: The value of the smallest subnormal for <class 'numpy.float64'> type is zero.\n",
      "  setattr(self, word, getattr(machar, word).flat[0])\n",
      "/home/users/woodson/.local/lib/python3.8/site-packages/numpy/core/getlimits.py:89: UserWarning: The value of the smallest subnormal for <class 'numpy.float64'> type is zero.\n",
      "  return self._float_to_str(self.smallest_subnormal)\n",
      "/home/users/woodson/.local/lib/python3.8/site-packages/numpy/core/getlimits.py:518: UserWarning: The value of the smallest subnormal for <class 'numpy.float32'> type is zero.\n",
      "  setattr(self, word, getattr(machar, word).flat[0])\n",
      "/home/users/woodson/.local/lib/python3.8/site-packages/numpy/core/getlimits.py:89: UserWarning: The value of the smallest subnormal for <class 'numpy.float32'> type is zero.\n",
      "  return self._float_to_str(self.smallest_subnormal)\n",
      "INFO:root:starting region: pass_bin1\n",
      "INFO:root:get templates for: ttbar\n",
      "INFO:root:Getting pdf_gg rate\n",
      "INFO:root:Getting QCDscale_ttbar rate\n",
      "INFO:root:Getting lumi_2022 rate\n",
      "INFO:root:get templates for: vhtobb\n",
      "INFO:root:Getting lumi_2022 rate\n",
      "INFO:root:get templates for: diboson\n",
      "INFO:root:Getting lumi_2022 rate\n",
      "INFO:root:get templates for: vjets\n",
      "INFO:root:Getting lumi_2022 rate\n",
      "INFO:root:get templates for: tthtobb\n",
      "INFO:root:Getting lumi_2022 rate\n",
      "INFO:root:get templates for: hh4b\n",
      "INFO:root:Getting BR_hbb rate\n",
      "INFO:root:Getting pdf_Higgs_ggHH rate\n",
      "INFO:root:Getting THU_HH rate\n",
      "INFO:root:Getting lumi_2022 rate\n",
      "INFO:root:starting region: fail\n",
      "INFO:root:get templates for: ttbar\n",
      "INFO:root:Getting pdf_gg rate\n",
      "INFO:root:Getting QCDscale_ttbar rate\n",
      "INFO:root:Getting lumi_2022 rate\n",
      "INFO:root:get templates for: vhtobb\n",
      "INFO:root:Getting lumi_2022 rate\n",
      "INFO:root:get templates for: diboson\n",
      "INFO:root:Getting lumi_2022 rate\n",
      "INFO:root:get templates for: vjets\n",
      "INFO:root:Getting lumi_2022 rate\n",
      "INFO:root:get templates for: tthtobb\n",
      "INFO:root:Getting lumi_2022 rate\n",
      "INFO:root:\n",
      "Skipping hh4b in fail region\n",
      "\n",
      "INFO:root:Setting up fail region fail\n",
      "INFO:root:qcd eff 0.00009\n",
      "INFO:root:rendering combine model\n"
     ]
    },
    {
     "name": "stdout",
     "output_type": "stream",
     "text": [
      "['hh4b']\n",
      "effect_up (CMS_bbbb_hadronic_pass_bin1_diboson_mcstat_bin2, passbin1_diboson) has magnitude greater than 50% (55.73%), you might be passing absolute values instead of relative\n",
      "effect_down (CMS_bbbb_hadronic_pass_bin1_diboson_mcstat_bin2, passbin1_diboson) has magnitude greater than 50% (55.18%), you might be passing absolute values instead of relative\n",
      "python3 ../postprocessing/CreateDatacard.py --templates-dir /home/users/cmantill/hh/HH4b/src/HH4b/boosted/templates/alltoys_test/toy_19 --year 2022EE --model-name toy_19 --cards-dir cards --regions pass_bin1 --unblinded\n"
     ]
    },
    {
     "name": "stderr",
     "output_type": "stream",
     "text": [
      "/home/users/woodson/.local/lib/python3.8/site-packages/numpy/core/getlimits.py:518: UserWarning: The value of the smallest subnormal for <class 'numpy.float64'> type is zero.\n",
      "  setattr(self, word, getattr(machar, word).flat[0])\n",
      "/home/users/woodson/.local/lib/python3.8/site-packages/numpy/core/getlimits.py:89: UserWarning: The value of the smallest subnormal for <class 'numpy.float64'> type is zero.\n",
      "  return self._float_to_str(self.smallest_subnormal)\n",
      "/home/users/woodson/.local/lib/python3.8/site-packages/numpy/core/getlimits.py:518: UserWarning: The value of the smallest subnormal for <class 'numpy.float32'> type is zero.\n",
      "  setattr(self, word, getattr(machar, word).flat[0])\n",
      "/home/users/woodson/.local/lib/python3.8/site-packages/numpy/core/getlimits.py:89: UserWarning: The value of the smallest subnormal for <class 'numpy.float32'> type is zero.\n",
      "  return self._float_to_str(self.smallest_subnormal)\n",
      "INFO:root:starting region: pass_bin1\n",
      "INFO:root:get templates for: ttbar\n",
      "INFO:root:Getting pdf_gg rate\n",
      "INFO:root:Getting QCDscale_ttbar rate\n",
      "INFO:root:Getting lumi_2022 rate\n",
      "INFO:root:get templates for: vhtobb\n",
      "INFO:root:Getting lumi_2022 rate\n",
      "INFO:root:get templates for: diboson\n",
      "INFO:root:Getting lumi_2022 rate\n",
      "INFO:root:get templates for: vjets\n",
      "INFO:root:Getting lumi_2022 rate\n",
      "INFO:root:get templates for: tthtobb\n",
      "INFO:root:Getting lumi_2022 rate\n",
      "INFO:root:get templates for: hh4b\n",
      "INFO:root:Getting BR_hbb rate\n",
      "INFO:root:Getting pdf_Higgs_ggHH rate\n",
      "INFO:root:Getting THU_HH rate\n",
      "INFO:root:Getting lumi_2022 rate\n",
      "INFO:root:starting region: fail\n",
      "INFO:root:get templates for: ttbar\n",
      "INFO:root:Getting pdf_gg rate\n",
      "INFO:root:Getting QCDscale_ttbar rate\n",
      "INFO:root:Getting lumi_2022 rate\n",
      "INFO:root:get templates for: vhtobb\n",
      "INFO:root:Getting lumi_2022 rate\n",
      "INFO:root:get templates for: diboson\n",
      "INFO:root:Getting lumi_2022 rate\n",
      "INFO:root:get templates for: vjets\n",
      "INFO:root:Getting lumi_2022 rate\n",
      "INFO:root:get templates for: tthtobb\n",
      "INFO:root:Getting lumi_2022 rate\n",
      "INFO:root:\n",
      "Skipping hh4b in fail region\n",
      "\n",
      "INFO:root:Setting up fail region fail\n",
      "INFO:root:qcd eff 0.00009\n",
      "INFO:root:rendering combine model\n"
     ]
    },
    {
     "name": "stdout",
     "output_type": "stream",
     "text": [
      "['hh4b']\n",
      "effect_up (CMS_bbbb_hadronic_pass_bin1_diboson_mcstat_bin2, passbin1_diboson) has magnitude greater than 50% (55.73%), you might be passing absolute values instead of relative\n",
      "effect_down (CMS_bbbb_hadronic_pass_bin1_diboson_mcstat_bin2, passbin1_diboson) has magnitude greater than 50% (55.18%), you might be passing absolute values instead of relative\n",
      "python3 ../postprocessing/CreateDatacard.py --templates-dir /home/users/cmantill/hh/HH4b/src/HH4b/boosted/templates/alltoys_test/toy_20 --year 2022EE --model-name toy_20 --cards-dir cards --regions pass_bin1 --unblinded\n"
     ]
    },
    {
     "name": "stderr",
     "output_type": "stream",
     "text": [
      "/home/users/woodson/.local/lib/python3.8/site-packages/numpy/core/getlimits.py:518: UserWarning: The value of the smallest subnormal for <class 'numpy.float64'> type is zero.\n",
      "  setattr(self, word, getattr(machar, word).flat[0])\n",
      "/home/users/woodson/.local/lib/python3.8/site-packages/numpy/core/getlimits.py:89: UserWarning: The value of the smallest subnormal for <class 'numpy.float64'> type is zero.\n",
      "  return self._float_to_str(self.smallest_subnormal)\n",
      "/home/users/woodson/.local/lib/python3.8/site-packages/numpy/core/getlimits.py:518: UserWarning: The value of the smallest subnormal for <class 'numpy.float32'> type is zero.\n",
      "  setattr(self, word, getattr(machar, word).flat[0])\n",
      "/home/users/woodson/.local/lib/python3.8/site-packages/numpy/core/getlimits.py:89: UserWarning: The value of the smallest subnormal for <class 'numpy.float32'> type is zero.\n",
      "  return self._float_to_str(self.smallest_subnormal)\n",
      "INFO:root:starting region: pass_bin1\n",
      "INFO:root:get templates for: ttbar\n",
      "INFO:root:Getting pdf_gg rate\n",
      "INFO:root:Getting QCDscale_ttbar rate\n",
      "INFO:root:Getting lumi_2022 rate\n",
      "INFO:root:get templates for: vhtobb\n",
      "INFO:root:Getting lumi_2022 rate\n",
      "INFO:root:get templates for: diboson\n",
      "INFO:root:Getting lumi_2022 rate\n",
      "INFO:root:get templates for: vjets\n",
      "INFO:root:Getting lumi_2022 rate\n",
      "INFO:root:get templates for: tthtobb\n",
      "INFO:root:Getting lumi_2022 rate\n",
      "INFO:root:get templates for: hh4b\n",
      "INFO:root:Getting BR_hbb rate\n",
      "INFO:root:Getting pdf_Higgs_ggHH rate\n",
      "INFO:root:Getting THU_HH rate\n",
      "INFO:root:Getting lumi_2022 rate\n",
      "INFO:root:starting region: fail\n",
      "INFO:root:get templates for: ttbar\n",
      "INFO:root:Getting pdf_gg rate\n",
      "INFO:root:Getting QCDscale_ttbar rate\n",
      "INFO:root:Getting lumi_2022 rate\n",
      "INFO:root:get templates for: vhtobb\n",
      "INFO:root:Getting lumi_2022 rate\n",
      "INFO:root:get templates for: diboson\n",
      "INFO:root:Getting lumi_2022 rate\n",
      "INFO:root:get templates for: vjets\n",
      "INFO:root:Getting lumi_2022 rate\n",
      "INFO:root:get templates for: tthtobb\n",
      "INFO:root:Getting lumi_2022 rate\n",
      "INFO:root:\n",
      "Skipping hh4b in fail region\n",
      "\n",
      "INFO:root:Setting up fail region fail\n",
      "INFO:root:qcd eff 0.00014\n",
      "INFO:root:rendering combine model\n"
     ]
    },
    {
     "name": "stdout",
     "output_type": "stream",
     "text": [
      "['hh4b']\n",
      "python3 ../postprocessing/CreateDatacard.py --templates-dir /home/users/cmantill/hh/HH4b/src/HH4b/boosted/templates/alltoys_test/toy_21 --year 2022EE --model-name toy_21 --cards-dir cards --regions pass_bin1 --unblinded\n"
     ]
    },
    {
     "name": "stderr",
     "output_type": "stream",
     "text": [
      "/home/users/woodson/.local/lib/python3.8/site-packages/numpy/core/getlimits.py:518: UserWarning: The value of the smallest subnormal for <class 'numpy.float64'> type is zero.\n",
      "  setattr(self, word, getattr(machar, word).flat[0])\n",
      "/home/users/woodson/.local/lib/python3.8/site-packages/numpy/core/getlimits.py:89: UserWarning: The value of the smallest subnormal for <class 'numpy.float64'> type is zero.\n",
      "  return self._float_to_str(self.smallest_subnormal)\n",
      "/home/users/woodson/.local/lib/python3.8/site-packages/numpy/core/getlimits.py:518: UserWarning: The value of the smallest subnormal for <class 'numpy.float32'> type is zero.\n",
      "  setattr(self, word, getattr(machar, word).flat[0])\n",
      "/home/users/woodson/.local/lib/python3.8/site-packages/numpy/core/getlimits.py:89: UserWarning: The value of the smallest subnormal for <class 'numpy.float32'> type is zero.\n",
      "  return self._float_to_str(self.smallest_subnormal)\n",
      "INFO:root:starting region: pass_bin1\n",
      "INFO:root:get templates for: ttbar\n",
      "INFO:root:Getting pdf_gg rate\n",
      "INFO:root:Getting QCDscale_ttbar rate\n",
      "INFO:root:Getting lumi_2022 rate\n",
      "INFO:root:get templates for: vhtobb\n",
      "INFO:root:Getting lumi_2022 rate\n",
      "INFO:root:get templates for: diboson\n",
      "INFO:root:Getting lumi_2022 rate\n",
      "INFO:root:get templates for: vjets\n",
      "INFO:root:Getting lumi_2022 rate\n",
      "INFO:root:get templates for: tthtobb\n",
      "INFO:root:Getting lumi_2022 rate\n",
      "INFO:root:get templates for: hh4b\n",
      "INFO:root:Getting BR_hbb rate\n",
      "INFO:root:Getting pdf_Higgs_ggHH rate\n",
      "INFO:root:Getting THU_HH rate\n",
      "INFO:root:Getting lumi_2022 rate\n",
      "INFO:root:starting region: fail\n",
      "INFO:root:get templates for: ttbar\n",
      "INFO:root:Getting pdf_gg rate\n",
      "INFO:root:Getting QCDscale_ttbar rate\n",
      "INFO:root:Getting lumi_2022 rate\n",
      "INFO:root:get templates for: vhtobb\n",
      "INFO:root:Getting lumi_2022 rate\n",
      "INFO:root:get templates for: diboson\n",
      "INFO:root:Getting lumi_2022 rate\n",
      "INFO:root:get templates for: vjets\n",
      "INFO:root:Getting lumi_2022 rate\n",
      "INFO:root:get templates for: tthtobb\n",
      "INFO:root:Getting lumi_2022 rate\n",
      "INFO:root:\n",
      "Skipping hh4b in fail region\n",
      "\n",
      "INFO:root:Setting up fail region fail\n",
      "INFO:root:qcd eff 0.00014\n",
      "INFO:root:rendering combine model\n"
     ]
    },
    {
     "name": "stdout",
     "output_type": "stream",
     "text": [
      "['hh4b']\n",
      "python3 ../postprocessing/CreateDatacard.py --templates-dir /home/users/cmantill/hh/HH4b/src/HH4b/boosted/templates/alltoys_test/toy_22 --year 2022EE --model-name toy_22 --cards-dir cards --regions pass_bin1 --unblinded\n"
     ]
    },
    {
     "name": "stderr",
     "output_type": "stream",
     "text": [
      "/home/users/woodson/.local/lib/python3.8/site-packages/numpy/core/getlimits.py:518: UserWarning: The value of the smallest subnormal for <class 'numpy.float64'> type is zero.\n",
      "  setattr(self, word, getattr(machar, word).flat[0])\n",
      "/home/users/woodson/.local/lib/python3.8/site-packages/numpy/core/getlimits.py:89: UserWarning: The value of the smallest subnormal for <class 'numpy.float64'> type is zero.\n",
      "  return self._float_to_str(self.smallest_subnormal)\n",
      "/home/users/woodson/.local/lib/python3.8/site-packages/numpy/core/getlimits.py:518: UserWarning: The value of the smallest subnormal for <class 'numpy.float32'> type is zero.\n",
      "  setattr(self, word, getattr(machar, word).flat[0])\n",
      "/home/users/woodson/.local/lib/python3.8/site-packages/numpy/core/getlimits.py:89: UserWarning: The value of the smallest subnormal for <class 'numpy.float32'> type is zero.\n",
      "  return self._float_to_str(self.smallest_subnormal)\n",
      "INFO:root:starting region: pass_bin1\n",
      "INFO:root:get templates for: ttbar\n",
      "INFO:root:Getting pdf_gg rate\n",
      "INFO:root:Getting QCDscale_ttbar rate\n",
      "INFO:root:Getting lumi_2022 rate\n",
      "INFO:root:get templates for: vhtobb\n",
      "INFO:root:Getting lumi_2022 rate\n",
      "INFO:root:get templates for: diboson\n",
      "INFO:root:Getting lumi_2022 rate\n",
      "INFO:root:get templates for: vjets\n",
      "INFO:root:Getting lumi_2022 rate\n",
      "INFO:root:get templates for: tthtobb\n",
      "INFO:root:Getting lumi_2022 rate\n",
      "INFO:root:get templates for: hh4b\n",
      "INFO:root:Getting BR_hbb rate\n",
      "INFO:root:Getting pdf_Higgs_ggHH rate\n",
      "INFO:root:Getting THU_HH rate\n",
      "INFO:root:Getting lumi_2022 rate\n",
      "INFO:root:starting region: fail\n",
      "INFO:root:get templates for: ttbar\n",
      "INFO:root:Getting pdf_gg rate\n",
      "INFO:root:Getting QCDscale_ttbar rate\n",
      "INFO:root:Getting lumi_2022 rate\n",
      "INFO:root:get templates for: vhtobb\n",
      "INFO:root:Getting lumi_2022 rate\n",
      "INFO:root:get templates for: diboson\n",
      "INFO:root:Getting lumi_2022 rate\n",
      "INFO:root:get templates for: vjets\n",
      "INFO:root:Getting lumi_2022 rate\n",
      "INFO:root:get templates for: tthtobb\n",
      "INFO:root:Getting lumi_2022 rate\n",
      "INFO:root:\n",
      "Skipping hh4b in fail region\n",
      "\n",
      "INFO:root:Setting up fail region fail\n",
      "INFO:root:qcd eff 0.00014\n",
      "INFO:root:rendering combine model\n"
     ]
    },
    {
     "name": "stdout",
     "output_type": "stream",
     "text": [
      "['hh4b']\n",
      "python3 ../postprocessing/CreateDatacard.py --templates-dir /home/users/cmantill/hh/HH4b/src/HH4b/boosted/templates/alltoys_test/toy_23 --year 2022EE --model-name toy_23 --cards-dir cards --regions pass_bin1 --unblinded\n"
     ]
    },
    {
     "name": "stderr",
     "output_type": "stream",
     "text": [
      "/home/users/woodson/.local/lib/python3.8/site-packages/numpy/core/getlimits.py:518: UserWarning: The value of the smallest subnormal for <class 'numpy.float64'> type is zero.\n",
      "  setattr(self, word, getattr(machar, word).flat[0])\n",
      "/home/users/woodson/.local/lib/python3.8/site-packages/numpy/core/getlimits.py:89: UserWarning: The value of the smallest subnormal for <class 'numpy.float64'> type is zero.\n",
      "  return self._float_to_str(self.smallest_subnormal)\n",
      "/home/users/woodson/.local/lib/python3.8/site-packages/numpy/core/getlimits.py:518: UserWarning: The value of the smallest subnormal for <class 'numpy.float32'> type is zero.\n",
      "  setattr(self, word, getattr(machar, word).flat[0])\n",
      "/home/users/woodson/.local/lib/python3.8/site-packages/numpy/core/getlimits.py:89: UserWarning: The value of the smallest subnormal for <class 'numpy.float32'> type is zero.\n",
      "  return self._float_to_str(self.smallest_subnormal)\n",
      "INFO:root:starting region: pass_bin1\n",
      "INFO:root:get templates for: ttbar\n",
      "INFO:root:Getting pdf_gg rate\n",
      "INFO:root:Getting QCDscale_ttbar rate\n",
      "INFO:root:Getting lumi_2022 rate\n",
      "INFO:root:get templates for: vhtobb\n",
      "INFO:root:Getting lumi_2022 rate\n",
      "INFO:root:get templates for: diboson\n",
      "INFO:root:Getting lumi_2022 rate\n",
      "INFO:root:get templates for: vjets\n",
      "INFO:root:Getting lumi_2022 rate\n",
      "INFO:root:get templates for: tthtobb\n",
      "INFO:root:Getting lumi_2022 rate\n",
      "INFO:root:get templates for: hh4b\n",
      "INFO:root:Getting BR_hbb rate\n",
      "INFO:root:Getting pdf_Higgs_ggHH rate\n",
      "INFO:root:Getting THU_HH rate\n",
      "INFO:root:Getting lumi_2022 rate\n",
      "INFO:root:starting region: fail\n",
      "INFO:root:get templates for: ttbar\n",
      "INFO:root:Getting pdf_gg rate\n",
      "INFO:root:Getting QCDscale_ttbar rate\n",
      "INFO:root:Getting lumi_2022 rate\n",
      "INFO:root:get templates for: vhtobb\n",
      "INFO:root:Getting lumi_2022 rate\n",
      "INFO:root:get templates for: diboson\n",
      "INFO:root:Getting lumi_2022 rate\n",
      "INFO:root:get templates for: vjets\n",
      "INFO:root:Getting lumi_2022 rate\n",
      "INFO:root:get templates for: tthtobb\n",
      "INFO:root:Getting lumi_2022 rate\n",
      "INFO:root:\n",
      "Skipping hh4b in fail region\n",
      "\n",
      "INFO:root:Setting up fail region fail\n",
      "INFO:root:qcd eff 0.00009\n",
      "INFO:root:rendering combine model\n"
     ]
    },
    {
     "name": "stdout",
     "output_type": "stream",
     "text": [
      "['hh4b']\n",
      "effect_up (CMS_bbbb_hadronic_pass_bin1_diboson_mcstat_bin2, passbin1_diboson) has magnitude greater than 50% (55.73%), you might be passing absolute values instead of relative\n",
      "effect_down (CMS_bbbb_hadronic_pass_bin1_diboson_mcstat_bin2, passbin1_diboson) has magnitude greater than 50% (55.18%), you might be passing absolute values instead of relative\n",
      "python3 ../postprocessing/CreateDatacard.py --templates-dir /home/users/cmantill/hh/HH4b/src/HH4b/boosted/templates/alltoys_test/toy_24 --year 2022EE --model-name toy_24 --cards-dir cards --regions pass_bin1 --unblinded\n"
     ]
    },
    {
     "name": "stderr",
     "output_type": "stream",
     "text": [
      "/home/users/woodson/.local/lib/python3.8/site-packages/numpy/core/getlimits.py:518: UserWarning: The value of the smallest subnormal for <class 'numpy.float64'> type is zero.\n",
      "  setattr(self, word, getattr(machar, word).flat[0])\n",
      "/home/users/woodson/.local/lib/python3.8/site-packages/numpy/core/getlimits.py:89: UserWarning: The value of the smallest subnormal for <class 'numpy.float64'> type is zero.\n",
      "  return self._float_to_str(self.smallest_subnormal)\n",
      "/home/users/woodson/.local/lib/python3.8/site-packages/numpy/core/getlimits.py:518: UserWarning: The value of the smallest subnormal for <class 'numpy.float32'> type is zero.\n",
      "  setattr(self, word, getattr(machar, word).flat[0])\n",
      "/home/users/woodson/.local/lib/python3.8/site-packages/numpy/core/getlimits.py:89: UserWarning: The value of the smallest subnormal for <class 'numpy.float32'> type is zero.\n",
      "  return self._float_to_str(self.smallest_subnormal)\n",
      "INFO:root:starting region: pass_bin1\n",
      "INFO:root:get templates for: ttbar\n",
      "INFO:root:Getting pdf_gg rate\n",
      "INFO:root:Getting QCDscale_ttbar rate\n",
      "INFO:root:Getting lumi_2022 rate\n",
      "INFO:root:get templates for: vhtobb\n",
      "INFO:root:Getting lumi_2022 rate\n",
      "INFO:root:get templates for: diboson\n",
      "INFO:root:Getting lumi_2022 rate\n",
      "INFO:root:get templates for: vjets\n",
      "INFO:root:Getting lumi_2022 rate\n",
      "INFO:root:get templates for: tthtobb\n",
      "INFO:root:Getting lumi_2022 rate\n",
      "INFO:root:get templates for: hh4b\n",
      "INFO:root:Getting BR_hbb rate\n",
      "INFO:root:Getting pdf_Higgs_ggHH rate\n",
      "INFO:root:Getting THU_HH rate\n",
      "INFO:root:Getting lumi_2022 rate\n",
      "INFO:root:starting region: fail\n",
      "INFO:root:get templates for: ttbar\n",
      "INFO:root:Getting pdf_gg rate\n",
      "INFO:root:Getting QCDscale_ttbar rate\n",
      "INFO:root:Getting lumi_2022 rate\n",
      "INFO:root:get templates for: vhtobb\n",
      "INFO:root:Getting lumi_2022 rate\n",
      "INFO:root:get templates for: diboson\n",
      "INFO:root:Getting lumi_2022 rate\n",
      "INFO:root:get templates for: vjets\n",
      "INFO:root:Getting lumi_2022 rate\n",
      "INFO:root:get templates for: tthtobb\n",
      "INFO:root:Getting lumi_2022 rate\n",
      "INFO:root:\n",
      "Skipping hh4b in fail region\n",
      "\n",
      "INFO:root:Setting up fail region fail\n",
      "INFO:root:qcd eff 0.00014\n",
      "INFO:root:rendering combine model\n"
     ]
    },
    {
     "name": "stdout",
     "output_type": "stream",
     "text": [
      "['hh4b']\n",
      "python3 ../postprocessing/CreateDatacard.py --templates-dir /home/users/cmantill/hh/HH4b/src/HH4b/boosted/templates/alltoys_test/toy_25 --year 2022EE --model-name toy_25 --cards-dir cards --regions pass_bin1 --unblinded\n"
     ]
    },
    {
     "name": "stderr",
     "output_type": "stream",
     "text": [
      "/home/users/woodson/.local/lib/python3.8/site-packages/numpy/core/getlimits.py:518: UserWarning: The value of the smallest subnormal for <class 'numpy.float64'> type is zero.\n",
      "  setattr(self, word, getattr(machar, word).flat[0])\n",
      "/home/users/woodson/.local/lib/python3.8/site-packages/numpy/core/getlimits.py:89: UserWarning: The value of the smallest subnormal for <class 'numpy.float64'> type is zero.\n",
      "  return self._float_to_str(self.smallest_subnormal)\n",
      "/home/users/woodson/.local/lib/python3.8/site-packages/numpy/core/getlimits.py:518: UserWarning: The value of the smallest subnormal for <class 'numpy.float32'> type is zero.\n",
      "  setattr(self, word, getattr(machar, word).flat[0])\n",
      "/home/users/woodson/.local/lib/python3.8/site-packages/numpy/core/getlimits.py:89: UserWarning: The value of the smallest subnormal for <class 'numpy.float32'> type is zero.\n",
      "  return self._float_to_str(self.smallest_subnormal)\n",
      "INFO:root:starting region: pass_bin1\n",
      "INFO:root:get templates for: ttbar\n",
      "INFO:root:Getting pdf_gg rate\n",
      "INFO:root:Getting QCDscale_ttbar rate\n",
      "INFO:root:Getting lumi_2022 rate\n",
      "INFO:root:get templates for: vhtobb\n",
      "INFO:root:Getting lumi_2022 rate\n",
      "INFO:root:get templates for: diboson\n",
      "INFO:root:Getting lumi_2022 rate\n",
      "INFO:root:get templates for: vjets\n",
      "INFO:root:Getting lumi_2022 rate\n",
      "INFO:root:get templates for: tthtobb\n",
      "INFO:root:Getting lumi_2022 rate\n",
      "INFO:root:get templates for: hh4b\n",
      "INFO:root:Getting BR_hbb rate\n",
      "INFO:root:Getting pdf_Higgs_ggHH rate\n",
      "INFO:root:Getting THU_HH rate\n",
      "INFO:root:Getting lumi_2022 rate\n",
      "INFO:root:starting region: fail\n",
      "INFO:root:get templates for: ttbar\n",
      "INFO:root:Getting pdf_gg rate\n",
      "INFO:root:Getting QCDscale_ttbar rate\n",
      "INFO:root:Getting lumi_2022 rate\n",
      "INFO:root:get templates for: vhtobb\n",
      "INFO:root:Getting lumi_2022 rate\n",
      "INFO:root:get templates for: diboson\n",
      "INFO:root:Getting lumi_2022 rate\n",
      "INFO:root:get templates for: vjets\n",
      "INFO:root:Getting lumi_2022 rate\n",
      "INFO:root:get templates for: tthtobb\n",
      "INFO:root:Getting lumi_2022 rate\n",
      "INFO:root:\n",
      "Skipping hh4b in fail region\n",
      "\n",
      "INFO:root:Setting up fail region fail\n",
      "INFO:root:qcd eff 0.00014\n",
      "INFO:root:rendering combine model\n"
     ]
    },
    {
     "name": "stdout",
     "output_type": "stream",
     "text": [
      "['hh4b']\n",
      "python3 ../postprocessing/CreateDatacard.py --templates-dir /home/users/cmantill/hh/HH4b/src/HH4b/boosted/templates/alltoys_test/toy_26 --year 2022EE --model-name toy_26 --cards-dir cards --regions pass_bin1 --unblinded\n"
     ]
    },
    {
     "name": "stderr",
     "output_type": "stream",
     "text": [
      "/home/users/woodson/.local/lib/python3.8/site-packages/numpy/core/getlimits.py:518: UserWarning: The value of the smallest subnormal for <class 'numpy.float64'> type is zero.\n",
      "  setattr(self, word, getattr(machar, word).flat[0])\n",
      "/home/users/woodson/.local/lib/python3.8/site-packages/numpy/core/getlimits.py:89: UserWarning: The value of the smallest subnormal for <class 'numpy.float64'> type is zero.\n",
      "  return self._float_to_str(self.smallest_subnormal)\n",
      "/home/users/woodson/.local/lib/python3.8/site-packages/numpy/core/getlimits.py:518: UserWarning: The value of the smallest subnormal for <class 'numpy.float32'> type is zero.\n",
      "  setattr(self, word, getattr(machar, word).flat[0])\n",
      "/home/users/woodson/.local/lib/python3.8/site-packages/numpy/core/getlimits.py:89: UserWarning: The value of the smallest subnormal for <class 'numpy.float32'> type is zero.\n",
      "  return self._float_to_str(self.smallest_subnormal)\n",
      "INFO:root:starting region: pass_bin1\n",
      "INFO:root:get templates for: ttbar\n",
      "INFO:root:Getting pdf_gg rate\n",
      "INFO:root:Getting QCDscale_ttbar rate\n",
      "INFO:root:Getting lumi_2022 rate\n",
      "INFO:root:get templates for: vhtobb\n",
      "INFO:root:Getting lumi_2022 rate\n",
      "INFO:root:get templates for: diboson\n",
      "INFO:root:Getting lumi_2022 rate\n",
      "INFO:root:get templates for: vjets\n",
      "INFO:root:Getting lumi_2022 rate\n",
      "INFO:root:get templates for: tthtobb\n",
      "INFO:root:Getting lumi_2022 rate\n",
      "INFO:root:get templates for: hh4b\n",
      "INFO:root:Getting BR_hbb rate\n",
      "INFO:root:Getting pdf_Higgs_ggHH rate\n",
      "INFO:root:Getting THU_HH rate\n",
      "INFO:root:Getting lumi_2022 rate\n",
      "INFO:root:starting region: fail\n",
      "INFO:root:get templates for: ttbar\n",
      "INFO:root:Getting pdf_gg rate\n",
      "INFO:root:Getting QCDscale_ttbar rate\n",
      "INFO:root:Getting lumi_2022 rate\n",
      "INFO:root:get templates for: vhtobb\n",
      "INFO:root:Getting lumi_2022 rate\n",
      "INFO:root:get templates for: diboson\n",
      "INFO:root:Getting lumi_2022 rate\n",
      "INFO:root:get templates for: vjets\n",
      "INFO:root:Getting lumi_2022 rate\n",
      "INFO:root:get templates for: tthtobb\n",
      "INFO:root:Getting lumi_2022 rate\n",
      "INFO:root:\n",
      "Skipping hh4b in fail region\n",
      "\n",
      "INFO:root:Setting up fail region fail\n",
      "INFO:root:qcd eff 0.00009\n",
      "INFO:root:rendering combine model\n"
     ]
    },
    {
     "name": "stdout",
     "output_type": "stream",
     "text": [
      "['hh4b']\n",
      "effect_up (CMS_bbbb_hadronic_pass_bin1_diboson_mcstat_bin2, passbin1_diboson) has magnitude greater than 50% (55.73%), you might be passing absolute values instead of relative\n",
      "effect_down (CMS_bbbb_hadronic_pass_bin1_diboson_mcstat_bin2, passbin1_diboson) has magnitude greater than 50% (55.18%), you might be passing absolute values instead of relative\n",
      "python3 ../postprocessing/CreateDatacard.py --templates-dir /home/users/cmantill/hh/HH4b/src/HH4b/boosted/templates/alltoys_test/toy_27 --year 2022EE --model-name toy_27 --cards-dir cards --regions pass_bin1 --unblinded\n"
     ]
    },
    {
     "name": "stderr",
     "output_type": "stream",
     "text": [
      "/home/users/woodson/.local/lib/python3.8/site-packages/numpy/core/getlimits.py:518: UserWarning: The value of the smallest subnormal for <class 'numpy.float64'> type is zero.\n",
      "  setattr(self, word, getattr(machar, word).flat[0])\n",
      "/home/users/woodson/.local/lib/python3.8/site-packages/numpy/core/getlimits.py:89: UserWarning: The value of the smallest subnormal for <class 'numpy.float64'> type is zero.\n",
      "  return self._float_to_str(self.smallest_subnormal)\n",
      "/home/users/woodson/.local/lib/python3.8/site-packages/numpy/core/getlimits.py:518: UserWarning: The value of the smallest subnormal for <class 'numpy.float32'> type is zero.\n",
      "  setattr(self, word, getattr(machar, word).flat[0])\n",
      "/home/users/woodson/.local/lib/python3.8/site-packages/numpy/core/getlimits.py:89: UserWarning: The value of the smallest subnormal for <class 'numpy.float32'> type is zero.\n",
      "  return self._float_to_str(self.smallest_subnormal)\n",
      "INFO:root:starting region: pass_bin1\n",
      "INFO:root:get templates for: ttbar\n",
      "INFO:root:Getting pdf_gg rate\n",
      "INFO:root:Getting QCDscale_ttbar rate\n",
      "INFO:root:Getting lumi_2022 rate\n",
      "INFO:root:get templates for: vhtobb\n",
      "INFO:root:Getting lumi_2022 rate\n",
      "INFO:root:get templates for: diboson\n",
      "INFO:root:Getting lumi_2022 rate\n",
      "INFO:root:get templates for: vjets\n",
      "INFO:root:Getting lumi_2022 rate\n",
      "INFO:root:get templates for: tthtobb\n",
      "INFO:root:Getting lumi_2022 rate\n",
      "INFO:root:get templates for: hh4b\n",
      "INFO:root:Getting BR_hbb rate\n",
      "INFO:root:Getting pdf_Higgs_ggHH rate\n",
      "INFO:root:Getting THU_HH rate\n",
      "INFO:root:Getting lumi_2022 rate\n",
      "INFO:root:starting region: fail\n",
      "INFO:root:get templates for: ttbar\n",
      "INFO:root:Getting pdf_gg rate\n",
      "INFO:root:Getting QCDscale_ttbar rate\n",
      "INFO:root:Getting lumi_2022 rate\n",
      "INFO:root:get templates for: vhtobb\n",
      "INFO:root:Getting lumi_2022 rate\n",
      "INFO:root:get templates for: diboson\n",
      "INFO:root:Getting lumi_2022 rate\n",
      "INFO:root:get templates for: vjets\n",
      "INFO:root:Getting lumi_2022 rate\n",
      "INFO:root:get templates for: tthtobb\n",
      "INFO:root:Getting lumi_2022 rate\n",
      "INFO:root:\n",
      "Skipping hh4b in fail region\n",
      "\n",
      "INFO:root:Setting up fail region fail\n",
      "INFO:root:qcd eff 0.00009\n",
      "INFO:root:rendering combine model\n"
     ]
    },
    {
     "name": "stdout",
     "output_type": "stream",
     "text": [
      "['hh4b']\n",
      "effect_up (CMS_bbbb_hadronic_pass_bin1_diboson_mcstat_bin2, passbin1_diboson) has magnitude greater than 50% (55.73%), you might be passing absolute values instead of relative\n",
      "effect_down (CMS_bbbb_hadronic_pass_bin1_diboson_mcstat_bin2, passbin1_diboson) has magnitude greater than 50% (55.18%), you might be passing absolute values instead of relative\n",
      "python3 ../postprocessing/CreateDatacard.py --templates-dir /home/users/cmantill/hh/HH4b/src/HH4b/boosted/templates/alltoys_test/toy_28 --year 2022EE --model-name toy_28 --cards-dir cards --regions pass_bin1 --unblinded\n"
     ]
    },
    {
     "name": "stderr",
     "output_type": "stream",
     "text": [
      "/home/users/woodson/.local/lib/python3.8/site-packages/numpy/core/getlimits.py:518: UserWarning: The value of the smallest subnormal for <class 'numpy.float64'> type is zero.\n",
      "  setattr(self, word, getattr(machar, word).flat[0])\n",
      "/home/users/woodson/.local/lib/python3.8/site-packages/numpy/core/getlimits.py:89: UserWarning: The value of the smallest subnormal for <class 'numpy.float64'> type is zero.\n",
      "  return self._float_to_str(self.smallest_subnormal)\n",
      "/home/users/woodson/.local/lib/python3.8/site-packages/numpy/core/getlimits.py:518: UserWarning: The value of the smallest subnormal for <class 'numpy.float32'> type is zero.\n",
      "  setattr(self, word, getattr(machar, word).flat[0])\n",
      "/home/users/woodson/.local/lib/python3.8/site-packages/numpy/core/getlimits.py:89: UserWarning: The value of the smallest subnormal for <class 'numpy.float32'> type is zero.\n",
      "  return self._float_to_str(self.smallest_subnormal)\n",
      "INFO:root:starting region: pass_bin1\n",
      "INFO:root:get templates for: ttbar\n",
      "INFO:root:Getting pdf_gg rate\n",
      "INFO:root:Getting QCDscale_ttbar rate\n",
      "INFO:root:Getting lumi_2022 rate\n",
      "INFO:root:get templates for: vhtobb\n",
      "INFO:root:Getting lumi_2022 rate\n",
      "INFO:root:get templates for: diboson\n",
      "INFO:root:Getting lumi_2022 rate\n",
      "INFO:root:get templates for: vjets\n",
      "INFO:root:Getting lumi_2022 rate\n",
      "INFO:root:get templates for: tthtobb\n",
      "INFO:root:Getting lumi_2022 rate\n",
      "INFO:root:get templates for: hh4b\n",
      "INFO:root:Getting BR_hbb rate\n",
      "INFO:root:Getting pdf_Higgs_ggHH rate\n",
      "INFO:root:Getting THU_HH rate\n",
      "INFO:root:Getting lumi_2022 rate\n",
      "INFO:root:starting region: fail\n",
      "INFO:root:get templates for: ttbar\n",
      "INFO:root:Getting pdf_gg rate\n",
      "INFO:root:Getting QCDscale_ttbar rate\n",
      "INFO:root:Getting lumi_2022 rate\n",
      "INFO:root:get templates for: vhtobb\n",
      "INFO:root:Getting lumi_2022 rate\n",
      "INFO:root:get templates for: diboson\n",
      "INFO:root:Getting lumi_2022 rate\n",
      "INFO:root:get templates for: vjets\n",
      "INFO:root:Getting lumi_2022 rate\n",
      "INFO:root:get templates for: tthtobb\n",
      "INFO:root:Getting lumi_2022 rate\n",
      "INFO:root:\n",
      "Skipping hh4b in fail region\n",
      "\n",
      "INFO:root:Setting up fail region fail\n",
      "INFO:root:qcd eff 0.00009\n",
      "INFO:root:rendering combine model\n"
     ]
    },
    {
     "name": "stdout",
     "output_type": "stream",
     "text": [
      "['hh4b']\n",
      "effect_up (CMS_bbbb_hadronic_pass_bin1_diboson_mcstat_bin2, passbin1_diboson) has magnitude greater than 50% (55.73%), you might be passing absolute values instead of relative\n",
      "effect_down (CMS_bbbb_hadronic_pass_bin1_diboson_mcstat_bin2, passbin1_diboson) has magnitude greater than 50% (55.18%), you might be passing absolute values instead of relative\n",
      "python3 ../postprocessing/CreateDatacard.py --templates-dir /home/users/cmantill/hh/HH4b/src/HH4b/boosted/templates/alltoys_test/toy_29 --year 2022EE --model-name toy_29 --cards-dir cards --regions pass_bin1 --unblinded\n"
     ]
    },
    {
     "name": "stderr",
     "output_type": "stream",
     "text": [
      "/home/users/woodson/.local/lib/python3.8/site-packages/numpy/core/getlimits.py:518: UserWarning: The value of the smallest subnormal for <class 'numpy.float64'> type is zero.\n",
      "  setattr(self, word, getattr(machar, word).flat[0])\n",
      "/home/users/woodson/.local/lib/python3.8/site-packages/numpy/core/getlimits.py:89: UserWarning: The value of the smallest subnormal for <class 'numpy.float64'> type is zero.\n",
      "  return self._float_to_str(self.smallest_subnormal)\n",
      "/home/users/woodson/.local/lib/python3.8/site-packages/numpy/core/getlimits.py:518: UserWarning: The value of the smallest subnormal for <class 'numpy.float32'> type is zero.\n",
      "  setattr(self, word, getattr(machar, word).flat[0])\n",
      "/home/users/woodson/.local/lib/python3.8/site-packages/numpy/core/getlimits.py:89: UserWarning: The value of the smallest subnormal for <class 'numpy.float32'> type is zero.\n",
      "  return self._float_to_str(self.smallest_subnormal)\n",
      "INFO:root:starting region: pass_bin1\n",
      "INFO:root:get templates for: ttbar\n",
      "INFO:root:Getting pdf_gg rate\n",
      "INFO:root:Getting QCDscale_ttbar rate\n",
      "INFO:root:Getting lumi_2022 rate\n",
      "INFO:root:get templates for: vhtobb\n",
      "INFO:root:Getting lumi_2022 rate\n",
      "INFO:root:get templates for: diboson\n",
      "INFO:root:Getting lumi_2022 rate\n",
      "INFO:root:get templates for: vjets\n",
      "INFO:root:Getting lumi_2022 rate\n",
      "INFO:root:get templates for: tthtobb\n",
      "INFO:root:Getting lumi_2022 rate\n",
      "INFO:root:get templates for: hh4b\n",
      "INFO:root:Getting BR_hbb rate\n",
      "INFO:root:Getting pdf_Higgs_ggHH rate\n",
      "INFO:root:Getting THU_HH rate\n",
      "INFO:root:Getting lumi_2022 rate\n",
      "INFO:root:starting region: fail\n",
      "INFO:root:get templates for: ttbar\n",
      "INFO:root:Getting pdf_gg rate\n",
      "INFO:root:Getting QCDscale_ttbar rate\n",
      "INFO:root:Getting lumi_2022 rate\n",
      "INFO:root:get templates for: vhtobb\n",
      "INFO:root:Getting lumi_2022 rate\n",
      "INFO:root:get templates for: diboson\n",
      "INFO:root:Getting lumi_2022 rate\n",
      "INFO:root:get templates for: vjets\n",
      "INFO:root:Getting lumi_2022 rate\n",
      "INFO:root:get templates for: tthtobb\n",
      "INFO:root:Getting lumi_2022 rate\n",
      "INFO:root:\n",
      "Skipping hh4b in fail region\n",
      "\n",
      "INFO:root:Setting up fail region fail\n",
      "INFO:root:qcd eff 0.00009\n",
      "INFO:root:rendering combine model\n"
     ]
    },
    {
     "name": "stdout",
     "output_type": "stream",
     "text": [
      "['hh4b']\n",
      "effect_up (CMS_bbbb_hadronic_pass_bin1_diboson_mcstat_bin2, passbin1_diboson) has magnitude greater than 50% (55.73%), you might be passing absolute values instead of relative\n",
      "effect_down (CMS_bbbb_hadronic_pass_bin1_diboson_mcstat_bin2, passbin1_diboson) has magnitude greater than 50% (55.18%), you might be passing absolute values instead of relative\n",
      "python3 ../postprocessing/CreateDatacard.py --templates-dir /home/users/cmantill/hh/HH4b/src/HH4b/boosted/templates/alltoys_test/toy_30 --year 2022EE --model-name toy_30 --cards-dir cards --regions pass_bin1 --unblinded\n"
     ]
    },
    {
     "name": "stderr",
     "output_type": "stream",
     "text": [
      "/home/users/woodson/.local/lib/python3.8/site-packages/numpy/core/getlimits.py:518: UserWarning: The value of the smallest subnormal for <class 'numpy.float64'> type is zero.\n",
      "  setattr(self, word, getattr(machar, word).flat[0])\n",
      "/home/users/woodson/.local/lib/python3.8/site-packages/numpy/core/getlimits.py:89: UserWarning: The value of the smallest subnormal for <class 'numpy.float64'> type is zero.\n",
      "  return self._float_to_str(self.smallest_subnormal)\n",
      "/home/users/woodson/.local/lib/python3.8/site-packages/numpy/core/getlimits.py:518: UserWarning: The value of the smallest subnormal for <class 'numpy.float32'> type is zero.\n",
      "  setattr(self, word, getattr(machar, word).flat[0])\n",
      "/home/users/woodson/.local/lib/python3.8/site-packages/numpy/core/getlimits.py:89: UserWarning: The value of the smallest subnormal for <class 'numpy.float32'> type is zero.\n",
      "  return self._float_to_str(self.smallest_subnormal)\n",
      "INFO:root:starting region: pass_bin1\n",
      "INFO:root:get templates for: ttbar\n",
      "INFO:root:Getting pdf_gg rate\n",
      "INFO:root:Getting QCDscale_ttbar rate\n",
      "INFO:root:Getting lumi_2022 rate\n",
      "INFO:root:get templates for: vhtobb\n",
      "INFO:root:Getting lumi_2022 rate\n",
      "INFO:root:get templates for: diboson\n",
      "INFO:root:Getting lumi_2022 rate\n",
      "INFO:root:get templates for: vjets\n",
      "INFO:root:Getting lumi_2022 rate\n",
      "INFO:root:get templates for: tthtobb\n",
      "INFO:root:Getting lumi_2022 rate\n",
      "INFO:root:get templates for: hh4b\n",
      "INFO:root:Getting BR_hbb rate\n",
      "INFO:root:Getting pdf_Higgs_ggHH rate\n",
      "INFO:root:Getting THU_HH rate\n",
      "INFO:root:Getting lumi_2022 rate\n",
      "INFO:root:starting region: fail\n",
      "INFO:root:get templates for: ttbar\n",
      "INFO:root:Getting pdf_gg rate\n",
      "INFO:root:Getting QCDscale_ttbar rate\n",
      "INFO:root:Getting lumi_2022 rate\n",
      "INFO:root:get templates for: vhtobb\n",
      "INFO:root:Getting lumi_2022 rate\n",
      "INFO:root:get templates for: diboson\n",
      "INFO:root:Getting lumi_2022 rate\n",
      "INFO:root:get templates for: vjets\n",
      "INFO:root:Getting lumi_2022 rate\n",
      "INFO:root:get templates for: tthtobb\n",
      "INFO:root:Getting lumi_2022 rate\n",
      "INFO:root:\n",
      "Skipping hh4b in fail region\n",
      "\n",
      "INFO:root:Setting up fail region fail\n",
      "INFO:root:qcd eff 0.00014\n",
      "INFO:root:rendering combine model\n"
     ]
    },
    {
     "name": "stdout",
     "output_type": "stream",
     "text": [
      "['hh4b']\n",
      "python3 ../postprocessing/CreateDatacard.py --templates-dir /home/users/cmantill/hh/HH4b/src/HH4b/boosted/templates/alltoys_test/toy_31 --year 2022EE --model-name toy_31 --cards-dir cards --regions pass_bin1 --unblinded\n"
     ]
    },
    {
     "name": "stderr",
     "output_type": "stream",
     "text": [
      "/home/users/woodson/.local/lib/python3.8/site-packages/numpy/core/getlimits.py:518: UserWarning: The value of the smallest subnormal for <class 'numpy.float64'> type is zero.\n",
      "  setattr(self, word, getattr(machar, word).flat[0])\n",
      "/home/users/woodson/.local/lib/python3.8/site-packages/numpy/core/getlimits.py:89: UserWarning: The value of the smallest subnormal for <class 'numpy.float64'> type is zero.\n",
      "  return self._float_to_str(self.smallest_subnormal)\n",
      "/home/users/woodson/.local/lib/python3.8/site-packages/numpy/core/getlimits.py:518: UserWarning: The value of the smallest subnormal for <class 'numpy.float32'> type is zero.\n",
      "  setattr(self, word, getattr(machar, word).flat[0])\n",
      "/home/users/woodson/.local/lib/python3.8/site-packages/numpy/core/getlimits.py:89: UserWarning: The value of the smallest subnormal for <class 'numpy.float32'> type is zero.\n",
      "  return self._float_to_str(self.smallest_subnormal)\n",
      "INFO:root:starting region: pass_bin1\n",
      "INFO:root:get templates for: ttbar\n",
      "INFO:root:Getting pdf_gg rate\n",
      "INFO:root:Getting QCDscale_ttbar rate\n",
      "INFO:root:Getting lumi_2022 rate\n",
      "INFO:root:get templates for: vhtobb\n",
      "INFO:root:Getting lumi_2022 rate\n",
      "INFO:root:get templates for: diboson\n",
      "INFO:root:Getting lumi_2022 rate\n",
      "INFO:root:get templates for: vjets\n",
      "INFO:root:Getting lumi_2022 rate\n",
      "INFO:root:get templates for: tthtobb\n",
      "INFO:root:Getting lumi_2022 rate\n",
      "INFO:root:get templates for: hh4b\n",
      "INFO:root:Getting BR_hbb rate\n",
      "INFO:root:Getting pdf_Higgs_ggHH rate\n",
      "INFO:root:Getting THU_HH rate\n",
      "INFO:root:Getting lumi_2022 rate\n",
      "INFO:root:starting region: fail\n",
      "INFO:root:get templates for: ttbar\n",
      "INFO:root:Getting pdf_gg rate\n",
      "INFO:root:Getting QCDscale_ttbar rate\n",
      "INFO:root:Getting lumi_2022 rate\n",
      "INFO:root:get templates for: vhtobb\n",
      "INFO:root:Getting lumi_2022 rate\n",
      "INFO:root:get templates for: diboson\n",
      "INFO:root:Getting lumi_2022 rate\n",
      "INFO:root:get templates for: vjets\n",
      "INFO:root:Getting lumi_2022 rate\n",
      "INFO:root:get templates for: tthtobb\n",
      "INFO:root:Getting lumi_2022 rate\n",
      "INFO:root:\n",
      "Skipping hh4b in fail region\n",
      "\n",
      "INFO:root:Setting up fail region fail\n",
      "INFO:root:qcd eff 0.00014\n",
      "INFO:root:rendering combine model\n"
     ]
    },
    {
     "name": "stdout",
     "output_type": "stream",
     "text": [
      "['hh4b']\n",
      "python3 ../postprocessing/CreateDatacard.py --templates-dir /home/users/cmantill/hh/HH4b/src/HH4b/boosted/templates/alltoys_test/toy_32 --year 2022EE --model-name toy_32 --cards-dir cards --regions pass_bin1 --unblinded\n"
     ]
    },
    {
     "name": "stderr",
     "output_type": "stream",
     "text": [
      "/home/users/woodson/.local/lib/python3.8/site-packages/numpy/core/getlimits.py:518: UserWarning: The value of the smallest subnormal for <class 'numpy.float64'> type is zero.\n",
      "  setattr(self, word, getattr(machar, word).flat[0])\n",
      "/home/users/woodson/.local/lib/python3.8/site-packages/numpy/core/getlimits.py:89: UserWarning: The value of the smallest subnormal for <class 'numpy.float64'> type is zero.\n",
      "  return self._float_to_str(self.smallest_subnormal)\n",
      "/home/users/woodson/.local/lib/python3.8/site-packages/numpy/core/getlimits.py:518: UserWarning: The value of the smallest subnormal for <class 'numpy.float32'> type is zero.\n",
      "  setattr(self, word, getattr(machar, word).flat[0])\n",
      "/home/users/woodson/.local/lib/python3.8/site-packages/numpy/core/getlimits.py:89: UserWarning: The value of the smallest subnormal for <class 'numpy.float32'> type is zero.\n",
      "  return self._float_to_str(self.smallest_subnormal)\n",
      "INFO:root:starting region: pass_bin1\n",
      "INFO:root:get templates for: ttbar\n",
      "INFO:root:Getting pdf_gg rate\n",
      "INFO:root:Getting QCDscale_ttbar rate\n",
      "INFO:root:Getting lumi_2022 rate\n",
      "INFO:root:get templates for: vhtobb\n",
      "INFO:root:Getting lumi_2022 rate\n",
      "INFO:root:get templates for: diboson\n",
      "INFO:root:Getting lumi_2022 rate\n",
      "INFO:root:get templates for: vjets\n",
      "INFO:root:Getting lumi_2022 rate\n",
      "INFO:root:get templates for: tthtobb\n",
      "INFO:root:Getting lumi_2022 rate\n",
      "INFO:root:get templates for: hh4b\n",
      "INFO:root:Getting BR_hbb rate\n",
      "INFO:root:Getting pdf_Higgs_ggHH rate\n",
      "INFO:root:Getting THU_HH rate\n",
      "INFO:root:Getting lumi_2022 rate\n",
      "INFO:root:starting region: fail\n",
      "INFO:root:get templates for: ttbar\n",
      "INFO:root:Getting pdf_gg rate\n",
      "INFO:root:Getting QCDscale_ttbar rate\n",
      "INFO:root:Getting lumi_2022 rate\n",
      "INFO:root:get templates for: vhtobb\n",
      "INFO:root:Getting lumi_2022 rate\n",
      "INFO:root:get templates for: diboson\n",
      "INFO:root:Getting lumi_2022 rate\n",
      "INFO:root:get templates for: vjets\n",
      "INFO:root:Getting lumi_2022 rate\n",
      "INFO:root:get templates for: tthtobb\n",
      "INFO:root:Getting lumi_2022 rate\n",
      "INFO:root:\n",
      "Skipping hh4b in fail region\n",
      "\n",
      "INFO:root:Setting up fail region fail\n",
      "INFO:root:qcd eff 0.00009\n",
      "INFO:root:rendering combine model\n"
     ]
    },
    {
     "name": "stdout",
     "output_type": "stream",
     "text": [
      "['hh4b']\n",
      "effect_up (CMS_bbbb_hadronic_pass_bin1_diboson_mcstat_bin2, passbin1_diboson) has magnitude greater than 50% (55.73%), you might be passing absolute values instead of relative\n",
      "effect_down (CMS_bbbb_hadronic_pass_bin1_diboson_mcstat_bin2, passbin1_diboson) has magnitude greater than 50% (55.18%), you might be passing absolute values instead of relative\n",
      "python3 ../postprocessing/CreateDatacard.py --templates-dir /home/users/cmantill/hh/HH4b/src/HH4b/boosted/templates/alltoys_test/toy_33 --year 2022EE --model-name toy_33 --cards-dir cards --regions pass_bin1 --unblinded\n"
     ]
    },
    {
     "name": "stderr",
     "output_type": "stream",
     "text": [
      "/home/users/woodson/.local/lib/python3.8/site-packages/numpy/core/getlimits.py:518: UserWarning: The value of the smallest subnormal for <class 'numpy.float64'> type is zero.\n",
      "  setattr(self, word, getattr(machar, word).flat[0])\n",
      "/home/users/woodson/.local/lib/python3.8/site-packages/numpy/core/getlimits.py:89: UserWarning: The value of the smallest subnormal for <class 'numpy.float64'> type is zero.\n",
      "  return self._float_to_str(self.smallest_subnormal)\n",
      "/home/users/woodson/.local/lib/python3.8/site-packages/numpy/core/getlimits.py:518: UserWarning: The value of the smallest subnormal for <class 'numpy.float32'> type is zero.\n",
      "  setattr(self, word, getattr(machar, word).flat[0])\n",
      "/home/users/woodson/.local/lib/python3.8/site-packages/numpy/core/getlimits.py:89: UserWarning: The value of the smallest subnormal for <class 'numpy.float32'> type is zero.\n",
      "  return self._float_to_str(self.smallest_subnormal)\n",
      "INFO:root:starting region: pass_bin1\n",
      "INFO:root:get templates for: ttbar\n",
      "INFO:root:Getting pdf_gg rate\n",
      "INFO:root:Getting QCDscale_ttbar rate\n",
      "INFO:root:Getting lumi_2022 rate\n",
      "INFO:root:get templates for: vhtobb\n",
      "INFO:root:Getting lumi_2022 rate\n",
      "INFO:root:get templates for: diboson\n",
      "INFO:root:Getting lumi_2022 rate\n",
      "INFO:root:get templates for: vjets\n",
      "INFO:root:Getting lumi_2022 rate\n",
      "INFO:root:get templates for: tthtobb\n",
      "INFO:root:Getting lumi_2022 rate\n",
      "INFO:root:get templates for: hh4b\n",
      "INFO:root:Getting BR_hbb rate\n",
      "INFO:root:Getting pdf_Higgs_ggHH rate\n",
      "INFO:root:Getting THU_HH rate\n",
      "INFO:root:Getting lumi_2022 rate\n",
      "INFO:root:starting region: fail\n",
      "INFO:root:get templates for: ttbar\n",
      "INFO:root:Getting pdf_gg rate\n",
      "INFO:root:Getting QCDscale_ttbar rate\n",
      "INFO:root:Getting lumi_2022 rate\n",
      "INFO:root:get templates for: vhtobb\n",
      "INFO:root:Getting lumi_2022 rate\n",
      "INFO:root:get templates for: diboson\n",
      "INFO:root:Getting lumi_2022 rate\n",
      "INFO:root:get templates for: vjets\n",
      "INFO:root:Getting lumi_2022 rate\n",
      "INFO:root:get templates for: tthtobb\n",
      "INFO:root:Getting lumi_2022 rate\n",
      "INFO:root:\n",
      "Skipping hh4b in fail region\n",
      "\n",
      "INFO:root:Setting up fail region fail\n",
      "INFO:root:qcd eff 0.00009\n",
      "INFO:root:rendering combine model\n"
     ]
    },
    {
     "name": "stdout",
     "output_type": "stream",
     "text": [
      "['hh4b']\n",
      "effect_up (CMS_bbbb_hadronic_pass_bin1_diboson_mcstat_bin2, passbin1_diboson) has magnitude greater than 50% (55.73%), you might be passing absolute values instead of relative\n",
      "effect_down (CMS_bbbb_hadronic_pass_bin1_diboson_mcstat_bin2, passbin1_diboson) has magnitude greater than 50% (55.18%), you might be passing absolute values instead of relative\n",
      "python3 ../postprocessing/CreateDatacard.py --templates-dir /home/users/cmantill/hh/HH4b/src/HH4b/boosted/templates/alltoys_test/toy_34 --year 2022EE --model-name toy_34 --cards-dir cards --regions pass_bin1 --unblinded\n"
     ]
    },
    {
     "name": "stderr",
     "output_type": "stream",
     "text": [
      "/home/users/woodson/.local/lib/python3.8/site-packages/numpy/core/getlimits.py:518: UserWarning: The value of the smallest subnormal for <class 'numpy.float64'> type is zero.\n",
      "  setattr(self, word, getattr(machar, word).flat[0])\n",
      "/home/users/woodson/.local/lib/python3.8/site-packages/numpy/core/getlimits.py:89: UserWarning: The value of the smallest subnormal for <class 'numpy.float64'> type is zero.\n",
      "  return self._float_to_str(self.smallest_subnormal)\n",
      "/home/users/woodson/.local/lib/python3.8/site-packages/numpy/core/getlimits.py:518: UserWarning: The value of the smallest subnormal for <class 'numpy.float32'> type is zero.\n",
      "  setattr(self, word, getattr(machar, word).flat[0])\n",
      "/home/users/woodson/.local/lib/python3.8/site-packages/numpy/core/getlimits.py:89: UserWarning: The value of the smallest subnormal for <class 'numpy.float32'> type is zero.\n",
      "  return self._float_to_str(self.smallest_subnormal)\n",
      "INFO:root:starting region: pass_bin1\n",
      "INFO:root:get templates for: ttbar\n",
      "INFO:root:Getting pdf_gg rate\n",
      "INFO:root:Getting QCDscale_ttbar rate\n",
      "INFO:root:Getting lumi_2022 rate\n",
      "INFO:root:get templates for: vhtobb\n",
      "INFO:root:Getting lumi_2022 rate\n",
      "INFO:root:get templates for: diboson\n",
      "INFO:root:Getting lumi_2022 rate\n",
      "INFO:root:get templates for: vjets\n",
      "INFO:root:Getting lumi_2022 rate\n",
      "INFO:root:get templates for: tthtobb\n",
      "INFO:root:Getting lumi_2022 rate\n",
      "INFO:root:get templates for: hh4b\n",
      "INFO:root:Getting BR_hbb rate\n",
      "INFO:root:Getting pdf_Higgs_ggHH rate\n",
      "INFO:root:Getting THU_HH rate\n",
      "INFO:root:Getting lumi_2022 rate\n",
      "INFO:root:starting region: fail\n",
      "INFO:root:get templates for: ttbar\n",
      "INFO:root:Getting pdf_gg rate\n",
      "INFO:root:Getting QCDscale_ttbar rate\n",
      "INFO:root:Getting lumi_2022 rate\n",
      "INFO:root:get templates for: vhtobb\n",
      "INFO:root:Getting lumi_2022 rate\n",
      "INFO:root:get templates for: diboson\n",
      "INFO:root:Getting lumi_2022 rate\n",
      "INFO:root:get templates for: vjets\n",
      "INFO:root:Getting lumi_2022 rate\n",
      "INFO:root:get templates for: tthtobb\n",
      "INFO:root:Getting lumi_2022 rate\n",
      "INFO:root:\n",
      "Skipping hh4b in fail region\n",
      "\n",
      "INFO:root:Setting up fail region fail\n",
      "INFO:root:qcd eff 0.00009\n",
      "INFO:root:rendering combine model\n"
     ]
    },
    {
     "name": "stdout",
     "output_type": "stream",
     "text": [
      "['hh4b']\n",
      "effect_up (CMS_bbbb_hadronic_pass_bin1_diboson_mcstat_bin2, passbin1_diboson) has magnitude greater than 50% (55.73%), you might be passing absolute values instead of relative\n",
      "effect_down (CMS_bbbb_hadronic_pass_bin1_diboson_mcstat_bin2, passbin1_diboson) has magnitude greater than 50% (55.18%), you might be passing absolute values instead of relative\n",
      "python3 ../postprocessing/CreateDatacard.py --templates-dir /home/users/cmantill/hh/HH4b/src/HH4b/boosted/templates/alltoys_test/toy_35 --year 2022EE --model-name toy_35 --cards-dir cards --regions pass_bin1 --unblinded\n"
     ]
    },
    {
     "name": "stderr",
     "output_type": "stream",
     "text": [
      "/home/users/woodson/.local/lib/python3.8/site-packages/numpy/core/getlimits.py:518: UserWarning: The value of the smallest subnormal for <class 'numpy.float64'> type is zero.\n",
      "  setattr(self, word, getattr(machar, word).flat[0])\n",
      "/home/users/woodson/.local/lib/python3.8/site-packages/numpy/core/getlimits.py:89: UserWarning: The value of the smallest subnormal for <class 'numpy.float64'> type is zero.\n",
      "  return self._float_to_str(self.smallest_subnormal)\n",
      "/home/users/woodson/.local/lib/python3.8/site-packages/numpy/core/getlimits.py:518: UserWarning: The value of the smallest subnormal for <class 'numpy.float32'> type is zero.\n",
      "  setattr(self, word, getattr(machar, word).flat[0])\n",
      "/home/users/woodson/.local/lib/python3.8/site-packages/numpy/core/getlimits.py:89: UserWarning: The value of the smallest subnormal for <class 'numpy.float32'> type is zero.\n",
      "  return self._float_to_str(self.smallest_subnormal)\n",
      "INFO:root:starting region: pass_bin1\n",
      "INFO:root:get templates for: ttbar\n",
      "INFO:root:Getting pdf_gg rate\n",
      "INFO:root:Getting QCDscale_ttbar rate\n",
      "INFO:root:Getting lumi_2022 rate\n",
      "INFO:root:get templates for: vhtobb\n",
      "INFO:root:Getting lumi_2022 rate\n",
      "INFO:root:get templates for: diboson\n",
      "INFO:root:Getting lumi_2022 rate\n",
      "INFO:root:get templates for: vjets\n",
      "INFO:root:Getting lumi_2022 rate\n",
      "INFO:root:get templates for: tthtobb\n",
      "INFO:root:Getting lumi_2022 rate\n",
      "INFO:root:get templates for: hh4b\n",
      "INFO:root:Getting BR_hbb rate\n",
      "INFO:root:Getting pdf_Higgs_ggHH rate\n",
      "INFO:root:Getting THU_HH rate\n",
      "INFO:root:Getting lumi_2022 rate\n",
      "INFO:root:starting region: fail\n",
      "INFO:root:get templates for: ttbar\n",
      "INFO:root:Getting pdf_gg rate\n",
      "INFO:root:Getting QCDscale_ttbar rate\n",
      "INFO:root:Getting lumi_2022 rate\n",
      "INFO:root:get templates for: vhtobb\n",
      "INFO:root:Getting lumi_2022 rate\n",
      "INFO:root:get templates for: diboson\n",
      "INFO:root:Getting lumi_2022 rate\n",
      "INFO:root:get templates for: vjets\n",
      "INFO:root:Getting lumi_2022 rate\n",
      "INFO:root:get templates for: tthtobb\n",
      "INFO:root:Getting lumi_2022 rate\n",
      "INFO:root:\n",
      "Skipping hh4b in fail region\n",
      "\n",
      "INFO:root:Setting up fail region fail\n",
      "INFO:root:qcd eff 0.00009\n",
      "INFO:root:rendering combine model\n"
     ]
    },
    {
     "name": "stdout",
     "output_type": "stream",
     "text": [
      "['hh4b']\n",
      "effect_up (CMS_bbbb_hadronic_pass_bin1_diboson_mcstat_bin2, passbin1_diboson) has magnitude greater than 50% (55.73%), you might be passing absolute values instead of relative\n",
      "effect_down (CMS_bbbb_hadronic_pass_bin1_diboson_mcstat_bin2, passbin1_diboson) has magnitude greater than 50% (55.18%), you might be passing absolute values instead of relative\n",
      "python3 ../postprocessing/CreateDatacard.py --templates-dir /home/users/cmantill/hh/HH4b/src/HH4b/boosted/templates/alltoys_test/toy_36 --year 2022EE --model-name toy_36 --cards-dir cards --regions pass_bin1 --unblinded\n"
     ]
    },
    {
     "name": "stderr",
     "output_type": "stream",
     "text": [
      "/home/users/woodson/.local/lib/python3.8/site-packages/numpy/core/getlimits.py:518: UserWarning: The value of the smallest subnormal for <class 'numpy.float64'> type is zero.\n",
      "  setattr(self, word, getattr(machar, word).flat[0])\n",
      "/home/users/woodson/.local/lib/python3.8/site-packages/numpy/core/getlimits.py:89: UserWarning: The value of the smallest subnormal for <class 'numpy.float64'> type is zero.\n",
      "  return self._float_to_str(self.smallest_subnormal)\n",
      "/home/users/woodson/.local/lib/python3.8/site-packages/numpy/core/getlimits.py:518: UserWarning: The value of the smallest subnormal for <class 'numpy.float32'> type is zero.\n",
      "  setattr(self, word, getattr(machar, word).flat[0])\n",
      "/home/users/woodson/.local/lib/python3.8/site-packages/numpy/core/getlimits.py:89: UserWarning: The value of the smallest subnormal for <class 'numpy.float32'> type is zero.\n",
      "  return self._float_to_str(self.smallest_subnormal)\n",
      "INFO:root:starting region: pass_bin1\n",
      "INFO:root:get templates for: ttbar\n",
      "INFO:root:Getting pdf_gg rate\n",
      "INFO:root:Getting QCDscale_ttbar rate\n",
      "INFO:root:Getting lumi_2022 rate\n",
      "INFO:root:get templates for: vhtobb\n",
      "INFO:root:Getting lumi_2022 rate\n",
      "INFO:root:get templates for: diboson\n",
      "INFO:root:Getting lumi_2022 rate\n",
      "INFO:root:get templates for: vjets\n",
      "INFO:root:Getting lumi_2022 rate\n",
      "INFO:root:get templates for: tthtobb\n",
      "INFO:root:Getting lumi_2022 rate\n",
      "INFO:root:get templates for: hh4b\n",
      "INFO:root:Getting BR_hbb rate\n",
      "INFO:root:Getting pdf_Higgs_ggHH rate\n",
      "INFO:root:Getting THU_HH rate\n",
      "INFO:root:Getting lumi_2022 rate\n",
      "INFO:root:starting region: fail\n",
      "INFO:root:get templates for: ttbar\n",
      "INFO:root:Getting pdf_gg rate\n",
      "INFO:root:Getting QCDscale_ttbar rate\n",
      "INFO:root:Getting lumi_2022 rate\n",
      "INFO:root:get templates for: vhtobb\n",
      "INFO:root:Getting lumi_2022 rate\n",
      "INFO:root:get templates for: diboson\n",
      "INFO:root:Getting lumi_2022 rate\n",
      "INFO:root:get templates for: vjets\n",
      "INFO:root:Getting lumi_2022 rate\n",
      "INFO:root:get templates for: tthtobb\n",
      "INFO:root:Getting lumi_2022 rate\n",
      "INFO:root:\n",
      "Skipping hh4b in fail region\n",
      "\n",
      "INFO:root:Setting up fail region fail\n",
      "INFO:root:qcd eff 0.00014\n",
      "INFO:root:rendering combine model\n"
     ]
    },
    {
     "name": "stdout",
     "output_type": "stream",
     "text": [
      "['hh4b']\n",
      "python3 ../postprocessing/CreateDatacard.py --templates-dir /home/users/cmantill/hh/HH4b/src/HH4b/boosted/templates/alltoys_test/toy_37 --year 2022EE --model-name toy_37 --cards-dir cards --regions pass_bin1 --unblinded\n"
     ]
    },
    {
     "name": "stderr",
     "output_type": "stream",
     "text": [
      "/home/users/woodson/.local/lib/python3.8/site-packages/numpy/core/getlimits.py:518: UserWarning: The value of the smallest subnormal for <class 'numpy.float64'> type is zero.\n",
      "  setattr(self, word, getattr(machar, word).flat[0])\n",
      "/home/users/woodson/.local/lib/python3.8/site-packages/numpy/core/getlimits.py:89: UserWarning: The value of the smallest subnormal for <class 'numpy.float64'> type is zero.\n",
      "  return self._float_to_str(self.smallest_subnormal)\n",
      "/home/users/woodson/.local/lib/python3.8/site-packages/numpy/core/getlimits.py:518: UserWarning: The value of the smallest subnormal for <class 'numpy.float32'> type is zero.\n",
      "  setattr(self, word, getattr(machar, word).flat[0])\n",
      "/home/users/woodson/.local/lib/python3.8/site-packages/numpy/core/getlimits.py:89: UserWarning: The value of the smallest subnormal for <class 'numpy.float32'> type is zero.\n",
      "  return self._float_to_str(self.smallest_subnormal)\n",
      "INFO:root:starting region: pass_bin1\n",
      "INFO:root:get templates for: ttbar\n",
      "INFO:root:Getting pdf_gg rate\n",
      "INFO:root:Getting QCDscale_ttbar rate\n",
      "INFO:root:Getting lumi_2022 rate\n",
      "INFO:root:get templates for: vhtobb\n",
      "INFO:root:Getting lumi_2022 rate\n",
      "INFO:root:get templates for: diboson\n",
      "INFO:root:Getting lumi_2022 rate\n",
      "INFO:root:get templates for: vjets\n",
      "INFO:root:Getting lumi_2022 rate\n",
      "INFO:root:get templates for: tthtobb\n",
      "INFO:root:Getting lumi_2022 rate\n",
      "INFO:root:get templates for: hh4b\n",
      "INFO:root:Getting BR_hbb rate\n",
      "INFO:root:Getting pdf_Higgs_ggHH rate\n",
      "INFO:root:Getting THU_HH rate\n",
      "INFO:root:Getting lumi_2022 rate\n",
      "INFO:root:starting region: fail\n",
      "INFO:root:get templates for: ttbar\n",
      "INFO:root:Getting pdf_gg rate\n",
      "INFO:root:Getting QCDscale_ttbar rate\n",
      "INFO:root:Getting lumi_2022 rate\n",
      "INFO:root:get templates for: vhtobb\n",
      "INFO:root:Getting lumi_2022 rate\n",
      "INFO:root:get templates for: diboson\n",
      "INFO:root:Getting lumi_2022 rate\n",
      "INFO:root:get templates for: vjets\n",
      "INFO:root:Getting lumi_2022 rate\n",
      "INFO:root:get templates for: tthtobb\n",
      "INFO:root:Getting lumi_2022 rate\n",
      "INFO:root:\n",
      "Skipping hh4b in fail region\n",
      "\n",
      "INFO:root:Setting up fail region fail\n",
      "INFO:root:qcd eff 0.00014\n",
      "INFO:root:rendering combine model\n"
     ]
    },
    {
     "name": "stdout",
     "output_type": "stream",
     "text": [
      "['hh4b']\n",
      "python3 ../postprocessing/CreateDatacard.py --templates-dir /home/users/cmantill/hh/HH4b/src/HH4b/boosted/templates/alltoys_test/toy_38 --year 2022EE --model-name toy_38 --cards-dir cards --regions pass_bin1 --unblinded\n"
     ]
    },
    {
     "name": "stderr",
     "output_type": "stream",
     "text": [
      "/home/users/woodson/.local/lib/python3.8/site-packages/numpy/core/getlimits.py:518: UserWarning: The value of the smallest subnormal for <class 'numpy.float64'> type is zero.\n",
      "  setattr(self, word, getattr(machar, word).flat[0])\n",
      "/home/users/woodson/.local/lib/python3.8/site-packages/numpy/core/getlimits.py:89: UserWarning: The value of the smallest subnormal for <class 'numpy.float64'> type is zero.\n",
      "  return self._float_to_str(self.smallest_subnormal)\n",
      "/home/users/woodson/.local/lib/python3.8/site-packages/numpy/core/getlimits.py:518: UserWarning: The value of the smallest subnormal for <class 'numpy.float32'> type is zero.\n",
      "  setattr(self, word, getattr(machar, word).flat[0])\n",
      "/home/users/woodson/.local/lib/python3.8/site-packages/numpy/core/getlimits.py:89: UserWarning: The value of the smallest subnormal for <class 'numpy.float32'> type is zero.\n",
      "  return self._float_to_str(self.smallest_subnormal)\n",
      "INFO:root:starting region: pass_bin1\n",
      "INFO:root:get templates for: ttbar\n",
      "INFO:root:Getting pdf_gg rate\n",
      "INFO:root:Getting QCDscale_ttbar rate\n",
      "INFO:root:Getting lumi_2022 rate\n",
      "INFO:root:get templates for: vhtobb\n",
      "INFO:root:Getting lumi_2022 rate\n",
      "INFO:root:get templates for: diboson\n",
      "INFO:root:Getting lumi_2022 rate\n",
      "INFO:root:get templates for: vjets\n",
      "INFO:root:Getting lumi_2022 rate\n",
      "INFO:root:get templates for: tthtobb\n",
      "INFO:root:Getting lumi_2022 rate\n",
      "INFO:root:get templates for: hh4b\n",
      "INFO:root:Getting BR_hbb rate\n",
      "INFO:root:Getting pdf_Higgs_ggHH rate\n",
      "INFO:root:Getting THU_HH rate\n",
      "INFO:root:Getting lumi_2022 rate\n",
      "INFO:root:starting region: fail\n",
      "INFO:root:get templates for: ttbar\n",
      "INFO:root:Getting pdf_gg rate\n",
      "INFO:root:Getting QCDscale_ttbar rate\n",
      "INFO:root:Getting lumi_2022 rate\n",
      "INFO:root:get templates for: vhtobb\n",
      "INFO:root:Getting lumi_2022 rate\n",
      "INFO:root:get templates for: diboson\n",
      "INFO:root:Getting lumi_2022 rate\n",
      "INFO:root:get templates for: vjets\n",
      "INFO:root:Getting lumi_2022 rate\n",
      "INFO:root:get templates for: tthtobb\n",
      "INFO:root:Getting lumi_2022 rate\n",
      "INFO:root:\n",
      "Skipping hh4b in fail region\n",
      "\n",
      "INFO:root:Setting up fail region fail\n",
      "INFO:root:qcd eff 0.00014\n",
      "INFO:root:rendering combine model\n"
     ]
    },
    {
     "name": "stdout",
     "output_type": "stream",
     "text": [
      "['hh4b']\n",
      "python3 ../postprocessing/CreateDatacard.py --templates-dir /home/users/cmantill/hh/HH4b/src/HH4b/boosted/templates/alltoys_test/toy_39 --year 2022EE --model-name toy_39 --cards-dir cards --regions pass_bin1 --unblinded\n"
     ]
    },
    {
     "name": "stderr",
     "output_type": "stream",
     "text": [
      "/home/users/woodson/.local/lib/python3.8/site-packages/numpy/core/getlimits.py:518: UserWarning: The value of the smallest subnormal for <class 'numpy.float64'> type is zero.\n",
      "  setattr(self, word, getattr(machar, word).flat[0])\n",
      "/home/users/woodson/.local/lib/python3.8/site-packages/numpy/core/getlimits.py:89: UserWarning: The value of the smallest subnormal for <class 'numpy.float64'> type is zero.\n",
      "  return self._float_to_str(self.smallest_subnormal)\n",
      "/home/users/woodson/.local/lib/python3.8/site-packages/numpy/core/getlimits.py:518: UserWarning: The value of the smallest subnormal for <class 'numpy.float32'> type is zero.\n",
      "  setattr(self, word, getattr(machar, word).flat[0])\n",
      "/home/users/woodson/.local/lib/python3.8/site-packages/numpy/core/getlimits.py:89: UserWarning: The value of the smallest subnormal for <class 'numpy.float32'> type is zero.\n",
      "  return self._float_to_str(self.smallest_subnormal)\n",
      "INFO:root:starting region: pass_bin1\n",
      "INFO:root:get templates for: ttbar\n",
      "INFO:root:Getting pdf_gg rate\n",
      "INFO:root:Getting QCDscale_ttbar rate\n",
      "INFO:root:Getting lumi_2022 rate\n",
      "INFO:root:get templates for: vhtobb\n",
      "INFO:root:Getting lumi_2022 rate\n",
      "INFO:root:get templates for: diboson\n",
      "INFO:root:Getting lumi_2022 rate\n",
      "INFO:root:get templates for: vjets\n",
      "INFO:root:Getting lumi_2022 rate\n",
      "INFO:root:get templates for: tthtobb\n",
      "INFO:root:Getting lumi_2022 rate\n",
      "INFO:root:get templates for: hh4b\n",
      "INFO:root:Getting BR_hbb rate\n",
      "INFO:root:Getting pdf_Higgs_ggHH rate\n",
      "INFO:root:Getting THU_HH rate\n",
      "INFO:root:Getting lumi_2022 rate\n",
      "INFO:root:starting region: fail\n",
      "INFO:root:get templates for: ttbar\n",
      "INFO:root:Getting pdf_gg rate\n",
      "INFO:root:Getting QCDscale_ttbar rate\n",
      "INFO:root:Getting lumi_2022 rate\n",
      "INFO:root:get templates for: vhtobb\n",
      "INFO:root:Getting lumi_2022 rate\n",
      "INFO:root:get templates for: diboson\n",
      "INFO:root:Getting lumi_2022 rate\n",
      "INFO:root:get templates for: vjets\n",
      "INFO:root:Getting lumi_2022 rate\n",
      "INFO:root:get templates for: tthtobb\n",
      "INFO:root:Getting lumi_2022 rate\n",
      "INFO:root:\n",
      "Skipping hh4b in fail region\n",
      "\n",
      "INFO:root:Setting up fail region fail\n",
      "INFO:root:qcd eff 0.00014\n",
      "INFO:root:rendering combine model\n"
     ]
    },
    {
     "name": "stdout",
     "output_type": "stream",
     "text": [
      "['hh4b']\n"
     ]
    }
   ],
   "source": [
    "for itoy in range(16, ntoys):\n",
    "    templates_dir = (\n",
    "        f\"/home/users/cmantill/hh/HH4b/src/HH4b/boosted/templates/alltoys_test/toy_{itoy}\"\n",
    "    )\n",
    "    year = \"2022EE\"\n",
    "    model_name = f\"toy_{itoy}\"\n",
    "    command = f\"python3 ../postprocessing/CreateDatacard.py --templates-dir {templates_dir} --year {year} --model-name {model_name} --cards-dir cards --regions pass_bin1 --unblinded\"\n",
    "    run_command(command)"
   ]
  },
  {
   "cell_type": "code",
   "execution_count": 17,
   "id": "fedd1d4f-351c-4bf5-a57c-08a3150d7957",
   "metadata": {},
   "outputs": [
    {
     "name": "stdout",
     "output_type": "stream",
     "text": [
      "cd cards/toy_16; combineCards.py fail=fail.txt passbin1=passbin1.txt > combined.txt; text2workspace.py combined.txt; combine -M FitDiagnostics --trackParameters r --trackErrors r --justFit -m 125 -d combined.root --rMin -50 --rMax 50 --robustFit=1 --X-rtd MINIMIZER_MaxCalls=1000000 --cminDefaultMinimizerTolerance 0.1\n"
     ]
    },
    {
     "name": "stderr",
     "output_type": "stream",
     "text": [
      "Warning: Bin fail has no signal processes contributing to it\n"
     ]
    },
    {
     "name": "stdout",
     "output_type": "stream",
     "text": [
      " <<< Combine >>> \n",
      " <<< v9.2.0 >>>\n",
      ">>> Random number generator seed is 123456\n",
      ">>> Method used is FitDiagnostics\n",
      "\n",
      " --- FitDiagnostics ---\n",
      "Best fit r: -13.4975  -10.5355/+9.37129  (68% CL)\n",
      "Done in 0.02 min (cpu), 0.02 min (real)\n",
      "cd cards/toy_17; combineCards.py fail=fail.txt passbin1=passbin1.txt > combined.txt; text2workspace.py combined.txt; combine -M FitDiagnostics --trackParameters r --trackErrors r --justFit -m 125 -d combined.root --rMin -50 --rMax 50 --robustFit=1 --X-rtd MINIMIZER_MaxCalls=1000000 --cminDefaultMinimizerTolerance 0.1\n"
     ]
    },
    {
     "name": "stderr",
     "output_type": "stream",
     "text": [
      "Warning: Bin fail has no signal processes contributing to it\n"
     ]
    },
    {
     "name": "stdout",
     "output_type": "stream",
     "text": [
      " <<< Combine >>> \n",
      " <<< v9.2.0 >>>\n",
      ">>> Random number generator seed is 123456\n",
      ">>> Method used is FitDiagnostics\n",
      "\n",
      " --- FitDiagnostics ---\n",
      "Best fit r: -16.8884  -11.2598/+9.56966  (68% CL)\n",
      "Done in 0.02 min (cpu), 0.02 min (real)\n",
      "cd cards/toy_18; combineCards.py fail=fail.txt passbin1=passbin1.txt > combined.txt; text2workspace.py combined.txt; combine -M FitDiagnostics --trackParameters r --trackErrors r --justFit -m 125 -d combined.root --rMin -50 --rMax 50 --robustFit=1 --X-rtd MINIMIZER_MaxCalls=1000000 --cminDefaultMinimizerTolerance 0.1\n"
     ]
    },
    {
     "name": "stderr",
     "output_type": "stream",
     "text": [
      "Warning: Bin fail has no signal processes contributing to it\n"
     ]
    },
    {
     "name": "stdout",
     "output_type": "stream",
     "text": [
      " <<< Combine >>> \n",
      " <<< v9.2.0 >>>\n",
      ">>> Random number generator seed is 123456\n",
      ">>> Method used is FitDiagnostics\n",
      "\n",
      " --- FitDiagnostics ---\n",
      "Best fit r: -7.20143  -9.02456/+8.82526  (68% CL)\n",
      "Done in 0.04 min (cpu), 0.04 min (real)\n",
      "cd cards/toy_19; combineCards.py fail=fail.txt passbin1=passbin1.txt > combined.txt; text2workspace.py combined.txt; combine -M FitDiagnostics --trackParameters r --trackErrors r --justFit -m 125 -d combined.root --rMin -50 --rMax 50 --robustFit=1 --X-rtd MINIMIZER_MaxCalls=1000000 --cminDefaultMinimizerTolerance 0.1\n"
     ]
    },
    {
     "name": "stderr",
     "output_type": "stream",
     "text": [
      "Warning: Bin fail has no signal processes contributing to it\n"
     ]
    },
    {
     "name": "stdout",
     "output_type": "stream",
     "text": [
      " <<< Combine >>> \n",
      " <<< v9.2.0 >>>\n",
      ">>> Random number generator seed is 123456\n",
      ">>> Method used is FitDiagnostics\n",
      "\n",
      " --- FitDiagnostics ---\n",
      "Best fit r: -6.6834  -8.44894/+8.31797  (68% CL)\n",
      "Done in 0.04 min (cpu), 0.04 min (real)\n",
      "cd cards/toy_20; combineCards.py fail=fail.txt passbin1=passbin1.txt > combined.txt; text2workspace.py combined.txt; combine -M FitDiagnostics --trackParameters r --trackErrors r --justFit -m 125 -d combined.root --rMin -50 --rMax 50 --robustFit=1 --X-rtd MINIMIZER_MaxCalls=1000000 --cminDefaultMinimizerTolerance 0.1\n"
     ]
    },
    {
     "name": "stderr",
     "output_type": "stream",
     "text": [
      "Warning: Bin fail has no signal processes contributing to it\n"
     ]
    },
    {
     "name": "stdout",
     "output_type": "stream",
     "text": [
      " <<< Combine >>> \n",
      " <<< v9.2.0 >>>\n",
      ">>> Random number generator seed is 123456\n",
      ">>> Method used is FitDiagnostics\n",
      "\n",
      " --- FitDiagnostics ---\n",
      "Best fit r: -12.6441  -10.4025/+9.34187  (68% CL)\n",
      "Done in 0.02 min (cpu), 0.02 min (real)\n",
      "cd cards/toy_21; combineCards.py fail=fail.txt passbin1=passbin1.txt > combined.txt; text2workspace.py combined.txt; combine -M FitDiagnostics --trackParameters r --trackErrors r --justFit -m 125 -d combined.root --rMin -50 --rMax 50 --robustFit=1 --X-rtd MINIMIZER_MaxCalls=1000000 --cminDefaultMinimizerTolerance 0.1\n"
     ]
    },
    {
     "name": "stderr",
     "output_type": "stream",
     "text": [
      "Warning: Bin fail has no signal processes contributing to it\n"
     ]
    },
    {
     "name": "stdout",
     "output_type": "stream",
     "text": [
      " <<< Combine >>> \n",
      " <<< v9.2.0 >>>\n",
      ">>> Random number generator seed is 123456\n",
      ">>> Method used is FitDiagnostics\n",
      "\n",
      " --- FitDiagnostics ---\n",
      "Best fit r: -21.5537  -11.4918/+8.98071  (68% CL)\n",
      "Done in 0.02 min (cpu), 0.02 min (real)\n",
      "cd cards/toy_22; combineCards.py fail=fail.txt passbin1=passbin1.txt > combined.txt; text2workspace.py combined.txt; combine -M FitDiagnostics --trackParameters r --trackErrors r --justFit -m 125 -d combined.root --rMin -50 --rMax 50 --robustFit=1 --X-rtd MINIMIZER_MaxCalls=1000000 --cminDefaultMinimizerTolerance 0.1\n"
     ]
    },
    {
     "name": "stderr",
     "output_type": "stream",
     "text": [
      "Warning: Bin fail has no signal processes contributing to it\n"
     ]
    },
    {
     "name": "stdout",
     "output_type": "stream",
     "text": [
      " <<< Combine >>> \n",
      " <<< v9.2.0 >>>\n",
      ">>> Random number generator seed is 123456\n",
      ">>> Method used is FitDiagnostics\n",
      "\n",
      " --- FitDiagnostics ---\n",
      "Best fit r: -20.2138  -11.4684/+9.18481  (68% CL)\n",
      "Done in 0.02 min (cpu), 0.02 min (real)\n",
      "cd cards/toy_23; combineCards.py fail=fail.txt passbin1=passbin1.txt > combined.txt; text2workspace.py combined.txt; combine -M FitDiagnostics --trackParameters r --trackErrors r --justFit -m 125 -d combined.root --rMin -50 --rMax 50 --robustFit=1 --X-rtd MINIMIZER_MaxCalls=1000000 --cminDefaultMinimizerTolerance 0.1\n"
     ]
    },
    {
     "name": "stderr",
     "output_type": "stream",
     "text": [
      "Warning: Bin fail has no signal processes contributing to it\n"
     ]
    },
    {
     "name": "stdout",
     "output_type": "stream",
     "text": [
      " <<< Combine >>> \n",
      " <<< v9.2.0 >>>\n",
      ">>> Random number generator seed is 123456\n",
      ">>> Method used is FitDiagnostics\n",
      "\n",
      " --- FitDiagnostics ---\n",
      "Best fit r: -3.08085  -8.50111/+8.85238  (68% CL)\n",
      "Done in 0.04 min (cpu), 0.04 min (real)\n",
      "cd cards/toy_24; combineCards.py fail=fail.txt passbin1=passbin1.txt > combined.txt; text2workspace.py combined.txt; combine -M FitDiagnostics --trackParameters r --trackErrors r --justFit -m 125 -d combined.root --rMin -50 --rMax 50 --robustFit=1 --X-rtd MINIMIZER_MaxCalls=1000000 --cminDefaultMinimizerTolerance 0.1\n"
     ]
    },
    {
     "name": "stderr",
     "output_type": "stream",
     "text": [
      "Warning: Bin fail has no signal processes contributing to it\n"
     ]
    },
    {
     "name": "stdout",
     "output_type": "stream",
     "text": [
      " <<< Combine >>> \n",
      " <<< v9.2.0 >>>\n",
      ">>> Random number generator seed is 123456\n",
      ">>> Method used is FitDiagnostics\n",
      "\n",
      " --- FitDiagnostics ---\n",
      "Best fit r: -21.2009  -11.6044/+9.17536  (68% CL)\n",
      "Done in 0.02 min (cpu), 0.02 min (real)\n",
      "cd cards/toy_25; combineCards.py fail=fail.txt passbin1=passbin1.txt > combined.txt; text2workspace.py combined.txt; combine -M FitDiagnostics --trackParameters r --trackErrors r --justFit -m 125 -d combined.root --rMin -50 --rMax 50 --robustFit=1 --X-rtd MINIMIZER_MaxCalls=1000000 --cminDefaultMinimizerTolerance 0.1\n"
     ]
    },
    {
     "name": "stderr",
     "output_type": "stream",
     "text": [
      "Warning: Bin fail has no signal processes contributing to it\n"
     ]
    },
    {
     "name": "stdout",
     "output_type": "stream",
     "text": [
      " <<< Combine >>> \n",
      " <<< v9.2.0 >>>\n",
      ">>> Random number generator seed is 123456\n",
      ">>> Method used is FitDiagnostics\n",
      "\n",
      " --- FitDiagnostics ---\n",
      "Best fit r: -15.9352  -10.8329/+9.27168  (68% CL)\n",
      "Done in 0.02 min (cpu), 0.02 min (real)\n",
      "cd cards/toy_26; combineCards.py fail=fail.txt passbin1=passbin1.txt > combined.txt; text2workspace.py combined.txt; combine -M FitDiagnostics --trackParameters r --trackErrors r --justFit -m 125 -d combined.root --rMin -50 --rMax 50 --robustFit=1 --X-rtd MINIMIZER_MaxCalls=1000000 --cminDefaultMinimizerTolerance 0.1\n"
     ]
    },
    {
     "name": "stderr",
     "output_type": "stream",
     "text": [
      "Warning: Bin fail has no signal processes contributing to it\n"
     ]
    },
    {
     "name": "stdout",
     "output_type": "stream",
     "text": [
      " <<< Combine >>> \n",
      " <<< v9.2.0 >>>\n",
      ">>> Random number generator seed is 123456\n",
      ">>> Method used is FitDiagnostics\n",
      "\n",
      " --- FitDiagnostics ---\n",
      "Best fit r: -12.0296  -8.84463/+7.96268  (68% CL)\n",
      "Done in 0.03 min (cpu), 0.03 min (real)\n",
      "cd cards/toy_27; combineCards.py fail=fail.txt passbin1=passbin1.txt > combined.txt; text2workspace.py combined.txt; combine -M FitDiagnostics --trackParameters r --trackErrors r --justFit -m 125 -d combined.root --rMin -50 --rMax 50 --robustFit=1 --X-rtd MINIMIZER_MaxCalls=1000000 --cminDefaultMinimizerTolerance 0.1\n"
     ]
    },
    {
     "name": "stderr",
     "output_type": "stream",
     "text": [
      "Warning: Bin fail has no signal processes contributing to it\n"
     ]
    },
    {
     "name": "stdout",
     "output_type": "stream",
     "text": [
      " <<< Combine >>> \n",
      " <<< v9.2.0 >>>\n",
      ">>> Random number generator seed is 123456\n",
      ">>> Method used is FitDiagnostics\n",
      "\n",
      " --- FitDiagnostics ---\n",
      "Best fit r: -12.6948  -8.93426/+7.92582  (68% CL)\n",
      "Done in 0.04 min (cpu), 0.04 min (real)\n",
      "cd cards/toy_28; combineCards.py fail=fail.txt passbin1=passbin1.txt > combined.txt; text2workspace.py combined.txt; combine -M FitDiagnostics --trackParameters r --trackErrors r --justFit -m 125 -d combined.root --rMin -50 --rMax 50 --robustFit=1 --X-rtd MINIMIZER_MaxCalls=1000000 --cminDefaultMinimizerTolerance 0.1\n"
     ]
    },
    {
     "name": "stderr",
     "output_type": "stream",
     "text": [
      "Warning: Bin fail has no signal processes contributing to it\n"
     ]
    },
    {
     "name": "stdout",
     "output_type": "stream",
     "text": [
      " <<< Combine >>> \n",
      " <<< v9.2.0 >>>\n",
      ">>> Random number generator seed is 123456\n",
      ">>> Method used is FitDiagnostics\n",
      "\n",
      " --- FitDiagnostics ---\n",
      "Best fit r: -17.9924  -9.64366/+7.73818  (68% CL)\n",
      "Done in 0.03 min (cpu), 0.03 min (real)\n",
      "cd cards/toy_29; combineCards.py fail=fail.txt passbin1=passbin1.txt > combined.txt; text2workspace.py combined.txt; combine -M FitDiagnostics --trackParameters r --trackErrors r --justFit -m 125 -d combined.root --rMin -50 --rMax 50 --robustFit=1 --X-rtd MINIMIZER_MaxCalls=1000000 --cminDefaultMinimizerTolerance 0.1\n"
     ]
    },
    {
     "name": "stderr",
     "output_type": "stream",
     "text": [
      "Warning: Bin fail has no signal processes contributing to it\n"
     ]
    },
    {
     "name": "stdout",
     "output_type": "stream",
     "text": [
      " <<< Combine >>> \n",
      " <<< v9.2.0 >>>\n",
      ">>> Random number generator seed is 123456\n",
      ">>> Method used is FitDiagnostics\n",
      "\n",
      " --- FitDiagnostics ---\n",
      "Best fit r: -9.85029  -8.64193/+8.02421  (68% CL)\n",
      "Done in 0.04 min (cpu), 0.04 min (real)\n",
      "cd cards/toy_30; combineCards.py fail=fail.txt passbin1=passbin1.txt > combined.txt; text2workspace.py combined.txt; combine -M FitDiagnostics --trackParameters r --trackErrors r --justFit -m 125 -d combined.root --rMin -50 --rMax 50 --robustFit=1 --X-rtd MINIMIZER_MaxCalls=1000000 --cminDefaultMinimizerTolerance 0.1\n"
     ]
    },
    {
     "name": "stderr",
     "output_type": "stream",
     "text": [
      "Warning: Bin fail has no signal processes contributing to it\n"
     ]
    },
    {
     "name": "stdout",
     "output_type": "stream",
     "text": [
      " <<< Combine >>> \n",
      " <<< v9.2.0 >>>\n",
      ">>> Random number generator seed is 123456\n",
      ">>> Method used is FitDiagnostics\n",
      "\n",
      " --- FitDiagnostics ---\n",
      "Best fit r: -13.695  -10.6856/+9.47865  (68% CL)\n",
      "Done in 0.02 min (cpu), 0.02 min (real)\n",
      "cd cards/toy_31; combineCards.py fail=fail.txt passbin1=passbin1.txt > combined.txt; text2workspace.py combined.txt; combine -M FitDiagnostics --trackParameters r --trackErrors r --justFit -m 125 -d combined.root --rMin -50 --rMax 50 --robustFit=1 --X-rtd MINIMIZER_MaxCalls=1000000 --cminDefaultMinimizerTolerance 0.1\n"
     ]
    },
    {
     "name": "stderr",
     "output_type": "stream",
     "text": [
      "Warning: Bin fail has no signal processes contributing to it\n"
     ]
    },
    {
     "name": "stdout",
     "output_type": "stream",
     "text": [
      " <<< Combine >>> \n",
      " <<< v9.2.0 >>>\n",
      ">>> Random number generator seed is 123456\n",
      ">>> Method used is FitDiagnostics\n",
      "\n",
      " --- FitDiagnostics ---\n",
      "Best fit r: -11.16  -10.0635/+9.2048  (68% CL)\n",
      "Done in 0.03 min (cpu), 0.03 min (real)\n",
      "cd cards/toy_32; combineCards.py fail=fail.txt passbin1=passbin1.txt > combined.txt; text2workspace.py combined.txt; combine -M FitDiagnostics --trackParameters r --trackErrors r --justFit -m 125 -d combined.root --rMin -50 --rMax 50 --robustFit=1 --X-rtd MINIMIZER_MaxCalls=1000000 --cminDefaultMinimizerTolerance 0.1\n"
     ]
    },
    {
     "name": "stderr",
     "output_type": "stream",
     "text": [
      "Warning: Bin fail has no signal processes contributing to it\n"
     ]
    },
    {
     "name": "stdout",
     "output_type": "stream",
     "text": [
      " <<< Combine >>> \n",
      " <<< v9.2.0 >>>\n",
      ">>> Random number generator seed is 123456\n",
      ">>> Method used is FitDiagnostics\n",
      "\n",
      " --- FitDiagnostics ---\n",
      "Best fit r: -9.98141  -8.47165/+7.82678  (68% CL)\n",
      "Done in 0.03 min (cpu), 0.03 min (real)\n",
      "cd cards/toy_33; combineCards.py fail=fail.txt passbin1=passbin1.txt > combined.txt; text2workspace.py combined.txt; combine -M FitDiagnostics --trackParameters r --trackErrors r --justFit -m 125 -d combined.root --rMin -50 --rMax 50 --robustFit=1 --X-rtd MINIMIZER_MaxCalls=1000000 --cminDefaultMinimizerTolerance 0.1\n"
     ]
    },
    {
     "name": "stderr",
     "output_type": "stream",
     "text": [
      "Warning: Bin fail has no signal processes contributing to it\n"
     ]
    },
    {
     "name": "stdout",
     "output_type": "stream",
     "text": [
      " <<< Combine >>> \n",
      " <<< v9.2.0 >>>\n",
      ">>> Random number generator seed is 123456\n",
      ">>> Method used is FitDiagnostics\n",
      "\n",
      " --- FitDiagnostics ---\n",
      "Best fit r: -4.24435  -7.94468/+8.06761  (68% CL)\n",
      "Done in 0.04 min (cpu), 0.04 min (real)\n",
      "cd cards/toy_34; combineCards.py fail=fail.txt passbin1=passbin1.txt > combined.txt; text2workspace.py combined.txt; combine -M FitDiagnostics --trackParameters r --trackErrors r --justFit -m 125 -d combined.root --rMin -50 --rMax 50 --robustFit=1 --X-rtd MINIMIZER_MaxCalls=1000000 --cminDefaultMinimizerTolerance 0.1\n"
     ]
    },
    {
     "name": "stderr",
     "output_type": "stream",
     "text": [
      "Warning: Bin fail has no signal processes contributing to it\n"
     ]
    },
    {
     "name": "stdout",
     "output_type": "stream",
     "text": [
      " <<< Combine >>> \n",
      " <<< v9.2.0 >>>\n",
      ">>> Random number generator seed is 123456\n",
      ">>> Method used is FitDiagnostics\n",
      "\n",
      " --- FitDiagnostics ---\n",
      "Best fit r: -1.20905  -8.16111/+8.70794  (68% CL)\n",
      "Done in 0.03 min (cpu), 0.04 min (real)\n",
      "cd cards/toy_35; combineCards.py fail=fail.txt passbin1=passbin1.txt > combined.txt; text2workspace.py combined.txt; combine -M FitDiagnostics --trackParameters r --trackErrors r --justFit -m 125 -d combined.root --rMin -50 --rMax 50 --robustFit=1 --X-rtd MINIMIZER_MaxCalls=1000000 --cminDefaultMinimizerTolerance 0.1\n"
     ]
    },
    {
     "name": "stderr",
     "output_type": "stream",
     "text": [
      "Warning: Bin fail has no signal processes contributing to it\n"
     ]
    },
    {
     "name": "stdout",
     "output_type": "stream",
     "text": [
      " <<< Combine >>> \n",
      " <<< v9.2.0 >>>\n",
      ">>> Random number generator seed is 123456\n",
      ">>> Method used is FitDiagnostics\n",
      "\n",
      " --- FitDiagnostics ---\n",
      "Best fit r: 2.45748  -8.15716/+9.21149  (68% CL)\n",
      "Done in 0.04 min (cpu), 0.04 min (real)\n",
      "cd cards/toy_36; combineCards.py fail=fail.txt passbin1=passbin1.txt > combined.txt; text2workspace.py combined.txt; combine -M FitDiagnostics --trackParameters r --trackErrors r --justFit -m 125 -d combined.root --rMin -50 --rMax 50 --robustFit=1 --X-rtd MINIMIZER_MaxCalls=1000000 --cminDefaultMinimizerTolerance 0.1\n"
     ]
    },
    {
     "name": "stderr",
     "output_type": "stream",
     "text": [
      "Warning: Bin fail has no signal processes contributing to it\n"
     ]
    },
    {
     "name": "stdout",
     "output_type": "stream",
     "text": [
      " <<< Combine >>> \n",
      " <<< v9.2.0 >>>\n",
      ">>> Random number generator seed is 123456\n",
      ">>> Method used is FitDiagnostics\n",
      "\n",
      " --- FitDiagnostics ---\n",
      "Best fit r: -3.98048  -10.3293/+10.4721  (68% CL)\n",
      "Done in 0.02 min (cpu), 0.02 min (real)\n",
      "cd cards/toy_37; combineCards.py fail=fail.txt passbin1=passbin1.txt > combined.txt; text2workspace.py combined.txt; combine -M FitDiagnostics --trackParameters r --trackErrors r --justFit -m 125 -d combined.root --rMin -50 --rMax 50 --robustFit=1 --X-rtd MINIMIZER_MaxCalls=1000000 --cminDefaultMinimizerTolerance 0.1\n"
     ]
    },
    {
     "name": "stderr",
     "output_type": "stream",
     "text": [
      "Warning: Bin fail has no signal processes contributing to it\n"
     ]
    },
    {
     "name": "stdout",
     "output_type": "stream",
     "text": [
      " <<< Combine >>> \n",
      " <<< v9.2.0 >>>\n",
      ">>> Random number generator seed is 123456\n",
      ">>> Method used is FitDiagnostics\n",
      "\n",
      " --- FitDiagnostics ---\n",
      "Best fit r: -10.7289  -10.1988/+9.42302  (68% CL)\n",
      "Done in 0.03 min (cpu), 0.03 min (real)\n",
      "cd cards/toy_38; combineCards.py fail=fail.txt passbin1=passbin1.txt > combined.txt; text2workspace.py combined.txt; combine -M FitDiagnostics --trackParameters r --trackErrors r --justFit -m 125 -d combined.root --rMin -50 --rMax 50 --robustFit=1 --X-rtd MINIMIZER_MaxCalls=1000000 --cminDefaultMinimizerTolerance 0.1\n"
     ]
    },
    {
     "name": "stderr",
     "output_type": "stream",
     "text": [
      "Warning: Bin fail has no signal processes contributing to it\n"
     ]
    },
    {
     "name": "stdout",
     "output_type": "stream",
     "text": [
      " <<< Combine >>> \n",
      " <<< v9.2.0 >>>\n",
      ">>> Random number generator seed is 123456\n",
      ">>> Method used is FitDiagnostics\n",
      "\n",
      " --- FitDiagnostics ---\n",
      "Best fit r: -13.4896  -10.4149/+9.21919  (68% CL)\n",
      "Done in 0.02 min (cpu), 0.02 min (real)\n",
      "cd cards/toy_39; combineCards.py fail=fail.txt passbin1=passbin1.txt > combined.txt; text2workspace.py combined.txt; combine -M FitDiagnostics --trackParameters r --trackErrors r --justFit -m 125 -d combined.root --rMin -50 --rMax 50 --robustFit=1 --X-rtd MINIMIZER_MaxCalls=1000000 --cminDefaultMinimizerTolerance 0.1\n"
     ]
    },
    {
     "name": "stderr",
     "output_type": "stream",
     "text": [
      "Warning: Bin fail has no signal processes contributing to it\n"
     ]
    },
    {
     "name": "stdout",
     "output_type": "stream",
     "text": [
      " <<< Combine >>> \n",
      " <<< v9.2.0 >>>\n",
      ">>> Random number generator seed is 123456\n",
      ">>> Method used is FitDiagnostics\n",
      "\n",
      " --- FitDiagnostics ---\n",
      "Best fit r: -14.6755  -10.7297/+9.32175  (68% CL)\n",
      "Done in 0.02 min (cpu), 0.02 min (real)\n"
     ]
    }
   ],
   "source": [
    "r_bounds = [-50, 50]\n",
    "\n",
    "for itoy in range(16, ntoys):\n",
    "    command = f\"cd cards/toy_{itoy}; \"\n",
    "    command += \"combineCards.py fail=fail.txt passbin1=passbin1.txt > combined.txt; \"\n",
    "    command += \"text2workspace.py combined.txt; \"\n",
    "    command += f\"combine -M FitDiagnostics --trackParameters r --trackErrors r --justFit -m 125 -d combined.root --rMin {r_bounds[0]} --rMax {r_bounds[1]} --robustFit=1 --X-rtd MINIMIZER_MaxCalls=1000000 --cminDefaultMinimizerTolerance 0.1\"\n",
    "    run_command(command)"
   ]
  },
  {
   "cell_type": "code",
   "execution_count": 18,
   "id": "bd97be62-9625-4321-8c2f-c22d2587926d",
   "metadata": {},
   "outputs": [],
   "source": [
    "r_dict = {}\n",
    "biases = [0]\n",
    "for bias in biases:\n",
    "    file_names = f\"/home/users/woodson/HH4b/src/HH4b/boosted/cards/toy_*/higgsCombineTest.FitDiagnostics.mH125.root\"\n",
    "    file = uproot.concatenate(file_names)\n",
    "\n",
    "    r = np.array(file.limit)[::4]\n",
    "    neg_lim = np.array(file.limit)[1::4]\n",
    "    pos_lim = np.array(file.limit)[2::4]\n",
    "    r_negerr = r - neg_lim\n",
    "    r_poserr = pos_lim - r\n",
    "    reldiff = r - bias\n",
    "    reldiff[reldiff < 0] = (reldiff / r_poserr)[reldiff < 0]\n",
    "    reldiff[reldiff > 0] = (reldiff / r_negerr)[reldiff > 0]\n",
    "\n",
    "    r_dict[bias] = {\n",
    "        \"r\": r,\n",
    "        \"reldiff\": reldiff,\n",
    "        \"neg_lim\": neg_lim,\n",
    "        \"pos_lim\": pos_lim,\n",
    "    }"
   ]
  },
  {
   "cell_type": "code",
   "execution_count": 19,
   "id": "ff0b4a72-d0b9-44bb-8408-4a52208c0b22",
   "metadata": {},
   "outputs": [
    {
     "data": {
      "image/png": "[encoded data removed]",
      "text/plain": [
       "<Figure size 1200x1000 with 1 Axes>"
      ]
     },
     "metadata": {},
     "output_type": "display_data"
    }
   ],
   "source": [
    "from scipy import stats\n",
    "import matplotlib.pyplot as plt\n",
    "import mplhep as hep\n",
    "\n",
    "xrange = 4\n",
    "bins = 21\n",
    "x = np.linspace(-xrange, xrange, 101)\n",
    "\n",
    "\n",
    "fig, axs = plt.subplots(len(biases), 1, figsize=(12, len(biases) * 10))\n",
    "\n",
    "for i, bias in enumerate(biases):\n",
    "    r_lims_bounds = (\n",
    "        (r_dict[bias][\"reldiff\"] < 0) * (np.isclose(r_dict[bias][\"pos_lim\"], r_bounds[1]))\n",
    "    ) + ((r_dict[bias][\"reldiff\"] > 0) * (np.isclose(r_dict[bias][\"neg_lim\"], r_bounds[0])))\n",
    "\n",
    "    r_lims_same = r_dict[bias][\"pos_lim\"] == r_dict[bias][\"neg_lim\"]\n",
    "\n",
    "    fit_fail = r_lims_bounds + r_lims_same\n",
    "\n",
    "    r = r_dict[bias][\"r\"][~fit_fail]\n",
    "    reldiff = r_dict[bias][\"reldiff\"][~fit_fail]\n",
    "    reldiff = reldiff[(reldiff > -xrange) * (reldiff < xrange)]\n",
    "\n",
    "    mu, sigma = np.mean(reldiff), np.std(reldiff)\n",
    "\n",
    "    ax = axs[i] if len(biases) > 1 else axs\n",
    "\n",
    "    ax.hist(\n",
    "        reldiff,\n",
    "        np.linspace(-xrange, xrange, bins + 1),\n",
    "        histtype=\"step\",\n",
    "        label=f\"{len(reldiff)} Toys\",\n",
    "    )\n",
    "    ax.plot(\n",
    "        x,\n",
    "        # scale by bin width\n",
    "        stats.norm.pdf(x, loc=mu, scale=sigma) * len(r) * (2 * xrange / bins),\n",
    "        label=rf\"$\\mu = {mu:.2f}, \\sigma = {sigma:.2f}$\",\n",
    "    )\n",
    "    ax.set_xlabel(rf\"$\\frac{{\\hat{{r}} - {bias}}}{{\\Delta \\hat r}}$\")\n",
    "    ax.set_ylabel(\"Number of toys\")\n",
    "    ax.set_title(f\"r = {bias}\")\n",
    "    ax.legend(title=\"Combined\")\n",
    "\n",
    "    hep.cms.label(\n",
    "        \"Preliminary\",\n",
    "        ax=ax,\n",
    "        data=True,\n",
    "        lumi=61,\n",
    "        year=None,\n",
    "    )\n",
    "\n",
    "plt.savefig(\"bias.pdf\", bbox_inches=\"tight\")\n",
    "plt.show()"
   ]
  },
  {
   "cell_type": "code",
   "execution_count": null,
   "id": "5218923b-a6b0-49b3-a1cc-4056320e100f",
   "metadata": {},
   "outputs": [],
   "source": []
  }
 ],
 "metadata": {
  "kernelspec": {
   "display_name": "Python 3 (ipykernel)",
   "language": "python",
   "name": "python3"
  },
  "language_info": {
   "codemirror_mode": {
    "name": "ipython",
    "version": 3
   },
   "file_extension": ".py",
   "mimetype": "text/x-python",
   "name": "python",
   "nbconvert_exporter": "python",
   "pygments_lexer": "ipython3",
   "version": "3.8.2"
  }
 },
 "nbformat": 4,
 "nbformat_minor": 5
}
