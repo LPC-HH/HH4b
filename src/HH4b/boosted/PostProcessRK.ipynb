{
 "cells": [
  {
   "cell_type": "markdown",
   "metadata": {},
   "source": [
    "# Misc Checks"
   ]
  },
  {
   "cell_type": "code",
   "execution_count": null,
   "metadata": {},
   "outputs": [],
   "source": [
    "import pandas as pd\n",
    "import numpy as np\n",
    "import vector\n",
    "import os\n",
    "from xgboost import XGBClassifier\n",
    "from pathlib import Path\n",
    "\n",
    "import HH4b.utils as utils\n",
    "from HH4b.utils import ShapeVar\n",
    "import HH4b.plotting as plotting\n",
    "import HH4b.postprocessing as postprocessing\n",
    "from HH4b.postprocessing import Region\n",
    "from HH4b.hh_vars import samples\n",
    "\n",
    "import hist\n",
    "import matplotlib.pyplot as plt\n",
    "import mplhep as hep\n",
    "import matplotlib.ticker as mticker\n",
    "\n",
    "formatter = mticker.ScalarFormatter(useMathText=True)\n",
    "formatter.set_powerlimits((-3, 3))"
   ]
  },
  {
   "cell_type": "code",
   "execution_count": null,
   "metadata": {},
   "outputs": [],
   "source": [
    "# automatically reloads imported files on edits\n",
    "%load_ext autoreload\n",
    "%autoreload 2"
   ]
  },
  {
   "cell_type": "code",
   "execution_count": null,
   "metadata": {},
   "outputs": [],
   "source": [
    "MAIN_DIR = Path(\"../../../\")\n",
    "plot_dir = MAIN_DIR / \"../plots/PostProcess/24Apr20Legacy\"\n",
    "plot_dir.mkdir(parents=True, exist_ok=True)\n",
    "\n",
    "data_dir = \"/ceph/cms/store/user/rkansal/bbbb/skimmer/24Apr19LegacyFixes_v12_private_signal/\"\n",
    "dirs = {data_dir: samples}"
   ]
  },
  {
   "cell_type": "code",
   "execution_count": null,
   "metadata": {},
   "outputs": [],
   "source": [
    "# both jets' pT > 300, at least one jet with Legacy PNet TXbb > 0.8\n",
    "filters = [\n",
    "    [\n",
    "        (\"('bbFatJetPt', '0')\", \">=\", 300),\n",
    "        (\"('bbFatJetPt', '1')\", \">=\", 300),\n",
    "        (\"('bbFatJetPNetTXbbLegacy', '0')\", \">=\", 0.8),\n",
    "    ],\n",
    "    [\n",
    "        (\"('bbFatJetPt', '0')\", \">=\", 300),\n",
    "        (\"('bbFatJetPt', '1')\", \">=\", 300),\n",
    "        (\"('bbFatJetPNetTXbbLegacy', '1')\", \">=\", 0.8),\n",
    "    ],\n",
    "]\n",
    "\n",
    "year = \"2022EE\"\n",
    "\n",
    "load_columns = [\n",
    "    (\"weight\", 1),\n",
    "    (\"bbFatJetPt\", 2),\n",
    "    (\"bbFatJetEta\", 2),\n",
    "    (\"bbFatJetPhi\", 2),\n",
    "    (\"bbFatJetMsd\", 2),\n",
    "    (\"bbFatJetPNetMass\", 2),\n",
    "    (\"bbFatJetPNetTXbb\", 2),\n",
    "    (\"bbFatJetPNetMassLegacy\", 2),\n",
    "    (\"bbFatJetPNetTXbbLegacy\", 2),\n",
    "    # (\"bbFatJetTau3OverTau2\", 2),\n",
    "    # (\"bbFatJetPNetQCD0HF\", 2),\n",
    "    # (\"bbFatJetPNetQCD1HF\", 2),\n",
    "    # (\"bbFatJetPNetQCD2HF\", 2),\n",
    "]\n",
    "\n",
    "\n",
    "events_dict = {}\n",
    "for input_dir, samples in dirs.items():\n",
    "    events_dict = {\n",
    "        **events_dict,\n",
    "        **utils.load_samples(\n",
    "            input_dir,\n",
    "            samples[year],\n",
    "            year,\n",
    "            filters=filters,\n",
    "            columns=utils.format_columns(load_columns),\n",
    "            variations=False,\n",
    "        ),\n",
    "    }\n",
    "\n",
    "cutflow = pd.DataFrame(index=list(events_dict.keys()))\n",
    "utils.add_to_cutflow(events_dict, \"Preselection\", \"finalWeight\", cutflow)\n",
    "cutflow"
   ]
  },
  {
   "cell_type": "code",
   "execution_count": null,
   "metadata": {},
   "outputs": [],
   "source": [
    "np.mean(\n",
    "    events_dict[\"hh4b\"][\"bbFatJetPNetTXbbLegacy\"][0]\n",
    "    < events_dict[\"hh4b\"][\"bbFatJetPNetTXbbLegacy\"][1]\n",
    ")"
   ]
  },
  {
   "cell_type": "code",
   "execution_count": null,
   "metadata": {},
   "outputs": [],
   "source": [
    "samples = [\"qcd\", \"ttbar\"]\n",
    "mass = \"bbFatJetMsd\"\n",
    "tagger = \"bbFatJetPNetTXbbLegacy\"\n",
    "i = 1\n",
    "\n",
    "for sample in samples:\n",
    "    plt.figure(figsize=(10, 10))\n",
    "    plt.title(sample)\n",
    "    for cut in [0, 0.8, 0.9, 0.95]:\n",
    "        cut_mask = events_dict[sample][tagger][i] >= cut\n",
    "        plt.hist(\n",
    "            events_dict[sample][mass][i][cut_mask],\n",
    "            np.arange(60, 251, 10),\n",
    "            weights=events_dict[sample][\"finalWeight\"][cut_mask],\n",
    "            histtype=\"step\",\n",
    "            label=rf\"$T_{{Xbb}} \\geq {cut}$\",\n",
    "            density=True,\n",
    "        )\n",
    "\n",
    "    plt.xlabel(f\"Jet {i+1} {mass} (GeV)\")\n",
    "    plt.legend()\n",
    "    plt.savefig(plot_dir / f\"{sample}_{mass}{i}_{tagger}_sculpting.pdf\", bbox_inches=\"tight\")\n",
    "    plt.show()"
   ]
  },
  {
   "cell_type": "markdown",
   "metadata": {},
   "source": [
    "## tt ROC curve"
   ]
  },
  {
   "cell_type": "code",
   "execution_count": null,
   "metadata": {},
   "outputs": [],
   "source": [
    "jet = 1\n",
    "tagger = \"bbFatJetPNetTXbbLegacy\"\n",
    "sig_jets_score = events_dict[\"hh4b\"][tagger][jet]\n",
    "bg_jets_score = {\n",
    "    \"qcd\": events_dict[\"qcd\"][tagger][jet],\n",
    "    \"ttbar\": events_dict[\"ttbar\"][tagger][jet],\n",
    "}"
   ]
  },
  {
   "cell_type": "code",
   "execution_count": null,
   "metadata": {},
   "outputs": [],
   "source": [
    "from sklearn.metrics import roc_curve\n",
    "\n",
    "bg_skip = 1\n",
    "sig_key = \"hh4b\"\n",
    "weight_key = \"finalWeight\"\n",
    "rocs = {}\n",
    "\n",
    "for bg_key in [\"qcd\", \"ttbar\"]:\n",
    "    print(bg_key)\n",
    "    y_true = np.concatenate(\n",
    "        [\n",
    "            np.ones(len(sig_jets_score)),\n",
    "            np.zeros((len(bg_jets_score[bg_key]) - 1) // bg_skip + 1),\n",
    "        ]\n",
    "    )\n",
    "\n",
    "    weights = np.concatenate(\n",
    "        [\n",
    "            events_dict[sig_key][weight_key].to_numpy(),\n",
    "            events_dict[bg_key][weight_key].to_numpy()[::bg_skip],\n",
    "        ]\n",
    "    )\n",
    "\n",
    "    scores = np.concatenate((sig_jets_score, bg_jets_score[bg_key][::bg_skip]))\n",
    "\n",
    "    fpr, tpr, thresholds = roc_curve(y_true, scores, sample_weight=weights)\n",
    "\n",
    "    rocs[bg_key] = {\n",
    "        \"fpr\": fpr,\n",
    "        \"tpr\": tpr,\n",
    "        \"thresholds\": thresholds,\n",
    "        \"label\": plotting.label_by_sample[bg_key],\n",
    "    }"
   ]
  },
  {
   "cell_type": "code",
   "execution_count": null,
   "metadata": {},
   "outputs": [],
   "source": [
    "def find_nearest(array, value):\n",
    "    array = np.asarray(array)\n",
    "    idx = (np.abs(array - value)).argmin()\n",
    "    return idx"
   ]
  },
  {
   "cell_type": "code",
   "execution_count": null,
   "metadata": {},
   "outputs": [],
   "source": [
    "plotting.multiROCCurveGrey(\n",
    "    {\"test\": rocs},\n",
    "    [0.2, 0.5],\n",
    "    xlim=[0, 0.8],\n",
    "    ylim=[1e-5, 1],\n",
    "    plot_dir=plot_dir,\n",
    "    name=f\"{tagger}_ROCs\",\n",
    "    show=True,\n",
    ")"
   ]
  },
  {
   "cell_type": "code",
   "execution_count": null,
   "metadata": {},
   "outputs": [],
   "source": []
  }
 ],
 "metadata": {
  "kernelspec": {
   "display_name": "coffea",
   "language": "python",
   "name": "python3"
  },
  "language_info": {
   "codemirror_mode": {
    "name": "ipython",
    "version": 3
   },
   "file_extension": ".py",
   "mimetype": "text/x-python",
   "name": "python",
   "nbconvert_exporter": "python",
   "pygments_lexer": "ipython3",
   "version": "3.9.15"
  },
  "orig_nbformat": 4
 },
 "nbformat": 4,
 "nbformat_minor": 2
}
