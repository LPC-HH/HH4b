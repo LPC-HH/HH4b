{
 "cells": [
  {
   "cell_type": "code",
   "execution_count": null,
   "metadata": {},
   "outputs": [],
   "source": [
    "import numpy as np\n",
    "import pandas as pd\n",
    "\n",
    "import matplotlib.pyplot as plt\n",
    "import mplhep as hep\n",
    "import matplotlib.ticker as mticker\n",
    "\n",
    "hep.style.use([\"CMS\", \"firamath\"])\n",
    "\n",
    "formatter = mticker.ScalarFormatter(useMathText=True)\n",
    "formatter.set_powerlimits((-3, 3))\n",
    "plt.rcParams.update({\"font.size\": 12})\n",
    "plt.rcParams[\"lines.linewidth\"] = 2\n",
    "plt.rcParams[\"grid.color\"] = \"#CCCCCC\"\n",
    "plt.rcParams[\"grid.linewidth\"] = 0.5\n",
    "plt.rcParams[\"figure.edgecolor\"] = \"none\""
   ]
  },
  {
   "cell_type": "markdown",
   "metadata": {},
   "source": [
    "# Checks on signal samples"
   ]
  },
  {
   "cell_type": "code",
   "execution_count": null,
   "metadata": {},
   "outputs": [],
   "source": [
    "import sys\n",
    "\n",
    "sys.path.append(\"..\")\n",
    "\n",
    "import hist\n",
    "import os\n",
    "import utils\n",
    "from postprocessing.postprocessing import Region, weight_shifts, bb_assignment\n",
    "from utils import ShapeVar, CUT_MAX_VAL\n",
    "from hh_vars import samples, data_key, bg_keys, sig_keys"
   ]
  },
  {
   "cell_type": "code",
   "execution_count": null,
   "metadata": {},
   "outputs": [],
   "source": [
    "# automatically reloads imported files on edits\n",
    "%load_ext autoreload\n",
    "%autoreload 2"
   ]
  },
  {
   "cell_type": "code",
   "execution_count": null,
   "metadata": {},
   "outputs": [],
   "source": [
    "year = \"2022EE\"\n",
    "samples[year]"
   ]
  },
  {
   "cell_type": "code",
   "execution_count": null,
   "metadata": {},
   "outputs": [],
   "source": [
    "year = \"2022EE\"\n",
    "samples_year = samples[year].copy()\n",
    "\n",
    "# define dictionary with directories of files (this can be configured in a yaml file later in the script)\n",
    "sig_keys = [\"hh4b\"]\n",
    "for key in list(samples_year.keys()):\n",
    "    if key not in \"vhtobb\" and key not in sig_keys:\n",
    "        del samples_year[key]\n",
    "\n",
    "MAIN_DIR = \"../../../\"\n",
    "path_to_dir = f\"{MAIN_DIR}/../data/skimmer/Oct26/\"\n",
    "# path_to_dir_signal = f\"{MAIN_DIR}/../data/skimmer/Nov6fix/\"\n",
    "path_to_dir_signal = f\"{MAIN_DIR}/../data/skimmer/Nov6fix2/\"\n",
    "\n",
    "sample_dirs = {path_to_dir: samples_year}\n",
    "\n",
    "# hh_dict = {'hh4b': ['GluGlutoHHto4B_kl-1p00_kt-1p00_c2-0p00_TuneCP5_13p6TeV_TSG']}\n",
    "# samples_year = {**samples_year, **hh_dict}\n",
    "# sample_dirs[path_to_dir_signal] = hh_dict\n",
    "\n",
    "# make plot and template directory\n",
    "date = \"23Nov6\"\n",
    "plot_dir = f\"{MAIN_DIR}/plots/PostProcessing/{date}/{year}\"\n",
    "template_dir = f\"templates/{date}/\"\n",
    "_ = os.system(f\"mkdir -p {plot_dir}\")\n",
    "_ = os.system(f\"mkdir -p {template_dir}/cutflows/{year}\")"
   ]
  },
  {
   "cell_type": "code",
   "execution_count": null,
   "metadata": {},
   "outputs": [],
   "source": [
    "samples_year"
   ]
  },
  {
   "cell_type": "code",
   "execution_count": null,
   "metadata": {},
   "outputs": [],
   "source": [
    "sample_dirs"
   ]
  },
  {
   "cell_type": "code",
   "execution_count": null,
   "metadata": {},
   "outputs": [],
   "source": [
    "pt_cut = 300\n",
    "\n",
    "filters = [\n",
    "    [\n",
    "        (\"('ak8FatJetPt', '0')\", \">=\", pt_cut),\n",
    "        (\"('ak8FatJetPt', '1')\", \">=\", pt_cut),\n",
    "        (\"('ak8FatJetMsd', '0')\", \">=\", 60),\n",
    "        (\"('ak8FatJetMsd', '1')\", \">=\", 60),\n",
    "        (\"('ak8FatJetPNetXbb', '0')\", \">=\", 0.8),\n",
    "    ],\n",
    "    [\n",
    "        (\"('ak8FatJetPt', '0')\", \">=\", pt_cut),\n",
    "        (\"('ak8FatJetPt', '1')\", \">=\", pt_cut),\n",
    "        (\"('ak8FatJetMsd', '0')\", \">=\", 60),\n",
    "        (\"('ak8FatJetMsd', '1')\", \">=\", 60),\n",
    "        (\"('ak8FatJetPNetXbb', '1')\", \">=\", 0.8),\n",
    "    ],\n",
    "]\n",
    "\n",
    "# save cutflow as pandas table\n",
    "cutflow = pd.DataFrame(index=list(samples_year.keys()))\n",
    "\n",
    "# dictionary that will contain all information (from all samples)\n",
    "events_dict = {}\n",
    "for input_dir, samples_dict in sample_dirs.items():\n",
    "    events_dict = {\n",
    "        **events_dict,\n",
    "        # this function will load files (only the columns selected), apply filters and compute a weight per event\n",
    "        **utils.load_samples(\n",
    "            input_dir,\n",
    "            samples_dict,\n",
    "            year,\n",
    "            filters=filters,\n",
    "        ),\n",
    "    }\n",
    "\n",
    "utils.add_to_cutflow(events_dict, \"Preselection\", \"weight\", cutflow)\n",
    "print(\"\\n\", cutflow)\n",
    "\n",
    "bb_masks = bb_assignment(events_dict)"
   ]
  },
  {
   "cell_type": "code",
   "execution_count": null,
   "metadata": {},
   "outputs": [],
   "source": [
    "len(events_dict[\"hh4b\"])"
   ]
  },
  {
   "cell_type": "code",
   "execution_count": null,
   "metadata": {},
   "outputs": [],
   "source": [
    "events_dict[\"hh4b\"].single_weight_genweight"
   ]
  },
  {
   "cell_type": "code",
   "execution_count": null,
   "metadata": {},
   "outputs": [],
   "source": [
    "events_dict[\"hh4b\"].ak8FatJetPNetMass"
   ]
  },
  {
   "cell_type": "code",
   "execution_count": null,
   "metadata": {},
   "outputs": [],
   "source": [
    "bb_masks"
   ]
  },
  {
   "cell_type": "code",
   "execution_count": null,
   "metadata": {},
   "outputs": [],
   "source": [
    "events_dict[\"hh4b\"][\"ak8FatJetPNetMass\"].values[bb_masks[\"hh4b\"] ^ (int(\"0\") == 1)].squeeze()"
   ]
  },
  {
   "cell_type": "code",
   "execution_count": null,
   "metadata": {},
   "outputs": [],
   "source": [
    "for key, events in events_dict.items():\n",
    "    if key == data_key:\n",
    "        events[\"weight_nopileup\"] = events[\"weight\"]\n",
    "        events[\"weight_notrigger\"] = events[\"weight\"]\n",
    "    else:\n",
    "        events[\"weight_nopileup\"] = events[\"weight\"] / events[\"single_weight_pileup\"]\n",
    "        events[\"weight_notrigger_nopileup\"] = events[\"weight\"] / (\n",
    "            events[\"single_weight_trigsf_2jet\"] * events[\"single_weight_pileup\"]\n",
    "        )"
   ]
  },
  {
   "cell_type": "markdown",
   "metadata": {},
   "source": [
    "## Check mass"
   ]
  },
  {
   "cell_type": "code",
   "execution_count": null,
   "metadata": {},
   "outputs": [],
   "source": [
    "sig_key = \"hh4b\"\n",
    "plots = {\n",
    "    \"bb0FatJetPNetMass\": r\"$m_{reg}^{j1}$ (GeV)\",\n",
    "    \"bb1FatJetPNetMass\": r\"$m_{reg}^{j2}$ (GeV)\",\n",
    "    \"bb0FatJetMsd\": r\"$m_{SD}^{j1}$ (GeV)\",\n",
    "    \"bb1FatJetMsd\": r\"$m_{SD}^{j2}$ (GeV)\",\n",
    "}\n",
    "\n",
    "mass_axis = hist.axis.Regular(40, 40, 250, name=\"mass\", label=r\"Mass [GeV]\")\n",
    "cat_axis = hist.axis.StrCategory([], name=\"cat\", growth=True)\n",
    "hist_m = hist.Hist(mass_axis, cat_axis)\n",
    "\n",
    "for key in plots.keys():\n",
    "    weight = utils.get_feat(events_dict[sig_key], \"weight\")\n",
    "    pu_weight = utils.get_feat(events_dict[sig_key], \"weight\")\n",
    "    if key == \"hh4b\":\n",
    "        weight = weight / pu_weight\n",
    "    hist_m.fill(\n",
    "        mass=utils.get_feat(events_dict[sig_key], key, bb_masks[sig_key]),\n",
    "        cat=key,\n",
    "        weight=weight,\n",
    "    )\n",
    "\n",
    "fig, ax = plt.subplots(1, 1, figsize=(6, 4))\n",
    "hep.histplot(hist_m[{\"cat\": \"bb0FatJetMsd\"}], ax=ax, label=plots[\"bb0FatJetMsd\"])\n",
    "hep.histplot(hist_m[{\"cat\": \"bb0FatJetPNetMass\"}], ax=ax, label=plots[\"bb0FatJetPNetMass\"])\n",
    "ax.legend()\n",
    "ax.set_xlabel(\"Mass (GeV)\")\n",
    "ax.set_ylabel(\"Events\")\n",
    "\n",
    "fig, ax = plt.subplots(1, 1, figsize=(6, 4))\n",
    "hep.histplot(hist_m[{\"cat\": \"bb1FatJetMsd\"}], ax=ax, label=plots[\"bb1FatJetMsd\"])\n",
    "hep.histplot(hist_m[{\"cat\": \"bb1FatJetPNetMass\"}], ax=ax, label=plots[\"bb1FatJetPNetMass\"])\n",
    "ax.legend()\n",
    "ax.set_xlabel(\"Mass (GeV)\")\n",
    "ax.set_ylabel(\"Events\")"
   ]
  },
  {
   "cell_type": "code",
   "execution_count": null,
   "metadata": {},
   "outputs": [],
   "source": [
    "for key in [\"bb0FatJetPNetMass\", \"bb1FatJetPNetMass\"]:\n",
    "    hist_m = hist.Hist(mass_axis, cat_axis)\n",
    "    for sig_key in [\"hh4b\", \"vhtobb\"]:\n",
    "        weight = utils.get_feat(events_dict[sig_key], \"weight\")\n",
    "        pu_weight = utils.get_feat(events_dict[sig_key], \"weight\")\n",
    "        if key == \"hh4b\":\n",
    "            weight = weight / pu_weight\n",
    "        hist_m.fill(\n",
    "            mass=utils.get_feat(events_dict[sig_key], key, bb_masks[sig_key]),\n",
    "            cat=sig_key,\n",
    "            weight=weight,\n",
    "        )\n",
    "\n",
    "    fig, ax = plt.subplots(1, 1, figsize=(6, 4))\n",
    "    hep.histplot(\n",
    "        hist_m[{\"cat\": \"hh4b\"}],\n",
    "        ax=ax,\n",
    "        label=\"hh4b\",\n",
    "        histtype=\"fill\",\n",
    "        hatch=r\"\\\\\\\\\",\n",
    "        alpha=0.5,\n",
    "        facecolor=\"blue\",\n",
    "        edgecolor=\"black\",\n",
    "        linewidth=1,\n",
    "    )\n",
    "    hep.histplot(\n",
    "        hist_m[{\"cat\": \"vhtobb\"}],\n",
    "        ax=ax,\n",
    "        label=\"vhtobb\",\n",
    "        histtype=\"fill\",\n",
    "        alpha=0.1,\n",
    "        facecolor=\"blue\",\n",
    "        edgecolor=\"black\",\n",
    "        linewidth=1,\n",
    "    )\n",
    "    ax.legend()\n",
    "    ax.set_xlabel(f\"{plots[key]} (GeV)\")\n",
    "    ax.set_ylabel(\"Events\")"
   ]
  },
  {
   "cell_type": "markdown",
   "metadata": {},
   "source": [
    "## Check PU weight"
   ]
  },
  {
   "cell_type": "code",
   "execution_count": null,
   "metadata": {},
   "outputs": [],
   "source": [
    "npv_axis = hist.axis.Regular(20, 0, 80, name=\"npv\", label=r\"nPV\")\n",
    "colors = {\"hh4b\": \"blue\", \"vhtobb\": \"orange\"}\n",
    "for sig_key in [\"hh4b\", \"vhtobb\"]:\n",
    "    h_npv = hist.Hist(npv_axis, cat_axis)\n",
    "    h_npv.fill(\n",
    "        npv=utils.get_feat(events_dict[sig_key], \"nPV\"),\n",
    "        cat=\"PU\",\n",
    "        weight=utils.get_feat(events_dict[sig_key], \"weight\"),\n",
    "    )\n",
    "    h_npv.fill(\n",
    "        npv=utils.get_feat(events_dict[sig_key], \"nPV\"),\n",
    "        cat=\"unweight\",\n",
    "        weight=utils.get_feat(events_dict[sig_key], \"weight_nopileup\"),\n",
    "    )\n",
    "\n",
    "    # print yields\n",
    "    print(sig_key)\n",
    "    print(\"no PU weight \", np.round(h_npv[{\"cat\": \"unweight\"}].sum(), 2))\n",
    "    print(\"with PU weight \", np.round(h_npv[{\"cat\": \"PU\"}].sum(), 2))\n",
    "\n",
    "    fig, ax = plt.subplots(1, 1, figsize=(6, 4))\n",
    "    hep.histplot(\n",
    "        h_npv[{\"cat\": \"PU\"}],\n",
    "        ax=ax,\n",
    "        label=\"PU weight\",\n",
    "        histtype=\"fill\",\n",
    "        hatch=r\"\\\\\\\\\",\n",
    "        alpha=0.2,\n",
    "        facecolor=colors[sig_key],\n",
    "        edgecolor=\"black\",\n",
    "        linewidth=1,\n",
    "    )\n",
    "    hep.histplot(\n",
    "        h_npv[{\"cat\": \"unweight\"}],\n",
    "        ax=ax,\n",
    "        label=\"unweighted\",\n",
    "        histtype=\"fill\",\n",
    "        alpha=0.5,\n",
    "        facecolor=colors[sig_key],\n",
    "    )\n",
    "    ax.legend(title=sig_key)\n",
    "    ax.set_ylabel(\"Events\")"
   ]
  },
  {
   "cell_type": "markdown",
   "metadata": {},
   "source": [
    "## Check Trigger weight"
   ]
  },
  {
   "cell_type": "code",
   "execution_count": null,
   "metadata": {},
   "outputs": [],
   "source": [
    "msd_axis = hist.axis.Regular(40, 0, 250, name=\"msd\", label=r\"m$_{SD}^{1}$ [GeV]\")\n",
    "colors = {\"hh4b\": \"blue\", \"vhtobb\": \"orange\"}\n",
    "for sig_key in [\"hh4b\", \"vhtobb\"]:\n",
    "    h_m = hist.Hist(msd_axis, cat_axis)\n",
    "    h_m.fill(\n",
    "        msd=utils.get_feat(events_dict[sig_key], \"bb0FatJetMsd\", bb_masks[sig_key]),\n",
    "        cat=\"trigger\",\n",
    "        weight=utils.get_feat(events_dict[sig_key], \"weight_nopileup\"),\n",
    "    )\n",
    "    h_m.fill(\n",
    "        msd=utils.get_feat(events_dict[sig_key], \"bb0FatJetMsd\", bb_masks[sig_key]),\n",
    "        cat=\"unweight\",\n",
    "        weight=utils.get_feat(events_dict[sig_key], \"weight_notrigger_nopileup\"),\n",
    "    )\n",
    "\n",
    "    print(h_m)\n",
    "    # print yields\n",
    "    print(sig_key)\n",
    "    print(\"no trigger weight \", np.round(h_m[{\"cat\": \"unweight\"}].sum(), 2))\n",
    "    print(\"with trigger weight \", np.round(h_m[{\"cat\": \"trigger\"}].sum(), 2))\n",
    "\n",
    "    fig, ax = plt.subplots(1, 1, figsize=(6, 4))\n",
    "    hep.histplot(\n",
    "        h_m[{\"cat\": \"trigger\"}],\n",
    "        ax=ax,\n",
    "        label=\"Trigger weight\",\n",
    "        histtype=\"fill\",\n",
    "        hatch=r\"\\\\\\\\\",\n",
    "        alpha=0.1,\n",
    "        facecolor=colors[sig_key],\n",
    "        edgecolor=\"black\",\n",
    "        linewidth=1,\n",
    "    )\n",
    "    hep.histplot(\n",
    "        h_m[{\"cat\": \"unweight\"}],\n",
    "        ax=ax,\n",
    "        label=\"unweighted\",\n",
    "        color=colors[sig_key],\n",
    "        edgecolor=\"black\",\n",
    "    )\n",
    "    ax.legend(title=sig_key)\n",
    "    ax.set_ylabel(\"Events\")"
   ]
  },
  {
   "cell_type": "code",
   "execution_count": null,
   "metadata": {},
   "outputs": [],
   "source": []
  }
 ],
 "metadata": {
  "kernelspec": {
   "display_name": "coffea",
   "language": "python",
   "name": "python3"
  },
  "language_info": {
   "codemirror_mode": {
    "name": "ipython",
    "version": 3
   },
   "file_extension": ".py",
   "mimetype": "text/x-python",
   "name": "python",
   "nbconvert_exporter": "python",
   "pygments_lexer": "ipython3",
   "version": "3.8.16"
  },
  "orig_nbformat": 4
 },
 "nbformat": 4,
 "nbformat_minor": 2
}
