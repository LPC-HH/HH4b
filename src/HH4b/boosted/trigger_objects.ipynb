{
 "cells": [
  {
   "cell_type": "code",
   "execution_count": null,
   "metadata": {},
   "outputs": [],
   "source": [
    "# sequence for AK8PFJet250_SoftDropMass40_PFAK8ParticleNetBB0p35\n",
    "#  L1sSingleJetOrHTTOrMuHTT\n",
    "#  hltAK8SingleCaloJet200\n",
    "### hltSingleAK8PFJet250\n",
    "### hltAK8PFJets250Constituents\n",
    "### hltAK8PFSoftDropJets250\n",
    "### hltAK8SinglePFJets250SoftDropMass40\n",
    "### hltAK8PFJets250SoftDropMass40\n",
    "#  hltAK8SinglePFJets250SoftDropMass40BTagParticleNetBB0p35\n",
    "from __future__ import annotations\n",
    "\n",
    "triggerObj_bits = {\n",
    "    \"hltAK8PFJetsCorrected\": 1,  # 1 fatjet\n",
    "    \"hltAK8SingleCaloJet200\": 2,  # 1 fatjet\n",
    "    \"hltAK8PFSoftDropJets230\": 4,  # 1 fatjet,\n",
    "    # hltAK8SinglePFJets230SoftDropMass40BTagParticleNetBB0p35 OR hltAK8SinglePFJets250SoftDropMass40BTagParticleNetBB0p35 OR hltAK8SinglePFJets275SoftDropMass40BTagParticleNetBB0p35\n",
    "    \"hltAK8SinglePFJets230SoftDropMass40BTagParticleNetBB0p35\": 12,  # 1 fatjet, fatjetFirstHighestPN_PNBB\n",
    "    \"hltAK8DoublePFJetSDModMass30\": 16,  # 2 fatjet\n",
    "    \"hltAK8DoublePFJetSDModMass50\": 48,  # 2 fatjet\n",
    "}\n",
    "print(triggerObj_bits[\"hltAK8PFJetsCorrected\"])\n",
    "\n",
    "trigger_filters = [\n",
    "    # \"hltAK8PFJetsCorrected\",\n",
    "    # \"hltAK8SingleCaloJet200\",\n",
    "    # \"hltAK8PFSoftDropJets230\",\n",
    "    \"hltAK8SinglePFJets230SoftDropMass40BTagParticleNetBB0p35\",\n",
    "]\n",
    "trigger_selection = np.ones_like(selection)\n",
    "filter_bits_jet0 = events_dict[\"data\"][\"trigObj_filterBits\"][0]\n",
    "for filter in trigger_filters:\n",
    "    trigger_selection = trigger_selection & (filter_bits_jet0 & triggerObj_bits[filter] == 1)\n",
    "\n",
    "print(filter_bits_jet0[((filter_bits_jet0 != 2) & (filter_bits_jet0 > 0))])\n",
    "\n",
    "trigger_selection = np.ones_like(selection)\n",
    "filter_bits_jet1 = events_dict[\"data\"][\"trigObjFatJet1_filterBits\"][0]\n",
    "for filter in trigger_filters:\n",
    "    trigger_selection = trigger_selection & (filter_bits_jet1 & triggerObj_bits[filter] == 1)\n",
    "\n",
    "print((filter_bits_jet1 != 2).any())"
   ]
  }
 ],
 "metadata": {
  "language_info": {
   "name": "python"
  },
  "orig_nbformat": 4
 },
 "nbformat": 4,
 "nbformat_minor": 2
}
