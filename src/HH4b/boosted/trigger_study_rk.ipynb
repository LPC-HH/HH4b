{
 "cells": [
  {
   "cell_type": "code",
   "execution_count": null,
   "metadata": {},
   "outputs": [],
   "source": [
    "from __future__ import annotations\n",
    "\n",
    "from copy import deepcopy\n",
    "from os import listdir\n",
    "from pathlib import Path\n",
    "\n",
    "import matplotlib.pyplot as plt\n",
    "import mplhep as hep\n",
    "import numpy as np\n",
    "import pandas as pd\n",
    "from hist import Hist\n",
    "from hist.intervals import clopper_pearson_interval\n",
    "\n",
    "from HH4b import hh_vars, plotting, utils\n",
    "from HH4b.utils import ShapeVar\n",
    "\n",
    "plt.rcParams.update({\"font.size\": 24})\n",
    "plt.style.use(hep.style.CMS)"
   ]
  },
  {
   "cell_type": "code",
   "execution_count": null,
   "metadata": {},
   "outputs": [],
   "source": [
    "# automatically reloads imported files on edits\n",
    "%load_ext autoreload\n",
    "%autoreload 2"
   ]
  },
  {
   "cell_type": "code",
   "execution_count": null,
   "metadata": {},
   "outputs": [],
   "source": [
    "MAIN_DIR = \"../../../\"\n",
    "\n",
    "plot_dir = Path(f\"{MAIN_DIR}/plots/Triggers/23Nov15\")\n",
    "plot_dir.mkdir(parents=True, exist_ok=True)"
   ]
  },
  {
   "cell_type": "markdown",
   "metadata": {},
   "source": [
    "## Load Data"
   ]
  },
  {
   "cell_type": "code",
   "execution_count": null,
   "metadata": {},
   "outputs": [],
   "source": [
    "# year = \"2022\"\n",
    "# year = \"2022EE-noE\"\n",
    "year = \"2022EE\"\n",
    "\n",
    "# data_dir = f\"/eos/uscms/store/user/cmantill/bbbb/trigger_boosted/Aug15/\"\n",
    "data_dir = \"/eos/uscms/store/user/cmantill/bbbb/trigger_boosted/23Nov9_v11_v11/\"\n",
    "\n",
    "samples = {\n",
    "    \"2022EE\": {\n",
    "        \"data\": [\"Run2022E\", \"Run2022F\", \"Run2022G\"],\n",
    "        \"ttbar\": [\"TTtoLNu2Q\"],\n",
    "    },\n",
    "    \"2022EE-noE\": {\n",
    "        \"data\": [\"Run2022F\", \"Run2022G\"],\n",
    "        \"ttbar\": [\"TTtoLNu2Q\"],\n",
    "    },\n",
    "    \"2022\": {\n",
    "        \"data\": [\"Run2022C_single\", \"Run2022C\", \"Run2022D\"],\n",
    "        \"ttbar\": [\"TTtoLNu2Q\"],\n",
    "    },\n",
    "}[year]\n",
    "\n",
    "y = year\n",
    "if year == \"2022EE-noE\":\n",
    "    y = \"2022EE\""
   ]
  },
  {
   "cell_type": "code",
   "execution_count": null,
   "metadata": {},
   "outputs": [],
   "source": [
    "# columns to load\n",
    "# the parquet files are too big so we can only load a few columns at a time without consumming much memory\n",
    "load_columns = [\n",
    "    (\"ak8FatJetPt\", 1),\n",
    "    (\"ak8FatJetPNetXbb\", 1),\n",
    "    (\"ak8FatJetMsd\", 1),\n",
    "    # (\"ak8FatJetPNetMass\", 1),\n",
    "    (\"AK8PFJet250_SoftDropMass40_PFAK8ParticleNetBB0p35\", 1),\n",
    "    (\"AK8PFJet425_SoftDropMass40\", 1),\n",
    "    (\"PFHT1050\", 1),\n",
    "]"
   ]
  },
  {
   "cell_type": "code",
   "execution_count": null,
   "metadata": {},
   "outputs": [],
   "source": [
    "full_samples_list = listdir(f\"{data_dir}/{y}\")\n",
    "events_dict = {}\n",
    "for label, selector in samples.items():\n",
    "    events_dict[label] = []\n",
    "    for sample in full_samples_list:\n",
    "        if not utils.check_selector(sample, selector):\n",
    "            continue\n",
    "        if not Path(f\"{data_dir}/{y}/{sample}/parquet\").exists():\n",
    "            print(f\"No parquet file for {sample}\")\n",
    "            continue\n",
    "\n",
    "        events = pd.read_parquet(\n",
    "            f\"{data_dir}/{y}/{sample}/parquet\",\n",
    "            # columns=utils.format_columns(load_columns),\n",
    "        )\n",
    "        not_empty = len(events) > 0\n",
    "        if not_empty:\n",
    "            events_dict[label].append(events)\n",
    "\n",
    "        print(f\"Loaded {sample: <50}: {len(events)} entries\")\n",
    "\n",
    "    if len(events_dict[label]):\n",
    "        events_dict[label] = pd.concat(events_dict[label])\n",
    "    else:\n",
    "        del events_dict[label]"
   ]
  },
  {
   "cell_type": "code",
   "execution_count": null,
   "metadata": {},
   "outputs": [],
   "source": [
    "events_dict[\"data\"].columns"
   ]
  },
  {
   "cell_type": "markdown",
   "metadata": {},
   "source": [
    "## Fill Histograms"
   ]
  },
  {
   "cell_type": "markdown",
   "metadata": {},
   "source": [
    "Histogram variables"
   ]
  },
  {
   "cell_type": "code",
   "execution_count": null,
   "metadata": {},
   "outputs": [],
   "source": [
    "# fine bins initially and then rebinning below as needed\n",
    "mass_bins = [44, 20, 240]\n",
    "pt_bins = [160, 200, 1000]\n",
    "txbb_bins = [100, 0, 1]\n",
    "\n",
    "shape_vars = {\n",
    "    # \"mreg\": ShapeVar(var=\"mreg\", label=r\"AK8 Jet Regressed Mass (GeV)\", bins=mass_bins),\n",
    "    \"msd\": ShapeVar(var=\"msd\", label=r\"AK8 Jet SD Mass (GeV)\", bins=mass_bins, reg=True),\n",
    "    \"pt\": ShapeVar(var=\"pt\", label=r\"AK8 Jet $p_T$ (GeV)\", bins=pt_bins, reg=True),\n",
    "    \"txbb\": ShapeVar(var=\"txbb\", label=r\"AK8 Jet $T_{Xbb}$\", bins=txbb_bins, reg=True),\n",
    "}\n",
    "\n",
    "base_hist = Hist(*[shape_var.axis for shape_var in shape_vars.values()], storage=\"Double\")"
   ]
  },
  {
   "cell_type": "markdown",
   "metadata": {},
   "source": [
    "Triggers"
   ]
  },
  {
   "cell_type": "code",
   "execution_count": null,
   "metadata": {},
   "outputs": [],
   "source": [
    "from dataclasses import dataclass, field\n",
    "\n",
    "from numpy.typing import ArrayLike\n",
    "\n",
    "\n",
    "@dataclass\n",
    "class Trigger:\n",
    "    name: str\n",
    "    label: str\n",
    "\n",
    "\n",
    "@dataclass\n",
    "class TriggerSet:\n",
    "    triggers: list[Trigger]\n",
    "\n",
    "    def __post_init__(self):\n",
    "        self.label = \"\\n| \".join([trigger.label for trigger in self.triggers])\n",
    "\n",
    "    def get_sel(self, events: pd.DataFrame) -> ArrayLike:\n",
    "        \"\"\"Return boolean selection\"\"\"\n",
    "        return (\n",
    "            np.sum([events[trigger.name] for trigger in self.triggers], axis=0)\n",
    "            .squeeze()\n",
    "            .astype(bool)\n",
    "        )"
   ]
  },
  {
   "cell_type": "code",
   "execution_count": null,
   "metadata": {},
   "outputs": [],
   "source": [
    "triggers = {\n",
    "    \"HT\": Trigger(name=\"PFHT1050\", label=\"HT1050\"),\n",
    "    \"BoostedJet\": Trigger(name=\"AK8PFJet425_SoftDropMass40\", label=\"PFJet425_MSD40\"),\n",
    "    \"BoostedHbb\": Trigger(\n",
    "        name=\"AK8PFJet250_SoftDropMass40_PFAK8ParticleNetBB0p35\", label=\"PFJet250_MSD40_Xbb0p35\"\n",
    "    ),\n",
    "}\n",
    "\n",
    "# triggers and combinations of triggers whose efficiency we're measuring\n",
    "trigger_dict = {\n",
    "    # first save each individual trigger\n",
    "    **{key: TriggerSet([trigger]) for key, trigger in triggers.items()},\n",
    "    # combinations\n",
    "    \"BoostedJetHbb\": TriggerSet([triggers[\"BoostedJet\"], triggers[\"BoostedHbb\"]]),\n",
    "    \"HTBoostedJetHbb\": TriggerSet([triggers[\"HT\"], triggers[\"BoostedJet\"], triggers[\"BoostedHbb\"]]),\n",
    "}"
   ]
  },
  {
   "cell_type": "markdown",
   "metadata": {},
   "source": [
    "Fill"
   ]
  },
  {
   "cell_type": "code",
   "execution_count": null,
   "metadata": {},
   "outputs": [],
   "source": [
    "fill_events = {\n",
    "    \"data\": \"Data\",\n",
    "    \"ttbar\": r\"$t\\bar{t}$\",\n",
    "}\n",
    "\n",
    "hists = {}\n",
    "\n",
    "for ev_key, ev_label in fill_events.items():\n",
    "    hists[ev_key] = h = {}\n",
    "\n",
    "    events = events_dict[ev_key]\n",
    "    sel = (events[\"ak8FatJetPt\"][0].to_numpy() >= 250) & (\n",
    "        events[\"ak8FatJetMsd\"][0].to_numpy() >= 20\n",
    "    )\n",
    "    events = events[sel]\n",
    "\n",
    "    fill_vars = {\n",
    "        \"msd\": events[\"ak8FatJetMsd\"][0],\n",
    "        \"pt\": events[\"ak8FatJetPt\"][0],\n",
    "        \"txbb\": events[\"ak8FatJetPNetXbb\"][0],\n",
    "    }\n",
    "\n",
    "    # denominator (i.e. all events passing pre-selection)\n",
    "    h[\"den\"] = base_hist.copy().fill(**fill_vars)\n",
    "\n",
    "    # fill for each set of triggers\n",
    "    for trigger_key, trigger_set in trigger_dict.items():\n",
    "        trig_sel = trigger_set.get_sel(events)\n",
    "        h[trigger_key] = base_hist.copy().fill(\n",
    "            **{key: var[trig_sel] for key, var in fill_vars.items()}\n",
    "        )\n",
    "        # h[f\"{trigger_key}_effs\"] = h[trigger_key] / h[\"den\"]\n",
    "        # TODO: save errors from Clopper Pearson as well"
   ]
  },
  {
   "cell_type": "markdown",
   "metadata": {},
   "source": [
    "## Plotting"
   ]
  },
  {
   "cell_type": "code",
   "execution_count": null,
   "metadata": {},
   "outputs": [],
   "source": [
    "def plot_all_wrapper(tbins, xbins, ybins, w, year, plot_dir, name, vmax=1, bins=\"txbb\", show=False):\n",
    "    \"\"\"Wrapper for plotting efficiencies in all 4 Txbb bins\"\"\"\n",
    "    plt.rcParams.update({\"font.size\": 36})\n",
    "    fig, axs = plt.subplots(2, 2, figsize=(18 * 2, 17 * 2), constrained_layout=True)\n",
    "\n",
    "    for k in range(4):\n",
    "        row = k // 2\n",
    "        col = k % 2\n",
    "        ax = axs[row][col]\n",
    "\n",
    "        match bins:\n",
    "            case \"txbb\":\n",
    "                title = rf\"{tbins[k]:.2f} < $T_{{Xbb}}$ < {tbins[k + 1]:.2f}\"\n",
    "            case \"pt\":\n",
    "                title = rf\"{tbins[k]:.0f} < Jet 2 $p_T$ < {tbins[k + 1]:.0f} GeV\"\n",
    "\n",
    "        mesh = plotting.mesh2d(\n",
    "            xbins, ybins, w[..., k], year, vmax=vmax, ax=ax, title=title, fontsize=28\n",
    "        )\n",
    "\n",
    "    for i in range(2):\n",
    "        fig.colorbar(mesh, ax=axs[i].ravel().tolist(), pad=0.01)\n",
    "\n",
    "    plt.savefig(f\"{plot_dir}/{name}.pdf\", bbox_inches=\"tight\")\n",
    "\n",
    "    if show:\n",
    "        plt.show()\n",
    "    else:\n",
    "        plt.close()"
   ]
  },
  {
   "cell_type": "markdown",
   "metadata": {},
   "source": [
    "### 2D Plots"
   ]
  },
  {
   "cell_type": "code",
   "execution_count": null,
   "metadata": {},
   "outputs": [],
   "source": [
    "plot2d_dir = plot_dir / \"2D\"\n",
    "plot2d_dir.mkdir(exist_ok=True)"
   ]
  },
  {
   "cell_type": "code",
   "execution_count": null,
   "metadata": {},
   "outputs": [],
   "source": [
    "# coarser rebinning of histograms for 2D plots\n",
    "coarse_bins = {\n",
    "    \"msd\": np.linspace(20, 240, 12),\n",
    "    \"pt\": [250, 275, 300, 325, 350, 375, 400, 450, 500, 600, 800],\n",
    "    \"txbb\": [0.0, 0.8, 0.95, 0.98, 1.0],\n",
    "}\n",
    "\n",
    "coarse_hists = deepcopy(hists)\n",
    "\n",
    "for ev_key in fill_events:\n",
    "    for hkey in hists[ev_key]:\n",
    "        for var, bins in coarse_bins.items():\n",
    "            coarse_hists[ev_key][hkey] = utils.rebin_hist(coarse_hists[ev_key][hkey], var, bins)\n",
    "\n",
    "    for trigger_key in trigger_dict:\n",
    "        coarse_hists[ev_key][f\"{trigger_key}_effs\"] = (\n",
    "            coarse_hists[ev_key][trigger_key] / coarse_hists[ev_key][\"den\"]\n",
    "        )"
   ]
  },
  {
   "cell_type": "markdown",
   "metadata": {},
   "source": [
    "In bins of Txbb"
   ]
  },
  {
   "cell_type": "code",
   "execution_count": null,
   "metadata": {},
   "outputs": [],
   "source": [
    "for ev_key, ev_label in fill_events.items():\n",
    "    for trigger_key in trigger_dict:\n",
    "        if \"Hbb\" not in trigger_key:\n",
    "            # not need to separate into txbb bins if so\n",
    "            continue\n",
    "\n",
    "        w, msdbins, ptbins, txbbbins = coarse_hists[ev_key][f\"{trigger_key}_effs\"].to_numpy()\n",
    "        plot_all_wrapper(\n",
    "            txbbbins,\n",
    "            msdbins,\n",
    "            ptbins,\n",
    "            w,\n",
    "            year,\n",
    "            plot2d_dir,\n",
    "            f\"{year}_all_txbb_{ev_key}_{trigger_key}\",\n",
    "            show=False,\n",
    "        )\n",
    "\n",
    "        tplot_dir = plot2d_dir / f\"{trigger_key}_txbb_bins\"\n",
    "        tplot_dir.mkdir(exist_ok=True)\n",
    "\n",
    "        for k in range(4):\n",
    "            plotting.mesh2d(\n",
    "                msdbins,\n",
    "                ptbins,\n",
    "                w[..., k],\n",
    "                year,\n",
    "                plot_dir=tplot_dir,\n",
    "                name=f\"{year}_txbb_{coarse_bins['txbb'][k]}_{ev_key}_{trigger_key}\",\n",
    "                title=rf\"{txbbbins[k]:.2f} < $T_{{Xbb}}$ < {txbbbins[k + 1]:.2f}\",\n",
    "                title_params={\"x\": 0.315, \"y\": 1.007, \"fontsize\": 36},\n",
    "                show=False,\n",
    "            )\n",
    "    #         break\n",
    "    #     break\n",
    "    # break"
   ]
  },
  {
   "cell_type": "markdown",
   "metadata": {},
   "source": [
    "Sum over txbb"
   ]
  },
  {
   "cell_type": "code",
   "execution_count": null,
   "metadata": {},
   "outputs": [],
   "source": [
    "for ev_key, ev_label in fill_events.items():\n",
    "    den = coarse_hists[ev_key][\"den\"][..., sum]\n",
    "    for trigger_key in trigger_dict:\n",
    "        num = coarse_hists[ev_key][trigger_key][..., sum]\n",
    "        effs = num / den\n",
    "        w, msdbins, ptbins = effs.to_numpy()\n",
    "        plotting.mesh2d(\n",
    "            msdbins,\n",
    "            ptbins,\n",
    "            w,\n",
    "            year,\n",
    "            plot_dir=plot2d_dir,\n",
    "            name=f\"{year}_sum_txbb_{ev_key}_{trigger_key}\",\n",
    "            show=False,\n",
    "        )\n",
    "    #     break\n",
    "    # break"
   ]
  },
  {
   "cell_type": "markdown",
   "metadata": {},
   "source": [
    "#### Checking mass dip"
   ]
  },
  {
   "cell_type": "code",
   "execution_count": null,
   "metadata": {},
   "outputs": [],
   "source": [
    "# coarser rebinning of histograms for 2D plots\n",
    "coarse_bins = {\n",
    "    \"msd\": np.arange(20, 241, 5),\n",
    "    \"pt\": np.arange(300, 501, 5),\n",
    "    \"txbb\": [0.9, 1.0],\n",
    "}\n",
    "\n",
    "mass_check_hists = deepcopy(hists)\n",
    "\n",
    "for ev_key in fill_events:\n",
    "    for hkey in hists[ev_key]:\n",
    "        h = utils.multi_rebin_hist(mass_check_hists[ev_key][hkey], coarse_bins, flow=False)\n",
    "        mass_check_hists[ev_key][hkey] = h[..., sum]  # sum over txbb axis\n",
    "\n",
    "    for trigger_key in trigger_dict:\n",
    "        mass_check_hists[ev_key][f\"{trigger_key}_effs\"] = (\n",
    "            mass_check_hists[ev_key][trigger_key] / mass_check_hists[ev_key][\"den\"]\n",
    "        )"
   ]
  },
  {
   "cell_type": "code",
   "execution_count": null,
   "metadata": {},
   "outputs": [],
   "source": [
    "for ev_key, ev_label in fill_events.items():\n",
    "    print(ev_key)\n",
    "    for trigger_key in [\"BoostedHbb\"]:\n",
    "        print(trigger_key)\n",
    "        w, msdbins, ptbins = mass_check_hists[ev_key][f\"{trigger_key}_effs\"].to_numpy()\n",
    "        plotting.mesh2d(\n",
    "            msdbins,\n",
    "            ptbins,\n",
    "            w,\n",
    "            year,\n",
    "            print_vals=False,\n",
    "            title=r\"$T_{Xbb} \\geq 0.9$\",\n",
    "            plot_dir=plot2d_dir,\n",
    "            name=f\"{year}_mass_check_{ev_key}_{trigger_key}\",\n",
    "            data=ev_key == \"data\",\n",
    "            show=True,\n",
    "        )\n",
    "        break\n",
    "    # break"
   ]
  },
  {
   "cell_type": "markdown",
   "metadata": {},
   "source": [
    "### 1D Plots"
   ]
  },
  {
   "cell_type": "code",
   "execution_count": null,
   "metadata": {},
   "outputs": [],
   "source": [
    "plot1d_dir = plot_dir / \"1D\"\n",
    "plot1d_dir.mkdir(exist_ok=True)"
   ]
  },
  {
   "cell_type": "code",
   "execution_count": null,
   "metadata": {},
   "outputs": [],
   "source": [
    "plot_vars = {\n",
    "    \"msd\": ShapeVar(\n",
    "        var=\"msd\", label=r\"AK8 Jet SD Mass (GeV)\", bins=np.arange(20, 241, 10), reg=False\n",
    "    ),\n",
    "    \"pt\": ShapeVar(\n",
    "        var=\"pt\",\n",
    "        label=r\"AK8 Jet $p_T$ (GeV)\",\n",
    "        bins=[250, 275, 300, 325, 350, 375, 400, 425, 450, 475, 500, 550, 600, 700, 800, 1000],\n",
    "        reg=False,\n",
    "    ),\n",
    "    \"txbb\": ShapeVar(\n",
    "        var=\"txbb\", label=r\"AK8 Jet $T_{Xbb}$\", bins=np.arange(0, 1.001, 0.05), reg=False\n",
    "    ),\n",
    "}\n",
    "\n",
    "\n",
    "var_label_map = {\n",
    "    \"msd\": r\"m_{SD}\",\n",
    "    \"pt\": r\"p_T\",\n",
    "    \"txbb\": r\"T_{Xbb}\",\n",
    "}\n",
    "\n",
    "\n",
    "@dataclass\n",
    "class TriggerSelection:\n",
    "    selection: dict\n",
    "    name: str = None\n",
    "    label: str = None\n",
    "    plot_vars: list[str] = field(default_factory=lambda: list(shape_vars.keys()))\n",
    "\n",
    "    def __post_init__(self):\n",
    "        self.plot_vars = [\n",
    "            shape_var for key, shape_var in plot_vars.items() if key in self.plot_vars\n",
    "        ]\n",
    "\n",
    "        if self.label is None:\n",
    "            self.label = []\n",
    "            for var, sel in self.selection.items():\n",
    "                self.label.append(f\"${var_label_map[var]} \\geq {sel[0]}$\")\n",
    "\n",
    "            self.label = \" & \".join(self.label)\n",
    "\n",
    "        if self.name is None:\n",
    "            self.name = []\n",
    "            for var, sel in self.selection.items():\n",
    "                self.name.append(f\"{var}_{sel[0]}\")\n",
    "\n",
    "            self.name = \"_\".join(self.name)"
   ]
  },
  {
   "cell_type": "code",
   "execution_count": null,
   "metadata": {},
   "outputs": [],
   "source": [
    "def get_effs_errs(hist_den, hist_num, pvar, pbins):\n",
    "    \"\"\"Get efficiency in ``pvar`` with bins ``pbins`` and calcualte errors from CP intervals.\"\"\"\n",
    "    hden = utils.rebin_hist(hist_den.project(pvar), pvar, pbins)\n",
    "    hnum = utils.rebin_hist(hist_num.project(pvar), pvar, pbins)\n",
    "    heffs = hnum / hden\n",
    "    heffs.values()[...] = np.nan_to_num(heffs.values(), nan=0)\n",
    "    intervals = clopper_pearson_interval(hnum.values(), hden.values())\n",
    "    errs = np.abs(heffs.values() - intervals)\n",
    "    return heffs, errs\n",
    "\n",
    "\n",
    "# selections to apply and variables to plot for those selections\n",
    "selections = [\n",
    "    TriggerSelection(selection={\"txbb\": [0.9, 1], \"pt\": [300, 1000]}, plot_vars=[\"msd\"]),\n",
    "    # TriggerSelection(selection={\"txbb\": [0.9, 1], \"pt\": [400, 1000]}, plot_vars=[\"msd\"]),\n",
    "    # TriggerSelection(selection={\"txbb\": [0.9, 1], \"msd\": [60, 240]}, plot_vars=[\"pt\"]),\n",
    "    # TriggerSelection(selection={\"pt\": [300, 1000], \"msd\": [60, 240]}, plot_vars=[\"txbb\"]),\n",
    "    # TriggerSelection(selection={\"pt\": [300, 1000]}, plot_vars=[\"msd\"]),\n",
    "]\n",
    "\n",
    "# which set of triggers to plot on each plot\n",
    "plot_triggers = {\n",
    "    \"jethbbcombined\": [\"BoostedHbb\", \"BoostedJet\", \"BoostedJetHbb\"],\n",
    "    # \"jethbbhtcombined\": [\"BoostedHbb\", \"BoostedJet\", \"HT\", \"BoostedJetHbb\", \"HTBoostedJetHbb\"],\n",
    "}\n",
    "\n",
    "# data, ttbar loop\n",
    "for ev_key, ev_label in fill_events.items():\n",
    "    print(ev_key)\n",
    "    for sel in selections:\n",
    "        hist_den = utils.multi_rebin_hist(hists[ev_key][\"den\"], sel.selection, flow=False)\n",
    "        for pt_key, ptriggers in plot_triggers.items():\n",
    "            for pvar in sel.plot_vars:\n",
    "                fig, ax = plt.subplots(1, 1, figsize=(12, 8))\n",
    "                plt.rcParams.update({\"font.size\": 24})\n",
    "                for ptrigger in ptriggers:\n",
    "                    hist_num = utils.multi_rebin_hist(\n",
    "                        hists[ev_key][ptrigger], sel.selection, flow=False\n",
    "                    )\n",
    "                    heffs, herrs = get_effs_errs(hist_den, hist_num, pvar.var, pvar.bins)\n",
    "                    hep.histplot(\n",
    "                        heffs,\n",
    "                        label=trigger_dict[ptrigger].label,\n",
    "                        yerr=herrs,\n",
    "                        ax=ax,\n",
    "                        histtype=\"errorbar\",\n",
    "                    )\n",
    "\n",
    "                ax.grid(axis=\"y\")\n",
    "                ax.set_ylim([0, 1.01])\n",
    "                ax.set_xlim([pvar.bins[0], pvar.bins[-1]])\n",
    "                ax.set_ylabel(\"Efficiency\")\n",
    "                ax.set_xlabel(pvar.label, fontsize=20)\n",
    "\n",
    "                leg = ax.legend()\n",
    "                leg.set_title(sel.label, prop={\"size\": 20})\n",
    "                leg.get_title().set_multialignment(\"center\")\n",
    "\n",
    "                hep.cms.label(\n",
    "                    ax=ax,\n",
    "                    data=ev_key == \"data\",\n",
    "                    year=year,\n",
    "                    lumi=round(hh_vars.LUMI[year] / 1e3),\n",
    "                    com=\"13.6\",\n",
    "                )\n",
    "                plt.savefig(\n",
    "                    f\"{plot1d_dir}/{sel.name}_{ev_key}_{pt_key}_{pvar.var}.pdf\", bbox_inches=\"tight\"\n",
    "                )\n",
    "                plt.show()\n",
    "                # break\n",
    "            break\n",
    "        # break\n",
    "    # break"
   ]
  },
  {
   "cell_type": "code",
   "execution_count": null,
   "metadata": {},
   "outputs": [],
   "source": []
  }
 ],
 "metadata": {
  "kernelspec": {
   "display_name": "coffea-env",
   "language": "python",
   "name": "python3"
  },
  "language_info": {
   "codemirror_mode": {
    "name": "ipython",
    "version": 3
   },
   "file_extension": ".py",
   "mimetype": "text/x-python",
   "name": "python",
   "nbconvert_exporter": "python",
   "pygments_lexer": "ipython3",
   "version": "3.10.4"
  },
  "orig_nbformat": 4
 },
 "nbformat": 4,
 "nbformat_minor": 2
}
