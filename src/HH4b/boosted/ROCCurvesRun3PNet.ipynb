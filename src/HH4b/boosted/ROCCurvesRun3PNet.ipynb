{
 "cells": [
  {
   "cell_type": "markdown",
   "metadata": {},
   "source": [
    "# ROC Curves for ParticleNet TXbb\n",
    "\n",
    "Author: Raghav Kansal"
   ]
  },
  {
   "cell_type": "code",
   "execution_count": null,
   "metadata": {},
   "outputs": [],
   "source": [
    "import os\n",
    "from pathlib import Path\n",
    "import pandas as pd\n",
    "import uproot\n",
    "import numpy as np\n",
    "import pickle\n",
    "import vector\n",
    "from sklearn.metrics import roc_curve, auc\n",
    "import scipy\n",
    "\n",
    "from HH4b import utils, plotting"
   ]
  },
  {
   "cell_type": "markdown",
   "metadata": {},
   "source": [
    "Import libraries"
   ]
  },
  {
   "cell_type": "code",
   "execution_count": null,
   "metadata": {},
   "outputs": [],
   "source": [
    "import hist\n",
    "import matplotlib.pyplot as plt\n",
    "import mplhep as hep\n",
    "import matplotlib.ticker as mticker\n",
    "\n",
    "hep.style.use([\"CMS\", \"firamath\"])\n",
    "\n",
    "formatter = mticker.ScalarFormatter(useMathText=True)\n",
    "formatter.set_powerlimits((-3, 3))\n",
    "plt.rcParams.update({\"font.size\": 12})\n",
    "plt.rcParams[\"lines.linewidth\"] = 2\n",
    "plt.rcParams[\"grid.color\"] = \"#CCCCCC\"\n",
    "plt.rcParams[\"grid.linewidth\"] = 0.5\n",
    "plt.rcParams[\"figure.edgecolor\"] = \"none\""
   ]
  },
  {
   "cell_type": "code",
   "execution_count": null,
   "metadata": {},
   "outputs": [],
   "source": [
    "# automatically reloads imported files on edits\n",
    "%load_ext autoreload\n",
    "%autoreload 2"
   ]
  },
  {
   "cell_type": "code",
   "execution_count": null,
   "metadata": {},
   "outputs": [],
   "source": [
    "MAIN_DIR = Path(\"../../../\")\n",
    "plot_dir = MAIN_DIR / \"plots/PNet/24Apr17\"\n",
    "plot_dir.mkdir(parents=True, exist_ok=True)"
   ]
  },
  {
   "cell_type": "code",
   "execution_count": null,
   "metadata": {},
   "outputs": [],
   "source": [
    "year = \"2022EE\"\n",
    "samples = {\n",
    "    \"hh4b\": [\n",
    "        \"GluGlutoHHto4B_kl-1p00_kt-1p00_c2-0p00_TuneCP5_13p6TeV\",\n",
    "    ],\n",
    "    \"qcd\": [\n",
    "        \"QCD_HT-1000to1200\",\n",
    "        \"QCD_HT-100to200\",\n",
    "        \"QCD_HT-1200to1500\",\n",
    "        \"QCD_HT-1500to2000\",\n",
    "        \"QCD_HT-2000\",\n",
    "        \"QCD_HT-200to400\",\n",
    "        \"QCD_HT-400to600\",\n",
    "        \"QCD_HT-600to800\",\n",
    "        \"QCD_HT-800to1000\",\n",
    "    ],\n",
    "    \"ttbar\": [\n",
    "        \"TTto2L2Nu\",\n",
    "        \"TTto4Q\",\n",
    "        \"TTtoLNu2Q\",\n",
    "    ],\n",
    "}\n",
    "\n",
    "dirs = {MAIN_DIR / \"../data/skimmer/24Mar31_v12_signal\": samples}\n",
    "\n",
    "# columns to load\n",
    "load_columns = [\n",
    "    (\"weight\", 1),\n",
    "    (\"bbFatJetPNetXbb\", 2),\n",
    "]\n",
    "# reformat into (\"column name\", \"idx\") format for reading multiindex columns\n",
    "columns = []\n",
    "for key, num_columns in load_columns:\n",
    "    for i in range(num_columns):\n",
    "        columns.append(f\"('{key}', '{i}')\")\n",
    "\n",
    "filters = [\n",
    "    [\n",
    "        (\"('bbFatJetPt', '0')\", \">=\", 300),\n",
    "        (\"('bbFatJetPt', '1')\", \">=\", 300),\n",
    "    ],\n",
    "]\n",
    "\n",
    "events_dict = {}\n",
    "for input_dir, samples in dirs.items():\n",
    "    print(samples)\n",
    "    events_dict = {\n",
    "        **events_dict,\n",
    "        # this function will load files (only the columns selected), apply filters and compute a weight per event\n",
    "        **utils.load_samples(\n",
    "            input_dir, samples, year, filters=filters, columns=columns, variations=False\n",
    "        ),\n",
    "    }\n",
    "\n",
    "cutflow = pd.DataFrame(index=list(samples.keys()))\n",
    "utils.add_to_cutflow(events_dict, \"Preselection\", \"finalWeight\", cutflow)\n",
    "cutflow"
   ]
  },
  {
   "cell_type": "code",
   "execution_count": null,
   "metadata": {},
   "outputs": [],
   "source": [
    "jet = 1  # second jet\n",
    "sig_key = \"hh4b\"\n",
    "bg_keys = [\"qcd\", \"ttbar\"]\n",
    "# bg_skip = 1\n",
    "\n",
    "y_true = np.concatenate(\n",
    "    [\n",
    "        np.ones(len(events_dict[\"hh4b\"])),\n",
    "        np.zeros(np.sum(len(events_dict[bg_key]) for bg_key in bg_keys)),\n",
    "    ]\n",
    ")\n",
    "# print(y_true[np.sum(sig_cut):])\n",
    "\n",
    "weights = np.concatenate(\n",
    "    [events_dict[sig_key][\"finalWeight\"]]\n",
    "    + [events_dict[bg_key][\"finalWeight\"] for bg_key in bg_keys],\n",
    ")\n",
    "\n",
    "scores = np.concatenate(\n",
    "    [events_dict[sig_key][\"bbFatJetPNetXbb\"][jet]]\n",
    "    + [events_dict[bg_key][\"bbFatJetPNetXbb\"][jet] for bg_key in bg_keys],\n",
    ")"
   ]
  },
  {
   "cell_type": "code",
   "execution_count": null,
   "metadata": {},
   "outputs": [],
   "source": [
    "fpr, tpr, thresholds = roc_curve(y_true, scores, sample_weight=weights)\n",
    "roc = {\"fpr\": fpr, \"tpr\": tpr, \"thresholds\": thresholds}"
   ]
  },
  {
   "cell_type": "code",
   "execution_count": null,
   "metadata": {},
   "outputs": [],
   "source": [
    "plotting.ROCCurve(\n",
    "    roc,\n",
    "    xlim=[0, 0.8],\n",
    "    ylim=[1e-5, 1],\n",
    "    thresholds=[0.8, 0.9],\n",
    "    show=True,\n",
    "    plot_dir=plot_dir,\n",
    "    name=f\"bbFatJet{jet+1}ROC\",\n",
    ")"
   ]
  },
  {
   "cell_type": "code",
   "execution_count": null,
   "metadata": {},
   "outputs": [],
   "source": []
  }
 ],
 "metadata": {
  "kernelspec": {
   "display_name": "coffea",
   "language": "python",
   "name": "python3"
  },
  "language_info": {
   "codemirror_mode": {
    "name": "ipython",
    "version": 3
   },
   "file_extension": ".py",
   "mimetype": "text/x-python",
   "name": "python",
   "nbconvert_exporter": "python",
   "pygments_lexer": "ipython3",
   "version": "3.10.11"
  },
  "orig_nbformat": 4
 },
 "nbformat": 4,
 "nbformat_minor": 2
}
