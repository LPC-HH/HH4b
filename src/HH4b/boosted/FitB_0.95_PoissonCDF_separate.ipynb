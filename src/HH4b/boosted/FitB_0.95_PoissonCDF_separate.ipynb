{
 "cells": [
  {
   "cell_type": "markdown",
   "metadata": {},
   "source": [
    "# Fit B in the FoM TXbb and BDT space"
   ]
  },
  {
   "cell_type": "code",
   "execution_count": null,
   "metadata": {},
   "outputs": [],
   "source": [
    "B_max = 150435.0  # obtained from nevents_regionB at (0,0)"
   ]
  },
  {
   "cell_type": "markdown",
   "metadata": {},
   "source": [
    "# Misc Checks"
   ]
  },
  {
   "cell_type": "code",
   "execution_count": null,
   "metadata": {},
   "outputs": [],
   "source": [
    "import pandas as pd\n",
    "import numpy as np\n",
    "import vector\n",
    "import os\n",
    "from xgboost import XGBClassifier\n",
    "from pathlib import Path\n",
    "\n",
    "import HH4b.utils as utils\n",
    "from HH4b.utils import ShapeVar\n",
    "import HH4b.plotting as plotting\n",
    "from HH4b.postprocessing import PostProcess, Region\n",
    "import HH4b.postprocessing as postprocessing\n",
    "from HH4b.hh_vars import samples, years, samples_run3\n",
    "\n",
    "import hist\n",
    "import matplotlib.pyplot as plt\n",
    "import mplhep as hep\n",
    "import matplotlib.ticker as mticker\n",
    "import importlib\n",
    "\n",
    "formatter = mticker.ScalarFormatter(useMathText=True)\n",
    "formatter.set_powerlimits((-3, 3))"
   ]
  },
  {
   "cell_type": "code",
   "execution_count": null,
   "metadata": {},
   "outputs": [],
   "source": [
    "pdf = pd.read_json(\"df_txbb_0pt6_bdt_0pt6.json\")"
   ]
  },
  {
   "cell_type": "code",
   "execution_count": null,
   "metadata": {},
   "outputs": [],
   "source": [
    "pdf"
   ]
  },
  {
   "cell_type": "markdown",
   "metadata": {},
   "source": [
    "# Fitting Starts"
   ]
  },
  {
   "cell_type": "code",
   "execution_count": null,
   "metadata": {},
   "outputs": [],
   "source": [
    "import matplotlib.pyplot as plt\n",
    "import numpy as np\n",
    "\n",
    "from matplotlib import cm\n",
    "from matplotlib.ticker import LinearLocator"
   ]
  },
  {
   "cell_type": "code",
   "execution_count": null,
   "metadata": {},
   "outputs": [],
   "source": [
    "# plot region parameter\n",
    "txbb_low = 0.95\n",
    "bdt_low = 0.90\n",
    "# x_low = 0.6\n",
    "# y_low = 0.6\n",
    "\n",
    "# scan parameters\n",
    "txbb_stepsize = 0.002\n",
    "bdt_stepsize = 0.005"
   ]
  },
  {
   "cell_type": "code",
   "execution_count": null,
   "metadata": {},
   "outputs": [],
   "source": [
    "# init data\n",
    "Txbb = np.array(df[\"txbb_cut\"])\n",
    "BDT = np.array(df[\"bdt_cut\"])\n",
    "B = np.array(df[\"nevents_regionB\"])\n",
    "\n",
    "# select data in the plotting region\n",
    "Txbb_cond = Txbb >= txbb_low\n",
    "BDT_cond = BDT >= bdt_low\n",
    "cond = Txbb_cond & BDT_cond\n",
    "\n",
    "Txbb = Txbb[cond]\n",
    "BDT = BDT[cond]\n",
    "B = B[cond]"
   ]
  },
  {
   "cell_type": "markdown",
   "metadata": {},
   "source": [
    "### Add nevents_B = 0 at boundaries to make interpolation more physical"
   ]
  },
  {
   "cell_type": "code",
   "execution_count": null,
   "metadata": {},
   "outputs": [],
   "source": [
    "# at Txbb = 1\n",
    "for bdt_val in np.unique(BDT):\n",
    "    Txbb = np.append(Txbb, 1)\n",
    "    BDT = np.append(BDT, bdt_val)\n",
    "    B = np.append(B, 0.0)\n",
    "\n",
    "# at BDT = 1\n",
    "for txbb_val in np.unique(Txbb):\n",
    "    Txbb = np.append(Txbb, txbb_val)\n",
    "    BDT = np.append(BDT, 1)\n",
    "    B = np.append(B, 0.0)"
   ]
  },
  {
   "cell_type": "code",
   "execution_count": null,
   "metadata": {},
   "outputs": [],
   "source": [
    "df[df[\"nevents_regionB\"] == 0]"
   ]
  },
  {
   "cell_type": "code",
   "execution_count": null,
   "metadata": {},
   "outputs": [],
   "source": [
    "txbb_bins = np.arange(txbb_low - txbb_stepsize / 2, 1 + txbb_stepsize, txbb_stepsize)\n",
    "bdt_bins = np.arange(bdt_low - bdt_stepsize / 2, 1 + bdt_stepsize, bdt_stepsize)"
   ]
  },
  {
   "cell_type": "code",
   "execution_count": null,
   "metadata": {},
   "outputs": [],
   "source": [
    "# check if the predictions are smooth\n",
    "test_Txbb_stepsize = 0.0002\n",
    "test_BDT_stepsize = 0.0005\n",
    "\n",
    "test_Txbb_bins = np.arange(\n",
    "    txbb_low - test_Txbb_stepsize / 2, 1 + test_Txbb_stepsize, test_Txbb_stepsize\n",
    ")\n",
    "test_BDT_bins = np.arange(bdt_low - test_BDT_stepsize / 2, 1 + test_BDT_stepsize, test_BDT_stepsize)"
   ]
  },
  {
   "cell_type": "code",
   "execution_count": null,
   "metadata": {},
   "outputs": [],
   "source": [
    "test_Txbb_range = np.arange(txbb_low, 1, test_Txbb_stepsize)\n",
    "test_BDT_range = np.arange(bdt_low, 1, test_BDT_stepsize)\n",
    "test_Txbb_grid, test_BDT_grid = np.meshgrid(test_Txbb_range, test_BDT_range)\n",
    "test_Txbb = test_Txbb_grid.flatten()\n",
    "test_BDT = test_BDT_grid.flatten()"
   ]
  },
  {
   "cell_type": "markdown",
   "metadata": {},
   "source": [
    "## Scanned values (measurements)"
   ]
  },
  {
   "cell_type": "code",
   "execution_count": null,
   "metadata": {},
   "outputs": [],
   "source": [
    "# Plot the surface.\n",
    "heatmap, xedges, yedges = np.histogram2d(Txbb, BDT, bins=[txbb_bins, bdt_bins], weights=B)\n",
    "\n",
    "# Create the heatmap plot\n",
    "plt.imshow(\n",
    "    heatmap.T, extent=[xedges[0], xedges[-1], yedges[0], yedges[-1]], origin=\"lower\", cmap=\"hot\"\n",
    ")\n",
    "plt.colorbar()  # add a colorbar\n",
    "plt.title(\"Scanned B Values\")\n",
    "plt.xlabel(\"txbb_cut\")\n",
    "plt.ylabel(\"bdt_cut\")\n",
    "plt.show(\"Number of Data in Region B\")"
   ]
  },
  {
   "cell_type": "markdown",
   "metadata": {},
   "source": [
    "## fit 1D slice with different BDT_cuts to understand if Poisson is a good assumption"
   ]
  },
  {
   "cell_type": "code",
   "execution_count": null,
   "metadata": {},
   "outputs": [],
   "source": [
    "from scipy.special import gammainc, gamma\n",
    "from scipy.optimize import curve_fit"
   ]
  },
  {
   "cell_type": "code",
   "execution_count": null,
   "metadata": {},
   "outputs": [],
   "source": [
    "txbb_cut = 0.99\n",
    "\n",
    "# data for plot\n",
    "txbb_select = np.isclose(df[\"txbb_cut\"], txbb_cut)\n",
    "bdt_select = df[\"bdt_cut\"] >= bdt_low\n",
    "select = txbb_select & bdt_select\n",
    "\n",
    "BDT_1D = df[select][\"bdt_cut\"]\n",
    "B_1D = df[select][\"nevents_regionB\"]"
   ]
  },
  {
   "cell_type": "code",
   "execution_count": null,
   "metadata": {},
   "outputs": [],
   "source": [
    "# fit data\n",
    "def one_minus_cdf(x, a, scale):\n",
    "    cdf = gammainc(a, (x / scale) ** 2) / gamma(a)\n",
    "    return 1 - cdf"
   ]
  },
  {
   "cell_type": "code",
   "execution_count": null,
   "metadata": {},
   "outputs": [],
   "source": [
    "# plot interpolation\n",
    "test_BDT_1D = np.arange(bdt_low, 1, test_BDT_stepsize)\n",
    "test_Txbb_1D = np.ones_like(test_BDT_1D) * txbb_cut"
   ]
  },
  {
   "cell_type": "code",
   "execution_count": null,
   "metadata": {
    "scrolled": true
   },
   "outputs": [],
   "source": [
    "fix_txbb_cuts = np.arange(0.95, 0.998, 0.002)\n",
    "\n",
    "params_list = []\n",
    "\n",
    "\n",
    "for txbb_cut in fix_txbb_cuts:\n",
    "    # init plot\n",
    "    fig, ax = plt.subplots(figsize=(10, 8))\n",
    "\n",
    "    # plot data\n",
    "    txbb_select = np.isclose(df[\"txbb_cut\"], txbb_cut)\n",
    "    bdt_select = df[\"bdt_cut\"] >= bdt_low\n",
    "    select = txbb_select & bdt_select\n",
    "\n",
    "    BDT_1D = df[select][\"bdt_cut\"]\n",
    "    B_1D = df[select][\"nevents_regionB\"]\n",
    "\n",
    "    params, params_covariance = curve_fit(one_minus_cdf, BDT_1D, B_1D / B_max, p0=[2, 2])\n",
    "    params_list.append(params)\n",
    "\n",
    "    # plot interpolation\n",
    "    test_BDT_1D = np.arange(bdt_low, 1, test_BDT_stepsize)\n",
    "    test_Txbb_1D = np.ones_like(test_BDT_1D) * txbb_cut\n",
    "\n",
    "    B_RBF_Pred_1D = one_minus_cdf(test_BDT_1D, params[0], params[1]) * B_max\n",
    "\n",
    "    ax.scatter(BDT_1D, B_1D, c=\"y\", label=\"measurements\")\n",
    "    ax.plot(test_BDT_1D, B_RBF_Pred_1D, label=\"interpolation\")\n",
    "    ax.set(\n",
    "        xlabel=\"bdt cut\",\n",
    "        ylabel=\"Number of Events in Region B\",\n",
    "        title=f\"Poisson Interpolation @ Txbb cut = {txbb_cut}\",\n",
    "    )\n",
    "    ax.legend()\n",
    "    plt.show()"
   ]
  },
  {
   "cell_type": "code",
   "execution_count": null,
   "metadata": {},
   "outputs": [],
   "source": [
    "params_arr = np.array(params_list)\n",
    "params_arr"
   ]
  },
  {
   "cell_type": "code",
   "execution_count": null,
   "metadata": {
    "scrolled": true
   },
   "outputs": [],
   "source": [
    "plt.scatter(fix_txbb_cuts, params_arr[:, 1])\n",
    "plt.xlabel(\"txbb cuts\")\n",
    "plt.ylabel(\"scale factor\")\n",
    "plt.title(\"Fit parameter 2 vs. txbb_cut\")"
   ]
  },
  {
   "cell_type": "markdown",
   "metadata": {},
   "source": [
    "## fit 1D slice with different xbb cuts to check if Poisson is a good assumption"
   ]
  },
  {
   "cell_type": "markdown",
   "metadata": {},
   "source": [
    "## curve fit 2d"
   ]
  },
  {
   "cell_type": "code",
   "execution_count": null,
   "metadata": {},
   "outputs": [],
   "source": [
    "# fit data\n",
    "def one_minus_cdf_2d(x, a, b, scale1, scale2):\n",
    "    x1 = x[:, 0]\n",
    "    x2 = x[:, 1]\n",
    "\n",
    "    c1 = 0\n",
    "    c2 = 0\n",
    "\n",
    "    sx1 = x1 / scale1\n",
    "    sx2 = x2 / scale2\n",
    "\n",
    "    arg1 = sx1**3 + (c1 * sx1) ** 2\n",
    "    arg2 = sx2**3 + (c2 * sx2) ** 2\n",
    "\n",
    "    cdf_1 = gammainc(a, arg1) / gamma(a)\n",
    "    cdf_2 = gammainc(b, arg2) / gamma(b)\n",
    "\n",
    "    return (1 - cdf_1) * (1 - cdf_2)"
   ]
  },
  {
   "cell_type": "code",
   "execution_count": null,
   "metadata": {},
   "outputs": [],
   "source": [
    "fit_data_2d = np.concatenate([Txbb.reshape(-1, 1), BDT.reshape(-1, 1)], axis=1)"
   ]
  },
  {
   "cell_type": "code",
   "execution_count": null,
   "metadata": {},
   "outputs": [],
   "source": [
    "params = [1, 1, 1, 1]\n",
    "params, params_covariance = curve_fit(\n",
    "    one_minus_cdf_2d, fit_data_2d, B / B_max, p0=params, maxfev=100000\n",
    ")"
   ]
  },
  {
   "cell_type": "code",
   "execution_count": null,
   "metadata": {},
   "outputs": [],
   "source": [
    "test_data_2d = np.concatenate([test_Txbb.reshape(-1, 1), test_BDT.reshape(-1, 1)], axis=1)"
   ]
  },
  {
   "cell_type": "code",
   "execution_count": null,
   "metadata": {},
   "outputs": [],
   "source": [
    "B_pred = one_minus_cdf_2d(test_data_2d, *params) * B_max"
   ]
  },
  {
   "cell_type": "code",
   "execution_count": null,
   "metadata": {},
   "outputs": [],
   "source": [
    "# Plot the surface.\n",
    "heatmap, Txbbedges, BDTedges = np.histogram2d(\n",
    "    test_Txbb, test_BDT, bins=[test_Txbb_bins, test_BDT_bins], weights=B_pred\n",
    ")\n",
    "\n",
    "# Create the heatmap plot\n",
    "plt.figure(figsize=(10, 6))\n",
    "plt.imshow(\n",
    "    heatmap.T,\n",
    "    extent=[Txbbedges[0], Txbbedges[-1], BDTedges[0], BDTedges[-1]],\n",
    "    origin=\"lower\",\n",
    "    cmap=\"hot\",\n",
    ")\n",
    "plt.colorbar()  # add a colorbar\n",
    "plt.title(\"2D Poisson Predictions on 10x Finer Grid\")\n",
    "plt.xlabel(\"txbb_cut\")\n",
    "plt.ylabel(\"bdt_cut\")\n",
    "plt.show(\"Number of Data in Region B\")"
   ]
  },
  {
   "cell_type": "code",
   "execution_count": null,
   "metadata": {
    "scrolled": true
   },
   "outputs": [],
   "source": [
    "fix_bdt_cuts = np.arange(0.90, 0.995, 0.005)\n",
    "params_list = []\n",
    "\n",
    "for bdt_cut in fix_bdt_cuts:\n",
    "    # init plot\n",
    "    fig, ax = plt.subplots(figsize=(10, 8))\n",
    "\n",
    "    # plot data\n",
    "    bdt_select = np.isclose(df[\"bdt_cut\"], bdt_cut)\n",
    "    txbb_select = df[\"txbb_cut\"] >= txbb_low\n",
    "    select = txbb_select & bdt_select\n",
    "\n",
    "    Txbb_1D = df[select][\"txbb_cut\"]\n",
    "    B_1D = df[select][\"nevents_regionB\"]\n",
    "\n",
    "    # plot interpolation\n",
    "    test_Txbb_1D = np.arange(txbb_low, 1, test_Txbb_stepsize)\n",
    "    test_BDT_1D = np.ones_like(test_Txbb_1D) * bdt_cut\n",
    "    test_data_1D = np.concatenate([test_Txbb_1D.reshape(-1, 1), test_BDT_1D.reshape(-1, 1)], axis=1)\n",
    "\n",
    "    B_Pred_1D = one_minus_cdf_2d(test_data_1D, *params) * B_max\n",
    "\n",
    "    ax.scatter(Txbb_1D, B_1D, c=\"y\", label=\"measurements\")\n",
    "    ax.plot(test_Txbb_1D, B_Pred_1D, label=\"interpolation\")\n",
    "    ax.set(\n",
    "        xlabel=\"txbb cut\",\n",
    "        ylabel=\"Number of Events in Region B\",\n",
    "        title=f\"2D Poisson Interpolation @ BDT cut = {bdt_cut}\",\n",
    "    )\n",
    "    ax.legend()\n",
    "    plt.show()"
   ]
  },
  {
   "cell_type": "code",
   "execution_count": null,
   "metadata": {
    "scrolled": true
   },
   "outputs": [],
   "source": [
    "fix_txbb_cuts = np.arange(0.95, 0.998, 0.002)\n",
    "params_list = []\n",
    "\n",
    "\n",
    "for txbb_cut in fix_txbb_cuts:\n",
    "    # init plot\n",
    "    fig, ax = plt.subplots(figsize=(10, 8))\n",
    "\n",
    "    # plot data\n",
    "    txbb_select = np.isclose(df[\"txbb_cut\"], txbb_cut)\n",
    "    bdt_select = df[\"bdt_cut\"] >= bdt_low\n",
    "    select = txbb_select & bdt_select\n",
    "\n",
    "    BDT_1D = df[select][\"bdt_cut\"]\n",
    "    B_1D = df[select][\"nevents_regionB\"]\n",
    "\n",
    "    # plot interpolation\n",
    "    test_BDT_1D = np.arange(bdt_low, 1, test_BDT_stepsize)\n",
    "    test_Txbb_1D = np.ones_like(test_BDT_1D) * txbb_cut\n",
    "    test_data_1D = np.concatenate([test_Txbb_1D.reshape(-1, 1), test_BDT_1D.reshape(-1, 1)], axis=1)\n",
    "\n",
    "    B_Pred_1D = one_minus_cdf_2d(test_data_1D, *params) * B_max\n",
    "\n",
    "    ax.scatter(BDT_1D, B_1D, c=\"y\", label=\"measurements\")\n",
    "    ax.plot(test_BDT_1D, B_Pred_1D, label=\"interpolation\")\n",
    "    ax.set(\n",
    "        xlabel=\"bdt cut\",\n",
    "        ylabel=\"Number of Events in Region B\",\n",
    "        title=f\"2D Poisson Interpolation @ Txbb cut = {txbb_cut}\",\n",
    "    )\n",
    "    ax.legend()\n",
    "    plt.show()"
   ]
  },
  {
   "cell_type": "markdown",
   "metadata": {},
   "source": [
    "## Print the 2d fit params and copy to Optimize_WP_with_smoothB.ipynb"
   ]
  },
  {
   "cell_type": "code",
   "execution_count": null,
   "metadata": {},
   "outputs": [],
   "source": [
    "print(params)"
   ]
  }
 ],
 "metadata": {
  "kernelspec": {
   "display_name": "Python 3 (ipykernel)",
   "language": "python",
   "name": "python3"
  },
  "language_info": {
   "codemirror_mode": {
    "name": "ipython",
    "version": 3
   },
   "file_extension": ".py",
   "mimetype": "text/x-python",
   "name": "python",
   "nbconvert_exporter": "python",
   "pygments_lexer": "ipython3",
   "version": "3.9.18"
  }
 },
 "nbformat": 4,
 "nbformat_minor": 4
}
