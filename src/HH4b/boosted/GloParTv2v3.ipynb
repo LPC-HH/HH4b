{
 "cells": [
  {
   "cell_type": "code",
   "execution_count": null,
   "id": "2cb1e129",
   "metadata": {},
   "outputs": [],
   "source": [
    "import awkward as ak\n",
    "from coffea.nanoevents import NanoEventsFactory, NanoAODSchema\n",
    "\n",
    "NanoAODSchema.warn_missing_crossrefs = False\n",
    "\n",
    "fname = \"MC_defaultAK4.root\"\n",
    "events = NanoEventsFactory.from_root(\n",
    "    {fname: \"Events\"},\n",
    "    schemaclass=NanoAODSchema,\n",
    "    metadata={\"dataset\": \"GluGlutoHHto4B_kl-1p00_kt-1p00_c2-0p00_TuneCP5_13p6TeV_powheg-pythia8\"},\n",
    ").events()"
   ]
  },
  {
   "cell_type": "code",
   "execution_count": null,
   "id": "9be6c4f5",
   "metadata": {},
   "outputs": [],
   "source": [
    "pt_cut = ak.flatten((events.FatJet.pt > 250).compute())\n",
    "eta_cut = ak.flatten((abs(events.FatJet.eta) < 2.5).compute())\n",
    "msd_cut = ak.flatten((events.FatJet.msoftdrop > 40).compute())\n",
    "cut = pt_cut & eta_cut & msd_cut"
   ]
  },
  {
   "cell_type": "code",
   "execution_count": null,
   "id": "8d36efbf",
   "metadata": {},
   "outputs": [],
   "source": [
    "glopart2_txbb = ak.flatten(events.FatJet.globalParT2_XbbVsQCD.compute())\n",
    "glopart3_pxbb = ak.flatten(events.FatJet.globalParT3_Xbb.compute())\n",
    "glopart3_pqcd = ak.flatten(events.FatJet.globalParT3_QCD.compute())\n",
    "glopart3_txbb = glopart3_pxbb / (glopart3_pxbb + glopart3_pqcd)"
   ]
  },
  {
   "cell_type": "code",
   "execution_count": null,
   "id": "5ca63f51",
   "metadata": {},
   "outputs": [],
   "source": [
    "import matplotlib.pyplot as plt\n",
    "import mplhep as hep\n",
    "\n",
    "plt.style.use(hep.style.CMS)\n",
    "import numpy as np\n",
    "\n",
    "bins = np.linspace(0, 1, 20)\n",
    "plt.figure()\n",
    "plt.hist(\n",
    "    glopart2_txbb[cut],\n",
    "    bins=bins,\n",
    "    range=(0, 1),\n",
    "    histtype=\"step\",\n",
    "    label=r\"GloParTv2 $T_{Xbb}$\",\n",
    ")\n",
    "plt.hist(\n",
    "    glopart3_txbb[cut],\n",
    "    bins=bins,\n",
    "    range=(0, 1),\n",
    "    histtype=\"step\",\n",
    "    label=r\"GloParTv3 $T_{Xbb}$\",\n",
    "    linestyle=\"--\",\n",
    ")\n",
    "plt.xlim(0, 1)\n",
    "plt.xlabel(r\"$T_{Xbb}$\")\n",
    "plt.ylabel(\"Jets\")\n",
    "plt.legend(title=r\"$p_{T} > 250$ GeV, $|\\eta| < 2.5$, $m_{SD} > 40$ GeV\")\n",
    "plt.savefig(\"glopartv2v3_histogram.pdf\")\n",
    "plt.show()"
   ]
  },
  {
   "cell_type": "code",
   "execution_count": null,
   "id": "7411fd0a",
   "metadata": {},
   "outputs": [],
   "source": [
    "# 2D scatter plot\n",
    "plt.figure()\n",
    "plt.scatter(\n",
    "    glopart2_txbb[cut],\n",
    "    glopart3_txbb[cut],\n",
    "    s=4,\n",
    "    alpha=0.7,\n",
    ")\n",
    "plt.xlim(0, 1)\n",
    "plt.ylim(0, 1)\n",
    "plt.xlabel(r\"GloParTv2 $T_{Xbb}$\")\n",
    "plt.ylabel(r\"GloParTv3 $T_{Xbb}$\")\n",
    "plt.title(r\"$p_{T} > 250$ GeV, $|\\eta| < 2.5$, $m_{SD} > 40$ GeV\")\n",
    "plt.savefig(\"glopartv2v3_scatter.pdf\")\n",
    "plt.show()"
   ]
  },
  {
   "cell_type": "code",
   "execution_count": null,
   "id": "56f0d673",
   "metadata": {},
   "outputs": [],
   "source": [
    "# 2D confusion matrix with bins at [0.3, 0.95, 0.975, 0.99, 1.0]\n",
    "from sklearn.metrics import confusion_matrix\n",
    "\n",
    "bins = [0.3, 0.95, 0.975, 0.99, 1.0]\n",
    "glopart2_binned = np.digitize(glopart2_txbb[cut], bins) - 1\n",
    "glopart3_binned = np.digitize(glopart3_txbb[cut], bins) - 1\n",
    "cm = confusion_matrix(\n",
    "    glopart3_binned, glopart2_binned, labels=np.arange(len(bins) - 1), normalize=\"pred\"\n",
    ")\n",
    "\n",
    "\n",
    "plt.figure()\n",
    "plt.imshow(cm, interpolation=\"nearest\", cmap=plt.cm.Blues, origin=\"lower\")\n",
    "cbar = plt.colorbar()\n",
    "plt.xticks(\n",
    "    np.arange(len(bins) - 1),\n",
    "    [f\"[{bins[i]}, {bins[i+1]}]\" for i in range(len(bins) - 1)],\n",
    "    rotation=45,\n",
    ")\n",
    "plt.yticks(np.arange(len(bins) - 1), [f\"[{bins[i]}, {bins[i+1]}]\" for i in range(len(bins) - 1)])\n",
    "plt.xlabel(\"GloParTv2 $T_{Xbb}$ Bins\")\n",
    "plt.ylabel(\"GloParTv3 $T_{Xbb}$ Bins\")\n",
    "plt.title(r\"$p_{T} > 250$ GeV, $|\\eta| < 2.5$, $m_{SD} > 40$ GeV    \")\n",
    "# plot numbers in each cell\n",
    "thresh = 0.6\n",
    "for i in range(len(bins) - 1):\n",
    "    for j in range(len(bins) - 1):\n",
    "        plt.text(\n",
    "            j,\n",
    "            i,\n",
    "            f\"{cm[i, j]:.2f}\",\n",
    "            ha=\"center\",\n",
    "            va=\"center\",\n",
    "            color=\"white\" if cm[i, j] > thresh else \"black\",\n",
    "        )\n",
    "# set color scale title\n",
    "cbar.set_label(\"Probability\")\n",
    "plt.savefig(\"glopartv2v3_confusion_matrix.pdf\", bbox_inches=\"tight\")\n",
    "plt.show()"
   ]
  },
  {
   "cell_type": "code",
   "execution_count": null,
   "id": "ae9f9cb1",
   "metadata": {},
   "outputs": [],
   "source": []
  }
 ],
 "metadata": {
  "kernelspec": {
   "display_name": "jetsub",
   "language": "python",
   "name": "python3"
  },
  "language_info": {
   "codemirror_mode": {
    "name": "ipython",
    "version": 3
   },
   "file_extension": ".py",
   "mimetype": "text/x-python",
   "name": "python",
   "nbconvert_exporter": "python",
   "pygments_lexer": "ipython3",
   "version": "3.13.2"
  }
 },
 "nbformat": 4,
 "nbformat_minor": 5
}
