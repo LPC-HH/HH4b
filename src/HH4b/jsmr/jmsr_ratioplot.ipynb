{
 "cells": [
  {
   "cell_type": "markdown",
   "id": "5d3d5c3b-e008-47d9-9b72-0501b407b89f",
   "metadata": {},
   "source": [
    "# JMSR Ratio Plot"
   ]
  },
  {
   "cell_type": "code",
   "execution_count": null,
   "id": "b003fdb7-5d91-4742-b23e-099459ad23b0",
   "metadata": {},
   "outputs": [],
   "source": [
    "from __future__ import annotations\n",
    "\n",
    "import numpy as np\n",
    "import pandas as pd\n",
    "import vector\n",
    "\n",
    "import HH4b.plotting as plotting\n",
    "import HH4b.utils as utils\n",
    "from HH4b.utils import ShapeVar"
   ]
  },
  {
   "cell_type": "code",
   "execution_count": null,
   "id": "a73db755-debc-4afa-a1fe-512163a2d9af",
   "metadata": {},
   "outputs": [],
   "source": [
    "def make_vector(events: pd.DataFrame, obj: str):\n",
    "    \"\"\"Create a ``vector`` object from the columns of the dataframe\"\"\"\n",
    "    mstring = \"PNetMass\" if obj == \"ak8FatJet\" else \"Mass\"\n",
    "\n",
    "    return vector.array(\n",
    "        {\n",
    "            \"pt\": events[f\"{obj}Pt\"],\n",
    "            \"phi\": events[f\"{obj}Phi\"],\n",
    "            \"eta\": events[f\"{obj}Eta\"],\n",
    "            \"M\": events[f\"{obj}{mstring}\"],\n",
    "        }\n",
    "    )"
   ]
  },
  {
   "cell_type": "markdown",
   "id": "cdb4d83a-fdec-45a0-8ce4-c716491f0499",
   "metadata": {},
   "source": [
    "## Load Dataset"
   ]
  },
  {
   "cell_type": "code",
   "execution_count": null,
   "id": "fa327d0d-a58d-413e-b673-a3d94f5e9494",
   "metadata": {},
   "outputs": [],
   "source": [
    "year = \"2022EE\"  #\n",
    "dir_name = \"24Apr18_v12_signal\"\n",
    "path_to_dir = f\"/eos/uscms/store/user/haoyang/bbbb/ttSkimmer/{dir_name}\""
   ]
  },
  {
   "cell_type": "code",
   "execution_count": null,
   "id": "deabb526-29f4-4163-9feb-4131d6b9e538",
   "metadata": {},
   "outputs": [],
   "source": [
    "# Load your dataset\n",
    "samples = {\n",
    "    \"muon\": [\n",
    "        \"Muon_Run2022E\",\n",
    "        \"Muon_Run2022F\",\n",
    "        \"Muon_Run2022G\",\n",
    "    ],\n",
    "    \"tt\": [\"TTto2L2Nu\", \"TTto4Q\", \"TTtoLNu2Q\"],\n",
    "}\n",
    "\n",
    "dirs = {path_to_dir: samples}\n",
    "\n",
    "filters = None\n",
    "\n",
    "# columns to load\n",
    "# the parquet files are too big so we can only load a few columns at a time without consumming much memory\n",
    "load_columns = [\n",
    "    (\"weight\", 1),\n",
    "    (\"ak8FatJetMsd\", 2),\n",
    "    (\"ak8FatJetPNetMass\", 2),\n",
    "    (\"ak8FatJetEta\", 2),\n",
    "    (\"ak8FatJetPhi\", 2),\n",
    "    (\"ak8FatJetPt\", 2),\n",
    "    (\"finalWeight\", 0),\n",
    "]\n",
    "# reformat into (\"column name\", \"idx\") format for reading multiindex columns\n",
    "columns = []\n",
    "for key, num_columns in load_columns:\n",
    "    for i in range(num_columns):\n",
    "        columns.append(f\"('{key}', '{i}')\")\n",
    "\n",
    "\n",
    "events_dict = {}\n",
    "for input_dir, samples in dirs.items():\n",
    "    events_dict = {\n",
    "        **events_dict,\n",
    "        # this function will load files (only the columns selected), apply filters and compute a weight per event\n",
    "        **utils.load_samples(\n",
    "            input_dir, samples, year, filters=filters, columns=columns, reorder_legacy_txbb=False\n",
    "        ),\n",
    "    }\n",
    "\n",
    "samples_loaded = list(events_dict.keys())\n",
    "keys_loaded = list(events_dict[samples_loaded[0]].keys())\n",
    "print(\"Keys in events_dict\")\n",
    "for i in keys_loaded:\n",
    "    print(i)"
   ]
  },
  {
   "cell_type": "markdown",
   "id": "74f8bd48-ceeb-4a14-b16c-78c49d9e66bb",
   "metadata": {},
   "source": [
    "## Event cuts"
   ]
  },
  {
   "cell_type": "code",
   "execution_count": null,
   "id": "b0ce3d30-8b9f-4399-8c3a-dfa23dd4a901",
   "metadata": {},
   "outputs": [],
   "source": [
    "# Higgs candidate selection example\n",
    "events_raw = pd.concat([events_dict[\"muon\"], events_dict[\"tt\"]], keys=[\"muon\", \"ttbar\"])"
   ]
  },
  {
   "cell_type": "code",
   "execution_count": null,
   "id": "1d069753-4883-4311-b826-2c02c7b99cf3",
   "metadata": {},
   "outputs": [],
   "source": [
    "# AK4OutsideJet pt cut\n",
    "# jets_outside_raw = make_vector(events_raw, \"ak4JetOutside\")\n",
    "# j3_raw = jets_outside_raw[:, 0]\n",
    "# j4_raw = jets_outside_raw[:, 1]\n",
    "# j3j4_pt_cut = (j3_raw.pt > 20) & (j4_raw.pt > 20)"
   ]
  },
  {
   "cell_type": "code",
   "execution_count": null,
   "id": "35156859-dbc1-4a9c-b6fd-3a4b2deeafed",
   "metadata": {},
   "outputs": [],
   "source": [
    "# combined_filter = j3j4_pt_cut\n",
    "# events = events_raw[combined_filter]\n",
    "events = events_raw"
   ]
  },
  {
   "cell_type": "markdown",
   "id": "791d3596-6899-45ce-8944-72d2c1aa1905",
   "metadata": {},
   "source": [
    "## Save and Reset Index"
   ]
  },
  {
   "cell_type": "code",
   "execution_count": null,
   "id": "902c0bea-d1d2-42b9-a316-19a3b892a59b",
   "metadata": {},
   "outputs": [],
   "source": [
    "multiIndex = events.index\n",
    "events = events.reset_index()"
   ]
  },
  {
   "cell_type": "markdown",
   "id": "f241c58f-f19e-465c-9eef-3ff077232997",
   "metadata": {},
   "source": [
    "## Derive W jet mass"
   ]
  },
  {
   "cell_type": "code",
   "execution_count": null,
   "id": "3cdd2146-626e-4950-b7c2-ad76981500e6",
   "metadata": {},
   "outputs": [],
   "source": [
    "fatjets = make_vector(events, \"ak8FatJet\")\n",
    "fj_sorted = np.take_along_axis(fatjets, np.argsort(fatjets.pt, axis=1)[:, ::-1], axis=1)\n",
    "W_jets = fj_sorted[:, 0]\n",
    "W_jet_PNetMass = W_jets.m"
   ]
  },
  {
   "cell_type": "code",
   "execution_count": null,
   "id": "86ec447c-319f-4a06-9d7d-c08ee44f6666",
   "metadata": {},
   "outputs": [],
   "source": [
    "events[\"WJetPNetMass\"] = W_jet_PNetMass"
   ]
  },
  {
   "cell_type": "markdown",
   "id": "267bbd70-22a9-431d-a815-92a6ee0991cb",
   "metadata": {},
   "source": [
    "## Set Index Back"
   ]
  },
  {
   "cell_type": "code",
   "execution_count": null,
   "id": "26cde6c5-59f5-4504-a67c-baed9cdff855",
   "metadata": {},
   "outputs": [],
   "source": [
    "events = events.set_index(multiIndex)"
   ]
  },
  {
   "cell_type": "code",
   "execution_count": null,
   "id": "491df2b4-c6d7-4a7e-be68-b727f1b586c7",
   "metadata": {},
   "outputs": [],
   "source": [
    "# parse the events df to a way that util can accept\n",
    "events_dict = {}\n",
    "events_dict[\"data\"] = events.loc[\"muon\"]\n",
    "events_dict[\"ttbar\"] = events.loc[\"ttbar\"]"
   ]
  },
  {
   "cell_type": "markdown",
   "id": "38fbdbb6-9e64-4d31-9cb6-363beeebb4fe",
   "metadata": {},
   "source": [
    "## Plot Mass"
   ]
  },
  {
   "cell_type": "code",
   "execution_count": null,
   "id": "1d44aa94-8d8e-4eed-ba4c-ae82c37e6089",
   "metadata": {},
   "outputs": [],
   "source": [
    "control_plot_vars = [\n",
    "    ShapeVar(\n",
    "        var=\"WJetPNetMass\",\n",
    "        label=r\"W Jet PNet Mass (GeV)\",\n",
    "        bins=list(np.arange(20, 250, 5)),\n",
    "        reg=False,\n",
    "    ),\n",
    "]"
   ]
  },
  {
   "cell_type": "code",
   "execution_count": null,
   "id": "a884fae3-9127-4555-83ba-a559af680ee4",
   "metadata": {},
   "outputs": [],
   "source": [
    "ylims = {\n",
    "    \"2022\": 5e4,\n",
    "    \"2022EE\": 4e3,\n",
    "    \"2023-pre-BPix\": 4e5,\n",
    "}"
   ]
  },
  {
   "cell_type": "code",
   "execution_count": null,
   "id": "c828ba30-1406-45e9-ba32-c17927c50090",
   "metadata": {},
   "outputs": [],
   "source": [
    "events_dict[\"data\"][\"finalWeight\"] = 1.0"
   ]
  },
  {
   "cell_type": "code",
   "execution_count": null,
   "id": "9647a245-6576-4d0d-bb82-6f4e9bbc74b1",
   "metadata": {},
   "outputs": [],
   "source": [
    "events_dict[\"data\"][\"finalWeight\"]"
   ]
  },
  {
   "cell_type": "code",
   "execution_count": null,
   "id": "6edaeb14-1462-40bb-89a8-b5c6d5b2ee87",
   "metadata": {},
   "outputs": [],
   "source": [
    "!pip install -e ../../../."
   ]
  },
  {
   "cell_type": "code",
   "execution_count": null,
   "id": "6e8d1da2-8dec-40a3-a7cb-cdad998dfbb3",
   "metadata": {},
   "outputs": [],
   "source": [
    "import HH4b.plotting as plotting"
   ]
  },
  {
   "cell_type": "code",
   "execution_count": null,
   "id": "e1cefbaa-b848-4824-a686-a5a1d620ef7c",
   "metadata": {},
   "outputs": [],
   "source": [
    "for year in [\"2022EE\"]:\n",
    "    hists = {}\n",
    "    for shape_var in control_plot_vars:\n",
    "        print(shape_var)\n",
    "        if shape_var.var not in hists:\n",
    "            hists[shape_var.var] = utils.singleVarHist(\n",
    "                events_dict,\n",
    "                shape_var,\n",
    "                weight_key=\"finalWeight\",\n",
    "            )\n",
    "\n",
    "        bkgs = [\"ttbar\"]\n",
    "        sigs = []\n",
    "\n",
    "        plotting.ratioHistPlot(\n",
    "            hists[shape_var.var],\n",
    "            year,\n",
    "            sigs,\n",
    "            bkgs,\n",
    "            name=\"test\",\n",
    "            show=True,\n",
    "            log=True,\n",
    "            bg_err=None,\n",
    "            plot_data=True,\n",
    "            plot_significance=False,\n",
    "            significance_dir=shape_var.significance_dir,\n",
    "            ratio_ylims=[0.2, 1.8],\n",
    "            ylim=4e5,\n",
    "            ylim_low=10,\n",
    "        )"
   ]
  },
  {
   "cell_type": "code",
   "execution_count": null,
   "id": "abb0c1e7-c181-40c6-bf89-822051b44128",
   "metadata": {},
   "outputs": [],
   "source": [
    "np.array([1, 2, 3, 4], dtype=\"float\")"
   ]
  },
  {
   "cell_type": "code",
   "execution_count": null,
   "id": "a2dd1993-fae8-43fa-ab65-64532ae06364",
   "metadata": {},
   "outputs": [],
   "source": []
  }
 ],
 "metadata": {
  "kernelspec": {
   "display_name": "Python 3 (ipykernel)",
   "language": "python",
   "name": "python3"
  },
  "language_info": {
   "codemirror_mode": {
    "name": "ipython",
    "version": 3
   },
   "file_extension": ".py",
   "mimetype": "text/x-python",
   "name": "python",
   "nbconvert_exporter": "python",
   "pygments_lexer": "ipython3",
   "version": "3.9.10"
  }
 },
 "nbformat": 4,
 "nbformat_minor": 5
}
