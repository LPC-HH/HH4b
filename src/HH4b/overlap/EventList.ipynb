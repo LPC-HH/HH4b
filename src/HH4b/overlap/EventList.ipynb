{
 "cells": [
  {
   "cell_type": "code",
   "execution_count": null,
   "metadata": {},
   "outputs": [],
   "source": [
    "# automatically reloads imported files on edits\n",
    "%load_ext autoreload\n",
    "%autoreload 2"
   ]
  },
  {
   "cell_type": "code",
   "execution_count": null,
   "metadata": {},
   "outputs": [],
   "source": [
    "import numpy as np\n",
    "from argparse import Namespace\n",
    "from HH4b.postprocessing.PostProcess import load_process_run3_samples\n",
    "\n",
    "\n",
    "data_folder = \"24Apr23LegacyLowerThresholds_v12_private_signal\"\n",
    "args = Namespace(\n",
    "    templates_tag=\"24May9v2Msd40\",\n",
    "    data_dir=\"/ceph/cms/store/user/cmantill/bbbb/skimmer/\",\n",
    "    tag=\"24Apr23LegacyLowerThresholds_v12_private_signal\",\n",
    "    years=[\"2022EE\"],\n",
    "    training_years=None,\n",
    "    mass=\"H2PNetMass\",\n",
    "    bdt_model=\"24Apr21_legacy_vbf_vars\",\n",
    "    bdt_config=\"24Apr21_legacy_vbf_vars\",\n",
    "    txbb_wps=[0.99, 0.94],\n",
    "    bdt_wps=[0.94, 0.68, 0.03],\n",
    "    method=\"sideband\",\n",
    "    vbf_txbb_wp=0.97,\n",
    "    vbf_bdt_wp=0.97,\n",
    "    sig_keys=[\"hh4b\", \"vbfhh4b-k2v0\"],\n",
    "    pt_second=300,\n",
    "    bdt_roc=False,\n",
    "    control_plots=False,\n",
    "    fom_scan=False,\n",
    "    fom_scan_bin1=True,\n",
    "    fom_scan_bin2=True,\n",
    "    fom_scan_vbf=False,\n",
    "    templates=False,\n",
    "    legacy=True,\n",
    "    vbf=False,\n",
    "    vbf_priority=False,\n",
    ")\n",
    "bdt_training_keys = [\"qcd\", \"vbfhh4b-k2v0\", \"hh4b\", \"ttbar\"]\n",
    "mass_window = np.array([105, 150])\n",
    "ev_dict, _ = load_process_run3_samples(\n",
    "    args,\n",
    "    year=\"2022EE\",\n",
    "    bdt_training_keys=bdt_training_keys,\n",
    "    control_plots=False,\n",
    "    weight_plots=False,\n",
    "    plot_dir=\"plot_dir\",\n",
    "    mass_window=mass_window\n",
    ")\n",
    "print(ev_dict[\"hh4b\"].columns)\n",
    "\"\"\"\n",
    "python3 PostProcess.py --templates-tag 24May9v2Msd40 \\\n",
    "    --tag 24Apr23LegacyLowerThresholds_v12_private_signal \\\n",
    "    --mass H2PNetMass \\\n",
    "    --legacy --bdt-config 24Apr21_legacy_vbf_vars \\\n",
    "    --bdt-model 24Apr21_legacy_vbf_vars --txbb-wps 0.99 0.94 \\\n",
    "     --bdt-wps 0.94 0.68 0.03 --no-bdt-roc \\\n",
    "     --no-templates --no-fom-scan --no-fom-scan-vbf \\\n",
    "    --data-dir /ceph/cms/store/user/cmantill/bbbb/skimmer/\n",
    "\"\"\"\n",
    "# make array with event nr, signal category\n",
    "# make mask with signal category cutoffs, apply to array\n",
    "\n",
    "# save as root"
   ]
  },
  {
   "cell_type": "code",
   "execution_count": null,
   "metadata": {},
   "outputs": [],
   "source": []
  }
 ],
 "metadata": {
  "kernelspec": {
   "display_name": "Python 3",
   "language": "python",
   "name": "python3"
  },
  "language_info": {
   "codemirror_mode": {
    "name": "ipython",
    "version": 3
   },
   "file_extension": ".py",
   "mimetype": "text/x-python",
   "name": "python",
   "nbconvert_exporter": "python",
   "pygments_lexer": "ipython3",
   "version": "3.10.14"
  }
 },
 "nbformat": 4,
 "nbformat_minor": 2
}
