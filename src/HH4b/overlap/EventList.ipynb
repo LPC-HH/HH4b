{
 "cells": [
  {
   "cell_type": "code",
   "execution_count": null,
   "metadata": {},
   "outputs": [],
   "source": [
    "# automatically reloads imported files on edits\n",
    "%load_ext autoreload\n",
    "%autoreload 2"
   ]
  },
  {
   "cell_type": "code",
   "execution_count": null,
   "metadata": {},
   "outputs": [],
   "source": [
    "import numpy as np\n",
    "from argparse import Namespace\n",
    "from HH4b.postprocessing.PostProcess import load_process_run3_samples\n",
    "\n",
    "\n",
    "data_folder = \"24May24_v12_private_signal\"\n",
    "args = Namespace(\n",
    "    templates_tag=\"24June27\",\n",
    "    data_dir=\"/ceph/cms/store/user/cmantill/bbbb/skimmer/\",\n",
    "    tag=\"24May24_v12_private_signal\",\n",
    "    years=[\"2022\"],\n",
    "    training_years=None,\n",
    "    mass=\"H2PNetMass\",\n",
    "    bdt_model=\"24May31_lr_0p02_md_8_AK4Away\",\n",
    "    bdt_config=\"24May31_lr_0p02_md_8_AK4Away\",\n",
    "    txbb_wps=[0.975, 0.92],\n",
    "    bdt_wps=[0.98, 0.88, 0.03],\n",
    "    method=\"sideband\",\n",
    "    vbf_txbb_wp=0.95,\n",
    "    vbf_bdt_wp=0.98,\n",
    "    sig_keys=[\"hh4b\", \"vbfhh4b\"],\n",
    "    pt_second=250,\n",
    "    bdt_roc=False,\n",
    "    control_plots=False,\n",
    "    fom_scan=False,\n",
    "    fom_scan_bin1=True,\n",
    "    fom_scan_bin2=True,\n",
    "    fom_scan_vbf=False,\n",
    "    templates=False,\n",
    "    legacy=True,\n",
    "    vbf=True,\n",
    "    vbf_priority=False,\n",
    ")"
   ]
  },
  {
   "cell_type": "code",
   "execution_count": null,
   "metadata": {},
   "outputs": [],
   "source": [
    "\n",
    "bdt_training_keys = [\"qcd\", \"vbfhh4b-k2v0\", \"hh4b\", \"ttbar\"]\n",
    "mass_window = np.array([105, 150])\n",
    "ev_dict, _ = load_process_run3_samples(\n",
    "    args,\n",
    "    year=\"2022\",\n",
    "    bdt_training_keys=bdt_training_keys,\n",
    "    control_plots=False,\n",
    "    plot_dir=\"plot_dir\",\n",
    "    mass_window=mass_window,\n",
    ")\n",
    "print(ev_dict[\"hh4b\"].columns)\n",
    "\"\"\"\n",
    "python3 PostProcess.py --templates-tag 24June27 --tag 24May24_v12_private_signal --mass H2PNetMass --legacy --bdt-config 24May31_lr_0p02_md_8_AK4Away --bdt-model 24May31_lr_0p02_md_8_AK4Away --txbb-wps 0.975 0.92 --bdt-wps 0.98 0.88 0.03 --vbf-txbb-wp 0.95 --vbf-bdt-wp 0.98 --no-bdt-roc --no-fom-scan --no-fom-scan-bin2 --no-fom-scan-bin1 --data-dir /ceph/cms/store/user/cmantill/bbbb/skimmer/ --method abcd --no-vbf-priority --vbf --no-fom-scan-vbf --pt-second 250 --templates --years 2022 --sig-keys hh4b vbfhh4b\n",
    "\"\"\"\n",
    "# make array with event nr, signal category\n",
    "# make mask with signal category cutoffs, apply to array\n",
    "\n",
    "# save as root"
   ]
  }
 ],
 "metadata": {
  "kernelspec": {
   "display_name": "Python 3",
   "language": "python",
   "name": "python3"
  },
  "language_info": {
   "codemirror_mode": {
    "name": "ipython",
    "version": 3
   },
   "file_extension": ".py",
   "mimetype": "text/x-python",
   "name": "python",
   "nbconvert_exporter": "python",
   "pygments_lexer": "ipython3",
   "version": "3.10.14"
  }
 },
 "nbformat": 4,
 "nbformat_minor": 2
}
