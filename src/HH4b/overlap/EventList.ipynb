{
 "cells": [
  {
   "cell_type": "code",
   "execution_count": null,
   "metadata": {},
   "outputs": [],
   "source": [
    "import os\n",
    "import sys\n",
    "#sys.path.insert(0, os.path.abspath(os.path.join(os.path.dirname(\"PostProcess.py\"), '..', 'postprocessing')))\n",
    "#from ..postprocessing.PostProcess import load_process_run3_samples\n",
    "from HH4b.postprocessing.PostProcess import load_process_run3_samples\n",
    "#from PostProcess import load_process_run3_samples\n",
    "from argparse import Namespace \n",
    "data_folder = \"24Apr23LegacyLowerThresholds_v12_private_signal\"\n",
    "args = Namespace(templates_tag='24May9v2Msd40', data_dir='../../../', tag='24Apr23LegacyLowerThresholds_v12_private_signal', years=['2022EE'], training_years=None, mass='H2PNetMass', bdt_model='24Apr21_legacy_vbf_vars', bdt_config='24Apr21_legacy_vbf_vars', txbb_wps=[0.99, 0.94], bdt_wps=[0.94, 0.68, 0.03], method='sideband', vbf_txbb_wp=0.97, vbf_bdt_wp=0.97, sig_keys=['hh4b', 'vbfhh4b-k2v0'], pt_second=300, bdt_roc=False, control_plots=False, fom_scan=False, fom_scan_bin1=True, fom_scan_bin2=True, fom_scan_vbf=False, templates=False, legacy=True, vbf=False, vbf_priority=False)\n",
    "bdt_training_keys = ['qcd', 'vbfhh4b-k2v0', 'hh4b', 'ttbar']\n",
    "ev_dict,_ = load_process_run3_samples(args, year=\"2022EE\", bdt_training_keys=bdt_training_keys, control_plots=False, plot_dir=\"plot_dir\")\n",
    "print(ev_dict['hh4b'].columns)\n",
    "\"\"\"\n",
    "python3 PostProcess.py --templates-tag 24May9v2Msd40 \\\n",
    "    --tag 24Apr23LegacyLowerThresholds_v12_private_signal \\\n",
    "    --mass H2PNetMass \\\n",
    "    --legacy --bdt-config 24Apr21_legacy_vbf_vars \\\n",
    "    --bdt-model 24Apr21_legacy_vbf_vars --txbb-wps 0.99 0.94 \\\n",
    "     --bdt-wps 0.94 0.68 0.03 --no-bdt-roc \\\n",
    "     --no-templates --no-fom-scan --no-fom-scan-vbf \\\n",
    "    --data-dir ../../24Apr23LegacyLowerThresholds_v12_private_signal\n",
    "\"\"\"\n",
    "# make array with event nr, signal category\n",
    "# make mask with signal category cutoffs, apply to array \n",
    "\n",
    "# save as root"
   ]
  }
 ],
 "metadata": {
  "language_info": {
   "name": "python"
  }
 },
 "nbformat": 4,
 "nbformat_minor": 2
}
