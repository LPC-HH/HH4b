{
 "cells": [
  {
   "cell_type": "code",
   "execution_count": null,
   "metadata": {},
   "outputs": [],
   "source": [
    "import uproot\n",
    "\n",
    "# Input and output ROOT files\n",
    "input_file = \"/home/users/dprimosc/HH4b/src/HH4b/overlap/eventlist_files_2024Oct22/eventlist_boostedHH4b_2023BPix.root\"\n",
    "output_file = \"/home/users/dprimosc/HH4b/src/HH4b/overlap/eventlist_files_2024Oct22_cleaned/eventlist_boostedHH4b_2023BPix.root\"\n",
    "\n",
    "# Open the input file\n",
    "file = uproot.open(input_file)\n",
    "\n",
    "# Create a new ROOT file for writing\n",
    "with uproot.recreate(output_file) as new_file:\n",
    "    for key in file.keys():\n",
    "        name, version = key.split(\";\")\n",
    "        version = int(version)\n",
    "\n",
    "        if version == 1:\n",
    "            print(f\"Skipping {name};1 (will be replaced by {name};2)\")\n",
    "            continue  # Skip old versions\n",
    "\n",
    "        elif version == 2:\n",
    "            # Rename the TTree to ;1\n",
    "            new_name = name  # Drop the \";2\" and keep it as the base name\n",
    "            print(f\"Renaming {name};2 to {new_name};1\")\n",
    "            tree = file[key]\n",
    "            # Write the tree to the new file\n",
    "            new_file[new_name] = tree.arrays(library=\"np\")\n",
    "\n",
    "        else:\n",
    "            # Write any other objects as-is\n",
    "            print(f\"Copying {name};{version} without modification\")\n",
    "            tree = file[key]\n",
    "            new_file[name] = tree.arrays(library=\"np\")\n",
    "\n",
    "print(f\"Updated ROOT file saved as {output_file}\")"
   ]
  },
  {
   "cell_type": "code",
   "execution_count": null,
   "metadata": {},
   "outputs": [],
   "source": [
    "# Verification Step\n",
    "print(\"\\nStarting verification process...\")\n",
    "\n",
    "# Open both files for comparison\n",
    "original_file = uproot.open(input_file)\n",
    "updated_file = uproot.open(output_file)\n",
    "\n",
    "for key in original_file.keys():\n",
    "    name, version = key.split(\";\")\n",
    "    if version == \"1\" and f\"{name};2\" in original_file.keys():\n",
    "        # Skip checking tree-name;1 as it's replaced\n",
    "        continue\n",
    "\n",
    "    # Get data from both files\n",
    "    original_data = original_file[key].arrays(library=\"np\")\n",
    "    updated_data = updated_file[name].arrays(library=\"np\")\n",
    "\n",
    "    # Compare branches in the TTree\n",
    "    mismatches = False\n",
    "    for branch in original_data:\n",
    "        if branch not in updated_data:\n",
    "            print(f\"Branch {branch} missing in updated data for {key}.\")\n",
    "            mismatches = True\n",
    "        elif not (original_data[branch] == updated_data[branch]).all():\n",
    "            print(f\"Mismatch in branch {branch} for {key}.\")\n",
    "            mismatches = True\n",
    "\n",
    "    if not mismatches:\n",
    "        print(f\"Data verified for {key}.\")\n",
    "\n",
    "print(\"Verification process completed.\")"
   ]
  },
  {
   "cell_type": "code",
   "execution_count": null,
   "metadata": {},
   "outputs": [],
   "source": [
    "# Print contents of the 'hh4b' tree\n",
    "if \"hh4b\" in file:\n",
    "    print(\"\\nContents of 'hh4b' tree:\")\n",
    "    hh4b_tree = file[\"hh4b\"]\n",
    "    max_entries = 50  # Maximum number of entries to display\n",
    "\n",
    "    # Display the list of branches\n",
    "    print(\"Branches:\")\n",
    "    for branch in hh4b_tree.keys():\n",
    "        print(f\"  - {branch}\")\n",
    "\n",
    "    # Display the first few rows of data for each branch\n",
    "    print(\"\\nSample data from 'hh4b':\")\n",
    "    hh4b_data = hh4b_tree.arrays(library=\"np\")\n",
    "    for branch, data in hh4b_data.items():\n",
    "        print(f\"{branch}: {data[:max_entries]}\")  # Print the first 5 entries for each branch\n",
    "else:\n",
    "    print(\"\\n'hh4b' tree not found in the file.\")"
   ]
  },
  {
   "cell_type": "code",
   "execution_count": null,
   "metadata": {},
   "outputs": [],
   "source": []
  }
 ],
 "metadata": {
  "kernelspec": {
   "display_name": "Python 3",
   "language": "python",
   "name": "python3"
  },
  "language_info": {
   "codemirror_mode": {
    "name": "ipython",
    "version": 3
   },
   "file_extension": ".py",
   "mimetype": "text/x-python",
   "name": "python",
   "nbconvert_exporter": "python",
   "pygments_lexer": "ipython3",
   "version": "3.10.14"
  }
 },
 "nbformat": 4,
 "nbformat_minor": 2
}
