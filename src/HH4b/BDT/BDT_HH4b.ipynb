{
 "cells": [
  {
   "cell_type": "markdown",
   "id": "5d3d5c3b-e008-47d9-9b72-0501b407b89f",
   "metadata": {},
   "source": [
    "# This is a template BDT notebook for developing"
   ]
  },
  {
   "cell_type": "code",
   "execution_count": null,
   "id": "b003fdb7-5d91-4742-b23e-099459ad23b0",
   "metadata": {},
   "outputs": [],
   "source": [
    "import pandas as pd\n",
    "import numpy as np\n",
    "from sklearn.model_selection import train_test_split\n",
    "from xgboost import XGBClassifier\n",
    "from sklearn.metrics import accuracy_score, roc_auc_score\n",
    "import HH4b.utils as utils\n",
    "import HH4b.plotting as plotting\n",
    "from sklearn.metrics import roc_curve, auc\n",
    "import matplotlib.pyplot as plt\n",
    "import mplhep as hep\n",
    "import vector"
   ]
  },
  {
   "cell_type": "code",
   "execution_count": null,
   "id": "a73db755-debc-4afa-a1fe-512163a2d9af",
   "metadata": {},
   "outputs": [],
   "source": [
    "def make_vector(events: pd.DataFrame, obj: str):\n",
    "    \"\"\"Create a ``vector`` object from the columns of the dataframe\"\"\"\n",
    "    mstring = \"PNetMass\" if obj == \"ak8FatJet\" else \"Mass\"\n",
    "\n",
    "    return vector.array(\n",
    "        {\n",
    "            \"pt\": events[f\"{obj}Pt\"],\n",
    "            \"phi\": events[f\"{obj}Phi\"],\n",
    "            \"eta\": events[f\"{obj}Eta\"],\n",
    "            \"M\": events[f\"{obj}{mstring}\"],\n",
    "        }\n",
    "    )"
   ]
  },
  {
   "cell_type": "markdown",
   "id": "cdb4d83a-fdec-45a0-8ce4-c716491f0499",
   "metadata": {},
   "source": [
    "## Load Dataset"
   ]
  },
  {
   "cell_type": "code",
   "execution_count": null,
   "id": "fa327d0d-a58d-413e-b673-a3d94f5e9494",
   "metadata": {},
   "outputs": [],
   "source": [
    "year = \"2018\"  #\n",
    "dir_name = \"23Nov18_WSel_v9_private\"\n",
    "path_to_dir = f\"/Users/billyli/UCSD/{dir_name}/\""
   ]
  },
  {
   "cell_type": "code",
   "execution_count": null,
   "id": "deabb526-29f4-4163-9feb-4131d6b9e538",
   "metadata": {},
   "outputs": [],
   "source": [
    "# Load your dataset\n",
    "samples = {\n",
    "    \"hh4b\": [\"GluGlutoHHto4B_cHHH1_TuneCP5_PSWeights_13TeV-powheg-pythia8\"],\n",
    "    # \"hh4b-c2p45\": [\"GluGlutoHHto4B_cHHH2p45_TuneCP5_PSWeights_13TeV-powheg-pythia8\"],\n",
    "    # \"hh4b-c5\": [\"GluGlutoHHto4B_cHHH5_TuneCP5_PSWeights_13TeV-powheg-pythia8\"],\n",
    "    # \"hh4b-c0\": [\"GluGlutoHHto4B_cHHH0_TuneCP5_PSWeights_13TeV-powheg-pythia8\"],\n",
    "    \"qcd\": [\n",
    "        \"QCD_HT-200to300-13TeV\",\n",
    "        \"QCD_HT-300to500-13TeV\",\n",
    "        \"QCD_HT-500to700-13TeV\",\n",
    "        \"QCD_HT-700to1000-13TeV\",\n",
    "        \"QCD_HT-1000to1500-13TeV\",\n",
    "        \"QCD_HT-1500to2000-13TeV\",\n",
    "        \"QCD_HT-2000toInf-13TeV\",\n",
    "    ],\n",
    "    \"ttbar\": [\n",
    "        \"TTTo2L2Nu_13TeV\",\n",
    "        \"TTToHadronic_13TeV\",\n",
    "        \"TTToSemiLeptonic_13TeV\",\n",
    "    ],\n",
    "}\n",
    "\n",
    "dirs = {path_to_dir: samples}\n",
    "\n",
    "filters = [\n",
    "    [\n",
    "        # one good fatjet (fatjet with index 0 has the largest Xbb score)\n",
    "        (\"('ak8FatJetPt', '0')\", \">=\", 300),\n",
    "        (\"('ak8FatJetMsd', '0')\", \">=\", 60),\n",
    "        (\"('ak8FatJetPNetXbb', '0')\", \">=\", 0.9734),  # medium WP\n",
    "        # second fatjet has lower\n",
    "        (\"('ak8FatJetPNetXbb', '1')\", \"<\", 0.9880),  # tight WP\n",
    "    ]\n",
    "]\n",
    "\n",
    "# columns to load\n",
    "# the parquet files are too big so we can only load a few columns at a time without consumming much memory\n",
    "load_columns = [\n",
    "    (\"weight\", 1),\n",
    "    (\"ak8FatJetMsd\", 2),\n",
    "    (\"ak8FatJetPNetMass\", 2),\n",
    "    (\"ak8FatJetPNetXbb\", 2),\n",
    "]\n",
    "# reformat into (\"column name\", \"idx\") format for reading multiindex columns\n",
    "columns = []\n",
    "for key, num_columns in load_columns:\n",
    "    for i in range(num_columns):\n",
    "        columns.append(f\"('{key}', '{i}')\")\n",
    "\n",
    "\n",
    "events_dict = {}\n",
    "for input_dir, samples in dirs.items():\n",
    "    events_dict = {\n",
    "        **events_dict,\n",
    "        # this function will load files (only the columns selected), apply filters and compute a weight per event\n",
    "        **utils.load_samples(input_dir, samples, year, filters=filters),\n",
    "    }\n",
    "\n",
    "samples_loaded = list(events_dict.keys())\n",
    "keys_loaded = list(events_dict[samples_loaded[0]].keys())\n",
    "print(f\"Keys in events_dict\")\n",
    "for i in keys_loaded:\n",
    "    print(i)"
   ]
  },
  {
   "cell_type": "markdown",
   "id": "74f8bd48-ceeb-4a14-b16c-78c49d9e66bb",
   "metadata": {},
   "source": [
    "## Event cuts"
   ]
  },
  {
   "cell_type": "code",
   "execution_count": null,
   "id": "b0ce3d30-8b9f-4399-8c3a-dfa23dd4a901",
   "metadata": {},
   "outputs": [],
   "source": [
    "# Higgs candidate selection example\n",
    "events_raw = pd.concat(\n",
    "    [events_dict[\"hh4b\"], events_dict[\"qcd\"], events_dict[\"ttbar\"]], keys=[\"hh4b\", \"qcd\", \"ttbar\"]\n",
    ")"
   ]
  },
  {
   "cell_type": "code",
   "execution_count": null,
   "id": "1d069753-4883-4311-b826-2c02c7b99cf3",
   "metadata": {},
   "outputs": [],
   "source": [
    "# AK4OutsideJet pt cut\n",
    "jets_outside_raw = make_vector(events_raw, \"ak4JetOutside\")\n",
    "j3_raw = jets_outside_raw[:, 0]\n",
    "j4_raw = jets_outside_raw[:, 1]\n",
    "j3j4_pt_cut = (j3_raw.pt > 20) & (j4_raw.pt > 20)"
   ]
  },
  {
   "cell_type": "code",
   "execution_count": null,
   "id": "35156859-dbc1-4a9c-b6fd-3a4b2deeafed",
   "metadata": {},
   "outputs": [],
   "source": [
    "combined_filter = j3j4_pt_cut\n",
    "events = events_raw[combined_filter]"
   ]
  },
  {
   "cell_type": "markdown",
   "id": "791d3596-6899-45ce-8944-72d2c1aa1905",
   "metadata": {},
   "source": [
    "## Define Targets"
   ]
  },
  {
   "cell_type": "code",
   "execution_count": null,
   "id": "3cdd2146-626e-4950-b7c2-ad76981500e6",
   "metadata": {},
   "outputs": [],
   "source": [
    "events[\"target\"] = 0  # default is background\n",
    "events.loc[\"hh4b\", \"target\"] = 1  # Set to 1 for 'hh4b' samples (signal)"
   ]
  },
  {
   "cell_type": "code",
   "execution_count": null,
   "id": "d9b27c88-59af-40a4-952e-c192022f494b",
   "metadata": {},
   "outputs": [],
   "source": [
    "# define target\n",
    "target = events[\"target\"]"
   ]
  },
  {
   "cell_type": "code",
   "execution_count": null,
   "id": "2d982833-eefb-4e90-807e-7eeb1dd2a0d9",
   "metadata": {},
   "outputs": [],
   "source": [
    "multiIndex = events.index\n",
    "events = events.reset_index()"
   ]
  },
  {
   "cell_type": "markdown",
   "id": "88bf09fc-4fa0-4aac-b2e7-01061fcb347c",
   "metadata": {},
   "source": [
    "## Define Features"
   ]
  },
  {
   "cell_type": "code",
   "execution_count": null,
   "id": "26ef16a2-5ab7-48a1-a22e-cc74f1dc0d7d",
   "metadata": {},
   "outputs": [],
   "source": [
    "# Use pandas df as feature container\n",
    "pdf = pd.DataFrame()\n",
    "\n",
    "# H1 features\n",
    "fatjets = make_vector(events, \"ak8FatJet\")  # fatjets sorted by xbb\n",
    "h1 = fatjets[:, 0]\n",
    "pdf[\"logPtH1\"] = np.log(h1.pt)  #\n",
    "pdf[\"hb_eta\"] = h1.eta  #\n",
    "\n",
    "\n",
    "# H2 features\n",
    "jets_outside = make_vector(events, \"ak4JetOutside\")  # sorted by b-score\n",
    "j3 = jets_outside[:, 0]\n",
    "j4 = jets_outside[:, 1]\n",
    "h2 = j3 + j4\n",
    "pdf[\"hr_pt\"] = h2.pt  #\n",
    "pdf[\"hr_eta\"] = h2.eta  #\n",
    "pdf[\"hr_mass\"] = h2.mass  #\n",
    "\n",
    "# j3 j4 features\n",
    "j3_deepJetB = events.ak4JetOutsidebtagDeepFlavB[0]\n",
    "j4_deepJetB = events.ak4JetOutsidebtagDeepFlavB[1]\n",
    "\n",
    "pn_b = events.ak4JetOutsidebtagPNetProbb + events.ak4JetOutsidebtagPNetProbbb\n",
    "pn_c = events.ak4JetOutsidebtagPNetProbc + events.ak4JetOutsidebtagPNetProbcc\n",
    "pn_uds = events.ak4JetOutsidebtagPNetProbuds\n",
    "pn_g = events.ak4JetOutsidebtagPNetProbg\n",
    "ak4JetOutsidePNetFlavB = pn_b / (pn_c + pn_uds + pn_g)\n",
    "j3_PNetFlavB = ak4JetOutsidePNetFlavB[0]\n",
    "j4_PNetFlavB = ak4JetOutsidePNetFlavB[1]\n",
    "\n",
    "j3_btag = j3_PNetFlavB\n",
    "j4_btag = j4_PNetFlavB\n",
    "\n",
    "pdf[\"logPtJ3\"] = np.log(j3.pt)  #\n",
    "pdf[\"logPtJ4\"] = np.log(j4.pt)  #\n",
    "pdf[\"j3_btag\"] = j3_btag  #\n",
    "pdf[\"j4_btag\"] = j4_btag  #\n",
    "\n",
    "pdf[\"dPhiJ3J4\"] = j3.deltaphi(j4)\n",
    "pdf[\"dRJ3J4\"] = j3.deltaR(j4)  #\n",
    "pdf[\"j3_j4_ratio\"] = j3.pt / j4.pt  #\n",
    "\n",
    "# HH features\n",
    "hh = h1 + h2\n",
    "drh1h2 = np.sqrt((h1.eta - h2.eta) ** 2 + (h1.phi - h2.phi) ** 2)\n",
    "\n",
    "pdf[\"logPtHH\"] = np.log(hh.pt)  #\n",
    "pdf[\"HHMass\"] = hh.M  #\n",
    "pdf[\"HHEta\"] = hh.eta  #  #\n",
    "\n",
    "pdf[\"H1Pt_H2Pt\"] = h1.pt / h2.pt  #\n",
    "pdf[\"dphi\"] = h1.deltaphi(h2)  #\n",
    "pdf[\"deta\"] = h1.deltaeta(h2)  #\n",
    "pdf[\"dRH1H2\"] = drh1h2  #\n",
    "\n",
    "# Second fatjet\n",
    "fj2 = fatjets[:, 1]\n",
    "pdf[\"fj2_pt\"] = fj2.pt  #\n",
    "pdf[\"fj2_eta\"] = fj2.eta  #\n",
    "pdf[\"fj2_mass\"] = fj2.M  #"
   ]
  },
  {
   "cell_type": "code",
   "execution_count": null,
   "id": "af5f5cec-9f74-4a38-aa60-f37002144241",
   "metadata": {},
   "outputs": [],
   "source": [
    "# LOAD FEATURES INTO PD DF\n",
    "features = pdf.set_index(multiIndex)"
   ]
  },
  {
   "cell_type": "code",
   "execution_count": null,
   "id": "8e66f115-8171-4c5d-9930-a8b567a7ad0f",
   "metadata": {},
   "outputs": [],
   "source": [
    "# Splitting the dataset into training and testing sets\n",
    "X_train, X_test, y_train, y_test = train_test_split(\n",
    "    features, target, test_size=0.2, random_state=42\n",
    ")"
   ]
  },
  {
   "cell_type": "code",
   "execution_count": null,
   "id": "906a8c6a-d227-4f63-b528-23f11ba4b0f4",
   "metadata": {},
   "outputs": [],
   "source": [
    "# Initialize the BDT model\n",
    "bdt_model = XGBClassifier(\n",
    "    n_estimators=196, max_depth=17, learning_rate=0.1, subsample=0.5, random_state=42\n",
    ")"
   ]
  },
  {
   "cell_type": "code",
   "execution_count": null,
   "id": "23c0864d-2c2e-400e-b378-b930a21bf100",
   "metadata": {},
   "outputs": [],
   "source": [
    "# Train the model\n",
    "bdt_model.fit(X_train, y_train)"
   ]
  },
  {
   "cell_type": "code",
   "execution_count": null,
   "id": "d947c38d-d2ee-4fb2-bc93-71fc12d6f052",
   "metadata": {},
   "outputs": [],
   "source": [
    "y_scores = bdt_model.predict_proba(X_test)[:, 1]\n",
    "\n",
    "fpr, tpr, thresholds = roc_curve(y_test, y_scores)\n",
    "roc_auc = auc(fpr, tpr)\n",
    "\n",
    "# histogram for y scores signal & background\n",
    "# rank by importance\n",
    "\n",
    "# number of b-jets that can be identified in resolved\n",
    "# another feather cos(theta_star)\n",
    "\n",
    "# Plottting\n",
    "plt.figure()\n",
    "plt.plot(tpr, fpr, color=\"darkorange\", lw=2, label=\"ROC curve (area = %0.2f)\" % roc_auc)\n",
    "plt.xlabel(\"Signal (HH)\")\n",
    "plt.ylabel(\"Background (QCD&ttbar)\")\n",
    "plt.title(\"ROC\")\n",
    "plt.legend(loc=\"upper left\")\n",
    "plt.yscale(\"log\")\n",
    "plt.show()"
   ]
  },
  {
   "cell_type": "code",
   "execution_count": null,
   "id": "23d0cbfb-52e3-43e4-84a5-c78152226f36",
   "metadata": {},
   "outputs": [],
   "source": [
    "# determine importance of the features\n",
    "\n",
    "importances = bdt_model.feature_importances_\n",
    "\n",
    "feature_names = pdf.columns\n",
    "feature_importance = sorted(zip(feature_names, importances), key=lambda x: x[1], reverse=True)\n",
    "\n",
    "for feature in feature_importance:\n",
    "    print(f\"{feature[0]}: {feature[1]:.3f}\")"
   ]
  },
  {
   "cell_type": "code",
   "execution_count": null,
   "id": "909f0b35-0e51-43e5-a8e6-3d4ea4c6d627",
   "metadata": {},
   "outputs": [],
   "source": [
    "print(importances.size)"
   ]
  },
  {
   "cell_type": "code",
   "execution_count": null,
   "id": "c21d45a9-9fae-4e43-8b34-100feb411632",
   "metadata": {},
   "outputs": [],
   "source": [
    "hh4b_scores = bdt_model.predict_proba(X_test.loc[\"hh4b\"])[:, 1]\n",
    "qcd_scores = bdt_model.predict_proba(X_test.loc[\"qcd\"])[:, 1]\n",
    "ttbar_scores = bdt_model.predict_proba(X_test.loc[\"ttbar\"])[:, 1]"
   ]
  },
  {
   "cell_type": "code",
   "execution_count": null,
   "id": "d15a1a42-eb7e-489b-b3fa-cdba4cc35bb5",
   "metadata": {},
   "outputs": [],
   "source": [
    "plt.figure()\n",
    "plt.hist(hh4b_scores, bins=40, histtype=\"step\", linewidth=1.5, color=\"darkblue\")\n",
    "plt.hist(qcd_scores, bins=40, histtype=\"step\", linewidth=1.5, color=\"red\")\n",
    "plt.hist(ttbar_scores, bins=40, histtype=\"step\", linewidth=1.5, color=\"darkgreen\")\n",
    "plt.legend([\"hh4b\", \"qcd\", \"ttbar\"])\n",
    "plt.ylabel(\"Frequency\")\n",
    "plt.xlabel(\"Prediciton Score\")\n",
    "plt.title(\"Model Predictions Histogram\")\n",
    "plt.yscale(\"log\")\n",
    "plt.show()"
   ]
  }
 ],
 "metadata": {
  "kernelspec": {
   "display_name": "Python 3 (ipykernel)",
   "language": "python",
   "name": "python3"
  },
  "language_info": {
   "codemirror_mode": {
    "name": "ipython",
    "version": 3
   },
   "file_extension": ".py",
   "mimetype": "text/x-python",
   "name": "python",
   "nbconvert_exporter": "python",
   "pygments_lexer": "ipython3",
   "version": "3.10.13"
  }
 },
 "nbformat": 4,
 "nbformat_minor": 5
}
