{
 "cells": [
  {
   "cell_type": "markdown",
   "id": "5d3d5c3b-e008-47d9-9b72-0501b407b89f",
   "metadata": {},
   "source": [
    "# SemiBoosted Analysis with BDT"
   ]
  },
  {
   "cell_type": "code",
   "execution_count": 1,
   "id": "b003fdb7-5d91-4742-b23e-099459ad23b0",
   "metadata": {},
   "outputs": [],
   "source": [
    "import pandas as pd\n",
    "import numpy as np\n",
    "from sklearn.model_selection import train_test_split\n",
    "from xgboost import XGBClassifier\n",
    "from sklearn.metrics import accuracy_score, roc_auc_score\n",
    "import HH4b.utils as utils\n",
    "import HH4b.plotting as plotting\n",
    "from sklearn.metrics import roc_curve, auc\n",
    "import matplotlib.pyplot as plt\n",
    "import mplhep as hep\n",
    "import vector"
   ]
  },
  {
   "cell_type": "code",
   "execution_count": 2,
   "id": "a73db755-debc-4afa-a1fe-512163a2d9af",
   "metadata": {},
   "outputs": [],
   "source": [
    "def make_vector(events: pd.DataFrame, obj: str):\n",
    "    \"\"\"Create a ``vector`` object from the columns of the dataframe\"\"\"\n",
    "    mstring = \"PNetMass\" if obj == \"ak8FatJet\" else \"Mass\"\n",
    "\n",
    "    return vector.array(\n",
    "        {\n",
    "            \"pt\": events[f\"{obj}Pt\"],\n",
    "            \"phi\": events[f\"{obj}Phi\"],\n",
    "            \"eta\": events[f\"{obj}Eta\"],\n",
    "            \"M\": events[f\"{obj}{mstring}\"],\n",
    "        }\n",
    "    )"
   ]
  },
  {
   "cell_type": "markdown",
   "id": "cdb4d83a-fdec-45a0-8ce4-c716491f0499",
   "metadata": {},
   "source": [
    "## Load Dataset"
   ]
  },
  {
   "cell_type": "code",
   "execution_count": 3,
   "id": "fa327d0d-a58d-413e-b673-a3d94f5e9494",
   "metadata": {},
   "outputs": [],
   "source": [
    "year = \"2018\"  #\n",
    "dir_name = \"23Nov18_WSel_v9_private\"\n",
    "path_to_dir = f\"/Users/billyli/UCSD/{dir_name}/\""
   ]
  },
  {
   "cell_type": "code",
   "execution_count": null,
   "id": "deabb526-29f4-4163-9feb-4131d6b9e538",
   "metadata": {},
   "outputs": [],
   "source": [
    "# Load your dataset\n",
    "samples = {\n",
    "    \"hh4b\": [\"GluGlutoHHto4B_cHHH1_TuneCP5_PSWeights_13TeV-powheg-pythia8\"],\n",
    "    # cHHH = kappa lambda\n",
    "    # \"hh4b-c2p45\": [\"GluGlutoHHto4B_cHHH2p45_TuneCP5_PSWeights_13TeV-powheg-pythia8\"],\n",
    "    # \"hh4b-c5\": [\"GluGlutoHHto4B_cHHH5_TuneCP5_PSWeights_13TeV-powheg-pythia8\"],\n",
    "    # \"hh4b-c0\": [\"GluGlutoHHto4B_cHHH0_TuneCP5_PSWeights_13TeV-powheg-pythia8\"],\n",
    "    \"qcd\": [\n",
    "        \"QCD_HT-200to300-13TeV\",\n",
    "        \"QCD_HT-300to500-13TeV\",\n",
    "        \"QCD_HT-500to700-13TeV\",\n",
    "        \"QCD_HT-700to1000-13TeV\",\n",
    "        \"QCD_HT-1000to1500-13TeV\",\n",
    "        \"QCD_HT-1500to2000-13TeV\",\n",
    "        \"QCD_HT-2000toInf-13TeV\",\n",
    "    ],\n",
    "    \"ttbar\": [\n",
    "        \"TTTo2L2Nu_13TeV\",\n",
    "        \"TTToHadronic_13TeV\",\n",
    "        \"TTToSemiLeptonic_13TeV\",\n",
    "    ],\n",
    "}\n",
    "\n",
    "dirs = {path_to_dir: samples}\n",
    "\n",
    "filters = [\n",
    "    [\n",
    "        # one good fatjet (fatjet with index 0 has the largest Xbb score)\n",
    "        (\"('ak8FatJetPt', '0')\", \">=\", 300),\n",
    "        (\"('ak8FatJetMsd', '0')\", \">=\", 60),\n",
    "        (\"('ak8FatJetPNetXbb', '0')\", \">=\", 0.9734),  # medium WP\n",
    "        # second fatjet has lower\n",
    "        (\"('ak8FatJetPNetXbb', '1')\", \"<\", 0.9880),  # tight WP\n",
    "    ]\n",
    "]\n",
    "\n",
    "# columns to load\n",
    "# the parquet files are too big so we can only load a few columns at a time without consumming much memory\n",
    "load_columns = [\n",
    "    (\"weight\", 1),\n",
    "    (\"ak8FatJetMsd\", 2),\n",
    "    (\"ak8FatJetPNetMass\", 2),\n",
    "    (\"ak8FatJetPNetXbb\", 2),\n",
    "]\n",
    "# reformat into (\"column name\", \"idx\") format for reading multiindex columns\n",
    "columns = []\n",
    "for key, num_columns in load_columns:\n",
    "    for i in range(num_columns):\n",
    "        columns.append(f\"('{key}', '{i}')\")\n",
    "\n",
    "\n",
    "events_dict = {}\n",
    "for input_dir, samples in dirs.items():\n",
    "    events_dict = {\n",
    "        **events_dict,\n",
    "        # this function will load files (only the columns selected), apply filters and compute a weight per event\n",
    "        **utils.load_samples(\n",
    "            input_dir, samples, year, filters=filters, load_weight_noxsec=False, reorder_txbb=False\n",
    "        ),\n",
    "    }\n",
    "\n",
    "samples_loaded = list(events_dict.keys())\n",
    "keys_loaded = list(events_dict[samples_loaded[0]].keys())\n",
    "print(f\"Keys in events_dict\")\n",
    "for i in keys_loaded:\n",
    "    print(i)"
   ]
  },
  {
   "cell_type": "markdown",
   "id": "74f8bd48-ceeb-4a14-b16c-78c49d9e66bb",
   "metadata": {},
   "source": [
    "## Event cuts"
   ]
  },
  {
   "cell_type": "code",
   "execution_count": 5,
   "id": "b0ce3d30-8b9f-4399-8c3a-dfa23dd4a901",
   "metadata": {},
   "outputs": [],
   "source": [
    "# Higgs candidate selection example\n",
    "events_raw = pd.concat(\n",
    "    [events_dict[\"hh4b\"], events_dict[\"qcd\"], events_dict[\"ttbar\"]], keys=[\"hh4b\", \"qcd\", \"ttbar\"]\n",
    ")"
   ]
  },
  {
   "cell_type": "code",
   "execution_count": 6,
   "id": "1d069753-4883-4311-b826-2c02c7b99cf3",
   "metadata": {},
   "outputs": [],
   "source": [
    "# AK4OutsideJet pt cut\n",
    "jets_outside_raw = make_vector(events_raw, \"ak4JetOutside\")\n",
    "j3_raw = jets_outside_raw[:, 0]\n",
    "j4_raw = jets_outside_raw[:, 1]\n",
    "j3j4_pt_cut = (j3_raw.pt > 20) & (j4_raw.pt > 20)"
   ]
  },
  {
   "cell_type": "code",
   "execution_count": 7,
   "id": "35156859-dbc1-4a9c-b6fd-3a4b2deeafed",
   "metadata": {},
   "outputs": [],
   "source": [
    "combined_filter = j3j4_pt_cut\n",
    "events = events_raw[combined_filter]"
   ]
  },
  {
   "cell_type": "code",
   "execution_count": null,
   "id": "20ed32d2-3758-45f4-a070-7797af7f34fa",
   "metadata": {},
   "outputs": [],
   "source": [
    "events.loc[\"ttbar\"][\"weight\"]"
   ]
  },
  {
   "cell_type": "code",
   "execution_count": null,
   "id": "f0f2226e-a4fa-42e9-bc88-08fce01da28f",
   "metadata": {},
   "outputs": [],
   "source": [
    "list(events.keys())"
   ]
  },
  {
   "cell_type": "markdown",
   "id": "791d3596-6899-45ce-8944-72d2c1aa1905",
   "metadata": {},
   "source": [
    "## Define Targets with weights"
   ]
  },
  {
   "cell_type": "code",
   "execution_count": 9,
   "id": "3cdd2146-626e-4950-b7c2-ad76981500e6",
   "metadata": {},
   "outputs": [],
   "source": [
    "def get_yw_from_events(events):\n",
    "    # Define Targets\n",
    "    events[\"target\"] = 0  # default is background\n",
    "    events.loc[\"hh4b\", \"target\"] = 1  # Set to 1 for 'hh4b' samples (signal)\n",
    "\n",
    "    # define target and weights\n",
    "    targets_weights = events[[\"target\", \"weight\"]]\n",
    "    targets_weights.loc[:, \"weight\"] = np.abs(targets_weights.loc[:, \"weight\"].to_numpy())\n",
    "\n",
    "    # calculate the sum of weights in signal/bg categories\n",
    "    signal_mask = targets_weights[\"target\"] == 1\n",
    "    total_signal_weight = targets_weights[signal_mask][\"weight\"].sum()\n",
    "    total_bg_weight = targets_weights[~signal_mask][\"weight\"].sum()\n",
    "\n",
    "    # balancing classes\n",
    "    print(\"total signal weight\", total_signal_weight)\n",
    "    print(\"total bg weight\", total_bg_weight)\n",
    "    targets_weights.loc[signal_mask, \"bal_weight\"] = (\n",
    "        targets_weights.loc[signal_mask, \"weight\"] / total_signal_weight\n",
    "    ).to_numpy()\n",
    "    targets_weights.loc[~signal_mask, \"bal_weight\"] = (\n",
    "        targets_weights.loc[~signal_mask, \"weight\"] / total_bg_weight\n",
    "    ).to_numpy()\n",
    "\n",
    "    # normalize weights\n",
    "    targets_weights.loc[:, \"bal_weight\"] = (\n",
    "        targets_weights.loc[:, \"bal_weight\"] / targets_weights.loc[:, \"bal_weight\"].max()\n",
    "    ).to_numpy()\n",
    "\n",
    "    print(\"after reweighting and normalizing\")\n",
    "    total_signal_weight = targets_weights[signal_mask][\"bal_weight\"].sum()\n",
    "    total_bg_weight = targets_weights[~signal_mask][\"bal_weight\"].sum()\n",
    "    print(\"total signal weight\", total_signal_weight)\n",
    "    print(\"total bg weight\", total_bg_weight)\n",
    "\n",
    "    return targets_weights"
   ]
  },
  {
   "cell_type": "code",
   "execution_count": null,
   "id": "2d982833-eefb-4e90-807e-7eeb1dd2a0d9",
   "metadata": {},
   "outputs": [],
   "source": [
    "targets_weights = get_yw_from_events(events)\n",
    "targets_weights"
   ]
  },
  {
   "cell_type": "markdown",
   "id": "88bf09fc-4fa0-4aac-b2e7-01061fcb347c",
   "metadata": {},
   "source": [
    "## Define Features"
   ]
  },
  {
   "cell_type": "code",
   "execution_count": 16,
   "id": "f1740f67",
   "metadata": {},
   "outputs": [],
   "source": [
    "def get_x_from_events(events):\n",
    "    multiIndex = events.index\n",
    "    events = events.reset_index()\n",
    "\n",
    "    # Use pandas df as feature container\n",
    "    pdf = pd.DataFrame()\n",
    "\n",
    "    # H1 features\n",
    "    fatjets = make_vector(events, \"ak8FatJet\")  # fatjets sorted by xbb\n",
    "    h1 = fatjets[:, 0]\n",
    "    pdf[\"logPtH1\"] = np.log(h1.pt)  #\n",
    "    pdf[\"hb_eta\"] = h1.eta  #\n",
    "\n",
    "    # H2 features\n",
    "    jets_outside = make_vector(events, \"ak4JetOutside\")  # sorted by b-score\n",
    "    j3 = jets_outside[:, 0]\n",
    "    j4 = jets_outside[:, 1]\n",
    "    h2 = j3 + j4\n",
    "    pdf[\"hr_pt\"] = h2.pt  #\n",
    "    pdf[\"hr_eta\"] = h2.eta  #\n",
    "    pdf[\"hr_mass\"] = h2.mass  #\n",
    "\n",
    "    pn_b = events.ak4JetOutsidebtagPNetProbb + events.ak4JetOutsidebtagPNetProbbb\n",
    "    pn_c = events.ak4JetOutsidebtagPNetProbc + events.ak4JetOutsidebtagPNetProbcc\n",
    "    pn_uds = events.ak4JetOutsidebtagPNetProbuds\n",
    "    pn_g = events.ak4JetOutsidebtagPNetProbg\n",
    "    ak4JetOutsidePNetFlavB = pn_b / (pn_b + pn_c + pn_uds + pn_g)\n",
    "    j3_PNetFlavB = ak4JetOutsidePNetFlavB[0]\n",
    "    j4_PNetFlavB = ak4JetOutsidePNetFlavB[1]\n",
    "\n",
    "    j3_btag = j3_PNetFlavB\n",
    "    j4_btag = j4_PNetFlavB\n",
    "\n",
    "    pdf[\"logPtJ3\"] = np.log(j3.pt)  #\n",
    "    pdf[\"logPtJ4\"] = np.log(j4.pt)  #\n",
    "    pdf[\"j3_btag\"] = j3_btag  #\n",
    "    pdf[\"j4_btag\"] = j4_btag  #\n",
    "\n",
    "    pdf[\"dPhiJ3J4\"] = j3.deltaphi(j4)\n",
    "    pdf[\"dRJ3J4\"] = j3.deltaR(j4)  #\n",
    "    pdf[\"j3_j4_ratio\"] = j3.pt / j4.pt  #\n",
    "\n",
    "    # HH features\n",
    "    hh = h1 + h2\n",
    "    drh1h2 = np.sqrt((h1.eta - h2.eta) ** 2 + (h1.phi - h2.phi) ** 2)\n",
    "\n",
    "    pdf[\"logPtHH\"] = np.log(hh.pt)  #\n",
    "    pdf[\"HHMass\"] = hh.M  #\n",
    "    pdf[\"HHEta\"] = hh.eta  #  #\n",
    "\n",
    "    pdf[\"H1Pt_H2Pt\"] = h1.pt / h2.pt  #\n",
    "    pdf[\"dphi\"] = h1.deltaphi(h2)  #\n",
    "    pdf[\"deta\"] = h1.deltaeta(h2)  #\n",
    "    pdf[\"dRH1H2\"] = drh1h2  #\n",
    "\n",
    "    # Second fatjet\n",
    "    fj2 = fatjets[:, 1]\n",
    "    pdf[\"fj2_pt\"] = fj2.pt  #\n",
    "    pdf[\"fj2_eta\"] = fj2.eta  #\n",
    "    pdf[\"fj2_mass\"] = fj2.M  #\n",
    "\n",
    "    features = pdf.set_index(multiIndex)\n",
    "    return features"
   ]
  },
  {
   "cell_type": "code",
   "execution_count": 17,
   "id": "aec2bac0",
   "metadata": {},
   "outputs": [],
   "source": [
    "features = get_x_from_events(events)"
   ]
  },
  {
   "cell_type": "code",
   "execution_count": 18,
   "id": "d1b3327e-5620-47e6-af2a-12e60b0b8364",
   "metadata": {},
   "outputs": [],
   "source": [
    "# Splitting the dataset into (training & validating) and testing sets\n",
    "# train:val:test = 6:2:2\n",
    "X_train_val, X_test, yw_train_val, yw_test = train_test_split(\n",
    "    features, targets_weights, test_size=0.2, random_state=42\n",
    ")\n",
    "\n",
    "y_test = yw_test[\"target\"]\n",
    "w_test = yw_test[\"bal_weight\"]"
   ]
  },
  {
   "cell_type": "code",
   "execution_count": 19,
   "id": "99d2dd75-591d-4434-9e80-9668aa903cd8",
   "metadata": {},
   "outputs": [],
   "source": [
    "X_train, X_val, yw_train, yw_val = train_test_split(\n",
    "    X_train_val, yw_train_val, test_size=0.25, random_state=42\n",
    ")\n",
    "\n",
    "y_train = yw_train[\"target\"]\n",
    "w_train = yw_train[\"bal_weight\"]\n",
    "\n",
    "y_val = yw_val[\"target\"]\n",
    "w_val = yw_val[\"bal_weight\"]"
   ]
  },
  {
   "cell_type": "code",
   "execution_count": 20,
   "id": "d1c0f0ed-7ecd-4f2c-8a48-5981d0f21d4c",
   "metadata": {},
   "outputs": [],
   "source": [
    "events_train_val, events_test, _, _ = train_test_split(\n",
    "    events, targets_weights, test_size=0.2, random_state=42\n",
    ")"
   ]
  },
  {
   "cell_type": "code",
   "execution_count": 16,
   "id": "6bd27ba7",
   "metadata": {},
   "outputs": [],
   "source": [
    "def test_0_denom(events_test_0):\n",
    "    events_test_0 = events_test_dfs[0]\n",
    "\n",
    "    pn_c = events_test_0.ak4JetOutsidebtagPNetProbc + events_test_0.ak4JetOutsidebtagPNetProbcc\n",
    "    pn_uds = events_test_0.ak4JetOutsidebtagPNetProbuds\n",
    "    pn_g = events_test_0.ak4JetOutsidebtagPNetProbg\n",
    "\n",
    "    return np.any((pn_c + pn_uds + pn_g) == 0)"
   ]
  },
  {
   "cell_type": "code",
   "execution_count": null,
   "id": "ea251e6d",
   "metadata": {},
   "outputs": [],
   "source": [
    "np.isnan(X_train.loc[:, \"j3_btag\"]).any()"
   ]
  },
  {
   "cell_type": "markdown",
   "id": "a3401d51-452e-47c9-8bc2-fba5bc1b99e2",
   "metadata": {},
   "source": [
    "## Load model"
   ]
  },
  {
   "cell_type": "code",
   "execution_count": 21,
   "id": "906a8c6a-d227-4f63-b528-23f11ba4b0f4",
   "metadata": {},
   "outputs": [],
   "source": [
    "# Initialize the BDT model\n",
    "bdt_model = XGBClassifier(\n",
    "    n_estimators=196, max_depth=17, learning_rate=0.1, subsample=0.5, random_state=42\n",
    ")"
   ]
  },
  {
   "cell_type": "code",
   "execution_count": null,
   "id": "c80b81e4-064f-4dc3-a947-947a54caea29",
   "metadata": {},
   "outputs": [],
   "source": [
    "print(np.sum(w_train))"
   ]
  },
  {
   "cell_type": "code",
   "execution_count": null,
   "id": "a6293d97-c679-4624-8eb6-d58edba3f26b",
   "metadata": {},
   "outputs": [],
   "source": [
    "# Train the model\n",
    "bdt_model.fit(X_train, y_train, sample_weight=w_train)"
   ]
  },
  {
   "cell_type": "markdown",
   "id": "01003b58-96c9-488b-9adf-a4dea783675d",
   "metadata": {},
   "source": [
    "## Validate model"
   ]
  },
  {
   "cell_type": "code",
   "execution_count": null,
   "id": "d947c38d-d2ee-4fb2-bc93-71fc12d6f052",
   "metadata": {},
   "outputs": [],
   "source": [
    "y_val_scores = bdt_model.predict_proba(X_val)[:, 1]\n",
    "\n",
    "fpr, tpr, thresholds = roc_curve(y_val, y_val_scores, sample_weight=w_val)\n",
    "roc_auc = auc(fpr, tpr)\n",
    "\n",
    "# histogram for y scores signal & background\n",
    "# rank by importance\n",
    "\n",
    "# number of b-jets that can be identified in resolved\n",
    "# another feather cos(theta_star)\n",
    "\n",
    "# Plottting\n",
    "plt.figure()\n",
    "plt.plot(tpr, fpr, color=\"darkorange\", lw=2, label=f\"ROC curve (area = {roc_auc:.2f})\")\n",
    "plt.xlabel(\"Signal (HH)\")\n",
    "plt.ylabel(\"Background (QCD&ttbar)\")\n",
    "plt.title(\"ROC\")\n",
    "plt.legend(loc=\"upper left\")\n",
    "plt.yscale(\"log\")\n",
    "plt.show()"
   ]
  },
  {
   "cell_type": "markdown",
   "id": "2b2884d3-3cf4-4767-b7f8-c43948ce4b01",
   "metadata": {},
   "source": [
    "## Calculate Yields"
   ]
  },
  {
   "cell_type": "markdown",
   "id": "2b9f26f2-e7a6-455c-aee2-a812f5cf7d68",
   "metadata": {},
   "source": [
    "yeild = sum of weights_passed"
   ]
  },
  {
   "cell_type": "markdown",
   "id": "7dc16b39-9d8a-440e-ae28-4705919eb762",
   "metadata": {},
   "source": [
    "### Calculate efficiecy per bin"
   ]
  },
  {
   "cell_type": "code",
   "execution_count": 25,
   "id": "2f1ca9dd-ee67-47b8-9c3b-7e42120096f9",
   "metadata": {},
   "outputs": [],
   "source": [
    "hh_mass_bins = np.arange(400, 1601, 400)"
   ]
  },
  {
   "cell_type": "code",
   "execution_count": 26,
   "id": "46ba73b1-b18b-4122-8860-2bc102152330",
   "metadata": {},
   "outputs": [],
   "source": [
    "threshold = 0.5"
   ]
  },
  {
   "cell_type": "code",
   "execution_count": 27,
   "id": "d0e42815",
   "metadata": {},
   "outputs": [],
   "source": [
    "hh4b_scores = bdt_model.predict_proba(X_test.loc[\"hh4b\"])[:, 1]\n",
    "qcd_scores = bdt_model.predict_proba(X_test.loc[\"qcd\"])[:, 1]\n",
    "ttbar_scores = bdt_model.predict_proba(X_test.loc[\"ttbar\"])[:, 1]"
   ]
  },
  {
   "cell_type": "code",
   "execution_count": 78,
   "id": "75abb243",
   "metadata": {},
   "outputs": [],
   "source": [
    "thresholds = [0.5, 0.7, 0.8, 0.9, 0.95, 0.99]\n",
    "signal_yields = []\n",
    "qcd_yields = []\n",
    "ttbar_yields = []\n",
    "bg_yields = []\n",
    "\n",
    "for threshold in thresholds:\n",
    "    signal_yield = events_test.loc[\"hh4b\"][hh4b_scores > threshold][\"weight_nonorm\"].sum()\n",
    "    qcd_yield = events_test.loc[\"qcd\"][qcd_scores > threshold][\"weight_nonorm\"].sum()\n",
    "    ttbar_yield = events_test.loc[\"ttbar\"][ttbar_scores > threshold][\"weight_nonorm\"].sum()\n",
    "    bg_yield = qcd_yield + ttbar_yield\n",
    "\n",
    "    signal_yields.append(signal_yield)\n",
    "    qcd_yields.append(qcd_yield)\n",
    "    ttbar_yields.append(ttbar_yield)\n",
    "    bg_yields.append(bg_yield)"
   ]
  },
  {
   "cell_type": "code",
   "execution_count": null,
   "id": "bc448ae5-c82f-4eb2-be95-86e374f5abff",
   "metadata": {},
   "outputs": [],
   "source": [
    "ttbar_yields"
   ]
  },
  {
   "cell_type": "code",
   "execution_count": null,
   "id": "7b3b0a12",
   "metadata": {},
   "outputs": [],
   "source": [
    "fig, ax = plt.subplots(figsize=(8, 6))\n",
    "ax.plot(thresholds, signal_yields, label=\"signal\")\n",
    "ax.plot(thresholds, qcd_yields, label=\"qcd\")\n",
    "ax.plot(thresholds, ttbar_yields, label=\"ttbar\")\n",
    "ax.plot(thresholds, bg_yields, label=\"bg\")\n",
    "ax.legend()\n",
    "ax.set(title=\"Yields vs. BDT Score Cut\", xlabel=\"BDT Score Cut\", ylabel=\"Yields\")\n",
    "plt.show()"
   ]
  },
  {
   "cell_type": "code",
   "execution_count": null,
   "id": "4ab5f560",
   "metadata": {},
   "outputs": [],
   "source": [
    "fig, ax = plt.subplots(figsize=(8, 6))\n",
    "ax.plot(thresholds, signal_yields / np.sqrt(bg_yields))\n",
    "ax.set(\n",
    "    title=\"Signal/Sqrt(Background_Yield) vs. BDT Score Cut\", xlabel=\"BDT Score Cut\", ylabel=\"Ratio\"\n",
    ")\n",
    "plt.show()"
   ]
  },
  {
   "cell_type": "code",
   "execution_count": 32,
   "id": "e71b242e-976f-4172-b2ee-368e98477f41",
   "metadata": {},
   "outputs": [],
   "source": [
    "def get_HH_mass(events):\n",
    "    fatjets = make_vector(events, \"ak8FatJet\")  # fatjets sorted by xbb\n",
    "    h1 = fatjets[:, 0]\n",
    "\n",
    "    jets_outside = make_vector(events, \"ak4JetOutside\")  # sorted by b-score\n",
    "    j3 = jets_outside[:, 0]\n",
    "    j4 = jets_outside[:, 1]\n",
    "    h2 = j3 + j4\n",
    "\n",
    "    hh = h1 + h2\n",
    "    return hh.mass"
   ]
  },
  {
   "cell_type": "code",
   "execution_count": 33,
   "id": "af990308-1934-45ca-b5ac-04b7f23703d7",
   "metadata": {},
   "outputs": [],
   "source": [
    "hh_mass = get_HH_mass(events_test)"
   ]
  },
  {
   "cell_type": "code",
   "execution_count": null,
   "id": "67fe7c2b",
   "metadata": {},
   "outputs": [],
   "source": [
    "bin_indices = np.digitize(hh_mass, hh_mass_bins)\n",
    "print(np.min(bin_indices), np.max(bin_indices))"
   ]
  },
  {
   "cell_type": "code",
   "execution_count": 35,
   "id": "03e41cd9-1a9f-4a92-a4c0-ad23c6c2f454",
   "metadata": {},
   "outputs": [],
   "source": [
    "events_test[\"hh_mass\"] = hh_mass"
   ]
  },
  {
   "cell_type": "code",
   "execution_count": 36,
   "id": "41c800a1",
   "metadata": {},
   "outputs": [],
   "source": [
    "dtypes = events_test.dtypes"
   ]
  },
  {
   "cell_type": "code",
   "execution_count": 37,
   "id": "63ae6701-bec2-4b2c-a4f7-a01c747cee60",
   "metadata": {
    "scrolled": true
   },
   "outputs": [],
   "source": [
    "events_test_list_bins = [[], [], [], [], []]\n",
    "for index, event in zip(bin_indices, events_test.iterrows()):\n",
    "    events_test_list_bins[index].append(event[1])"
   ]
  },
  {
   "cell_type": "code",
   "execution_count": 38,
   "id": "f636a2a3-cbf7-429f-8175-e5d41460dcf7",
   "metadata": {},
   "outputs": [],
   "source": [
    "events_test_dfs = [[], [], [], [], []]\n",
    "for i, events_test_list_per_bin in enumerate(events_test_list_bins):\n",
    "    events_test_dfs[i] = pd.concat(events_test_list_per_bin, axis=1).transpose().astype(dtypes)"
   ]
  },
  {
   "cell_type": "code",
   "execution_count": 39,
   "id": "fe125694",
   "metadata": {},
   "outputs": [],
   "source": [
    "def calc_eff_bmr(events, bdt, threshold):\n",
    "    # eff = closest tpr\n",
    "\n",
    "    # get x and y\n",
    "    x = get_x_from_events(events)\n",
    "    yw = get_yw_from_events(events)\n",
    "    y = yw[\"target\"]\n",
    "    w = yw[\"weight\"]\n",
    "\n",
    "    # get predicted scores\n",
    "    y_scores = bdt.predict_proba(x)[:, 1]\n",
    "    fpr, tpr, thresholds = roc_curve(y, y_scores, sample_weight=w)\n",
    "    nearest_threshold_index = np.abs(thresholds - threshold).argmin()\n",
    "\n",
    "    eff = tpr[nearest_threshold_index]\n",
    "    bmr = fpr[nearest_threshold_index]\n",
    "    return eff, bmr"
   ]
  },
  {
   "cell_type": "code",
   "execution_count": null,
   "id": "4af0f5d5",
   "metadata": {},
   "outputs": [],
   "source": [
    "effs_per_bins = []\n",
    "bmrs_per_bins = []\n",
    "for events_df_per_bin in events_test_dfs:\n",
    "    eff, bmr = calc_eff_bmr(events_df_per_bin, bdt_model, threshold)\n",
    "    effs_per_bins.append(eff)\n",
    "    bmrs_per_bins.append(bmr)"
   ]
  },
  {
   "cell_type": "code",
   "execution_count": null,
   "id": "5d4ad5be",
   "metadata": {},
   "outputs": [],
   "source": [
    "events_test_dfs[0][\"weight_nonorm\"]"
   ]
  },
  {
   "cell_type": "markdown",
   "id": "b6a98d8a-c09f-4d9e-9aeb-9a1bf2e2dfe9",
   "metadata": {},
   "source": [
    "## Make BDT score cuts"
   ]
  },
  {
   "cell_type": "code",
   "execution_count": 42,
   "id": "7ed17dae-140c-4ea8-a2c4-37fe50f8f59d",
   "metadata": {},
   "outputs": [],
   "source": [
    "def BDT_classify(events, BDT_scores, cut):\n",
    "    signal_idx = BDT_scores >= cut\n",
    "    bg_idx = ~signal_idx\n",
    "\n",
    "    signals = events[signal_idx]\n",
    "    backgrounds = events[bg_idx]\n",
    "    return signals, backgrounds"
   ]
  },
  {
   "cell_type": "code",
   "execution_count": 43,
   "id": "1dfbf590",
   "metadata": {},
   "outputs": [],
   "source": [
    "threshold = 0.95"
   ]
  },
  {
   "cell_type": "code",
   "execution_count": 44,
   "id": "a78d3c03-69de-4279-9f7e-f485eb8209f4",
   "metadata": {},
   "outputs": [],
   "source": [
    "BDTsignals_hh4b, _ = BDT_classify(events_test.loc[\"hh4b\"], hh4b_scores, threshold)\n",
    "BDTsignals_qcd, _ = BDT_classify(events_test.loc[\"qcd\"], qcd_scores, threshold)\n",
    "BDTsignals_ttbar, _ = BDT_classify(events_test.loc[\"ttbar\"], ttbar_scores, threshold)"
   ]
  },
  {
   "cell_type": "code",
   "execution_count": 45,
   "id": "d498c484-964e-41dd-b3b5-5fe58f039695",
   "metadata": {},
   "outputs": [],
   "source": [
    "# Get BDT scores\n",
    "hh4b_scores = bdt_model.predict_proba(X_test.loc[\"hh4b\"])[:, 1]\n",
    "qcd_scores = bdt_model.predict_proba(X_test.loc[\"qcd\"])[:, 1]\n",
    "ttbar_scores = bdt_model.predict_proba(X_test.loc[\"ttbar\"])[:, 1]\n",
    "\n",
    "BDT_scores = [hh4b_scores, qcd_scores, ttbar_scores]"
   ]
  },
  {
   "cell_type": "markdown",
   "id": "5944d695-124a-4355-be41-d170dfcfb9f6",
   "metadata": {},
   "source": [
    "## Construct analysis pipeline\n",
    "\n",
    "Events -> BDT -> Signal/Bg\n",
    "\n",
    "Plot signals with gen categories"
   ]
  },
  {
   "cell_type": "code",
   "execution_count": 46,
   "id": "fd126466-30cb-4b3f-8f52-d8b771757a47",
   "metadata": {},
   "outputs": [],
   "source": [
    "# Get BDT scores\n",
    "hh4b_scores = bdt_model.predict_proba(X_test.loc[\"hh4b\"])[:, 1]\n",
    "qcd_scores = bdt_model.predict_proba(X_test.loc[\"qcd\"])[:, 1]\n",
    "ttbar_scores = bdt_model.predict_proba(X_test.loc[\"ttbar\"])[:, 1]\n",
    "\n",
    "BDT_scores = [hh4b_scores, qcd_scores, ttbar_scores]"
   ]
  },
  {
   "cell_type": "code",
   "execution_count": null,
   "id": "5563ee83-f602-4caa-8f86-f77726697c1d",
   "metadata": {},
   "outputs": [],
   "source": [
    "plt.figure()\n",
    "plt.hist(\n",
    "    hh4b_scores,\n",
    "    weights=events_test.loc[\"hh4b\"][\"weight\"],\n",
    "    bins=40,\n",
    "    histtype=\"step\",\n",
    "    linewidth=1.5,\n",
    "    color=\"darkblue\",\n",
    ")\n",
    "plt.hist(\n",
    "    qcd_scores,\n",
    "    weights=events_test.loc[\"qcd\"][\"weight\"],\n",
    "    bins=40,\n",
    "    histtype=\"step\",\n",
    "    linewidth=1.5,\n",
    "    color=\"red\",\n",
    ")\n",
    "plt.hist(\n",
    "    ttbar_scores,\n",
    "    weights=events_test.loc[\"ttbar\"][\"weight\"],\n",
    "    bins=40,\n",
    "    histtype=\"step\",\n",
    "    linewidth=1.5,\n",
    "    color=\"darkgreen\",\n",
    ")\n",
    "plt.legend([\"hh4b\", \"qcd\", \"ttbar\"])\n",
    "plt.ylabel(\"Frequency\")\n",
    "plt.xlabel(\"Prediciton Score\")\n",
    "plt.title(\"Model Predictions Histogram\")\n",
    "plt.yscale(\"log\")\n",
    "plt.show()"
   ]
  },
  {
   "cell_type": "code",
   "execution_count": 48,
   "id": "c21d45a9-9fae-4e43-8b34-100feb411632",
   "metadata": {},
   "outputs": [],
   "source": [
    "# Categorize with a threshold"
   ]
  },
  {
   "cell_type": "code",
   "execution_count": 49,
   "id": "bfd18ceb-d695-4b39-a16f-b1f651d94e86",
   "metadata": {},
   "outputs": [],
   "source": [
    "def BDT_classify(events, BDT_scores, cut):\n",
    "    signal_idx = BDT_scores >= cut\n",
    "    bg_idx = ~signal_idx\n",
    "\n",
    "    signals = events[signal_idx]\n",
    "    backgrounds = events[bg_idx]\n",
    "    return signals, backgrounds"
   ]
  },
  {
   "cell_type": "code",
   "execution_count": 50,
   "id": "cc9418be-2b3f-4c2c-b201-4caeab385728",
   "metadata": {},
   "outputs": [],
   "source": [
    "## helper functions"
   ]
  },
  {
   "cell_type": "code",
   "execution_count": 51,
   "id": "60a8909f-ddb0-4906-8537-da47f76adf48",
   "metadata": {},
   "outputs": [],
   "source": [
    "def get_H1_mass(events):\n",
    "    fatjets = make_vector(events, \"ak8FatJet\")  # fatjets sorted by xbb\n",
    "    h1 = fatjets[:, 0]\n",
    "    return h1.mass"
   ]
  },
  {
   "cell_type": "code",
   "execution_count": 52,
   "id": "3d60cfeb-1fa8-43eb-ae0e-ddb60c08030a",
   "metadata": {},
   "outputs": [],
   "source": [
    "def get_H2_mass(events):\n",
    "    jets_outside = make_vector(events, \"ak4JetOutside\")  # sorted by b-score\n",
    "    j3 = jets_outside[:, 0]\n",
    "    j4 = jets_outside[:, 1]\n",
    "    h2 = j3 + j4\n",
    "    return h2.mass"
   ]
  },
  {
   "cell_type": "code",
   "execution_count": 53,
   "id": "720e2f74-579a-4351-9bef-60adc0fcde45",
   "metadata": {},
   "outputs": [],
   "source": [
    "def get_HH_mass(events):\n",
    "    fatjets = make_vector(events, \"ak8FatJet\")  # fatjets sorted by xbb\n",
    "    h1 = fatjets[:, 0]\n",
    "\n",
    "    jets_outside = make_vector(events, \"ak4JetOutside\")  # sorted by b-score\n",
    "    j3 = jets_outside[:, 0]\n",
    "    j4 = jets_outside[:, 1]\n",
    "    h2 = j3 + j4\n",
    "\n",
    "    hh = h1 + h2\n",
    "    return hh.mass"
   ]
  },
  {
   "cell_type": "code",
   "execution_count": 84,
   "id": "0c96dd7d-8291-469a-a1ca-8221a8acd66d",
   "metadata": {},
   "outputs": [],
   "source": [
    "def analyze_SemiBoosted_BDT_output(events_test, BDT_scores, threshold, tag):\n",
    "    hh4b_scores, qcd_scores, ttbar_scores = BDT_scores\n",
    "\n",
    "    hh4b_weights = events_test.loc[\"hh4b\"][hh4b_scores > threshold][\"weight\"]\n",
    "    qcd_weights = events_test.loc[\"qcd\"][qcd_scores > threshold][\"weight\"]\n",
    "    ttbar_weights = events_test.loc[\"ttbar\"][ttbar_scores > threshold][\"weight\"]\n",
    "\n",
    "    BDTsignals_hh4b, _ = BDT_classify(events_test.loc[\"hh4b\"], hh4b_scores, threshold)\n",
    "    BDTsignals_qcd, _ = BDT_classify(events_test.loc[\"qcd\"], qcd_scores, threshold)\n",
    "    BDTsignals_ttbar, _ = BDT_classify(events_test.loc[\"ttbar\"], ttbar_scores, threshold)\n",
    "\n",
    "    # H1 mass\n",
    "    h1_mass_hh4b = get_H1_mass(BDTsignals_hh4b)\n",
    "    h1_mass_qcd = get_H1_mass(BDTsignals_qcd)\n",
    "    h1_mass_ttbar = get_H1_mass(BDTsignals_ttbar)\n",
    "\n",
    "    plt.figure()\n",
    "    plt.hist(\n",
    "        h1_mass_hh4b,\n",
    "        bins=np.linspace(0, 250, 50),\n",
    "        weights=hh4b_weights,\n",
    "        histtype=\"step\",\n",
    "        linewidth=1.5,\n",
    "        color=\"darkblue\",\n",
    "    )\n",
    "    plt.hist(\n",
    "        h1_mass_qcd,\n",
    "        bins=np.linspace(0, 250, 50),\n",
    "        weights=qcd_weights,\n",
    "        histtype=\"step\",\n",
    "        linewidth=1.5,\n",
    "        color=\"red\",\n",
    "    )\n",
    "    plt.hist(\n",
    "        h1_mass_ttbar,\n",
    "        bins=np.linspace(0, 250, 50),\n",
    "        weights=ttbar_weights,\n",
    "        histtype=\"step\",\n",
    "        linewidth=1.5,\n",
    "        color=\"darkgreen\",\n",
    "    )\n",
    "    plt.legend([\"hh4b\", \"qcd\", \"ttbar\"])\n",
    "    plt.ylabel(\"Frequency\")\n",
    "    plt.xlabel(\"H1 Mass (GeV)\")\n",
    "    plt.title(f\"BDT SemiBoosted Signal's H1 Mass {tag}\")\n",
    "    plt.savefig(f\"BDT_signal_H1_mass_{tag}.png\")\n",
    "\n",
    "    # H2 mass\n",
    "    h2_mass_hh4b = get_H2_mass(BDTsignals_hh4b)\n",
    "    h2_mass_qcd = get_H2_mass(BDTsignals_qcd)\n",
    "    # h2_mass_ttbar = get_H2_mass(BDTsignals_ttbar)\n",
    "\n",
    "    plt.figure()\n",
    "    plt.hist(\n",
    "        h2_mass_hh4b,\n",
    "        bins=np.linspace(0, 250, 50),  # weights=hh4b_weights,\n",
    "        histtype=\"step\",\n",
    "        linewidth=1.5,\n",
    "        color=\"darkblue\",\n",
    "    )\n",
    "    plt.hist(\n",
    "        h2_mass_qcd,\n",
    "        bins=np.linspace(0, 250, 50),  # weights=qcd_weights,\n",
    "        histtype=\"step\",\n",
    "        linewidth=1.5,\n",
    "        color=\"red\",\n",
    "    )\n",
    "    # plt.hist(h2_mass_ttbar, bins=np.linspace(0, 250, 50), weights=ttbar_weights, histtype=\"step\", linewidth=1.5, color=\"darkgreen\")\n",
    "    plt.legend([\"hh4b\", \"qcd\", \"ttbar\"])\n",
    "    plt.ylabel(\"Frequency\")\n",
    "    plt.xlabel(\"H2 Mass (GeV)\")\n",
    "    plt.title(f\"BDT SemiBoosted Signal's H2 Mass {tag}\")\n",
    "    plt.savefig(f\"BDT_signal_H2_mass_{tag}.png\")\n",
    "\n",
    "    # HH mass\n",
    "    hh_mass_hh4b = get_HH_mass(BDTsignals_hh4b)\n",
    "    hh_mass_qcd = get_HH_mass(BDTsignals_qcd)\n",
    "    # hh_mass_ttbar = get_HH_mass(BDTsignals_ttbar)\n",
    "\n",
    "    plt.figure()\n",
    "    plt.hist(\n",
    "        hh_mass_hh4b,\n",
    "        bins=np.linspace(0, 1800, 50),  # weights=hh4b_weights,\n",
    "        histtype=\"step\",\n",
    "        linewidth=1.5,\n",
    "        color=\"darkblue\",\n",
    "    )\n",
    "    plt.hist(\n",
    "        hh_mass_qcd,\n",
    "        bins=np.linspace(0, 1800, 50),  # weights=qcd_weights,\n",
    "        histtype=\"step\",\n",
    "        linewidth=1.5,\n",
    "        color=\"red\",\n",
    "    )\n",
    "    # plt.hist(hh_mass_ttbar, bins=np.linspace(0, 1800, 50), weights=ttbar_weights, histtype=\"step\", linewidth=1.5, color=\"darkgreen\")\n",
    "    plt.legend([\"hh4b\", \"qcd\", \"ttbar\"])\n",
    "    plt.ylabel(\"Frequency\")\n",
    "    plt.xlabel(\"HH Mass (GeV)\")\n",
    "    plt.title(f\"BDT SemiBoosted Signal's HH mass {tag}\")\n",
    "    plt.savefig(f\"BDT_signal_HH_mass_{tag}.png\")"
   ]
  },
  {
   "cell_type": "code",
   "execution_count": null,
   "id": "e0d047f5-fcb4-4abf-bdeb-36c96034483c",
   "metadata": {},
   "outputs": [],
   "source": [
    "analyze_SemiBoosted_BDT_output(events_test, BDT_scores, 0.99, \"0.99\")"
   ]
  },
  {
   "cell_type": "code",
   "execution_count": null,
   "id": "46fe4dca",
   "metadata": {},
   "outputs": [],
   "source": []
  },
  {
   "cell_type": "code",
   "execution_count": null,
   "id": "f6afa6c4-ddcf-4e24-a799-de3f17cd1719",
   "metadata": {},
   "outputs": [],
   "source": []
  },
  {
   "cell_type": "code",
   "execution_count": null,
   "id": "c967aa69-b666-4dfe-ab5f-183ffd9329d2",
   "metadata": {},
   "outputs": [],
   "source": []
  },
  {
   "cell_type": "code",
   "execution_count": null,
   "id": "2fa7c870-d7e6-47d1-b74d-0ed5e197ebf6",
   "metadata": {},
   "outputs": [],
   "source": []
  }
 ],
 "metadata": {
  "kernelspec": {
   "display_name": "Python 3 (ipykernel)",
   "language": "python",
   "name": "python3"
  },
  "language_info": {
   "codemirror_mode": {
    "name": "ipython",
    "version": 3
   },
   "file_extension": ".py",
   "mimetype": "text/x-python",
   "name": "python",
   "nbconvert_exporter": "python",
   "pygments_lexer": "ipython3",
   "version": "3.10.13"
  }
 },
 "nbformat": 4,
 "nbformat_minor": 5
}
