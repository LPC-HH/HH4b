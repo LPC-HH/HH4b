{
 "cells": [
  {
   "cell_type": "code",
   "execution_count": null,
   "metadata": {},
   "outputs": [],
   "source": [
    "import hist\n",
    "import os\n",
    "from HH4b import utils\n",
    "from HH4b.postprocessing import Region, weight_shifts, bb_assignment\n",
    "import pandas as pd\n",
    "import mplhep as hep\n",
    "\n",
    "import matplotlib.pyplot as plt\n",
    "import mplhep as hep\n",
    "import matplotlib.ticker as mticker\n",
    "\n",
    "hep.style.use([\"CMS\", \"firamath\"])\n",
    "\n",
    "formatter = mticker.ScalarFormatter(useMathText=True)\n",
    "formatter.set_powerlimits((-3, 3))\n",
    "plt.rcParams.update({\"font.size\": 12})\n",
    "plt.rcParams[\"lines.linewidth\"] = 2\n",
    "plt.rcParams[\"grid.color\"] = \"#CCCCCC\"\n",
    "plt.rcParams[\"grid.linewidth\"] = 0.5\n",
    "plt.rcParams[\"figure.edgecolor\"] = \"none\""
   ]
  },
  {
   "cell_type": "markdown",
   "metadata": {},
   "source": [
    "# PNet mass check"
   ]
  },
  {
   "cell_type": "markdown",
   "metadata": {},
   "source": []
  },
  {
   "cell_type": "code",
   "execution_count": null,
   "metadata": {},
   "outputs": [],
   "source": [
    "sample = \"GluGlutoHHto4B_kl-1p00_kt-1p00_c2-0p00_TuneCP5_13p6TeV_TSG_Pu60\"\n",
    "year = \"2022EE\"\n",
    "\n",
    "data_dir = f\"/eos/uscms/store/user/cmantill/bbbb/skimmer/23Nov11_v12/\"\n",
    "events = pd.read_parquet(f\"{data_dir}/{year}/{sample}/parquet\", filters=None)\n",
    "\n",
    "data_dir_noraw = f\"/eos/uscms/store/user/rkansal/bbbb/skimmer/23Nov9_v12/\"\n",
    "events_noraw = pd.read_parquet(f\"{data_dir_noraw}/{year}/{sample}/parquet\", filters=None)\n",
    "\n",
    "data_dir_v11 = f\"/eos/uscms/store/user/cmantill/bbbb/skimmer/23Nov11_v11/\"\n",
    "events_v11 = pd.read_parquet(f\"{data_dir_v11}/{year}/{sample}/parquet\", filters=None)"
   ]
  },
  {
   "cell_type": "code",
   "execution_count": null,
   "metadata": {},
   "outputs": [],
   "source": [
    "events.ak8FatJetPNetMass[0].to_numpy()"
   ]
  },
  {
   "cell_type": "code",
   "execution_count": null,
   "metadata": {},
   "outputs": [],
   "source": [
    "mass_axis = hist.axis.Regular(40, 0, 200, name=\"mass\", label=r\"Mass [GeV]\")\n",
    "cat_axis = hist.axis.StrCategory([], name=\"cat\", growth=True)\n",
    "\n",
    "h = hist.Hist(mass_axis, cat_axis)\n",
    "\n",
    "h.fill(mass=events.ak8FatJetPNetMass[0].to_numpy(), cat=\"PNet\")\n",
    "h.fill(mass=events_noraw.ak8FatJetPNetMass[0].to_numpy(), cat=\"PNet_noraw\")\n",
    "h.fill(mass=events.ak8FatJetMsd[0].to_numpy(), cat=\"Msd\")\n",
    "h.fill(mass=events_v11.ak8FatJetPNetMass[0].to_numpy(), cat=\"PNet_v11\")\n",
    "h.fill(mass=events_v11.ak8FatJetMsd[0].to_numpy(), cat=\"Msd_v11\")\n",
    "\n",
    "fig, ax = plt.subplots(1, 1, figsize=(6, 4))\n",
    "hep.histplot(\n",
    "    h[{\"cat\": \"PNet\"}],\n",
    "    ax=ax,\n",
    "    label=\"FatJet Raw Mass * PNet_corr\",\n",
    "    histtype=\"fill\",\n",
    "    hatch=r\"\\\\\\\\\",\n",
    "    alpha=0.2,\n",
    "    facecolor=\"blue\",\n",
    "    edgecolor=\"black\",\n",
    "    linewidth=1,\n",
    "    flow=\"none\",\n",
    "    density=True,\n",
    ")\n",
    "hep.histplot(\n",
    "    h[{\"cat\": \"PNet_noraw\"}],\n",
    "    ax=ax,\n",
    "    label=\"FatJet Mass * PNet_corr\",\n",
    "    flow=\"none\",\n",
    "    density=True,\n",
    "    color=\"red\",\n",
    ")\n",
    "hep.histplot(\n",
    "    h[{\"cat\": \"Msd\"}],\n",
    "    ax=ax,\n",
    "    label=\"Softdrop\",\n",
    "    flow=\"none\",\n",
    "    density=True,\n",
    "    color=\"green\",\n",
    ")\n",
    "ax.legend(title=\"HH4b v12\")\n",
    "\n",
    "fig, ax = plt.subplots(1, 1, figsize=(6, 4))\n",
    "hep.histplot(\n",
    "    h[{\"cat\": \"PNet_v11\"}],\n",
    "    ax=ax,\n",
    "    label=\"PNet mass\",\n",
    "    histtype=\"fill\",\n",
    "    hatch=r\"\\\\\\\\\",\n",
    "    alpha=0.2,\n",
    "    facecolor=\"blue\",\n",
    "    edgecolor=\"black\",\n",
    "    linewidth=1,\n",
    "    flow=\"none\",\n",
    "    density=True,\n",
    "    color=\"red\",\n",
    ")\n",
    "hep.histplot(\n",
    "    h[{\"cat\": \"Msd_v11\"}], ax=ax, label=\"Softdrop\", flow=\"none\", density=True, color=\"green\"\n",
    ")\n",
    "ax.legend(title=\"HH4b v11\")\n",
    "\n",
    "fig, ax = plt.subplots(1, 1, figsize=(6, 4))\n",
    "hep.histplot(\n",
    "    h[{\"cat\": \"PNet_v11\"}], ax=ax, label=\"PNet v11\", flow=\"none\", density=True, color=\"blue\"\n",
    ")\n",
    "hep.histplot(h[{\"cat\": \"PNet\"}], ax=ax, label=\"PNet v12\", flow=\"none\", density=True, color=\"violet\")\n",
    "ax.legend(title=\"HH4b\")"
   ]
  },
  {
   "cell_type": "code",
   "execution_count": null,
   "metadata": {},
   "outputs": [],
   "source": []
  }
 ],
 "metadata": {
  "kernelspec": {
   "display_name": "coffea-env",
   "language": "python",
   "name": "python3"
  },
  "language_info": {
   "codemirror_mode": {
    "name": "ipython",
    "version": 3
   },
   "file_extension": ".py",
   "mimetype": "text/x-python",
   "name": "python",
   "nbconvert_exporter": "python",
   "pygments_lexer": "ipython3",
   "version": "3.8.16"
  },
  "orig_nbformat": 4
 },
 "nbformat": 4,
 "nbformat_minor": 2
}
