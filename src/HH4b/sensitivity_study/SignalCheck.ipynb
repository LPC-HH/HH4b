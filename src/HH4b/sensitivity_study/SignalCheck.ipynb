{
 "cells": [
  {
   "cell_type": "markdown",
   "metadata": {},
   "source": [
    "Checking Run 3 signal kinematics against Run 2\n",
    "\n",
    "Author(s): Raghav Kansal"
   ]
  },
  {
   "cell_type": "code",
   "execution_count": null,
   "metadata": {},
   "outputs": [],
   "source": [
    "import os\n",
    "from collections import OrderedDict\n",
    "import coffea\n",
    "from coffea import nanoevents\n",
    "import numpy as np\n",
    "import awkward as ak\n",
    "import pandas as pd\n",
    "from hist.intervals import ratio_uncertainty"
   ]
  },
  {
   "cell_type": "code",
   "execution_count": null,
   "metadata": {},
   "outputs": [],
   "source": [
    "import matplotlib.pyplot as plt\n",
    "import matplotlib.ticker as mticker\n",
    "\n",
    "# mplhep for CMS-style plots\n",
    "import mplhep as hep\n",
    "\n",
    "plt.style.use(hep.style.CMS)\n",
    "hep.style.use(\"CMS\")\n",
    "formatter = mticker.ScalarFormatter(useMathText=True)\n",
    "formatter.set_powerlimits((-3, 3))\n",
    "plt.rcParams.update({\"font.size\": 16})"
   ]
  },
  {
   "cell_type": "code",
   "execution_count": null,
   "metadata": {},
   "outputs": [],
   "source": [
    "MAIN_DIR = \"../../../\"\n",
    "\n",
    "plot_dir = f\"{MAIN_DIR}/plots/SignalCheck/23Oct27\"\n",
    "_ = os.system(f\"mkdir -p {plot_dir}\")"
   ]
  },
  {
   "cell_type": "code",
   "execution_count": null,
   "metadata": {},
   "outputs": [],
   "source": [
    "run2_sig_path = \"/eos/uscms/store/user/lpcpfnano/cmantill/v2_3/2018/HH/GluGluToHHTo4B_node_cHHH1_TuneCP5_PSWeights_13TeV-powheg-pythia8/GluGluToHHTo4B_node_cHHH1_preUL/230217_205036/0000/nano_mc2018_1.root\"\n",
    "\n",
    "# Can't open this directly with Coffea for some reason...\n",
    "# run3_sig_path = \"root://cmsdcadisk.fnal.gov//dcache/uscmsdisk/store/mc/Run3Summer22EENanoAODv10/GluGlutoHHto4B_kl-1p00_kt-1p00_c2-0p00_TuneCP5_13p6TeV_powheg-pythia8/NANOAODSIM/Poisson70KeepRAW_124X_mcRun3_2022_realistic_postEE_v1-v1/30000/d00363f4-0cac-410d-8fc7-bb6f60ccb6cd.root\"\n",
    "\n",
    "run3_sig_path = \"/eos/uscms/store/user/rkansal/bbbb/nano/Run3Summer22EENanoAODv10/GluGlutoHHto4B_kl-1p00_kt-1p00_c2-0p00_TuneCP5_13p6TeV_powheg-pythia8/d00363f4-0cac-410d-8fc7-bb6f60ccb6cd.root\""
   ]
  },
  {
   "cell_type": "code",
   "execution_count": null,
   "metadata": {},
   "outputs": [],
   "source": [
    "events_dict = OrderedDict()\n",
    "events_dict[\"run2\"] = nanoevents.NanoEventsFactory.from_root(\n",
    "    run2_sig_path, schemaclass=nanoevents.NanoAODSchema\n",
    ").events()\n",
    "events_dict[\"run3\"] = nanoevents.NanoEventsFactory.from_root(\n",
    "    run3_sig_path, schemaclass=nanoevents.NanoAODSchema\n",
    ").events()"
   ]
  },
  {
   "cell_type": "code",
   "execution_count": null,
   "metadata": {},
   "outputs": [],
   "source": [
    "GEN_FLAGS = [\"fromHardProcess\", \"isLastCopy\"]\n",
    "HIGGS_PDGID = 25\n",
    "\n",
    "higgs_dict = {}\n",
    "for key, events in events_dict.items():\n",
    "    genvars = {}\n",
    "    # finding the two gen higgs\n",
    "    higgs = events.GenPart[\n",
    "        (abs(events.GenPart.pdgId) == HIGGS_PDGID) * events.GenPart.hasFlags(GEN_FLAGS)\n",
    "    ]\n",
    "    higgs[ak.argsort(higgs.pt, axis=1, ascending=False)]\n",
    "\n",
    "    higgs_children = higgs.children\n",
    "    for i in range(2):\n",
    "        bb = higgs_children[:, i]\n",
    "        bb[ak.argsort(bb.pt, axis=1, ascending=False)]\n",
    "        genvars[f\"bb{i}\"] = bb\n",
    "\n",
    "    genvars[\"higgs\"] = higgs\n",
    "    higgs_dict[key] = genvars"
   ]
  },
  {
   "cell_type": "markdown",
   "metadata": {},
   "source": [
    "Plot Gen Kinematics"
   ]
  },
  {
   "cell_type": "code",
   "execution_count": null,
   "metadata": {},
   "outputs": [],
   "source": [
    "key_label_map = {\n",
    "    \"run2\": \"Run 2 HH4b\",\n",
    "    \"run3\": \"Run 3 HH4b (TSG)\",\n",
    "}\n",
    "\n",
    "higgs_var_map = {\n",
    "    \"pt\": (np.linspace(0, 600, 31), r\"$p_T$ (GeV)\"),\n",
    "    \"eta\": (np.linspace(-5, 5, 31), r\"$\\eta$\"),\n",
    "}\n",
    "\n",
    "bb_var_map = {\n",
    "    \"pt\": (np.linspace(0, 400, 21), r\"$p_T$ (GeV)\"),\n",
    "}"
   ]
  },
  {
   "cell_type": "code",
   "execution_count": null,
   "metadata": {},
   "outputs": [],
   "source": [
    "for var, (bins, var_label) in higgs_var_map.items():\n",
    "    for i in range(2):\n",
    "        fig, (ax, rax) = plt.subplots(\n",
    "            2, 1, figsize=(12, 14), gridspec_kw=dict(height_ratios=[4, 1], hspace=0.07), sharex=True\n",
    "        )\n",
    "\n",
    "        hists = []\n",
    "\n",
    "        for key, genvars in higgs_dict.items():\n",
    "            h = np.histogram(genvars[\"higgs\"][var][:, i], bins)\n",
    "            hep.histplot(\n",
    "                h,\n",
    "                yerr=True,\n",
    "                label=key_label_map[key],\n",
    "                density=True,\n",
    "                ax=ax,\n",
    "            )\n",
    "\n",
    "            hists.append(h[0])\n",
    "\n",
    "        ax.set_ylabel(\"Events (A.U.)\")\n",
    "        ax.set_xlim(bins[0], bins[-1])\n",
    "        ax.legend(fancybox=True)\n",
    "\n",
    "        scale = np.sum(hists[0]) / np.sum(hists[1])\n",
    "        yerr = ratio_uncertainty(hists[1], hists[0], \"poisson-ratio\") * scale\n",
    "        hep.histplot(\n",
    "            hists[1] / hists[0] * scale,\n",
    "            bins,\n",
    "            yerr=yerr,\n",
    "            ax=rax,\n",
    "            histtype=\"errorbar\",\n",
    "            color=\"black\",\n",
    "            capsize=4,\n",
    "        )\n",
    "\n",
    "        rax.hlines(1, -1000, bins[-1], color=\"lightgray\", linestyles=\"--\")\n",
    "        rax.set_xlabel(f\"Gen Higgs {i + 1} {var_label}\")\n",
    "        rax.set_ylabel(\"Run 3 / Run 2\")\n",
    "        rax.set_ylim([0, 2])\n",
    "        # plt.legend()\n",
    "        plt.savefig(f\"{plot_dir}/higgs{i}_{var}.pdf\", bbox_inches=\"tight\")\n",
    "        plt.show()"
   ]
  },
  {
   "cell_type": "code",
   "execution_count": null,
   "metadata": {},
   "outputs": [],
   "source": [
    "for var, (bins, var_label) in bb_var_map.items():\n",
    "    for i in range(2):\n",
    "        for j in range(2):\n",
    "            fig, (ax, rax) = plt.subplots(\n",
    "                2,\n",
    "                1,\n",
    "                figsize=(12, 14),\n",
    "                gridspec_kw=dict(height_ratios=[4, 1], hspace=0.07),\n",
    "                sharex=True,\n",
    "            )\n",
    "\n",
    "            hists = []\n",
    "\n",
    "            for key, genvars in higgs_dict.items():\n",
    "                h = np.histogram(genvars[f\"bb{i}\"][var][:, j], bins)\n",
    "                hep.histplot(\n",
    "                    h,\n",
    "                    yerr=True,\n",
    "                    label=key_label_map[key],\n",
    "                    density=True,\n",
    "                    ax=ax,\n",
    "                )\n",
    "                hists.append(h[0])\n",
    "\n",
    "            ax.set_ylabel(\"Events (A.U.)\")\n",
    "            ax.set_xlim(bins[0], bins[-1])\n",
    "            ax.legend(fancybox=True)\n",
    "\n",
    "            scale = np.sum(hists[0]) / np.sum(hists[1])\n",
    "            yerr = ratio_uncertainty(hists[1], hists[0], \"poisson-ratio\") * scale\n",
    "            hep.histplot(\n",
    "                hists[1] / hists[0] * scale,\n",
    "                bins,\n",
    "                yerr=yerr,\n",
    "                ax=rax,\n",
    "                histtype=\"errorbar\",\n",
    "                color=\"black\",\n",
    "                capsize=4,\n",
    "            )\n",
    "\n",
    "            rax.hlines(1, -1000, bins[-1], color=\"lightgray\", linestyles=\"--\")\n",
    "            rax.set_xlabel(f\"Gen Higgs {i + 1} bb Daughter {j + 1} {var_label}\")\n",
    "            rax.set_ylabel(\"Run 3 / Run 2\")\n",
    "            rax.set_ylim([0, 2])\n",
    "\n",
    "            plt.savefig(f\"{plot_dir}/higgs{i}_bb{j}_{var}.pdf\", bbox_inches=\"tight\")\n",
    "            plt.show()"
   ]
  },
  {
   "cell_type": "markdown",
   "metadata": {},
   "source": [
    "Trigger comparison"
   ]
  },
  {
   "cell_type": "markdown",
   "metadata": {},
   "source": []
  }
 ],
 "metadata": {
  "kernelspec": {
   "display_name": "python39",
   "language": "python",
   "name": "python3"
  },
  "language_info": {
   "codemirror_mode": {
    "name": "ipython",
    "version": 3
   },
   "file_extension": ".py",
   "mimetype": "text/x-python",
   "name": "python",
   "nbconvert_exporter": "python",
   "pygments_lexer": "ipython3",
   "version": "3.10.11"
  }
 },
 "nbformat": 4,
 "nbformat_minor": 2
}
