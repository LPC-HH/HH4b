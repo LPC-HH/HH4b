{
 "cells": [
  {
   "cell_type": "markdown",
   "metadata": {},
   "source": [
    "Checking Run 3 signal kinematics against Run 2\n",
    "\n",
    "Author(s): Raghav Kansal"
   ]
  },
  {
   "cell_type": "code",
   "execution_count": null,
   "metadata": {},
   "outputs": [],
   "source": [
    "import os\n",
    "import pickle\n",
    "from collections import OrderedDict\n",
    "import coffea\n",
    "from coffea import nanoevents\n",
    "from coffea.lookup_tools.dense_lookup import dense_lookup\n",
    "import numpy as np\n",
    "import awkward as ak\n",
    "import pandas as pd\n",
    "from hist.intervals import ratio_uncertainty, clopper_pearson_interval\n",
    "import hist\n",
    "from hist import Hist"
   ]
  },
  {
   "cell_type": "code",
   "execution_count": null,
   "metadata": {},
   "outputs": [],
   "source": [
    "import matplotlib as mpl\n",
    "import matplotlib.pyplot as plt\n",
    "import matplotlib.ticker as mticker\n",
    "\n",
    "# mplhep for CMS-style plots\n",
    "import mplhep as hep\n",
    "\n",
    "plt.style.use(hep.style.CMS)\n",
    "hep.style.use(\"CMS\")\n",
    "formatter = mticker.ScalarFormatter(useMathText=True)\n",
    "formatter.set_powerlimits((-3, 3))\n",
    "mpl.rcParams[\"font.size\"] = 28"
   ]
  },
  {
   "cell_type": "code",
   "execution_count": null,
   "metadata": {},
   "outputs": [],
   "source": [
    "MAIN_DIR = \"../../../\"\n",
    "\n",
    "plot_dir = f\"{MAIN_DIR}/plots/SignalCheck/23Oct27\"\n",
    "_ = os.system(f\"mkdir -p {plot_dir}\")"
   ]
  },
  {
   "cell_type": "code",
   "execution_count": null,
   "metadata": {},
   "outputs": [],
   "source": [
    "run2_sig_path = \"/eos/uscms/store/user/lpcpfnano/cmantill/v2_3/2018/HH/GluGluToHHTo4B_node_cHHH1_TuneCP5_PSWeights_13TeV-powheg-pythia8/GluGluToHHTo4B_node_cHHH1_preUL/230217_205036/0000/nano_mc2018_1.root\"\n",
    "\n",
    "# Can't open this directly with Coffea for some reason...\n",
    "# run3_sig_path = \"root://cmsdcadisk.fnal.gov//dcache/uscmsdisk/store/mc/Run3Summer22EENanoAODv10/GluGlutoHHto4B_kl-1p00_kt-1p00_c2-0p00_TuneCP5_13p6TeV_powheg-pythia8/NANOAODSIM/Poisson70KeepRAW_124X_mcRun3_2022_realistic_postEE_v1-v1/30000/d00363f4-0cac-410d-8fc7-bb6f60ccb6cd.root\"\n",
    "\n",
    "run3_sig_path = \"/eos/uscms/store/user/rkansal/bbbb/nano/Run3Summer22EENanoAODv10/GluGlutoHHto4B_kl-1p00_kt-1p00_c2-0p00_TuneCP5_13p6TeV_powheg-pythia8/d00363f4-0cac-410d-8fc7-bb6f60ccb6cd.root\""
   ]
  },
  {
   "cell_type": "code",
   "execution_count": null,
   "metadata": {},
   "outputs": [],
   "source": [
    "events_dict = OrderedDict()\n",
    "events_dict[\"run2\"] = nanoevents.NanoEventsFactory.from_root(\n",
    "    run2_sig_path, schemaclass=nanoevents.NanoAODSchema\n",
    ").events()\n",
    "events_dict[\"run3\"] = nanoevents.NanoEventsFactory.from_root(\n",
    "    run3_sig_path, schemaclass=nanoevents.NanoAODSchema\n",
    ").events()"
   ]
  },
  {
   "cell_type": "code",
   "execution_count": null,
   "metadata": {},
   "outputs": [],
   "source": [
    "GEN_FLAGS = [\"fromHardProcess\", \"isLastCopy\"]\n",
    "HIGGS_PDGID = 25\n",
    "\n",
    "higgs_dict = {}\n",
    "for key, events in events_dict.items():\n",
    "    genvars = {}\n",
    "    # finding the two gen higgs\n",
    "    higgs = events.GenPart[\n",
    "        (abs(events.GenPart.pdgId) == HIGGS_PDGID) * events.GenPart.hasFlags(GEN_FLAGS)\n",
    "    ]\n",
    "    higgs[ak.argsort(higgs.pt, axis=1, ascending=False)]\n",
    "\n",
    "    higgs_children = higgs.children\n",
    "    for i in range(2):\n",
    "        bb = higgs_children[:, i]\n",
    "        bb[ak.argsort(bb.pt, axis=1, ascending=False)]\n",
    "        genvars[f\"bb{i}\"] = bb\n",
    "\n",
    "    genvars[\"higgs\"] = higgs\n",
    "    higgs_dict[key] = genvars"
   ]
  },
  {
   "cell_type": "markdown",
   "metadata": {},
   "source": [
    "Plot Gen Kinematics"
   ]
  },
  {
   "cell_type": "code",
   "execution_count": null,
   "metadata": {},
   "outputs": [],
   "source": [
    "key_label_map = {\n",
    "    \"run2\": \"Run 2 HH4b\",\n",
    "    \"run3\": \"Run 3 HH4b (TSG)\",\n",
    "}\n",
    "\n",
    "higgs_var_map = {\n",
    "    \"pt\": (np.linspace(0, 600, 31), r\"$p_T$ (GeV)\"),\n",
    "    \"eta\": (np.linspace(-5, 5, 31), r\"$\\eta$\"),\n",
    "}\n",
    "\n",
    "bb_var_map = {\n",
    "    \"pt\": (np.linspace(0, 400, 21), r\"$p_T$ (GeV)\"),\n",
    "}"
   ]
  },
  {
   "cell_type": "code",
   "execution_count": null,
   "metadata": {},
   "outputs": [],
   "source": [
    "for var, (bins, var_label) in higgs_var_map.items():\n",
    "    for i in range(2):\n",
    "        fig, (ax, rax) = plt.subplots(\n",
    "            2, 1, figsize=(12, 14), gridspec_kw=dict(height_ratios=[4, 1], hspace=0.07), sharex=True\n",
    "        )\n",
    "\n",
    "        hists = []\n",
    "\n",
    "        for key, genvars in higgs_dict.items():\n",
    "            h = np.histogram(genvars[\"higgs\"][var][:, i], bins)\n",
    "            hep.histplot(\n",
    "                h,\n",
    "                yerr=True,\n",
    "                label=key_label_map[key],\n",
    "                density=True,\n",
    "                ax=ax,\n",
    "            )\n",
    "\n",
    "            hists.append(h[0])\n",
    "\n",
    "        ax.set_ylabel(\"Events (A.U.)\")\n",
    "        ax.set_xlim(bins[0], bins[-1])\n",
    "        ax.legend(fancybox=True)\n",
    "\n",
    "        scale = np.sum(hists[0]) / np.sum(hists[1])\n",
    "        yerr = ratio_uncertainty(hists[1], hists[0], \"poisson-ratio\") * scale\n",
    "        hep.histplot(\n",
    "            hists[1] / hists[0] * scale,\n",
    "            bins,\n",
    "            yerr=yerr,\n",
    "            ax=rax,\n",
    "            histtype=\"errorbar\",\n",
    "            color=\"black\",\n",
    "            capsize=4,\n",
    "        )\n",
    "\n",
    "        rax.hlines(1, -1000, bins[-1], color=\"lightgray\", linestyles=\"--\")\n",
    "        rax.set_xlabel(f\"Gen Higgs {i + 1} {var_label}\")\n",
    "        rax.set_ylabel(\"Run 3 / Run 2\")\n",
    "        rax.set_ylim([0, 2])\n",
    "        # plt.legend()\n",
    "        plt.savefig(f\"{plot_dir}/higgs{i}_{var}.pdf\", bbox_inches=\"tight\")\n",
    "        plt.show()"
   ]
  },
  {
   "cell_type": "code",
   "execution_count": null,
   "metadata": {},
   "outputs": [],
   "source": [
    "for var, (bins, var_label) in bb_var_map.items():\n",
    "    for i in range(2):\n",
    "        for j in range(2):\n",
    "            fig, (ax, rax) = plt.subplots(\n",
    "                2,\n",
    "                1,\n",
    "                figsize=(12, 14),\n",
    "                gridspec_kw=dict(height_ratios=[4, 1], hspace=0.07),\n",
    "                sharex=True,\n",
    "            )\n",
    "\n",
    "            hists = []\n",
    "\n",
    "            for key, genvars in higgs_dict.items():\n",
    "                h = np.histogram(genvars[f\"bb{i}\"][var][:, j], bins)\n",
    "                hep.histplot(\n",
    "                    h,\n",
    "                    yerr=True,\n",
    "                    label=key_label_map[key],\n",
    "                    density=True,\n",
    "                    ax=ax,\n",
    "                )\n",
    "                hists.append(h[0])\n",
    "\n",
    "            ax.set_ylabel(\"Events (A.U.)\")\n",
    "            ax.set_xlim(bins[0], bins[-1])\n",
    "            ax.legend(fancybox=True)\n",
    "\n",
    "            scale = np.sum(hists[0]) / np.sum(hists[1])\n",
    "            yerr = ratio_uncertainty(hists[1], hists[0], \"poisson-ratio\") * scale\n",
    "            hep.histplot(\n",
    "                hists[1] / hists[0] * scale,\n",
    "                bins,\n",
    "                yerr=yerr,\n",
    "                ax=rax,\n",
    "                histtype=\"errorbar\",\n",
    "                color=\"black\",\n",
    "                capsize=4,\n",
    "            )\n",
    "\n",
    "            rax.hlines(1, -1000, bins[-1], color=\"lightgray\", linestyles=\"--\")\n",
    "            rax.set_xlabel(f\"Gen Higgs {i + 1} bb Daughter {j + 1} {var_label}\")\n",
    "            rax.set_ylabel(\"Run 3 / Run 2\")\n",
    "            rax.set_ylim([0, 2])\n",
    "\n",
    "            plt.savefig(f\"{plot_dir}/higgs{i}_bb{j}_{var}.pdf\", bbox_inches=\"tight\")\n",
    "            plt.show()"
   ]
  },
  {
   "cell_type": "markdown",
   "metadata": {},
   "source": [
    "## Trigger comparison"
   ]
  },
  {
   "cell_type": "markdown",
   "metadata": {},
   "source": [
    "### Signal"
   ]
  },
  {
   "cell_type": "markdown",
   "metadata": {},
   "source": [
    "Run 3 Triggers"
   ]
  },
  {
   "cell_type": "code",
   "execution_count": null,
   "metadata": {},
   "outputs": [],
   "source": [
    "HLTs = [\"AK8PFJet250_SoftDropMass40_PFAK8ParticleNetBB0p35\", \"AK8PFJet425_SoftDropMass40\"]\n",
    "\n",
    "events = events_dict[\"run3\"]\n",
    "\n",
    "HLT_triggered = np.any(\n",
    "    np.array([events.HLT[trigger] for trigger in HLTs]),\n",
    "    axis=0,\n",
    ")"
   ]
  },
  {
   "cell_type": "markdown",
   "metadata": {},
   "source": [
    "Run 2 Trigger Efficiencies"
   ]
  },
  {
   "cell_type": "code",
   "execution_count": null,
   "metadata": {},
   "outputs": [],
   "source": [
    "def pad_val(\n",
    "    arr: ak.Array,\n",
    "    target: int,\n",
    "    value: float = 0,\n",
    "    axis: int = 0,\n",
    "    to_numpy: bool = True,\n",
    "    clip: bool = True,\n",
    "):\n",
    "    \"\"\"\n",
    "    pads awkward array up to ``target`` index along axis ``axis`` with value ``value``,\n",
    "    optionally converts to numpy array\n",
    "    \"\"\"\n",
    "    ret = ak.fill_none(ak.pad_none(arr, target, axis=axis, clip=clip), value, axis=axis)\n",
    "    return ret.to_numpy() if to_numpy else ret\n",
    "\n",
    "\n",
    "def trig_effs(fatjets, year: str = \"2018\", num_jets: int = 2):\n",
    "    \"\"\"Add the trigger efficiencies we measured in SingleMuon data\"\"\"\n",
    "    with open(f\"../corrections/data/{year}_triggereff_combined.pkl\", \"rb\") as filehandler:\n",
    "        combined = pickle.load(filehandler)\n",
    "\n",
    "    # sum over TH4q bins\n",
    "    effs_txbb = combined[\"num\"][:, sum, :, :] / combined[\"den\"][:, sum, :, :]\n",
    "\n",
    "    ak8TrigEffsLookup = dense_lookup(\n",
    "        np.nan_to_num(effs_txbb.view(flow=False), 0), np.squeeze(effs_txbb.axes.edges)\n",
    "    )\n",
    "\n",
    "    # TODO: confirm that these should be corrected pt, msd values\n",
    "    fj_trigeffs = ak8TrigEffsLookup(\n",
    "        pad_val(fatjets.Txbb, num_jets, 0, axis=1),\n",
    "        pad_val(fatjets.pt, num_jets, 0, axis=1),\n",
    "        pad_val(fatjets.msoftdrop, num_jets, 0, axis=1),\n",
    "    )\n",
    "\n",
    "    # combined eff = 1 - (1 - fj1_eff) * (1 - fj2_eff)\n",
    "    combined_trigEffs = 1 - np.prod(1 - fj_trigeffs, axis=1)\n",
    "    return combined_trigEffs"
   ]
  },
  {
   "cell_type": "code",
   "execution_count": null,
   "metadata": {},
   "outputs": [],
   "source": [
    "fatjets = events_dict[\"run2\"].FatJet\n",
    "fatjets.Txbb = fatjets.particleNetMD_Xbb / (fatjets.particleNetMD_QCD + fatjets.particleNetMD_Xbb)\n",
    "trigeffs = trig_effs(fatjets)"
   ]
  },
  {
   "cell_type": "markdown",
   "metadata": {},
   "source": [
    "Plots"
   ]
  },
  {
   "cell_type": "code",
   "execution_count": null,
   "metadata": {},
   "outputs": [],
   "source": [
    "# Hist.new.Reg(bins, name=\"jet0msd\", label=\"$m_{SD}$ (GeV)\")\n",
    "\n",
    "higgs_var_map = {\n",
    "    \"pt\": ([20, 200, 600], r\"$p_T$ (GeV)\"),\n",
    "}\n",
    "\n",
    "key_label_map = {\n",
    "    \"run2\": \"Run 2\",\n",
    "    \"run3\": \"Run 3\",\n",
    "}"
   ]
  },
  {
   "cell_type": "code",
   "execution_count": null,
   "metadata": {},
   "outputs": [],
   "source": [
    "hists = {}\n",
    "\n",
    "for var, (bins, var_label) in higgs_var_map.items():\n",
    "    for i in range(1):\n",
    "        fig, (ax, rax) = plt.subplots(\n",
    "            2,\n",
    "            1,\n",
    "            figsize=(12, 14),\n",
    "            gridspec_kw=dict(height_ratios=[4, 1], hspace=0.07),\n",
    "            sharex=True,\n",
    "        )\n",
    "\n",
    "        for key, genvars in higgs_dict.items():\n",
    "            higgs = genvars[\"higgs\"]\n",
    "            events = events_dict[key]\n",
    "            run_label = key_label_map[key]\n",
    "\n",
    "            hf = Hist.new.Reg(*bins, name=var, label=var_label).Weight()\n",
    "            hf.fill(higgs[var][:, i], weight=events.genWeight)\n",
    "\n",
    "            tot = np.sum(hf.values())\n",
    "\n",
    "            hep.histplot(\n",
    "                hf / tot,\n",
    "                yerr=True,\n",
    "                label=f\"{run_label} Full\",\n",
    "                ax=ax,\n",
    "            )\n",
    "\n",
    "            ht = Hist.new.Reg(*bins, name=var, label=var_label).Weight()\n",
    "            if key == \"run3\":\n",
    "                ht.fill(higgs[var][:, i][HLT_triggered], weight=events.genWeight[HLT_triggered])\n",
    "            else:\n",
    "                ht.fill(higgs[var][:, i], weight=events.genWeight * trigeffs)\n",
    "\n",
    "            hep.histplot(\n",
    "                ht / tot,\n",
    "                yerr=True,\n",
    "                label=f\"{run_label} Triggered\",\n",
    "                ax=ax,\n",
    "            )\n",
    "\n",
    "            hep.histplot(\n",
    "                ht / hf.values(),\n",
    "                yerr=True,\n",
    "                ax=rax,\n",
    "                histtype=\"errorbar\",\n",
    "                # color=\"black\",\n",
    "                capsize=4,\n",
    "                label=run_label,\n",
    "            )\n",
    "\n",
    "            hists[key] = {\"full\": hf, \"triggered\": ht}\n",
    "\n",
    "        ax.set_xlabel(None)\n",
    "        ax.set_ylabel(\"Events / Total\")\n",
    "        ax.set_xlim(bins[1], bins[2])\n",
    "        ax.legend(fancybox=True)\n",
    "\n",
    "        rax.hlines(1, bins[1], bins[2], color=\"lightgray\", linestyles=\"--\")\n",
    "        rax.set_xlabel(f\"Gen Higgs {i + 1} {var_label}\")\n",
    "        rax.set_ylabel(\"Signal efficiency\")\n",
    "        rax.set_ylim([0, 1.2])\n",
    "        rax.legend()\n",
    "\n",
    "        hep.cms.text(\n",
    "            \"Simulation Internal\",\n",
    "            ax=ax,\n",
    "        )\n",
    "\n",
    "        plt.savefig(f\"{plot_dir}/signal_trigger_effs.pdf\", bbox_inches=\"tight\")\n",
    "        plt.show()"
   ]
  },
  {
   "cell_type": "code",
   "execution_count": null,
   "metadata": {},
   "outputs": [],
   "source": [
    "for key in hists:\n",
    "    print(key)\n",
    "    print(\"Total efficiency H1 > 200\")\n",
    "    print(np.sum(hists[key][\"triggered\"].values()) / np.sum(hists[key][\"full\"].values()))\n",
    "    print(\"Total efficiency H1 > 300\")\n",
    "    print(np.sum(hists[key][\"triggered\"].values()[5:]) / np.sum(hists[key][\"full\"].values()[5:]))"
   ]
  },
  {
   "cell_type": "markdown",
   "metadata": {},
   "source": [
    "### Background"
   ]
  },
  {
   "cell_type": "code",
   "execution_count": null,
   "metadata": {},
   "outputs": [],
   "source": [
    "run2_qcd_path = \"/eos/uscms/store/user/rkansal/bbbb/nano/RunIISummer20UL18NanoAODv9/QCD_Pt-15to7000-pilot_TuneCP5_Flat2018_13TeV_pythia8/8034A70C-036D-4C49-BD63-8C2EA5285CC7.root\"\n",
    "\n",
    "run3_qcd_path = \"/eos/uscms/store/user/rkansal/bbbb/nano/Run3Summer22EENanoAODv11/QCD_PT-15to7000_TuneCP5_Flat2018_13p6TeV_pythia8/5eebc6b1-e595-4781-b316-d64a70dce222.root\""
   ]
  },
  {
   "cell_type": "code",
   "execution_count": null,
   "metadata": {},
   "outputs": [],
   "source": [
    "events_qcd_dict = OrderedDict()\n",
    "events_qcd_dict[\"run2\"] = nanoevents.NanoEventsFactory.from_root(\n",
    "    run2_qcd_path, schemaclass=nanoevents.NanoAODSchema\n",
    ").events()\n",
    "events_qcd_dict[\"run3\"] = nanoevents.NanoEventsFactory.from_root(\n",
    "    run3_qcd_path, schemaclass=nanoevents.NanoAODSchema\n",
    ").events()"
   ]
  },
  {
   "cell_type": "markdown",
   "metadata": {},
   "source": [
    "Run 3 Triggers"
   ]
  },
  {
   "cell_type": "code",
   "execution_count": null,
   "metadata": {},
   "outputs": [],
   "source": [
    "HLTs = [\"AK8PFJet250_SoftDropMass40_PFAK8ParticleNetBB0p35\", \"AK8PFJet425_SoftDropMass40\"]\n",
    "\n",
    "events = events_qcd_dict[\"run3\"]\n",
    "\n",
    "HLT_triggered = np.any(\n",
    "    np.array([events.HLT[trigger] for trigger in HLTs]),\n",
    "    axis=0,\n",
    ")"
   ]
  },
  {
   "cell_type": "markdown",
   "metadata": {},
   "source": [
    "Run 2 Trigger Efficiencies"
   ]
  },
  {
   "cell_type": "code",
   "execution_count": null,
   "metadata": {},
   "outputs": [],
   "source": [
    "fatjets = events_qcd_dict[\"run2\"].FatJet\n",
    "fatjets.Txbb = fatjets.particleNetMD_Xbb / (fatjets.particleNetMD_QCD + fatjets.particleNetMD_Xbb)\n",
    "trigeffs = trig_effs(fatjets)"
   ]
  },
  {
   "cell_type": "markdown",
   "metadata": {},
   "source": [
    "Plots"
   ]
  },
  {
   "cell_type": "code",
   "execution_count": null,
   "metadata": {},
   "outputs": [],
   "source": [
    "# Hist.new.Reg(bins, name=\"jet0msd\", label=\"$m_{SD}$ (GeV)\")\n",
    "\n",
    "plot_var_map = {\n",
    "    \"pt\": ([15, 300, 1000], r\"$p_T$ (GeV)\"),\n",
    "}\n",
    "\n",
    "key_label_map = {\n",
    "    \"run2\": \"Run 2\",\n",
    "    \"run3\": \"Run 3\",\n",
    "}"
   ]
  },
  {
   "cell_type": "code",
   "execution_count": null,
   "metadata": {},
   "outputs": [],
   "source": [
    "hists = {}\n",
    "\n",
    "for var, (bins, var_label) in plot_var_map.items():\n",
    "    for i in range(2):\n",
    "        fig, (ax, rax) = plt.subplots(\n",
    "            2,\n",
    "            1,\n",
    "            figsize=(12, 14),\n",
    "            gridspec_kw=dict(height_ratios=[4, 1], hspace=0.07),\n",
    "            sharex=True,\n",
    "        )\n",
    "\n",
    "        for key, events in events_qcd_dict.items():\n",
    "            fatjets = events.FatJet[:, i : i + 1]\n",
    "            select = ak.any(fatjets.pt, axis=1)\n",
    "            fatjets = ak.flatten(fatjets)\n",
    "            run_label = key_label_map[key]\n",
    "\n",
    "            hf = Hist.new.Reg(*bins, name=var, label=var_label).Weight()\n",
    "            hf.fill(fatjets[var], weight=events.genWeight[select])\n",
    "\n",
    "            tot = np.sum(events.genWeight)\n",
    "\n",
    "            hep.histplot(\n",
    "                hf / tot,\n",
    "                yerr=True,\n",
    "                label=f\"{run_label} Full\",\n",
    "                ax=ax,\n",
    "            )\n",
    "\n",
    "            ht = Hist.new.Reg(*bins, name=var, label=var_label).Weight()\n",
    "            if key == \"run3\":\n",
    "                ht.fill(\n",
    "                    fatjets[var][HLT_triggered[select]],\n",
    "                    weight=events.genWeight[select][HLT_triggered[select]],\n",
    "                )\n",
    "            else:\n",
    "                ht.fill(fatjets[var], weight=events.genWeight[select] * trigeffs[select])\n",
    "\n",
    "            hep.histplot(\n",
    "                ht / tot,\n",
    "                yerr=True,\n",
    "                label=f\"{run_label} Triggered\",\n",
    "                ax=ax,\n",
    "            )\n",
    "\n",
    "            hep.histplot(\n",
    "                ht / hf.values(),\n",
    "                yerr=True,\n",
    "                ax=rax,\n",
    "                histtype=\"errorbar\",\n",
    "                # color=\"black\",\n",
    "                capsize=4,\n",
    "                label=run_label,\n",
    "            )\n",
    "\n",
    "            hists[key] = {\"full\": hf, \"triggered\": ht}\n",
    "\n",
    "        ax.set_xlabel(None)\n",
    "        ax.set_ylabel(\"Events / Total\")\n",
    "        ax.set_xlim(bins[1], bins[2])\n",
    "        ax.legend(fancybox=True)\n",
    "\n",
    "        rax.hlines(1, bins[1], bins[2], color=\"lightgray\", linestyles=\"--\")\n",
    "        rax.set_xlabel(f\"Fatjet {i + 1} {var_label}\")\n",
    "        rax.set_ylabel(\"QCD efficiency\")\n",
    "        rax.set_ylim([0, 1.2])\n",
    "        rax.legend()\n",
    "\n",
    "        hep.cms.text(\n",
    "            \"Simulation Internal\",\n",
    "            ax=ax,\n",
    "        )\n",
    "\n",
    "        plt.savefig(f\"{plot_dir}/qcd_trigger_effs_{var}{i}.pdf\", bbox_inches=\"tight\")\n",
    "        plt.show()"
   ]
  },
  {
   "cell_type": "code",
   "execution_count": null,
   "metadata": {},
   "outputs": [],
   "source": [
    "hists[\"run3\"][\"triggered\"]"
   ]
  },
  {
   "cell_type": "code",
   "execution_count": null,
   "metadata": {},
   "outputs": [],
   "source": []
  },
  {
   "cell_type": "code",
   "execution_count": null,
   "metadata": {},
   "outputs": [],
   "source": [
    "for key in hists:\n",
    "    print(key)\n",
    "    print(\"Total efficiency H1 > 200\")\n",
    "    print(np.sum(hists[key][\"triggered\"].values()) / np.sum(hists[key][\"full\"].values()))\n",
    "    print(\"Total efficiency H1 > 300\")\n",
    "    print(np.sum(hists[key][\"triggered\"].values()[5:]) / np.sum(hists[key][\"full\"].values()[5:]))"
   ]
  },
  {
   "cell_type": "code",
   "execution_count": null,
   "metadata": {},
   "outputs": [],
   "source": []
  }
 ],
 "metadata": {
  "kernelspec": {
   "display_name": "python39",
   "language": "python",
   "name": "python3"
  },
  "language_info": {
   "codemirror_mode": {
    "name": "ipython",
    "version": 3
   },
   "file_extension": ".py",
   "mimetype": "text/x-python",
   "name": "python",
   "nbconvert_exporter": "python",
   "pygments_lexer": "ipython3",
   "version": "3.9.15"
  }
 },
 "nbformat": 4,
 "nbformat_minor": 2
}
