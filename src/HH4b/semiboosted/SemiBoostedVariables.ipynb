{
 "cells": [
  {
   "cell_type": "code",
   "execution_count": null,
   "metadata": {},
   "outputs": [],
   "source": [
    "import numpy as np\n",
    "import matplotlib.pyplot as plt\n",
    "import hist\n",
    "import mplhep\n",
    "import matplotlib as mpl\n",
    "\n",
    "mpl.rcParams[\"lines.linewidth\"] = 2\n",
    "mpl.rcParams[\"grid.color\"] = \"#CCCCCC\"\n",
    "mpl.rcParams[\"grid.linewidth\"] = 0.5\n",
    "mpl.rcParams[\"figure.edgecolor\"] = \"none\"\n",
    "\n",
    "import pandas as pd\n",
    "import vector\n",
    "\n",
    "import sys\n",
    "\n",
    "sys.path.append(\"..\")\n",
    "\n",
    "import utils"
   ]
  },
  {
   "cell_type": "code",
   "execution_count": null,
   "metadata": {},
   "outputs": [],
   "source": [
    "def make_vector(events: pd.DataFrame, obj: str):\n",
    "    \"\"\"Create a ``vector`` object from the columns of the dataframe\"\"\"\n",
    "    mstring = \"PNetMass\" if obj == \"ak8FatJet\" else \"Mass\"\n",
    "\n",
    "    return vector.array(\n",
    "        {\n",
    "            \"pt\": events[f\"{obj}Pt\"],\n",
    "            \"phi\": events[f\"{obj}Phi\"],\n",
    "            \"eta\": events[f\"{obj}Eta\"],\n",
    "            \"M\": events[f\"{obj}{mstring}\"],\n",
    "        }\n",
    "    )"
   ]
  },
  {
   "cell_type": "markdown",
   "metadata": {},
   "source": [
    "## Semi-boosted discrimination"
   ]
  },
  {
   "cell_type": "markdown",
   "metadata": {},
   "source": [
    "H1: 1 fatjet\n",
    "H2: 2 aK4 jets (j3, j4)\n",
    "\n",
    "- log(pT) of HH system\n",
    "- eta of HH system\n",
    "- dR (H1, H2)\n",
    "- mass of HH system\n",
    "- dphi (j3, j4)\n",
    "- dR (j3, j4)\n",
    "- log(pT) of H1\n",
    "- log(pT) of j3\n",
    "- log(pT) of j4\n",
    "- H1 pT / H2 pT\n",
    "- number of jets in event (not in ntuples)\n",
    "\n",
    "BDT train\n",
    "https://github.com/rkansal47/HHbbVV/blob/main/src/HHbbVV/postprocessing/TrainBDT.py\n"
   ]
  },
  {
   "cell_type": "code",
   "execution_count": null,
   "metadata": {},
   "outputs": [],
   "source": [
    "samples = {\n",
    "    \"hh4b\": [\"GluGlutoHHto4B_cHHH1_TuneCP5_PSWeights_13TeV-powheg-pythia8\"],\n",
    "    # \"hh4b-c2p45\": [\"GluGlutoHHto4B_cHHH2p45_TuneCP5_PSWeights_13TeV-powheg-pythia8\"],\n",
    "    # \"hh4b-c5\": [\"GluGlutoHHto4B_cHHH5_TuneCP5_PSWeights_13TeV-powheg-pythia8\"],\n",
    "    # \"hh4b-c0\": [\"GluGlutoHHto4B_cHHH0_TuneCP5_PSWeights_13TeV-powheg-pythia8\"],\n",
    "    \"qcd\": [\n",
    "        \"QCD_HT-200to300-13TeV\",\n",
    "        \"QCD_HT-300to500-13TeV\",\n",
    "        \"QCD_HT-500to700-13TeV\",\n",
    "        \"QCD_HT-700to1000-13TeV\",\n",
    "        \"QCD_HT-1000to1500-13TeV\",\n",
    "        \"QCD_HT-1500to2000-13TeV\",\n",
    "        \"QCD_HT-2000toInf-13TeV\",\n",
    "    ],\n",
    "    # TODO: include ttbar\n",
    "}\n",
    "\n",
    "year = \"2018\"\n",
    "dir_name = \"Oct30ApplySelection\"\n",
    "path_to_dir = f\"/eos/uscms/store/user/cmantill/bbbb/matching/{dir_name}/\"\n",
    "dirs = {path_to_dir: samples}\n",
    "\n",
    "filters = [\n",
    "    [\n",
    "        # one good fatjet (fatjet with index 0 has the largest Xbb score)\n",
    "        (\"('ak8FatJetPt', '0')\", \">=\", 300),\n",
    "        (\"('ak8FatJetMsd', '0')\", \">=\", 60),\n",
    "        (\"('ak8FatJetPNetXbb', '0')\", \">=\", 0.9734),  # medium WP\n",
    "        # second fatjet has lower\n",
    "        (\"('ak8FatJetPNetXbb', '1')\", \"<\", 0.9880),  # tight WP\n",
    "    ]\n",
    "]\n",
    "events_dict = {}\n",
    "for input_dir, samples in dirs.items():\n",
    "    events_dict = {\n",
    "        **events_dict,\n",
    "        # this function will load files (only the columns selected), apply filters and compute a weight per event\n",
    "        **utils.load_samples(input_dir, samples, year, filters=filters),\n",
    "    }\n",
    "\n",
    "samples_loaded = list(events_dict.keys())\n",
    "keys_loaded = list(events_dict[samples_loaded[0]].keys())\n",
    "print(f\"Keys in events_dict\")\n",
    "for i in keys_loaded:\n",
    "    print(i)"
   ]
  },
  {
   "cell_type": "code",
   "execution_count": null,
   "metadata": {},
   "outputs": [],
   "source": [
    "# Higgs candidate selection example\n",
    "events = events_dict[\"hh4b\"]\n",
    "\n",
    "# jets outside the fatjet - sorted by b-score\n",
    "jets_outside = make_vector(events, \"ak4JetOutside\")\n",
    "# fatjets sorted by xbb\n",
    "fatjets = make_vector(events, \"ak8FatJet\")\n",
    "\n",
    "# H1 candidate\n",
    "h1 = fatjets[:, 0]\n",
    "h1_xbb = events.ak8FatJetPNetXbb[0]\n",
    "\n",
    "# H2 candidate\n",
    "# ak4 jet (outside) with highest b-tagging score (btagDeepFlavB)\n",
    "j3 = jets_outside[:, 0]\n",
    "j4 = jets_outside[:, 1]\n",
    "j3_btag = events.ak4JetOutsidebtagDeepFlavB[0]\n",
    "j4_btag = events.ak4JetOutsidebtagDeepFlavB[1]\n",
    "h2 = j3 + j4"
   ]
  },
  {
   "cell_type": "code",
   "execution_count": null,
   "metadata": {},
   "outputs": [],
   "source": [
    "h2.deltaR(h1)"
   ]
  },
  {
   "cell_type": "code",
   "execution_count": null,
   "metadata": {},
   "outputs": [],
   "source": [
    "events.ak4JetOutsidebtagDeepFlavB[0]"
   ]
  },
  {
   "cell_type": "code",
   "execution_count": null,
   "metadata": {},
   "outputs": [],
   "source": [
    "events.ak8FatJetPNetXbb[0]"
   ]
  },
  {
   "cell_type": "code",
   "execution_count": null,
   "metadata": {},
   "outputs": [],
   "source": []
  }
 ],
 "metadata": {
  "kernelspec": {
   "display_name": "coffea-env",
   "language": "python",
   "name": "python3"
  },
  "language_info": {
   "codemirror_mode": {
    "name": "ipython",
    "version": 3
   },
   "file_extension": ".py",
   "mimetype": "text/x-python",
   "name": "python",
   "nbconvert_exporter": "python",
   "pygments_lexer": "ipython3",
   "version": "3.8.16"
  },
  "orig_nbformat": 4
 },
 "nbformat": 4,
 "nbformat_minor": 2
}
