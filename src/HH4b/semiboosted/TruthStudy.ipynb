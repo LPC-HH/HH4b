{
 "cells": [
  {
   "cell_type": "code",
   "execution_count": null,
   "metadata": {},
   "outputs": [],
   "source": [
    "from __future__ import annotations\n",
    "\n",
    "import os\n",
    "\n",
    "import numpy as np\n",
    "import pandas as pd\n",
    "import vector\n",
    "\n",
    "vector.register_awkward()"
   ]
  },
  {
   "cell_type": "code",
   "execution_count": null,
   "metadata": {},
   "outputs": [],
   "source": [
    "import hist\n",
    "import matplotlib.pyplot as plt\n",
    "import matplotlib.ticker as mticker\n",
    "\n",
    "# mplhep for CMS-style plots\n",
    "import mplhep as hep\n",
    "from coffea.hist.plot import clopper_pearson_interval\n",
    "\n",
    "plt.style.use(hep.style.CMS)\n",
    "hep.style.use(\"CMS\")\n",
    "formatter = mticker.ScalarFormatter(useMathText=True)\n",
    "formatter.set_powerlimits((-3, 3))\n",
    "plt.rcParams.update({\"font.size\": 16})"
   ]
  },
  {
   "cell_type": "code",
   "execution_count": null,
   "metadata": {},
   "outputs": [],
   "source": [
    "# set up directory to save plots\n",
    "plot_dir = \"../../../plots/MatchingStudy/23Aug18/\"\n",
    "_ = os.system(f\"mkdir -p {plot_dir}\")"
   ]
  },
  {
   "cell_type": "code",
   "execution_count": null,
   "metadata": {},
   "outputs": [],
   "source": [
    "events = pd.read_parquet(\n",
    "    \"../../../parquet/out_0.parquet\"\n",
    "    # \"/eos/uscms/store/user/cmantill/bbbb/matching/Aug8/2022/GluGlutoHHto4B_kl-1p00_kt-1p00_c2-0p00_TuneCP5_13p6TeV_TSG/parquet\"\n",
    ")"
   ]
  },
  {
   "cell_type": "code",
   "execution_count": null,
   "metadata": {},
   "outputs": [],
   "source": [
    "events.keys().to_numpy()"
   ]
  },
  {
   "cell_type": "code",
   "execution_count": null,
   "metadata": {},
   "outputs": [],
   "source": [
    "def make_vector(events: pd.DataFrame, obj: str):\n",
    "    \"\"\"Create a ``vector`` object from the columns of the dataframe\"\"\"\n",
    "    mstring = \"Msd\" if obj == \"ak8FatJet\" else \"Mass\"\n",
    "\n",
    "    return vector.array(\n",
    "        {\n",
    "            \"pt\": events[f\"{obj}Pt\"],\n",
    "            \"phi\": events[f\"{obj}Phi\"],\n",
    "            \"eta\": events[f\"{obj}Eta\"],\n",
    "            \"M\": events[f\"{obj}{mstring}\"],\n",
    "        }\n",
    "    )"
   ]
  },
  {
   "cell_type": "code",
   "execution_count": null,
   "metadata": {},
   "outputs": [],
   "source": [
    "gen_higgs = make_vector(events, \"GenHiggs\")\n",
    "# gen_bs shape: [# events, # Higgs (2), # b's (2)]\n",
    "gen_bs = make_vector(events, \"Genb\").reshape(-1, 2, 2)\n",
    "\n",
    "# sort higgs by pT\n",
    "pt_argsort = np.argsort(gen_higgs.pt, axis=1)[:, ::-1]\n",
    "gen_higgs = np.take_along_axis(gen_higgs, pt_argsort, 1)\n",
    "# need to use np.newaxis to have same # of dimensions as gen_higgs (broadcasting)\n",
    "gen_bs = np.take_along_axis(gen_bs, pt_argsort[..., np.newaxis], 1)\n",
    "bh_dR = gen_bs.deltaR(gen_higgs[..., np.newaxis])\n",
    "bs_dR = gen_bs[:, :, 0].deltaR(gen_bs[:, :, 1])"
   ]
  },
  {
   "cell_type": "markdown",
   "metadata": {},
   "source": [
    "### Matching gen b quarks to H"
   ]
  },
  {
   "cell_type": "code",
   "execution_count": null,
   "metadata": {},
   "outputs": [],
   "source": [
    "matching_dR = 1\n",
    "num_gen_bs_close = np.sum(bs_dR < matching_dR, axis=1)"
   ]
  },
  {
   "cell_type": "code",
   "execution_count": null,
   "metadata": {},
   "outputs": [],
   "source": [
    "plt.hist(num_gen_bs_close, [0, 1, 2, 3], histtype=\"step\")\n",
    "plt.ylabel(\"Number of events\")\n",
    "plt.xlabel(r\"Number of Higgs daughters within $\\Delta R = 1$ of each other\")\n",
    "plt.savefig(f\"{plot_dir}/matching_dr1.pdf\")\n",
    "plt.show()"
   ]
  },
  {
   "cell_type": "markdown",
   "metadata": {},
   "source": [
    "### Plots"
   ]
  },
  {
   "cell_type": "code",
   "execution_count": null,
   "metadata": {},
   "outputs": [],
   "source": [
    "def plot_higgs_hist(vals: np.ndarray, bins: np.ndarray, xlabel: str, filename: str):\n",
    "    fig, ax = plt.subplots(figsize=(10, 8))\n",
    "    for i in range(2):\n",
    "        ax.hist(vals[:, i].reshape(-1), bins, histtype=\"step\", label=f\"Higgs {i + 1}\")\n",
    "\n",
    "    ax.legend()\n",
    "    ax.set_xlabel(xlabel)\n",
    "    ax.set_ylabel(\"Number of Events\")\n",
    "    hep.cms.label(\"Work in Progress\", year=\"2022\", com=\"13.6\", ax=ax)\n",
    "    plt.savefig(f\"{plot_dir}/{filename}.pdf\", bbox_inches=\"tight\")\n",
    "    plt.show()"
   ]
  },
  {
   "cell_type": "code",
   "execution_count": null,
   "metadata": {},
   "outputs": [],
   "source": [
    "# plot Higgs pT\n",
    "plot_higgs_hist(gen_higgs.pt, np.linspace(0, 800, 26), r\"Higgs $p_T$ (GeV)\", \"higgspt\")\n",
    "# plot Higgs-b-quark dR\n",
    "plot_higgs_hist(\n",
    "    bh_dR, np.linspace(0, 2, 26), r\"$\\Delta R$ between Higgs and daughter $b$-quarks\", \"bh_dR\"\n",
    ")\n",
    "# plot Higgs-b-quark dR\n",
    "plot_higgs_hist(bs_dR, np.linspace(0, 4, 26), r\"$\\Delta R$ between daughter $b$-quarks\", \"bs_dR\")"
   ]
  },
  {
   "cell_type": "markdown",
   "metadata": {},
   "source": [
    "## 2D histograms"
   ]
  },
  {
   "cell_type": "markdown",
   "metadata": {},
   "source": [
    "### 2D histogram of dR between b-quarks vs Higgs pT"
   ]
  },
  {
   "cell_type": "code",
   "execution_count": null,
   "metadata": {},
   "outputs": [],
   "source": [
    "def plot_higgs_hist2d(\n",
    "    x_vals: np.ndarray,\n",
    "    y_vals: np.ndarray,\n",
    "    bins: [np.ndarray, np.ndarray],\n",
    "    x_label: str,\n",
    "    y_label: str,\n",
    "    filename: str,\n",
    "):\n",
    "    fig, ax = plt.subplots(1, 2, figsize=(20, 8))\n",
    "    for i in range(2):\n",
    "        ax[i].hist2d(\n",
    "            x_vals[:, i].reshape(-1),\n",
    "            y_vals[:, i].reshape(-1),\n",
    "            bins,\n",
    "        )\n",
    "        ax[i].set_xlabel(x_label)\n",
    "        ax[i].set_ylabel(y_label)\n",
    "        ax[i].set_title(f\"Higgs {i + 1}\")\n",
    "\n",
    "    # hep.cms.label(\"Work in Progress\", year=\"2022\", com=\"13.6\", ax=ax)\n",
    "    plt.savefig(f\"{plot_dir}/{filename}.jpg\", bbox_inches=\"tight\")\n",
    "    plt.show()"
   ]
  },
  {
   "cell_type": "code",
   "execution_count": null,
   "metadata": {},
   "outputs": [],
   "source": [
    "plot_higgs_hist2d(\n",
    "    x_vals=gen_higgs.pt,\n",
    "    y_vals=bs_dR,\n",
    "    bins=[np.linspace(0, 800, 26), np.linspace(0, 4, 26)],\n",
    "    x_label=r\"Higgs $p_T$ (GeV)\",\n",
    "    y_label=r\"$\\Delta R$ between daughter $b$-quarks\",\n",
    "    filename=\"bs_DR_vs_higgspt\",\n",
    ")"
   ]
  },
  {
   "cell_type": "markdown",
   "metadata": {},
   "source": [
    "### 2D histogram of Higgs pT vs matched fatjet pT (if it exists)"
   ]
  },
  {
   "cell_type": "code",
   "execution_count": null,
   "metadata": {},
   "outputs": [],
   "source": [
    "# get events and fatjets\n",
    "events = pd.read_parquet(\n",
    "    \"../../../parquet/out_0.parquet\"\n",
    "    # \"/eos/uscms/store/user/cmantill/bbbb/matching/Aug8/2022/GluGlutoHHto4B_kl-1p00_kt-1p00_c2-0p00_TuneCP5_13p6TeV_TSG/parquet\"\n",
    ")\n",
    "fjs = make_vector(events, \"ak8FatJet\")\n",
    "gen_higgs = make_vector(events, \"GenHiggs\")\n",
    "\n",
    "N_event_bf_filter = gen_higgs.shape[0]\n",
    "\n",
    "# filter out events that have multiple fatjets matched with 1 higgs\n",
    "filter_fj = np.logical_or(\n",
    "    (events[\"ak8FatJetHiggsMatchIndex\"].to_numpy() == 0).sum(axis=1) > 1,\n",
    "    (events[\"ak8FatJetHiggsMatchIndex\"].to_numpy() == 1).sum(axis=1) > 1,\n",
    ")\n",
    "events = events[~filter_fj]\n",
    "fjs = fjs[~filter_fj]\n",
    "gen_higgs = gen_higgs[~filter_fj]\n",
    "\n",
    "N_event_af_filter = gen_higgs.shape[0]\n",
    "\n",
    "print(f\"Number of overlapped (AK8) events events: {N_event_bf_filter-N_event_af_filter}\")\n",
    "print(f\"Percentage of uniquely assigned (AK8) events: {N_event_af_filter/N_event_bf_filter}\")\n",
    "\n",
    "\n",
    "# get fjs matched to higgs\n",
    "matched_w_h1 = events[\"ak8FatJetHiggsMatchIndex\"] == 0\n",
    "matched_w_h2 = events[\"ak8FatJetHiggsMatchIndex\"] == 1\n",
    "fj_mwh1 = fjs[matched_w_h1]\n",
    "fj_mwh2 = fjs[matched_w_h2]\n",
    "\n",
    "# get higgs that are matched to fjs\n",
    "event_matched_w_h1 = np.any(matched_w_h1 is True, axis=1)\n",
    "event_matched_w_h2 = np.any(matched_w_h2 is True, axis=1)\n",
    "\n",
    "h1 = gen_higgs[:, 0]\n",
    "h2 = gen_higgs[:, 1]\n",
    "\n",
    "h1_mwfj = h1[event_matched_w_h1]\n",
    "h2_mwfj = h2[event_matched_w_h2]"
   ]
  },
  {
   "cell_type": "code",
   "execution_count": null,
   "metadata": {},
   "outputs": [],
   "source": [
    "# plot\n",
    "fig, ax = plt.subplots(1, 2, figsize=(20, 8))\n",
    "\n",
    "ax[0].hist2d(\n",
    "    h1_mwfj.pt.reshape(-1),\n",
    "    fj_mwh1.pt.reshape(-1),\n",
    "    (np.arange(100, 1000, 10), np.arange(100, 1000, 100)),\n",
    ")\n",
    "\n",
    "ax[1].hist2d(\n",
    "    h2_mwfj.pt.reshape(-1),\n",
    "    fj_mwh2.pt.reshape(-1),\n",
    "    (20, 20),\n",
    ")\n",
    "ax[0].set_xlabel(r\"Matched AK8Jet $p_T$ (GeV)\")\n",
    "ax[0].set_ylabel(r\"Matched Higgs $p_T$ (GeV)\")\n",
    "ax[0].set_title(\"Higgs 1\")\n",
    "\n",
    "ax[1].set_xlabel(r\"Matched AK8Jet $p_T$ (GeV)\")\n",
    "ax[1].set_ylabel(r\"Matched Higgs $p_T$ (GeV)\")\n",
    "ax[1].set_title(\"Higgs 2\")\n",
    "\n",
    "# hep.cms.label(\"Work in Progress\", year=\"2022\", com=\"13.6\", ax=ax)\n",
    "plt.savefig(f\"{plot_dir}/H_pt_vs_fj_pt.jpg\", bbox_inches=\"tight\")\n",
    "plt.show()\n",
    "\n",
    "# color map legend"
   ]
  },
  {
   "cell_type": "markdown",
   "metadata": {},
   "source": [
    "### 2D histogram of dR between b-quarks from H1 and b-quarks from H2"
   ]
  },
  {
   "cell_type": "code",
   "execution_count": null,
   "metadata": {},
   "outputs": [],
   "source": [
    "# get events\n",
    "events = pd.read_parquet(\n",
    "    \"../../../parquet/out_0.parquet\"\n",
    "    # \"/eos/uscms/store/user/cmantill/bbbb/matching/Aug8/2022/GluGlutoHHto4B_kl-1p00_kt-1p00_c2-0p00_TuneCP5_13p6TeV_TSG/parquet\"\n",
    ")\n",
    "gen_higgs = make_vector(events, \"GenHiggs\")\n",
    "# gen_bs shape: [# events, # Higgs (2), # b's (2)]\n",
    "gen_bs = make_vector(events, \"Genb\").reshape(-1, 2, 2)\n",
    "\n",
    "# sort higgs by pT\n",
    "pt_argsort = np.argsort(gen_higgs.pt, axis=1)[:, ::-1]\n",
    "gen_higgs = np.take_along_axis(gen_higgs, pt_argsort, 1)\n",
    "# need to use np.newaxis to have same # of dimensions as gen_higgs (broadcasting)\n",
    "gen_bs = np.take_along_axis(gen_bs, pt_argsort[..., np.newaxis], 1)\n",
    "bh_dR = gen_bs.deltaR(gen_higgs[..., np.newaxis])\n",
    "print(gen_bs.shape)\n",
    "bs_dR = gen_bs[:, :, 0].deltaR(gen_bs[:, :, 1])"
   ]
  },
  {
   "cell_type": "code",
   "execution_count": null,
   "metadata": {},
   "outputs": [],
   "source": [
    "fig, ax = plt.subplots(figsize=(10, 8))\n",
    "\n",
    "ax.hist2d(\n",
    "    bs_dR[:, 0].reshape(-1),\n",
    "    bs_dR[:, 1].reshape(-1),\n",
    "    (np.arange(0, 3, 0.1), np.arange(0, 3, 0.1)),\n",
    ")\n",
    "\n",
    "ax.set_xlabel(r\"$\\Delta R$ between Higgs 1 and daughter $b$-quarks\")\n",
    "ax.set_ylabel(r\"$\\Delta R$ between Higgs 2 and daughter $b$-quarks\")\n",
    "\n",
    "# hep.cms.label(\"Work in Progress\", year=\"2022\", com=\"13.6\", ax=ax)\n",
    "plt.savefig(f\"{plot_dir}/bh_dR_H1_vs_H2.jpg\", bbox_inches=\"tight\")\n",
    "plt.show()"
   ]
  },
  {
   "cell_type": "markdown",
   "metadata": {},
   "source": [
    "### AK8FatJet pT distribution"
   ]
  },
  {
   "cell_type": "code",
   "execution_count": null,
   "metadata": {},
   "outputs": [],
   "source": [
    "fig, ax = plt.subplots(figsize=(10, 8))\n",
    "ax.hist(fj_mwh1.pt, bins=np.arange(0, 800, 100), histtype=\"step\", label=\"AK8Jet\")\n",
    "ax.hist(gen_higgs[:, 0].pt, bins=np.arange(0, 800, 100), histtype=\"step\", label=\"Higgs 1\")\n",
    "ax.legend()\n",
    "hep.cms.label(\"Work in Progress\", year=\"2022\", com=\"13.6\", ax=ax)\n",
    "ax.set_xlabel(r\"$p_T$ (GeV)\")\n",
    "ax.set_ylabel(r\"Number of Events\")\n",
    "\n",
    "print(np.histogram(fj_mwh1.pt, bins=np.arange(0, 800, 100)))\n",
    "print(np.histogram(gen_higgs[:, 0].pt, bins=np.arange(0, 800, 100)))"
   ]
  },
  {
   "cell_type": "code",
   "execution_count": null,
   "metadata": {},
   "outputs": [],
   "source": [
    "fig, ax = plt.subplots(figsize=(10, 8))\n",
    "ax.hist(fj_mwh2.pt, bins=np.arange(0, 1000, 100), histtype=\"step\", label=\"AK8Jet\")\n",
    "ax.hist(gen_higgs[:, 1].pt, bins=np.arange(0, 1000, 100), histtype=\"step\", label=\"Higgs 2\")\n",
    "ax.legend()\n",
    "hep.cms.label(\"Work in Progress\", year=\"2022\", com=\"13.6\", ax=ax)\n",
    "ax.set_xlabel(r\"$p_T$ (GeV)\")\n",
    "ax.set_ylabel(r\"Number of Events\")\n",
    "\n",
    "print(fj_mwh1.shape)"
   ]
  },
  {
   "cell_type": "markdown",
   "metadata": {},
   "source": [
    "### Matching efficiency by pT (uniquely assigned Higgs)"
   ]
  },
  {
   "cell_type": "markdown",
   "metadata": {},
   "source": [
    "### Get jets that are matched to h1 and h2"
   ]
  },
  {
   "cell_type": "code",
   "execution_count": null,
   "metadata": {},
   "outputs": [],
   "source": [
    "# match resolved jets to Higgs\n",
    "# get events and jets\n",
    "events = pd.read_parquet(\n",
    "    \"../../../parquet/out_0.parquet\"\n",
    "    # \"/eos/uscms/store/user/cmantill/bbbb/matching/Aug8/2022/GluGlutoHHto4B_kl-1p00_kt-1p00_c2-0p00_TuneCP5_13p6TeV_TSG/parquet\"\n",
    ")\n",
    "jets = make_vector(events, \"ak4Jet\")\n",
    "gen_higgs = make_vector(events, \"GenHiggs\")\n",
    "\n",
    "N_event_bf_filter = gen_higgs.shape[0]\n",
    "\n",
    "# filter out events that have multiple jets matched with 1 higgs\n",
    "filter_j = np.logical_or(\n",
    "    (events[\"ak4JetHiggsMatchIndex\"].to_numpy() == 0).sum(axis=1) > 6,\n",
    "    (events[\"ak4JetHiggsMatchIndex\"].to_numpy() == 1).sum(axis=1) > 6,\n",
    ")\n",
    "\n",
    "events = events[~filter_j]\n",
    "jets = jets[~filter_j]\n",
    "gen_higgs = gen_higgs[~filter_j]\n",
    "\n",
    "N_event_af_filter = gen_higgs.shape[0]\n",
    "\n",
    "print(f\"Number of 2-AK4-matched events events: {N_event_bf_filter-N_event_af_filter}\")\n",
    "print(f\"Percentage of uniquely assigned (AK4) events: {N_event_af_filter/N_event_bf_filter}\")\n",
    "\n",
    "\n",
    "# get fjs matched to higgs\n",
    "matched_w_h1 = events[\"ak4JetHiggsMatchIndex\"].to_numpy() == 0\n",
    "matched_w_h2 = events[\"ak4JetHiggsMatchIndex\"].to_numpy() == 1\n",
    "jet_mwh1 = jets[matched_w_h1]\n",
    "jet_mwh2 = jets[matched_w_h2]\n",
    "\n",
    "# get higgs that are matched to fjs\n",
    "event_matched_w_h1 = np.any(matched_w_h1 is True, axis=1)\n",
    "event_matched_w_h2 = np.any(matched_w_h2 is True, axis=1)\n",
    "\n",
    "h1 = gen_higgs[:, 0]\n",
    "h2 = gen_higgs[:, 1]\n",
    "\n",
    "h1_mwj = h1[event_matched_w_h1]\n",
    "h2_mwj = h2[event_matched_w_h2]"
   ]
  },
  {
   "cell_type": "markdown",
   "metadata": {},
   "source": [
    "### get fjets that are matched to h1 and h2"
   ]
  },
  {
   "cell_type": "code",
   "execution_count": null,
   "metadata": {},
   "outputs": [],
   "source": [
    "# get events and fatjets\n",
    "events = pd.read_parquet(\n",
    "    \"../../../parquet/out_0.parquet\"\n",
    "    # \"/eos/uscms/store/user/cmantill/bbbb/matching/Aug8/2022/GluGlutoHHto4B_kl-1p00_kt-1p00_c2-0p00_TuneCP5_13p6TeV_TSG/parquet\"\n",
    ")\n",
    "fjs = make_vector(events, \"ak8FatJet\")\n",
    "gen_higgs = make_vector(events, \"GenHiggs\")\n",
    "\n",
    "N_event_bf_filter = gen_higgs.shape[0]\n",
    "\n",
    "# filter out events that have multiple fatjets matched with 1 higgs\n",
    "filter_fj = np.logical_or(\n",
    "    (events[\"ak8FatJetHiggsMatchIndex\"].to_numpy() == 0).sum(axis=1) > 1,\n",
    "    (events[\"ak8FatJetHiggsMatchIndex\"].to_numpy() == 1).sum(axis=1) > 1,\n",
    ")\n",
    "events = events[~filter_fj]\n",
    "fjs = fjs[~filter_fj]\n",
    "gen_higgs = gen_higgs[~filter_fj]\n",
    "\n",
    "N_event_af_filter = gen_higgs.shape[0]\n",
    "\n",
    "print(f\"Number of overlapped (AK8) events events: {N_event_bf_filter-N_event_af_filter}\")\n",
    "print(f\"Percentage of uniquely assigned (AK8) events: {N_event_af_filter/N_event_bf_filter}\")\n",
    "\n",
    "\n",
    "# get fjs matched to higgs\n",
    "matched_w_h1 = events[\"ak8FatJetHiggsMatchIndex\"] == 0\n",
    "matched_w_h2 = events[\"ak8FatJetHiggsMatchIndex\"] == 1\n",
    "fj_mwh1 = fjs[matched_w_h1]\n",
    "fj_mwh2 = fjs[matched_w_h2]\n",
    "\n",
    "# get higgs that are matched to fjs\n",
    "event_matched_w_h1 = np.any(matched_w_h1 is True, axis=1)\n",
    "event_matched_w_h2 = np.any(matched_w_h2 is True, axis=1)\n",
    "\n",
    "h1 = gen_higgs[:, 0]\n",
    "h2 = gen_higgs[:, 1]\n",
    "\n",
    "h1_mwfj = h1[event_matched_w_h1]\n",
    "h2_mwfj = h2[event_matched_w_h2]"
   ]
  },
  {
   "cell_type": "markdown",
   "metadata": {},
   "source": [
    "### Plot ak4 and ak8 jet matching efficiency for h1"
   ]
  },
  {
   "cell_type": "code",
   "execution_count": null,
   "metadata": {},
   "outputs": [],
   "source": [
    "N_bin = 10\n",
    "\n",
    "# fj matched\n",
    "events = pd.read_parquet(\n",
    "    \"../../../parquet/out_0.parquet\"\n",
    "    # \"/eos/uscms/store/user/cmantill/bbbb/matching/Aug8/2022/GluGlutoHHto4B_kl-1p00_kt-1p00_c2-0p00_TuneCP5_13p6TeV_TSG/parquet\"\n",
    ")\n",
    "gen_higgs = make_vector(events, \"GenHiggs\")\n",
    "higgs_pt = hist.Hist.new.Reg(N_bin, 0, 1000, name=r\"H $p_T$ [GeV]\").Double()\n",
    "higgs_pt.fill(gen_higgs[:, 0].pt)\n",
    "\n",
    "fj_higgs_pt = hist.Hist.new.Reg(N_bin, 0, 1000, name=r\"H $p_T$ [GeV]\").Double()\n",
    "fj_higgs_pt.fill(h1_mwfj.pt)\n",
    "\n",
    "j_higgs_pt = hist.Hist.new.Reg(N_bin, 0, 1000, name=r\"H $p_T$ [GeV]\").Double()\n",
    "j_higgs_pt.fill(h1_mwj.pt)\n",
    "\n",
    "j_ratio = j_higgs_pt / higgs_pt\n",
    "j_ratio_h1 = j_ratio\n",
    "j_ratio_uncert = np.abs(\n",
    "    clopper_pearson_interval(num=j_higgs_pt.values(), denom=higgs_pt.values()) - j_ratio\n",
    ")\n",
    "fj_ratio = fj_higgs_pt / higgs_pt\n",
    "fj_ratio_uncert = np.abs(\n",
    "    clopper_pearson_interval(num=fj_higgs_pt.values(), denom=higgs_pt.values()) - fj_ratio\n",
    ")\n",
    "\n",
    "\n",
    "fig, axs = plt.subplots(2, 1, height_ratios=[2, 1])\n",
    "hep.histplot(j_higgs_pt, label=\"H1(bb) matched to 2 AK5 jets\", ax=axs[0])\n",
    "hep.histplot(fj_higgs_pt, label=\"H1(bb) matched to 1 AK8 jets\", ax=axs[0])\n",
    "hep.histplot(higgs_pt, label=\"H1(bb)\", ax=axs[0])\n",
    "axs[0].set_ylabel(\"Higgs bosons\")\n",
    "axs[0].set_xlim(0, 1000)\n",
    "axs[0].set_ylim(1e-1, 1e6)\n",
    "axs[0].semilogy()\n",
    "axs[0].legend(loc=\"upper right\")\n",
    "hep.histplot(\n",
    "    j_ratio,\n",
    "    yerr=j_ratio_uncert,\n",
    "    label=\"H(bb) matched to 2 AK5 jets\",\n",
    "    ax=axs[1],\n",
    ")\n",
    "hep.histplot(\n",
    "    fj_ratio,\n",
    "    yerr=fj_ratio_uncert,\n",
    "    label=\"H(bb) matched to 1 AK8 jets\",\n",
    "    ax=axs[1],\n",
    ")\n",
    "axs[1].set_ylabel(\"Efficiency\")\n",
    "axs[1].set_xlim(0, 1000)\n",
    "plt.tight_layout()\n",
    "plt.savefig(f\"{plot_dir}/matching_eff_H1.jpg\")"
   ]
  },
  {
   "cell_type": "code",
   "execution_count": null,
   "metadata": {},
   "outputs": [],
   "source": []
  },
  {
   "cell_type": "markdown",
   "metadata": {},
   "source": [
    "### plot ak4 and ak8 jet effiency for h2"
   ]
  },
  {
   "cell_type": "code",
   "execution_count": null,
   "metadata": {},
   "outputs": [],
   "source": [
    "# fj matched\n",
    "N_bin = 8\n",
    "events = pd.read_parquet(\n",
    "    \"../../../parquet/out_0.parquet\"\n",
    "    # \"/eos/uscms/store/user/cmantill/bbbb/matching/Aug8/2022/GluGlutoHHto4B_kl-1p00_kt-1p00_c2-0p00_TuneCP5_13p6TeV_TSG/parquet\"\n",
    ")\n",
    "gen_higgs = make_vector(events, \"GenHiggs\")\n",
    "higgs_pt = hist.Hist.new.Reg(N_bin, 0, 1000, name=r\"H $p_T$ [GeV]\").Double()\n",
    "higgs_pt.fill(gen_higgs[:, 1].pt)\n",
    "\n",
    "fj_higgs_pt = hist.Hist.new.Reg(N_bin, 0, 1000, name=r\"H $p_T$ [GeV]\").Double()\n",
    "fj_higgs_pt.fill(h2_mwfj.pt)\n",
    "\n",
    "j_higgs_pt = hist.Hist.new.Reg(N_bin, 0, 1000, name=r\"H $p_T$ [GeV]\").Double()\n",
    "j_higgs_pt.fill(h2_mwj.pt)\n",
    "\n",
    "\n",
    "j_ratio = j_higgs_pt / higgs_pt\n",
    "j_ratio_h2 = j_ratio\n",
    "j_ratio_uncert = np.abs(\n",
    "    clopper_pearson_interval(num=j_higgs_pt.values(), denom=higgs_pt.values()) - j_ratio\n",
    ")\n",
    "fj_ratio = fj_higgs_pt / higgs_pt\n",
    "fj_ratio_uncert = np.abs(\n",
    "    clopper_pearson_interval(num=fj_higgs_pt.values(), denom=higgs_pt.values()) - fj_ratio\n",
    ")\n",
    "\n",
    "\n",
    "fig, axs = plt.subplots(2, 1, height_ratios=[2, 1])\n",
    "hep.histplot(j_higgs_pt, label=\"H2(bb) matched to 2 AK5 jets\", ax=axs[0])\n",
    "hep.histplot(fj_higgs_pt, label=\"H2(bb) matched to 1 AK8 jets\", ax=axs[0])\n",
    "hep.histplot(higgs_pt, label=\"H2(bb)\", ax=axs[0])\n",
    "axs[0].set_ylabel(\"Higgs bosons\")\n",
    "axs[0].set_xlim(0, 1000)\n",
    "axs[0].set_ylim(1e-1, 1e6)\n",
    "axs[0].semilogy()\n",
    "axs[0].legend(loc=\"upper right\")\n",
    "hep.histplot(\n",
    "    j_ratio,\n",
    "    yerr=j_ratio_uncert,\n",
    "    label=\"H(bb) matched to 2 AK5 jets\",\n",
    "    ax=axs[1],\n",
    ")\n",
    "hep.histplot(\n",
    "    fj_ratio,\n",
    "    yerr=fj_ratio_uncert,\n",
    "    label=\"H(bb) matched to 1 AK8 jets\",\n",
    "    ax=axs[1],\n",
    ")\n",
    "axs[1].set_ylabel(\"Efficiency\")\n",
    "axs[1].set_xlim(0, 1000)\n",
    "plt.tight_layout()\n",
    "plt.savefig(f\"{plot_dir}/matching_eff_H2.jpg\")"
   ]
  },
  {
   "cell_type": "markdown",
   "metadata": {},
   "source": [
    "## Average mass resolution ((jet mass - higgs mass) / higgs mass ) vs pT"
   ]
  },
  {
   "cell_type": "markdown",
   "metadata": {},
   "source": [
    "### To calculate mass of 2 ak4 jets, find every higgs that are matched to only 2 ak4 jets\n",
    "### Note: At event level, we only keep the events that have h1 and/or h2 matched with 2 b jets "
   ]
  },
  {
   "cell_type": "code",
   "execution_count": null,
   "metadata": {},
   "outputs": [],
   "source": [
    "events = pd.read_parquet(\n",
    "    \"../../../parquet/out_0.parquet\"\n",
    "    # \"/eos/uscms/store/user/cmantill/bbbb/matching/Aug8/2022/GluGlutoHHto4B_kl-1p00_kt-1p00_c2-0p00_TuneCP5_13p6TeV_TSG/parquet\"\n",
    ")\n",
    "jets = make_vector(events, \"ak4Jet\")\n",
    "gen_higgs = make_vector(events, \"GenHiggs\")\n",
    "\n",
    "N_event_bf_filter = gen_higgs.shape[0]\n",
    "\n",
    "# filter out events that have 2 ak4 jets matched to h1/h2\n",
    "event_matched_w_h1 = (events[\"ak4JetHiggsMatchIndex\"].to_numpy() == 0).sum(\n",
    "    axis=1\n",
    ") == 2  # event matched\n",
    "jet_mwh1 = jets[event_matched_w_h1]\n",
    "matched_w_h1 = (events[\"ak4JetHiggsMatchIndex\"].to_numpy() == 0)[\n",
    "    event_matched_w_h1\n",
    "]  # jet indices in the matched events\n",
    "jet_mwh1 = jet_mwh1[matched_w_h1].reshape(-1, 2)\n",
    "h1_mwj = gen_higgs[event_matched_w_h1][:, 0]\n",
    "\n",
    "event_matched_w_h2 = (events[\"ak4JetHiggsMatchIndex\"].to_numpy() == 1).sum(axis=1) == 2\n",
    "jet_mwh2 = jets[event_matched_w_h2]\n",
    "matched_w_h2 = (events[\"ak4JetHiggsMatchIndex\"].to_numpy() == 1)[event_matched_w_h2]\n",
    "jet_mwh2 = jet_mwh2[matched_w_h2].reshape(-1, 2)\n",
    "h2_mwj = gen_higgs[event_matched_w_h2][:, 1]"
   ]
  },
  {
   "cell_type": "markdown",
   "metadata": {},
   "source": [
    "### Then get fatjets (obtained in previous cell)"
   ]
  },
  {
   "cell_type": "code",
   "execution_count": null,
   "metadata": {},
   "outputs": [],
   "source": [
    "# get events and fatjets\n",
    "events = pd.read_parquet(\n",
    "    \"../../../parquet/out_0.parquet\"\n",
    "    # \"/eos/uscms/store/user/cmantill/bbbb/matching/Aug8/2022/GluGlutoHHto4B_kl-1p00_kt-1p00_c2-0p00_TuneCP5_13p6TeV_TSG/parquet\"\n",
    ")\n",
    "fjs = make_vector(events, \"ak8FatJet\")\n",
    "gen_higgs = make_vector(events, \"GenHiggs\")\n",
    "\n",
    "N_event_bf_filter = gen_higgs.shape[0]\n",
    "\n",
    "# filter out events that have 2 ak4 jets matched to h1/h2\n",
    "event_matched_w_h1 = (events[\"ak8FatJetHiggsMatchIndex\"].to_numpy() == 0).sum(\n",
    "    axis=1\n",
    ") == 1  # event matched\n",
    "fj_mwh1 = fjs[event_matched_w_h1]\n",
    "matched_w_h1 = (events[\"ak8FatJetHiggsMatchIndex\"].to_numpy() == 0)[\n",
    "    event_matched_w_h1\n",
    "]  # jet indices in the matched events\n",
    "fj_mwh1 = fj_mwh1[matched_w_h1]\n",
    "h1_mwfj = gen_higgs[event_matched_w_h1][:, 0]\n",
    "\n",
    "event_matched_w_h2 = (events[\"ak8FatJetHiggsMatchIndex\"].to_numpy() == 1).sum(\n",
    "    axis=1\n",
    ") == 1  # event matched\n",
    "fj_mwh2 = fjs[event_matched_w_h2]\n",
    "matched_w_h2 = (events[\"ak8FatJetHiggsMatchIndex\"].to_numpy() == 1)[\n",
    "    event_matched_w_h2\n",
    "]  # jet indices in the matched events\n",
    "fj_mwh2 = fj_mwh2[matched_w_h2]\n",
    "h2_mwfj = gen_higgs[event_matched_w_h2][:, 1]"
   ]
  },
  {
   "cell_type": "markdown",
   "metadata": {},
   "source": [
    "### Plot ak4 and ak8 average mass resolution for H1"
   ]
  },
  {
   "cell_type": "code",
   "execution_count": null,
   "metadata": {},
   "outputs": [],
   "source": [
    "# calculate mass of every matched pair of ak4 jets\n",
    "jet_mwh1_mass = (jet_mwh1[:, 0] + jet_mwh1[:, 1]).m\n",
    "fj_mwh1_mass = fj_mwh1.m\n",
    "\n",
    "h1_mwj_mass = h1_mwj.m\n",
    "h1_mwfj_mass = h1_mwfj.m\n",
    "\n",
    "h1_mwj_pt = h1_mwj.pt\n",
    "h1_mwfj_pt = h1_mwfj.pt\n",
    "\n",
    "res_jet = (jet_mwh1_mass - h1_mwj_mass) / h1_mwj_mass\n",
    "res_fj = (fj_mwh1_mass - h1_mwfj_mass) / h1_mwfj_mass\n",
    "\n",
    "bins = np.arange(0, 800, 100)\n",
    "bin_centers = []\n",
    "res_jet_per_bin = []\n",
    "res_fj_per_bin = []\n",
    "\n",
    "for i in range(bins.shape[0] - 1):\n",
    "    edge_left = bins[i]\n",
    "    edge_right = bins[i + 1]\n",
    "    bin_centers.append((edge_left + edge_right) / 2)\n",
    "    res_jet_per_bin.append(res_jet[np.logical_and(h1_mwj_pt > edge_left, h1_mwj_pt < edge_right)])\n",
    "    res_fj_per_bin.append(res_fj[np.logical_and(h1_mwfj_pt > edge_left, h1_mwfj_pt < edge_right)])\n",
    "\n",
    "res_jet_steps = [res.mean() for res in res_jet_per_bin]\n",
    "res_fj_steps = [res.mean() for res in res_fj_per_bin]\n",
    "\n",
    "res_jet_err = [res.std() for res in res_jet_per_bin]\n",
    "res_fj_err = [res.std() for res in res_fj_per_bin]\n",
    "\n",
    "fig, ax = plt.subplots(figsize=(10, 8))\n",
    "ax.errorbar(\n",
    "    x=bin_centers,\n",
    "    y=res_jet_steps,\n",
    "    yerr=res_jet_err,\n",
    "    label=\"AK4Jet\",\n",
    "    drawstyle=\"steps-mid\",\n",
    "    capsize=10,\n",
    ")  # ,barsabove=True)\n",
    "ax.errorbar(\n",
    "    x=bin_centers,\n",
    "    y=res_fj_steps,\n",
    "    yerr=res_fj_err,\n",
    "    label=\"AK8Jet\",\n",
    "    drawstyle=\"steps-mid\",\n",
    "    capsize=10,\n",
    ")\n",
    "ax.legend()\n",
    "# hep.cms.label(\"Work in Progress\", year=\"2022\", com=\"13.6\", ax=ax)\n",
    "ax.set_title(r\"Average Mass Resolution of H1\")\n",
    "ax.set_xlabel(r\"Higgs $p_T$ (GeV)\")\n",
    "ax.set_ylabel(r\"Average Mass Resolution\")\n",
    "plt.savefig(f\"{plot_dir}/res_H1.jpg\")"
   ]
  },
  {
   "cell_type": "markdown",
   "metadata": {},
   "source": [
    "### Plot ak4 and ak8 average mass resolution for H2"
   ]
  },
  {
   "cell_type": "code",
   "execution_count": null,
   "metadata": {},
   "outputs": [],
   "source": [
    "# calculate mass of every matched pair of ak4 jets\n",
    "jet_mwh2_mass = (jet_mwh2[:, 0] + jet_mwh2[:, 1]).m\n",
    "fj_mwh2_mass = fj_mwh2.m\n",
    "\n",
    "h2_mwj_mass = h2_mwj.m\n",
    "h2_mwfj_mass = h2_mwfj.m\n",
    "\n",
    "h2_mwj_pt = h2_mwj.pt\n",
    "h2_mwfj_pt = h2_mwfj.pt\n",
    "\n",
    "res_jet = (jet_mwh2_mass - h2_mwj_mass) / h2_mwj_mass\n",
    "res_fj = (fj_mwh2_mass - h2_mwfj_mass) / h2_mwfj_mass\n",
    "\n",
    "bins = np.arange(0, 800, 100)\n",
    "bin_centers = []\n",
    "res_jet_per_bin = []\n",
    "res_fj_per_bin = []\n",
    "\n",
    "for i in range(bins.shape[0] - 1):\n",
    "    edge_left = bins[i]\n",
    "    edge_right = bins[i + 1]\n",
    "    bin_centers.append((edge_left + edge_right) / 2)\n",
    "    res_jet_per_bin.append(res_jet[np.logical_and(h2_mwj_pt > edge_left, h2_mwj_pt < edge_right)])\n",
    "    res_fj_per_bin.append(res_fj[np.logical_and(h2_mwfj_pt > edge_left, h2_mwfj_pt < edge_right)])\n",
    "\n",
    "res_jet_steps = [res.mean() for res in res_jet_per_bin]\n",
    "res_fj_steps = [res.mean() for res in res_fj_per_bin]\n",
    "\n",
    "res_jet_err = [res.std() for res in res_jet_per_bin]\n",
    "res_fj_err = [res.std() for res in res_fj_per_bin]\n",
    "\n",
    "fig, ax = plt.subplots(figsize=(10, 8))\n",
    "ax.errorbar(\n",
    "    x=bin_centers,\n",
    "    y=res_jet_steps,\n",
    "    yerr=res_jet_err,\n",
    "    label=\"AK4Jet\",\n",
    "    drawstyle=\"steps-mid\",\n",
    "    capsize=10,\n",
    ")  # ,barsabove=True)\n",
    "ax.errorbar(\n",
    "    x=bin_centers,\n",
    "    y=res_fj_steps,\n",
    "    yerr=res_fj_err,\n",
    "    label=\"AK8Jet\",\n",
    "    drawstyle=\"steps-mid\",\n",
    "    capsize=10,\n",
    ")\n",
    "ax.legend()\n",
    "# hep.cms.label(\"Work in Progress\", year=\"2022\", com=\"13.6\", ax=ax)\n",
    "ax.set_title(r\"Average Mass Resolution of H2\")\n",
    "ax.set_xlabel(r\"Higgs $p_T$ (GeV)\")\n",
    "ax.set_ylabel(r\"Average Mass Resolution\")\n",
    "plt.savefig(f\"{plot_dir}/res_H2.jpg\")"
   ]
  },
  {
   "cell_type": "markdown",
   "metadata": {},
   "source": [
    "### 2D efficiency Higgs1 vs Higgs2"
   ]
  },
  {
   "cell_type": "markdown",
   "metadata": {},
   "source": [
    "### 1 for AK4"
   ]
  },
  {
   "cell_type": "code",
   "execution_count": null,
   "metadata": {},
   "outputs": [],
   "source": [
    "# ratio is defined by ratio = #_jet/#_higgs\n",
    "# aka ratio of two 2d histogram\n",
    "\n",
    "# 2d histogram needs the number of entries at each dimension matches with each other\n",
    "# so we need to select events that have both higgs matched\n",
    "\n",
    "# select events that have both H1 and H2\n",
    "events = pd.read_parquet(\n",
    "    \"../../../parquet/out_0.parquet\"\n",
    "    # \"/eos/uscms/store/user/cmantill/bbbb/matching/Aug8/2022/GluGlutoHHto4B_kl-1p00_kt-1p00_c2-0p00_TuneCP5_13p6TeV_TSG/parquet\"\n",
    ")\n",
    "jets = make_vector(events, \"ak4Jet\")\n",
    "gen_higgs = make_vector(events, \"GenHiggs\")\n",
    "\n",
    "# filter out events that have both H matched to\n",
    "filter_j = np.logical_and(\n",
    "    (events[\"ak4JetHiggsMatchIndex\"].to_numpy() == 0).sum(axis=1) == 2,\n",
    "    (events[\"ak4JetHiggsMatchIndex\"].to_numpy() == 1).sum(axis=1) == 2,\n",
    ")\n",
    "\n",
    "events = events[filter_j]"
   ]
  },
  {
   "cell_type": "code",
   "execution_count": null,
   "metadata": {},
   "outputs": [],
   "source": [
    "jet_mwh1 = jets[filter_j]\n",
    "jet_mwh2 = jets[filter_j]\n",
    "matched_w_h1 = (events[\"ak4JetHiggsMatchIndex\"].to_numpy() == 0)[\n",
    "    filte_j\n",
    "]  # jet indices in the matched events\n",
    "jet_mwh1 = jet_mwh1[matched_w_h1].reshape(-1, 2)\n",
    "h1_mwj = gen_higgs[event_matched_w_h1][:, 0]\n",
    "\n",
    "j_ratio = j_higgs_pt / higgs_pt"
   ]
  },
  {
   "cell_type": "markdown",
   "metadata": {},
   "source": [
    "### 1 for AK8"
   ]
  },
  {
   "cell_type": "code",
   "execution_count": null,
   "metadata": {},
   "outputs": [],
   "source": [
    "# get events and fatjets\n",
    "events = pd.read_parquet(\n",
    "    \"../../../parquet/out_0.parquet\"\n",
    "    # \"/eos/uscms/store/user/cmantill/bbbb/matching/Aug8/2022/GluGlutoHHto4B_kl-1p00_kt-1p00_c2-0p00_TuneCP5_13p6TeV_TSG/parquet\"\n",
    ")\n",
    "fjs = make_vector(events, \"ak8FatJet\")\n",
    "gen_higgs = make_vector(events, \"GenHiggs\")\n",
    "\n",
    "N_event_bf_filter = gen_higgs.shape[0]\n",
    "\n",
    "# filter out events that have multiple fatjets matched with 1 higgs\n",
    "filter_fj = np.logical_or(\n",
    "    (events[\"ak8FatJetHiggsMatchIndex\"].to_numpy() == 0).sum(axis=1) > 1,\n",
    "    (events[\"ak8FatJetHiggsMatchIndex\"].to_numpy() == 1).sum(axis=1) > 1,\n",
    ")\n",
    "events = events[~filter_fj]\n",
    "fjs = fjs[~filter_fj]\n",
    "gen_higgs = gen_higgs[~filter_fj]\n",
    "\n",
    "N_event_af_filter = gen_higgs.shape[0]\n",
    "\n",
    "print(f\"Number of overlapped (AK8) events events: {N_event_bf_filter-N_event_af_filter}\")\n",
    "print(f\"Percentage of uniquely assigned (AK8) events: {N_event_af_filter/N_event_bf_filter}\")\n",
    "\n",
    "\n",
    "# get fjs matched to higgs\n",
    "matched_w_h1 = events[\"ak8FatJetHiggsMatchIndex\"] == 0\n",
    "matched_w_h2 = events[\"ak8FatJetHiggsMatchIndex\"] == 1\n",
    "fj_mwh1 = fjs[matched_w_h1]\n",
    "fj_mwh2 = fjs[matched_w_h2]\n",
    "\n",
    "# get higgs that are matched to fjs\n",
    "event_matched_w_h1 = np.any(matched_w_h1 is True, axis=1)\n",
    "event_matched_w_h2 = np.any(matched_w_h2 is True, axis=1)\n",
    "\n",
    "h1 = gen_higgs[:, 0]\n",
    "h2 = gen_higgs[:, 1]\n",
    "\n",
    "h1_mwfj = h1[event_matched_w_h1]\n",
    "h2_mwfj = h2[event_matched_w_h2]"
   ]
  },
  {
   "cell_type": "code",
   "execution_count": null,
   "metadata": {},
   "outputs": [],
   "source": [
    "# plot\n",
    "fig, ax = plt.subplots(1, 2, figsize=(20, 8))\n",
    "\n",
    "ax[0].hist2d(\n",
    "    h1_mwfj.pt.reshape(-1),\n",
    "    fj_mwh1.pt.reshape(-1),\n",
    "    (np.arange(100, 1000, 10), np.arange(100, 1000, 100)),\n",
    ")\n",
    "\n",
    "ax[1].hist2d(\n",
    "    h2_mwfj.pt.reshape(-1),\n",
    "    fj_mwh2.pt.reshape(-1),\n",
    "    (20, 20),\n",
    ")\n",
    "ax[0].set_xlabel(r\"Matched AK8Jet $p_T$ (GeV)\")\n",
    "ax[0].set_ylabel(r\"Matched Higgs $p_T$ (GeV)\")\n",
    "ax[0].set_title(\"Higgs 1\")\n",
    "\n",
    "ax[1].set_xlabel(r\"Matched AK8Jet $p_T$ (GeV)\")\n",
    "ax[1].set_ylabel(r\"Matched Higgs $p_T$ (GeV)\")\n",
    "ax[1].set_title(\"Higgs 2\")\n",
    "\n",
    "# hep.cms.label(\"Work in Progress\", year=\"2022\", com=\"13.6\", ax=ax)\n",
    "plt.savefig(f\"{plot_dir}/H_pt_vs_fj_pt.jpg\", bbox_inches=\"tight\")\n",
    "plt.show()\n",
    "\n",
    "# color map legend"
   ]
  },
  {
   "cell_type": "code",
   "execution_count": null,
   "metadata": {},
   "outputs": [],
   "source": [
    "j_ratio = j_higgs_pt / higgs_pt"
   ]
  }
 ],
 "metadata": {
  "kernelspec": {
   "display_name": "Python 3 (ipykernel)",
   "language": "python",
   "name": "python3"
  },
  "language_info": {
   "codemirror_mode": {
    "name": "ipython",
    "version": 3
   },
   "file_extension": ".py",
   "mimetype": "text/x-python",
   "name": "python",
   "nbconvert_exporter": "python",
   "pygments_lexer": "ipython3",
   "version": "3.9.18"
  }
 },
 "nbformat": 4,
 "nbformat_minor": 4
}
