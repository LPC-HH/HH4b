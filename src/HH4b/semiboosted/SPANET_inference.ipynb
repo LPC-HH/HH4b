{
 "cells": [
  {
   "cell_type": "code",
   "execution_count": null,
   "metadata": {},
   "outputs": [],
   "source": [
    "# automatically reloads imported files on edits\n",
    "%load_ext autoreload\n",
    "%autoreload 2"
   ]
  },
  {
   "cell_type": "code",
   "execution_count": null,
   "metadata": {},
   "outputs": [],
   "source": [
    "import pandas as pd\n",
    "import numpy as np\n",
    "\n",
    "import mplhep as hep\n",
    "import matplotlib.ticker as mticker\n",
    "import matplotlib.pyplot as plt\n",
    "from matplotlib.lines import Line2D\n",
    "\n",
    "import hist\n",
    "\n",
    "hep.style.use([\"CMS\", \"firamath\"])\n",
    "\n",
    "formatter = mticker.ScalarFormatter(useMathText=True)\n",
    "formatter.set_powerlimits((-3, 3))\n",
    "plt.rcParams.update({\"font.size\": 12})\n",
    "plt.rcParams[\"lines.linewidth\"] = 2\n",
    "plt.rcParams[\"grid.color\"] = \"#CCCCCC\"\n",
    "plt.rcParams[\"grid.linewidth\"] = 0.5\n",
    "plt.rcParams[\"figure.edgecolor\"] = \"none\""
   ]
  },
  {
   "cell_type": "code",
   "execution_count": null,
   "metadata": {},
   "outputs": [],
   "source": [
    "import onnxruntime\n",
    "\n",
    "MAIN_DIR = \"../../../\"\n",
    "sess_options = onnxruntime.SessionOptions()\n",
    "sess_options.intra_op_num_threads = 23\n",
    "sess_options.execution_mode = onnxruntime.ExecutionMode.ORT_PARALLEL\n",
    "session = onnxruntime.InferenceSession(\n",
    "    f\"{MAIN_DIR}/../data/spanet-inference/spanet_pnet_all_vars_v0.onnx\", sess_options\n",
    ")"
   ]
  },
  {
   "cell_type": "code",
   "execution_count": null,
   "metadata": {},
   "outputs": [],
   "source": [
    "input_name = session.get_inputs()[0].name\n",
    "output_name = session.get_outputs()[0].name"
   ]
  },
  {
   "cell_type": "code",
   "execution_count": null,
   "metadata": {},
   "outputs": [],
   "source": [
    "events = pd.read_parquet(\n",
    "    \"../../../../data/matching/23Nov18_WSel_v9_private/2018/GluGlutoHHto4B_cHHH1_TuneCP5_PSWeights_13TeV-powheg-pythia8/parquet\"\n",
    ")\n",
    "list(events.columns)"
   ]
  },
  {
   "cell_type": "code",
   "execution_count": null,
   "metadata": {},
   "outputs": [],
   "source": [
    "nevents = len(events.ak4JetPt[0])\n",
    "nevents"
   ]
  },
  {
   "cell_type": "code",
   "execution_count": null,
   "metadata": {},
   "outputs": [],
   "source": [
    "import vector\n",
    "\n",
    "\n",
    "def make_vector(events: pd.DataFrame, obj: str):\n",
    "    \"\"\"Create a ``vector`` object from the columns of the dataframe\"\"\"\n",
    "    mstring = \"PNetMass\" if obj == \"ak8FatJet\" else \"Mass\"\n",
    "\n",
    "    return vector.array(\n",
    "        {\n",
    "            \"pt\": events[f\"{obj}Pt\"],\n",
    "            \"phi\": events[f\"{obj}Phi\"],\n",
    "            \"eta\": events[f\"{obj}Eta\"],\n",
    "            \"M\": events[f\"{obj}{mstring}\"],\n",
    "        }\n",
    "    )\n",
    "\n",
    "\n",
    "jets = make_vector(events, \"ak4Jet\")\n",
    "fatjets = make_vector(events, \"ak8FatJet\")"
   ]
  },
  {
   "cell_type": "code",
   "execution_count": null,
   "metadata": {},
   "outputs": [],
   "source": [
    "njets = 10\n",
    "jet_vars = [\"PtCorr\", \"Eta\", \"SinPhi\", \"CosPhi\", \"PNetB\", \"Mass\"]\n",
    "arrays = []\n",
    "for i in range(njets):\n",
    "    pdf = pd.DataFrame(0, index=np.arange(nevents), columns=jet_vars)\n",
    "    pdf[\"PtCorr\"] = events.ak4JetPt[i]\n",
    "    pdf[\"Eta\"] = events.ak4JetEta[i]\n",
    "    pdf[\"SinPhi\"] = np.sin(events.ak4JetPhi[i])\n",
    "    pdf[\"CosPhi\"] = np.cos(events.ak4JetPhi[i])\n",
    "    pdf[\"Mass\"] = events.ak4JetMass[i]\n",
    "    num = events.ak4JetbtagPNetProbb[i] + events.ak4JetbtagPNetProbbb[i]\n",
    "    den = (\n",
    "        events.ak4JetbtagPNetProbb[i]\n",
    "        + events.ak4JetbtagPNetProbbb[i]\n",
    "        + events.ak4JetbtagPNetProbc[i]\n",
    "        + events.ak4JetbtagPNetProbcc[i]\n",
    "        + events.ak4JetbtagPNetProbg[i]\n",
    "        + events.ak4JetbtagPNetProbuds[i]\n",
    "    )\n",
    "    pdf[\"PNetB\"] = np.where(den > 0, num / den, -1)\n",
    "    np_arr = pdf.values.T.astype(np.float32)\n",
    "    arrays.append(np_arr)\n",
    "\n",
    "Jets_data = np.transpose(np.transpose(arrays, (1, 0, 2)))\n",
    "Jets_Pt = Jets_data[:, :, 0]\n",
    "MIN_PT = 20\n",
    "Jets_mask = Jets_Pt > MIN_PT"
   ]
  },
  {
   "cell_type": "code",
   "execution_count": null,
   "metadata": {},
   "outputs": [],
   "source": [
    "boosted_arrays = []\n",
    "fatjet_vars = [\"Pt\", \"Eta\", \"SinPhi\", \"CosPhi\", \"PNetXbb\", \"PNetXjj\", \"PNetQCD\", \"Mass\"]\n",
    "nfatjets = 3\n",
    "for i in range(nfatjets):\n",
    "    pdf = pd.DataFrame(0, index=np.arange(nevents), columns=fatjet_vars)\n",
    "    pdf[\"Pt\"] = events.ak8FatJetPt[i]\n",
    "    pdf[\"Eta\"] = events.ak8FatJetEta[i]\n",
    "    pdf[\"SinPhi\"] = np.sin(events.ak8FatJetPhi[i])\n",
    "    pdf[\"CosPhi\"] = np.cos(events.ak8FatJetPhi[i])\n",
    "    pdf[\"PNetXbb\"] = events.ak8FatJetPNetXbb[i]\n",
    "    pdf[\"PNetXjj\"] = events.ak8FatJetPNetXjj[i]\n",
    "    pdf[\"PNetQCD\"] = events.ak8FatJetPNetQCD[i]\n",
    "    pdf[\"Mass\"] = events.ak8FatJetPNetMass[i]\n",
    "\n",
    "    np_arr = pdf.values.T.astype(np.float32)\n",
    "    boosted_arrays.append(np_arr)\n",
    "\n",
    "BoostedJets_data = np.transpose(np.transpose(boosted_arrays, (1, 0, 2)))\n",
    "MIN_FJPT = 200\n",
    "BoostedJets_Pt = BoostedJets_data[:, :, 0]\n",
    "BoostedJets_mask = BoostedJets_Pt > MIN_FJPT"
   ]
  },
  {
   "cell_type": "code",
   "execution_count": null,
   "metadata": {},
   "outputs": [],
   "source": [
    "lep_arrays = []\n",
    "lep_vars = [\"Pt\", \"Eta\", \"SinPhi\", \"CosPhi\"]\n",
    "nleptons = 2\n",
    "for i in range(nleptons):\n",
    "    pdf = pd.DataFrame(0, index=np.arange(nevents), columns=lep_vars)\n",
    "    pdf[\"Pt\"] = events.LeptonPt[i]\n",
    "    pdf[\"Eta\"] = events.LeptonEta[i]\n",
    "    pdf[\"SinPhi\"] = np.sin(events.LeptonPhi[i])\n",
    "    pdf[\"CosPhi\"] = np.cos(events.LeptonPhi[i])\n",
    "\n",
    "    np_arr = pdf.values.T.astype(np.float32)\n",
    "    lep_arrays.append(np_arr)\n",
    "\n",
    "Leptons_data = np.transpose(np.transpose(lep_arrays, (1, 0, 2)))\n",
    "Leptons_Pt = Leptons_data[:, :, 0]\n",
    "Leptons_mask = Leptons_Pt > 20"
   ]
  },
  {
   "cell_type": "code",
   "execution_count": null,
   "metadata": {},
   "outputs": [],
   "source": [
    "tau_arrays = []\n",
    "tau_vars = [\"Pt\", \"Eta\", \"SinPhi\", \"CosPhi\"]\n",
    "ntaus = 2\n",
    "for i in range(ntaus):\n",
    "    pdf = pd.DataFrame(0, index=np.arange(nevents), columns=tau_vars)\n",
    "    pdf[\"Pt\"] = events.tauPt[i]\n",
    "    pdf[\"Eta\"] = events.tauEta[i]\n",
    "    pdf[\"SinPhi\"] = np.sin(events.tauPhi[i])\n",
    "    pdf[\"CosPhi\"] = np.cos(events.tauPhi[i])\n",
    "\n",
    "    np_arr = pvalues.T.astype(np.float32)\n",
    "    tau_arrays.append(np_arr)\n",
    "\n",
    "Taus_data = np.transpose(np.transpose(tau_arrays, (1, 0, 2)))\n",
    "Taus_Pt = Taus_data[:, :, 0]\n",
    "Taus_mask = Taus_Pt > 20"
   ]
  },
  {
   "cell_type": "code",
   "execution_count": null,
   "metadata": {},
   "outputs": [],
   "source": [
    "met_arrays = [np.array([events.MET_pt.values.squeeze()])]\n",
    "MET_data = np.transpose(met_arrays)\n",
    "MET_mask = MET_data[:, :, 0] > 0"
   ]
  },
  {
   "cell_type": "code",
   "execution_count": null,
   "metadata": {},
   "outputs": [],
   "source": [
    "ht_arrays = [np.array([events.ht.values.squeeze()])]\n",
    "HT_data = np.transpose(ht_arrays)\n",
    "HT_mask = HT_data[:, :, 0] > 0"
   ]
  },
  {
   "cell_type": "code",
   "execution_count": null,
   "metadata": {},
   "outputs": [],
   "source": [
    "Jets_arrays = {}\n",
    "Higgs_vars = [\"mass\", \"pt\", \"eta\", \"sinphi\", \"cosphi\", \"dr\"]\n",
    "for i in range(njets):\n",
    "    name = \"Jet%s\" % i\n",
    "    Higgs_list = []\n",
    "    for j in range(1, njets):\n",
    "        if i == j:\n",
    "            continue\n",
    "        if int(j) < int(i):\n",
    "            continue\n",
    "        j_i = jets[:, i]\n",
    "        j_j = jets[:, j]\n",
    "        jj = j_i + j_j\n",
    "        pdf = pd.DataFrame(0, index=np.arange(nevents), columns=Higgs_vars)\n",
    "        pdf[\"mass\"] = jj.mass\n",
    "        pdf[\"pt\"] = jj.pt\n",
    "        pdf[\"eta\"] = jj.eta\n",
    "        pdf[\"sinphi\"] = np.sin(jj.phi)\n",
    "        pdf[\"cosphi\"] = np.cos(jj.phi)\n",
    "        pdf[\"dr\"] = j_i.deltaR(j_j)\n",
    "        pdf = pdf.fillna(0)\n",
    "        np_arr = pdf.values.T.astype(np.float32)\n",
    "        Higgs_list.append(np_arr)\n",
    "    Jets_arrays[name] = Higgs_list\n",
    "\n",
    "Jet_data = {}\n",
    "Jet_mask = {}\n",
    "for i in range(njets - 1):\n",
    "    Jet_data[i] = np.transpose(np.transpose(Jets_arrays[f\"Jet{i}\"], (1, 0, 2)))\n",
    "    pt = Jet_data[i][:, :, 0]\n",
    "    Jet_mask[i] = pt > 20"
   ]
  },
  {
   "cell_type": "code",
   "execution_count": null,
   "metadata": {},
   "outputs": [],
   "source": [
    "input_dict = {\n",
    "    \"Jets_data\": Jets_data,\n",
    "    \"Jets_mask\": Jets_mask,\n",
    "    \"BoostedJets_data\": BoostedJets_data,\n",
    "    \"BoostedJets_mask\": BoostedJets_mask,\n",
    "    \"Leptons_data\": Leptons_data,\n",
    "    \"Leptons_mask\": Leptons_mask,\n",
    "    \"Taus_data\": Taus_data,\n",
    "    \"Taus_mask\": Taus_mask,\n",
    "    \"MET_data\": MET_data,\n",
    "    \"MET_mask\": MET_mask,\n",
    "    \"HT_data\": HT_data,\n",
    "    \"HT_mask\": HT_mask,\n",
    "    \"Jet1_data\": Jet_data[0],\n",
    "    \"Jet1_mask\": Jet_mask[0],\n",
    "    \"Jet2_data\": Jet_data[1],\n",
    "    \"Jet2_mask\": Jet_mask[1],\n",
    "    \"Jet3_data\": Jet_data[2],\n",
    "    \"Jet3_mask\": Jet_mask[2],\n",
    "    \"Jet4_data\": Jet_data[3],\n",
    "    \"Jet4_mask\": Jet_mask[3],\n",
    "    \"Jet5_data\": Jet_data[4],\n",
    "    \"Jet5_mask\": Jet_mask[4],\n",
    "    \"Jet6_data\": Jet_data[5],\n",
    "    \"Jet6_mask\": Jet_mask[5],\n",
    "    \"Jet7_data\": Jet_data[6],\n",
    "    \"Jet7_mask\": Jet_mask[6],\n",
    "    \"Jet8_data\": Jet_data[7],\n",
    "    \"Jet8_mask\": Jet_mask[7],\n",
    "    \"Jet9_data\": Jet_data[8],\n",
    "    \"Jet9_mask\": Jet_mask[8],\n",
    "}"
   ]
  },
  {
   "cell_type": "code",
   "execution_count": null,
   "metadata": {},
   "outputs": [],
   "source": [
    "output_nodes = session.get_outputs()\n",
    "output_names = [node.name for node in output_nodes]\n",
    "output_values = session.run(output_names, input_dict)"
   ]
  },
  {
   "cell_type": "code",
   "execution_count": null,
   "metadata": {},
   "outputs": [],
   "source": [
    "output_names"
   ]
  },
  {
   "cell_type": "code",
   "execution_count": null,
   "metadata": {},
   "outputs": [],
   "source": [
    "# 0-8: SPANET matching\n",
    "# assignment probabilities\n",
    "#  max_h1, index_h1: 0\n",
    "#  max_h2, index_h2: 1\n",
    "#  max_h3, index_h3: 2\n",
    "# detection probabilities\n",
    "#  h1Det: 6\n",
    "#  h2Det: 7\n",
    "#  h3Det: 8\n",
    "# boosted assignment probabilities\n",
    "#  bh1: 3\n",
    "#  bh2: 4\n",
    "#  bh3: 5\n",
    "# boosted detection probabilities\n",
    "#  9-11\n",
    "# 12\n",
    "#  0 ?\n",
    "#  prob_hhh: 1\n",
    "#  prob_qcd: 2\n",
    "#  prob_tt: 3\n",
    "#  prob_vjets: 4\n",
    "#  prob_vv: 5\n",
    "#  prob_hhh4b2tau: 6\n",
    "#  prob_hh4b: 7\n",
    "#  prob_hh2b2tau: 8\n",
    "classification = output_values[12]"
   ]
  },
  {
   "cell_type": "code",
   "execution_count": null,
   "metadata": {},
   "outputs": [],
   "source": [
    "prob_hhh = output_values[12][:, 1]\n",
    "prob_qcd = output_values[12][:, 2]\n",
    "prob_tt = output_values[12][:, 3]\n",
    "prob_vjets = output_values[12][:, 4]\n",
    "prob_vv = output_values[12][:, 5]\n",
    "prob_hhh4b2tau = output_values[12][:, 6]\n",
    "prob_hh4b = output_values[12][:, 7]\n",
    "prob_hh2b2tau = output_values[12][:, 8]"
   ]
  },
  {
   "cell_type": "code",
   "execution_count": null,
   "metadata": {},
   "outputs": [],
   "source": [
    "spanet_discr_axis = hist.axis.Regular(40, 0, 1, name=\"discr\", label=\"SPANET Prob Discriminator\")\n",
    "class_axis = hist.axis.StrCategory([], name=\"class\", growth=True)\n",
    "h = hist.Hist(spanet_discr_axis, class_axis)\n",
    "h.fill(prob_hhh, \"hhh\")\n",
    "h.fill(prob_qcd, \"qcd\")\n",
    "h.fill(prob_tt, \"tt\")\n",
    "h.fill(prob_vjets, \"vjets\")\n",
    "h.fill(prob_vv, \"vv\")\n",
    "h.fill(prob_hhh4b2tau, \"hhh4b2tau\")\n",
    "h.fill(prob_hh4b, \"hh4b\")\n",
    "h.fill(prob_hh2b2tau, \"hh2b2tau\")\n",
    "\n",
    "fig, ax = plt.subplots(1, 1, figsize=(7, 5))\n",
    "legend_elements = []\n",
    "linestyles = {\n",
    "    \"hh4b\": \"solid\",\n",
    "    \"hhh\": \"dashed\",\n",
    "    \"hhh4b2tau\": \"dashdot\",\n",
    "    \"hh2b2tau\": \"dashed\",\n",
    "    \"qcd\": \"dashdot\",\n",
    "    \"tt\": \"dotted\",\n",
    "    \"vv\": \"dotted\",\n",
    "    \"vjets\": \"dashed\",\n",
    "}\n",
    "color_by_prob = {\n",
    "    \"hh4b\": \"red\",\n",
    "    \"hhh\": \"green\",\n",
    "    \"hhh4b2tau\": \"grey\",\n",
    "    \"hh2b2tau\": \"black\",\n",
    "    \"qcd\": \"orange\",\n",
    "    \"tt\": \"blue\",\n",
    "    \"vv\": \"teal\",\n",
    "    \"vjets\": \"violet\",\n",
    "}\n",
    "for key in [\"hhh\", \"qcd\", \"tt\", \"vv\", \"vjets\", \"hhh4b2tau\", \"hh2b2tau\", \"hh4b\"]:\n",
    "    hep.histplot(\n",
    "        h[{\"class\": key}],\n",
    "        density=True,\n",
    "        lw=2,\n",
    "        ls=linestyles[key],\n",
    "        color=color_by_prob[key],\n",
    "    )\n",
    "    legend_elements.append(\n",
    "        Line2D([0], [0], color=color_by_prob[key], lw=2, label=key, ls=linestyles[key])\n",
    "    )\n",
    "ax.legend(handles=legend_elements)\n",
    "ax.set_ylabel(\"Density\")\n",
    "ax.set_yscale(\"log\")\n",
    "ax.set_title(\"HH4b sample\")"
   ]
  },
  {
   "cell_type": "code",
   "execution_count": null,
   "metadata": {},
   "outputs": [],
   "source": [
    "session_assignment = onnxruntime.InferenceSession(\n",
    "    f\"{MAIN_DIR}/../data/spanet-inference/spanet_categorisation_v6.onnx\", sess_options\n",
    ")"
   ]
  },
  {
   "cell_type": "code",
   "execution_count": null,
   "metadata": {},
   "outputs": [],
   "source": [
    "output_nodes_assignment = session_assignment.get_outputs()\n",
    "output_names_assignment = [node.name for node in output_nodes_assignment]\n",
    "output_values_assignment = session_assignment.run(output_names_assignment, input_dict)"
   ]
  },
  {
   "cell_type": "code",
   "execution_count": null,
   "metadata": {},
   "outputs": [],
   "source": [
    "output_names_assignment"
   ]
  },
  {
   "cell_type": "code",
   "execution_count": null,
   "metadata": {},
   "outputs": [],
   "source": [
    "prob_3bh0h = output_values_assignment[12][:, 1]\n",
    "prob_2bh1h = output_values_assignment[12][:, 2]\n",
    "prob_1bh2h = output_values_assignment[12][:, 3]\n",
    "prob_0bh3h = output_values_assignment[12][:, 4]\n",
    "prob_2bh0h = output_values_assignment[12][:, 5]\n",
    "prob_1bh1h = output_values_assignment[12][:, 6]\n",
    "prob_0bh2h = output_values_assignment[12][:, 7]\n",
    "prob_1bh0h = output_values_assignment[12][:, 8]\n",
    "prob_0bh1h = output_values_assignment[12][:, 9]\n",
    "prob_0bh0h = output_values_assignment[12][:, 0]"
   ]
  },
  {
   "cell_type": "code",
   "execution_count": null,
   "metadata": {},
   "outputs": [],
   "source": [
    "input_dict[\"Jet9_data\"][0]"
   ]
  },
  {
   "cell_type": "code",
   "execution_count": null,
   "metadata": {},
   "outputs": [],
   "source": [
    "np.argmax(np.stack(output_values_assignment[12], axis=1), axis=0)"
   ]
  },
  {
   "cell_type": "code",
   "execution_count": null,
   "metadata": {},
   "outputs": [],
   "source": [
    "prob_3bh0h"
   ]
  },
  {
   "cell_type": "code",
   "execution_count": null,
   "metadata": {},
   "outputs": [],
   "source": [
    "spanet_discr_axis = hist.axis.Regular(40, 0, 1, name=\"discr\", label=\"SPANET Assignment\")\n",
    "class_axis = hist.axis.StrCategory([], name=\"class\", growth=True)\n",
    "h = hist.Hist(spanet_discr_axis, class_axis)\n",
    "h.fill(prob_3bh0h, \"3bh0h\")\n",
    "h.fill(prob_2bh1h, \"2bh1h\")\n",
    "h.fill(prob_1bh2h, \"1bh2h\")\n",
    "h.fill(prob_0bh3h, \"0bh3h\")\n",
    "h.fill(prob_2bh0h, \"2bh0h\")\n",
    "h.fill(prob_1bh1h, \"1bh1h\")\n",
    "h.fill(prob_0bh2h, \"0bh2h\")\n",
    "h.fill(prob_1bh0h, \"1bh0h\")\n",
    "h.fill(prob_0bh1h, \"0bh1h\")\n",
    "h.fill(prob_0bh0h, \"0bh0h\")\n",
    "\n",
    "fig, ax = plt.subplots(1, 1, figsize=(7, 5))\n",
    "legend_elements = []\n",
    "color_by_prob = {\n",
    "    \"3bh0h\": \"grey\",\n",
    "    \"2bh1h\": \"grey\",\n",
    "    \"1bh2h\": \"grey\",\n",
    "    \"0bh3h\": \"grey\",\n",
    "    \"2bh0h\": \"blue\",\n",
    "    \"1bh1h\": \"red\",\n",
    "    \"0bh2h\": \"green\",\n",
    "    \"1bh0h\": \"black\",\n",
    "    \"0bh1h\": \"black\",\n",
    "    \"0bh0h\": \"black\",\n",
    "}\n",
    "for key in color_by_prob.keys():\n",
    "    hep.histplot(\n",
    "        h[{\"class\": key}],\n",
    "        density=True,\n",
    "        lw=2,\n",
    "        color=color_by_prob[key],\n",
    "    )\n",
    "    legend_elements.append(Line2D([0], [0], color=color_by_prob[key], lw=2, label=key))\n",
    "ax.legend(handles=legend_elements)\n",
    "ax.set_ylabel(\"Density\")\n",
    "ax.set_yscale(\"log\")\n",
    "ax.set_title(\"HH4b sample\")"
   ]
  },
  {
   "cell_type": "code",
   "execution_count": null,
   "metadata": {},
   "outputs": [],
   "source": [
    "input_dict_func.keys()"
   ]
  },
  {
   "cell_type": "code",
   "execution_count": null,
   "metadata": {},
   "outputs": [],
   "source": [
    "input_dict[\"Jets_data\"][1]"
   ]
  },
  {
   "cell_type": "code",
   "execution_count": null,
   "metadata": {},
   "outputs": [],
   "source": [
    "# cross check w functions\n",
    "from HH4b.matching_study import predict_spanet_hhh\n",
    "\n",
    "input_dict_func = predict_spanet_hhh.build_inputs(events)\n",
    "output_values_assignment_func = session_assignment.run(output_names_assignment, input_dict_func)"
   ]
  },
  {
   "cell_type": "code",
   "execution_count": null,
   "metadata": {},
   "outputs": [],
   "source": [
    "output_values_assignment_func[12][0]"
   ]
  },
  {
   "cell_type": "code",
   "execution_count": null,
   "metadata": {},
   "outputs": [],
   "source": [
    "output_values_assignment[12][0]"
   ]
  },
  {
   "cell_type": "code",
   "execution_count": null,
   "metadata": {},
   "outputs": [],
   "source": [
    "input_dict_func.keys()"
   ]
  },
  {
   "cell_type": "code",
   "execution_count": null,
   "metadata": {},
   "outputs": [],
   "source": [
    "input_dict.keys()"
   ]
  },
  {
   "cell_type": "code",
   "execution_count": null,
   "metadata": {},
   "outputs": [],
   "source": [
    "prob_3bh0h_f = output_values_assignment_func[12][:, 1]\n",
    "prob_2bh1h_f = output_values_assignment_func[12][:, 2]\n",
    "prob_1bh2h_f = output_values_assignment_func[12][:, 3]\n",
    "prob_0bh3h_f = output_values_assignment_func[12][:, 4]\n",
    "prob_2bh0h_f = output_values_assignment_func[12][:, 5]\n",
    "prob_1bh1h_f = output_values_assignment_func[12][:, 6]\n",
    "prob_0bh2h_f = output_values_assignment_func[12][:, 7]\n",
    "prob_1bh0h_f = output_values_assignment_func[12][:, 8]\n",
    "prob_0bh1h_f = output_values_assignment_func[12][:, 9]\n",
    "prob_0bh0h_f = output_values_assignment_func[12][:, 0]"
   ]
  },
  {
   "cell_type": "code",
   "execution_count": null,
   "metadata": {},
   "outputs": [],
   "source": [
    "h = hist.Hist(spanet_discr_axis, class_axis)\n",
    "h.fill(prob_3bh0h_f, \"3bh0h\")\n",
    "h.fill(prob_2bh1h_f, \"2bh1h\")\n",
    "h.fill(prob_1bh2h_f, \"1bh2h\")\n",
    "h.fill(prob_0bh3h_f, \"0bh3h\")\n",
    "h.fill(prob_2bh0h_f, \"2bh0h\")\n",
    "h.fill(prob_1bh1h_f, \"1bh1h\")\n",
    "h.fill(prob_0bh2h_f, \"0bh2h\")\n",
    "h.fill(prob_1bh0h_f, \"1bh0h\")\n",
    "h.fill(prob_0bh1h_f, \"0bh1h\")\n",
    "h.fill(prob_0bh0h_f, \"0bh0h\")\n",
    "\n",
    "fig, ax = plt.subplots(1, 1, figsize=(7, 5))\n",
    "legend_elements = []\n",
    "color_by_prob = {\n",
    "    \"3bh0h\": \"grey\",\n",
    "    \"2bh1h\": \"grey\",\n",
    "    \"1bh2h\": \"grey\",\n",
    "    \"0bh3h\": \"grey\",\n",
    "    \"2bh0h\": \"blue\",\n",
    "    \"1bh1h\": \"red\",\n",
    "    \"0bh2h\": \"green\",\n",
    "    \"1bh0h\": \"black\",\n",
    "    \"0bh1h\": \"black\",\n",
    "    \"0bh0h\": \"black\",\n",
    "}\n",
    "for key in color_by_prob.keys():\n",
    "    hep.histplot(\n",
    "        h[{\"class\": key}],\n",
    "        density=True,\n",
    "        lw=2,\n",
    "        color=color_by_prob[key],\n",
    "    )\n",
    "    legend_elements.append(Line2D([0], [0], color=color_by_prob[key], lw=2, label=key))\n",
    "ax.legend(handles=legend_elements)\n",
    "ax.set_ylabel(\"Density\")\n",
    "ax.set_yscale(\"log\")\n",
    "ax.set_title(\"HH4b sample\")"
   ]
  },
  {
   "cell_type": "code",
   "execution_count": null,
   "metadata": {},
   "outputs": [],
   "source": [
    "import awkward as ak"
   ]
  },
  {
   "cell_type": "code",
   "execution_count": null,
   "metadata": {},
   "outputs": [],
   "source": [
    "arr = np.triu(output_values[0][0][0:10, 0:10])\n",
    "# np.argsort(arr.flatten())[::-1][:45]\n",
    "arr = ak.from_numpy(arr)\n",
    "# ak.argsort(arr, ascending=False, axis=1).to_numpy()\n",
    "arr.to_numpy()"
   ]
  },
  {
   "cell_type": "code",
   "execution_count": null,
   "metadata": {},
   "outputs": [],
   "source": [
    "np.argsort(arr.to_numpy().flatten())[::-1][:45]"
   ]
  },
  {
   "cell_type": "code",
   "execution_count": null,
   "metadata": {},
   "outputs": [],
   "source": [
    "def get_maximas(assignment_prob):\n",
    "    \"\"\"\n",
    "    Get indices of possible jet pairings (10*(10-1) / 2 = 45) for a given higgs\n",
    "    sorted by maximum assignment probability\n",
    "    Jet pairings are an int, e.g. 1 or 12, which should be converted to a string:\n",
    "    - 1 => 01 pairs\n",
    "    - 12 => 12 pairs\n",
    "    \"\"\"\n",
    "    # get 10*10 assignment probabilities\n",
    "    # get upper triangle to avoid pairing repetitions\n",
    "    assignment_prob_ak = ak.from_numpy(np.triu(assignment_prob[:][:, 0:njets, 0:njets]))\n",
    "    arr_flat = ak.flatten(assignment_prob_ak, axis=2)\n",
    "    # sort pairings by maximum assignment probabilities\n",
    "    max_indices = ak.argsort(arr_flat, ascending=False, axis=1).to_numpy()[:, :45]\n",
    "    max_values = arr_flat[max_indices]\n",
    "    return max_indices, max_values\n",
    "\n",
    "\n",
    "# h1 - h3 assignment probability\n",
    "index_h1, prob_h1 = get_maximas(output_values[0][:])\n",
    "index_h2, prob_h2 = get_maximas(output_values[1][:])\n",
    "index_h3, prob_h3 = get_maximas(output_values[2][:])\n",
    "hIndex = ak.from_numpy(np.stack([index_h1, index_h2, index_h3], axis=1))\n",
    "\n",
    "# h1 - h3 detection probability\n",
    "h1Det = output_values[6][:]\n",
    "h2Det = output_values[7][:]\n",
    "h3Det = output_values[8][:]\n",
    "hDet = np.stack([h1Det, h2Det, h3Det]).T\n",
    "# sort detection probabiilty\n",
    "hDetMax = ak.argsort(ak.from_numpy(hDet), ascending=False, axis=1)"
   ]
  },
  {
   "cell_type": "code",
   "execution_count": null,
   "metadata": {},
   "outputs": [],
   "source": [
    "# boosted h1 - h3 assignment probability\n",
    "bh1 = output_values[3][:]\n",
    "bh2 = output_values[4][:]\n",
    "bh3 = output_values[5][:]\n",
    "\n",
    "# boosted_higgs = find_boosted_higgs(bh1,bh2,bh3)\n",
    "# SPANET creates assignment matrices keeping both AK4 and AK8 jets, so 10 + 3\n",
    "# for boosted assignment, we want only AK8 jets, hence I look only at elements 10,11,12\n",
    "boosted_h1 = ak.from_regular(ak.from_numpy(bh1[:, 10:13])) > 0.5\n",
    "boosted_h2 = (ak.from_regular(ak.from_numpy(bh2[:, 10:13])) > 0.5) & ~boosted_h1\n",
    "boosted_h3 = (ak.from_regular(ak.from_numpy(bh3[:, 10:13])) > 0.5) & (~boosted_h2) & (~boosted_h1)"
   ]
  },
  {
   "cell_type": "code",
   "execution_count": null,
   "metadata": {},
   "outputs": [],
   "source": [
    "boosted = np.stack([boosted_h1, boosted_h2, boosted_h3], axis=1)"
   ]
  },
  {
   "cell_type": "code",
   "execution_count": null,
   "metadata": {},
   "outputs": [],
   "source": [
    "boosted_h1.to_numpy()"
   ]
  },
  {
   "cell_type": "code",
   "execution_count": null,
   "metadata": {},
   "outputs": [],
   "source": [
    "boosted_h2.to_numpy()"
   ]
  },
  {
   "cell_type": "code",
   "execution_count": null,
   "metadata": {},
   "outputs": [],
   "source": [
    "boosted_h3.to_numpy()"
   ]
  },
  {
   "cell_type": "code",
   "execution_count": null,
   "metadata": {},
   "outputs": [],
   "source": [
    "positions, index = ak.where(boosted_h1)\n",
    "index"
   ]
  },
  {
   "cell_type": "code",
   "execution_count": null,
   "metadata": {},
   "outputs": [],
   "source": [
    "positions, index = ak.where(boosted_h2)\n",
    "index"
   ]
  },
  {
   "cell_type": "code",
   "execution_count": null,
   "metadata": {},
   "outputs": [],
   "source": [
    "positions, index = ak.where(boosted_h3)\n",
    "index"
   ]
  },
  {
   "cell_type": "code",
   "execution_count": null,
   "metadata": {},
   "outputs": [],
   "source": [
    "higgs_reconstructed_index = ak.from_numpy(\n",
    "    np.repeat([[0, 1, 2]], boosted.to_numpy().shape[0], axis=0)\n",
    ")\n",
    "higgs_reconstructed_index"
   ]
  },
  {
   "cell_type": "code",
   "execution_count": null,
   "metadata": {},
   "outputs": [],
   "source": [
    "h_index_1_char = np.char.mod(\"%02d\", index_h1)\n",
    "h_index_2_char = np.char.mod(\"%02d\", index_h2)\n",
    "h_index_3_char = np.char.mod(\"%02d\", index_h3)\n",
    "h_index_char = np.stack([h_index_1_char, h_index_2_char, h_index_3_char], axis=1)\n",
    "\n",
    "\n",
    "def remove_elements_with_pd(h_index_char, selected_pairs):\n",
    "    pairs_pd = pd.DataFrame()\n",
    "    pairs_pd[\"pairs_str\"] = np.char.mod(\"%02d\", selected_pairs)\n",
    "    pairs_pd[\"jet0\"] = pairs_pd[\"pairs_str\"].str[0].astype(int)\n",
    "    pairs_pd[\"jet1\"] = pairs_pd[\"pairs_str\"].str[1].astype(int)\n",
    "\n",
    "    # just not smart enough to figure this out w/o a loop\n",
    "    pairs_used = []\n",
    "    for j in range(3):\n",
    "        used_j = []\n",
    "        for i in range(45):\n",
    "            x = pd.Series(h_index_char[:, 0][:, i]).astype(str)\n",
    "            used = (\n",
    "                (x.str[0].astype(int) == pairs_pd[\"jet0\"])\n",
    "                | (x.str[1].astype(int) == pairs_pd[\"jet0\"])\n",
    "                | (x.str[0].astype(int) == pairs_pd[\"jet1\"])\n",
    "                | (x.str[1].astype(int) == pairs_pd[\"jet1\"])\n",
    "            )\n",
    "            used_j.append(used.values)\n",
    "        used_j = np.array(used_j).T\n",
    "        pairs_used.append(used_j)\n",
    "    pairs_used = np.array(pairs_used)\n",
    "    pairs_used = np.transpose(pairs_used, (1, 0, 2))\n",
    "    return pairs_used\n",
    "\n",
    "\n",
    "# get pairings of higgs with max detection probability\n",
    "higgs_1 = hIndex[hDetMax[:, 0:1]]\n",
    "# select the first pairs (sorted by assignment probability)\n",
    "higgs_1_pairs = ak.flatten(higgs_1[:, :, 0]).to_numpy()\n",
    "\n",
    "# get mask for pairings that are already in use\n",
    "is_higgs_1_pair = remove_elements_with_pd(h_index_char, higgs_1_pairs)\n",
    "hIndex_wo1 = ak.mask(hIndex, ~is_higgs_1_pair)\n",
    "\n",
    "# get pairings of higgs with 2nd max detection probability\n",
    "higgs_2 = hIndex_wo1[hDetMax[:, 1:2]]\n",
    "# select the first pairs (that are not masked)\n",
    "higgs_2_pairs = np.array([h.to_numpy().compressed()[0] for h in higgs_2])\n",
    "\n",
    "# get mask for pairings that are already in use\n",
    "is_higgs_2_pair = remove_elements_with_pd(h_index_char, higgs_2_pairs)\n",
    "hIndex_wo2 = ak.mask(hIndex_wo1, (~is_higgs_2_pair) & (~is_higgs_1_pair))\n",
    "\n",
    "# get pairings of higgs with 2nd max detection probability\n",
    "higgs_3 = hIndex_wo2[hDetMax[:, 2:3]]\n",
    "higgs_3_pairs = np.array([h.to_numpy().compressed()[0] for h in higgs_3])"
   ]
  },
  {
   "cell_type": "code",
   "execution_count": null,
   "metadata": {},
   "outputs": [],
   "source": [
    "resolved_higgs = np.stack([higgs_1_pairs, higgs_2_pairs, higgs_3_pairs], axis=1)\n",
    "resolved_higgs"
   ]
  },
  {
   "cell_type": "code",
   "execution_count": null,
   "metadata": {},
   "outputs": [],
   "source": [
    "higgs_reconstructed_index_fill = ak.where(boosted_h1, higgs_reconstructed_index, resolved_higgs)\n",
    "higgs_reconstructed_index_fill"
   ]
  },
  {
   "cell_type": "code",
   "execution_count": null,
   "metadata": {},
   "outputs": [],
   "source": [
    "higgs_reconstructed_index_fill = ak.where(\n",
    "    (boosted_h1 | boosted_h2 | boosted_h3), higgs_reconstructed_index, resolved_higgs\n",
    ")\n",
    "higgs_reconstructed_index_fill"
   ]
  },
  {
   "cell_type": "code",
   "execution_count": null,
   "metadata": {},
   "outputs": [],
   "source": [
    "higgs_jet_mass = ak.where((boosted_h1 | boosted_h2 | boosted_h3), fatjets.mass, resolved_higgs)\n",
    "higgs_jet_pt = ak.where((boosted_h1 | boosted_h2 | boosted_h3), fatjets.eta, resolved_higgs)\n",
    "higgs_jet_eta = ak.where((boosted_h1 | boosted_h2 | boosted_h3), fatjets.phi, resolved_higgs)\n",
    "higgs_jet_phi = ak.where((boosted_h1 | boosted_h2 | boosted_h3), fatjets.pt, resolved_higgs)"
   ]
  },
  {
   "cell_type": "code",
   "execution_count": null,
   "metadata": {},
   "outputs": [],
   "source": [
    "is_boosted_1 = ak.any(boosted_h1, axis=1)\n",
    "is_boosted_2 = ak.any(boosted_h2, axis=1)\n",
    "is_boosted_3 = ak.any(boosted_h3, axis=1)\n",
    "is_boosted_all = ak.any((boosted_h1 | boosted_h2 | boosted_h3), axis=1)\n",
    "is_boosted_stack = boosted_h1 | boosted_h2 | boosted_h3"
   ]
  },
  {
   "cell_type": "code",
   "execution_count": null,
   "metadata": {},
   "outputs": [],
   "source": []
  },
  {
   "cell_type": "code",
   "execution_count": null,
   "metadata": {},
   "outputs": [],
   "source": [
    "is_boosted_stack.to_numpy()"
   ]
  },
  {
   "cell_type": "code",
   "execution_count": null,
   "metadata": {},
   "outputs": [],
   "source": [
    "fatjets[pairs_pd[\"higgs_1_rec\"]].mass"
   ]
  },
  {
   "cell_type": "code",
   "execution_count": null,
   "metadata": {},
   "outputs": [],
   "source": [
    "fatjets.mass.shape"
   ]
  },
  {
   "cell_type": "code",
   "execution_count": null,
   "metadata": {},
   "outputs": [],
   "source": [
    "fatjets.mass.shape"
   ]
  },
  {
   "cell_type": "code",
   "execution_count": null,
   "metadata": {},
   "outputs": [],
   "source": [
    "fatjets.mass"
   ]
  },
  {
   "cell_type": "code",
   "execution_count": null,
   "metadata": {},
   "outputs": [],
   "source": [
    "is_boosted_stack"
   ]
  },
  {
   "cell_type": "code",
   "execution_count": null,
   "metadata": {},
   "outputs": [],
   "source": [
    "fatjets.mass"
   ]
  },
  {
   "cell_type": "code",
   "execution_count": null,
   "metadata": {},
   "outputs": [],
   "source": [
    "higgs_reconstructed_index_fill"
   ]
  },
  {
   "cell_type": "code",
   "execution_count": null,
   "metadata": {},
   "outputs": [],
   "source": [
    "pairs_pd = pd.DataFrame()\n",
    "for i in range(1, 4):\n",
    "    pairs_pd[f\"higgs_{i}_rec\"] = higgs_reconstructed_index_fill[:, i - 1].to_numpy()\n",
    "    pairs_pd[f\"higgs_{i}_isboosted\"] = is_boosted_stack[:, i - 1].to_numpy()\n",
    "    pairs_pd[f\"higgs_{i}_pairs_str\"] = np.char.mod(\"%02d\", resolved_higgs[:, i - 1])\n",
    "    pairs_pd[f\"higgs_{i}_jet0\"] = pairs_pd[f\"higgs_{i}_pairs_str\"].str[0].astype(int)\n",
    "    pairs_pd[f\"higgs_{i}_jet1\"] = pairs_pd[f\"higgs_{i}_pairs_str\"].str[1].astype(int)\n",
    "    pairs_pd[f\"higgs_{i}_jet_mass\"] = higgs_jet_mass[:, i - 1]\n",
    "\n",
    "pairs_pd"
   ]
  },
  {
   "cell_type": "code",
   "execution_count": null,
   "metadata": {},
   "outputs": [],
   "source": [
    "pairs_pd"
   ]
  },
  {
   "cell_type": "code",
   "execution_count": null,
   "metadata": {},
   "outputs": [],
   "source": [
    "for i in range(1, 4):\n",
    "    jjs = []\n",
    "    for j in range(pairs_pd[f\"higgs_{i}_jet0\"].shape[0]):\n",
    "        jet_0 = pairs_pd[f\"higgs_{i}_jet0\"][j]\n",
    "        jet0 = jets[j, jet_0]\n",
    "        jet_1 = pairs_pd[f\"higgs_{i}_jet1\"][j]\n",
    "        jet1 = jets[j, jet_1]\n",
    "        jjs.append((jet0 + jet1))\n",
    "    pairs_pd[f\"higgs_resolved_{i}_mass\"] = [jj.mass for jj in jjs]\n",
    "    pairs_pd[f\"higgs_resolved_{i}_eta\"] = [jj.eta for jj in jjs]\n",
    "    pairs_pd[f\"higgs_resolved_{i}_phi\"] = [jj.phi for jj in jjs]\n",
    "    pairs_pd[f\"higgs_resolved_{i}_pt\"] = [jj.pt for jj in jjs]"
   ]
  },
  {
   "cell_type": "code",
   "execution_count": null,
   "metadata": {},
   "outputs": [],
   "source": [
    "(jets[3, 1] + jets[3, 4])"
   ]
  },
  {
   "cell_type": "code",
   "execution_count": null,
   "metadata": {},
   "outputs": [],
   "source": [
    "jets[3, 1]"
   ]
  },
  {
   "cell_type": "code",
   "execution_count": null,
   "metadata": {},
   "outputs": [],
   "source": [
    "jets[3, 4]"
   ]
  },
  {
   "cell_type": "code",
   "execution_count": null,
   "metadata": {},
   "outputs": [],
   "source": [
    "jet0_mass"
   ]
  },
  {
   "cell_type": "code",
   "execution_count": null,
   "metadata": {},
   "outputs": [],
   "source": [
    "jet1_mass"
   ]
  },
  {
   "cell_type": "code",
   "execution_count": null,
   "metadata": {},
   "outputs": [],
   "source": [
    "for i in range(1, 4):\n",
    "    pairs_pd.loc[~pairs_pd[f\"higgs_{i}_isboosted\"], f\"higgs_{i}_jet_mass\"] = pairs_pd[\n",
    "        f\"higgs_resolved_{i}_mass\"\n",
    "    ]\n",
    "    pairs_pd.loc[~pairs_pd[f\"higgs_{i}_isboosted\"], f\"higgs_{i}_jet_mass\"] = pairs_pd[\n",
    "        f\"higgs_resolved_{i}_mass\"\n",
    "    ]\n",
    "    pairs_pd.loc[~pairs_pd[f\"higgs_{i}_isboosted\"], f\"higgs_{i}_jet_mass\"] = pairs_pd[\n",
    "        f\"higgs_resolved_{i}_mass\"\n",
    "    ]\n",
    "\n",
    "columns = []\n",
    "for i in range(1, 4):\n",
    "    columns.append(f\"higgs_{i}_jet_mass\")\n",
    "    columns.append(f\"higgs_{i}_isboosted\")\n",
    "\n",
    "pairs_pd[columns]"
   ]
  },
  {
   "cell_type": "code",
   "execution_count": null,
   "metadata": {},
   "outputs": [],
   "source": [
    "spanet_higgsmass_axis = hist.axis.Regular(40, 0, 250, name=\"mass\", label=\"SPANET Higgs mass\")\n",
    "higgs_axis = hist.axis.StrCategory([], name=\"higgs\", growth=True)\n",
    "h = hist.Hist(spanet_higgsmass_axis, higgs_axis)\n",
    "h.fill(pairs_pd[\"higgs_1_jet_mass\"], \"h1\")\n",
    "h.fill(pairs_pd[\"higgs_2_jet_mass\"], \"h2\")\n",
    "h.fill(pairs_pd[\"higgs_3_jet_mass\"], \"h3\")\n",
    "\n",
    "\n",
    "fig, ax = plt.subplots(1, 1, figsize=(7, 5))\n",
    "legend_elements = []\n",
    "linestyle_by_class = {\n",
    "    \"h1\": \"solid\",\n",
    "    \"h2\": \"dashed\",\n",
    "    \"h3\": \"dotted\",\n",
    "}\n",
    "color_by_class = {\n",
    "    \"h1\": \"gray\",\n",
    "    \"h2\": \"gray\",\n",
    "    \"h3\": \"gray\",\n",
    "}\n",
    "for key in linestyle_by_class.keys():\n",
    "    hep.histplot(\n",
    "        h[{\"higgs\": key}], density=True, lw=2, ls=linestyle_by_class[key], color=color_by_class[key]\n",
    "    )\n",
    "    legend_elements.append(\n",
    "        Line2D([0], [0], ls=linestyle_by_class[key], lw=2, label=key, color=color_by_class[key])\n",
    "    )\n",
    "ax.legend(handles=legend_elements)\n",
    "ax.set_ylabel(\"Density\")\n",
    "ax.set_yscale(\"log\")\n",
    "ax.set_title(\"HH4b sample\")"
   ]
  },
  {
   "cell_type": "code",
   "execution_count": null,
   "metadata": {},
   "outputs": [],
   "source": [
    "all_probs = np.stack(\n",
    "    [\n",
    "        prob_3bh0h,\n",
    "        prob_2bh1h,\n",
    "        prob_1bh2h,\n",
    "        prob_0bh3h,\n",
    "        prob_2bh0h,\n",
    "        prob_1bh1h,\n",
    "        prob_0bh2h,\n",
    "        prob_1bh0h,\n",
    "        prob_0bh1h,\n",
    "        prob_0bh0h,\n",
    "    ],\n",
    "    axis=1,\n",
    ")\n",
    "all_probs"
   ]
  },
  {
   "cell_type": "code",
   "execution_count": null,
   "metadata": {},
   "outputs": [],
   "source": [
    "np.argmax(np.stack(output_values_assignment[12], axis=1), axis=0)"
   ]
  },
  {
   "cell_type": "code",
   "execution_count": null,
   "metadata": {},
   "outputs": [],
   "source": [
    "probs_str = [\n",
    "    \"3bh0h\",\n",
    "    \"2bh1h\",\n",
    "    \"1bh2h\",\n",
    "    \"0bh3h\",\n",
    "    \"2bh0h\",\n",
    "    \"1bh1h\",\n",
    "    \"0bh2h\",\n",
    "    \"1bh0h\",\n",
    "    \"0bh1h\",\n",
    "    \"0bh0h\",\n",
    "]"
   ]
  },
  {
   "cell_type": "code",
   "execution_count": null,
   "metadata": {},
   "outputs": [],
   "source": [
    "max_probs = np.argmax(all_probs, axis=1)\n",
    "max_probs.shape"
   ]
  },
  {
   "cell_type": "code",
   "execution_count": null,
   "metadata": {},
   "outputs": [],
   "source": [
    "max_probs"
   ]
  },
  {
   "cell_type": "code",
   "execution_count": null,
   "metadata": {},
   "outputs": [],
   "source": [
    "probs_axis = hist.axis.IntCategory(\n",
    "    range(10), name=\"prob\", label=\"SPANET max probability\", growth=True\n",
    ")\n",
    "h = hist.Hist(probs_axis)\n",
    "h.fill(max_probs)\n",
    "\n",
    "fig, ax = plt.subplots(1, 1, figsize=(7, 5))\n",
    "hep.histplot(\n",
    "    h,\n",
    "    lw=2,\n",
    ")\n",
    "ax.set_ylabel(\"Events\")\n",
    "ax.set_yscale(\"log\")\n",
    "xticks = [i + 0.5 for i in range(10)]\n",
    "ax.set_xticks(xticks, probs_str, size=\"small\", rotation=\"vertical\")\n",
    "ax.set_title(\"HH4b sample\")"
   ]
  },
  {
   "cell_type": "code",
   "execution_count": null,
   "metadata": {},
   "outputs": [],
   "source": [
    "h = hist.Hist(spanet_higgsmass_axis, higgs_axis, probs_axis)\n",
    "h.fill(pairs_pd[\"higgs_1_jet_mass\"], \"h1\", max_probs)\n",
    "h.fill(pairs_pd[\"higgs_2_jet_mass\"], \"h2\", max_probs)\n",
    "h.fill(pairs_pd[\"higgs_3_jet_mass\"], \"h3\", max_probs)\n",
    "\n",
    "fig, ax = plt.subplots(1, 2, figsize=(12, 5))\n",
    "linestyle_by_class = {\n",
    "    \"h1\": \"solid\",\n",
    "    \"h2\": \"dashed\",\n",
    "    # \"h3\": \"dotted\",\n",
    "}\n",
    "color_by_class = {\n",
    "    4: {\n",
    "        \"h1\": \"green\",\n",
    "        \"h2\": \"green\",\n",
    "        # \"h3\": \"green\",\n",
    "    },\n",
    "    5: {\n",
    "        \"h1\": \"b\",\n",
    "        \"h2\": \"b\",\n",
    "        # \"h3\": \"b\",\n",
    "    },\n",
    "}\n",
    "for i, prob in enumerate([4, 5]):\n",
    "    legend_elements = []\n",
    "    for key in linestyle_by_class.keys():\n",
    "        hep.histplot(\n",
    "            h[{\"higgs\": key, \"prob\": prob}],\n",
    "            density=True,\n",
    "            lw=2,\n",
    "            ax=ax[i],\n",
    "            ls=linestyle_by_class[key],\n",
    "            color=color_by_class[prob][key],\n",
    "        )\n",
    "        legend_elements.append(\n",
    "            Line2D(\n",
    "                [0],\n",
    "                [0],\n",
    "                ls=linestyle_by_class[key],\n",
    "                lw=2,\n",
    "                label=key,\n",
    "                color=color_by_class[prob][key],\n",
    "            )\n",
    "        )\n",
    "    ax[i].legend(handles=legend_elements)\n",
    "    ax[i].set_ylabel(\"Density\")\n",
    "ax[0].set_title(\"Max prob 2bh0h\")\n",
    "ax[1].set_title(\"Max prob 1bh1h\")"
   ]
  },
  {
   "cell_type": "code",
   "execution_count": null,
   "metadata": {},
   "outputs": [],
   "source": []
  },
  {
   "cell_type": "code",
   "execution_count": null,
   "metadata": {},
   "outputs": [],
   "source": [
    "h[{\"prob\": 4}]"
   ]
  },
  {
   "cell_type": "code",
   "execution_count": null,
   "metadata": {},
   "outputs": [],
   "source": [
    "\"\"\"\n",
    "SPANET gives a prediction for each Higgs separately, so effectively you can have overlaps between jets, say \n",
    "  H1: highest assignment prob = 02 (jet1 and jet3)\n",
    "  H2: highest assignment prob = 12 (jet2 and jet3) \n",
    "This is an ambiguous case, so we need to select which Higgs to reconstruct first, then remove the overlaps.\n",
    "For that, we use the highest detection probability.\n",
    "Then, we would remove jet1 and jet3 from the possible jets for H2 and H3\n",
    "\"\"\"\n",
    "\n",
    "\n",
    "def remove_elements(all_pairs, selected_pairs):\n",
    "    # remove selected pairs from possible list of pairs\n",
    "    # build higgs_1 like array (45 possible pairings) using only the selected pair value\n",
    "    pairs_like = np.empty([45, selected_pairs.shape[0]])\n",
    "    pairs_like[:] = selected_pairs\n",
    "    pairs_like = pairs_like.T\n",
    "\n",
    "    # build boolean array for masking pairs\n",
    "    is_pair = np.empty([all_pairs.to_numpy().shape[0], 3, 45])\n",
    "    is_pair[:, 0, :] = pairs_like\n",
    "    is_pair[:, 1, :] = pairs_like\n",
    "    is_pair[:, 2, :] = pairs_like\n",
    "\n",
    "    return is_pair\n",
    "\n",
    "\n",
    "# get pairings of higgs with max detection probability\n",
    "higgs_1 = hIndex[hDetMax[:, 0:1]]\n",
    "# select the first pairs (sorted by assignment probability)\n",
    "higgs_1_pairs = ak.flatten(higgs_1[:, :, 0]).to_numpy()\n",
    "\n",
    "# get mask for pairings that are already in use\n",
    "is_higgs_1_pair = remove_elements(higgs_1, higgs_1_pairs)\n",
    "hIndex_wo1 = ak.mask(hIndex, (hIndex != is_higgs_1_pair))\n",
    "\n",
    "# get pairings of higgs with 2nd max detection probability\n",
    "higgs_2 = hIndex_wo1[hDetMax[:, 1:2]]\n",
    "# select the first pairs (that are not masked)\n",
    "higgs_2_pairs = np.array([h.to_numpy().compressed()[0] for h in higgs_2])\n",
    "\n",
    "# get mask for pairings that are already in use\n",
    "is_higgs_2_pair = remove_elements(higgs_2, higgs_2_pairs)\n",
    "hIndex_wo2 = ak.mask(hIndex_wo1, (hIndex_wo1 != is_higgs_2_pair))\n",
    "\n",
    "# get pairings of higgs with 2nd max detection probability\n",
    "higgs_3 = hIndex_wo2[hDetMax[:, 2:3]]\n",
    "higgs_3_pairs = np.array([h.to_numpy().compressed()[0] for h in higgs_3])\n",
    "\n",
    "# this sort of works except that I've only gotten rid of exact pair matchings (e.g. if I see select 12, I get rid of all pairings with jet 1 and 2..)\n",
    "# so this is not it yet"
   ]
  },
  {
   "cell_type": "markdown",
   "metadata": {},
   "source": [
    "Using Pandas dataframe"
   ]
  },
  {
   "cell_type": "code",
   "execution_count": null,
   "metadata": {},
   "outputs": [],
   "source": [
    "h_index_1_char = np.char.mod(\"%02d\", index_h1)\n",
    "h_index_2_char = np.char.mod(\"%02d\", index_h2)\n",
    "h_index_3_char = np.char.mod(\"%02d\", index_h3)\n",
    "h_index_char = np.stack([h_index_1_char, h_index_2_char, h_index_3_char], axis=1)\n",
    "\n",
    "\n",
    "def remove_elements_with_pd(h_index_char, selected_pairs):\n",
    "    pairs_pd = pd.DataFrame()\n",
    "    pairs_pd[\"pairs_str\"] = np.char.mod(\"%02d\", selected_pairs)\n",
    "    pairs_pd[\"jet0\"] = pairs_pd[\"pairs_str\"].str[0].astype(int)\n",
    "    pairs_pd[\"jet1\"] = pairs_pd[\"pairs_str\"].str[1].astype(int)\n",
    "\n",
    "    # just not smart enough to figure this out w/o a loop\n",
    "    pairs_used = []\n",
    "    for j in range(3):\n",
    "        used_j = []\n",
    "        for i in range(45):\n",
    "            x = pd.Series(h_index_char[:, 0][:, i]).astype(str)\n",
    "            used = (\n",
    "                (x.str[0].astype(int) == pairs_pd[\"jet0\"])\n",
    "                | (x.str[1].astype(int) == pairs_pd[\"jet0\"])\n",
    "                | (x.str[0].astype(int) == pairs_pd[\"jet1\"])\n",
    "                | (x.str[1].astype(int) == pairs_pd[\"jet1\"])\n",
    "            )\n",
    "            used_j.append(used.values)\n",
    "        used_j = np.array(used_j).T\n",
    "        pairs_used.append(used_j)\n",
    "    pairs_used = np.array(pairs_used)\n",
    "    pairs_used = np.transpose(pairs_used, (1, 0, 2))\n",
    "    return pairs_used\n",
    "\n",
    "\n",
    "# get pairings of higgs with max detection probability\n",
    "higgs_1 = hIndex[hDetMax[:, 0:1]]\n",
    "# select the first pairs (sorted by assignment probability)\n",
    "higgs_1_pairs = ak.flatten(higgs_1[:, :, 0]).to_numpy()\n",
    "\n",
    "# get mask for pairings that are already in use\n",
    "is_higgs_1_pair = remove_elements_with_pd(h_index_char, higgs_1_pairs)\n",
    "hIndex_wo1 = ak.mask(hIndex, ~is_higgs_1_pair)\n",
    "\n",
    "# get pairings of higgs with 2nd max detection probability\n",
    "higgs_2 = hIndex_wo1[hDetMax[:, 1:2]]\n",
    "# select the first pairs (that are not masked)\n",
    "higgs_2_pairs = np.array([h.to_numpy().compressed()[0] for h in higgs_2])\n",
    "\n",
    "# get mask for pairings that are already in use\n",
    "is_higgs_2_pair = remove_elements_with_pd(h_index_char, higgs_2_pairs)\n",
    "hIndex_wo2 = ak.mask(hIndex_wo1, (~is_higgs_2_pair) & (~is_higgs_1_pair))\n",
    "\n",
    "# get pairings of higgs with 2nd max detection probability\n",
    "higgs_3 = hIndex_wo2[hDetMax[:, 2:3]]\n",
    "higgs_3_pairs = np.array([h.to_numpy().compressed()[0] for h in higgs_3])"
   ]
  },
  {
   "cell_type": "code",
   "execution_count": null,
   "metadata": {},
   "outputs": [],
   "source": [
    "higgs_1_pairs"
   ]
  },
  {
   "cell_type": "code",
   "execution_count": null,
   "metadata": {},
   "outputs": [],
   "source": [
    "higgs_1_pairs.shape"
   ]
  },
  {
   "cell_type": "code",
   "execution_count": null,
   "metadata": {},
   "outputs": [],
   "source": [
    "higgs_2_pairs"
   ]
  },
  {
   "cell_type": "code",
   "execution_count": null,
   "metadata": {},
   "outputs": [],
   "source": [
    "higgs_3_pairs"
   ]
  },
  {
   "cell_type": "markdown",
   "metadata": {},
   "source": [
    "Matching"
   ]
  },
  {
   "cell_type": "code",
   "execution_count": null,
   "metadata": {},
   "outputs": [],
   "source": [
    "pairs_pd = pd.DataFrame()\n",
    "pairs_pd[\"higgs_1_pairs_str\"] = np.char.mod(\"%02d\", higgs_1_pairs)\n",
    "pairs_pd[\"higgs_1_jet0\"] = pairs_pd[\"higgs_1_pairs_str\"].str[0].astype(int)\n",
    "pairs_pd[\"higgs_1_jet1\"] = pairs_pd[\"higgs_1_pairs_str\"].str[1].astype(int)\n",
    "pairs_pd[\"higgs_2_pairs_str\"] = np.char.mod(\"%02d\", higgs_2_pairs)\n",
    "pairs_pd[\"higgs_2_jet0\"] = pairs_pd[\"higgs_2_pairs_str\"].str[0].astype(int)\n",
    "pairs_pd[\"higgs_2_jet1\"] = pairs_pd[\"higgs_2_pairs_str\"].str[1].astype(int)\n",
    "pairs_pd[\"higgs_3_pairs_str\"] = np.char.mod(\"%02d\", higgs_3_pairs)\n",
    "pairs_pd[\"higgs_3_jet0\"] = pairs_pd[\"higgs_3_pairs_str\"].str[0].astype(int)\n",
    "pairs_pd[\"higgs_3_jet1\"] = pairs_pd[\"higgs_3_pairs_str\"].str[1].astype(int)\n",
    "\n",
    "higgs_1_jet0 = pairs_pd[\"higgs_1_jet0\"].values\n",
    "higgs_1_jet1 = pairs_pd[\"higgs_1_jet1\"].values\n",
    "higgs_2_jet0 = pairs_pd[\"higgs_2_jet0\"].values\n",
    "higgs_2_jet1 = pairs_pd[\"higgs_2_jet1\"].values\n",
    "higgs_3_jet0 = pairs_pd[\"higgs_3_jet0\"].values\n",
    "higgs_3_jet1 = pairs_pd[\"higgs_3_jet1\"].values"
   ]
  },
  {
   "cell_type": "code",
   "execution_count": null,
   "metadata": {},
   "outputs": [],
   "source": [
    "boosted_index"
   ]
  },
  {
   "cell_type": "markdown",
   "metadata": {},
   "source": [
    "Pandas playground"
   ]
  },
  {
   "cell_type": "code",
   "execution_count": null,
   "metadata": {},
   "outputs": [],
   "source": [
    "is_higgs_1_pair"
   ]
  },
  {
   "cell_type": "code",
   "execution_count": null,
   "metadata": {},
   "outputs": [],
   "source": [
    "higgs_1_pd = pd.DataFrame()\n",
    "higgs_1_pd[\"pairs\"] = higgs_1_pairs\n",
    "higgs_1_pd[\"pairs_str\"] = np.char.mod(\"%02d\", higgs_1_pairs)\n",
    "higgs_1_pd[\"jet0\"] = higgs_1_pd[\"pairs_str\"].str[0].astype(int)\n",
    "higgs_1_pd[\"jet1\"] = higgs_1_pd[\"pairs_str\"].str[1].astype(int)\n",
    "higgs_1_pd"
   ]
  },
  {
   "cell_type": "code",
   "execution_count": null,
   "metadata": {},
   "outputs": [],
   "source": [
    "h_index_1_char = np.char.mod(\"%02d\", index_h1)\n",
    "h_index_2_char = np.char.mod(\"%02d\", index_h2)\n",
    "h_index_3_char = np.char.mod(\"%02d\", index_h3)\n",
    "h_index_char = np.stack([h_index_1_char, h_index_2_char, h_index_3_char], axis=1)"
   ]
  },
  {
   "cell_type": "code",
   "execution_count": null,
   "metadata": {},
   "outputs": [],
   "source": [
    "h_index_char[:, 0][:, i]"
   ]
  },
  {
   "cell_type": "code",
   "execution_count": null,
   "metadata": {},
   "outputs": [],
   "source": [
    "# now create another hIndex that works\n",
    "index_noh1 = []\n",
    "for j in range(3):\n",
    "    remove = []\n",
    "    for i in range(45):\n",
    "        x = pd.Series(h_index_char[:, 0][:, i]).astype(str)\n",
    "        # x.str.split('', expand=True, n=2).drop(columns=0).astype(int)\n",
    "        to_remove = (\n",
    "            (x.str[0].astype(int) == higgs_1_pd[\"jet0\"])\n",
    "            | (x.str[1].astype(int) == higgs_1_pd[\"jet0\"])\n",
    "            | (x.str[0].astype(int) == higgs_1_pd[\"jet1\"])\n",
    "            | (x.str[1].astype(int) == higgs_1_pd[\"jet1\"])\n",
    "        )\n",
    "        remove.append(to_remove.values)\n",
    "    remove = np.array(remove).T\n",
    "    remove.shape\n",
    "    index_noh1.append(remove)\n",
    "index_noh1 = np.array(index_noh1)"
   ]
  },
  {
   "cell_type": "code",
   "execution_count": null,
   "metadata": {},
   "outputs": [],
   "source": [
    "hIndex.to_numpy().shape"
   ]
  },
  {
   "cell_type": "code",
   "execution_count": null,
   "metadata": {},
   "outputs": [],
   "source": [
    "index_h1removed = ak.mask(hIndex, (~np.transpose(index_noh1, (1, 0, 2))))"
   ]
  },
  {
   "cell_type": "code",
   "execution_count": null,
   "metadata": {},
   "outputs": [],
   "source": [
    "index_h1removed"
   ]
  },
  {
   "cell_type": "code",
   "execution_count": null,
   "metadata": {},
   "outputs": [],
   "source": [
    "ak.mask(h_index_2_char, ~remove_2)\n",
    "\n",
    "higgs_2 = hIndex_wo1[hDetMax[:, 1:2]]\n",
    "# select the first pairs (that are not masked)\n",
    "higgs_2_pairs = np.array([h.to_numpy().compressed()[0] for h in higgs_2])"
   ]
  },
  {
   "cell_type": "code",
   "execution_count": null,
   "metadata": {},
   "outputs": [],
   "source": [
    "higgs_1_pd[\"jet0\"]"
   ]
  },
  {
   "cell_type": "code",
   "execution_count": null,
   "metadata": {},
   "outputs": [],
   "source": [
    "index_h1.shape"
   ]
  },
  {
   "cell_type": "code",
   "execution_count": null,
   "metadata": {},
   "outputs": [],
   "source": [
    "hindex_1_pd.str.split(\"\")"
   ]
  },
  {
   "cell_type": "code",
   "execution_count": null,
   "metadata": {},
   "outputs": [],
   "source": [
    "(hindex_2_pd[0].str[0].astype(int) == higgs_1_pd[\"jet0\"])"
   ]
  },
  {
   "cell_type": "code",
   "execution_count": null,
   "metadata": {},
   "outputs": [],
   "source": [
    "higgs_1_pd[\"jet0\"]"
   ]
  },
  {
   "cell_type": "code",
   "execution_count": null,
   "metadata": {},
   "outputs": [],
   "source": [
    "higgs_1_pd = pd.DataFrame()\n",
    "higgs_1_pd[\"pairs\"] = higgs_1_pairs\n",
    "higgs_1_pd[\"pairs_str\"] = np.char.mod(\"%02d\", higgs_1_pairs)\n",
    "higgs_1_pd[\"jet0\"] = higgs_1_pd[\"pairs_str\"].str[0].astype(int)\n",
    "higgs_1_pd[\"jet1\"] = higgs_1_pd[\"pairs_str\"].str[1].astype(int)\n",
    "higgs_1_pd"
   ]
  },
  {
   "cell_type": "markdown",
   "metadata": {},
   "source": [
    "Playground"
   ]
  },
  {
   "cell_type": "code",
   "execution_count": null,
   "metadata": {},
   "outputs": [],
   "source": [
    "higgs_1_pairs"
   ]
  },
  {
   "cell_type": "code",
   "execution_count": null,
   "metadata": {},
   "outputs": [],
   "source": [
    "higgs_2_pairs"
   ]
  },
  {
   "cell_type": "code",
   "execution_count": null,
   "metadata": {},
   "outputs": [],
   "source": [
    "higgs_3_pairs"
   ]
  },
  {
   "cell_type": "code",
   "execution_count": null,
   "metadata": {},
   "outputs": [],
   "source": [
    "# all possible pairings\n",
    "hIndex"
   ]
  },
  {
   "cell_type": "code",
   "execution_count": null,
   "metadata": {},
   "outputs": [],
   "source": [
    "hIndex[0].to_numpy()"
   ]
  },
  {
   "cell_type": "code",
   "execution_count": null,
   "metadata": {},
   "outputs": [],
   "source": [
    "hIndexStr = np.char.zfill(np.char.mod(\"%d\", hIndex.to_numpy()), 2)"
   ]
  },
  {
   "cell_type": "code",
   "execution_count": null,
   "metadata": {},
   "outputs": [],
   "source": [
    "hIndexStr"
   ]
  },
  {
   "cell_type": "code",
   "execution_count": null,
   "metadata": {},
   "outputs": [],
   "source": [
    "higgs_1_pairs_like = np.empty([45, higgs_1_pairs.shape[0]])\n",
    "higgs_1_pairs_like[:] = higgs_1_pairs\n",
    "higgs_1_pairs_like = higgs_1_pairs_like.T\n",
    "higgs_1_pairs_like"
   ]
  },
  {
   "cell_type": "code",
   "execution_count": null,
   "metadata": {},
   "outputs": [],
   "source": [
    "x = np.char.mod(\"%02d\", higgs_1_pairs_like)\n",
    "np.char.split(np.char.join(\",\", x), \",\")"
   ]
  },
  {
   "cell_type": "code",
   "execution_count": null,
   "metadata": {},
   "outputs": [],
   "source": [
    "higgs_1_pairs_like_str = np.char.zfill(np.char.mod(\"%d\", higgs_1_pairs_like), 2)\n",
    "higgs_1_pairs_like_str"
   ]
  },
  {
   "cell_type": "code",
   "execution_count": null,
   "metadata": {},
   "outputs": [],
   "source": [
    "np.array([list(word) for word in higgs_1_pairs_like_str])"
   ]
  },
  {
   "cell_type": "code",
   "execution_count": null,
   "metadata": {},
   "outputs": [],
   "source": [
    "higgs_1_pairs_str = np.char.mod(\"%02d\", higgs_1_pairs)"
   ]
  },
  {
   "cell_type": "code",
   "execution_count": null,
   "metadata": {},
   "outputs": [],
   "source": [
    "higgs_1_pairs_str_1 = (\n",
    "    np.array([s[::-1] for s in higgs_1_pairs_str.tolist()]).astype(\"<U1\").astype(str)\n",
    ")\n",
    "higgs_1_pairs_str_1"
   ]
  },
  {
   "cell_type": "code",
   "execution_count": null,
   "metadata": {},
   "outputs": [],
   "source": [
    "higgs_1_pairs_str_0 = higgs_1_pairs_str.astype(\"<U1\").astype(\"int32\").astype(str)\n",
    "higgs_1_pairs_str_0"
   ]
  },
  {
   "cell_type": "code",
   "execution_count": null,
   "metadata": {},
   "outputs": [],
   "source": [
    "np.char.split(np.char.join(\",\", x), \",\")"
   ]
  },
  {
   "cell_type": "code",
   "execution_count": null,
   "metadata": {},
   "outputs": [],
   "source": [
    "np.char.(higgs_1_pairs_str)"
   ]
  },
  {
   "cell_type": "code",
   "execution_count": null,
   "metadata": {},
   "outputs": [],
   "source": [
    "# get jet indices used\n",
    "np.char.mod(\"%02d\", higgs_1_pairs)"
   ]
  },
  {
   "cell_type": "code",
   "execution_count": null,
   "metadata": {},
   "outputs": [],
   "source": [
    "is_pair = np.empty([higgs_1.to_numpy().shape[0], 3, 45])\n",
    "is_pair[:, 0, :] = higgs_1_pairs_like\n",
    "is_pair[:, 1, :] = higgs_1_pairs_like\n",
    "is_pair[:, 2, :] = higgs_1_pairs_like\n",
    "is_pair = np.char.zfill(np.char.mod(\"%d\", is_pair), 2)"
   ]
  },
  {
   "cell_type": "code",
   "execution_count": null,
   "metadata": {},
   "outputs": [],
   "source": [
    "hIndex[1].to_numpy()"
   ]
  },
  {
   "cell_type": "code",
   "execution_count": null,
   "metadata": {},
   "outputs": [],
   "source": [
    "# detection probability for each higgs\n",
    "hDet"
   ]
  },
  {
   "cell_type": "code",
   "execution_count": null,
   "metadata": {},
   "outputs": [],
   "source": [
    "hDetMax[:, 0:1]"
   ]
  },
  {
   "cell_type": "code",
   "execution_count": null,
   "metadata": {},
   "outputs": [],
   "source": [
    "higgs_1 = hIndex[hDetMax[:, 0:1]]"
   ]
  },
  {
   "cell_type": "code",
   "execution_count": null,
   "metadata": {},
   "outputs": [],
   "source": [
    "hIndex[hDetMax[:, 1:2]][0].to_numpy()"
   ]
  },
  {
   "cell_type": "code",
   "execution_count": null,
   "metadata": {},
   "outputs": [],
   "source": [
    "hDetMax[:, 1:2]"
   ]
  },
  {
   "cell_type": "code",
   "execution_count": null,
   "metadata": {},
   "outputs": [],
   "source": [
    "hDetMax[:, 2:3]"
   ]
  },
  {
   "cell_type": "code",
   "execution_count": null,
   "metadata": {},
   "outputs": [],
   "source": [
    "# get the indices of the higgs with maximum detection probability\n",
    "higgs_1 = hIndex[hDetMax[:, 0:1]]\n",
    "higgs_1"
   ]
  },
  {
   "cell_type": "code",
   "execution_count": null,
   "metadata": {},
   "outputs": [],
   "source": [
    "higgs_1[:, :, 0]"
   ]
  },
  {
   "cell_type": "code",
   "execution_count": null,
   "metadata": {},
   "outputs": [],
   "source": [
    "higgs_1.to_numpy()[0]"
   ]
  },
  {
   "cell_type": "code",
   "execution_count": null,
   "metadata": {},
   "outputs": [],
   "source": [
    "higgs_1.to_numpy()[1]"
   ]
  },
  {
   "cell_type": "code",
   "execution_count": null,
   "metadata": {},
   "outputs": [],
   "source": [
    "# get the indices of the first pair of jets (for the Higgs with maximum detection probability)\n",
    "higgs_1_selected = ak.flatten(higgs_1[:, :, 0])\n",
    "higgs_1_selected"
   ]
  },
  {
   "cell_type": "code",
   "execution_count": null,
   "metadata": {},
   "outputs": [],
   "source": [
    "higgs_1_selected.to_numpy().shape"
   ]
  },
  {
   "cell_type": "code",
   "execution_count": null,
   "metadata": {},
   "outputs": [],
   "source": [
    "hIndex.to_numpy().shape"
   ]
  },
  {
   "cell_type": "code",
   "execution_count": null,
   "metadata": {},
   "outputs": [],
   "source": [
    "# remove higgs_1 pairings from hIndex\n",
    "# e.g. need to remove 12 from hIndex[0]\n",
    "# or remove 13 from hIndex[1]\n",
    "\n",
    "# first build booleans where pairing matches"
   ]
  },
  {
   "cell_type": "code",
   "execution_count": null,
   "metadata": {},
   "outputs": [],
   "source": [
    "# need to get array of 45\n",
    "b = np.empty([45, higgs_1_selected.to_numpy().shape[0]])\n",
    "b[:] = h1\n",
    "b.T.shape"
   ]
  },
  {
   "cell_type": "code",
   "execution_count": null,
   "metadata": {},
   "outputs": [],
   "source": [
    "# build boolean array\n",
    "x = np.empty([higgs_1.to_numpy().shape[0], 3, 45])\n",
    "x[:, 0, :] = b.T\n",
    "x[:, 1, :] = b.T\n",
    "x[:, 2, :] = b.T\n",
    "x.shape"
   ]
  },
  {
   "cell_type": "code",
   "execution_count": null,
   "metadata": {},
   "outputs": [],
   "source": [
    "hIndex[0].to_numpy()"
   ]
  },
  {
   "cell_type": "code",
   "execution_count": null,
   "metadata": {},
   "outputs": [],
   "source": [
    "(hIndex == x)[0].to_numpy()"
   ]
  },
  {
   "cell_type": "code",
   "execution_count": null,
   "metadata": {},
   "outputs": [],
   "source": [
    "(hIndex == x)[1].to_numpy()"
   ]
  },
  {
   "cell_type": "code",
   "execution_count": null,
   "metadata": {},
   "outputs": [],
   "source": [
    "hIndex[ak.any((hIndex != x), axis=2)]"
   ]
  },
  {
   "cell_type": "code",
   "execution_count": null,
   "metadata": {},
   "outputs": [],
   "source": [
    "# now remove elements\n",
    "hIndex_wo1 = ak.mask(hIndex, (hIndex != x))\n",
    "\n",
    "higgs_2 = hIndex_wo1[hDetMax[:, 1:2]]\n",
    "\n",
    "higgs_2_pairs = np.array([h.to_numpy().compressed()[0] for h in higgs_2])"
   ]
  },
  {
   "cell_type": "code",
   "execution_count": null,
   "metadata": {},
   "outputs": [],
   "source": [
    "ak.singletons(higgs_2[0])[:, 0]"
   ]
  },
  {
   "cell_type": "code",
   "execution_count": null,
   "metadata": {},
   "outputs": [],
   "source": [
    "higgs_2_pairs"
   ]
  },
  {
   "cell_type": "code",
   "execution_count": null,
   "metadata": {},
   "outputs": [],
   "source": [
    "ak.flatten(higgs_1[:, :, 0]).to_numpy()"
   ]
  },
  {
   "cell_type": "code",
   "execution_count": null,
   "metadata": {},
   "outputs": [],
   "source": [
    "ak.flatten(higgs_2[:, :, 0]).to_numpy()"
   ]
  },
  {
   "cell_type": "code",
   "execution_count": null,
   "metadata": {},
   "outputs": [],
   "source": [
    "hDetMax[:, 1:2]"
   ]
  },
  {
   "cell_type": "code",
   "execution_count": null,
   "metadata": {},
   "outputs": [],
   "source": [
    "hIndex_wo1[0]"
   ]
  },
  {
   "cell_type": "code",
   "execution_count": null,
   "metadata": {},
   "outputs": [],
   "source": [
    "higgs_2[0].to_numpy()"
   ]
  },
  {
   "cell_type": "code",
   "execution_count": null,
   "metadata": {},
   "outputs": [],
   "source": [
    "hwo1 = hIndex_wo1[hDetMax[:, 1:2]].to_numpy()\n",
    "# hwo1 = hwo1[~hwo1.mask]\n",
    "hwo1.shape"
   ]
  },
  {
   "cell_type": "code",
   "execution_count": null,
   "metadata": {},
   "outputs": [],
   "source": [
    "hwo1[:, 0, :].shape"
   ]
  },
  {
   "cell_type": "code",
   "execution_count": null,
   "metadata": {},
   "outputs": [],
   "source": [
    "hwo1[:, 0, :]"
   ]
  },
  {
   "cell_type": "code",
   "execution_count": null,
   "metadata": {},
   "outputs": [],
   "source": [
    "x = np.ma.array(np.arange(9).reshape(3, 3), mask=[[1, 0, 0], [1, 0, 0], [0, 0, 0]])\n",
    "np.ma.compress_rows(x)"
   ]
  },
  {
   "cell_type": "code",
   "execution_count": null,
   "metadata": {},
   "outputs": [],
   "source": [
    "np.ma.compress_rowcols(hwo1[:, 0, :], 1)"
   ]
  },
  {
   "cell_type": "code",
   "execution_count": null,
   "metadata": {},
   "outputs": [],
   "source": []
  },
  {
   "cell_type": "code",
   "execution_count": null,
   "metadata": {},
   "outputs": [],
   "source": [
    "hIndex_masked.shape"
   ]
  },
  {
   "cell_type": "code",
   "execution_count": null,
   "metadata": {},
   "outputs": [],
   "source": [
    "higgs_1"
   ]
  }
 ],
 "metadata": {
  "kernelspec": {
   "display_name": "coffea",
   "language": "python",
   "name": "python3"
  },
  "language_info": {
   "codemirror_mode": {
    "name": "ipython",
    "version": 3
   },
   "file_extension": ".py",
   "mimetype": "text/x-python",
   "name": "python",
   "nbconvert_exporter": "python",
   "pygments_lexer": "ipython3",
   "version": "3.8.16"
  },
  "orig_nbformat": 4
 },
 "nbformat": 4,
 "nbformat_minor": 2
}
