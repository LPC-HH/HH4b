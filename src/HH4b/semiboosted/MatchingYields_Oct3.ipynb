{
 "cells": [
  {
   "cell_type": "code",
   "execution_count": null,
   "metadata": {},
   "outputs": [],
   "source": [
    "import numpy as np\n",
    "import pandas as pd\n",
    "import vector\n",
    "import os\n",
    "import hist\n",
    "import awkward as ak\n",
    "\n",
    "vector.register_awkward()"
   ]
  },
  {
   "cell_type": "code",
   "execution_count": null,
   "metadata": {},
   "outputs": [],
   "source": [
    "# automatically reloads imported files on edits\n",
    "%load_ext autoreload\n",
    "%autoreload 2"
   ]
  },
  {
   "cell_type": "code",
   "execution_count": null,
   "metadata": {},
   "outputs": [],
   "source": [
    "import matplotlib.pyplot as plt\n",
    "import matplotlib.ticker as mticker\n",
    "from matplotlib.lines import Line2D\n",
    "import matplotlib.patches as mpatches\n",
    "\n",
    "# mplhep for CMS-style plots\n",
    "import mplhep as hep\n",
    "\n",
    "plt.style.use(hep.style.CMS)\n",
    "hep.style.use(\"CMS\")\n",
    "formatter = mticker.ScalarFormatter(useMathText=True)\n",
    "formatter.set_powerlimits((-3, 3))\n",
    "plt.rcParams.update({\"font.size\": 16})"
   ]
  },
  {
   "cell_type": "code",
   "execution_count": null,
   "metadata": {},
   "outputs": [],
   "source": [
    "def make_vector(events: pd.DataFrame, obj: str):\n",
    "    \"\"\"Create a ``vector`` object from the columns of the dataframe\"\"\"\n",
    "    mstring = \"Msd\" if obj == \"ak8FatJet\" else \"Mass\"\n",
    "\n",
    "    return vector.array(\n",
    "        {\n",
    "            \"pt\": events[f\"{obj}Pt\"],\n",
    "            \"phi\": events[f\"{obj}Phi\"],\n",
    "            \"eta\": events[f\"{obj}Eta\"],\n",
    "            \"M\": events[f\"{obj}{mstring}\"],\n",
    "        }\n",
    "    )"
   ]
  },
  {
   "cell_type": "code",
   "execution_count": null,
   "metadata": {},
   "outputs": [],
   "source": [
    "MAIN_DIR = \"../../../\"\n",
    "events = pd.read_parquet(\n",
    "    # \"/eos/uscms/store/user/cmantill/bbbb/matching/Oct2/2018/GluGlutoHHto4B_cHHH1_TuneCP5_PSWeights_13TeV-powheg-pythia8/parquet\"\n",
    "    # f\"{MAIN_DIR}/../data/matching/23Nov18_WSel_v9_private/2018/GluGlutoHHto4B_cHHH1_TuneCP5_PSWeights_13TeV-powheg-pythia8/parquet\"\n",
    "    f\"{MAIN_DIR}/../data/matching/Oct30/2018/GluGlutoHHto4B_cHHH1_TuneCP5_PSWeights_13TeV-powheg-pythia8/parquet\"\n",
    ")\n",
    "jets = make_vector(events, \"ak4Jet\")\n",
    "gen_higgs = make_vector(events, \"GenHiggs\")\n",
    "fjs = make_vector(events, \"ak8FatJet\")"
   ]
  },
  {
   "cell_type": "code",
   "execution_count": null,
   "metadata": {},
   "outputs": [],
   "source": [
    "list(events.keys())"
   ]
  },
  {
   "cell_type": "code",
   "execution_count": null,
   "metadata": {},
   "outputs": [],
   "source": [
    "drbh1ak8 = events[\"ak8FatJetMaxdRH1\"].to_numpy()\n",
    "drbh2ak8 = events[\"ak8FatJetMaxdRH2\"].to_numpy()\n",
    "indexak8 = events[\"ak8FatJetHiggsMatchIndex\"].to_numpy()\n",
    "indexak4 = events[\"ak4JetHiggsMatchIndex\"].to_numpy()\n",
    "nbh1ak8 = events[\"ak8FatJetNumBMatchedH1\"].to_numpy()\n",
    "nbh2ak8 = events[\"ak8FatJetNumBMatchedH2\"].to_numpy()"
   ]
  },
  {
   "cell_type": "code",
   "execution_count": null,
   "metadata": {},
   "outputs": [],
   "source": [
    "drbh2ak8"
   ]
  },
  {
   "cell_type": "code",
   "execution_count": null,
   "metadata": {},
   "outputs": [],
   "source": [
    "drbh2ak8[indexak8 == 1]"
   ]
  },
  {
   "cell_type": "code",
   "execution_count": null,
   "metadata": {},
   "outputs": [],
   "source": [
    "drbh2ak8.shape"
   ]
  },
  {
   "cell_type": "code",
   "execution_count": null,
   "metadata": {},
   "outputs": [],
   "source": [
    "hist_dr_h1 = hist.Hist(hist.axis.Regular(40, 0, 4, name=\"drb\", label=\"max dr with b-quark\"))\n",
    "hist_dr_h1.fill(drb=drbh1ak8[indexak8 == 0])\n",
    "hist_dr_h1"
   ]
  },
  {
   "cell_type": "code",
   "execution_count": null,
   "metadata": {},
   "outputs": [],
   "source": [
    "indexak8"
   ]
  },
  {
   "cell_type": "code",
   "execution_count": null,
   "metadata": {},
   "outputs": [],
   "source": [
    "hist_dr_h2 = hist.Hist(hist.axis.Regular(40, 0, 4, name=\"drb\", label=\"max dr with b-quark\"))\n",
    "hist_dr_h2.fill(drb=drbh2ak8[indexak8 == 1])\n",
    "hist_dr_h2"
   ]
  },
  {
   "cell_type": "code",
   "execution_count": null,
   "metadata": {},
   "outputs": [],
   "source": [
    "fig, ax = plt.subplots(1, 1, figsize=(8, 4))\n",
    "hep.histplot(hist_dr_h1, ax=ax, label=\"fJ matched to H1\", ls=\"solid\")\n",
    "hep.histplot(hist_dr_h2, ax=ax, label=\"fJ matched to H2\", ls=\"dotted\")\n",
    "leg = ax.legend(fontsize=10)\n",
    "leg.set_title(\"Gen-Level categories\", prop={\"size\": 10})\n",
    "ax.set_xlabel(r\"Max dR(fatjet, b-quark)\")"
   ]
  },
  {
   "cell_type": "code",
   "execution_count": null,
   "metadata": {},
   "outputs": [],
   "source": [
    "# ak4 jets matched to h1 and h2\n",
    "h1ak4 = indexak4 == 0\n",
    "h2ak4 = indexak4 == 1\n",
    "num_ak4m2h1 = h1ak4.sum(axis=1)\n",
    "num_ak4m2h2 = h2ak4.sum(axis=1)\n",
    "h1m2ak4 = num_ak4m2h1 == 2\n",
    "h2m2ak4 = num_ak4m2h2 == 2\n",
    "\n",
    "# ak8 jets matched to h1 and h2\n",
    "h1ak8 = indexak8 == 0\n",
    "h2ak8 = indexak8 == 1\n",
    "num_ak8m2h1 = h1ak8.sum(axis=1)\n",
    "num_ak8m2h2 = h2ak8.sum(axis=1)\n",
    "h1m1ak8 = num_ak8m2h1 == 1\n",
    "h2m1ak8 = num_ak8m2h2 == 1\n",
    "\n",
    "# categorization (prioritize semi-boosted)\n",
    "boosted = h1m1ak8 & h2m1ak8\n",
    "semi_resolved_h1 = h1m2ak4 & h2m1ak8 & ~(boosted)\n",
    "semi_resolved_h2 = h2m2ak4 & h1m1ak8 & ~(boosted)\n",
    "semi_resolved = semi_resolved_h1 | semi_resolved_h2\n",
    "resolved = (h1m2ak4 & h2m2ak4) & ~(boosted) & ~(semi_resolved)\n",
    "not_categorized = ~(resolved | boosted | semi_resolved)"
   ]
  },
  {
   "cell_type": "code",
   "execution_count": null,
   "metadata": {},
   "outputs": [],
   "source": [
    "h1ak8nb2 = (indexak8 == 0) & (nbh1ak8 == 2)\n",
    "h2ak8nb2 = (indexak8 == 1) & (nbh2ak8 == 2)\n",
    "h1m1ak8b2 = h1ak8nb2.sum(axis=1) == 1\n",
    "h2m1ak8b2 = h2ak8nb2.sum(axis=1) == 1\n",
    "\n",
    "h1ak8nb1 = (indexak8 == 0) & (nbh1ak8 == 1)\n",
    "h2ak8nb1 = (indexak8 == 1) & (nbh2ak8 == 1)\n",
    "h1m1ak8b1 = h1ak8nb1.sum(axis=1) == 1\n",
    "h2m1ak8b1 = h2ak8nb1.sum(axis=1) == 1\n",
    "\n",
    "boosted_nb2 = h1m1ak8b2 & h2m1ak8b2\n",
    "boosted_nb1 = h1m1ak8b1 & h2m1ak8b1\n",
    "boosted_nb1nb2 = (h1m1ak8b1 & h2m1ak8b2) | (h1m1ak8b2 & h2m1ak8b1)"
   ]
  },
  {
   "cell_type": "code",
   "execution_count": null,
   "metadata": {},
   "outputs": [],
   "source": [
    "semi_resolved_h1_b2 = h1m2ak4 & h2m1ak8b2 & ~(boosted)\n",
    "semi_resolved_h2_b2 = h2m2ak4 & h1m1ak8b2 & ~(boosted)\n",
    "semi_resolved_h1_b1 = h1m2ak4 & h2m1ak8b1 & ~(boosted)\n",
    "semi_resolved_h2_b1 = h2m2ak4 & h1m1ak8b1 & ~(boosted)\n",
    "\n",
    "semi_resolved_h_b2 = semi_resolved_h1_b2 | semi_resolved_h2_b2\n",
    "semi_resolved_h_b1 = semi_resolved_h1_b1 | semi_resolved_h2_b1"
   ]
  },
  {
   "cell_type": "markdown",
   "metadata": {},
   "source": [
    "## Classification from gen-level definition\n",
    "\n",
    "We can classify events depending on matching into orthogonal categories:\n",
    "- Boosted: 2 AK8 jets matched to H1 and H2, respectively\n",
    "- Resolved: 4 AK4 jets matched to H1 and H2, 2 and 2, respectively - AND vetoing boosted\n",
    "- Semi-resolved: \"2 AK4 jets matched to H1/H2 and 1 AK8 jet matched to H2/H1 - AND vetoing boosted or resolved"
   ]
  },
  {
   "cell_type": "code",
   "execution_count": null,
   "metadata": {},
   "outputs": [],
   "source": [
    "print(f\"Total number of signal events: {len(events)}\")\n",
    "print(f\"2 AK8 jets matched to H1 and H2: {ak.sum(boosted)}\")\n",
    "print(f\"4 AK4 jets matched to H1 and H2: {ak.sum(resolved)}\")\n",
    "print(f\"2 AK4 jets matched to H1/H2 and 1 AK8 jet matched to H2/H1: {ak.sum(semi_resolved)}\")\n",
    "print(f\"Outside of these categories: {ak.sum(not_categorized)}\")\n",
    "print(\n",
    "    f\"Sum of all: {ak.sum(not_categorized) + ak.sum(resolved) + ak.sum(boosted) + ak.sum(semi_resolved)}\"\n",
    ")"
   ]
  },
  {
   "cell_type": "markdown",
   "metadata": {},
   "source": [
    "## Tasks for billy (gen-level)\n",
    "\n",
    "Understand behavior at gen-level of `not-categorized events` (events that are not boosted, resolved or semi-resolved):\n",
    "- plot gen MHH for all events (95248 events) and for each of the 4 categories above"
   ]
  },
  {
   "cell_type": "code",
   "execution_count": null,
   "metadata": {},
   "outputs": [],
   "source": [
    "# calcualte m_HH for every event\n",
    "mhh = (gen_higgs[:, 0] + gen_higgs[:, 1]).m\n",
    "\n",
    "# bypass into each category\n",
    "mhh_boosted = mhh[boosted]\n",
    "mhh_resolved = mhh[resolved]\n",
    "mhh_semi = mhh[semi_resolved]\n",
    "mhh_out = mhh[not_categorized]\n",
    "\n",
    "# start to plot, code modified on Christina's plot_h1h2_fj\n",
    "bins = np.arange(mhh.min(), mhh.max(), 40)\n",
    "bins = np.arange(100, 2000, 40)\n",
    "var_axis = hist.axis.Variable(bins, name=\"var\", label=\"variable\")\n",
    "cat_axis = hist.axis.StrCategory([], name=\"cat\", growth=True)\n",
    "\n",
    "hist_mhh = hist.Hist(var_axis, cat_axis)\n",
    "hist_mhh.fill(var=mhh_boosted, cat=\"boosted\")\n",
    "hist_mhh.fill(var=mhh_semi, cat=\"semi_resolved\")\n",
    "hist_mhh.fill(var=mhh_resolved, cat=\"resolved\")\n",
    "hist_mhh.fill(var=mhh_out, cat=\"non-categorized\")\n",
    "\n",
    "fig, ax = plt.subplots(1, 1, figsize=(8, 4))\n",
    "legend_elements = []\n",
    "hist_mhh[{\"cat\": \"boosted\"}].plot1d(\n",
    "    ax=ax, label=\"Boosted\", hatch=r\"\\\\\\\\\", alpha=0.2, histtype=\"fill\", color=\"blue\"\n",
    ")\n",
    "hist_mhh[{\"cat\": \"resolved\"}].plot1d(ax=ax, label=\"Resolved\", lw=1, color=\"orange\")\n",
    "hist_mhh[{\"cat\": \"semi_resolved\"}].plot1d(ax=ax, label=\"Semi-Resolved\", lw=2, color=\"green\")\n",
    "hist_mhh[{\"cat\": \"non-categorized\"}].plot1d(\n",
    "    ax=ax, label=\"Outside of these categories\", lw=2, ls=\"dotted\", color=\"red\"\n",
    ")\n",
    "legend_elements.append(mpatches.Patch(color=\"blue\", alpha=0.2, hatch=r\"\\\\\\\\\", label=\"Boosted\"))\n",
    "legend_elements.append(Line2D([0], [0], ls=\"solid\", lw=1, label=\"Resolved\", color=\"orange\"))\n",
    "legend_elements.append(Line2D([0], [0], ls=\"solid\", lw=2, label=\"Semi-Resolved\", color=\"green\"))\n",
    "legend_elements.append(\n",
    "    Line2D([0], [0], ls=\"dotted\", lw=2, label=\"Outside of these categories\", color=\"red\")\n",
    ")\n",
    "leg = ax.legend(handles=legend_elements, fontsize=10)\n",
    "leg.set_title(\"Gen-Level categories\", prop={\"size\": 10})\n",
    "ax.set_xlim(0, 2000)\n",
    "ax.set_xlabel(r\"$m_{HH}$\")"
   ]
  },
  {
   "cell_type": "code",
   "execution_count": null,
   "metadata": {},
   "outputs": [],
   "source": [
    "bins = np.arange(100, 2000, 40)\n",
    "var_axis = hist.axis.Variable(bins, name=\"var\", label=\"variable\")\n",
    "cat_axis = hist.axis.StrCategory([], name=\"cat\", growth=True)\n",
    "\n",
    "hist_mhh = hist.Hist(var_axis, cat_axis)\n",
    "hist_mhh.fill(var=mhh[boosted_nb2], cat=\"boosted-2b\")\n",
    "hist_mhh.fill(var=mhh[boosted_nb1], cat=\"boosted-1b\")\n",
    "hist_mhh.fill(var=mhh[boosted_nb1nb2], cat=\"boosted-2b1b\")\n",
    "\n",
    "fig, ax = plt.subplots(1, 1, figsize=(8, 4))\n",
    "hep.histplot(\n",
    "    hist_mhh[{\"cat\": \"boosted-2b\"}],\n",
    "    ax=ax,\n",
    "    label=\"Boosted (2 bs)\",\n",
    "    hatch=r\"\\\\\\\\\",\n",
    "    alpha=0.2,\n",
    "    histtype=\"fill\",\n",
    "    color=\"blue\",\n",
    ")\n",
    "hep.histplot(\n",
    "    hist_mhh[{\"cat\": \"boosted-1b\"}],\n",
    "    ax=ax,\n",
    "    label=\"Boosted (1 bs)\",\n",
    "    hatch=\"+\",\n",
    "    alpha=0.4,\n",
    "    histtype=\"fill\",\n",
    "    color=\"blue\",\n",
    ")\n",
    "hep.histplot(\n",
    "    hist_mhh[{\"cat\": \"boosted-2b1b\"}],\n",
    "    ax=ax,\n",
    "    label=\"Boosted (1b, 2bs matched)\",\n",
    "    hatch=\"--\",\n",
    "    alpha=0.1,\n",
    "    histtype=\"fill\",\n",
    "    color=\"blue\",\n",
    ")\n",
    "leg = ax.legend(fontsize=10)\n",
    "leg.set_title(\"Gen-Level categories\", prop={\"size\": 10})\n",
    "ax.set_xlabel(r\"$m_{HH}$\")\n",
    "ax.set_xlim(0, 2000)"
   ]
  },
  {
   "cell_type": "code",
   "execution_count": null,
   "metadata": {},
   "outputs": [],
   "source": [
    "bins = np.arange(100, 2000, 40)\n",
    "var_axis = hist.axis.Variable(bins, name=\"var\", label=\"variable\")\n",
    "cat_axis = hist.axis.StrCategory([], name=\"cat\", growth=True)\n",
    "\n",
    "hist_mhh = hist.Hist(var_axis, cat_axis)\n",
    "hist_mhh.fill(var=mhh[semi_resolved_h_b2], cat=\"semi-2b\")\n",
    "hist_mhh.fill(var=mhh[semi_resolved_h_b1], cat=\"semi-1b\")\n",
    "\n",
    "fig, ax = plt.subplots(1, 1, figsize=(8, 4))\n",
    "legend_elements = []\n",
    "hep.histplot(\n",
    "    hist_mhh[{\"cat\": \"semi-2b\"}],\n",
    "    ax=ax,\n",
    "    label=\"Semi-Resolved (fj-2 bs)\",\n",
    "    color=\"green\",\n",
    "    linestyle=\"solid\",\n",
    ")\n",
    "hep.histplot(\n",
    "    hist_mhh[{\"cat\": \"semi-1b\"}],\n",
    "    ax=ax,\n",
    "    label=\"Semi-Resolved (fj-1 bs)\",\n",
    "    color=\"green\",\n",
    "    linestyle=\"dotted\",\n",
    ")\n",
    "legend_elements.append(\n",
    "    Line2D([0], [0], ls=\"solid\", lw=2, label=\"Semi-Resolved (fj-2 bs)\", color=\"green\")\n",
    ")\n",
    "legend_elements.append(\n",
    "    Line2D([0], [0], ls=\"dotted\", lw=2, label=\"Semi-Resolved (fj-2 bs)\", color=\"green\")\n",
    ")\n",
    "leg = ax.legend(handles=legend_elements, fontsize=10)\n",
    "leg.set_title(\"Gen-Level categories\", prop={\"size\": 10})\n",
    "ax.set_xlabel(r\"$m_{HH}$\")\n",
    "# ax.set_ylim(0, 5000)"
   ]
  },
  {
   "cell_type": "code",
   "execution_count": null,
   "metadata": {},
   "outputs": [],
   "source": [
    "hist_dr_h2 = hist.Hist(hist.axis.Regular(40, 0, 4, name=\"drb\", label=\"max dr with b-quark\"))\n",
    "hist_dr_h2.fill(drbh2ak8[semi_resolved_h2_b2][indexak8[semi_resolved_h2_b2] == 1])\n",
    "hist_dr_h2"
   ]
  },
  {
   "cell_type": "code",
   "execution_count": null,
   "metadata": {},
   "outputs": [],
   "source": [
    "hist_dr_h1 = hist.Hist(hist.axis.Regular(40, 0, 4, name=\"drb\", label=\"max dr with b-quark\"))\n",
    "hist_dr_h1.fill(drbh1ak8[semi_resolved_h1_b2][indexak8[semi_resolved_h1_b2] == 0])\n",
    "hist_dr_h1"
   ]
  },
  {
   "cell_type": "code",
   "execution_count": null,
   "metadata": {},
   "outputs": [],
   "source": [
    "fig, ax = plt.subplots(1, 1, figsize=(8, 4))\n",
    "hep.histplot(hist_dr_h1, ax=ax, label=\"fJ matched to H1\")\n",
    "hep.histplot(hist_dr_h2, ax=ax, label=\"fJ matched to H2\")\n",
    "leg = ax.legend(fontsize=10)\n",
    "leg.set_title(\"Gen-Level categories\", prop={\"size\": 10})\n",
    "ax.set_xlabel(r\"Max dR(fatjet, b-quark)\")"
   ]
  },
  {
   "cell_type": "code",
   "execution_count": null,
   "metadata": {},
   "outputs": [],
   "source": [
    "hist_dr_h2 = hist.Hist(hist.axis.Regular(40, 0, 4, name=\"drb\", label=\"max dr with b-quark\"))\n",
    "hist_dr_h2.fill(drbh2ak8[semi_resolved_h2_b1][indexak8[semi_resolved_h2_b1] == 1])\n",
    "hist_dr_h2"
   ]
  },
  {
   "cell_type": "code",
   "execution_count": null,
   "metadata": {},
   "outputs": [],
   "source": [
    "hist_dr_h1 = hist.Hist(hist.axis.Regular(40, 0, 4, name=\"drb\", label=\"max dr with b-quark\"))\n",
    "hist_dr_h1.fill(drbh1ak8[semi_resolved_h1_b1][indexak8[semi_resolved_h1_b1] == 0])\n",
    "hist_dr_h1"
   ]
  },
  {
   "cell_type": "code",
   "execution_count": null,
   "metadata": {},
   "outputs": [],
   "source": [
    "fig, ax = plt.subplots(1, 1, figsize=(8, 4))\n",
    "hep.histplot(hist_dr_h1, ax=ax, label=\"fJ matched to H1\")\n",
    "hep.histplot(hist_dr_h2, ax=ax, label=\"fJ matched to H2\")\n",
    "leg = ax.legend(fontsize=10)\n",
    "leg.set_title(\"Gen-Level categories\", prop={\"size\": 10})\n",
    "ax.set_xlabel(r\"Max dR(fatjet, b-quark)\")"
   ]
  },
  {
   "cell_type": "code",
   "execution_count": null,
   "metadata": {},
   "outputs": [],
   "source": [
    "drbh2ak8[semi_resolved_h2_b2][indexak8[semi_resolved_h2_b2] == 1]"
   ]
  },
  {
   "cell_type": "markdown",
   "metadata": {},
   "source": [
    "- further categorize `not-categorized events`:\n",
    "  - what is the number of AK4 Jets matched to H1 and matched to H2 (1 + 2, 2 + 1, 0?. >2?)"
   ]
  },
  {
   "cell_type": "code",
   "execution_count": null,
   "metadata": {},
   "outputs": [],
   "source": [
    "# e.g. number of ak4 jets matched to h1 and h2 for non-categorized events\n",
    "num_ak4m2h_nc = np.stack(\n",
    "    [num_ak4m2h1[not_categorized], num_ak4m2h2[not_categorized]], axis=1\n",
    ").tolist()\n",
    "\n",
    "unique_pair_ak4m2h_nc = []\n",
    "for pair in num_ak4m2h_nc:\n",
    "    if (pair not in unique_pair_ak4m2h_nc) and (pair[::-1] not in unique_pair_ak4m2h_nc):\n",
    "        unique_pair_ak4m2h_nc.append(pair)\n",
    "\n",
    "print(unique_pair_ak4m2h_nc)"
   ]
  },
  {
   "cell_type": "markdown",
   "metadata": {},
   "source": [
    "  - what is the number of AK8 Jets matched to H1 and matched to H2 (1 + 2, 2 + 1, 0?. >2?)"
   ]
  },
  {
   "cell_type": "code",
   "execution_count": null,
   "metadata": {},
   "outputs": [],
   "source": [
    "num_ak8m2h_nc = np.stack(\n",
    "    [num_ak8m2h1[not_categorized], num_ak8m2h2[not_categorized]], axis=1\n",
    ").tolist()\n",
    "\n",
    "unique_pair_ak8m2h_nc = []\n",
    "for pair in num_ak8m2h_nc:\n",
    "    if (pair not in unique_pair_ak8m2h_nc) and (pair[::-1] not in unique_pair_ak8m2h_nc):\n",
    "        unique_pair_ak8m2h_nc.append(pair)\n",
    "\n",
    "print(unique_pair_ak8m2h_nc)\n",
    "# filter out weird events"
   ]
  },
  {
   "cell_type": "markdown",
   "metadata": {},
   "source": [
    "- can we change gen matching definition for resolved?"
   ]
  },
  {
   "cell_type": "code",
   "execution_count": null,
   "metadata": {},
   "outputs": [],
   "source": [
    "genJs = make_vector(events, \"ak4GenJet\")\n",
    "genBs = make_vector(events, \"Genb\")\n",
    "ak4JetGenJetIdx = events[\"ak4JetGenJetIdx\"].to_numpy()\n",
    "\n",
    "# dissemble gen_b by H\n",
    "b_m2h1 = genBs[:, 0:2]\n",
    "b_m2h2 = genBs[:, 2:4]\n",
    "\n",
    "# calculate dR between genb and each genJet\n",
    "dR_h1b1_genJs = b_m2h1[:, 0][:, np.newaxis].deltaR(genJs)\n",
    "dR_h1b2_genJs = b_m2h1[:, 1][:, np.newaxis].deltaR(genJs)\n",
    "dR_h2b1_genJs = b_m2h2[:, 0][:, np.newaxis].deltaR(genJs)\n",
    "dR_h2b2_genJs = b_m2h2[:, 1][:, np.newaxis].deltaR(genJs)\n",
    "\n",
    "# count how many jets are matched to each b\n",
    "GenJm2b1h1 = (dR_h1b1_genJs < 0.4)[:, :, np.newaxis]\n",
    "GenJm2b2h1 = (dR_h1b2_genJs < 0.4)[:, :, np.newaxis]\n",
    "GenJm2b1h2 = (dR_h2b1_genJs < 0.4)[:, :, np.newaxis]\n",
    "GenJm2b2h2 = (dR_h2b2_genJs < 0.4)[:, :, np.newaxis]\n",
    "print(GenJm2b1h1.shape)\n",
    "\n",
    "# concatenate the arrays\n",
    "# 1st dimension: event\n",
    "# 2nd dimension: GenJ\n",
    "# 3rd dimension: match to each b true or false\n",
    "GenJm2b = np.concatenate([GenJm2b1h1, GenJm2b2h1, GenJm2b1h2, GenJm2b2h2], axis=2)\n",
    "print(GenJm2b.shape)\n",
    "\n",
    "# construct ak4GenJet info\n",
    "ak4GenJetHiggsMatch = np.zeros(shape=genJs.shape, dtype=bool)\n",
    "ak4GenJetHiggsMatchIndex = -1 * np.ones(shape=genJs.shape, dtype=int)\n",
    "\n",
    "# If a gen J is matched to at least one genb,\n",
    "# it is considered to be matched to the mother H\n",
    "# and will be assigned with a ak4GenJetHiggsMatchIndex\n",
    "GenJm2H = np.sum(GenJm2b, axis=2) == 1\n",
    "ak4GenJetHiggsMatch[GenJm2H] = True\n",
    "\n",
    "# find which genb and H matched the genJ\n",
    "# draft in the sense that only the matched genJ's\n",
    "# genB and genH indices will be used\n",
    "bIdx_draft = np.argmax(GenJm2b, axis=2)\n",
    "hIdx_draft = np.floor(bIdx_draft / 2)\n",
    "ak4GenJetHiggsMatchIndex[ak4GenJetHiggsMatch] = hIdx_draft[ak4GenJetHiggsMatch]\n",
    "\n",
    "# Gen-Jet Idx\n",
    "ak4JetGenJetIdx_ak = ak.from_regular(ak4JetGenJetIdx)\n",
    "# get good gen-jet indices\n",
    "not_padded = ak4JetGenJetIdx_ak > -1\n",
    "not_oor = ak4JetGenJetIdx_ak < 6  # oor=out of range\n",
    "select = not_padded & not_oor\n",
    "\n",
    "# select the genJet Higgs matching index that genJet also matched to reco jet\n",
    "ak4GenJetHiggsMatchIndex_ak = ak.from_regular(ak4GenJetHiggsMatchIndex)\n",
    "ak4JetHiggsMatchIndex_new = ak4GenJetHiggsMatchIndex_ak[ak4JetGenJetIdx_ak[select]]\n",
    "ak4JetHiggsMatchIndex_new = ak.fill_none(\n",
    "    ak.pad_none(ak4JetHiggsMatchIndex_new, 6, axis=-1), -1\n",
    ").to_numpy()\n",
    "ak4JetHiggsMatchIndex_new"
   ]
  },
  {
   "cell_type": "code",
   "execution_count": null,
   "metadata": {},
   "outputs": [],
   "source": [
    "ak4JetGenJetIdx_ak"
   ]
  },
  {
   "cell_type": "code",
   "execution_count": null,
   "metadata": {},
   "outputs": [],
   "source": [
    "ak4JetGenJetIdx_ak[0]"
   ]
  },
  {
   "cell_type": "code",
   "execution_count": null,
   "metadata": {},
   "outputs": [],
   "source": [
    "ak4JetGenJetIdx_ak[1]"
   ]
  },
  {
   "cell_type": "code",
   "execution_count": null,
   "metadata": {},
   "outputs": [],
   "source": [
    "ak4GenJetHiggsMatchIndex_ak"
   ]
  },
  {
   "cell_type": "code",
   "execution_count": null,
   "metadata": {},
   "outputs": [],
   "source": [
    "ak4GenJetHiggsMatchIndex_ak[0]"
   ]
  },
  {
   "cell_type": "code",
   "execution_count": null,
   "metadata": {},
   "outputs": [],
   "source": [
    "ak4GenJetHiggsMatchIndex_ak[1]"
   ]
  },
  {
   "cell_type": "code",
   "execution_count": null,
   "metadata": {},
   "outputs": [],
   "source": [
    "ak4GenJetHiggsMatchIndex_ak[ak4JetGenJetIdx_ak[select]]"
   ]
  },
  {
   "cell_type": "code",
   "execution_count": null,
   "metadata": {},
   "outputs": [],
   "source": [
    "# for event 1\n",
    "# [0, 1, 2, 3, -1, -1]\n",
    "# [0, 1, -1, 1, -1, -1]\n",
    "ak4GenJetHiggsMatchIndex_ak[ak4JetGenJetIdx_ak[select]][1]"
   ]
  },
  {
   "cell_type": "code",
   "execution_count": null,
   "metadata": {},
   "outputs": [],
   "source": [
    "# for event 0\n",
    "# [0, 1, 3, 2, -1, -1]\n",
    "# [1, 0, -1, 0]\n",
    "ak4GenJetHiggsMatchIndex_ak[ak4JetGenJetIdx_ak[select]][0]"
   ]
  },
  {
   "cell_type": "code",
   "execution_count": null,
   "metadata": {},
   "outputs": [],
   "source": [
    "indexak4_new = ak4JetHiggsMatchIndex_new\n",
    "indexak4_new\n",
    "\n",
    "h1ak4_new = indexak4_new == 0\n",
    "h2ak4_new = indexak4_new == 1\n",
    "num_ak4m2h1_new = h1ak4_new.sum(axis=1)\n",
    "num_ak4m2h2_new = h2ak4_new.sum(axis=1)\n",
    "h1m2ak4_new = num_ak4m2h1_new == 2\n",
    "h2m2ak4_new = num_ak4m2h2_new == 2\n",
    "\n",
    "boosted_new = h1m1ak8 & h2m1ak8\n",
    "semi_resolved_h1_new = h1m2ak4_new & h2m1ak8 & ~(boosted_new)\n",
    "semi_resolved_h2_new = h2m2ak4_new & h1m1ak8 & ~(boosted_new)\n",
    "semi_resolved_new = semi_resolved_h1_new | semi_resolved_h2_new\n",
    "resolved_new = (h1m2ak4_new & h2m2ak4_new) & ~(boosted_new) & ~(semi_resolved_new)\n",
    "not_categorized_new = ~(resolved_new | boosted_new | semi_resolved_new)"
   ]
  },
  {
   "cell_type": "code",
   "execution_count": null,
   "metadata": {},
   "outputs": [],
   "source": [
    "# bypass into each category\n",
    "mhh_boosted = mhh[boosted_new]\n",
    "mhh_resolved = mhh[resolved_new]\n",
    "mhh_semi = mhh[semi_resolved_new]\n",
    "mhh_out = mhh[not_categorized_new]\n",
    "\n",
    "bins = np.arange(100, 2000, 40)\n",
    "var_axis = hist.axis.Variable(bins, name=\"var\", label=\"variable\")\n",
    "cat_axis = hist.axis.StrCategory([], name=\"cat\", growth=True)\n",
    "\n",
    "hist_mhh = hist.Hist(var_axis, cat_axis)\n",
    "hist_mhh.fill(var=mhh_boosted, cat=\"boosted\")\n",
    "hist_mhh.fill(var=mhh_semi, cat=\"semi_resolved\")\n",
    "hist_mhh.fill(var=mhh_resolved, cat=\"resolved\")\n",
    "hist_mhh.fill(var=mhh_out, cat=\"non-categorized\")\n",
    "\n",
    "hist_mhh.fill(var=mhh[resolved], cat=\"resolved-old\")\n",
    "hist_mhh.fill(var=mhh[not_categorized_new], cat=\"non-categorized-old\")\n",
    "\n",
    "fig, ax = plt.subplots(1, 1, figsize=(8, 4))\n",
    "legend_elements = []\n",
    "hist_mhh[{\"cat\": \"resolved\"}].plot1d(ax=ax, label=\"Resolved\", lw=1, color=\"orange\")\n",
    "hist_mhh[{\"cat\": \"non-categorized\"}].plot1d(\n",
    "    ax=ax, label=\"Outside of these categories\", lw=2, ls=\"dotted\", color=\"red\"\n",
    ")\n",
    "hist_mhh[{\"cat\": \"resolved-old\"}].plot1d(\n",
    "    ax=ax, label=\"Resolved (No gen-jet)\", lw=1, color=\"orange\", alpha=0.2, histtype=\"fill\"\n",
    ")\n",
    "hist_mhh[{\"cat\": \"non-categorized-old\"}].plot1d(\n",
    "    ax=ax, label=\"Outside of these categories (No gen-jet)\", lw=1, ls=\"dashed\", color=\"red\"\n",
    ")\n",
    "\n",
    "legend_elements.append(Line2D([0], [0], ls=\"solid\", lw=1, label=\"Resolved\", color=\"orange\"))\n",
    "legend_elements.append(\n",
    "    Line2D([0], [0], ls=\"dotted\", lw=2, label=\"Outside of these categories\", color=\"red\")\n",
    ")\n",
    "legend_elements.append(\n",
    "    Line2D([0], [0], ls=\"solid\", lw=1, label=\"Resolved (No gen-jet)\", color=\"orange\")\n",
    ")\n",
    "legend_elements.append(\n",
    "    Line2D(\n",
    "        [0], [0], ls=\"dashed\", lw=1, label=\"Outside of these categories (No gen-jet)\", color=\"red\"\n",
    "    )\n",
    ")\n",
    "leg = ax.legend(handles=legend_elements, fontsize=10)\n",
    "leg.set_title(\"Gen-Level categories\", prop={\"size\": 10})\n",
    "ax.set_xlim(0, 2000)\n",
    "ax.set_xlabel(r\"$m_{HH}$\")"
   ]
  },
  {
   "cell_type": "code",
   "execution_count": null,
   "metadata": {},
   "outputs": [],
   "source": [
    "# maximum\n",
    "max_dR_h1b1_genJs = np.max(dR_h1b1_genJs, axis=1)\n",
    "max_dR_h1b2_genJs = np.max(dR_h1b2_genJs, axis=1)\n",
    "max_dR_h2b1_genJs = np.max(dR_h2b1_genJs, axis=1)\n",
    "max_dR_h2b2_genJs = np.max(dR_h2b2_genJs, axis=1)"
   ]
  },
  {
   "cell_type": "code",
   "execution_count": null,
   "metadata": {},
   "outputs": [],
   "source": [
    "hist_dr_h1 = hist.Hist(hist.axis.Regular(40, 0, 4, name=\"drb\", label=\"max dr with b-quark\"))\n",
    "hist_dr_h1.fill(max_dR_h1b1_genJs)"
   ]
  },
  {
   "cell_type": "code",
   "execution_count": null,
   "metadata": {},
   "outputs": [],
   "source": [
    "hist_dr_h1 = hist.Hist(hist.axis.Regular(40, 0, 4, name=\"drb\", label=\"max dr with b-quark\"))\n",
    "hist_dr_h1.fill(max_dR_h1b2_genJs)"
   ]
  },
  {
   "cell_type": "code",
   "execution_count": null,
   "metadata": {},
   "outputs": [],
   "source": [
    "hist_dr_h2 = hist.Hist(hist.axis.Regular(40, 0, 4, name=\"drb\", label=\"max dr with b-quark\"))\n",
    "hist_dr_h2.fill(max_dR_h2b1_genJs)"
   ]
  },
  {
   "cell_type": "code",
   "execution_count": null,
   "metadata": {},
   "outputs": [],
   "source": [
    "hist_dr_h2 = hist.Hist(hist.axis.Regular(40, 0, 4, name=\"drb\", label=\"max dr with b-quark\"))\n",
    "hist_dr_h2.fill(max_dR_h2b2_genJs)"
   ]
  },
  {
   "cell_type": "markdown",
   "metadata": {},
   "source": [
    "## Reco-level studies\n",
    "\n",
    "- Understand FatJet tagger score + particle net mass distributions for events in each gen-level category"
   ]
  },
  {
   "cell_type": "code",
   "execution_count": null,
   "metadata": {},
   "outputs": [],
   "source": [
    "fj_mwh1_idx = (events[\"ak8FatJetHiggsMatchIndex\"].to_numpy()[:, 0:2]) == 0\n",
    "fj_mwh2_idx = events[\"ak8FatJetHiggsMatchIndex\"].to_numpy()[:, 0:2] == 1\n",
    "\n",
    "fj_xbb = events[\"ak8FatJetPNetXbb\"].to_numpy()\n",
    "fj_mass = events[\"ak8FatJetPNetMass\"].to_numpy()"
   ]
  },
  {
   "cell_type": "code",
   "execution_count": null,
   "metadata": {},
   "outputs": [],
   "source": [
    "fj_mwh1_idx"
   ]
  },
  {
   "cell_type": "code",
   "execution_count": null,
   "metadata": {},
   "outputs": [],
   "source": [
    "def plot_h1h2_fj(x, label, bins):\n",
    "    fj_mwh1_semi_resolved = x[semi_resolved][fj_mwh1_idx[semi_resolved]]\n",
    "    fj_mwh2_semi_resolved = x[semi_resolved][fj_mwh2_idx[semi_resolved]]\n",
    "\n",
    "    fj_mwh1_boosted = x[boosted][fj_mwh1_idx[boosted]]\n",
    "    fj_mwh2_boosted = x[boosted][fj_mwh2_idx[boosted]]\n",
    "\n",
    "    fj_mwh1_resolved = x[resolved][fj_mwh1_idx[resolved]]\n",
    "    fj_mwh2_resolved = x[resolved][fj_mwh2_idx[resolved]]\n",
    "\n",
    "    fj_mwh1_outside = x[not_categorized][fj_mwh1_idx[not_categorized]]\n",
    "    fj_mwh2_outside = x[not_categorized][fj_mwh2_idx[not_categorized]]\n",
    "\n",
    "    var_axis = hist.axis.Variable(bins, name=\"var\", label=\"variable\")\n",
    "    cat_axis = hist.axis.StrCategory([], name=\"cat\", growth=True)\n",
    "\n",
    "    h1 = hist.Hist(var_axis, cat_axis)\n",
    "    h1.fill(var=fj_mwh1_boosted, cat=\"boosted\")\n",
    "    h1.fill(var=fj_mwh1_semi_resolved, cat=\"semi_resolved\")\n",
    "    h1.fill(var=fj_mwh1_outside, cat=\"non-categorized\")\n",
    "\n",
    "    h2 = hist.Hist(var_axis, cat_axis)\n",
    "    h2.fill(var=fj_mwh2_boosted, cat=\"boosted\")\n",
    "    h2.fill(var=fj_mwh2_semi_resolved, cat=\"semi_resolved\")\n",
    "    h2.fill(var=fj_mwh2_outside, cat=\"non-categorized\")\n",
    "\n",
    "    legend_elements = []\n",
    "    fig, ax = plt.subplots(1, 2, figsize=(8, 4), sharey=True)\n",
    "    hep.histplot(\n",
    "        h1[{\"cat\": \"boosted\"}],\n",
    "        ax=ax[0],\n",
    "        label=\"Boosted\",\n",
    "        density=True,\n",
    "        histtype=\"fill\",\n",
    "        alpha=0.2,\n",
    "        hatch=r\"\\\\\\\\\",\n",
    "        color=\"blue\",\n",
    "    )\n",
    "    hep.histplot(\n",
    "        h1[{\"cat\": \"semi_resolved\"}],\n",
    "        ax=ax[0],\n",
    "        label=\"Semi-Resolved\",\n",
    "        density=True,\n",
    "        lw=2,\n",
    "        ls=\"solid\",\n",
    "        color=\"green\",\n",
    "    )\n",
    "    hep.histplot(\n",
    "        h1[{\"cat\": \"non-categorized\"}],\n",
    "        ax=ax[0],\n",
    "        label=\"Outside of these categories\",\n",
    "        density=True,\n",
    "        color=\"red\",\n",
    "        ls=\"dotted\",\n",
    "    )\n",
    "    legend_elements.append(mpatches.Patch(color=\"blue\", alpha=0.2, hatch=r\"\\\\\\\\\", label=\"Boosted\"))\n",
    "    legend_elements.append(Line2D([0], [0], ls=\"solid\", lw=2, label=\"Semi-Resolved\", color=\"green\"))\n",
    "    legend_elements.append(\n",
    "        Line2D([0], [0], ls=\"dotted\", lw=2, label=\"Outside of these categories\", color=\"red\")\n",
    "    )\n",
    "    leg = ax[0].legend(handles=legend_elements, fontsize=10)\n",
    "    leg.set_title(\"Gen-Level categories\", prop={\"size\": 10})\n",
    "    ax[0].set_xlabel(label + \" - matched to H1\")\n",
    "\n",
    "    hep.histplot(\n",
    "        h2[{\"cat\": \"boosted\"}],\n",
    "        ax=ax[1],\n",
    "        label=\"Boosted\",\n",
    "        density=True,\n",
    "        histtype=\"fill\",\n",
    "        alpha=0.2,\n",
    "        hatch=r\"\\\\\\\\\",\n",
    "        color=\"blue\",\n",
    "    )\n",
    "    hep.histplot(h2[{\"cat\": \"semi_resolved\"}], ax=ax[1], label=\"Semi-Resolved\", density=True)\n",
    "    hep.histplot(\n",
    "        h2[{\"cat\": \"non-categorized\"}],\n",
    "        ax=ax[1],\n",
    "        label=\"Outside of these categories\",\n",
    "        density=True,\n",
    "        color=\"red\",\n",
    "        ls=\"dotted\",\n",
    "    )\n",
    "    leg = ax[1].legend(handles=legend_elements, fontsize=10)\n",
    "    leg.set_title(\"Gen-Level categories\", prop={\"size\": 10})\n",
    "    ax[1].set_xlabel(label + \" matched to H2\")\n",
    "    ax[0].set_ylabel(\"Density\")"
   ]
  },
  {
   "cell_type": "code",
   "execution_count": null,
   "metadata": {},
   "outputs": [],
   "source": [
    "# plot_h1h2_fj(fj_xbb, r\"fj $T_{Xbb}$ Score\", np.arange(-2, 1, 0.03))\n",
    "plot_h1h2_fj(fj_mass, r\"fj PN mass\", np.arange(0, 200, 7))"
   ]
  },
  {
   "cell_type": "code",
   "execution_count": null,
   "metadata": {},
   "outputs": [],
   "source": [
    "def plot_h1h2_fj(x, label, bins):\n",
    "    var_axis = hist.axis.Variable(bins, name=\"var\", label=\"variable\")\n",
    "    cat_axis = hist.axis.StrCategory([], name=\"cat\", growth=True)\n",
    "\n",
    "    h1 = hist.Hist(var_axis, cat_axis)\n",
    "    h1.fill(var=x[boosted_nb2][fj_mwh1_idx[boosted_nb2]], cat=\"boosted-2b\")\n",
    "    h1.fill(var=x[boosted_nb1][fj_mwh1_idx[boosted_nb1]], cat=\"boosted-1b\")\n",
    "    h1.fill(var=x[boosted_nb1nb2][fj_mwh1_idx[boosted_nb1nb2]], cat=\"boosted-2b1b\")\n",
    "\n",
    "    h2 = hist.Hist(var_axis, cat_axis)\n",
    "    h2.fill(var=x[boosted_nb2][fj_mwh2_idx[boosted_nb2]], cat=\"boosted-2b\")\n",
    "    h2.fill(var=x[boosted_nb1][fj_mwh2_idx[boosted_nb1]], cat=\"boosted-1b\")\n",
    "    h2.fill(var=x[boosted_nb1nb2][fj_mwh2_idx[boosted_nb1nb2]], cat=\"boosted-2b1b\")\n",
    "\n",
    "    fig, ax = plt.subplots(1, 1, figsize=(8, 4))\n",
    "    hep.histplot(\n",
    "        h1[{\"cat\": \"boosted-2b\"}],\n",
    "        ax=ax,\n",
    "        label=\"Boosted 2b\",\n",
    "        density=True,\n",
    "        hatch=r\"\\\\\\\\\",\n",
    "        alpha=0.1,\n",
    "        histtype=\"fill\",\n",
    "        color=\"blue\",\n",
    "    )\n",
    "    hep.histplot(\n",
    "        h1[{\"cat\": \"boosted-1b\"}],\n",
    "        ax=ax,\n",
    "        label=\"Boosted 1b\",\n",
    "        density=True,\n",
    "        alpha=0.2,\n",
    "        histtype=\"fill\",\n",
    "        color=\"blue\",\n",
    "    )\n",
    "    hep.histplot(\n",
    "        h1[{\"cat\": \"boosted-2b1b\"}],\n",
    "        ax=ax,\n",
    "        label=\"Boosted 2b1b\",\n",
    "        density=True,\n",
    "        alpha=0.4,\n",
    "        histtype=\"fill\",\n",
    "        color=\"blue\",\n",
    "    )\n",
    "    leg = ax.legend(fontsize=10)\n",
    "    leg.set_title(\"Gen-Level categories\", prop={\"size\": 10})\n",
    "    ax.set_xlabel(label + \" - matched to H1\")\n",
    "\n",
    "    \"\"\"\n",
    "    hep.histplot(h2[{\"cat\": \"boosted-2b\"}], ax=ax[1], label=\"Boosted 2b\", density=True)\n",
    "    hep.histplot(h2[{\"cat\": \"boosted-1b\"}], ax=ax[1], label=\"Boosted 1b\", density=True)\n",
    "    hep.histplot(h2[{\"cat\": \"boosted-2b1b\"}], ax=ax[1], label=\"Boosted 2b1b\", density=True)\n",
    "    leg = ax[1].legend(fontsize=10)\n",
    "    leg.set_title(\"Gen-Level categories\", prop={\"size\": 10})\n",
    "    ax[1].set_xlabel(label + \" matched to H2\")\n",
    "    ax[0].set_ylabel(\"Density\")\n",
    "    \"\"\""
   ]
  },
  {
   "cell_type": "code",
   "execution_count": null,
   "metadata": {},
   "outputs": [],
   "source": [
    "plot_h1h2_fj(fj_xbb, r\"fj $T_{Xbb}$ Score\", np.arange(0, 1, 0.03))\n",
    "plot_h1h2_fj(fj_mass, r\"fj PN mass\", np.arange(0, 200, 7))"
   ]
  },
  {
   "cell_type": "markdown",
   "metadata": {},
   "source": [
    "## Tasks for billy (reco-level)\n",
    "\n",
    "Understand behavior at gen-level of `not-categorized events` (events that are not boosted, resolved or semi-resolved):\n",
    "- 2d plot of fatjet reco pnet mass vs Xbb score for each category (Are they correlated?)"
   ]
  },
  {
   "cell_type": "code",
   "execution_count": null,
   "metadata": {},
   "outputs": [],
   "source": [
    "# define a function to plot 2d histogram\n",
    "plot_dir = \"/uscms/home/haoyang/HH4b/plots/MatchingStudy\"\n",
    "\n",
    "\n",
    "def plot_hist2d(\n",
    "    x_vals: np.ndarray,\n",
    "    y_vals: np.ndarray,\n",
    "    bins: [np.ndarray, np.ndarray],\n",
    "    x_label: str,\n",
    "    y_label: str,\n",
    "    filename: str,\n",
    "):\n",
    "    fig, ax = plt.subplots(1, 2, figsize=(20, 8))\n",
    "    for i in range(2):\n",
    "        ax[i].hist2d(\n",
    "            x_vals[:, i].reshape(-1),\n",
    "            y_vals[:, i].reshape(-1),\n",
    "            bins,\n",
    "        )\n",
    "        ax[i].set_xlabel(x_label)\n",
    "        ax[i].set_ylabel(y_label)\n",
    "        ax[i].set_title(f\"Higgs {i + 1}\")\n",
    "\n",
    "    # hep.cms.label(\"Work in Progress\", year=\"2022\", com=\"13.6\", ax=ax)\n",
    "    # plt.savefig(f\"{plot_dir}/{filename}.jpg\", bbox_inches=\"tight\")\n",
    "    plt.show()"
   ]
  },
  {
   "cell_type": "code",
   "execution_count": null,
   "metadata": {},
   "outputs": [],
   "source": [
    "# get PNetMass (y) ans Xbb (x)\n",
    "fjXbb = events[\"ak8FatJetPNetXbb\"].to_numpy()\n",
    "fjXbb_ooc = fjXbb[not_categorized]\n",
    "fjPNetMass = events[\"ak8FatJetPNetMass\"].to_numpy()\n",
    "fjPNetMass_ooc = fjPNetMass[not_categorized]\n",
    "\n",
    "xbins = np.arange(0, fjXbb_ooc.max(), 0.05)\n",
    "ybins = np.arange(0, fjPNetMass_ooc.max(), 5)\n",
    "bins = [xbins, ybins]\n",
    "plot_hist2d(fjXbb_ooc, fjPNetMass_ooc, bins, \"Xbb\", \"PNetMass\", \"fj_reco_PNetMass_vs_Xbb_for_ooc\")"
   ]
  },
  {
   "cell_type": "markdown",
   "metadata": {},
   "source": [
    "### Billy's note: There are large negative numbers in Xbb and PNetMass."
   ]
  },
  {
   "cell_type": "markdown",
   "metadata": {},
   "source": [
    "- Plot AK8JetPNetMass and Xbb score for events that fail a tight boosted selection:\n",
    "  - tight boosted selection: (fj_0_Xbb > 0.99) & (fj_0_pnet_mass > 100) & (fj_0_pnet_mass < 140>) & (fj_1_Xbb > 0.99) & (fj_1_pnet_mass > 100) & (fj_1_pnet_mass < 140>) where fj_0 and fj_1 are the fatjets in the event (sorted by Xbb, 0 has the highest Xbb score)"
   ]
  },
  {
   "cell_type": "code",
   "execution_count": null,
   "metadata": {},
   "outputs": [],
   "source": [
    "# select on ooc event's fatjets\n",
    "fj0Xbb_cond = fjXbb_ooc[:, 0] > 0.99\n",
    "fj0PNetMass_cond = (fjPNetMass_ooc[:, 0] > 100) & (fjPNetMass_ooc[:, 0] < 140)\n",
    "fj0_cond = fj0Xbb_cond & fj0PNetMass_cond\n",
    "\n",
    "fj1Xbb_cond = fjXbb_ooc[:, 1] > 0.99\n",
    "fj1PNetMass_cond = (fjPNetMass_ooc[:, 1] > 100) & (fjPNetMass_ooc[:, 1] < 140)\n",
    "fj1_cond = fj1Xbb_cond & fj1PNetMass_cond\n",
    "\n",
    "tight = fj0_cond & fj1_cond\n",
    "\n",
    "fjPNetMass_fail = fjPNetMass_ooc[~tight].reshape(-1)\n",
    "fjXbb_fail = fjXbb_ooc[~tight].reshape(-1)"
   ]
  },
  {
   "cell_type": "code",
   "execution_count": null,
   "metadata": {},
   "outputs": [],
   "source": [
    "plt.hist(fjPNetMass_fail, bins=ybins)\n",
    "plt.xlabel(\"failed ooc fjPNetMass\")"
   ]
  },
  {
   "cell_type": "code",
   "execution_count": null,
   "metadata": {},
   "outputs": [],
   "source": [
    "plt.hist(fjXbb_fail, bins=xbins)\n",
    "plt.xlabel(\"failed ooc fjXbb\")"
   ]
  },
  {
   "cell_type": "code",
   "execution_count": null,
   "metadata": {},
   "outputs": [],
   "source": []
  },
  {
   "cell_type": "markdown",
   "metadata": {},
   "source": []
  }
 ],
 "metadata": {
  "kernelspec": {
   "display_name": "Python 3 (ipykernel)",
   "language": "python",
   "name": "python3"
  },
  "language_info": {
   "codemirror_mode": {
    "name": "ipython",
    "version": 3
   },
   "file_extension": ".py",
   "mimetype": "text/x-python",
   "name": "python",
   "nbconvert_exporter": "python",
   "pygments_lexer": "ipython3",
   "version": "3.9.18"
  }
 },
 "nbformat": 4,
 "nbformat_minor": 4
}
