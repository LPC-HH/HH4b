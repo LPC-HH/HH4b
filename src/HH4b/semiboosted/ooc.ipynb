{
 "cells": [
  {
   "cell_type": "markdown",
   "id": "661b522e-afec-443d-9e46-40397f9186fe",
   "metadata": {},
   "source": [
    "## Background\n",
    "We categorized events by gen level infomartion: boosted, resolved ,semi-boosted, and out of categories (ooc). \n",
    "\n",
    "We found most ooc events are in the resolved pT mHH. \n",
    "\n",
    "Below is a recap"
   ]
  },
  {
   "cell_type": "code",
   "execution_count": null,
   "id": "68b3dcf7-9669-4c01-a80a-96994d2674e5",
   "metadata": {},
   "outputs": [],
   "source": [
    "from __future__ import annotations\n",
    "\n",
    "%pip install --upgrade awkward"
   ]
  },
  {
   "cell_type": "code",
   "execution_count": null,
   "id": "43e6a671-6d30-401f-b6db-10e4901b5e18",
   "metadata": {},
   "outputs": [],
   "source": [
    "import awkward as ak\n",
    "import hist\n",
    "import numpy as np\n",
    "import pandas as pd\n",
    "import vector\n",
    "\n",
    "vector.register_awkward()"
   ]
  },
  {
   "cell_type": "code",
   "execution_count": null,
   "id": "0448d88f-38d6-4f4e-83d9-3f54e6d27f30",
   "metadata": {},
   "outputs": [],
   "source": [
    "import matplotlib.pyplot as plt\n",
    "import matplotlib.ticker as mticker\n",
    "\n",
    "# mplhep for CMS-style plots\n",
    "import mplhep as hep\n",
    "from matplotlib.lines import Line2D\n",
    "\n",
    "plt.style.use(hep.style.CMS)\n",
    "hep.style.use(\"CMS\")\n",
    "formatter = mticker.ScalarFormatter(useMathText=True)\n",
    "formatter.set_powerlimits((-3, 3))\n",
    "plt.rcParams.update({\"font.size\": 16})"
   ]
  },
  {
   "cell_type": "code",
   "execution_count": null,
   "id": "29f6fabf-ec6f-420d-968c-89d4ce4464d5",
   "metadata": {},
   "outputs": [],
   "source": [
    "def make_vector(events: pd.DataFrame, obj: str):\n",
    "    \"\"\"Create a ``vector`` object from the columns of the dataframe\"\"\"\n",
    "    mstring = \"Msd\" if obj == \"ak8FatJet\" else \"Mass\"\n",
    "\n",
    "    return vector.array(\n",
    "        {\n",
    "            \"pt\": events[f\"{obj}Pt\"],\n",
    "            \"phi\": events[f\"{obj}Phi\"],\n",
    "            \"eta\": events[f\"{obj}Eta\"],\n",
    "            \"M\": events[f\"{obj}{mstring}\"],\n",
    "        }\n",
    "    )"
   ]
  },
  {
   "cell_type": "code",
   "execution_count": null,
   "id": "b78463f4-d696-474a-8cb0-7b78ad7fc9bb",
   "metadata": {},
   "outputs": [],
   "source": [
    "events = pd.read_parquet(\n",
    "    \"/eos/uscms/store/user/cmantill/bbbb/matching/Oct30/2018/GluGlutoHHto4B_cHHH1_TuneCP5_PSWeights_13TeV-powheg-pythia8/parquet/\"\n",
    ")"
   ]
  },
  {
   "cell_type": "code",
   "execution_count": null,
   "id": "aa7ba21b-033f-4c7a-8e6f-22bc6eb5f16e",
   "metadata": {},
   "outputs": [],
   "source": [
    "jets = make_vector(events, \"ak4Jet\")\n",
    "gen_higgs = make_vector(events, \"GenHiggs\")\n",
    "gen_bs = make_vector(events, \"Genb\")\n",
    "fjs = make_vector(events, \"ak8FatJet\")"
   ]
  },
  {
   "cell_type": "code",
   "execution_count": null,
   "id": "002bfe11-c9eb-471b-ab8c-c897de1e77ab",
   "metadata": {
    "scrolled": true
   },
   "outputs": [],
   "source": [
    "list(events.keys())"
   ]
  },
  {
   "cell_type": "code",
   "execution_count": null,
   "id": "628e27a7-204b-44a0-bbc4-727171bcd8ac",
   "metadata": {},
   "outputs": [],
   "source": [
    "drbh1ak8 = events[\"ak8FatJetMaxdRH1\"].to_numpy()\n",
    "drbh2ak8 = events[\"ak8FatJetMaxdRH2\"].to_numpy()\n",
    "indexak8 = events[\"ak8FatJetHiggsMatchIndex\"].to_numpy()\n",
    "indexak4 = events[\"ak4JetHiggsMatchIndex\"].to_numpy()\n",
    "nbh1ak8 = events[\"ak8FatJetNumBMatchedH1\"].to_numpy()\n",
    "nbh2ak8 = events[\"ak8FatJetNumBMatchedH2\"].to_numpy()"
   ]
  },
  {
   "cell_type": "code",
   "execution_count": null,
   "id": "bc63c2bb-ecb3-4932-9423-67d4a46a5a11",
   "metadata": {},
   "outputs": [],
   "source": [
    "# ak4 jets matched to h1 and h2\n",
    "h1ak4 = indexak4 == 0\n",
    "h2ak4 = indexak4 == 1\n",
    "num_ak4m2h1 = h1ak4.sum(axis=1)\n",
    "num_ak4m2h2 = h2ak4.sum(axis=1)\n",
    "h1m2ak4 = num_ak4m2h1 == 2\n",
    "h2m2ak4 = num_ak4m2h2 == 2\n",
    "\n",
    "# ak8 jets matched to h1 and h2\n",
    "h1ak8 = indexak8 == 0\n",
    "h2ak8 = indexak8 == 1\n",
    "num_ak8m2h1 = h1ak8.sum(axis=1)\n",
    "num_ak8m2h2 = h2ak8.sum(axis=1)\n",
    "h1m1ak8 = num_ak8m2h1 == 1\n",
    "h2m1ak8 = num_ak8m2h2 == 1\n",
    "\n",
    "boosted = h1m1ak8 & h2m1ak8\n",
    "resolved = (h1m2ak4 & h2m2ak4) & ~(boosted) & (num_ak8m2h1 == 0) & (num_ak8m2h2 == 0)\n",
    "semi_resolved_h1 = h1m2ak4 & (h2m1ak8 & ~h2m2ak4) & ~(resolved) & ~(boosted)\n",
    "semi_resolved_h2 = h2m2ak4 & (h1m1ak8 & ~h1m2ak4) & ~(resolved) & ~(boosted)\n",
    "semi_resolved = semi_resolved_h1 | semi_resolved_h2\n",
    "not_categorized = ~(resolved | boosted | semi_resolved)"
   ]
  },
  {
   "cell_type": "code",
   "execution_count": null,
   "id": "003b238e-b9ce-44b4-bb15-bf6778edb507",
   "metadata": {},
   "outputs": [],
   "source": [
    "h1ak8nb2 = (indexak8 == 0) & (nbh1ak8 == 2)\n",
    "h2ak8nb2 = (indexak8 == 1) & (nbh2ak8 == 2)\n",
    "h1m1ak8b2 = h1ak8nb2.sum(axis=1) == 1\n",
    "h2m1ak8b2 = h2ak8nb2.sum(axis=1) == 1\n",
    "\n",
    "h1ak8nb1 = (indexak8 == 0) & (nbh1ak8 == 1)\n",
    "h2ak8nb1 = (indexak8 == 1) & (nbh2ak8 == 1)\n",
    "h1m1ak8b1 = h1ak8nb1.sum(axis=1) == 1\n",
    "h2m1ak8b1 = h2ak8nb1.sum(axis=1) == 1\n",
    "\n",
    "boosted_nb2 = h1m1ak8b2 & h2m1ak8b2\n",
    "boosted_nb1 = h1m1ak8b1 & h2m1ak8b1\n",
    "boosted_nb1nb2 = (h1m1ak8b1 & h2m1ak8b2) | (h1m1ak8b2 & h2m1ak8b1)"
   ]
  },
  {
   "cell_type": "code",
   "execution_count": null,
   "id": "22b3f20e-f3ad-4c28-a8c7-eda1e71ddddf",
   "metadata": {},
   "outputs": [],
   "source": [
    "semi_resolved_h1_b2 = h1m2ak4 & (h2m1ak8b2 & ~h2m2ak4) & ~(resolved) & ~(boosted)\n",
    "semi_resolved_h2_b2 = h2m2ak4 & (h1m1ak8b2 & ~h1m2ak4) & ~(resolved) & ~(boosted)\n",
    "semi_resolved_h1_b1 = h1m2ak4 & (h2m1ak8b1 & ~h2m2ak4) & ~(resolved) & ~(boosted)\n",
    "semi_resolved_h2_b1 = h2m2ak4 & (h1m1ak8b1 & ~h1m2ak4) & ~(resolved) & ~(boosted)\n",
    "\n",
    "semi_resolved_h_b2 = semi_resolved_h1_b2 | semi_resolved_h2_b2\n",
    "semi_resolved_h_b1 = semi_resolved_h1_b1 | semi_resolved_h2_b1"
   ]
  },
  {
   "cell_type": "code",
   "execution_count": null,
   "id": "7dffe73d-7891-47cb-b0c2-e3b4e22f0b6e",
   "metadata": {},
   "outputs": [],
   "source": [
    "# calcualte m_HH for every event\n",
    "mhh = (gen_higgs[:, 0] + gen_higgs[:, 1]).m\n",
    "\n",
    "# bypass into each category\n",
    "mhh_boosted = mhh[boosted]\n",
    "mhh_resolved = mhh[resolved]\n",
    "mhh_semi = mhh[semi_resolved]\n",
    "mhh_out = mhh[not_categorized]\n",
    "\n",
    "# start to plot, code modified on Christina's plot_h1h2_fj\n",
    "bins = np.arange(mhh.min(), mhh.max(), 10)\n",
    "bins = np.arange(100, 2000, 50)\n",
    "var_axis = hist.axis.Variable(bins, name=\"var\", label=\"variable\")\n",
    "cat_axis = hist.axis.StrCategory([], name=\"cat\", growth=True)\n",
    "\n",
    "hist_mhh = hist.Hist(var_axis, cat_axis)\n",
    "hist_mhh.fill(var=mhh_boosted, cat=\"boosted\")\n",
    "hist_mhh.fill(var=mhh_semi, cat=\"semi_resolved\")\n",
    "hist_mhh.fill(var=mhh_resolved, cat=\"resolved\")\n",
    "hist_mhh.fill(var=mhh_out, cat=\"non-categorized\")\n",
    "\n",
    "leg_elems = []\n",
    "fig, ax = plt.subplots(1, 1, figsize=(8, 4))\n",
    "hist_mhh[{\"cat\": \"boosted\"}].plot1d(ax=ax, label=\"Boosted\", color=\"y\", ls=\"-\")\n",
    "hist_mhh[{\"cat\": \"semi_resolved\"}].plot1d(ax=ax, label=\"Semi-Resolved\", color=\"r\", ls=\"-.\")\n",
    "hist_mhh[{\"cat\": \"resolved\"}].plot1d(ax=ax, label=\"Resolved\", color=\"k\", ls=\":\")\n",
    "hist_mhh[{\"cat\": \"non-categorized\"}].plot1d(\n",
    "    ax=ax, label=\"Outside of these categories\", color=\"c\", ls=\"--\"\n",
    ")\n",
    "leg_elems.append(Line2D([0], [0], color=\"y\", lw=2, ls=\"-\", label=\"boosted\"))\n",
    "leg_elems.append(Line2D([0], [0], color=\"r\", lw=2, ls=\"-.\", label=\"semi-resolved\"))\n",
    "leg_elems.append(Line2D([0], [0], color=\"k\", lw=2, ls=\":\", label=\"resolved\"))\n",
    "leg_elems.append(Line2D([0], [0], color=\"c\", lw=2, ls=\"--\", label=\"ooc\"))\n",
    "leg = ax.legend(handles=leg_elems)\n",
    "leg.set_title(\"Gen-Level categories\", prop={\"size\": 10})\n",
    "ax.set_xlim(0, 2000)\n",
    "ax.set_ylim(0, 30000)\n",
    "ax.set_xlabel(r\"$m_{HH}$\")\n",
    "ax.set_title(\"Catrgories of RecoJet->GenH Matching (AK8=AK4)\")"
   ]
  },
  {
   "cell_type": "markdown",
   "id": "7557aa80-0b29-4a8d-94eb-4f294ab8748b",
   "metadata": {},
   "source": [
    "## Investigations\n",
    "### Ak4 matched to b quarks vs. Higgs pT"
   ]
  },
  {
   "cell_type": "code",
   "execution_count": null,
   "id": "9adf0321-b780-4fe3-b8d4-ea7ac27835ad",
   "metadata": {},
   "outputs": [],
   "source": [
    "events_ooc = events[not_categorized]\n",
    "Hs_ooc = gen_higgs[not_categorized]\n",
    "js_ooc = jets[not_categorized]"
   ]
  },
  {
   "cell_type": "code",
   "execution_count": null,
   "id": "37607eb2-8155-402a-8c5b-ec7166966619",
   "metadata": {},
   "outputs": [],
   "source": [
    "b_m2h1_ooc = gen_bs[not_categorized][:, 0:2]\n",
    "b_m2h2_ooc = gen_bs[not_categorized][:, 2:4]"
   ]
  },
  {
   "cell_type": "code",
   "execution_count": null,
   "id": "18efd37b-e91c-4418-9028-f9463be32ec5",
   "metadata": {},
   "outputs": [],
   "source": [
    "# calculate dR(b_quark, jets)\n",
    "dR_h1b1_js = b_m2h1_ooc[:, 0][:, np.newaxis].deltaR(js_ooc)\n",
    "dR_h1b2_js = b_m2h1_ooc[:, 1][:, np.newaxis].deltaR(js_ooc)\n",
    "dR_h2b1_js = b_m2h2_ooc[:, 0][:, np.newaxis].deltaR(js_ooc)\n",
    "dR_h2b2_js = b_m2h2_ooc[:, 1][:, np.newaxis].deltaR(js_ooc)\n",
    "\n",
    "# count how many jets are matched to each b\n",
    "N_jm2b1h1 = ak.sum(dR_h1b1_js < 0.5, axis=-1)\n",
    "N_jm2b2h1 = ak.sum(dR_h1b2_js < 0.5, axis=-1)\n",
    "N_jm2b1h2 = ak.sum(dR_h2b1_js < 0.5, axis=-1)\n",
    "N_jm2b2h2 = ak.sum(dR_h2b2_js < 0.5, axis=-1)"
   ]
  },
  {
   "cell_type": "code",
   "execution_count": null,
   "id": "469e148f-1666-4362-8c52-925150cfd182",
   "metadata": {},
   "outputs": [],
   "source": [
    "# categorize them into\n",
    "# 1. exceed: both b1 and b2 matched to more than 1 ak4\n",
    "# 2. partial_exceed: one of the bs is matched to more than 1 ak4, another is matched to 1 ak4\n",
    "# 3. polarized: one of the bs is matched to more than 1 ak4, another is unmatched\n",
    "# 4. match: both b1 and b2 are uniquely matched\n",
    "# 5. partial_match: only one of the b is uniquely matched, the other is unmatched\n",
    "# 6. unmatch: no b is matched\n",
    "h1_exceed = (N_jm2b1h1 > 1) & (N_jm2b2h1 > 1)\n",
    "h2_exceed = (N_jm2b1h2 > 1) & (N_jm2b2h2 > 1)\n",
    "\n",
    "h1_partial_exceed = ((N_jm2b1h1 > 1) & (N_jm2b2h1 == 1)) | ((N_jm2b1h1 == 1) & (N_jm2b2h1 > 1))\n",
    "h2_partial_exceed = ((N_jm2b1h2 > 1) & (N_jm2b2h2 == 1)) | ((N_jm2b1h2 == 1) & (N_jm2b2h2 > 1))\n",
    "\n",
    "h1_polarized = ((N_jm2b1h1 > 1) & (N_jm2b2h1 == 0)) | ((N_jm2b1h1 == 0) & (N_jm2b2h1 > 1))\n",
    "h2_polarized = ((N_jm2b1h2 > 1) & (N_jm2b2h2 == 0)) | ((N_jm2b1h2 == 0) & (N_jm2b2h2 > 1))\n",
    "\n",
    "h1_match = (N_jm2b1h1 == 1) & (N_jm2b2h1 == 1)\n",
    "h2_match = (N_jm2b1h2 == 1) & (N_jm2b2h2 == 1)\n",
    "\n",
    "h1_partial_match = ((N_jm2b1h1 == 1) & (N_jm2b2h1 == 0)) | ((N_jm2b1h1 == 0) & (N_jm2b2h1 == 1))\n",
    "h2_partial_match = ((N_jm2b1h2 == 1) & (N_jm2b2h2 == 0)) | ((N_jm2b1h2 == 0) & (N_jm2b2h2 == 1))\n",
    "\n",
    "h1_unmatch = (N_jm2b1h1 == 0) & (N_jm2b2h1 == 0)\n",
    "h2_unmatch = (N_jm2b1h2 == 0) & (N_jm2b2h2 == 0)"
   ]
  },
  {
   "cell_type": "code",
   "execution_count": null,
   "id": "833a7818-95a5-451c-b67f-3489ce387754",
   "metadata": {},
   "outputs": [],
   "source": [
    "# check if the event numbers in each category adds up to total number of events\n",
    "category_h1 = [h1_exceed, h1_partial_exceed, h1_match, h1_polarized, h1_partial_match, h1_unmatch]\n",
    "category_h2 = [h2_exceed, h2_partial_exceed, h2_match, h2_polarized, h2_partial_match, h2_unmatch]\n",
    "category = category_h1 + category_h2\n",
    "\n",
    "N_tot_running = 0\n",
    "for cat in category_h1:\n",
    "    N_tot_running += ak.sum(cat)\n",
    "\n",
    "print(N_tot_running, events_ooc.shape[0])"
   ]
  },
  {
   "cell_type": "code",
   "execution_count": null,
   "id": "e191a7f7-40d1-4cc2-8eb6-2238c3eef46a",
   "metadata": {},
   "outputs": [],
   "source": [
    "ooc_ooc = (\n",
    "    (~h1_exceed)\n",
    "    & (~h1_partial_exceed)\n",
    "    & (~h1_match)\n",
    "    & (~h1_polarized)\n",
    "    & (~h1_partial_match)\n",
    "    & (~h1_unmatch)\n",
    ")"
   ]
  },
  {
   "cell_type": "code",
   "execution_count": null,
   "id": "3c1893d2-81da-47d9-9728-079a81442925",
   "metadata": {},
   "outputs": [],
   "source": [
    "for Ns in zip(N_jm2b1h1[ooc_ooc], N_jm2b2h1[ooc_ooc], N_jm2b1h2[ooc_ooc], N_jm2b2h2[ooc_ooc]):\n",
    "    print(Ns)\n",
    "\n",
    "ak.sum(ooc_ooc)"
   ]
  },
  {
   "cell_type": "code",
   "execution_count": null,
   "id": "3f1f9236-bac0-444a-87bc-7f1ff84aa1c7",
   "metadata": {},
   "outputs": [],
   "source": [
    "# get pt in each H each category\n",
    "H1 = Hs_ooc[:, 0]\n",
    "h1pt_exceed = H1[h1_exceed].pt\n",
    "h1pt_partial_exceed = H1[h1_partial_exceed].pt\n",
    "h1pt_polzrized = H1[h1_polarized].pt\n",
    "h1pt_match = H1[h1_match].pt\n",
    "h1pt_partial_match = H1[h1_partial_match].pt\n",
    "h1pt_unmatch = H1[h1_unmatch].pt"
   ]
  },
  {
   "cell_type": "code",
   "execution_count": null,
   "id": "7ef968d1-48ae-4637-9d57-68dbc38b6383",
   "metadata": {},
   "outputs": [],
   "source": [
    "H2 = Hs_ooc[:, 1]\n",
    "h2pt_exceed = H2[h2_exceed].pt\n",
    "h2pt_partial_exceed = H2[h2_partial_exceed].pt\n",
    "h2pt_polzrized = H2[h2_polarized].pt\n",
    "h2pt_match = H2[h2_match].pt\n",
    "h2pt_partial_match = H2[h2_partial_match].pt\n",
    "h2pt_unmatch = H2[h2_unmatch].pt"
   ]
  },
  {
   "cell_type": "code",
   "execution_count": null,
   "id": "9a079762-041f-479c-b526-c5318044d803",
   "metadata": {},
   "outputs": [],
   "source": [
    "# start to plot\n",
    "bins = np.arange(0, 500, 10)\n",
    "var_axis = hist.axis.Variable(bins, name=\"var\", label=\"variable\")\n",
    "cat_axis = hist.axis.StrCategory([], name=\"cat\", growth=True)\n",
    "\n",
    "hist_h1pt = hist.Hist(var_axis, cat_axis)\n",
    "hist_h1pt.fill(var=h1pt_exceed, cat=\"exceed\")\n",
    "hist_h1pt.fill(var=h1pt_partial_exceed, cat=\"partial_exceed\")\n",
    "hist_h1pt.fill(var=h1pt_polzrized, cat=\"polarized\")\n",
    "hist_h1pt.fill(var=h1pt_match, cat=\"match\")\n",
    "hist_h1pt.fill(var=h1pt_partial_match, cat=\"partial_match\")\n",
    "hist_h1pt.fill(var=h1pt_unmatch, cat=\"unmatch\")\n",
    "\n",
    "hist_h2pt = hist.Hist(var_axis, cat_axis)\n",
    "hist_h2pt.fill(var=h2pt_exceed, cat=\"exceed\")\n",
    "hist_h2pt.fill(var=h2pt_partial_exceed, cat=\"partial_exceed\")\n",
    "hist_h2pt.fill(var=h2pt_polzrized, cat=\"polarized\")\n",
    "hist_h2pt.fill(var=h2pt_match, cat=\"match\")\n",
    "hist_h2pt.fill(var=h2pt_partial_match, cat=\"partial_match\")\n",
    "hist_h2pt.fill(var=h2pt_unmatch, cat=\"unmatch\")\n",
    "\n",
    "\n",
    "fig, ax = plt.subplots(1, 2, figsize=(16, 4))\n",
    "hist_h1pt[{\"cat\": \"exceed\"}].plot1d(ax=ax[0], label=\"exceed\")\n",
    "hist_h1pt[{\"cat\": \"partial_exceed\"}].plot1d(ax=ax[0], label=\"partial_exceed\")\n",
    "hist_h1pt[{\"cat\": \"polarized\"}].plot1d(ax=ax[0], label=\"polarized\")\n",
    "hist_h1pt[{\"cat\": \"match\"}].plot1d(ax=ax[0], label=\"match\")\n",
    "hist_h1pt[{\"cat\": \"partial_match\"}].plot1d(ax=ax[0], label=\"partial_match\")\n",
    "hist_h1pt[{\"cat\": \"unmatch\"}].plot1d(ax=ax[0], label=\"unmatch\")\n",
    "\n",
    "hist_h2pt[{\"cat\": \"exceed\"}].plot1d(ax=ax[1], label=\"exceed\")\n",
    "hist_h2pt[{\"cat\": \"partial_exceed\"}].plot1d(ax=ax[1], label=\"partial_exceed\")\n",
    "hist_h2pt[{\"cat\": \"polarized\"}].plot1d(ax=ax[1], label=\"polarized\")\n",
    "hist_h2pt[{\"cat\": \"match\"}].plot1d(ax=ax[1], label=\"match\")\n",
    "hist_h2pt[{\"cat\": \"partial_match\"}].plot1d(ax=ax[1], label=\"partial_match\")\n",
    "hist_h2pt[{\"cat\": \"unmatch\"}].plot1d(ax=ax[1], label=\"unmatch\")\n",
    "\n",
    "leg1 = ax[0].legend(fontsize=10)\n",
    "leg1.set_title(\"b-AK4 match categories\", prop={\"size\": 10})\n",
    "ax[0].set_xlim(0, 500)\n",
    "ax[0].set_xlabel(r\"$pT_{H_1}$\")\n",
    "\n",
    "leg2 = ax[1].legend(fontsize=10)\n",
    "leg2.set_title(\"b-AK4 match categories\", prop={\"size\": 10})\n",
    "ax[1].set_xlim(0, 500)\n",
    "ax[1].set_xlabel(r\"$pT_{H_2}$\")"
   ]
  },
  {
   "cell_type": "markdown",
   "id": "8eccaf72-220c-4291-9e3d-10c23cc64918",
   "metadata": {},
   "source": [
    "### OOC matching combination statistics"
   ]
  },
  {
   "cell_type": "code",
   "execution_count": null,
   "id": "ae28b330-457d-458c-bde5-3cee52407b8a",
   "metadata": {},
   "outputs": [],
   "source": [
    "def parse_2d_num_pairs(array, sym=False):\n",
    "    if sym is True:\n",
    "        for pair in array:\n",
    "            print(\"\")\n",
    "            print(f\"One H matched to {pair[0][0]} AK4 jets and {pair[1][0]} AK8 jets\")\n",
    "            print(f\"The other H matched to {pair[0][1]} AK4 jets and {pair[1][1]} AK8 jets\")\n",
    "    else:\n",
    "        for pair in array:\n",
    "            print(\"\")\n",
    "            print(f\"H1 matched to {pair[0][0]} AK4 jets and {pair[1][0]} AK8 jets\")\n",
    "            print(f\"H2 matched to {pair[0][1]} AK4 jets and {pair[1][1]} AK8 jets\")\n",
    "\n",
    "    return"
   ]
  },
  {
   "cell_type": "code",
   "execution_count": null,
   "id": "d41c3165-9ef4-4605-b8c7-c695ed870616",
   "metadata": {},
   "outputs": [],
   "source": [
    "# e.g. number of ak4 jets matched to h1 and h2 for non-categorized events\n",
    "num_ak4N8m2h_nc = (\n",
    "    np.stack(\n",
    "        [\n",
    "            num_ak4m2h1[not_categorized],\n",
    "            num_ak4m2h2[not_categorized],\n",
    "            num_ak8m2h1[not_categorized],\n",
    "            num_ak8m2h2[not_categorized],\n",
    "        ],\n",
    "        axis=1,\n",
    "    )\n",
    "    .reshape(-1, 2, 2)\n",
    "    .tolist()\n",
    ")\n",
    "\n",
    "# store all recorded combinations of [[num_ak4m2H1, num_ak4m2H2], [num_ak8m2H1, num_ak8m2H2]]\n",
    "pair_ak4N8m2h_nc = []\n",
    "\n",
    "# loop from all num pairs constructed from the ooc events\n",
    "for pair in num_ak4N8m2h_nc:\n",
    "    if pair not in pair_ak4N8m2h_nc:\n",
    "        pair_ak4N8m2h_nc.append(pair)\n",
    "\n",
    "parse_2d_num_pairs(pair_ak4N8m2h_nc)"
   ]
  },
  {
   "cell_type": "code",
   "execution_count": null,
   "id": "294baf1b-7cc9-46e1-a98a-559426d864d1",
   "metadata": {},
   "outputs": [],
   "source": [
    "print(\n",
    "    num_ak4m2h1[not_categorized][0:3],\n",
    "    num_ak4m2h2[not_categorized][0:3],\n",
    "    num_ak8m2h1[not_categorized][0:3],\n",
    "    num_ak8m2h2[not_categorized][0:3],\n",
    ")"
   ]
  },
  {
   "cell_type": "code",
   "execution_count": null,
   "id": "e5cb536a-8a44-47f6-badb-a9de76b82d37",
   "metadata": {},
   "outputs": [],
   "source": [
    "np.stack(\n",
    "    [\n",
    "        num_ak4m2h1[not_categorized][0:3],\n",
    "        num_ak4m2h2[not_categorized][0:3],\n",
    "        num_ak8m2h1[not_categorized][0:3],\n",
    "        num_ak8m2h2[not_categorized][0:3],\n",
    "    ],\n",
    "    axis=1,\n",
    ")"
   ]
  },
  {
   "cell_type": "code",
   "execution_count": null,
   "id": "9e29f487-872a-4cb2-a178-82b7642953a0",
   "metadata": {},
   "outputs": [],
   "source": [
    "np.stack(\n",
    "    [\n",
    "        num_ak4m2h1[not_categorized][0:3],\n",
    "        num_ak4m2h2[not_categorized][0:3],\n",
    "        num_ak8m2h1[not_categorized][0:3],\n",
    "        num_ak8m2h2[not_categorized][0:3],\n",
    "    ],\n",
    "    axis=1,\n",
    ").reshape(-1, 2, 2).tolist()"
   ]
  },
  {
   "cell_type": "code",
   "execution_count": null,
   "id": "e2c03121-3ee6-4e92-a398-69d72609dda1",
   "metadata": {},
   "outputs": [],
   "source": [
    "# This cell is tryig to assume H1 and H2 is symmetric\n",
    "# e.g. num_ak4m2HX = (2, 1) == (1, 2)\n",
    "# the point is to not differentiate H1 and H2\n",
    "# note that if ak4 pair is permutated, then ak8 pair should be permutated in the same way\n",
    "\n",
    "# store all permutations of the recorded combinations of [[num_ak4m2H1, num_ak4m2H2], [num_ak8m2H1, num_ak8m2H2]]\n",
    "perm_pair_ak4N8m2h_nc = []\n",
    "# store unique combinations of [num_ak4m2HX, num_ak8m2HX]\n",
    "unique_pair_ak4N8m2h_nc = []\n",
    "\n",
    "# loop from all num pairs constructed from the ooc events\n",
    "for pair in num_ak4N8m2h_nc:\n",
    "    # if it doesn't match any permutation of the recorded unique pair\n",
    "    if pair not in perm_pair_ak4N8m2h_nc:\n",
    "        # add to the unique pair\n",
    "        unique_pair_ak4N8m2h_nc.append(pair)\n",
    "        # also add its permutations to the permutation list\n",
    "        perm_pair_ak4N8m2h_nc.append(pair)\n",
    "        perm_pair_ak4N8m2h_nc.append([pair[0][::-1], pair[1][::-1]])\n",
    "\n",
    "parse_2d_num_pairs(unique_pair_ak4N8m2h_nc, sym=True)"
   ]
  },
  {
   "cell_type": "code",
   "execution_count": null,
   "id": "73f4e4dd-26ae-43b6-bf09-0e0cb847cfcb",
   "metadata": {},
   "outputs": [],
   "source": [
    "print(unique_pair_ak4N8m2h_nc)"
   ]
  },
  {
   "cell_type": "code",
   "execution_count": null,
   "id": "6dc55e05-2dc7-451e-943b-fe2a4603f776",
   "metadata": {},
   "outputs": [],
   "source": [
    "# construct a dictionary to store ooc events in each H matching pattern:\n",
    "LUT = {}\n",
    "for pair in unique_pair_ak4N8m2h_nc:\n",
    "    num_ak4m2h1 = pair[0][0]\n",
    "    num_ak4m2h2 = pair[0][1]\n",
    "    num_ak8m2h1 = pair[1][0]\n",
    "    num_ak8m2h2 = pair[1][1]\n",
    "    LUT[f\"{num_ak4m2h1}{num_ak4m2h2}{num_ak8m2h1}{num_ak8m2h2}\"] = 0"
   ]
  },
  {
   "cell_type": "code",
   "execution_count": null,
   "id": "ffdd627d-9793-435f-b4dd-08787b8c4049",
   "metadata": {},
   "outputs": [],
   "source": [
    "for num in num_ak4N8m2h_nc:\n",
    "    num_ak4m2h1 = num[0][0]\n",
    "    num_ak4m2h2 = num[0][1]\n",
    "    num_ak8m2h1 = num[1][0]\n",
    "    num_ak8m2h2 = num[1][1]\n",
    "\n",
    "    if num in unique_pair_ak4N8m2h_nc:\n",
    "        LUT[f\"{num_ak4m2h1}{num_ak4m2h2}{num_ak8m2h1}{num_ak8m2h2}\"] += 1\n",
    "    else:\n",
    "        LUT[f\"{num_ak4m2h2}{num_ak4m2h1}{num_ak8m2h2}{num_ak8m2h1}\"] += 1"
   ]
  },
  {
   "cell_type": "code",
   "execution_count": null,
   "id": "3ce6e767-6d18-472c-9a24-af2f0f0493a9",
   "metadata": {},
   "outputs": [],
   "source": [
    "labels_pie = np.array(list(LUT.keys()))\n",
    "ys_pie = np.array(list(LUT.values()))\n",
    "labels_pie = labels_pie[np.argsort(ys_pie)[::-1]]\n",
    "ys_pie = ys_pie[np.argsort(ys_pie)[::-1]]"
   ]
  },
  {
   "cell_type": "code",
   "execution_count": null,
   "id": "e0f6824d-8bcf-427d-99aa-2352253f9e88",
   "metadata": {},
   "outputs": [],
   "source": [
    "print(ys_pie)"
   ]
  },
  {
   "cell_type": "code",
   "execution_count": null,
   "id": "30d1d731-cf57-49d4-bdc4-736f45166c3c",
   "metadata": {},
   "outputs": [],
   "source": [
    "fig, ax = plt.subplots()\n",
    "ax.pie(ys_pie, labels=labels_pie, autopct=\"%1.0f%%\")\n",
    "ax.set(title=\"Pie Chart of OOC AK4RecoJet Matching Patterns (AK8=AK4)\")\n",
    "\n",
    "fig.text(0.5, 0.85, \"Number convention: AK4H1, AK4H2, AK8H1 AK8H2\", ha=\"center\", c=\"b\")\n",
    "plt.show()"
   ]
  },
  {
   "cell_type": "markdown",
   "id": "cf977b39-b26b-4d7e-a329-bf5088fff0ec",
   "metadata": {},
   "source": [
    "# Number convention: AK4H1, AK4H2, AK8H1 AK8H2"
   ]
  },
  {
   "cell_type": "markdown",
   "id": "8823c553-ef9b-42c5-8d35-9c7f012f64bf",
   "metadata": {},
   "source": [
    "## Now change matching criteria to recoJet->genJet->genb"
   ]
  },
  {
   "cell_type": "code",
   "execution_count": null,
   "id": "482a9ed3-ffe3-4783-bb95-b79363146159",
   "metadata": {},
   "outputs": [],
   "source": [
    "genJs = make_vector(events, \"ak4GenJet\")\n",
    "genBs = make_vector(events, \"Genb\")"
   ]
  },
  {
   "cell_type": "code",
   "execution_count": null,
   "id": "e79291ae-612a-4c0c-bd97-b4768618b307",
   "metadata": {},
   "outputs": [],
   "source": [
    "# dissemble gen_b by H\n",
    "b_m2h1 = genBs[:, 0:2]\n",
    "b_m2h2 = genBs[:, 2:4]"
   ]
  },
  {
   "cell_type": "code",
   "execution_count": null,
   "id": "bacde6b2-3b54-4918-bc79-c0b2c4e98b0d",
   "metadata": {},
   "outputs": [],
   "source": [
    "# calculate dR between genb and each genJet\n",
    "dR_h1b1_genJs = b_m2h1[:, 0][:, np.newaxis].deltaR(genJs)\n",
    "dR_h1b2_genJs = b_m2h1[:, 1][:, np.newaxis].deltaR(genJs)\n",
    "dR_h2b1_genJs = b_m2h2[:, 0][:, np.newaxis].deltaR(genJs)\n",
    "dR_h2b2_genJs = b_m2h2[:, 1][:, np.newaxis].deltaR(genJs)"
   ]
  },
  {
   "cell_type": "code",
   "execution_count": null,
   "id": "7661753c-5b22-40be-acd0-4b9f927d8139",
   "metadata": {},
   "outputs": [],
   "source": [
    "# count how many jets are matched to each b\n",
    "GenJm2b1h1 = (dR_h1b1_genJs < 0.4)[:, :, np.newaxis]\n",
    "GenJm2b2h1 = (dR_h1b2_genJs < 0.4)[:, :, np.newaxis]\n",
    "GenJm2b1h2 = (dR_h2b1_genJs < 0.4)[:, :, np.newaxis]\n",
    "GenJm2b2h2 = (dR_h2b2_genJs < 0.4)[:, :, np.newaxis]\n",
    "print(GenJm2b1h1.shape)\n",
    "\n",
    "# concatenate the arrays\n",
    "# 1st dimension: event\n",
    "# 2nd dimension: GenJ\n",
    "# 3rd dimension: match to each b true or false\n",
    "GenJm2b = np.concatenate([GenJm2b1h1, GenJm2b2h1, GenJm2b1h2, GenJm2b2h2], axis=2)\n",
    "print(GenJm2b.shape)"
   ]
  },
  {
   "cell_type": "code",
   "execution_count": null,
   "id": "f00a57f8-1360-4606-9f25-44d03680cec5",
   "metadata": {},
   "outputs": [],
   "source": [
    "# construct ak4GenJet info\n",
    "ak4GenJetHiggsMatch = np.zeros(shape=genJs.shape, dtype=bool)\n",
    "ak4GenJetHiggsMatchIndex = -1 * np.ones(shape=genJs.shape, dtype=int)\n",
    "\n",
    "# If a gen J is matched to 1 and only 1 genb,\n",
    "# it is considered to be matched to the mother H\n",
    "# and will be assigned with a ak4GenJetHiggsMatchIndex\n",
    "GenJm2H = np.sum(GenJm2b, axis=2) == 1\n",
    "ak4GenJetHiggsMatch[GenJm2H] = True\n",
    "\n",
    "# find which genb and H matched the genJ\n",
    "# draft in the sense that only the matched genJ's\n",
    "# genB and genH indices will be used\n",
    "bIdx_draft = np.argmax(GenJm2b, axis=2)\n",
    "hIdx_draft = np.floor(bIdx_draft / 2)\n",
    "ak4GenJetHiggsMatchIndex[ak4GenJetHiggsMatch] = hIdx_draft[ak4GenJetHiggsMatch]"
   ]
  },
  {
   "cell_type": "markdown",
   "id": "962d959e-eebc-4d22-bba6-fc65d75cbd78",
   "metadata": {},
   "source": [
    "### Plotting each categories for the genJ genb matching"
   ]
  },
  {
   "cell_type": "code",
   "execution_count": null,
   "id": "f1b8492c-2bf3-44d1-ab17-439e2c3b0278",
   "metadata": {},
   "outputs": [],
   "source": [
    "indexak8 = events[\"ak8FatJetHiggsMatchIndex\"].to_numpy()\n",
    "indexak4 = ak4GenJetHiggsMatchIndex"
   ]
  },
  {
   "cell_type": "code",
   "execution_count": null,
   "id": "0e865c90-fbc3-4658-828b-d71aae4cd979",
   "metadata": {},
   "outputs": [],
   "source": [
    "# ak4 jets matched to h1 and h2\n",
    "h1ak4 = indexak4 == 0\n",
    "h2ak4 = indexak4 == 1\n",
    "num_ak4m2h1 = h1ak4.sum(axis=1)\n",
    "num_ak4m2h2 = h2ak4.sum(axis=1)\n",
    "h1m2ak4 = num_ak4m2h1 == 2\n",
    "h2m2ak4 = num_ak4m2h2 == 2\n",
    "\n",
    "# ak8 jets matched to h1 and h2\n",
    "h1ak8 = indexak8 == 0\n",
    "h2ak8 = indexak8 == 1\n",
    "num_ak8m2h1 = h1ak8.sum(axis=1)\n",
    "num_ak8m2h2 = h2ak8.sum(axis=1)\n",
    "h1m1ak8 = num_ak8m2h1 == 1\n",
    "h2m1ak8 = num_ak8m2h2 == 1\n",
    "\n",
    "boosted = h1m1ak8 & h2m1ak8\n",
    "resolved = (h1m2ak4 & h2m2ak4) & ~(boosted) & (num_ak8m2h1 == 0) & (num_ak8m2h2 == 0)\n",
    "semi_resolved_h1 = h1m2ak4 & h2m1ak8 & ~(resolved) & ~(boosted)\n",
    "semi_resolved_h2 = h2m2ak4 & h1m1ak8 & ~(resolved) & ~(boosted)\n",
    "semi_resolved = semi_resolved_h1 | semi_resolved_h2\n",
    "not_categorized = ~(resolved | boosted | semi_resolved)"
   ]
  },
  {
   "cell_type": "code",
   "execution_count": null,
   "id": "798a30f0-29e1-4ead-8f75-ca38b3fa8401",
   "metadata": {},
   "outputs": [],
   "source": [
    "h1ak8nb2 = (indexak8 == 0) & (nbh1ak8 == 2)\n",
    "h2ak8nb2 = (indexak8 == 1) & (nbh2ak8 == 2)\n",
    "h1m1ak8b2 = h1ak8nb2.sum(axis=1) == 1\n",
    "h2m1ak8b2 = h2ak8nb2.sum(axis=1) == 1\n",
    "\n",
    "h1ak8nb1 = (indexak8 == 0) & (nbh1ak8 == 1)\n",
    "h2ak8nb1 = (indexak8 == 1) & (nbh2ak8 == 1)\n",
    "h1m1ak8b1 = h1ak8nb1.sum(axis=1) == 1\n",
    "h2m1ak8b1 = h2ak8nb1.sum(axis=1) == 1\n",
    "\n",
    "boosted_nb2 = h1m1ak8b2 & h2m1ak8b2\n",
    "boosted_nb1 = h1m1ak8b1 & h2m1ak8b1\n",
    "boosted_nb1nb2 = (h1m1ak8b1 & h2m1ak8b2) | (h1m1ak8b2 & h2m1ak8b1)"
   ]
  },
  {
   "cell_type": "code",
   "execution_count": null,
   "id": "e7fee58b-6b19-4f6e-8240-0cc99384c765",
   "metadata": {},
   "outputs": [],
   "source": [
    "semi_resolved_h1_b2 = h1m2ak4 & (h2m1ak8b2 & ~h2m2ak4) & ~(resolved) & ~(boosted)\n",
    "semi_resolved_h2_b2 = h2m2ak4 & (h1m1ak8b2 & ~h1m2ak4) & ~(resolved) & ~(boosted)\n",
    "semi_resolved_h1_b1 = h1m2ak4 & (h2m1ak8b1 & ~h2m2ak4) & ~(resolved) & ~(boosted)\n",
    "semi_resolved_h2_b1 = h2m2ak4 & (h1m1ak8b1 & ~h1m2ak4) & ~(resolved) & ~(boosted)\n",
    "\n",
    "semi_resolved_h_b2 = semi_resolved_h1_b2 | semi_resolved_h2_b2\n",
    "semi_resolved_h_b1 = semi_resolved_h1_b1 | semi_resolved_h2_b1"
   ]
  },
  {
   "cell_type": "code",
   "execution_count": null,
   "id": "325c7e43-1244-49b7-b1b1-3b02b6983486",
   "metadata": {},
   "outputs": [],
   "source": [
    "# calcualte m_HH for every event\n",
    "mhh = (gen_higgs[:, 0] + gen_higgs[:, 1]).m\n",
    "\n",
    "# bypass into each category\n",
    "mhh_boosted = mhh[boosted]\n",
    "mhh_resolved = mhh[resolved]\n",
    "mhh_semi = mhh[semi_resolved]\n",
    "mhh_out = mhh[not_categorized]\n",
    "\n",
    "# start to plot, code modified on Christina's plot_h1h2_fj\n",
    "bins = np.arange(mhh.min(), mhh.max(), 10)\n",
    "bins = np.arange(100, 2000, 50)\n",
    "var_axis = hist.axis.Variable(bins, name=\"var\", label=\"variable\")\n",
    "cat_axis = hist.axis.StrCategory([], name=\"cat\", growth=True)\n",
    "\n",
    "hist_mhh = hist.Hist(var_axis, cat_axis)\n",
    "hist_mhh.fill(var=mhh_boosted, cat=\"boosted\")\n",
    "hist_mhh.fill(var=mhh_semi, cat=\"semi_resolved\")\n",
    "hist_mhh.fill(var=mhh_resolved, cat=\"resolved\")\n",
    "hist_mhh.fill(var=mhh_out, cat=\"non-categorized\")\n",
    "\n",
    "leg_elems = []\n",
    "fig, ax = plt.subplots(1, 1, figsize=(8, 4))\n",
    "hist_mhh[{\"cat\": \"boosted\"}].plot1d(ax=ax, label=\"Boosted\", color=\"y\", ls=\"-\")\n",
    "hist_mhh[{\"cat\": \"semi_resolved\"}].plot1d(ax=ax, label=\"Semi-Resolved\", color=\"r\", ls=\"-.\")\n",
    "hist_mhh[{\"cat\": \"resolved\"}].plot1d(ax=ax, label=\"Resolved\", color=\"k\", ls=\":\")\n",
    "hist_mhh[{\"cat\": \"non-categorized\"}].plot1d(\n",
    "    ax=ax, label=\"Outside of these categories\", color=\"c\", ls=\"--\"\n",
    ")\n",
    "leg_elems.append(Line2D([0], [0], color=\"y\", lw=2, ls=\"-\", label=\"boosted\"))\n",
    "leg_elems.append(Line2D([0], [0], color=\"r\", lw=2, ls=\"-.\", label=\"semi-resolved\"))\n",
    "leg_elems.append(Line2D([0], [0], color=\"k\", lw=2, ls=\":\", label=\"resolved\"))\n",
    "leg_elems.append(Line2D([0], [0], color=\"c\", lw=2, ls=\"--\", label=\"ooc\"))\n",
    "leg = ax.legend(handles=leg_elems)\n",
    "leg.set_title(\"Gen-Level categories\", prop={\"size\": 10})\n",
    "ax.set_xlim(0, 2000)\n",
    "ax.set_ylim(0, 30000)\n",
    "ax.set_xlabel(r\"$m_{HH}$\")\n",
    "ax.set_title(\"Catrgories of GenJet->GenH Matching (AK8=AK4)\")"
   ]
  },
  {
   "cell_type": "markdown",
   "id": "eaca9841-044a-46ce-b3b2-b9117f88f86b",
   "metadata": {},
   "source": [
    "### Mapping genJ to recoJ after having more information in the dataset"
   ]
  },
  {
   "cell_type": "code",
   "execution_count": null,
   "id": "1f3fbcba-b9f3-4da6-8a09-663736331b81",
   "metadata": {},
   "outputs": [],
   "source": [
    "# get ak4JetGenJetIdx\n",
    "# to know genJet recoJet correspondence\n",
    "ak4JetGenJetIdx = events[\"ak4JetGenJetIdx\"].to_numpy()\n",
    "not_padded = ak4JetGenJetIdx > 0\n",
    "not_oor = ak4JetGenJetIdx < 6  # oor=out of range\n",
    "select = not_padded & not_oor"
   ]
  },
  {
   "cell_type": "code",
   "execution_count": null,
   "id": "6df2ea06-6683-4714-acd2-9ad8f66abeca",
   "metadata": {},
   "outputs": [],
   "source": [
    "ak4JetGenJetIdx_select = ak.mask(ak4JetGenJetIdx, select)\n",
    "ak4JetGenJetIdx_select = ak.drop_none(ak4JetGenJetIdx_select)"
   ]
  },
  {
   "cell_type": "code",
   "execution_count": null,
   "id": "830d6148-1f8f-4fb3-8ad5-3204ed223f8d",
   "metadata": {},
   "outputs": [],
   "source": [
    "# select the genJet Higgs matching index that genJet also matched to reco jet\n",
    "ak4GenJetHiggsMatchIndex_ak = ak.Array(ak4GenJetHiggsMatchIndex)\n",
    "ak4JetHiggsMatchIndex_new = ak4GenJetHiggsMatchIndex_ak[ak4JetGenJetIdx_select]\n",
    "# because we only care how many reco jet matched to h1 and h2\n",
    "# the order of reco jet in each event is irrelevant\n",
    "\n",
    "# pad each event to 6\n",
    "ak4JetHiggsMatchIndex_new = ak.fill_none(\n",
    "    ak.pad_none(ak4JetHiggsMatchIndex_new, 6, axis=-1), -1\n",
    ").to_numpy()"
   ]
  },
  {
   "cell_type": "code",
   "execution_count": null,
   "id": "1aa637e3-9c09-420f-b84f-348c4fbd1f7f",
   "metadata": {},
   "outputs": [],
   "source": [
    "indexak8 = events[\"ak8FatJetHiggsMatchIndex\"].to_numpy()\n",
    "indexak4 = ak4JetHiggsMatchIndex_new"
   ]
  },
  {
   "cell_type": "code",
   "execution_count": null,
   "id": "856d2dd0-dfc3-4fd9-b63e-e833c366f3a5",
   "metadata": {},
   "outputs": [],
   "source": [
    "# ak4 jets matched to h1 and h2\n",
    "h1ak4 = indexak4 == 0\n",
    "h2ak4 = indexak4 == 1\n",
    "num_ak4m2h1 = h1ak4.sum(axis=1)\n",
    "num_ak4m2h2 = h2ak4.sum(axis=1)\n",
    "h1m2ak4 = num_ak4m2h1 == 2\n",
    "h2m2ak4 = num_ak4m2h2 == 2\n",
    "\n",
    "# ak8 jets matched to h1 and h2\n",
    "h1ak8 = indexak8 == 0\n",
    "h2ak8 = indexak8 == 1\n",
    "num_ak8m2h1 = h1ak8.sum(axis=1)\n",
    "num_ak8m2h2 = h2ak8.sum(axis=1)\n",
    "h1m1ak8 = num_ak8m2h1 == 1\n",
    "h2m1ak8 = num_ak8m2h2 == 1\n",
    "\n",
    "boosted = h1m1ak8 & h2m1ak8\n",
    "resolved = (h1m2ak4 & h2m2ak4) & ~(boosted) & (num_ak8m2h1 == 0) & (num_ak8m2h2 == 0)\n",
    "semi_resolved_h1 = h1m2ak4 & (h2m1ak8 & ~h2m2ak4) & ~(resolved) & ~(boosted)\n",
    "semi_resolved_h2 = h2m2ak4 & (h1m1ak8 & ~h1m2ak4) & ~(resolved) & ~(boosted)\n",
    "semi_resolved = semi_resolved_h1 | semi_resolved_h2\n",
    "not_categorized = ~(resolved | boosted | semi_resolved)"
   ]
  },
  {
   "cell_type": "code",
   "execution_count": null,
   "id": "aedf188e-527a-4e52-b589-47a20f44c84b",
   "metadata": {},
   "outputs": [],
   "source": [
    "h1ak8nb2 = (indexak8 == 0) & (nbh1ak8 == 2)\n",
    "h2ak8nb2 = (indexak8 == 1) & (nbh2ak8 == 2)\n",
    "h1m1ak8b2 = h1ak8nb2.sum(axis=1) == 1\n",
    "h2m1ak8b2 = h2ak8nb2.sum(axis=1) == 1\n",
    "\n",
    "h1ak8nb1 = (indexak8 == 0) & (nbh1ak8 == 1)\n",
    "h2ak8nb1 = (indexak8 == 1) & (nbh2ak8 == 1)\n",
    "h1m1ak8b1 = h1ak8nb1.sum(axis=1) == 1\n",
    "h2m1ak8b1 = h2ak8nb1.sum(axis=1) == 1\n",
    "\n",
    "boosted_nb2 = h1m1ak8b2 & h2m1ak8b2\n",
    "boosted_nb1 = h1m1ak8b1 & h2m1ak8b1\n",
    "boosted_nb1nb2 = (h1m1ak8b1 & h2m1ak8b2) | (h1m1ak8b2 & h2m1ak8b1)"
   ]
  },
  {
   "cell_type": "code",
   "execution_count": null,
   "id": "72f0bbc9-16ed-4706-be73-c5f0440411f5",
   "metadata": {},
   "outputs": [],
   "source": [
    "semi_resolved_h1_b2 = h1m2ak4 & (h2m1ak8b2 & ~h2m2ak4) & ~(resolved) & ~(boosted)\n",
    "semi_resolved_h2_b2 = h2m2ak4 & (h1m1ak8b2 & ~h1m2ak4) & ~(resolved) & ~(boosted)\n",
    "semi_resolved_h1_b1 = h1m2ak4 & (h2m1ak8b1 & ~h2m2ak4) & ~(resolved) & ~(boosted)\n",
    "semi_resolved_h2_b1 = h2m2ak4 & (h1m1ak8b1 & ~h1m2ak4) & ~(resolved) & ~(boosted)\n",
    "\n",
    "semi_resolved_h_b2 = semi_resolved_h1_b2 | semi_resolved_h2_b2\n",
    "semi_resolved_h_b1 = semi_resolved_h1_b1 | semi_resolved_h2_b1"
   ]
  },
  {
   "cell_type": "code",
   "execution_count": null,
   "id": "a61f8722-48f5-4a6b-be82-ae6a78e51ca0",
   "metadata": {},
   "outputs": [],
   "source": [
    "# calcualte m_HH for every event\n",
    "mhh = (gen_higgs[:, 0] + gen_higgs[:, 1]).m\n",
    "\n",
    "# bypass into each category\n",
    "mhh_boosted = mhh[boosted]\n",
    "mhh_resolved = mhh[resolved]\n",
    "mhh_semi = mhh[semi_resolved]\n",
    "mhh_out = mhh[not_categorized]\n",
    "\n",
    "# start to plot, code modified on Christina's plot_h1h2_fj\n",
    "bins = np.arange(mhh.min(), mhh.max(), 10)\n",
    "bins = np.arange(100, 2000, 50)\n",
    "var_axis = hist.axis.Variable(bins, name=\"var\", label=\"variable\")\n",
    "cat_axis = hist.axis.StrCategory([], name=\"cat\", growth=True)\n",
    "\n",
    "hist_mhh = hist.Hist(var_axis, cat_axis)\n",
    "hist_mhh.fill(var=mhh_boosted, cat=\"boosted\")\n",
    "hist_mhh.fill(var=mhh_semi, cat=\"semi_resolved\")\n",
    "hist_mhh.fill(var=mhh_resolved, cat=\"resolved\")\n",
    "hist_mhh.fill(var=mhh_out, cat=\"non-categorized\")\n",
    "\n",
    "leg_elems = []\n",
    "fig, ax = plt.subplots(1, 1, figsize=(8, 4))\n",
    "hist_mhh[{\"cat\": \"boosted\"}].plot1d(ax=ax, label=\"Boosted\", color=\"y\", ls=\"-\")\n",
    "hist_mhh[{\"cat\": \"semi_resolved\"}].plot1d(ax=ax, label=\"Semi-Resolved\", color=\"r\", ls=\"-.\")\n",
    "hist_mhh[{\"cat\": \"resolved\"}].plot1d(ax=ax, label=\"Resolved\", color=\"k\", ls=\":\")\n",
    "hist_mhh[{\"cat\": \"non-categorized\"}].plot1d(\n",
    "    ax=ax, label=\"Outside of these categories\", color=\"c\", ls=\"--\"\n",
    ")\n",
    "leg_elems.append(Line2D([0], [0], color=\"y\", lw=2, ls=\"-\", label=\"boosted\"))\n",
    "leg_elems.append(Line2D([0], [0], color=\"r\", lw=2, ls=\"-.\", label=\"semi-resolved\"))\n",
    "leg_elems.append(Line2D([0], [0], color=\"k\", lw=2, ls=\":\", label=\"resolved\"))\n",
    "leg_elems.append(Line2D([0], [0], color=\"c\", lw=2, ls=\"--\", label=\"ooc\"))\n",
    "leg = ax.legend(handles=leg_elems)\n",
    "leg.set_title(\"Gen-Level categories\", prop={\"size\": 10})\n",
    "ax.set_xlim(0, 2000)\n",
    "ax.set_ylim(0, 30000)\n",
    "ax.set_xlabel(r\"$m_{HH}$\")\n",
    "ax.set_title(\"Catrgories of RecoJet->GenJet->GenH Matching (AK8=AK4)\")"
   ]
  },
  {
   "cell_type": "code",
   "execution_count": null,
   "id": "bb7583f2-94f0-4442-8db0-5b64b0d59103",
   "metadata": {},
   "outputs": [],
   "source": []
  },
  {
   "cell_type": "code",
   "execution_count": null,
   "id": "7470aa04-f953-498d-8b42-e67a6b5741ad",
   "metadata": {},
   "outputs": [],
   "source": []
  }
 ],
 "metadata": {
  "kernelspec": {
   "display_name": "Python 3 (ipykernel)",
   "language": "python",
   "name": "python3"
  },
  "language_info": {
   "codemirror_mode": {
    "name": "ipython",
    "version": 3
   },
   "file_extension": ".py",
   "mimetype": "text/x-python",
   "name": "python",
   "nbconvert_exporter": "python",
   "pygments_lexer": "ipython3",
   "version": "3.9.18"
  }
 },
 "nbformat": 4,
 "nbformat_minor": 5
}
