{
 "cells": [
  {
   "cell_type": "markdown",
   "id": "92c93f34-12dd-4373-8c47-9b4ad22ffc25",
   "metadata": {},
   "source": [
    "### 1. Background\n",
    "Investigate how many reconstructed events (boosted/resolved) fall into each gen-level category"
   ]
  },
  {
   "cell_type": "code",
   "execution_count": null,
   "id": "3e2f87d5-6b2e-4d57-8779-098fdf281f08",
   "metadata": {},
   "outputs": [],
   "source": [
    "from __future__ import annotations\n",
    "\n",
    "import hist\n",
    "import numpy as np\n",
    "import pandas as pd\n",
    "import vector\n",
    "\n",
    "vector.register_awkward()\n"
   ]
  },
  {
   "cell_type": "code",
   "execution_count": null,
   "id": "3eca2a36-6d72-478a-9954-83b306734f03",
   "metadata": {},
   "outputs": [],
   "source": [
    "import matplotlib.pyplot as plt\n",
    "import matplotlib.ticker as mticker\n",
    "\n",
    "# mplhep for CMS-style plots\n",
    "import mplhep as hep\n",
    "from matplotlib.lines import Line2D\n",
    "\n",
    "plt.style.use(hep.style.CMS)\n",
    "hep.style.use(\"CMS\")\n",
    "formatter = mticker.ScalarFormatter(useMathText=True)\n",
    "formatter.set_powerlimits((-3, 3))\n",
    "plt.rcParams.update({\"font.size\": 16})"
   ]
  },
  {
   "cell_type": "code",
   "execution_count": null,
   "id": "bb984575-ce3c-455f-bec7-0c0074094191",
   "metadata": {},
   "outputs": [],
   "source": [
    "def make_vector(events: pd.DataFrame, obj: str):\n",
    "    \"\"\"Create a ``vector`` object from the columns of the dataframe\"\"\"\n",
    "    mstring = \"Msd\" if obj == \"ak8FatJet\" else \"Mass\"\n",
    "\n",
    "    return vector.array(\n",
    "        {\n",
    "            \"pt\": events[f\"{obj}Pt\"],\n",
    "            \"phi\": events[f\"{obj}Phi\"],\n",
    "            \"eta\": events[f\"{obj}Eta\"],\n",
    "            \"M\": events[f\"{obj}{mstring}\"],\n",
    "        }\n",
    "    )"
   ]
  },
  {
   "cell_type": "code",
   "execution_count": null,
   "id": "363b0232-fba2-4a5a-9d47-77071460a80d",
   "metadata": {},
   "outputs": [],
   "source": [
    "def e2np(e, key):\n",
    "    return e[key].to_numpy()"
   ]
  },
  {
   "cell_type": "code",
   "execution_count": null,
   "id": "51096de5-19ea-495c-9f32-a2d49b07f4ea",
   "metadata": {},
   "outputs": [],
   "source": [
    "eAll = pd.read_parquet(\n",
    "    \"/eos/uscms/store/user/cmantill/bbbb/matching/Oct30/2018/GluGlutoHHto4B_cHHH1_TuneCP5_PSWeights_13TeV-powheg-pythia8/parquet/\"\n",
    ")"
   ]
  },
  {
   "cell_type": "code",
   "execution_count": null,
   "id": "3cf7b47a-8163-4893-ab15-167ee66380e6",
   "metadata": {},
   "outputs": [],
   "source": [
    "list(eAll.keys())"
   ]
  },
  {
   "cell_type": "code",
   "execution_count": null,
   "id": "9cb87277-504f-4792-8237-a4aed738ab2b",
   "metadata": {},
   "outputs": [],
   "source": [
    "jets = make_vector(eAll, \"ak4Jet\")\n",
    "gen_higgs = make_vector(eAll, \"GenHiggs\")\n",
    "gen_bs = make_vector(eAll, \"Genb\")\n",
    "fjs = make_vector(eAll, \"ak8FatJet\")"
   ]
  },
  {
   "cell_type": "markdown",
   "id": "8d1db85b-02ad-47cc-96ef-ec7e7b23cb10",
   "metadata": {},
   "source": [
    "### 2. Categorize events by reco information"
   ]
  },
  {
   "cell_type": "markdown",
   "id": "e54db3a7-461b-4fc9-8b3c-e7b262509591",
   "metadata": {},
   "source": [
    "- Boosted\n",
    "    - two good fatjets (fatjet with index 0 has the largest Xbb score)\n",
    "    - (\"('ak8FatJetPt', '0')\", \">=\", 300)\n",
    "    - (\"('ak8FatJetPNetMass', '0')\", \">=\", 60)\n",
    "    - (\"('ak8FatJetPNetXbb', '0')\", \">=\", 0.9734)  # medium working point\n",
    "    - (\"('ak8FatJetPt', '1')\", \">=\", 300)\n",
    "    - (\"('ak8FatJetPNetMass', '1')\", \">=\", 60)\n",
    "    - (\"('ak8FatJetPNetXbb', '1')\", \">=\", 0.9734) # medium working point\n",
    "        \n",
    "- Resolved\n",
    "    - veto boosted selection\n",
    "    - require at least 3 AK4 jets each with pt>40 GeV and b-tag (ak4JetbtagDeepFlavB) > 0.2783 # medium  working point"
   ]
  },
  {
   "cell_type": "markdown",
   "id": "e22cee8e-b991-4ba0-91a4-89fc7d839c96",
   "metadata": {},
   "source": [
    "#### 2.1 Boosted"
   ]
  },
  {
   "cell_type": "code",
   "execution_count": null,
   "id": "dbc04b5c-de92-46d0-be8c-5e7e52fc035e",
   "metadata": {},
   "outputs": [],
   "source": [
    "ak8FatJetPt = e2np(eAll, \"ak8FatJetPt\")\n",
    "ak8FatJetPNetMass = e2np(eAll, \"ak8FatJetPNetMass\")\n",
    "ak8FatJetPNetXbb = e2np(eAll, \"ak8FatJetPNetXbb\")\n",
    "\n",
    "fjPtPass = ak8FatJetPt >= 300\n",
    "fjMassPass = ak8FatJetPNetMass >= 60\n",
    "fjXbbPass = ak8FatJetPNetXbb >= 0.9734\n",
    "fjPass = fjPtPass & fjMassPass & fjXbbPass\n",
    "\n",
    "recoBoosted = np.sum(fjPass, axis=-1) >= 2\n",
    "eRecoBoosted = eAll[recoBoosted]"
   ]
  },
  {
   "cell_type": "markdown",
   "id": "c3309117-01ad-476a-b158-ef8c9fa180ad",
   "metadata": {},
   "source": [
    "#### 2.2 Resolved"
   ]
  },
  {
   "cell_type": "code",
   "execution_count": null,
   "id": "90248fe8-5608-463e-9cf9-436470f320c2",
   "metadata": {},
   "outputs": [],
   "source": [
    "ak4JetPt = e2np(eAll, \"ak4JetPt\")\n",
    "ak4JetbtagDeepFlavB = e2np(eAll, \"ak4JetbtagDeepFlavB\")\n",
    "\n",
    "jPtPass = ak4JetPt > 40\n",
    "sufficientPtPass = np.sum(jPtPass, axis=-1) >= 4\n",
    "jBTagPass = ak4JetbtagDeepFlavB > 0.2783\n",
    "sufficientBTagPass = np.sum(jBTagPass, axis=-1) >= 3\n",
    "\n",
    "sufficientJPass = sufficientPtPass & sufficientBTagPass\n",
    "\n",
    "recoResolved = (~recoBoosted) & sufficientJPass\n",
    "eRecoResolved = eAll[recoResolved]"
   ]
  },
  {
   "cell_type": "markdown",
   "id": "e107a855-81d3-4646-9992-881110c5fa52",
   "metadata": {},
   "source": [
    "### 3. Bypass events of each reco category into gen-level categories"
   ]
  },
  {
   "cell_type": "code",
   "execution_count": null,
   "id": "bb91484a-4f8f-40fa-a5db-c4abbdc6a525",
   "metadata": {},
   "outputs": [],
   "source": [
    "# this categorization prioritize boosted\n",
    "# see ooc-semiboosted.ipynb\n",
    "def categorize_events_by_gen(events):\n",
    "    drbh1ak8 = events[\"ak8FatJetMaxdRH1\"].to_numpy()\n",
    "    drbh2ak8 = events[\"ak8FatJetMaxdRH2\"].to_numpy()\n",
    "    indexak8 = events[\"ak8FatJetHiggsMatchIndex\"].to_numpy()\n",
    "    indexak4 = events[\"ak4JetHiggsMatchIndex\"].to_numpy()\n",
    "    nbh1ak8 = events[\"ak8FatJetNumBMatchedH1\"].to_numpy()\n",
    "    nbh2ak8 = events[\"ak8FatJetNumBMatchedH2\"].to_numpy()\n",
    "\n",
    "    # ak4 jets matched to h1 and h2\n",
    "    h1ak4 = indexak4 == 0\n",
    "    h2ak4 = indexak4 == 1\n",
    "    num_ak4m2h1 = h1ak4.sum(axis=1)\n",
    "    num_ak4m2h2 = h2ak4.sum(axis=1)\n",
    "    h1m2ak4 = num_ak4m2h1 == 2\n",
    "    h2m2ak4 = num_ak4m2h2 == 2\n",
    "\n",
    "    # ak8 jets matched to h1 and h2\n",
    "    h1ak8 = indexak8 == 0\n",
    "    h2ak8 = indexak8 == 1\n",
    "    num_ak8m2h1 = h1ak8.sum(axis=1)\n",
    "    num_ak8m2h2 = h2ak8.sum(axis=1)\n",
    "    h1m1ak8 = num_ak8m2h1 == 1\n",
    "    h2m1ak8 = num_ak8m2h2 == 1\n",
    "\n",
    "    boosted = h1m1ak8 & h2m1ak8\n",
    "    semi_boosted_h1 = h1m2ak4 & h2m1ak8 & ~(boosted)\n",
    "    semi_boosted_h2 = h2m2ak4 & h1m1ak8 & ~(boosted)\n",
    "    semi_boosted = semi_boosted_h1 | semi_boosted_h2\n",
    "    resolved = (\n",
    "        (h1m2ak4 & h2m2ak4) & ~(boosted) & ~(semi_boosted) & (num_ak8m2h1 == 0) & (num_ak8m2h2 == 0)\n",
    "    )\n",
    "    not_categorized = ~(resolved | boosted | semi_boosted)\n",
    "\n",
    "    return boosted, semi_boosted, resolved, not_categorized"
   ]
  },
  {
   "cell_type": "code",
   "execution_count": null,
   "id": "702baac9-dd85-4edd-ab35-756d75d4f12f",
   "metadata": {},
   "outputs": [],
   "source": [
    "recoBoosted_genCategories = categorize_events_by_gen(eRecoBoosted)\n",
    "recoResolved_genCategories = categorize_events_by_gen(eRecoResolved)"
   ]
  },
  {
   "cell_type": "markdown",
   "id": "7f02d74b-737d-451c-af1a-8d227b7d9156",
   "metadata": {},
   "source": [
    "### 4. Plot m_HH for each reco category and each gen category"
   ]
  },
  {
   "cell_type": "code",
   "execution_count": null,
   "id": "c0e1312c-e4c7-489b-b701-0f41b037fb9e",
   "metadata": {},
   "outputs": [],
   "source": [
    "def plot_mhh_per_category(gen_higgs, categories, title=\"mhh Plot\"):\n",
    "    boosted, semi_boosted, resolved, not_categorized = categories\n",
    "    mhh = (gen_higgs[:, 0] + gen_higgs[:, 1]).m\n",
    "\n",
    "    # bypass into each category\n",
    "    mhh_boosted = mhh[boosted]\n",
    "    mhh_semi = mhh[semi_boosted]\n",
    "    mhh_resolved = mhh[resolved]\n",
    "    mhh_out = mhh[not_categorized]\n",
    "\n",
    "    # start to plot, code modified on Christina's plot_h1h2_fj\n",
    "    bins = np.arange(mhh.min(), mhh.max(), 10)\n",
    "    bins = np.arange(100, 2000, 50)\n",
    "    var_axis = hist.axis.Variable(bins, name=\"var\", label=\"variable\")\n",
    "    cat_axis = hist.axis.StrCategory([], name=\"cat\", growth=True)\n",
    "\n",
    "    hist_mhh = hist.Hist(var_axis, cat_axis)\n",
    "    hist_mhh.fill(var=mhh_boosted, cat=\"boosted\")\n",
    "    hist_mhh.fill(var=mhh_semi, cat=\"semi_boosted\")\n",
    "    hist_mhh.fill(var=mhh_resolved, cat=\"resolved\")\n",
    "    hist_mhh.fill(var=mhh_out, cat=\"non-categorized\")\n",
    "\n",
    "    leg_elems = []\n",
    "    fig, ax = plt.subplots(1, 1, figsize=(8, 4))\n",
    "    if mhh_boosted.size != 0:\n",
    "        hist_mhh[{\"cat\": \"boosted\"}].plot1d(ax=ax, label=\"Boosted\", color=\"y\", ls=\"-\")\n",
    "        leg_elems.append(Line2D([0], [0], color=\"y\", lw=2, ls=\"-\", label=\"boosted\"))\n",
    "    if mhh_semi.size != 0:\n",
    "        hist_mhh[{\"cat\": \"semi_boosted\"}].plot1d(ax=ax, label=\"Semi-boosted\", color=\"r\", ls=\"-.\")\n",
    "        leg_elems.append(Line2D([0], [0], color=\"r\", lw=2, ls=\"-.\", label=\"semi-boosted\"))\n",
    "    if mhh_resolved.size != 0:\n",
    "        hist_mhh[{\"cat\": \"resolved\"}].plot1d(ax=ax, label=\"Resolved\", color=\"k\", ls=\":\")\n",
    "        leg_elems.append(Line2D([0], [0], color=\"k\", lw=2, ls=\":\", label=\"resolved\"))\n",
    "    if mhh_out.size != 0:\n",
    "        hist_mhh[{\"cat\": \"non-categorized\"}].plot1d(\n",
    "            ax=ax, label=\"Outside of these categories\", color=\"c\", ls=\"--\"\n",
    "        )\n",
    "        leg_elems.append(Line2D([0], [0], color=\"c\", lw=2, ls=\"--\", label=\"ooc\"))\n",
    "\n",
    "    leg = ax.legend(handles=leg_elems)\n",
    "    leg.set_title(\"Gen-Level categories\", prop={\"size\": 10})\n",
    "    # ax.set_xlim(0, 2000)\n",
    "    # ax.set_ylim(0, 1000)\n",
    "    ax.set_xlabel(r\"$m_{HH}$ (GeV)\")\n",
    "    ax.set_title(title)\n",
    "    return"
   ]
  },
  {
   "cell_type": "code",
   "execution_count": null,
   "id": "a9e64f6c-f40f-4afc-b7a7-a387e2ff369a",
   "metadata": {},
   "outputs": [],
   "source": [
    "genH_recoBoosted = make_vector(eRecoBoosted, \"GenHiggs\")\n",
    "plot_mhh_per_category(\n",
    "    genH_recoBoosted, recoBoosted_genCategories, title=\"Gen-Level Categories of Reco Boosted Events\"\n",
    ")"
   ]
  },
  {
   "cell_type": "code",
   "execution_count": null,
   "id": "0d067826-57ee-44c0-9245-7d2aad071bd3",
   "metadata": {},
   "outputs": [],
   "source": [
    "genH_recoResolved = make_vector(eRecoResolved, \"GenHiggs\")\n",
    "plot_mhh_per_category(\n",
    "    genH_recoResolved,\n",
    "    recoResolved_genCategories,\n",
    "    title=\"Gen-Level Categories of Reco Resolved Events\",\n",
    ")"
   ]
  },
  {
   "cell_type": "markdown",
   "id": "bf997b0e-2e45-4e77-a7e7-296e2df4ee8f",
   "metadata": {},
   "source": [
    "### 5. Inverstigate Reco Resolved Events' Gen level OOC Subset"
   ]
  },
  {
   "cell_type": "code",
   "execution_count": null,
   "id": "f4ffc577-24c3-465b-a17b-21ce8f7b1c70",
   "metadata": {},
   "outputs": [],
   "source": [
    "# trying to define a function for pie chart outpout\n",
    "# input: 3d array of shape (N_event, N_jetType, N_Higgs)\n",
    "# output: pie values and labels\n",
    "def make_ooc_pie(events):\n",
    "    # getting ooc event indices\n",
    "    _, _, _, not_categorized = categorize_events_by_gen(events)\n",
    "\n",
    "    # collecting number of ak4 jets and number of ak8\n",
    "    # fat jets matched to Higgs\n",
    "    indexak4 = events[\"ak4JetHiggsMatchIndex\"].to_numpy()\n",
    "    indexak8 = events[\"ak8FatJetHiggsMatchIndex\"].to_numpy()\n",
    "\n",
    "    h1ak4 = indexak4 == 0\n",
    "    h2ak4 = indexak4 == 1\n",
    "    num_ak4m2h1 = h1ak4.sum(axis=1)\n",
    "    num_ak4m2h2 = h2ak4.sum(axis=1)\n",
    "\n",
    "    h1ak8 = indexak8 == 0\n",
    "    h2ak8 = indexak8 == 1\n",
    "    num_ak8m2h1 = h1ak8.sum(axis=1)\n",
    "    num_ak8m2h2 = h2ak8.sum(axis=1)\n",
    "\n",
    "    # stack them for easier processing\n",
    "    num_ak4N8m2h_nc = (\n",
    "        np.stack(\n",
    "            [\n",
    "                num_ak4m2h1[not_categorized],\n",
    "                num_ak4m2h2[not_categorized],\n",
    "                num_ak8m2h1[not_categorized],\n",
    "                num_ak8m2h2[not_categorized],\n",
    "            ],\n",
    "            axis=1,\n",
    "        )\n",
    "        .reshape(-1, 2, 2)\n",
    "        .tolist()\n",
    "    )\n",
    "\n",
    "    # This function is tryig to assume H1 and H2 is symmetric\n",
    "    # e.g. num_ak4m2HX = (2, 1) == (1, 2)\n",
    "    # the point is to not differentiate H1 and H2\n",
    "    # note that if ak4 pair is permutated, then ak8 pair should be permutated in the same way\n",
    "\n",
    "    # store all permutations of the recorded combinations of [[num_ak4m2H1, num_ak4m2H2], [num_ak8m2H1, num_ak8m2H2]]\n",
    "    perm_pair_ak4N8m2h_nc = []\n",
    "    # store unique combinations of [num_ak4m2HX, num_ak8m2HX]\n",
    "    unique_pair_ak4N8m2h_nc = []\n",
    "\n",
    "    # loop from all num pairs constructed from the ooc events\n",
    "    for pair in num_ak4N8m2h_nc:\n",
    "        # if it doesn't match any permutation of the recorded unique pair\n",
    "        if pair not in perm_pair_ak4N8m2h_nc:\n",
    "            # add to the unique pair\n",
    "            unique_pair_ak4N8m2h_nc.append(pair)\n",
    "            # also add its permutations to the permutation list\n",
    "            perm_pair_ak4N8m2h_nc.append(pair)\n",
    "            perm_pair_ak4N8m2h_nc.append([pair[0][::-1], pair[1][::-1]])\n",
    "\n",
    "    LUT = {}\n",
    "    for pair in unique_pair_ak4N8m2h_nc:\n",
    "        num_ak4m2h1 = pair[0][0]\n",
    "        num_ak4m2h2 = pair[0][1]\n",
    "        num_ak8m2h1 = pair[1][0]\n",
    "        num_ak8m2h2 = pair[1][1]\n",
    "        LUT[f\"{num_ak4m2h1}{num_ak4m2h2}{num_ak8m2h1}{num_ak8m2h2}\"] = 0\n",
    "\n",
    "    for num in num_ak4N8m2h_nc:\n",
    "        num_ak4m2h1 = num[0][0]\n",
    "        num_ak4m2h2 = num[0][1]\n",
    "        num_ak8m2h1 = num[1][0]\n",
    "        num_ak8m2h2 = num[1][1]\n",
    "\n",
    "        if num in unique_pair_ak4N8m2h_nc:\n",
    "            LUT[f\"{num_ak4m2h1}{num_ak4m2h2}{num_ak8m2h1}{num_ak8m2h2}\"] += 1\n",
    "        else:\n",
    "            LUT[f\"{num_ak4m2h2}{num_ak4m2h1}{num_ak8m2h2}{num_ak8m2h1}\"] += 1\n",
    "\n",
    "    labels_pie = np.array(list(LUT.keys()))\n",
    "    ys_pie = np.array(list(LUT.values()))\n",
    "    labels_pie = labels_pie[np.argsort(ys_pie)[::-1]]\n",
    "    ys_pie = ys_pie[np.argsort(ys_pie)[::-1]]\n",
    "\n",
    "    return ys_pie, labels_pie"
   ]
  },
  {
   "cell_type": "code",
   "execution_count": null,
   "id": "c505d2c6-dc48-417d-98ed-9b94eb15fa0a",
   "metadata": {},
   "outputs": [],
   "source": [
    "ys_pie, labels_pie = make_ooc_pie(eRecoResolved)"
   ]
  },
  {
   "cell_type": "code",
   "execution_count": null,
   "id": "6193f0d6-5d87-49df-b865-eb6c984b3eae",
   "metadata": {},
   "outputs": [],
   "source": [
    "fig, ax = plt.subplots()\n",
    "ax.pie(ys_pie, labels=labels_pie, autopct=\"%1.0f%%\")\n",
    "ax.set(title=\"Pie Chart of OOC AK4RecoJet Matching Patterns\")\n",
    "\n",
    "fig.text(0.5, 0.85, \"Number convention: AK4H1, AK4H2, AK8H1 AK8H2\", ha=\"center\", c=\"b\")\n",
    "plt.show()"
   ]
  },
  {
   "cell_type": "code",
   "execution_count": null,
   "id": "19dde58a-2d65-4d5b-8dbb-f94fa4481011",
   "metadata": {},
   "outputs": [],
   "source": []
  }
 ],
 "metadata": {
  "kernelspec": {
   "display_name": "Python 3 (ipykernel)",
   "language": "python",
   "name": "python3"
  },
  "language_info": {
   "codemirror_mode": {
    "name": "ipython",
    "version": 3
   },
   "file_extension": ".py",
   "mimetype": "text/x-python",
   "name": "python",
   "nbconvert_exporter": "python",
   "pygments_lexer": "ipython3",
   "version": "3.9.18"
  }
 },
 "nbformat": 4,
 "nbformat_minor": 5
}
