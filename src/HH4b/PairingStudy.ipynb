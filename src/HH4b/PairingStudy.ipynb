{
 "cells": [
  {
   "cell_type": "code",
   "execution_count": 56,
   "metadata": {},
   "outputs": [],
   "source": [
    "import awkward as ak\n",
    "import numpy as np\n",
    "from coffea.nanoevents import NanoEventsFactory, NanoAODSchema"
   ]
  },
  {
   "cell_type": "code",
   "execution_count": 57,
   "metadata": {},
   "outputs": [],
   "source": [
    "# Load 10k events from 2018 signal\n",
    "fname = \"root://xrootd.cmsaf.mit.edu:1094///store/mc/RunIISummer20UL18NanoAODv9/GluGluToHHTo4B_cHHH1_TuneCP5_PSWeights_13TeV-powheg-pythia8/NANOAODSIM/106X_upgrade2018_realistic_v16_L1v1-v1/2810000/2207F5D6-4518-F44A-8C92-68E712CAF67C.root\"\n",
    "events = NanoEventsFactory.from_root(fname, schemaclass=NanoAODSchema, entry_stop=10000).events()"
   ]
  },
  {
   "cell_type": "code",
   "execution_count": 58,
   "metadata": {},
   "outputs": [
    {
     "data": {
      "text/plain": [
       "<NanoEventsArray [<event 1:34:33001>, ... ] type='10000 * event'>"
      ]
     },
     "execution_count": 58,
     "metadata": {},
     "output_type": "execute_result"
    }
   ],
   "source": [
    "events"
   ]
  },
  {
   "cell_type": "code",
   "execution_count": 59,
   "metadata": {},
   "outputs": [
    {
     "data": {
      "text/plain": [
       "['GenIsolatedPhoton',\n",
       " 'LHEPart',\n",
       " 'SoftActivityJetHT2',\n",
       " 'DeepMETResolutionTune',\n",
       " 'SoftActivityJetHT5',\n",
       " 'GenJetAK8',\n",
       " 'Photon',\n",
       " 'GenVisTau',\n",
       " 'run',\n",
       " 'PV',\n",
       " 'LHEScaleWeight',\n",
       " 'GenDressedLepton',\n",
       " 'SoftActivityJet',\n",
       " 'boostedTau',\n",
       " 'HTXS',\n",
       " 'L1simulation',\n",
       " 'GenPart',\n",
       " 'genWeight',\n",
       " 'SubGenJetAK8',\n",
       " 'event',\n",
       " 'GenJet',\n",
       " 'fixedGridRhoFastjetAll',\n",
       " 'TrigObj',\n",
       " 'SoftActivityJetNjets5',\n",
       " 'fixedGridRhoFastjetCentralCalo',\n",
       " 'CaloMET',\n",
       " 'fixedGridRhoFastjetCentralNeutral',\n",
       " 'GenMET',\n",
       " 'HLTriggerFirstPath',\n",
       " 'L1Reco',\n",
       " 'SoftActivityJetNjets2',\n",
       " 'IsoTrack',\n",
       " 'CorrT1METJet',\n",
       " 'RawPuppiMET',\n",
       " 'LHEPdfWeight',\n",
       " 'SoftActivityJetNjets10',\n",
       " 'Pileup',\n",
       " 'btagWeight',\n",
       " 'DeepMETResponseTune',\n",
       " 'SoftActivityJetHT',\n",
       " 'L1',\n",
       " 'FsrPhoton',\n",
       " 'FatJet',\n",
       " 'RawMET',\n",
       " 'SubJet',\n",
       " 'GenVtx',\n",
       " 'LHEReweightingWeight',\n",
       " 'Jet',\n",
       " 'genTtbarId',\n",
       " 'OtherPV',\n",
       " 'Muon',\n",
       " 'MET',\n",
       " 'L1PreFiringWeight',\n",
       " 'luminosityBlock',\n",
       " 'HLT',\n",
       " 'SoftActivityJetHT10',\n",
       " 'LowPtElectron',\n",
       " 'HLTriggerFinalPath',\n",
       " 'LHEWeight',\n",
       " 'PSWeight',\n",
       " 'fixedGridRhoFastjetCentral',\n",
       " 'PuppiMET',\n",
       " 'fixedGridRhoFastjetCentralChargedPileUp',\n",
       " 'Generator',\n",
       " 'SV',\n",
       " 'Electron',\n",
       " 'Flag',\n",
       " 'ChsMET',\n",
       " 'Tau',\n",
       " 'TkMET',\n",
       " 'LHE']"
      ]
     },
     "execution_count": 59,
     "metadata": {},
     "output_type": "execute_result"
    }
   ],
   "source": [
    "events.fields"
   ]
  },
  {
   "cell_type": "markdown",
   "metadata": {},
   "source": [
    "## Reproducing selections from matching skimmer\n",
    "\n",
    "The following code tries to reproduce the steps followed in the processor (\"matchingSkimmer\")\n",
    "https://github.com/LPC-HH/HH4b/blob/aa89287b612b5fb62d95b827ff79c9e1854ac8dd/src/HH4b/processors/matchingSkimmer.py"
   ]
  },
  {
   "cell_type": "code",
   "execution_count": 60,
   "metadata": {},
   "outputs": [],
   "source": [
    "from processors.objects import *\n",
    "from processors.utils import P4, pad_val\n",
    "\n",
    "\n",
    "year = \"2018\"\n",
    "isData = not hasattr(events, \"genWeight\")\n",
    "\n",
    "num_jets = 6\n",
    "jets = good_ak4jets(events.Jet, year, events.run.to_numpy(), isData)\n",
    "# sort by b-tagging score\n",
    "jets = jets[ak.argsort(jets.btagDeepFlavB, ascending=False)]\n",
    "\n",
    "# vbf jets\n",
    "vbf_jets = jets[(jets.pt > 25) & (((jets.pt < 50) & (jets.puId >= 6)) | (jets.pt >= 50))]\n",
    "\n",
    "# jets p4 corrected by bjet energy regression\n",
    "jets_p4 = bregcorr(jets)\n",
    "\n",
    "num_fatjets = 3\n",
    "fatjets = good_ak8jets(events.FatJet)\n",
    "# sort by bb\n",
    "fatjets = fatjets[ak.argsort(fatjets.Txbb, ascending=False)]\n",
    "\n",
    "veto_muon_sel = good_muons(events.Muon, selection=veto_muon_selection_run2_bbbb)\n",
    "veto_electron_sel = good_electrons(events.Electron, selection=veto_electron_selection_run2_bbbb)\n",
    "\n",
    "ak4JetVars = {\n",
    "    **{\n",
    "        f\"ak4Jet{key}\": pad_val(getattr(jets_p4, var), num_jets, axis=1)\n",
    "        for (var, key) in P4.items()\n",
    "    },\n",
    "}"
   ]
  },
  {
   "cell_type": "markdown",
   "metadata": {},
   "source": [
    "Now copy the function that will do the jet assignment"
   ]
  },
  {
   "cell_type": "code",
   "execution_count": 69,
   "metadata": {},
   "outputs": [
    {
     "name": "stdout",
     "output_type": "stream",
     "text": [
      "Jet assignments resulting from pairing algorithm \n",
      "[[0 3]\n",
      " [0 3]\n",
      " [0 3]\n",
      " ...\n",
      " [0 2]\n",
      " [0 2]\n",
      " [0 3]]\n"
     ]
    }
   ],
   "source": [
    "import vector\n",
    "import itertools\n",
    "\n",
    "method = \"dhh\"\n",
    "\n",
    "# compute possible jet assignments lookup table\n",
    "MIN_JETS = 4\n",
    "MAX_JETS = 4\n",
    "HIGGS_MASS = 125.0\n",
    "JET_ASSIGNMENTS = {}\n",
    "for nj in range(MIN_JETS, MAX_JETS + 1):\n",
    "    a = list(itertools.combinations(range(nj), 2))\n",
    "    b = np.array([(i, j) for i, j in itertools.combinations(a, 2) if len(set(i + j)) == MIN_JETS])\n",
    "    JET_ASSIGNMENTS[nj] = b\n",
    "\n",
    "# just consider top 4 jets (already sorted by b-jet score)\n",
    "nj = 4\n",
    "jets = vector.array(\n",
    "    {\n",
    "        \"pt\": ak4JetVars[\"ak4JetPt\"],\n",
    "        \"eta\": ak4JetVars[\"ak4JetEta\"],\n",
    "        \"phi\": ak4JetVars[\"ak4JetPhi\"],\n",
    "        \"M\": ak4JetVars[\"ak4JetMass\"],\n",
    "    },\n",
    ")\n",
    "\n",
    "# get array of dijets for each possible higgs combination\n",
    "jj = jets[:, JET_ASSIGNMENTS[nj][:, :, 0]] + jets[:, JET_ASSIGNMENTS[nj][:, :, 1]]\n",
    "mjj = jj.M\n",
    "\n",
    "if method == \"chi2\":\n",
    "    chi2 = ak.sum(np.square(mjj - HIGGS_MASS), axis=-1)\n",
    "    index = ak.argmin(chi2, axis=-1)\n",
    "elif method == \"dhh\":\n",
    "    # https://github.com/UF-HH/bbbbAnalysis/blob/master/src/OfflineProducerHelper.cc#L4109\n",
    "    mjj_sorted = ak.sort(mjj, ascending=False)\n",
    "\n",
    "    # compute \\delta d\n",
    "    k = 125 / 120\n",
    "    delta_d = np.absolute(mjj_sorted[:, :, 0] - k * mjj_sorted[:, :, 1]) / np.sqrt(1 + k**2)\n",
    "\n",
    "    # take combination with smallest distance to the diagonal\n",
    "    index_mindhh = ak.argmin(delta_d, axis=-1)\n",
    "\n",
    "    # except, if |dhh^1 - dhh^2| < 30 GeV\n",
    "    # this is when the pairing method starts to make mistakes\n",
    "    d_sorted = ak.sort(delta_d, ascending=False)\n",
    "    is_dhh_tooclose = (d_sorted[:, 0] - d_sorted[:, 1]) < 30\n",
    "\n",
    "    # order dijets with the highest sum pt in their own event CoM frame\n",
    "    # CoM frame of dijets\n",
    "    cm = jj[:, :, 0] + jj[:, :, 1]\n",
    "    com_pt = jj[:, :, 0].boostCM_of(cm).pt + jj[:, :, 1].boostCM_of(cm).pt\n",
    "    index_max_com_pt = ak.argmax(com_pt, axis=-1)\n",
    "\n",
    "    index = ak.where(is_dhh_tooclose, index_max_com_pt, index_mindhh)\n",
    "\n",
    "    # TODO: is there an exception if the index chosen is the same?\n",
    "    # is_same_index = (index == index_max_com_pt)\n",
    "\n",
    "print(\"Jet assignments resulting from pairing algorithm \")\n",
    "print(JET_ASSIGNMENTS[nj][index][:, 0, :])\n",
    "\n",
    "# now get the resulting bb pairs\n",
    "first_bb_pair = JET_ASSIGNMENTS[nj][index][:, 0, :]\n",
    "first_bb_j1 = jets[np.arange(len(jets.pt)), first_bb_pair[:, 0]]\n",
    "first_bb_j2 = jets[np.arange(len(jets.pt)), first_bb_pair[:, 1]]\n",
    "first_bb_dijet = first_bb_j1 + first_bb_j2\n",
    "\n",
    "second_bb_pair = JET_ASSIGNMENTS[nj][index][:, 1, :]\n",
    "second_bb_j1 = jets[np.arange(len(jets.pt)), second_bb_pair[:, 0]]\n",
    "second_bb_j2 = jets[np.arange(len(jets.pt)), second_bb_pair[:, 1]]\n",
    "second_bb_dijet = second_bb_j1 + second_bb_j2\n",
    "\n",
    "# TODO: sort by dijet pt\n",
    "# TODO: not sure what the best way to do this is..\n",
    "# perhaps using ak.concatenate?\n",
    "\n",
    "jetAssignmentDict = {\n",
    "    \"ak4DijetPt0\": first_bb_dijet.pt,\n",
    "    \"ak4DijetEta0\": first_bb_dijet.eta,\n",
    "    \"ak4DijetPhi0\": first_bb_dijet.phi,\n",
    "    \"ak4DijetMass0\": first_bb_dijet.mass,\n",
    "    \"ak4DijetPt1\": second_bb_dijet.pt,\n",
    "    \"ak4DijetEta1\": second_bb_dijet.eta,\n",
    "    \"ak4DijetPhi1\": second_bb_dijet.phi,\n",
    "    \"ak4DijetMass1\": second_bb_dijet.mass,\n",
    "    \"ak4DijetDeltaR\": first_bb_dijet.deltaR(second_bb_dijet),\n",
    "}"
   ]
  },
  {
   "cell_type": "code",
   "execution_count": 62,
   "metadata": {},
   "outputs": [
    {
     "data": {
      "text/html": [
       "<html>\n",
       "<div style=\"display:flex; align-items:center;\">\n",
       "<div style=\"width:290px;\">\n",
       "<svg xmlns=\"http://www.w3.org/2000/svg\" viewBox=\"-20 -270 290 290\">\n",
       "<text text-anchor=\"middle\" x=\"0\" y=\"13\" style=\"fill:currentColor;\">\n",
       "60\n",
       "</text>\n",
       "<text text-anchor=\"middle\" x=\"250\" y=\"13\" style=\"fill:currentColor;\">\n",
       "200\n",
       "</text>\n",
       "<text text-anchor=\"middle\" x=\"-10\" y=\"0\" style=\"fill:currentColor;\">\n",
       "0\n",
       "</text>\n",
       "<text text-anchor=\"middle\" x=\"-10\" y=\"-250\" style=\"fill:currentColor;\">\n",
       "2\n",
       "</text>\n",
       "<text text-anchor=\"middle\" x=\"125.0\" y=\"13\" style=\"fill:currentColor;\">\n",
       "Dijet Mass [GeV]\n",
       "</text>\n",
       "<text text-anchor=\"middle\" x=\"-10\" y=\"-125.0\" transform=\"rotate(-90,-10,-125.0)\" style=\"fill:currentColor;\">\n",
       "pair\n",
       "</text>\n",
       "<rect x=\"0.0\" y=\"-125.0\" width=\"12.5\" height=\"125.0\" opacity=\"0.1738703339882122\" fill=\"currentColor\" stroke-width=\"0.1\"/>\n",
       "<rect x=\"12.5\" y=\"-125.0\" width=\"12.5\" height=\"125.0\" opacity=\"0.21414538310412576\" fill=\"currentColor\" stroke-width=\"0.1\"/>\n",
       "<rect x=\"25.0\" y=\"-125.0\" width=\"12.5\" height=\"125.0\" opacity=\"0.2082514734774067\" fill=\"currentColor\" stroke-width=\"0.1\"/>\n",
       "<rect x=\"37.5\" y=\"-125.0\" width=\"12.5\" height=\"125.0\" opacity=\"0.293713163064833\" fill=\"currentColor\" stroke-width=\"0.1\"/>\n",
       "<rect x=\"50.0\" y=\"-125.0\" width=\"12.5\" height=\"125.0\" opacity=\"0.4223968565815325\" fill=\"currentColor\" stroke-width=\"0.1\"/>\n",
       "<rect x=\"62.5\" y=\"-125.0\" width=\"12.5\" height=\"125.0\" opacity=\"0.5068762278978389\" fill=\"currentColor\" stroke-width=\"0.1\"/>\n",
       "<rect x=\"75.0\" y=\"-125.0\" width=\"12.5\" height=\"125.0\" opacity=\"0.612966601178782\" fill=\"currentColor\" stroke-width=\"0.1\"/>\n",
       "<rect x=\"87.5\" y=\"-125.0\" width=\"12.5\" height=\"125.0\" opacity=\"0.8408644400785855\" fill=\"currentColor\" stroke-width=\"0.1\"/>\n",
       "<rect x=\"100.0\" y=\"-125.0\" width=\"12.5\" height=\"125.0\" opacity=\"1.0\" fill=\"currentColor\" stroke-width=\"0.1\"/>\n",
       "<rect x=\"112.5\" y=\"-125.0\" width=\"12.5\" height=\"125.0\" opacity=\"0.9469548133595285\" fill=\"currentColor\" stroke-width=\"0.1\"/>\n",
       "<rect x=\"125.0\" y=\"-125.0\" width=\"12.5\" height=\"125.0\" opacity=\"0.75049115913556\" fill=\"currentColor\" stroke-width=\"0.1\"/>\n",
       "<rect x=\"137.5\" y=\"-125.0\" width=\"12.5\" height=\"125.0\" opacity=\"0.462671905697446\" fill=\"currentColor\" stroke-width=\"0.1\"/>\n",
       "<rect x=\"150.0\" y=\"-125.0\" width=\"12.5\" height=\"125.0\" opacity=\"0.2789783889980354\" fill=\"currentColor\" stroke-width=\"0.1\"/>\n",
       "<rect x=\"162.5\" y=\"-125.0\" width=\"12.5\" height=\"125.0\" opacity=\"0.1974459724950884\" fill=\"currentColor\" stroke-width=\"0.1\"/>\n",
       "<rect x=\"175.0\" y=\"-125.0\" width=\"12.5\" height=\"125.0\" opacity=\"0.18467583497053047\" fill=\"currentColor\" stroke-width=\"0.1\"/>\n",
       "<rect x=\"187.5\" y=\"-125.0\" width=\"12.5\" height=\"125.0\" opacity=\"0.16110019646365423\" fill=\"currentColor\" stroke-width=\"0.1\"/>\n",
       "<rect x=\"200.0\" y=\"-125.0\" width=\"12.5\" height=\"125.0\" opacity=\"0.1394891944990177\" fill=\"currentColor\" stroke-width=\"0.1\"/>\n",
       "<rect x=\"212.5\" y=\"-125.0\" width=\"12.5\" height=\"125.0\" opacity=\"0.12671905697445973\" fill=\"currentColor\" stroke-width=\"0.1\"/>\n",
       "<rect x=\"225.0\" y=\"-125.0\" width=\"12.5\" height=\"125.0\" opacity=\"0.12278978388998037\" fill=\"currentColor\" stroke-width=\"0.1\"/>\n",
       "<rect x=\"237.5\" y=\"-125.0\" width=\"12.5\" height=\"125.0\" opacity=\"0.1257367387033399\" fill=\"currentColor\" stroke-width=\"0.1\"/>\n",
       "<rect x=\"0.0\" y=\"-250.0\" width=\"12.5\" height=\"125.0\" opacity=\"0.20039292730844796\" fill=\"currentColor\" stroke-width=\"0.1\"/>\n",
       "<rect x=\"12.5\" y=\"-250.0\" width=\"12.5\" height=\"125.0\" opacity=\"0.2269155206286837\" fill=\"currentColor\" stroke-width=\"0.1\"/>\n",
       "<rect x=\"25.0\" y=\"-250.0\" width=\"12.5\" height=\"125.0\" opacity=\"0.28683693516699416\" fill=\"currentColor\" stroke-width=\"0.1\"/>\n",
       "<rect x=\"37.5\" y=\"-250.0\" width=\"12.5\" height=\"125.0\" opacity=\"0.34675834970530456\" fill=\"currentColor\" stroke-width=\"0.1\"/>\n",
       "<rect x=\"50.0\" y=\"-250.0\" width=\"12.5\" height=\"125.0\" opacity=\"0.3899803536345776\" fill=\"currentColor\" stroke-width=\"0.1\"/>\n",
       "<rect x=\"62.5\" y=\"-250.0\" width=\"12.5\" height=\"125.0\" opacity=\"0.5697445972495089\" fill=\"currentColor\" stroke-width=\"0.1\"/>\n",
       "<rect x=\"75.0\" y=\"-250.0\" width=\"12.5\" height=\"125.0\" opacity=\"0.6247544204322201\" fill=\"currentColor\" stroke-width=\"0.1\"/>\n",
       "<rect x=\"87.5\" y=\"-250.0\" width=\"12.5\" height=\"125.0\" opacity=\"0.7416502946954814\" fill=\"currentColor\" stroke-width=\"0.1\"/>\n",
       "<rect x=\"100.0\" y=\"-250.0\" width=\"12.5\" height=\"125.0\" opacity=\"0.8231827111984283\" fill=\"currentColor\" stroke-width=\"0.1\"/>\n",
       "<rect x=\"112.5\" y=\"-250.0\" width=\"12.5\" height=\"125.0\" opacity=\"0.7701375245579568\" fill=\"currentColor\" stroke-width=\"0.1\"/>\n",
       "<rect x=\"125.0\" y=\"-250.0\" width=\"12.5\" height=\"125.0\" opacity=\"0.5884086444007859\" fill=\"currentColor\" stroke-width=\"0.1\"/>\n",
       "<rect x=\"137.5\" y=\"-250.0\" width=\"12.5\" height=\"125.0\" opacity=\"0.3870333988212181\" fill=\"currentColor\" stroke-width=\"0.1\"/>\n",
       "<rect x=\"150.0\" y=\"-250.0\" width=\"12.5\" height=\"125.0\" opacity=\"0.2652259332023576\" fill=\"currentColor\" stroke-width=\"0.1\"/>\n",
       "<rect x=\"162.5\" y=\"-250.0\" width=\"12.5\" height=\"125.0\" opacity=\"0.2288801571709234\" fill=\"currentColor\" stroke-width=\"0.1\"/>\n",
       "<rect x=\"175.0\" y=\"-250.0\" width=\"12.5\" height=\"125.0\" opacity=\"0.1787819253438114\" fill=\"currentColor\" stroke-width=\"0.1\"/>\n",
       "<rect x=\"187.5\" y=\"-250.0\" width=\"12.5\" height=\"125.0\" opacity=\"0.15717092337917485\" fill=\"currentColor\" stroke-width=\"0.1\"/>\n",
       "<rect x=\"200.0\" y=\"-250.0\" width=\"12.5\" height=\"125.0\" opacity=\"0.1581532416502947\" fill=\"currentColor\" stroke-width=\"0.1\"/>\n",
       "<rect x=\"212.5\" y=\"-250.0\" width=\"12.5\" height=\"125.0\" opacity=\"0.14931237721021612\" fill=\"currentColor\" stroke-width=\"0.1\"/>\n",
       "<rect x=\"225.0\" y=\"-250.0\" width=\"12.5\" height=\"125.0\" opacity=\"0.14341846758349708\" fill=\"currentColor\" stroke-width=\"0.1\"/>\n",
       "<rect x=\"237.5\" y=\"-250.0\" width=\"12.5\" height=\"125.0\" opacity=\"0.12671905697445973\" fill=\"currentColor\" stroke-width=\"0.1\"/>\n",
       "</svg>\n",
       "</div>\n",
       "<div style=\"flex=grow:1;\">\n",
       "Regular(20, 60, 200, name='dijet_mass', label='Dijet Mass [GeV]')<br/>\n",
       "StrCategory(['0', '1'], growth=True, name='pair')<br/>\n",
       "<hr style=\"margin-top:.2em; margin-bottom:.2em;\"/>\n",
       "Double() Σ=15406.0 <em>(20000.0 with flow)</em>\n",
       "\n",
       "</div>\n",
       "</div>\n",
       "</html>"
      ],
      "text/plain": [
       "Hist(\n",
       "  Regular(20, 60, 200, name='dijet_mass', label='Dijet Mass [GeV]'),\n",
       "  StrCategory(['0', '1'], growth=True, name='pair'),\n",
       "  storage=Double()) # Sum: 15406.0 (20000.0 with flow)"
      ]
     },
     "execution_count": 62,
     "metadata": {},
     "output_type": "execute_result"
    }
   ],
   "source": [
    "import matplotlib.pyplot as plt\n",
    "import hist\n",
    "\n",
    "dijet_mass_axis = hist.axis.Regular(20, 60, 200, name=\"dijet_mass\", label=\"Dijet Mass [GeV]\")\n",
    "pair_axis = hist.axis.StrCategory([], name=\"pair\", growth=True)\n",
    "\n",
    "h = hist.Hist(dijet_mass_axis, pair_axis)\n",
    "h.fill(dijet_mass=jetAssignmentDict[\"ak4DijetMass0\"], pair=\"0\")\n",
    "h.fill(dijet_mass=jetAssignmentDict[\"ak4DijetMass1\"], pair=\"1\")"
   ]
  },
  {
   "cell_type": "code",
   "execution_count": 63,
   "metadata": {},
   "outputs": [
    {
     "data": {
      "text/plain": [
       "[StairsArtists(stairs=<matplotlib.patches.StepPatch object at 0x7f9725f81a90>, errorbar=<ErrorbarContainer object of 3 artists>, legend_artist=<ErrorbarContainer object of 3 artists>)]"
      ]
     },
     "execution_count": 63,
     "metadata": {},
     "output_type": "execute_result"
    },
    {
     "data": {
      "image/png": "[encoded data removed]",
      "text/plain": [
       "<Figure size 640x480 with 1 Axes>"
      ]
     },
     "metadata": {},
     "output_type": "display_data"
    }
   ],
   "source": [
    "import mplhep\n",
    "\n",
    "mplhep.histplot(h[{\"pair\": \"0\"}])\n",
    "mplhep.histplot(h[{\"pair\": \"1\"}])"
   ]
  },
  {
   "cell_type": "code",
   "execution_count": 64,
   "metadata": {},
   "outputs": [
    {
     "data": {
      "text/plain": [
       "[StairsArtists(stairs=<matplotlib.patches.StepPatch object at 0x7f970fdf6d30>, errorbar=<ErrorbarContainer object of 3 artists>, legend_artist=<ErrorbarContainer object of 3 artists>)]"
      ]
     },
     "execution_count": 64,
     "metadata": {},
     "output_type": "execute_result"
    },
    {
     "data": {
      "image/png": "[encoded data removed]",
      "text/plain": [
       "<Figure size 640x480 with 1 Axes>"
      ]
     },
     "metadata": {},
     "output_type": "display_data"
    }
   ],
   "source": [
    "dijet_pt_axis = hist.axis.Regular(20, 0, 1000, name=\"dijet_pt\", label=\"Dijet Pt [GeV]\")\n",
    "pair_axis = hist.axis.StrCategory([], name=\"pair\", growth=True)\n",
    "\n",
    "h = hist.Hist(dijet_pt_axis, pair_axis)\n",
    "h.fill(dijet_pt=jetAssignmentDict[\"ak4DijetPt0\"], pair=\"0\")\n",
    "h.fill(dijet_pt=jetAssignmentDict[\"ak4DijetPt1\"], pair=\"1\")\n",
    "\n",
    "mplhep.histplot(h[{\"pair\": \"0\"}])\n",
    "mplhep.histplot(h[{\"pair\": \"1\"}])"
   ]
  },
  {
   "cell_type": "code",
   "execution_count": 65,
   "metadata": {},
   "outputs": [
    {
     "data": {
      "text/plain": [
       "array([121.12994839,  51.7334611 ,  23.73286696, ...,  24.08015168,\n",
       "        95.43987159, 132.26739094])"
      ]
     },
     "execution_count": 65,
     "metadata": {},
     "output_type": "execute_result"
    }
   ],
   "source": [
    "jetAssignmentDict[\"ak4DijetPt0\"]"
   ]
  },
  {
   "cell_type": "code",
   "execution_count": 66,
   "metadata": {},
   "outputs": [
    {
     "data": {
      "text/plain": [
       "array([ 18.08726126,  52.54989542,  85.45180898, ..., 130.62165802,\n",
       "       105.71452172, 130.40055885])"
      ]
     },
     "execution_count": 66,
     "metadata": {},
     "output_type": "execute_result"
    }
   ],
   "source": [
    "jetAssignmentDict[\"ak4DijetPt1\"]"
   ]
  },
  {
   "cell_type": "code",
   "execution_count": 70,
   "metadata": {},
   "outputs": [
    {
     "data": {
      "text/plain": [
       "array([1.21828924, 7.08352325, 5.91422441, ..., 1.98211621, 3.35686714,\n",
       "       2.89492679])"
      ]
     },
     "execution_count": 70,
     "metadata": {},
     "output_type": "execute_result"
    }
   ],
   "source": [
    "jetAssignmentDict[\"ak4DijetDeltaR\"]"
   ]
  },
  {
   "cell_type": "code",
   "execution_count": 77,
   "metadata": {},
   "outputs": [
    {
     "data": {
      "text/plain": [
       "[StairsArtists(stairs=<matplotlib.patches.StepPatch object at 0x7f970ebffa60>, errorbar=<ErrorbarContainer object of 3 artists>, legend_artist=<ErrorbarContainer object of 3 artists>)]"
      ]
     },
     "execution_count": 77,
     "metadata": {},
     "output_type": "execute_result"
    },
    {
     "data": {
      "image/png": "[encoded data removed]",
      "text/plain": [
       "<Figure size 640x480 with 1 Axes>"
      ]
     },
     "metadata": {},
     "output_type": "display_data"
    }
   ],
   "source": [
    "deltar_axis = hist.axis.Regular(20, 0, 5, name=\"deltar\", label=r\"$\\Delta$ R (jj, jj)\")\n",
    "\n",
    "h = hist.Hist(deltar_axis)\n",
    "h.fill(deltar=jetAssignmentDict[\"ak4DijetDeltaR\"])\n",
    "\n",
    "h.plot1d(lw=2)"
   ]
  },
  {
   "cell_type": "markdown",
   "metadata": {},
   "source": [
    "## Next steps\n",
    "1. Change code so that  `first_bb_dijet` and `second_bb_dijet` are actually the dijet with leading pt and second leading pt respectively (right now, they are most of the time but not always)\n",
    "2. Compare mass reconstruction with chi2 and dhh method"
   ]
  },
  {
   "cell_type": "markdown",
   "metadata": {},
   "source": []
  }
 ],
 "metadata": {
  "kernelspec": {
   "display_name": "coffea-env",
   "language": "python",
   "name": "python3"
  },
  "language_info": {
   "codemirror_mode": {
    "name": "ipython",
    "version": 3
   },
   "file_extension": ".py",
   "mimetype": "text/x-python",
   "name": "python",
   "nbconvert_exporter": "python",
   "pygments_lexer": "ipython3",
   "version": "3.8.16"
  },
  "orig_nbformat": 4
 },
 "nbformat": 4,
 "nbformat_minor": 2
}
