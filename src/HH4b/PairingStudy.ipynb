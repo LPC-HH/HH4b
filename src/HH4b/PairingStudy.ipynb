{
 "cells": [
  {
   "cell_type": "code",
   "execution_count": 1,
   "metadata": {},
   "outputs": [],
   "source": [
    "import awkward as ak\n",
    "import numpy as np\n",
    "from coffea.nanoevents import NanoEventsFactory, NanoAODSchema"
   ]
  },
  {
   "cell_type": "code",
   "execution_count": 2,
   "metadata": {},
   "outputs": [],
   "source": [
    "# Load 10k events from 2018 signal\n",
    "fname = \"root://xrootd.cmsaf.mit.edu:1094///store/mc/RunIISummer20UL18NanoAODv9/GluGluToHHTo4B_cHHH1_TuneCP5_PSWeights_13TeV-powheg-pythia8/NANOAODSIM/106X_upgrade2018_realistic_v16_L1v1-v1/2810000/2207F5D6-4518-F44A-8C92-68E712CAF67C.root\"\n",
    "events = NanoEventsFactory.from_root(fname, schemaclass=NanoAODSchema, entry_stop=10000).events()"
   ]
  },
  {
   "cell_type": "code",
   "execution_count": 3,
   "metadata": {},
   "outputs": [
    {
     "data": {
      "text/plain": [
       "<NanoEventsArray [<event 1:34:33001>, ... ] type='10000 * event'>"
      ]
     },
     "execution_count": 3,
     "metadata": {},
     "output_type": "execute_result"
    }
   ],
   "source": [
    "events"
   ]
  },
  {
   "cell_type": "code",
   "execution_count": 4,
   "metadata": {},
   "outputs": [
    {
     "data": {
      "text/plain": [
       "['SoftActivityJetNjets10',\n",
       " 'GenDressedLepton',\n",
       " 'PSWeight',\n",
       " 'fixedGridRhoFastjetAll',\n",
       " 'GenPart',\n",
       " 'HTXS',\n",
       " 'LHEReweightingWeight',\n",
       " 'PV',\n",
       " 'FsrPhoton',\n",
       " 'fixedGridRhoFastjetCentralCalo',\n",
       " 'HLT',\n",
       " 'run',\n",
       " 'fixedGridRhoFastjetCentral',\n",
       " 'DeepMETResolutionTune',\n",
       " 'ChsMET',\n",
       " 'SubJet',\n",
       " 'Generator',\n",
       " 'SoftActivityJetHT',\n",
       " 'MET',\n",
       " 'TrigObj',\n",
       " 'SV',\n",
       " 'Electron',\n",
       " 'RawMET',\n",
       " 'LHEPart',\n",
       " 'L1simulation',\n",
       " 'SoftActivityJetHT5',\n",
       " 'GenVisTau',\n",
       " 'LHE',\n",
       " 'genWeight',\n",
       " 'PuppiMET',\n",
       " 'LowPtElectron',\n",
       " 'Muon',\n",
       " 'RawPuppiMET',\n",
       " 'genTtbarId',\n",
       " 'fixedGridRhoFastjetCentralChargedPileUp',\n",
       " 'HLTriggerFirstPath',\n",
       " 'GenJet',\n",
       " 'boostedTau',\n",
       " 'CorrT1METJet',\n",
       " 'HLTriggerFinalPath',\n",
       " 'DeepMETResponseTune',\n",
       " 'SubGenJetAK8',\n",
       " 'L1Reco',\n",
       " 'event',\n",
       " 'Flag',\n",
       " 'luminosityBlock',\n",
       " 'TkMET',\n",
       " 'SoftActivityJetNjets2',\n",
       " 'Photon',\n",
       " 'CaloMET',\n",
       " 'Tau',\n",
       " 'LHEWeight',\n",
       " 'IsoTrack',\n",
       " 'FatJet',\n",
       " 'SoftActivityJetNjets5',\n",
       " 'SoftActivityJetHT2',\n",
       " 'GenMET',\n",
       " 'GenIsolatedPhoton',\n",
       " 'Jet',\n",
       " 'fixedGridRhoFastjetCentralNeutral',\n",
       " 'LHEScaleWeight',\n",
       " 'L1PreFiringWeight',\n",
       " 'GenJetAK8',\n",
       " 'L1',\n",
       " 'Pileup',\n",
       " 'LHEPdfWeight',\n",
       " 'SoftActivityJet',\n",
       " 'OtherPV',\n",
       " 'btagWeight',\n",
       " 'GenVtx',\n",
       " 'SoftActivityJetHT10']"
      ]
     },
     "execution_count": 4,
     "metadata": {},
     "output_type": "execute_result"
    }
   ],
   "source": [
    "events.fields"
   ]
  },
  {
   "cell_type": "markdown",
   "metadata": {},
   "source": [
    "## Reproducing selections from matching skimmer\n",
    "\n",
    "The following code tries to reproduce the steps followed in the processor (\"matchingSkimmer\")\n",
    "https://github.com/LPC-HH/HH4b/blob/aa89287b612b5fb62d95b827ff79c9e1854ac8dd/src/HH4b/processors/matchingSkimmer.py"
   ]
  },
  {
   "cell_type": "code",
   "execution_count": 5,
   "metadata": {},
   "outputs": [],
   "source": [
    "from processors.objects import *\n",
    "from processors.utils import P4, pad_val\n",
    "\n",
    "\n",
    "year = \"2018\"\n",
    "isData = not hasattr(events, \"genWeight\")\n",
    "\n",
    "num_jets = 6\n",
    "jets = good_ak4jets(events.Jet, year, events.run.to_numpy(), isData)\n",
    "# sort by b-tagging score\n",
    "jets = jets[ak.argsort(jets.btagDeepFlavB, ascending=False)]\n",
    "\n",
    "# vbf jets\n",
    "vbf_jets = jets[(jets.pt > 25) & (((jets.pt < 50) & (jets.puId >= 6)) | (jets.pt >= 50))]\n",
    "\n",
    "# jets p4 corrected by bjet energy regression\n",
    "jets_p4 = bregcorr(jets)\n",
    "\n",
    "num_fatjets = 3\n",
    "fatjets = good_ak8jets(events.FatJet)\n",
    "# sort by bb\n",
    "fatjets = fatjets[ak.argsort(fatjets.Txbb, ascending=False)]\n",
    "\n",
    "veto_muon_sel = good_muons(events.Muon, selection=veto_muon_selection_run2_bbbb)\n",
    "veto_electron_sel = good_electrons(events.Electron, selection=veto_electron_selection_run2_bbbb)\n",
    "\n",
    "ak4JetVars = {\n",
    "    **{\n",
    "        f\"ak4Jet{key}\": pad_val(getattr(jets_p4, var), num_jets, axis=1)\n",
    "        for (var, key) in P4.items()\n",
    "    },\n",
    "}"
   ]
  },
  {
   "cell_type": "markdown",
   "metadata": {},
   "source": [
    "Now copy the function that will do the jet assignment"
   ]
  },
  {
   "cell_type": "code",
   "execution_count": 6,
   "metadata": {},
   "outputs": [
    {
     "name": "stdout",
     "output_type": "stream",
     "text": [
      "Jet assignments resulting from pairing algorithm \n",
      "[[0 3]\n",
      " [0 3]\n",
      " [0 3]\n",
      " ...\n",
      " [0 2]\n",
      " [0 2]\n",
      " [0 3]]\n"
     ]
    }
   ],
   "source": [
    "import vector\n",
    "import itertools\n",
    "\n",
    "vector.register_awkward()\n",
    "\n",
    "method = \"dhh\"\n",
    "\n",
    "# compute possible jet assignments lookup table\n",
    "MIN_JETS = 4\n",
    "MAX_JETS = 4\n",
    "HIGGS_MASS = 125.0\n",
    "JET_ASSIGNMENTS = {}\n",
    "for nj in range(MIN_JETS, MAX_JETS + 1):\n",
    "    a = list(itertools.combinations(range(nj), 2))\n",
    "    b = np.array([(i, j) for i, j in itertools.combinations(a, 2) if len(set(i + j)) == MIN_JETS])\n",
    "    JET_ASSIGNMENTS[nj] = b\n",
    "\n",
    "# just consider top 4 jets (already sorted by b-jet score)\n",
    "nj = 4\n",
    "jets = vector.array(\n",
    "    {\n",
    "        \"pt\": ak4JetVars[\"ak4JetPt\"],\n",
    "        \"eta\": ak4JetVars[\"ak4JetEta\"],\n",
    "        \"phi\": ak4JetVars[\"ak4JetPhi\"],\n",
    "        \"M\": ak4JetVars[\"ak4JetMass\"],\n",
    "    },\n",
    ")\n",
    "\n",
    "# get array of dijets for each possible higgs combination\n",
    "jj = jets[:, JET_ASSIGNMENTS[nj][:, :, 0]] + jets[:, JET_ASSIGNMENTS[nj][:, :, 1]]\n",
    "mjj = jj.M\n",
    "\n",
    "if method == \"chi2\":\n",
    "    chi2 = ak.sum(np.square(mjj - HIGGS_MASS), axis=-1)\n",
    "    index = ak.argmin(chi2, axis=-1)\n",
    "elif method == \"dhh\":\n",
    "    # https://github.com/UF-HH/bbbbAnalysis/blob/master/src/OfflineProducerHelper.cc#L4109\n",
    "    mjj_sorted = ak.sort(mjj, ascending=False)\n",
    "\n",
    "    # compute \\delta d\n",
    "    k = 125 / 120\n",
    "    delta_d = np.absolute(mjj_sorted[:, :, 0] - k * mjj_sorted[:, :, 1]) / np.sqrt(1 + k**2)\n",
    "\n",
    "    # take combination with smallest distance to the diagonal\n",
    "    index_mindhh = ak.argmin(delta_d, axis=-1)\n",
    "\n",
    "    # except, if |dhh^1 - dhh^2| < 30 GeV\n",
    "    # this is when the pairing method starts to make mistakes\n",
    "    d_sorted = ak.sort(delta_d, ascending=False)\n",
    "    is_dhh_tooclose = (d_sorted[:, 0] - d_sorted[:, 1]) < 30\n",
    "\n",
    "    # order dijets with the highest sum pt in their own event CoM frame\n",
    "    # CoM frame of dijets\n",
    "    cm = jj[:, :, 0] + jj[:, :, 1]\n",
    "    com_pt = jj[:, :, 0].boostCM_of(cm).pt + jj[:, :, 1].boostCM_of(cm).pt\n",
    "    index_max_com_pt = ak.argmax(com_pt, axis=-1)\n",
    "\n",
    "    index = ak.where(is_dhh_tooclose, index_max_com_pt, index_mindhh)\n",
    "\n",
    "    # TODO: is there an exception if the index chosen is the same?\n",
    "    # is_same_index = (index == index_max_com_pt)\n",
    "\n",
    "print(\"Jet assignments resulting from pairing algorithm \")\n",
    "print(JET_ASSIGNMENTS[nj][index][:, 0, :])\n",
    "\n",
    "# now get the resulting bb pairs\n",
    "# best comb index for each event\n",
    "first_bb_pair = JET_ASSIGNMENTS[nj][index][:, 0, :]\n",
    "first_bb_j1 = jets[np.arange(len(jets.pt)), first_bb_pair[:, 0]]\n",
    "first_bb_j2 = jets[np.arange(len(jets.pt)), first_bb_pair[:, 1]]\n",
    "first_bb_dijet = first_bb_j1 + first_bb_j2\n",
    "\n",
    "second_bb_pair = JET_ASSIGNMENTS[nj][index][:, 1, :]\n",
    "second_bb_j1 = jets[np.arange(len(jets.pt)), second_bb_pair[:, 0]]\n",
    "second_bb_j2 = jets[np.arange(len(jets.pt)), second_bb_pair[:, 1]]\n",
    "second_bb_dijet = second_bb_j1 + second_bb_j2\n",
    "\n",
    "# TODO: sort by dijet pt\n",
    "# TODO: not sure what the best way to do this is..\n",
    "# perhaps using ak.concatenate?\n",
    "bb_pairs = np.stack([first_bb_pair, second_bb_pair], axis=1)\n",
    "\n",
    "bbs_jjpt = np.concatenate([first_bb_dijet.pt.reshape(-1,1), second_bb_dijet.pt.reshape(-1,1)], axis=1)\n",
    "sort_by_jjpt = np.argsort(bbs_jjpt, axis=-1)[:,::-1]\n",
    "\n",
    "bb_pairs_sorted = np.array([ [bb_pair_e[sort_e[0]], bb_pair_e[sort_e[1]]] for bb_pair_e, sort_e in zip(bb_pairs, sort_by_jjpt)])\n",
    "\n",
    "first_bb_pair_sort = bb_pairs_sorted[:,0]\n",
    "second_bb_pair_sort = bb_pairs_sorted[:,1]\n",
    "\n",
    "first_bb_j1 = jets[np.arange(len(jets.pt)), first_bb_pair_sort[:, 0]]\n",
    "first_bb_j2 = jets[np.arange(len(jets.pt)), first_bb_pair_sort[:, 1]]\n",
    "first_bb_dijet = first_bb_j1 + first_bb_j2\n",
    "\n",
    "second_bb_j1 = jets[np.arange(len(jets.pt)), second_bb_pair_sort[:, 0]]\n",
    "second_bb_j2 = jets[np.arange(len(jets.pt)), second_bb_pair_sort[:, 1]]\n",
    "second_bb_dijet = second_bb_j1 + second_bb_j2\n",
    "\n",
    "jetAssignmentDict = {\n",
    "    \"ak4DijetPt0\": first_bb_dijet.pt,\n",
    "    \"ak4DijetEta0\": first_bb_dijet.eta,\n",
    "    \"ak4DijetPhi0\": first_bb_dijet.phi,\n",
    "    \"ak4DijetMass0\": first_bb_dijet.mass,\n",
    "    \"ak4DijetPt1\": second_bb_dijet.pt,\n",
    "    \"ak4DijetEta1\": second_bb_dijet.eta,\n",
    "    \"ak4DijetPhi1\": second_bb_dijet.phi,\n",
    "    \"ak4DijetMass1\": second_bb_dijet.mass,\n",
    "    \"ak4DijetDeltaR\": first_bb_dijet.deltaR(second_bb_dijet),\n",
    "}"
   ]
  },
  {
   "cell_type": "code",
   "execution_count": 7,
   "metadata": {},
   "outputs": [
    {
     "data": {
      "text/html": [
       "<html>\n",
       "<div style=\"display:flex; align-items:center;\">\n",
       "<div style=\"width:290px;\">\n",
       "<svg xmlns=\"http://www.w3.org/2000/svg\" viewBox=\"-20 -270 290 290\">\n",
       "<text text-anchor=\"middle\" x=\"0\" y=\"13\" style=\"fill:currentColor;\">\n",
       "60\n",
       "</text>\n",
       "<text text-anchor=\"middle\" x=\"250\" y=\"13\" style=\"fill:currentColor;\">\n",
       "200\n",
       "</text>\n",
       "<text text-anchor=\"middle\" x=\"-10\" y=\"0\" style=\"fill:currentColor;\">\n",
       "0\n",
       "</text>\n",
       "<text text-anchor=\"middle\" x=\"-10\" y=\"-250\" style=\"fill:currentColor;\">\n",
       "2\n",
       "</text>\n",
       "<text text-anchor=\"middle\" x=\"125.0\" y=\"13\" style=\"fill:currentColor;\">\n",
       "Dijet Mass [GeV]\n",
       "</text>\n",
       "<text text-anchor=\"middle\" x=\"-10\" y=\"-125.0\" transform=\"rotate(-90,-10,-125.0)\" style=\"fill:currentColor;\">\n",
       "pair\n",
       "</text>\n",
       "<rect x=\"0.0\" y=\"-125.0\" width=\"12.5\" height=\"125.0\" opacity=\"0.14204545454545456\" fill=\"currentColor\" stroke-width=\"0.1\"/>\n",
       "<rect x=\"12.5\" y=\"-125.0\" width=\"12.5\" height=\"125.0\" opacity=\"0.17234848484848483\" fill=\"currentColor\" stroke-width=\"0.1\"/>\n",
       "<rect x=\"25.0\" y=\"-125.0\" width=\"12.5\" height=\"125.0\" opacity=\"0.19223484848484848\" fill=\"currentColor\" stroke-width=\"0.1\"/>\n",
       "<rect x=\"37.5\" y=\"-125.0\" width=\"12.5\" height=\"125.0\" opacity=\"0.2556818181818182\" fill=\"currentColor\" stroke-width=\"0.1\"/>\n",
       "<rect x=\"50.0\" y=\"-125.0\" width=\"12.5\" height=\"125.0\" opacity=\"0.3352272727272727\" fill=\"currentColor\" stroke-width=\"0.1\"/>\n",
       "<rect x=\"62.5\" y=\"-125.0\" width=\"12.5\" height=\"125.0\" opacity=\"0.47348484848484845\" fill=\"currentColor\" stroke-width=\"0.1\"/>\n",
       "<rect x=\"75.0\" y=\"-125.0\" width=\"12.5\" height=\"125.0\" opacity=\"0.5492424242424242\" fill=\"currentColor\" stroke-width=\"0.1\"/>\n",
       "<rect x=\"87.5\" y=\"-125.0\" width=\"12.5\" height=\"125.0\" opacity=\"0.7689393939393939\" fill=\"currentColor\" stroke-width=\"0.1\"/>\n",
       "<rect x=\"100.0\" y=\"-125.0\" width=\"12.5\" height=\"125.0\" opacity=\"1.0\" fill=\"currentColor\" stroke-width=\"0.1\"/>\n",
       "<rect x=\"112.5\" y=\"-125.0\" width=\"12.5\" height=\"125.0\" opacity=\"0.9848484848484848\" fill=\"currentColor\" stroke-width=\"0.1\"/>\n",
       "<rect x=\"125.0\" y=\"-125.0\" width=\"12.5\" height=\"125.0\" opacity=\"0.8011363636363635\" fill=\"currentColor\" stroke-width=\"0.1\"/>\n",
       "<rect x=\"137.5\" y=\"-125.0\" width=\"12.5\" height=\"125.0\" opacity=\"0.49526515151515155\" fill=\"currentColor\" stroke-width=\"0.1\"/>\n",
       "<rect x=\"150.0\" y=\"-125.0\" width=\"12.5\" height=\"125.0\" opacity=\"0.2859848484848485\" fill=\"currentColor\" stroke-width=\"0.1\"/>\n",
       "<rect x=\"162.5\" y=\"-125.0\" width=\"12.5\" height=\"125.0\" opacity=\"0.19791666666666666\" fill=\"currentColor\" stroke-width=\"0.1\"/>\n",
       "<rect x=\"175.0\" y=\"-125.0\" width=\"12.5\" height=\"125.0\" opacity=\"0.16477272727272727\" fill=\"currentColor\" stroke-width=\"0.1\"/>\n",
       "<rect x=\"187.5\" y=\"-125.0\" width=\"12.5\" height=\"125.0\" opacity=\"0.15151515151515152\" fill=\"currentColor\" stroke-width=\"0.1\"/>\n",
       "<rect x=\"200.0\" y=\"-125.0\" width=\"12.5\" height=\"125.0\" opacity=\"0.13825757575757577\" fill=\"currentColor\" stroke-width=\"0.1\"/>\n",
       "<rect x=\"212.5\" y=\"-125.0\" width=\"12.5\" height=\"125.0\" opacity=\"0.1221590909090909\" fill=\"currentColor\" stroke-width=\"0.1\"/>\n",
       "<rect x=\"225.0\" y=\"-125.0\" width=\"12.5\" height=\"125.0\" opacity=\"0.10321969696969698\" fill=\"currentColor\" stroke-width=\"0.1\"/>\n",
       "<rect x=\"237.5\" y=\"-125.0\" width=\"12.5\" height=\"125.0\" opacity=\"0.11458333333333333\" fill=\"currentColor\" stroke-width=\"0.1\"/>\n",
       "<rect x=\"0.0\" y=\"-250.0\" width=\"12.5\" height=\"125.0\" opacity=\"0.21875\" fill=\"currentColor\" stroke-width=\"0.1\"/>\n",
       "<rect x=\"12.5\" y=\"-250.0\" width=\"12.5\" height=\"125.0\" opacity=\"0.2528409090909091\" fill=\"currentColor\" stroke-width=\"0.1\"/>\n",
       "<rect x=\"25.0\" y=\"-250.0\" width=\"12.5\" height=\"125.0\" opacity=\"0.2850378787878788\" fill=\"currentColor\" stroke-width=\"0.1\"/>\n",
       "<rect x=\"37.5\" y=\"-250.0\" width=\"12.5\" height=\"125.0\" opacity=\"0.36174242424242425\" fill=\"currentColor\" stroke-width=\"0.1\"/>\n",
       "<rect x=\"50.0\" y=\"-250.0\" width=\"12.5\" height=\"125.0\" opacity=\"0.4479166666666667\" fill=\"currentColor\" stroke-width=\"0.1\"/>\n",
       "<rect x=\"62.5\" y=\"-250.0\" width=\"12.5\" height=\"125.0\" opacity=\"0.5643939393939393\" fill=\"currentColor\" stroke-width=\"0.1\"/>\n",
       "<rect x=\"75.0\" y=\"-250.0\" width=\"12.5\" height=\"125.0\" opacity=\"0.6439393939393939\" fill=\"currentColor\" stroke-width=\"0.1\"/>\n",
       "<rect x=\"87.5\" y=\"-250.0\" width=\"12.5\" height=\"125.0\" opacity=\"0.7566287878787878\" fill=\"currentColor\" stroke-width=\"0.1\"/>\n",
       "<rect x=\"100.0\" y=\"-250.0\" width=\"12.5\" height=\"125.0\" opacity=\"0.7575757575757576\" fill=\"currentColor\" stroke-width=\"0.1\"/>\n",
       "<rect x=\"112.5\" y=\"-250.0\" width=\"12.5\" height=\"125.0\" opacity=\"0.6704545454545454\" fill=\"currentColor\" stroke-width=\"0.1\"/>\n",
       "<rect x=\"125.0\" y=\"-250.0\" width=\"12.5\" height=\"125.0\" opacity=\"0.4895833333333333\" fill=\"currentColor\" stroke-width=\"0.1\"/>\n",
       "<rect x=\"137.5\" y=\"-250.0\" width=\"12.5\" height=\"125.0\" opacity=\"0.32386363636363635\" fill=\"currentColor\" stroke-width=\"0.1\"/>\n",
       "<rect x=\"150.0\" y=\"-250.0\" width=\"12.5\" height=\"125.0\" opacity=\"0.23863636363636362\" fill=\"currentColor\" stroke-width=\"0.1\"/>\n",
       "<rect x=\"162.5\" y=\"-250.0\" width=\"12.5\" height=\"125.0\" opacity=\"0.2130681818181818\" fill=\"currentColor\" stroke-width=\"0.1\"/>\n",
       "<rect x=\"175.0\" y=\"-250.0\" width=\"12.5\" height=\"125.0\" opacity=\"0.1856060606060606\" fill=\"currentColor\" stroke-width=\"0.1\"/>\n",
       "<rect x=\"187.5\" y=\"-250.0\" width=\"12.5\" height=\"125.0\" opacity=\"0.1553030303030303\" fill=\"currentColor\" stroke-width=\"0.1\"/>\n",
       "<rect x=\"200.0\" y=\"-250.0\" width=\"12.5\" height=\"125.0\" opacity=\"0.14867424242424243\" fill=\"currentColor\" stroke-width=\"0.1\"/>\n",
       "<rect x=\"212.5\" y=\"-250.0\" width=\"12.5\" height=\"125.0\" opacity=\"0.14393939393939392\" fill=\"currentColor\" stroke-width=\"0.1\"/>\n",
       "<rect x=\"225.0\" y=\"-250.0\" width=\"12.5\" height=\"125.0\" opacity=\"0.1534090909090909\" fill=\"currentColor\" stroke-width=\"0.1\"/>\n",
       "<rect x=\"237.5\" y=\"-250.0\" width=\"12.5\" height=\"125.0\" opacity=\"0.12878787878787878\" fill=\"currentColor\" stroke-width=\"0.1\"/>\n",
       "</svg>\n",
       "</div>\n",
       "<div style=\"flex=grow:1;\">\n",
       "Regular(20, 60, 200, name='dijet_mass', label='Dijet Mass [GeV]')<br/>\n",
       "StrCategory(['0', '1'], growth=True, name='pair')<br/>\n",
       "<hr style=\"margin-top:.2em; margin-bottom:.2em;\"/>\n",
       "Double() Σ=15406.0 <em>(20000.0 with flow)</em>\n",
       "\n",
       "</div>\n",
       "</div>\n",
       "</html>"
      ],
      "text/plain": [
       "Hist(\n",
       "  Regular(20, 60, 200, name='dijet_mass', label='Dijet Mass [GeV]'),\n",
       "  StrCategory(['0', '1'], growth=True, name='pair'),\n",
       "  storage=Double()) # Sum: 15406.0 (20000.0 with flow)"
      ]
     },
     "execution_count": 7,
     "metadata": {},
     "output_type": "execute_result"
    }
   ],
   "source": [
    "import matplotlib.pyplot as plt\n",
    "import hist\n",
    "\n",
    "dijet_mass_axis = hist.axis.Regular(20, 60, 200, name=\"dijet_mass\", label=\"Dijet Mass [GeV]\")\n",
    "pair_axis = hist.axis.StrCategory([], name=\"pair\", growth=True)\n",
    "\n",
    "h = hist.Hist(dijet_mass_axis, pair_axis)\n",
    "h.fill(dijet_mass=jetAssignmentDict[\"ak4DijetMass0\"], pair=\"0\")\n",
    "h.fill(dijet_mass=jetAssignmentDict[\"ak4DijetMass1\"], pair=\"1\")"
   ]
  },
  {
   "cell_type": "code",
   "execution_count": 8,
   "metadata": {},
   "outputs": [
    {
     "data": {
      "text/plain": [
       "[StairsArtists(stairs=<matplotlib.patches.StepPatch object at 0x7f254f665940>, errorbar=<ErrorbarContainer object of 3 artists>, legend_artist=<ErrorbarContainer object of 3 artists>)]"
      ]
     },
     "execution_count": 8,
     "metadata": {},
     "output_type": "execute_result"
    },
    {
     "data": {
      "image/png": "[encoded data removed]",
      "text/plain": [
       "<Figure size 640x480 with 1 Axes>"
      ]
     },
     "metadata": {},
     "output_type": "display_data"
    }
   ],
   "source": [
    "import mplhep\n",
    "\n",
    "mplhep.histplot(h[{\"pair\": \"0\"}])\n",
    "mplhep.histplot(h[{\"pair\": \"1\"}])"
   ]
  },
  {
   "cell_type": "code",
   "execution_count": 9,
   "metadata": {},
   "outputs": [
    {
     "data": {
      "text/plain": [
       "[StairsArtists(stairs=<matplotlib.patches.StepPatch object at 0x7f254c666100>, errorbar=<ErrorbarContainer object of 3 artists>, legend_artist=<ErrorbarContainer object of 3 artists>)]"
      ]
     },
     "execution_count": 9,
     "metadata": {},
     "output_type": "execute_result"
    },
    {
     "data": {
      "image/png": "[encoded data removed]",
      "text/plain": [
       "<Figure size 640x480 with 1 Axes>"
      ]
     },
     "metadata": {},
     "output_type": "display_data"
    }
   ],
   "source": [
    "dijet_pt_axis = hist.axis.Regular(20, 0, 1000, name=\"dijet_pt\", label=\"Dijet Pt [GeV]\")\n",
    "pair_axis = hist.axis.StrCategory([], name=\"pair\", growth=True)\n",
    "\n",
    "h = hist.Hist(dijet_pt_axis, pair_axis)\n",
    "h.fill(dijet_pt=jetAssignmentDict[\"ak4DijetPt0\"], pair=\"0\")\n",
    "h.fill(dijet_pt=jetAssignmentDict[\"ak4DijetPt1\"], pair=\"1\")\n",
    "\n",
    "mplhep.histplot(h[{\"pair\": \"0\"}])\n",
    "mplhep.histplot(h[{\"pair\": \"1\"}])"
   ]
  },
  {
   "cell_type": "code",
   "execution_count": 10,
   "metadata": {},
   "outputs": [
    {
     "data": {
      "text/plain": [
       "array([121.12994839,  52.54989542,  85.45180898, ..., 130.62165802,\n",
       "       105.71452172, 132.26739094])"
      ]
     },
     "execution_count": 10,
     "metadata": {},
     "output_type": "execute_result"
    }
   ],
   "source": [
    "jetAssignmentDict[\"ak4DijetPt0\"]"
   ]
  },
  {
   "cell_type": "code",
   "execution_count": 11,
   "metadata": {},
   "outputs": [
    {
     "data": {
      "text/plain": [
       "array([ 18.08726126,  51.7334611 ,  23.73286696, ...,  24.08015168,\n",
       "        95.43987159, 130.40055885])"
      ]
     },
     "execution_count": 11,
     "metadata": {},
     "output_type": "execute_result"
    }
   ],
   "source": [
    "jetAssignmentDict[\"ak4DijetPt1\"]"
   ]
  },
  {
   "cell_type": "code",
   "execution_count": 12,
   "metadata": {},
   "outputs": [
    {
     "data": {
      "text/plain": [
       "array([1.21828924, 7.08352325, 5.91422441, ..., 1.98211621, 3.35686714,\n",
       "       2.89492679])"
      ]
     },
     "execution_count": 12,
     "metadata": {},
     "output_type": "execute_result"
    }
   ],
   "source": [
    "jetAssignmentDict[\"ak4DijetDeltaR\"]"
   ]
  },
  {
   "cell_type": "code",
   "execution_count": 13,
   "metadata": {},
   "outputs": [
    {
     "data": {
      "text/plain": [
       "[StairsArtists(stairs=<matplotlib.patches.StepPatch object at 0x7f254c63d700>, errorbar=<ErrorbarContainer object of 3 artists>, legend_artist=<ErrorbarContainer object of 3 artists>)]"
      ]
     },
     "execution_count": 13,
     "metadata": {},
     "output_type": "execute_result"
    },
    {
     "data": {
      "image/png": "[encoded data removed]",
      "text/plain": [
       "<Figure size 640x480 with 1 Axes>"
      ]
     },
     "metadata": {},
     "output_type": "display_data"
    }
   ],
   "source": [
    "deltar_axis = hist.axis.Regular(20, 0, 5, name=\"deltar\", label=r\"$\\Delta$ R (jj, jj)\")\n",
    "\n",
    "h = hist.Hist(deltar_axis)\n",
    "h.fill(deltar=jetAssignmentDict[\"ak4DijetDeltaR\"])\n",
    "\n",
    "h.plot1d(lw=2)"
   ]
  },
  {
   "cell_type": "markdown",
   "metadata": {},
   "source": [
    "## Next steps\n",
    "1. Change code so that  `first_bb_dijet` and `second_bb_dijet` are actually the dijet with leading pt and second leading pt respectively (right now, they are most of the time but not always)\n",
    "2. Compare mass reconstruction with chi2 and dhh method"
   ]
  },
  {
   "cell_type": "markdown",
   "metadata": {},
   "source": []
  },
  {
   "cell_type": "code",
   "execution_count": null,
   "metadata": {},
   "outputs": [],
   "source": []
  }
 ],
 "metadata": {
  "kernelspec": {
   "display_name": "Python 3 (ipykernel)",
   "language": "python",
   "name": "python3"
  },
  "language_info": {
   "codemirror_mode": {
    "name": "ipython",
    "version": 3
   },
   "file_extension": ".py",
   "mimetype": "text/x-python",
   "name": "python",
   "nbconvert_exporter": "python",
   "pygments_lexer": "ipython3",
   "version": "3.9.18"
  }
 },
 "nbformat": 4,
 "nbformat_minor": 4
}
