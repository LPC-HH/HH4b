{
 "cells": [
  {
   "cell_type": "code",
   "execution_count": null,
   "metadata": {},
   "outputs": [],
   "source": [
    "import uproot\n",
    "import os\n",
    "import pickle\n",
    "import coffea\n",
    "from coffea import nanoevents\n",
    "from coffea.lookup_tools.dense_lookup import dense_lookup\n",
    "import numpy as np\n",
    "import awkward as ak\n",
    "import pandas as pd"
   ]
  },
  {
   "cell_type": "code",
   "execution_count": null,
   "metadata": {},
   "outputs": [],
   "source": [
    "MAIN_DIR = \"../../../\"\n",
    "\n",
    "plot_dir = f\"{MAIN_DIR}/plots/v11v12Checks/23Nov10\"\n",
    "_ = os.system(f\"mkdir -p {plot_dir}\")"
   ]
  },
  {
   "cell_type": "code",
   "execution_count": null,
   "metadata": {},
   "outputs": [],
   "source": [
    "paths = {\n",
    "    \"v11\": {\n",
    "        \"qcd\": \"root://cmsdcadisk.fnal.gov//dcache/uscmsdisk/store/mc/Run3Summer22EENanoAODv11/QCD-4Jets_HT-2000_TuneCP5_13p6TeV_madgraphMLM-pythia8/NANOAODSIM/126X_mcRun3_2022_realistic_postEE_v1-v2/2810000/02d3ed0c-74c1-464d-bff9-8345ae4a6dd5.root\",\n",
    "        \"hh4b\": \"root://cmsdcadisk.fnal.gov//dcache/uscmsdisk/store/mc/Run3Summer22EENanoAODv10/GluGlutoHHto4B_kl-1p00_kt-1p00_c2-0p00_TuneCP5_13p6TeV_powheg-pythia8/NANOAODSIM/Poisson60KeepRAW_124X_mcRun3_2022_realistic_postEE_v1-v2/2540000/46c288ba-4f36-450b-9108-8070eca82d95.root\",\n",
    "        \"data\": \"root://cmsdcadisk.fnal.gov//dcache/uscmsdisk/store/data/Run2022F/JetMET/NANOAOD/PromptNanoAODv11_v1-v2/2540000/02b8ddba-9103-4801-bb74-cab4d1fcc6ca.root\"\n",
    "    },\n",
    "    \"v12\": {\n",
    "        \"qcd\": \"root://storage01.lcg.cscs.ch:1096//pnfs/lcg.cscs.ch/cms/trivcat//store/mc/Run3Summer22EENanoAODv12/QCD-4Jets_HT-2000_TuneCP5_13p6TeV_madgraphMLM-pythia8/NANOAODSIM/130X_mcRun3_2022_realistic_postEE_v6-v2/2520000/05e001cc-8902-4fa0-b706-98fc89013dc2.root\",\n",
    "        \"hh4b\": 'root://cmsdcadisk.fnal.gov//dcache/uscmsdisk/store/mc/Run3Summer22EENanoAODv12/GluGlutoHHto4B_kl-1p00_kt-1p00_c2-0p00_TuneCP5_13p6TeV_powheg-pythia8/NANOAODSIM/Poisson60KeepRAW_130X_mcRun3_2022_realistic_postEE_v6-v2/2540000/00d98799-ada3-4a26-8558-5052891a8d23.root',\n",
    "        \"data\": 'root://cmsdcadisk.fnal.gov//dcache/uscmsdisk/store/data/Run2022E/JetMET/NANOAOD/22Sep2023-v1/30000/002cde4c-efa1-430d-b651-61b6dff4d208.root'\n",
    "    }\n",
    "}"
   ]
  },
  {
   "cell_type": "code",
   "execution_count": null,
   "metadata": {},
   "outputs": [],
   "source": [
    "events_dict = {\n",
    "    v: {\n",
    "        key: nanoevents.NanoEventsFactory.from_root(\n",
    "                 path, schemaclass=nanoevents.NanoAODSchema\n",
    "             ).events() for key, path in paths[v].items()\n",
    "    } for v in paths\n",
    "}"
   ]
  },
  {
   "cell_type": "code",
   "execution_count": null,
   "metadata": {},
   "outputs": [],
   "source": [
    "import sys"
   ]
  },
  {
   "cell_type": "code",
   "execution_count": null,
   "metadata": {},
   "outputs": [],
   "source": [
    "sys.getsizeof(events_dict[\"v11\"][\"qcd\"])"
   ]
  },
  {
   "cell_type": "code",
   "execution_count": null,
   "metadata": {},
   "outputs": [],
   "source": [
    "ak.count(events_dict[\"v11\"][\"qcd\"].Muon.pt, axis=1)"
   ]
  },
  {
   "cell_type": "code",
   "execution_count": null,
   "metadata": {},
   "outputs": [],
   "source": [
    "plt.hist(ak.count(events_dict[\"v11\"][\"qcd\"][:157660].Muon.pt, axis=1), histtype='step')\n",
    "plt.hist(ak.count(events_dict[\"v12\"][\"qcd\"][:157660].Muon.pt, axis=1), histtype='step')"
   ]
  },
  {
   "cell_type": "code",
   "execution_count": null,
   "metadata": {},
   "outputs": [],
   "source": [
    "qcdv11_events.FatJet.pt"
   ]
  },
  {
   "cell_type": "code",
   "execution_count": null,
   "metadata": {},
   "outputs": [],
   "source": [
    "qcdv12_events.FatJet.pt"
   ]
  },
  {
   "cell_type": "code",
   "execution_count": null,
   "metadata": {},
   "outputs": [],
   "source": [
    "import matplotlib.pyplot as plt\n",
    "\n",
    "bins = np.linspace(0, 2000, 31)\n",
    "plt.hist(qcdv11_events.FatJet.pt[:, 0:1], bins=bins, histtype='step', density=True)\n",
    "plt.hist(qcdv12_events.FatJet.pt[:, 0:1], bins=bins, histtype='step', density=True)\n",
    "plt.show()"
   ]
  },
  {
   "cell_type": "code",
   "execution_count": null,
   "metadata": {},
   "outputs": [],
   "source": [
    "bins = np.linspace(0, 300, 31)\n",
    "plt.hist(qcdv11_events.FatJet.msoftdrop[:, 0:1], bins=bins, histtype='step', density=True)\n",
    "plt.hist(qcdv12_events.FatJet.msoftdrop[:, 0:1], bins=bins, histtype='step', density=True)\n",
    "plt.show()"
   ]
  },
  {
   "cell_type": "code",
   "execution_count": null,
   "metadata": {},
   "outputs": [],
   "source": [
    "events_dict"
   ]
  },
  {
   "cell_type": "code",
   "execution_count": null,
   "metadata": {},
   "outputs": [],
   "source": [
    "pnet_masses = {\"v11\": {key: events.FatJet.particleNet_mass[:, 0:1] for key, events in events_dict[\"v11\"].items()}}\n",
    "pnet_masses[\"v12 JEC Mass\"] = {\n",
    "    key: (events.FatJet.mass * events.FatJet.particleNet_massCorr)[:, 0:1] for key, events in events_dict[\"v12\"].items()\n",
    "}\n",
    "pnet_masses[\"v12 Raw Mass\"] = {\n",
    "    key: (events.FatJet.mass * (1 - events.FatJet.rawFactor) * events.FatJet.particleNet_massCorr)[:, 0:1] for key, events in events_dict[\"v12\"].items()\n",
    "}"
   ]
  },
  {
   "cell_type": "code",
   "execution_count": null,
   "metadata": {},
   "outputs": [],
   "source": [
    "import matplotlib.pyplot as plt\n",
    "import mplhep as hep\n",
    "import matplotlib.ticker as mticker\n",
    "\n",
    "hep.style.use(\"CMS\")\n",
    "\n",
    "formatter = mticker.ScalarFormatter(useMathText=True)\n",
    "formatter.set_powerlimits((-3, 3))\n",
    "plt.rcParams[\"lines.linewidth\"] = 2\n",
    "plt.rcParams[\"grid.color\"] = \"#CCCCCC\"\n",
    "plt.rcParams[\"grid.linewidth\"] = 0.5\n",
    "plt.rcParams[\"figure.edgecolor\"] = \"none\"\n",
    "\n",
    "labels = {\n",
    "    \"qcd\": \"QCD-HT2000\",\n",
    "    \"hh4b\": \"ggF HH4b\",\n",
    "    \"data\": \"Data\",\n",
    "}"
   ]
  },
  {
   "cell_type": "code",
   "execution_count": null,
   "metadata": {},
   "outputs": [],
   "source": [
    "bins = np.linspace(0, 300, 31)\n",
    "\n",
    "for key in pnet_masses[\"v11\"]:\n",
    "    bins = np.linspace(0, 300, 31) if key == \"qcd\" else np.linspace(0, 200, 31)\n",
    "    fig, ax = plt.subplots(1, 1, figsize=(12, 12))\n",
    "    plt.rcParams.update({\"font.size\": 24})\n",
    "    for v, samples in pnet_masses.items():\n",
    "        masses = samples[key]\n",
    "        ax.hist(ak.flatten(masses), bins=bins, histtype='step', density=True, label=v)\n",
    "\n",
    "    ax.set_title(labels[key], x=0.45)\n",
    "    ax.legend()\n",
    "    hep.cms.label(data=True, label=\"Internal\", year=\"2022EE\", lumi=\"21\")\n",
    "    plt.savefig(f\"{plot_dir}/{key}.pdf\", bbox_inches=\"tight\")\n",
    "    plt.show()"
   ]
  },
  {
   "cell_type": "code",
   "execution_count": null,
   "metadata": {},
   "outputs": [],
   "source": [
    "bins = np.linspace(0, 300, 31)\n",
    "plt.hist(qcdv11_events.FatJet.particleNet_mass[:, 0:1], bins=bins, histtype='step', density=True, label=\"v11\")\n",
    "plt.hist((qcdv12_events.FatJet.mass * qcdv12_events.FatJet.particleNet_massCorr)[:, 0:1], bins=bins, histtype='step', density=True, label=\"v12\")\n",
    "plt.xlabel(\"ParticleNet Mass\")\n",
    "plt.legend()\n",
    "plt.show()"
   ]
  }
 ],
 "metadata": {
  "kernelspec": {
   "display_name": "bbVV",
   "language": "python",
   "name": "python3"
  },
  "language_info": {
   "codemirror_mode": {
    "name": "ipython",
    "version": 3
   },
   "file_extension": ".py",
   "mimetype": "text/x-python",
   "name": "python",
   "nbconvert_exporter": "python",
   "pygments_lexer": "ipython3",
   "version": "3.10.4"
  }
 },
 "nbformat": 4,
 "nbformat_minor": 2
}
