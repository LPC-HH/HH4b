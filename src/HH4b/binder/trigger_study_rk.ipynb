{
 "cells": [
  {
   "cell_type": "code",
   "execution_count": 12,
   "metadata": {},
   "outputs": [],
   "source": [
    "import coffea\n",
    "from hist import Hist\n",
    "from hist.intervals import clopper_pearson_interval\n",
    "\n",
    "from os import listdir\n",
    "from pathlib import Path\n",
    "from typing import Union, List\n",
    "import pandas as pd\n",
    "import numpy as np\n",
    "\n",
    "import math\n",
    "from HH4b import utils, hh_vars\n",
    "from HH4b.utils import ShapeVar\n",
    "\n",
    "import os\n",
    "\n",
    "import matplotlib.pyplot as plt\n",
    "import mplhep as hep\n",
    "\n",
    "plt.rcParams.update({\"font.size\": 24})\n",
    "plt.style.use(hep.style.CMS)"
   ]
  },
  {
   "cell_type": "code",
   "execution_count": 15,
   "metadata": {},
   "outputs": [],
   "source": [
    "# automatically reloads imported files on edits\n",
    "%load_ext autoreload\n",
    "%autoreload 2"
   ]
  },
  {
   "cell_type": "code",
   "execution_count": 7,
   "metadata": {},
   "outputs": [],
   "source": [
    "MAIN_DIR = \"../../../\"\n",
    "\n",
    "plot_dir = Path(f\"{MAIN_DIR}/plots/Triggers/23Nov11\")\n",
    "plot_dir.mkdir(parents=True, exist_ok=True)"
   ]
  },
  {
   "cell_type": "markdown",
   "metadata": {},
   "source": [
    "## Load Data"
   ]
  },
  {
   "cell_type": "code",
   "execution_count": 67,
   "metadata": {},
   "outputs": [],
   "source": [
    "LUMI = {\n",
    "    \"2022\": 7.97,\n",
    "    \"2022EE\": 26.3,\n",
    "}"
   ]
  },
  {
   "cell_type": "code",
   "execution_count": 26,
   "metadata": {},
   "outputs": [],
   "source": [
    "# year = \"2022\"\n",
    "# year = \"2022EE-noE\"\n",
    "year = \"2022EE\"\n",
    "\n",
    "data_dir = f\"/eos/uscms/store/user/cmantill/bbbb/trigger_boosted/Aug15/\"\n",
    "# data_dir = f\"/eos/uscms/store/user/cmantill/bbbb/trigger_boosted/Nov7_v12/\"\n",
    "\n",
    "samples = {\n",
    "    \"2022EE\": {\n",
    "        \"data\": [\"Run2022E\", \"Run2022F\", \"Run2022G\"],\n",
    "        \"ttbar\": [\"TTtoLNu2Q\"],\n",
    "    },\n",
    "    \"2022EE-noE\": {\n",
    "        \"data\": [\"Run2022F\", \"Run2022G\"],\n",
    "        \"ttbar\": [\"TTtoLNu2Q\"],\n",
    "    },\n",
    "    \"2022\": {\n",
    "        \"data\": [\"Run2022C_single\", \"Run2022C\", \"Run2022D\"],\n",
    "        \"ttbar\": [\"TTtoLNu2Q\"],\n",
    "    },\n",
    "}[year]\n",
    "\n",
    "y = year\n",
    "if year == \"2022EE-noE\":\n",
    "    y = \"2022EE\""
   ]
  },
  {
   "cell_type": "code",
   "execution_count": 31,
   "metadata": {},
   "outputs": [],
   "source": [
    "# columns to load\n",
    "# the parquet files are too big so we can only load a few columns at a time without consumming much memory\n",
    "load_columns = [\n",
    "    (\"ak8FatJetPt\", 1),\n",
    "    (\"ak8FatJetPNetXbb\", 1),\n",
    "    (\"ak8FatJetMsd\", 1),\n",
    "    (\"AK8PFJet250_SoftDropMass40_PFAK8ParticleNetBB0p35\", 1),\n",
    "    (\"AK8PFJet425_SoftDropMass40\", 1),\n",
    "]"
   ]
  },
  {
   "cell_type": "code",
   "execution_count": 32,
   "metadata": {},
   "outputs": [
    {
     "name": "stdout",
     "output_type": "stream",
     "text": [
      "Loaded Run2022E                                          : 205074 entries\n",
      "Loaded Run2022F                                          : 916121 entries\n",
      "Loaded Run2022G                                          : 176783 entries\n",
      "Loaded TTtoLNu2Q                                         : 6880444 entries\n"
     ]
    }
   ],
   "source": [
    "full_samples_list = listdir(f\"{data_dir}/{y}\")\n",
    "events_dict = {}\n",
    "for label, selector in samples.items():\n",
    "    events_dict[label] = []\n",
    "    for sample in full_samples_list:\n",
    "        if not utils.check_selector(sample, selector):\n",
    "            continue\n",
    "        if not Path(f\"{data_dir}/{y}/{sample}/parquet\").exists():\n",
    "            print(f\"No parquet file for {sample}\")\n",
    "            continue\n",
    "\n",
    "        events = pd.read_parquet(\n",
    "            f\"{data_dir}/{y}/{sample}/parquet\", columns=utils.format_columns(load_columns)\n",
    "        )\n",
    "        not_empty = len(events) > 0\n",
    "        if not_empty:\n",
    "            events_dict[label].append(events)\n",
    "\n",
    "        print(f\"Loaded {sample: <50}: {len(events)} entries\")\n",
    "\n",
    "    if len(events_dict[label]):\n",
    "        events_dict[label] = pd.concat(events_dict[label])\n",
    "    else:\n",
    "        del events_dict[label]"
   ]
  },
  {
   "cell_type": "markdown",
   "metadata": {},
   "source": [
    "## Fill Histograms"
   ]
  },
  {
   "cell_type": "markdown",
   "metadata": {},
   "source": [
    "Histogram variables"
   ]
  },
  {
   "cell_type": "code",
   "execution_count": 87,
   "metadata": {},
   "outputs": [],
   "source": [
    "mass_bins = [11, 20, 240]\n",
    "pt_bins = [250, 275, 300, 325, 350, 375, 400, 450, 500, 600, 800]\n",
    "txbb_bins = [0.0, 0.8, 0.95, 0.98, 1.0]\n",
    "\n",
    "shape_vars = {\n",
    "    # \"mreg\": ShapeVar(var=\"mreg\", label=r\"AK8 Jet Regressed Mass (GeV)\", bins=mass_bins),\n",
    "    \"msd\": ShapeVar(var=\"msd\", label=r\"AK8 Jet SD Mass (GeV)\", bins=mass_bins, reg=True),\n",
    "    \"pt\": ShapeVar(var=\"pt\", label=r\"AK8 Jet $p_T$ (GeV)\", bins=pt_bins, reg=False),\n",
    "    \"txbb\": ShapeVar(var=\"txbb\", label=r\"AK8 Jet $T_{Xbb}$\", bins=txbb_bins, reg=False),\n",
    "}\n",
    "\n",
    "base_hist = Hist(*[shape_var.axis for shape_var in shape_vars.values()], storage=\"Double\")"
   ]
  },
  {
   "cell_type": "markdown",
   "metadata": {},
   "source": [
    "Triggers"
   ]
  },
  {
   "cell_type": "code",
   "execution_count": 88,
   "metadata": {},
   "outputs": [],
   "source": [
    "from dataclasses import dataclass\n",
    "from numpy.typing import ArrayLike\n",
    "\n",
    "\n",
    "@dataclass\n",
    "class Trigger:\n",
    "    name: str\n",
    "    label: str\n",
    "\n",
    "\n",
    "@dataclass\n",
    "class TriggerSet:\n",
    "    triggers: list[Trigger]\n",
    "\n",
    "    def __post_init__(self):\n",
    "        self.label = \" | \".join([trigger.label for trigger in self.triggers])\n",
    "\n",
    "    def get_sel(self, events: pd.DataFrame) -> ArrayLike:\n",
    "        \"\"\"Return boolean selection\"\"\"\n",
    "        return (\n",
    "            np.sum([events[trigger.name] for trigger in self.triggers], axis=0)\n",
    "            .squeeze()\n",
    "            .astype(bool)\n",
    "        )"
   ]
  },
  {
   "cell_type": "code",
   "execution_count": 89,
   "metadata": {},
   "outputs": [],
   "source": [
    "triggers = {\n",
    "    \"BoostedJet\": Trigger(name=\"AK8PFJet425_SoftDropMass40\", label=\"PFJet425_MSD40\"),\n",
    "    \"BoostedHbb\": Trigger(\n",
    "        name=\"AK8PFJet250_SoftDropMass40_PFAK8ParticleNetBB0p35\", label=\"PFJet250_MSD40_Xbb0p35\"\n",
    "    ),\n",
    "}\n",
    "\n",
    "# triggers and combinations of triggers whose efficiency we're measuring\n",
    "trigger_dict = {\n",
    "    # first save each individual trigger\n",
    "    **{key: TriggerSet([trigger]) for key, trigger in triggers.items()},\n",
    "    # combinations\n",
    "    \"BoostedJetHbb\": TriggerSet([triggers[\"BoostedJet\"], triggers[\"BoostedHbb\"]]),\n",
    "}"
   ]
  },
  {
   "cell_type": "markdown",
   "metadata": {},
   "source": [
    "Fill"
   ]
  },
  {
   "cell_type": "code",
   "execution_count": 90,
   "metadata": {},
   "outputs": [],
   "source": [
    "fill_events = {\n",
    "    \"data\": f\"Data\",\n",
    "    \"ttbar\": r\"$t\\bar{t}$\",\n",
    "}\n",
    "\n",
    "hists = {}\n",
    "\n",
    "for ev_key, ev_label in fill_events.items():\n",
    "    hists[ev_key] = h = {}\n",
    "\n",
    "    events = events_dict[ev_key]\n",
    "    sel = (events[\"ak8FatJetPt\"][0].to_numpy() >= 250) & (\n",
    "        events[\"ak8FatJetMsd\"][0].to_numpy() >= 20\n",
    "    )\n",
    "    events = events[sel]\n",
    "\n",
    "    fill_vars = {\n",
    "        \"msd\": events[\"ak8FatJetMsd\"][0],\n",
    "        \"pt\": events[\"ak8FatJetPt\"][0],\n",
    "        \"txbb\": events[\"ak8FatJetPNetXbb\"][0],\n",
    "    }\n",
    "\n",
    "    # denominator (i.e. all events passing pre-selection)\n",
    "    h[\"den\"] = base_hist.copy().fill(**fill_vars)\n",
    "\n",
    "    # fill for each set of triggers\n",
    "    for trigger_key, trigger_set in trigger_dict.items():\n",
    "        trig_sel = trigger_set.get_sel(events)\n",
    "        h[trigger_key] = base_hist.copy().fill(\n",
    "            **{key: var[trig_sel] for key, var in fill_vars.items()}\n",
    "        )\n",
    "        h[f\"{trigger_key}_effs\"] = h[trigger_key] / h[\"den\"]\n",
    "        # TODO: save errors from Clopper Pearson as well"
   ]
  },
  {
   "cell_type": "markdown",
   "metadata": {},
   "source": [
    "## Plotting"
   ]
  },
  {
   "cell_type": "code",
   "execution_count": 118,
   "metadata": {},
   "outputs": [],
   "source": [
    "def mesh2d(\n",
    "    xbins,\n",
    "    ybins,\n",
    "    vals,\n",
    "    year,\n",
    "    vmax=1,\n",
    "    ax=None,\n",
    "    title=None,\n",
    "    title_params=None,\n",
    "    xlabel=\"AK8 Jet SD Mass [GeV]\",\n",
    "    ylabel=r\"AK8 Jet $p_T$ [GeV]\",\n",
    "    plot_dir=\"\",\n",
    "    name=\"\",\n",
    "    show=False,\n",
    "    data=True,\n",
    "    fontsize=28,\n",
    "):\n",
    "    \"\"\"Plot 2D trigger efficiencies\"\"\"\n",
    "    if ax is None:\n",
    "        in_ax = False\n",
    "        fig, ax = plt.subplots(1, 1, figsize=(18, 17))\n",
    "    else:\n",
    "        in_ax = True\n",
    "\n",
    "    mesh = ax.pcolormesh(xbins, ybins, vals.T, cmap=\"turbo\", vmin=0, vmax=vmax)\n",
    "    for i in range(len(ybins) - 1):\n",
    "        for j in range(len(xbins) - 1):\n",
    "            if not math.isnan(vals[j, i]):\n",
    "                ax.text(\n",
    "                    (xbins[j] + xbins[j + 1]) / 2,\n",
    "                    (ybins[i] + ybins[i + 1]) / 2,\n",
    "                    vals[j, i].round(2),\n",
    "                    color=\"black\" if 0.1 * vmax < vals[j, i] < 0.9 * vmax else \"white\",\n",
    "                    ha=\"center\",\n",
    "                    va=\"center\",\n",
    "                    fontsize=fontsize,\n",
    "                )\n",
    "\n",
    "    title_params = {\"x\": 0.35, \"y\": 1.005} if title_params is None else title_params\n",
    "    ax.set_title(title, **title_params)\n",
    "    ax.set_xlabel(xlabel)\n",
    "    ax.set_ylabel(ylabel)\n",
    "    \n",
    "    hep.cms.label(ax=ax, data=data, year=year, lumi=int(LUMI[year]), com=\"13.6\")\n",
    "\n",
    "    if in_ax:\n",
    "        return mesh\n",
    "    else:\n",
    "        fig.colorbar(mesh, ax=ax, pad=0.01)\n",
    "\n",
    "        if len(name):\n",
    "            plt.savefig(f\"{plot_dir}/{name}.pdf\", bbox_inches=\"tight\")\n",
    "\n",
    "        if show:\n",
    "            plt.show()\n",
    "        else:\n",
    "            plt.close()\n",
    "\n",
    "\n",
    "def plot_all_wrapper(tbins, xbins, ybins, w, year, plot_dir, name, vmax=1, bins=\"txbb\"):\n",
    "    \"\"\"Wrapper for plotting efficiencies in all 4 Txbb bins\"\"\"\n",
    "    plt.rcParams.update({\"font.size\": 36})\n",
    "    fig, axs = plt.subplots(2, 2, figsize=(18 * 2, 17 * 2), constrained_layout=True)\n",
    "\n",
    "    for k in range(4):\n",
    "        row = k // 2\n",
    "        col = k % 2\n",
    "        ax = axs[row][col]\n",
    "\n",
    "        match bins:\n",
    "            case \"txbb\":\n",
    "                title = rf\"{tbins[k]:.2f} < $T_{{Xbb}}$ < {tbins[k + 1]:.2f}\"\n",
    "            case \"pt\":\n",
    "                title = rf\"{tbins[k]:.0f} < Jet 2 $p_T$ < {tbins[k + 1]:.0f} GeV\"\n",
    "\n",
    "        mesh = mesh2d(xbins, ybins, w[..., k], year, vmax=vmax, ax=ax, title=title, fontsize=28)\n",
    "\n",
    "    for i in range(2):\n",
    "        fig.colorbar(mesh, ax=axs[i].ravel().tolist(), pad=0.01)\n",
    "\n",
    "    plt.savefig(f\"{plot_dir}/{name}.pdf\", bbox_inches=\"tight\")"
   ]
  },
  {
   "cell_type": "markdown",
   "metadata": {},
   "source": [
    "### 2D Plots"
   ]
  },
  {
   "cell_type": "markdown",
   "metadata": {},
   "source": [
    "All txbb bins"
   ]
  },
  {
   "cell_type": "code",
   "execution_count": 125,
   "metadata": {},
   "outputs": [],
   "source": [
    "for ev_key, ev_label in fill_events.items():\n",
    "    for trigger_key in trigger_dict:\n",
    "        w, msdbins, ptbins, txbbbins = hists[ev_key][f\"{trigger_key}_effs\"].to_numpy()\n",
    "        # plot_all_wrapper(txbbbins, msdbins, ptbins, w, year, plot_dir, f\"{year}_all_txbb_{ev_key}_{trigger_key}\")\n",
    "        # plt.close()\n",
    "\n",
    "        for k in range(4):\n",
    "            mesh2d(\n",
    "                msdbins,\n",
    "                ptbins,\n",
    "                w[..., k],\n",
    "                year,\n",
    "                plot_dir=plot_dir,\n",
    "                name=f\"{year}_txbb_{txbb_bins[k]}_{ev_key}_{trigger_key}\",\n",
    "                title=rf\"{txbbbins[k]:.2f} < $T_{{Xbb}}$ < {txbbbins[k + 1]:.2f}\",\n",
    "                title_params={\"x\": 0.315, \"y\": 1.007, \"fontsize\": 36},\n",
    "                show=False,\n",
    "            )\n",
    "    #         break\n",
    "    #     break\n",
    "    # break"
   ]
  },
  {
   "cell_type": "markdown",
   "metadata": {},
   "source": [
    "Sum over txbb"
   ]
  },
  {
   "cell_type": "code",
   "execution_count": 104,
   "metadata": {},
   "outputs": [],
   "source": [
    "for ev_key, ev_label in fill_events.items():\n",
    "    den = hists[ev_key][\"den\"][..., sum]\n",
    "    for trigger_key in trigger_dict:\n",
    "        num = hists[ev_key][trigger_key][..., sum]\n",
    "        effs = num / den\n",
    "        w, msdbins, ptbins = effs.to_numpy()\n",
    "        mesh2d(\n",
    "            msdbins,\n",
    "            ptbins,\n",
    "            w,\n",
    "            year,\n",
    "            plot_dir=plot_dir,\n",
    "            name=f\"{year}_sum_txbb_{ev_key}_{trigger_key}\",\n",
    "            show=False,\n",
    "        )\n",
    "    #     break\n",
    "    # break"
   ]
  }
 ],
 "metadata": {
  "kernelspec": {
   "display_name": "coffea-env",
   "language": "python",
   "name": "python3"
  },
  "language_info": {
   "codemirror_mode": {
    "name": "ipython",
    "version": 3
   },
   "file_extension": ".py",
   "mimetype": "text/x-python",
   "name": "python",
   "nbconvert_exporter": "python",
   "pygments_lexer": "ipython3",
   "version": "3.10.4"
  },
  "orig_nbformat": 4
 },
 "nbformat": 4,
 "nbformat_minor": 2
}
