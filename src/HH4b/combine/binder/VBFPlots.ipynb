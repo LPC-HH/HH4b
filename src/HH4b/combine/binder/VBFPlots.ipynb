{
 "cells": [
  {
   "cell_type": "code",
   "execution_count": null,
   "metadata": {},
   "outputs": [],
   "source": [
    "import uproot\n",
    "import awkward as ak\n",
    "from coffea import nanoevents\n",
    "from coffea.nanoevents.methods.base import NanoEventsArray\n",
    "from coffea.analysis_tools import Weights, PackedSelection\n",
    "from coffea.nanoevents.methods import nanoaod\n",
    "from coffea.nanoevents.methods import vector\n",
    "\n",
    "ak.behavior.update(vector.behavior)\n",
    "\n",
    "import pickle, json, gzip\n",
    "import numpy as np\n",
    "\n",
    "from typing import Optional, List, Dict\n",
    "from copy import copy\n",
    "\n",
    "import matplotlib.pyplot as plt\n",
    "import mplhep as hep\n",
    "from matplotlib import colors\n",
    "\n",
    "from tqdm import tqdm\n",
    "\n",
    "from pathlib import Path\n",
    "import os\n",
    "\n",
    "plt.rcParams.update({\"font.size\": 16})\n",
    "plt.style.use(hep.style.CMS)"
   ]
  },
  {
   "cell_type": "code",
   "execution_count": null,
   "metadata": {},
   "outputs": [],
   "source": [
    "%load_ext autoreload\n",
    "%autoreload 2"
   ]
  },
  {
   "cell_type": "code",
   "execution_count": null,
   "metadata": {},
   "outputs": [],
   "source": [
    "plot_dir = Path(\"src/HH4b/combine/binder/plots\")\n",
    "plot_dir.mkdir(parents=True, exist_ok=True)"
   ]
  },
  {
   "cell_type": "code",
   "execution_count": null,
   "metadata": {},
   "outputs": [],
   "source": [
    "import glob\n",
    "\n",
    "samples = {\n",
    "    \"VBF_HHto4B_CV_1_C2V_1_C3_1\": \"src/HH4b/combine/binder/vbf/all.root\",\n",
    "    \"GluGlutoHHto4B_kl-1p00_kt-1p00_c2-0p00\": \"src/HH4b/combine/binder/ggf/all.root\",\n",
    "}"
   ]
  },
  {
   "cell_type": "code",
   "execution_count": null,
   "metadata": {},
   "outputs": [],
   "source": [
    "xsecs = {\n",
    "    \"VBF_HHto4B_CV_1_C2V_1_C3_1\": 1.874,\n",
    "    \"GluGlutoHHto4B_kl-1p00_kt-1p00_c2-0p00\": 34.43,\n",
    "}\n",
    "\n",
    "for key in xsecs:\n",
    "    xsecs[key] = xsecs[key]"
   ]
  },
  {
   "cell_type": "code",
   "execution_count": null,
   "metadata": {},
   "outputs": [],
   "source": [
    "xsecs"
   ]
  },
  {
   "cell_type": "code",
   "execution_count": null,
   "metadata": {},
   "outputs": [],
   "source": [
    "events_dict = {}\n",
    "\n",
    "\n",
    "for sample, file in samples.items():\n",
    "    events_dict[sample] = nanoevents.NanoEventsFactory.from_root(\n",
    "        file,\n",
    "        schemaclass=nanoevents.NanoAODSchema,\n",
    "    ).events()"
   ]
  },
  {
   "cell_type": "code",
   "execution_count": null,
   "metadata": {},
   "outputs": [],
   "source": [
    "d_PDGID = 1\n",
    "b_PDGID = 5\n",
    "g_PDGID = 21\n",
    "TOP_PDGID = 6\n",
    "\n",
    "ELE_PDGID = 11\n",
    "vELE_PDGID = 12\n",
    "MU_PDGID = 13\n",
    "vMU_PDGID = 14\n",
    "TAU_PDGID = 15\n",
    "vTAU_PDGID = 16\n",
    "\n",
    "Z_PDGID = 23\n",
    "W_PDGID = 24\n",
    "HIGGS_PDGID = 25\n",
    "\n",
    "b_PDGIDS = [511, 521, 523]\n",
    "\n",
    "GRAV_PDGID = 39\n",
    "\n",
    "GEN_FLAGS = [\"fromHardProcess\", \"isLastCopy\"]"
   ]
  },
  {
   "cell_type": "code",
   "execution_count": null,
   "metadata": {},
   "outputs": [],
   "source": [
    "def get_hists(mhh, weights):\n",
    "    return np.histogram(mhh, np.logspace(np.log10(260), np.log10(1200), 30), weights=weights)\n",
    "\n",
    "\n",
    "def get_hists_pt(pt, weights):\n",
    "    return np.histogram(pt, np.logspace(np.log10(30), np.log10(1200), 30), weights=weights)"
   ]
  },
  {
   "cell_type": "code",
   "execution_count": null,
   "metadata": {},
   "outputs": [],
   "source": [
    "hists = []\n",
    "hists_pt = []\n",
    "integrals = []\n",
    "integrals_pt = []\n",
    "\n",
    "for sample in samples:\n",
    "    events = events_dict[sample]\n",
    "    subleading_250 = ak.count(events.FatJet.pt > 250, axis=1) >= 2\n",
    "    leading_300 = ak.count(events.FatJet.pt > 300, axis=1) >= 1\n",
    "    subleading_400 = ak.count(events.FatJet.pt > 400, axis=1) >= 2\n",
    "    leading_500 = ak.count(events.FatJet.pt > 500, axis=1) >= 1\n",
    "    print(\"all events\", len(events))\n",
    "    print(np.sum(leading_300))\n",
    "    print(np.sum(subleading_250))\n",
    "    print(np.sum(leading_300 & subleading_250))\n",
    "    print(\"pt > 300, 250\", np.sum(leading_300 * subleading_250))\n",
    "    print(\"pt > 500, 400\", np.sum(leading_500 * subleading_400))\n",
    "\n",
    "    higgs = events.GenPart[\n",
    "        (abs(events.GenPart.pdgId) == HIGGS_PDGID) * events.GenPart.hasFlags(GEN_FLAGS)\n",
    "    ]\n",
    "    mhh = (higgs[:, 0] + higgs[:, 1]).mass\n",
    "    pth1 = np.maximum(higgs[:, 0].pt, higgs[:, 1].pt)\n",
    "    pth2 = np.minimum(higgs[:, 0].pt, higgs[:, 1].pt)\n",
    "    w = events.genWeight\n",
    "    w = w * xsecs[sample] / np.sum(w)\n",
    "    counts, bins = get_hists(mhh, w)\n",
    "    integral = np.sum(w[mhh > 600])\n",
    "    integral_pt = np.sum(w[pth1 > 300])\n",
    "    counts_pt, bins_pt = get_hists_pt(pth1, w)\n",
    "    print(sample, \"total\", np.sum(w))\n",
    "    print(sample, \"pt>300\", np.sum(w[(pth1 > 300)]))\n",
    "    print(sample, \"mhh>600\", np.sum(w[(mhh > 600)]))\n",
    "    hists.append(counts)\n",
    "    hists_pt.append(counts_pt)\n",
    "    integrals.append(integral)\n",
    "    integrals_pt.append(integral_pt)"
   ]
  },
  {
   "cell_type": "code",
   "execution_count": null,
   "metadata": {},
   "outputs": [],
   "source": [
    "plt.figure()\n",
    "hep.histplot(\n",
    "    hists,\n",
    "    bins,\n",
    "    label=[\n",
    "        f\"VBF, $m_{{HH}} > 600$ GeV: {integrals[0]:.3f} fb\",\n",
    "        f\"ggF, $m_{{HH}} > 600$ GeV: {integrals[1]:.3f} fb\",\n",
    "    ],\n",
    ")\n",
    "plt.yscale(\"log\")\n",
    "plt.xlabel(r\"$m_{HH}$ [GeV]\")\n",
    "plt.ylabel(\"Cross section [fb/GeV]\")\n",
    "plt.legend()\n",
    "plt.show()\n",
    "\n",
    "plt.figure()\n",
    "hep.histplot(\n",
    "    hists_pt,\n",
    "    bins_pt,\n",
    "    label=[\n",
    "        f\"VBF, $p_{{T}}^{{H1}} > 300$ GeV: {integrals_pt[0]:.3f} fb\",\n",
    "        f\"ggF, $p_{{T}}^{{H1}} > 300$ GeV: {integrals_pt[1]:.3f} fb\",\n",
    "    ],\n",
    ")\n",
    "plt.yscale(\"log\")\n",
    "plt.xlabel(r\"$p_{T}^{H1}$ [GeV]\")\n",
    "plt.ylabel(\"Cross section [fb/GeV]\")\n",
    "plt.legend()\n",
    "plt.show()\n",
    "\n",
    "print(np.sum(hists[1]) / np.sum(hists[0]))\n",
    "print(np.sum(hists_pt[1]) / np.sum(hists_pt[0]))"
   ]
  },
  {
   "cell_type": "code",
   "execution_count": null,
   "metadata": {},
   "outputs": [],
   "source": []
  },
  {
   "cell_type": "code",
   "execution_count": null,
   "metadata": {},
   "outputs": [],
   "source": []
  }
 ],
 "metadata": {
  "kernelspec": {
   "display_name": "python39",
   "language": "python",
   "name": "python3"
  },
  "language_info": {
   "codemirror_mode": {
    "name": "ipython",
    "version": 3
   },
   "file_extension": ".py",
   "mimetype": "text/x-python",
   "name": "python",
   "nbconvert_exporter": "python",
   "pygments_lexer": "ipython3",
   "version": "3.10.14"
  }
 },
 "nbformat": 4,
 "nbformat_minor": 2
}
