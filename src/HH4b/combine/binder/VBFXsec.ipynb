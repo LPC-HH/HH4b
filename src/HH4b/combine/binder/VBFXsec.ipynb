{
 "cells": [
  {
   "cell_type": "code",
   "execution_count": null,
   "metadata": {},
   "outputs": [],
   "source": [
    "from pathlib import Path\n",
    "import numpy as np\n",
    "from collections import OrderedDict"
   ]
  },
  {
   "cell_type": "code",
   "execution_count": null,
   "metadata": {},
   "outputs": [],
   "source": [
    "%load_ext autoreload\n",
    "%autoreload 2"
   ]
  },
  {
   "cell_type": "code",
   "execution_count": null,
   "metadata": {},
   "outputs": [],
   "source": [
    "xsecs = OrderedDict(\n",
    "    [\n",
    "        (\"qqHH_CV_1_C2V_1_C3_1\", \"0.0017260\"),\n",
    "        (\"qqHH_CV_1_C2V_1_C3_0\", \"0.0046089\"),\n",
    "        (\"qqHH_CV_1_C2V_1_C3_2\", \"0.0014228\"),\n",
    "        (\"qqHH_CV_1_C2V_0_C3_1\", \"0.0270800\"),\n",
    "        (\"qqHH_CV_1_C2V_2_C3_1\", \"0.0142178\"),\n",
    "        (\"qqHH_CV_0.5_C2V_1_C3_1\", \"0.0108237\"),\n",
    "        (\"qqHH_CV_1.5_C2V_1_C3_1\", \"0.0660185\"),\n",
    "    ]\n",
    ")\n",
    "\n",
    "for key in xsecs:\n",
    "    xsecs[key] = eval(xsecs[key])"
   ]
  },
  {
   "cell_type": "code",
   "execution_count": null,
   "metadata": {},
   "outputs": [],
   "source": [
    "xsecs"
   ]
  },
  {
   "cell_type": "markdown",
   "metadata": {},
   "source": [
    "Get coefficients for interpolation"
   ]
  },
  {
   "cell_type": "code",
   "execution_count": null,
   "metadata": {},
   "outputs": [],
   "source": [
    "import sympy\n",
    "\n",
    "csamples = [\n",
    "    (1, 1, 1),\n",
    "    (1, 1, 0),\n",
    "    (1, 1, 2),\n",
    "    (1, 0, 1),\n",
    "    (1, 2, 1),\n",
    "    (0.5, 1, 1),\n",
    "    # (1.5, 1., 1.),\n",
    "]\n",
    "\n",
    "M = sympy.Matrix(\n",
    "    [\n",
    "        [\n",
    "            CV**2 * kl**2,\n",
    "            CV**4,\n",
    "            C2V**2,\n",
    "            CV**3 * kl,\n",
    "            CV * C2V * kl,\n",
    "            CV**2 * C2V,\n",
    "        ]\n",
    "        for i, (CV, C2V, kl) in enumerate(csamples)\n",
    "    ]\n",
    ")\n",
    "\n",
    "# the vector of couplings\n",
    "CV, C2V, kl = sympy.symbols(\"CV C2V kl\")\n",
    "c = sympy.Matrix(\n",
    "    [\n",
    "        [CV**2 * kl**2],\n",
    "        [CV**4],\n",
    "        [C2V**2],\n",
    "        [CV**3 * kl],\n",
    "        [CV * C2V * kl],\n",
    "        [CV**2 * C2V],\n",
    "    ]\n",
    ")\n",
    "\n",
    "# the vector of symbolic sample cross sections\n",
    "s = sympy.Matrix([[sympy.Symbol(\"xs{}\".format(i))] for i in range(len(csamples))])\n",
    "\n",
    "# actual computation, i.e., matrix inversion and multiplications with vectors\n",
    "M_inv = M.pinv()\n",
    "coeffs = c.transpose() * M_inv\n",
    "sigma = coeffs * s"
   ]
  },
  {
   "cell_type": "code",
   "execution_count": null,
   "metadata": {},
   "outputs": [],
   "source": [
    "def get_xsec_interp(cv, c2v, Kl):\n",
    "    sigma_val = sigma.subs({CV: cv, C2V: c2v, kl: Kl})\n",
    "    xsec = sigma_val.subs(\n",
    "        {\n",
    "            sympy.Symbol(f\"xs{j}\"): xsecs[f\"qqHH_CV_{cvs}_C2V_{c2vs}_C3_{Kls}\"]\n",
    "            for j, (cvs, c2vs, Kls) in enumerate(csamples)\n",
    "        }\n",
    "    )\n",
    "    return np.array(xsec)[0][0]"
   ]
  },
  {
   "cell_type": "code",
   "execution_count": null,
   "metadata": {},
   "outputs": [],
   "source": [
    "# see: https://cmsweb.cern.ch/das/request?view=list&limit=50&instance=prod%2Fglobal&input=dataset%3D%2FVBFHHto4B_CV_*%2FRun3Summer23BPixMiniAODv4*%2FMINIAODSIM\n",
    "samples = [\n",
    "    (1, 0, 1),\n",
    "    (1, 1, 0),\n",
    "    (1, 1, 1),\n",
    "    (1, 1, 2),\n",
    "    (1, 2, 1),\n",
    "    (1.74, 1.37, 14.4),\n",
    "    (-0.012, 0.030, 10.2),\n",
    "    (-0.758, 1.44, -19.3),\n",
    "    (-0.962, 0.959, -1.43),\n",
    "    (-1.21, 1.94, -0.94),\n",
    "    (-1.60, 2.72, -1.36),\n",
    "    (-1.83, 3.57, -3.39),\n",
    "    (-2.12, 3.87, -5.96),\n",
    "]\n",
    "\n",
    "# see: https://github.com/LPC-HH/HH4b/blob/main/src/HH4b/xsecs.py#L165\n",
    "# 13.6 TeV / 13 TeV k-factor\n",
    "vbfhh_sm = 1.873758517 / 1000\n",
    "# k-factor from 13.6 / 13\n",
    "vbfhh_sm_prev = 1.726 / 1000\n",
    "vbfhh_kfactor = vbfhh_sm / vbfhh_sm_prev\n",
    "for cv, c2v, Kl in samples:\n",
    "    print(\n",
    "        f\"(CV={cv}, C2V={c2v}, kl={Kl}) -> 13.6 TeV xsec={vbfhh_kfactor*get_xsec_interp(cv, c2v, Kl)}\"\n",
    "    )"
   ]
  },
  {
   "cell_type": "code",
   "execution_count": null,
   "metadata": {},
   "outputs": [],
   "source": []
  }
 ],
 "metadata": {
  "kernelspec": {
   "display_name": "python39",
   "language": "python",
   "name": "python3"
  },
  "language_info": {
   "codemirror_mode": {
    "name": "ipython",
    "version": 3
   },
   "file_extension": ".py",
   "mimetype": "text/x-python",
   "name": "python",
   "nbconvert_exporter": "python",
   "pygments_lexer": "ipython3",
   "version": "3.8.16"
  }
 },
 "nbformat": 4,
 "nbformat_minor": 2
}
