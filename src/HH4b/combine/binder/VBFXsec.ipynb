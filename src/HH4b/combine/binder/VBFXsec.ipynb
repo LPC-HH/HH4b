{
 "cells": [
  {
   "cell_type": "code",
   "execution_count": 22,
   "metadata": {},
   "outputs": [],
   "source": [
    "from pathlib import Path\n",
    "from collections import OrderedDict"
   ]
  },
  {
   "cell_type": "code",
   "execution_count": 23,
   "metadata": {},
   "outputs": [
    {
     "name": "stdout",
     "output_type": "stream",
     "text": [
      "The autoreload extension is already loaded. To reload it, use:\n",
      "  %reload_ext autoreload\n"
     ]
    }
   ],
   "source": [
    "%load_ext autoreload\n",
    "%autoreload 2"
   ]
  },
  {
   "cell_type": "code",
   "execution_count": 24,
   "metadata": {},
   "outputs": [],
   "source": [
    "xsecs = OrderedDict([\n",
    "    (\"qqHH_CV_1_C2V_1_C3_1\", \"0.0017260\"),\n",
    "    (\"qqHH_CV_1_C2V_1_C3_0\", \"0.0046089\"),\n",
    "    (\"qqHH_CV_1_C2V_1_C3_2\", \"0.0014228\"),\n",
    "    (\"qqHH_CV_1_C2V_0_C3_1\", \"0.0270800\"),\n",
    "    (\"qqHH_CV_1_C2V_2_C3_1\", \"0.0142178\"),\n",
    "    (\"qqHH_CV_0.5_C2V_1_C3_1\", \"0.0108237\"),\n",
    "    (\"qqHH_CV_1.5_C2V_1_C3_1\", \"0.0660185\"),\n",
    "]\n",
    ")\n",
    "\n",
    "for key in xsecs:\n",
    "    xsecs[key] = eval(xsecs[key])"
   ]
  },
  {
   "cell_type": "code",
   "execution_count": 25,
   "metadata": {},
   "outputs": [
    {
     "data": {
      "text/plain": [
       "OrderedDict([('qqHH_CV_1_C2V_1_C3_1', 0.001726),\n",
       "             ('qqHH_CV_1_C2V_1_C3_0', 0.0046089),\n",
       "             ('qqHH_CV_1_C2V_1_C3_2', 0.0014228),\n",
       "             ('qqHH_CV_1_C2V_0_C3_1', 0.02708),\n",
       "             ('qqHH_CV_1_C2V_2_C3_1', 0.0142178),\n",
       "             ('qqHH_CV_0.5_C2V_1_C3_1', 0.0108237),\n",
       "             ('qqHH_CV_1.5_C2V_1_C3_1', 0.0660185)])"
      ]
     },
     "execution_count": 25,
     "metadata": {},
     "output_type": "execute_result"
    }
   ],
   "source": [
    "xsecs"
   ]
  },
  {
   "cell_type": "markdown",
   "metadata": {},
   "source": [
    "Get coefficients for interpolation"
   ]
  },
  {
   "cell_type": "code",
   "execution_count": 26,
   "metadata": {},
   "outputs": [],
   "source": [
    "import sympy\n",
    "\n",
    "csamples = [\n",
    "    (1, 1, 1),\n",
    "    (1, 1, 0),\n",
    "    (1, 1, 2),\n",
    "    (1, 0, 1),\n",
    "    (1, 2, 1),\n",
    "    (0.5, 1, 1),\n",
    "    # (1.5, 1., 1.),\n",
    "]\n",
    "\n",
    "M = sympy.Matrix(\n",
    "    [\n",
    "        [\n",
    "            CV**2 * kl**2,\n",
    "            CV**4,\n",
    "            C2V**2,\n",
    "            CV**3 * kl,\n",
    "            CV * C2V * kl,\n",
    "            CV**2 * C2V,\n",
    "        ]\n",
    "        for i, (CV, C2V, kl) in enumerate(csamples)\n",
    "    ]\n",
    ")\n",
    "\n",
    "# the vector of couplings\n",
    "CV, C2V, kl = sympy.symbols(\"CV C2V kl\")\n",
    "c = sympy.Matrix(\n",
    "    [\n",
    "        [CV**2 * kl**2],\n",
    "        [CV**4],\n",
    "        [C2V**2],\n",
    "        [CV**3 * kl],\n",
    "        [CV * C2V * kl],\n",
    "        [CV**2 * C2V],\n",
    "    ]\n",
    ")\n",
    "\n",
    "# the vector of symbolic sample cross sections\n",
    "s = sympy.Matrix([[sympy.Symbol(\"xs{}\".format(i))] for i in range(len(csamples))])\n",
    "\n",
    "# actual computation, i.e., matrix inversion and multiplications with vectors\n",
    "M_inv = M.pinv()\n",
    "coeffs = c.transpose() * M_inv\n",
    "sigma = coeffs * s"
   ]
  },
  {
   "cell_type": "code",
   "execution_count": 27,
   "metadata": {},
   "outputs": [],
   "source": [
    "def get_xsec_interp(cv, c2v, Kl):\n",
    "    sigma_val = sigma.subs({CV: cv, C2V: c2v, kl: Kl})\n",
    "    xsec = sigma_val.subs({sympy.Symbol(f\"xs{j}\"): xsecs[f\"qqHH_CV_{cvs}_C2V_{c2vs}_C3_{Kls}\"] for j, (cvs, c2vs, Kls) in enumerate(csamples)})\n",
    "    return np.array(xsec)[0][0]"
   ]
  },
  {
   "cell_type": "code",
   "execution_count": 35,
   "metadata": {},
   "outputs": [
    {
     "name": "stdout",
     "output_type": "stream",
     "text": [
      "(CV=1, C2V=0, kl=1) -> 13.6 TeV xsec=0.0293982506606955\n",
      "(CV=1, C2V=1, kl=1) -> 13.6 TeV xsec=0.00187375851700032\n",
      "(CV=1.74, C2V=1.37, kl=14.4) -> 13.6 TeV xsec=0.398705299546498\n",
      "(CV=-0.012, C2V=0.03, kl=10.2) -> 13.6 TeV xsec=0.0000118762250272907\n",
      "(CV=-0.758, C2V=1.44, kl=-19.3) -> 13.6 TeV xsec=0.366479977711258\n",
      "(CV=-0.962, C2V=0.959, kl=-1.43) -> 13.6 TeV xsec=0.00108776137063828\n",
      "(CV=-1.21, C2V=1.94, kl=-0.94) -> 13.6 TeV xsec=0.00361415360567159\n",
      "(CV=-1.6, C2V=2.72, kl=-1.36) -> 13.6 TeV xsec=0.0113914533996631\n",
      "(CV=-1.83, C2V=3.57, kl=-3.93) -> 13.6 TeV xsec=0.0216500238682384\n",
      "(CV=-2.12, C2V=3.87, kl=-5.96) -> 13.6 TeV xsec=0.0568180849835668\n"
     ]
    }
   ],
   "source": [
    "# see: https://cmsweb.cern.ch/das/request?view=list&limit=50&instance=prod%2Fglobal&input=dataset%3D%2FVBFHHto4B_CV_*%2FRun3Summer23BPixMiniAODv4*%2FMINIAODSIM\n",
    "samples = [\n",
    "    (1, 0, 1),\n",
    "    (1, 1, 1),\n",
    "    (1.74, 1.37, 14.4),\n",
    "    (-0.012, 0.030, 10.2),\n",
    "    (-0.758, 1.44, -19.3),\n",
    "    (-0.962, 0.959, -1.43),\n",
    "    (-1.21, 1.94, -0.94),\n",
    "    (-1.60, 2.72, -1.36),\n",
    "    (-1.83, 3.57, -3.93),\n",
    "    (-2.12, 3.87, -5.96),\n",
    "]\n",
    "\n",
    "# see: https://github.com/LPC-HH/HH4b/blob/main/src/HH4b/xsecs.py#L165\n",
    "# 13.6 TeV / 13 TeV k-factor\n",
    "vbfhh_sm = 1.873758517 / 1000\n",
    "# k-factor from 13.6 / 13\n",
    "vbfhh_sm_prev = 1.726 / 1000\n",
    "vbfhh_kfactor = vbfhh_sm / vbfhh_sm_prev\n",
    "for cv, c2v, Kl in samples:\n",
    "    print(f\"(CV={cv}, C2V={c2v}, kl={Kl}) -> 13.6 TeV xsec={vbfhh_kfactor*get_xsec_interp(cv, c2v, Kl)}\")"
   ]
  },
  {
   "cell_type": "code",
   "execution_count": null,
   "metadata": {},
   "outputs": [],
   "source": []
  }
 ],
 "metadata": {
  "kernelspec": {
   "display_name": "python39",
   "language": "python",
   "name": "python3"
  },
  "language_info": {
   "codemirror_mode": {
    "name": "ipython",
    "version": 3
   },
   "file_extension": ".py",
   "mimetype": "text/x-python",
   "name": "python",
   "nbconvert_exporter": "python",
   "pygments_lexer": "ipython3",
   "version": "3.10.14"
  }
 },
 "nbformat": 4,
 "nbformat_minor": 2
}
