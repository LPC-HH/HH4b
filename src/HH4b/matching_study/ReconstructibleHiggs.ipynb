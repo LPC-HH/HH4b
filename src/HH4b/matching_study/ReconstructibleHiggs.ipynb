{
 "cells": [
  {
   "cell_type": "code",
   "execution_count": 5,
   "metadata": {},
   "outputs": [],
   "source": [
    "import sys\n",
    "sys.path.append(\"..\")\n",
    "\n",
    "import utils"
   ]
  },
  {
   "cell_type": "code",
   "execution_count": 6,
   "metadata": {},
   "outputs": [],
   "source": [
    "import numpy as np\n",
    "import matplotlib.pyplot as plt\n",
    "import hist\n",
    "import mplhep\n",
    "import matplotlib as mpl\n",
    "mpl.rcParams['lines.linewidth'] = 2\n",
    "mpl.rcParams['grid.color'] = \"#CCCCCC\"\n",
    "mpl.rcParams['grid.linewidth'] = 0.5\n",
    "mpl.rcParams['figure.edgecolor'] = 'none'\n",
    "\n",
    "import pandas as pd\n",
    "import vector"
   ]
  },
  {
   "cell_type": "code",
   "execution_count": 7,
   "metadata": {},
   "outputs": [
    {
     "name": "stdout",
     "output_type": "stream",
     "text": [
      "Loading GluGlutoHHto4B_cHHH1_TuneCP5_PSWeights_13TeV-powheg-pythia8\n",
      "Keys in events_dict\n",
      "('GenHiggsEta', 0)\n",
      "('GenHiggsEta', 1)\n",
      "('GenHiggsPhi', 0)\n",
      "('GenHiggsPhi', 1)\n",
      "('GenHiggsMass', 0)\n",
      "('GenHiggsMass', 1)\n",
      "('GenHiggsPt', 0)\n",
      "('GenHiggsPt', 1)\n",
      "('GenbEta', 0)\n",
      "('GenbEta', 1)\n",
      "('GenbEta', 2)\n",
      "('GenbEta', 3)\n",
      "('GenbPhi', 0)\n",
      "('GenbPhi', 1)\n",
      "('GenbPhi', 2)\n",
      "('GenbPhi', 3)\n",
      "('GenbMass', 0)\n",
      "('GenbMass', 1)\n",
      "('GenbMass', 2)\n",
      "('GenbMass', 3)\n",
      "('GenbPt', 0)\n",
      "('GenbPt', 1)\n",
      "('GenbPt', 2)\n",
      "('GenbPt', 3)\n",
      "('ak4JetHiggsMatch', 0)\n",
      "('ak4JetHiggsMatch', 1)\n",
      "('ak4JetHiggsMatch', 2)\n",
      "('ak4JetHiggsMatch', 3)\n",
      "('ak4JetHiggsMatch', 4)\n",
      "('ak4JetHiggsMatch', 5)\n",
      "('ak4JetHiggsMatchIndex', 0)\n",
      "('ak4JetHiggsMatchIndex', 1)\n",
      "('ak4JetHiggsMatchIndex', 2)\n",
      "('ak4JetHiggsMatchIndex', 3)\n",
      "('ak4JetHiggsMatchIndex', 4)\n",
      "('ak4JetHiggsMatchIndex', 5)\n",
      "('ak4JethadronFlavour', 0)\n",
      "('ak4JethadronFlavour', 1)\n",
      "('ak4JethadronFlavour', 2)\n",
      "('ak4JethadronFlavour', 3)\n",
      "('ak4JethadronFlavour', 4)\n",
      "('ak4JethadronFlavour', 5)\n",
      "('ak8FatJetHiggsMatch', 0)\n",
      "('ak8FatJetHiggsMatch', 1)\n",
      "('ak8FatJetHiggsMatch', 2)\n",
      "('ak8FatJetHiggsMatchIndex', 0)\n",
      "('ak8FatJetHiggsMatchIndex', 1)\n",
      "('ak8FatJetHiggsMatchIndex', 2)\n",
      "('ak8FatJetNumBMatchedH1', 0)\n",
      "('ak8FatJetNumBMatchedH1', 1)\n",
      "('ak8FatJetNumBMatchedH1', 2)\n",
      "('ak8FatJetNumBMatchedH2', 0)\n",
      "('ak8FatJetNumBMatchedH2', 1)\n",
      "('ak8FatJetNumBMatchedH2', 2)\n",
      "('ak8FatJetMaxdRH1', 0)\n",
      "('ak8FatJetMaxdRH1', 1)\n",
      "('ak8FatJetMaxdRH1', 2)\n",
      "('ak8FatJetMaxdRH2', 0)\n",
      "('ak8FatJetMaxdRH2', 1)\n",
      "('ak8FatJetMaxdRH2', 2)\n",
      "('HLT_PFHT330PT30_QuadPFJet_75_60_45_40_TriplePFBTagDeepCSV_4p5', 0)\n",
      "('ak4JetEta', 0)\n",
      "('ak4JetEta', 1)\n",
      "('ak4JetEta', 2)\n",
      "('ak4JetEta', 3)\n",
      "('ak4JetEta', 4)\n",
      "('ak4JetEta', 5)\n",
      "('ak4JetPhi', 0)\n",
      "('ak4JetPhi', 1)\n",
      "('ak4JetPhi', 2)\n",
      "('ak4JetPhi', 3)\n",
      "('ak4JetPhi', 4)\n",
      "('ak4JetPhi', 5)\n",
      "('ak4JetMass', 0)\n",
      "('ak4JetMass', 1)\n",
      "('ak4JetMass', 2)\n",
      "('ak4JetMass', 3)\n",
      "('ak4JetMass', 4)\n",
      "('ak4JetMass', 5)\n",
      "('ak4JetPt', 0)\n",
      "('ak4JetPt', 1)\n",
      "('ak4JetPt', 2)\n",
      "('ak4JetPt', 3)\n",
      "('ak4JetPt', 4)\n",
      "('ak4JetPt', 5)\n",
      "('ak4JetbtagDeepB', 0)\n",
      "('ak4JetbtagDeepB', 1)\n",
      "('ak4JetbtagDeepB', 2)\n",
      "('ak4JetbtagDeepB', 3)\n",
      "('ak4JetbtagDeepB', 4)\n",
      "('ak4JetbtagDeepB', 5)\n",
      "('ak4JetbtagDeepFlavB', 0)\n",
      "('ak4JetbtagDeepFlavB', 1)\n",
      "('ak4JetbtagDeepFlavB', 2)\n",
      "('ak4JetbtagDeepFlavB', 3)\n",
      "('ak4JetbtagDeepFlavB', 4)\n",
      "('ak4JetbtagDeepFlavB', 5)\n",
      "('ak4JetOutsideEta', 0)\n",
      "('ak4JetOutsideEta', 1)\n",
      "('ak4JetOutsideEta', 2)\n",
      "('ak4JetOutsideEta', 3)\n",
      "('ak4JetOutsidePhi', 0)\n",
      "('ak4JetOutsidePhi', 1)\n",
      "('ak4JetOutsidePhi', 2)\n",
      "('ak4JetOutsidePhi', 3)\n",
      "('ak4JetOutsideMass', 0)\n",
      "('ak4JetOutsideMass', 1)\n",
      "('ak4JetOutsideMass', 2)\n",
      "('ak4JetOutsideMass', 3)\n",
      "('ak4JetOutsidePt', 0)\n",
      "('ak4JetOutsidePt', 1)\n",
      "('ak4JetOutsidePt', 2)\n",
      "('ak4JetOutsidePt', 3)\n",
      "('ak4Pair0', 0)\n",
      "('ak4Pair0', 1)\n",
      "('ak4Pair1', 0)\n",
      "('ak4Pair1', 1)\n",
      "('ak4DijetPt0', 0)\n",
      "('ak4DijetEta0', 0)\n",
      "('ak4DijetPhi0', 0)\n",
      "('ak4DijetMass0', 0)\n",
      "('ak4DijetPt1', 0)\n",
      "('ak4DijetEta1', 0)\n",
      "('ak4DijetPhi1', 0)\n",
      "('ak4DijetMass1', 0)\n",
      "('ak4DijetDeltaR', 0)\n",
      "('ak4Pair0chi2', 0)\n",
      "('ak4Pair0chi2', 1)\n",
      "('ak4Pair1chi2', 0)\n",
      "('ak4Pair1chi2', 1)\n",
      "('ak4JetGenJetIdx', 0)\n",
      "('ak4JetGenJetIdx', 1)\n",
      "('ak4JetGenJetIdx', 2)\n",
      "('ak4JetGenJetIdx', 3)\n",
      "('ak4JetGenJetIdx', 4)\n",
      "('ak4JetGenJetIdx', 5)\n",
      "('ak8FatJetEta', 0)\n",
      "('ak8FatJetEta', 1)\n",
      "('ak8FatJetPhi', 0)\n",
      "('ak8FatJetPhi', 1)\n",
      "('ak8FatJetMass', 0)\n",
      "('ak8FatJetMass', 1)\n",
      "('ak8FatJetPt', 0)\n",
      "('ak8FatJetPt', 1)\n",
      "('ak8FatJetMsd', 0)\n",
      "('ak8FatJetMsd', 1)\n",
      "('ak8FatJetPNetXbb', 0)\n",
      "('ak8FatJetPNetXbb', 1)\n",
      "('ak8FatJetPNetXjj', 0)\n",
      "('ak8FatJetPNetXjj', 1)\n",
      "('ak8FatJetPNetMass', 0)\n",
      "('ak8FatJetPNetMass', 1)\n",
      "('ak4GenJetEta', 0)\n",
      "('ak4GenJetEta', 1)\n",
      "('ak4GenJetEta', 2)\n",
      "('ak4GenJetEta', 3)\n",
      "('ak4GenJetEta', 4)\n",
      "('ak4GenJetEta', 5)\n",
      "('ak4GenJetPhi', 0)\n",
      "('ak4GenJetPhi', 1)\n",
      "('ak4GenJetPhi', 2)\n",
      "('ak4GenJetPhi', 3)\n",
      "('ak4GenJetPhi', 4)\n",
      "('ak4GenJetPhi', 5)\n",
      "('ak4GenJetMass', 0)\n",
      "('ak4GenJetMass', 1)\n",
      "('ak4GenJetMass', 2)\n",
      "('ak4GenJetMass', 3)\n",
      "('ak4GenJetMass', 4)\n",
      "('ak4GenJetMass', 5)\n",
      "('ak4GenJetPt', 0)\n",
      "('ak4GenJetPt', 1)\n",
      "('ak4GenJetPt', 2)\n",
      "('ak4GenJetPt', 3)\n",
      "('ak4GenJetPt', 4)\n",
      "('ak4GenJetPt', 5)\n",
      "('weight', 0)\n"
     ]
    }
   ],
   "source": [
    "samples = {\n",
    "    \"hh4b\": [\"GluGlutoHHto4B_cHHH1_TuneCP5_PSWeights_13TeV-powheg-pythia8\"],\n",
    "}\n",
    "\n",
    "# selection applied\n",
    "#path_to_dir = \"/eos/uscms/store/user/cmantill/bbbb/matching/Oct26NoSelection/\"\n",
    "# no selection applied\n",
    "# path_to_dir = \"/eos/uscms/store/user/cmantill/bbbb/matching/Oct26NoApplySelection/\"\n",
    "# resolved trigger and nak4>=4\n",
    "path_to_dir = \"/eos/uscms/store/user/cmantill/bbbb/matching/Oct27TrigAndNAK44/\"\n",
    "dirs = {path_to_dir: samples}\n",
    "year = \"2018\"\n",
    "\n",
    "filters = None\n",
    "\n",
    "# dictionary that will contain all information (from all samples)\n",
    "events_dict = {}\n",
    "for input_dir, samples in dirs.items():\n",
    "    events_dict = {\n",
    "        **events_dict,\n",
    "        # this function will load files (only the columns selected), apply filters and compute a weight per event\n",
    "        **utils.load_samples(input_dir, samples, year, filters=filters),\n",
    "    }\n",
    "\n",
    "samples_loaded = list(events_dict.keys())\n",
    "keys_loaded = list(events_dict[samples_loaded[0]].keys())\n",
    "print(f\"Keys in events_dict\")\n",
    "for i in keys_loaded: print(i)"
   ]
  },
  {
   "cell_type": "markdown",
   "metadata": {},
   "source": [
    "## Investigate confusion matrix"
   ]
  },
  {
   "cell_type": "code",
   "execution_count": 8,
   "metadata": {},
   "outputs": [],
   "source": [
    "drbh1ak8 = events_dict[\"hh4b\"][\"ak8FatJetMaxdRH1\"].to_numpy()\n",
    "drbh2ak8 = events_dict[\"hh4b\"][\"ak8FatJetMaxdRH2\"].to_numpy()\n",
    "indexak8 = events_dict[\"hh4b\"][\"ak8FatJetHiggsMatchIndex\"].to_numpy()\n",
    "indexak4 = events_dict[\"hh4b\"][\"ak4JetHiggsMatchIndex\"].to_numpy()\n",
    "nbh1ak8 = events_dict[\"hh4b\"][\"ak8FatJetNumBMatchedH1\"].to_numpy()\n",
    "nbh2ak8 = events_dict[\"hh4b\"][\"ak8FatJetNumBMatchedH2\"].to_numpy()"
   ]
  },
  {
   "cell_type": "markdown",
   "metadata": {},
   "source": [
    "### With overlap"
   ]
  },
  {
   "cell_type": "code",
   "execution_count": 9,
   "metadata": {},
   "outputs": [],
   "source": [
    "h1ak4 = indexak4 == 0\n",
    "h2ak4 = indexak4 == 1\n",
    "h1ak8 = indexak8 == 0\n",
    "h2ak8 = indexak8 == 1\n",
    "\n",
    "num_ak4m2h1 = h1ak4.sum(axis=1)\n",
    "num_ak4m2h2 = h2ak4.sum(axis=1)\n",
    "\n",
    "num_ak8m2h1 = h1ak8.sum(axis=1)\n",
    "num_ak8m2h2 = h2ak8.sum(axis=1)\n"
   ]
  },
  {
   "cell_type": "code",
   "execution_count": 10,
   "metadata": {},
   "outputs": [
    {
     "data": {
      "text/plain": [
       "array([[False, False, False],\n",
       "       [ True, False, False],\n",
       "       [False, False, False],\n",
       "       ...,\n",
       "       [False, False, False],\n",
       "       [False, False, False],\n",
       "       [ True, False, False]])"
      ]
     },
     "execution_count": 10,
     "metadata": {},
     "output_type": "execute_result"
    }
   ],
   "source": [
    "# is ak8 matched to H1\n",
    "h1ak8"
   ]
  },
  {
   "cell_type": "code",
   "execution_count": 11,
   "metadata": {},
   "outputs": [
    {
     "data": {
      "text/plain": [
       "array([[False, False, False],\n",
       "       [False, False, False],\n",
       "       [False, False, False],\n",
       "       ...,\n",
       "       [ True, False, False],\n",
       "       [False, False, False],\n",
       "       [False, False, False]])"
      ]
     },
     "execution_count": 11,
     "metadata": {},
     "output_type": "execute_result"
    }
   ],
   "source": [
    "# is ak8 matched to H2\n",
    "h2ak8"
   ]
  },
  {
   "cell_type": "code",
   "execution_count": 12,
   "metadata": {},
   "outputs": [
    {
     "data": {
      "text/plain": [
       "array([0, 1, 0, ..., 1, 0, 1])"
      ]
     },
     "execution_count": 12,
     "metadata": {},
     "output_type": "execute_result"
    }
   ],
   "source": [
    "num_ak8m2h = num_ak8m2h1 + num_ak8m2h2\n",
    "num_ak8m2h"
   ]
  },
  {
   "cell_type": "code",
   "execution_count": 13,
   "metadata": {},
   "outputs": [
    {
     "data": {
      "text/plain": [
       "array([3, 3, 4, ..., 3, 3, 4])"
      ]
     },
     "execution_count": 13,
     "metadata": {},
     "output_type": "execute_result"
    }
   ],
   "source": [
    "num_ak4m2h = num_ak4m2h1 + num_ak4m2h2\n",
    "num_ak4m2h"
   ]
  },
  {
   "cell_type": "code",
   "execution_count": 14,
   "metadata": {},
   "outputs": [],
   "source": [
    "nak8_axis = hist.axis.Variable([0,1,2,3], name=\"nak8\", label=\"Number of AK8 matched to Higgs\")\n",
    "nak4_axis = hist.axis.Variable([0,1,2,3,4,5,6], name=\"nak4\", label=\"Number of AK4 matched to Higgs\")\n"
   ]
  },
  {
   "cell_type": "code",
   "execution_count": 15,
   "metadata": {},
   "outputs": [
    {
     "data": {
      "text/plain": [
       "Variable([0, 1, 2, 3, 4, 5, 6], name='nak4', label='Number of AK4 matched to Higgs')"
      ]
     },
     "execution_count": 15,
     "metadata": {},
     "output_type": "execute_result"
    }
   ],
   "source": [
    "nak4_axis"
   ]
  },
  {
   "cell_type": "code",
   "execution_count": 16,
   "metadata": {},
   "outputs": [
    {
     "data": {
      "text/html": [
       "<html>\n",
       "<div style=\"display:flex; align-items:center;\">\n",
       "<div style=\"width:290px;\">\n",
       "<svg xmlns=\"http://www.w3.org/2000/svg\" viewBox=\"-10 -105 270 120\">\n",
       "<line x1=\"-5\" y1=\"0\" x2=\"255\" y2=\"0\" style=\"fill:none;stroke-width:2;stroke:currentColor\"/>\n",
       "<text text-anchor=\"middle\" x=\"0\" y=\"15\" style=\"fill:currentColor;\">\n",
       "0\n",
       "</text>\n",
       "<text text-anchor=\"middle\" x=\"250\" y=\"15\" style=\"fill:currentColor;\">\n",
       "6\n",
       "</text>\n",
       "<text text-anchor=\"middle\" x=\"125.0\" y=\"15\" style=\"fill:currentColor;\">\n",
       "Number of AK4 matched to Higgs\n",
       "</text>\n",
       "<polyline points=\"  0,0   0,-0.0693 41.6667,-0.0693 41.6667,-1.8 83.3333,-1.8 83.3333,-21.6 125,-21.6 125,-83.8 166.667,-83.8 166.667,-100 208.333,-100 208.333,-4.58 250,-4.58 250,0\" style=\"fill:none; stroke:currentColor;\"/>\n",
       "</svg>\n",
       "</div>\n",
       "<div style=\"flex=grow:1;\">\n",
       "Variable([0, 1, 2, 3, 4, 5, 6], name='nak4', label='Number of AK4 matched to Higgs')<br/>\n",
       "<hr style=\"margin-top:.2em; margin-bottom:.2em;\"/>\n",
       "Double() Σ=999781.0 <em>(1000000.0 with flow)</em>\n",
       "\n",
       "</div>\n",
       "</div>\n",
       "</html>"
      ],
      "text/plain": [
       "Hist(Variable([0, 1, 2, 3, 4, 5, 6], name='nak4', label='Number of AK4 matched to Higgs'), storage=Double()) # Sum: 999781.0 (1000000.0 with flow)"
      ]
     },
     "execution_count": 16,
     "metadata": {},
     "output_type": "execute_result"
    }
   ],
   "source": [
    "h = hist.Hist(nak4_axis)\n",
    "h.fill(nak4=num_ak4m2h)\n",
    "h"
   ]
  },
  {
   "cell_type": "code",
   "execution_count": 17,
   "metadata": {},
   "outputs": [
    {
     "data": {
      "text/html": [
       "<html>\n",
       "<div style=\"display:flex; align-items:center;\">\n",
       "<div style=\"width:290px;\">\n",
       "<svg xmlns=\"http://www.w3.org/2000/svg\" viewBox=\"-10 -105 270 120\">\n",
       "<line x1=\"-5\" y1=\"0\" x2=\"255\" y2=\"0\" style=\"fill:none;stroke-width:2;stroke:currentColor\"/>\n",
       "<text text-anchor=\"middle\" x=\"0\" y=\"15\" style=\"fill:currentColor;\">\n",
       "0\n",
       "</text>\n",
       "<text text-anchor=\"middle\" x=\"250\" y=\"15\" style=\"fill:currentColor;\">\n",
       "3\n",
       "</text>\n",
       "<text text-anchor=\"middle\" x=\"125.0\" y=\"15\" style=\"fill:currentColor;\">\n",
       "Number of AK8 matched to Higgs\n",
       "</text>\n",
       "<polyline points=\"  0,0   0,-100 83.3333,-100 83.3333,-36.2 166.667,-36.2 166.667,-23 250,-23 250,0\" style=\"fill:none; stroke:currentColor;\"/>\n",
       "</svg>\n",
       "</div>\n",
       "<div style=\"flex=grow:1;\">\n",
       "Variable([0, 1, 2, 3], name='nak8', label='Number of AK8 matched to Higgs')<br/>\n",
       "<hr style=\"margin-top:.2em; margin-bottom:.2em;\"/>\n",
       "Double() Σ=999496.0 <em>(1000000.0 with flow)</em>\n",
       "\n",
       "</div>\n",
       "</div>\n",
       "</html>"
      ],
      "text/plain": [
       "Hist(Variable([0, 1, 2, 3], name='nak8', label='Number of AK8 matched to Higgs'), storage=Double()) # Sum: 999496.0 (1000000.0 with flow)"
      ]
     },
     "execution_count": 17,
     "metadata": {},
     "output_type": "execute_result"
    }
   ],
   "source": [
    "h = hist.Hist(nak8_axis)\n",
    "h.fill(nak8=num_ak8m2h)"
   ]
  },
  {
   "cell_type": "code",
   "execution_count": 18,
   "metadata": {},
   "outputs": [
    {
     "data": {
      "text/html": [
       "<html>\n",
       "<div style=\"display:flex; align-items:center;\">\n",
       "<div style=\"width:290px;\">\n",
       "<svg xmlns=\"http://www.w3.org/2000/svg\" viewBox=\"-20 -270 290 290\">\n",
       "<text text-anchor=\"middle\" x=\"0\" y=\"13\" style=\"fill:currentColor;\">\n",
       "0\n",
       "</text>\n",
       "<text text-anchor=\"middle\" x=\"250\" y=\"13\" style=\"fill:currentColor;\">\n",
       "6\n",
       "</text>\n",
       "<text text-anchor=\"middle\" x=\"-10\" y=\"0\" style=\"fill:currentColor;\">\n",
       "0\n",
       "</text>\n",
       "<text text-anchor=\"middle\" x=\"-10\" y=\"-250\" style=\"fill:currentColor;\">\n",
       "3\n",
       "</text>\n",
       "<text text-anchor=\"middle\" x=\"125.0\" y=\"13\" style=\"fill:currentColor;\">\n",
       "Number of AK4 matched to Higgs\n",
       "</text>\n",
       "<text text-anchor=\"middle\" x=\"-10\" y=\"-125.0\" transform=\"rotate(-90,-10,-125.0)\" style=\"fill:currentColor;\">\n",
       "Number of AK8 matched to Higgs\n",
       "</text>\n",
       "<rect x=\"0.0\" y=\"-83.33333333333333\" width=\"41.667\" height=\"83.333\" opacity=\"0.0009525321479599935\" fill=\"currentColor\" stroke-width=\"0.1\"/>\n",
       "<rect x=\"41.666666666666664\" y=\"-83.33333333333333\" width=\"41.667\" height=\"83.333\" opacity=\"0.022225750119066516\" fill=\"currentColor\" stroke-width=\"0.1\"/>\n",
       "<rect x=\"83.33333333333333\" y=\"-83.33333333333333\" width=\"41.667\" height=\"83.333\" opacity=\"0.21512012488754825\" fill=\"currentColor\" stroke-width=\"0.1\"/>\n",
       "<rect x=\"125.0\" y=\"-83.33333333333333\" width=\"41.667\" height=\"83.333\" opacity=\"0.7935684235592951\" fill=\"currentColor\" stroke-width=\"0.1\"/>\n",
       "<rect x=\"166.66666666666666\" y=\"-83.33333333333333\" width=\"41.667\" height=\"83.333\" opacity=\"1.0\" fill=\"currentColor\" stroke-width=\"0.1\"/>\n",
       "<rect x=\"208.33333333333334\" y=\"-83.33333333333333\" width=\"41.667\" height=\"83.333\" opacity=\"0.045202280785309835\" fill=\"currentColor\" stroke-width=\"0.1\"/>\n",
       "<rect x=\"0.0\" y=\"-166.66666666666666\" width=\"41.667\" height=\"83.333\" opacity=\"0.00010252950203736042\" fill=\"currentColor\" stroke-width=\"0.1\"/>\n",
       "<rect x=\"41.666666666666664\" y=\"-166.66666666666666\" width=\"41.667\" height=\"83.333\" opacity=\"0.004504683283060803\" fill=\"currentColor\" stroke-width=\"0.1\"/>\n",
       "<rect x=\"83.33333333333333\" y=\"-166.66666666666666\" width=\"41.667\" height=\"83.333\" opacity=\"0.07651016034291157\" fill=\"currentColor\" stroke-width=\"0.1\"/>\n",
       "<rect x=\"125.0\" y=\"-166.66666666666666\" width=\"41.667\" height=\"83.333\" opacity=\"0.32742631105466474\" fill=\"currentColor\" stroke-width=\"0.1\"/>\n",
       "<rect x=\"166.66666666666666\" y=\"-166.66666666666666\" width=\"41.667\" height=\"83.333\" opacity=\"0.3278066624331904\" fill=\"currentColor\" stroke-width=\"0.1\"/>\n",
       "<rect x=\"208.33333333333334\" y=\"-166.66666666666666\" width=\"41.667\" height=\"83.333\" opacity=\"0.014760940890088373\" fill=\"currentColor\" stroke-width=\"0.1\"/>\n",
       "<rect x=\"0.0\" y=\"-250.0\" width=\"41.667\" height=\"83.333\" opacity=\"2.6459226332222043e-05\" fill=\"currentColor\" stroke-width=\"0.1\"/>\n",
       "<rect x=\"41.666666666666664\" y=\"-250.0\" width=\"41.667\" height=\"83.333\" opacity=\"0.0014387204318145736\" fill=\"currentColor\" stroke-width=\"0.1\"/>\n",
       "<rect x=\"83.33333333333333\" y=\"-250.0\" width=\"41.667\" height=\"83.333\" opacity=\"0.04499391437794359\" fill=\"currentColor\" stroke-width=\"0.1\"/>\n",
       "<rect x=\"125.0\" y=\"-250.0\" width=\"41.667\" height=\"83.333\" opacity=\"0.18711303381489122\" fill=\"currentColor\" stroke-width=\"0.1\"/>\n",
       "<rect x=\"166.66666666666666\" y=\"-250.0\" width=\"41.667\" height=\"83.333\" opacity=\"0.23181920410647192\" fill=\"currentColor\" stroke-width=\"0.1\"/>\n",
       "<rect x=\"208.33333333333334\" y=\"-250.0\" width=\"41.667\" height=\"83.333\" opacity=\"0.011440307985394506\" fill=\"currentColor\" stroke-width=\"0.1\"/>\n",
       "</svg>\n",
       "</div>\n",
       "<div style=\"flex=grow:1;\">\n",
       "Variable([0, 1, 2, 3, 4, 5, 6], name='nak4', label='Number of AK4 matched to Higgs')<br/>\n",
       "Variable([0, 1, 2, 3], name='nak8', label='Number of AK8 matched to Higgs')<br/>\n",
       "<hr style=\"margin-top:.2em; margin-bottom:.2em;\"/>\n",
       "Double() Σ=999277.0 <em>(1000000.0 with flow)</em>\n",
       "\n",
       "</div>\n",
       "</div>\n",
       "</html>"
      ],
      "text/plain": [
       "Hist(\n",
       "  Variable([0, 1, 2, 3, 4, 5, 6], name='nak4', label='Number of AK4 matched to Higgs'),\n",
       "  Variable([0, 1, 2, 3], name='nak8', label='Number of AK8 matched to Higgs'),\n",
       "  storage=Double()) # Sum: 999277.0 (1000000.0 with flow)"
      ]
     },
     "execution_count": 18,
     "metadata": {},
     "output_type": "execute_result"
    }
   ],
   "source": [
    "h = hist.Hist(nak4_axis, nak8_axis)\n",
    "h.fill(nak8=num_ak8m2h, nak4=num_ak4m2h)"
   ]
  },
  {
   "cell_type": "code",
   "execution_count": 19,
   "metadata": {},
   "outputs": [
    {
     "data": {
      "text/plain": [
       "(array([302352.,  99113.,  70091.]), array([0., 1., 2., 3.]))"
      ]
     },
     "execution_count": 19,
     "metadata": {},
     "output_type": "execute_result"
    }
   ],
   "source": [
    "h[{\"nak4\":4}].to_numpy()"
   ]
  },
  {
   "cell_type": "code",
   "execution_count": 20,
   "metadata": {},
   "outputs": [
    {
     "data": {
      "text/plain": [
       "302352"
      ]
     },
     "execution_count": 20,
     "metadata": {},
     "output_type": "execute_result"
    }
   ],
   "source": [
    "np.sum(num_ak8m2h[num_ak4m2h==4]==0)"
   ]
  },
  {
   "cell_type": "code",
   "execution_count": 21,
   "metadata": {},
   "outputs": [
    {
     "data": {
      "text/plain": [
       "302352"
      ]
     },
     "execution_count": 21,
     "metadata": {},
     "output_type": "execute_result"
    }
   ],
   "source": [
    "np.sum((num_ak8m2h==0) & (num_ak4m2h==4))"
   ]
  },
  {
   "cell_type": "code",
   "execution_count": 22,
   "metadata": {},
   "outputs": [
    {
     "data": {
      "text/plain": [
       "Text(0.5, 1.0, 'Overlap between ak4 and ak8')"
      ]
     },
     "execution_count": 22,
     "metadata": {},
     "output_type": "execute_result"
    },
    {
     "data": {
      "image/png": "[encoded data removed]",
      "text/plain": [
       "<Figure size 800x800 with 2 Axes>"
      ]
     },
     "metadata": {},
     "output_type": "display_data"
    }
   ],
   "source": [
    "\n",
    "nevents = num_ak8m2h1.shape[0]\n",
    "h = hist.Hist(nak4_axis, nak8_axis)\n",
    "h.fill(nak8=num_ak8m2h, nak4=num_ak4m2h)\n",
    "\n",
    "h = h/nevents\n",
    "\n",
    "fig, ax = plt.subplots(figsize=(8, 8))\n",
    "mplhep.hist2dplot(h, ax=ax, flow='none')\n",
    "values, bins_x, bins_y = h.to_numpy()\n",
    "for i in range(len(bins_x) - 1):\n",
    "    for j in range(len(bins_y) - 1):\n",
    "        ax.text(\n",
    "            (bins_x[i] + bins_x[i + 1]) / 2,\n",
    "            (bins_y[j] + bins_y[j + 1]) / 2,\n",
    "            values[i, j].round(4),\n",
    "            color=\"black\",\n",
    "            ha=\"center\",\n",
    "            va=\"center\",\n",
    "            fontsize=12,\n",
    "        )\n",
    "# Hide major tick labels\n",
    "ax.set_xticklabels('')\n",
    "ax.set_yticklabels('')\n",
    "\n",
    "# Customize minor tick labels\n",
    "ax.set_xticks([0.5,1.5,2.5,3.5,4.5],      minor=True)\n",
    "ax.set_xticklabels(['0','1','2','3','4'], minor=True)\n",
    "ax.set_yticks([0.5,1.5,2.5],      minor=True)\n",
    "ax.set_yticklabels(['0','1','2'], minor=True)\n",
    "ax.set_title(\"Overlap between ak4 and ak8\")"
   ]
  },
  {
   "cell_type": "markdown",
   "metadata": {},
   "source": [
    "#### Number of reconstructible Higgses"
   ]
  },
  {
   "cell_type": "code",
   "execution_count": 23,
   "metadata": {},
   "outputs": [],
   "source": [
    "nak8_rec_axis = hist.axis.Variable([0,1,2,3], name=\"nak8\", label=\"Number of reconstructible Higgs (AK8)\")\n",
    "nak4_rec_axis = hist.axis.Variable([0,1,2,3], name=\"nak4\", label=\"Number of reconstructible Higgs (AK4)\")\n"
   ]
  },
  {
   "cell_type": "code",
   "execution_count": 24,
   "metadata": {},
   "outputs": [
    {
     "data": {
      "text/plain": [
       "array([[ 1.0000e+00,  0.0000e+00, -9.9999e+04,  0.0000e+00, -9.9999e+04,\n",
       "        -9.9999e+04],\n",
       "       [ 0.0000e+00,  1.0000e+00, -9.9999e+04,  1.0000e+00, -9.9999e+04,\n",
       "        -9.9999e+04],\n",
       "       [ 0.0000e+00,  1.0000e+00,  0.0000e+00,  1.0000e+00, -9.9999e+04,\n",
       "        -9.9999e+04],\n",
       "       ...,\n",
       "       [ 1.0000e+00,  0.0000e+00,  0.0000e+00, -9.9999e+04, -9.9999e+04,\n",
       "        -9.9999e+04],\n",
       "       [ 0.0000e+00,  0.0000e+00,  1.0000e+00, -9.9999e+04, -9.9999e+04,\n",
       "        -9.9999e+04],\n",
       "       [ 0.0000e+00,  1.0000e+00,  1.0000e+00,  0.0000e+00, -9.9999e+04,\n",
       "        -9.9999e+04]])"
      ]
     },
     "execution_count": 24,
     "metadata": {},
     "output_type": "execute_result"
    }
   ],
   "source": [
    "indexak4"
   ]
  },
  {
   "cell_type": "code",
   "execution_count": 25,
   "metadata": {},
   "outputs": [
    {
     "data": {
      "text/plain": [
       "array([2, 1, 2, ..., 2, 2, 2])"
      ]
     },
     "execution_count": 25,
     "metadata": {},
     "output_type": "execute_result"
    }
   ],
   "source": [
    "np.sum(indexak4 == 0, axis=1)"
   ]
  },
  {
   "cell_type": "code",
   "execution_count": 26,
   "metadata": {},
   "outputs": [
    {
     "name": "stdout",
     "output_type": "stream",
     "text": [
      "[1 0 1 ... 1 1 1]\n",
      "[0 1 1 ... 0 0 1]\n"
     ]
    }
   ],
   "source": [
    "# to have a reconstrucible higgs by ak4 we need 2 AK4 jets matched to each H\n",
    "num_h1recak4 = (np.sum(indexak4 == 0, axis=1)==2).astype(int)\n",
    "num_h2recak4 = (np.sum(indexak4 == 1, axis=1)==2).astype(int)\n",
    "print(num_h1recak4)\n",
    "print(num_h2recak4)\n",
    "num_hrecak4 = num_h1recak4 + num_h2recak4"
   ]
  },
  {
   "cell_type": "code",
   "execution_count": 27,
   "metadata": {},
   "outputs": [
    {
     "data": {
      "text/plain": [
       "array([[-99999, -99999, -99999],\n",
       "       [     0, -99999, -99999],\n",
       "       [-99999, -99999, -99999],\n",
       "       ...,\n",
       "       [     1, -99999, -99999],\n",
       "       [-99999, -99999, -99999],\n",
       "       [     0, -99999, -99999]])"
      ]
     },
     "execution_count": 27,
     "metadata": {},
     "output_type": "execute_result"
    }
   ],
   "source": [
    "indexak8"
   ]
  },
  {
   "cell_type": "code",
   "execution_count": 28,
   "metadata": {},
   "outputs": [
    {
     "name": "stdout",
     "output_type": "stream",
     "text": [
      "[0 1 0 ... 0 0 1]\n",
      "[0 0 0 ... 1 0 0]\n"
     ]
    }
   ],
   "source": [
    "# to have a reconstrucible higgs by ak8 we need 1 AK8 jets matched to each H\n",
    "num_h1recak8 = (np.sum(indexak8 == 0, axis=1)==1).astype(int)\n",
    "num_h2recak8 = (np.sum(indexak8 == 1, axis=1)==1).astype(int)\n",
    "print(num_h1recak8)\n",
    "print(num_h2recak8)\n",
    "num_hrecak8 = num_h1recak8 + num_h2recak8"
   ]
  },
  {
   "cell_type": "code",
   "execution_count": 29,
   "metadata": {},
   "outputs": [
    {
     "data": {
      "text/plain": [
       "Text(0.5, 1.0, 'Overlap between ak4 and ak8')"
      ]
     },
     "execution_count": 29,
     "metadata": {},
     "output_type": "execute_result"
    },
    {
     "data": {
      "image/png": "[encoded data removed]",
      "text/plain": [
       "<Figure size 800x800 with 2 Axes>"
      ]
     },
     "metadata": {},
     "output_type": "display_data"
    }
   ],
   "source": [
    "nevents = num_h1recak4.shape[0]\n",
    "h = hist.Hist(nak4_rec_axis, nak8_rec_axis)\n",
    "h.fill(nak8=num_hrecak8, nak4=num_hrecak4)\n",
    "\n",
    "h = h/nevents\n",
    "\n",
    "fig, ax = plt.subplots(figsize=(8, 8))\n",
    "mplhep.hist2dplot(h, ax=ax, flow='none')\n",
    "values, bins_x, bins_y = h.to_numpy()\n",
    "for i in range(len(bins_x) - 1):\n",
    "    for j in range(len(bins_y) - 1):\n",
    "        ax.text(\n",
    "            (bins_x[i] + bins_x[i + 1]) / 2,\n",
    "            (bins_y[j] + bins_y[j + 1]) / 2,\n",
    "            values[i, j].round(4),\n",
    "            color=\"black\",\n",
    "            ha=\"center\",\n",
    "            va=\"center\",\n",
    "            fontsize=12,\n",
    "        )\n",
    "# Hide major tick labels\n",
    "ax.set_xticklabels('')\n",
    "ax.set_yticklabels('')\n",
    "\n",
    "# Customize minor tick labels\n",
    "ax.set_yticks([0.5,1.5,2.5],      minor=True)\n",
    "ax.set_yticklabels(['0','1','2'], minor=True)\n",
    "ax.set_xticks([0.5,1.5,2.5],      minor=True)\n",
    "ax.set_xticklabels(['0','1','2'], minor=True)\n",
    "ax.set_title(\"Overlap between ak4 and ak8\")"
   ]
  },
  {
   "cell_type": "markdown",
   "metadata": {},
   "source": [
    "### Remove overlap"
   ]
  },
  {
   "cell_type": "code",
   "execution_count": 30,
   "metadata": {},
   "outputs": [],
   "source": [
    "def make_vector(events: pd.DataFrame, obj: str):\n",
    "    \"\"\"Create a ``vector`` object from the columns of the dataframe\"\"\"\n",
    "    mstring = \"PNetMass\" if obj == \"ak8FatJet\" else \"Mass\"\n",
    "\n",
    "    return vector.array(\n",
    "        {\n",
    "            \"pt\": events[f\"{obj}Pt\"],\n",
    "            \"phi\": events[f\"{obj}Phi\"],\n",
    "            \"eta\": events[f\"{obj}Eta\"],\n",
    "            \"M\": events[f\"{obj}{mstring}\"],\n",
    "        }\n",
    "    )"
   ]
  },
  {
   "cell_type": "code",
   "execution_count": 31,
   "metadata": {},
   "outputs": [],
   "source": [
    "# make boolean of whether ak4 is overlapping with ak8\n",
    "\n",
    "jets = make_vector(events_dict[\"hh4b\"], \"ak4Jet\")\n",
    "fatjets = make_vector(events_dict[\"hh4b\"], \"ak8FatJet\")"
   ]
  },
  {
   "cell_type": "code",
   "execution_count": 32,
   "metadata": {},
   "outputs": [],
   "source": [
    "deltaR_fj0 = np.array([jets[:, i].deltaR(fatjets[:, 0]) for i in range(6)]).T\n",
    "deltaR_fj1 = np.array([jets[:, i].deltaR(fatjets[:, 1]) for i in range(6)]).T\n",
    "\n",
    "deltaR_fj = np.array([deltaR_fj0, deltaR_fj1])"
   ]
  },
  {
   "cell_type": "code",
   "execution_count": 33,
   "metadata": {},
   "outputs": [
    {
     "data": {
      "text/plain": [
       "array([0, 1, 0, ..., 0, 0, 1])"
      ]
     },
     "execution_count": 33,
     "metadata": {},
     "output_type": "execute_result"
    }
   ],
   "source": [
    "indexak8h1 = np.sum(h1ak8, axis=1)\n",
    "indexak8h1"
   ]
  },
  {
   "cell_type": "code",
   "execution_count": 34,
   "metadata": {},
   "outputs": [
    {
     "data": {
      "text/plain": [
       "array([0, 0, 0, ..., 1, 0, 0])"
      ]
     },
     "execution_count": 34,
     "metadata": {},
     "output_type": "execute_result"
    }
   ],
   "source": [
    "indexak8h2 = np.sum(h2ak8, axis=1)\n",
    "indexak8h2"
   ]
  },
  {
   "cell_type": "code",
   "execution_count": 35,
   "metadata": {},
   "outputs": [
    {
     "data": {
      "text/plain": [
       "array([[False,  True, False,  True, False, False],\n",
       "       [ True, False, False, False, False, False],\n",
       "       [ True, False,  True, False, False, False],\n",
       "       ...,\n",
       "       [False,  True,  True, False, False, False],\n",
       "       [ True,  True, False, False, False, False],\n",
       "       [ True, False, False,  True, False, False]])"
      ]
     },
     "execution_count": 35,
     "metadata": {},
     "output_type": "execute_result"
    }
   ],
   "source": [
    "h1ak4"
   ]
  },
  {
   "cell_type": "code",
   "execution_count": 36,
   "metadata": {},
   "outputs": [],
   "source": [
    "overlap_fj_h1 = []\n",
    "for i,index in enumerate(indexak8h1):\n",
    "    if index>1: \n",
    "        overlap_fj_h1.append(np.array([False]*6))\n",
    "        continue\n",
    "    overlap_fj_h1.append(deltaR_fj[index][i] < 0.4)\n",
    "overlap_fj_h1 = np.array(overlap_fj_h1)"
   ]
  },
  {
   "cell_type": "code",
   "execution_count": 37,
   "metadata": {},
   "outputs": [],
   "source": [
    "overlap_fj_h2 = []\n",
    "for i,index in enumerate(indexak8h2):\n",
    "    if index>1: \n",
    "        overlap_fj_h2.append(np.array([False]*6))\n",
    "        continue\n",
    "    overlap_fj_h2.append(deltaR_fj[index][i] < 0.4)\n",
    "overlap_fj_h2 = np.array(overlap_fj_h2)"
   ]
  },
  {
   "cell_type": "code",
   "execution_count": 38,
   "metadata": {},
   "outputs": [
    {
     "data": {
      "text/plain": [
       "array([[False, False, False, False, False, False],\n",
       "       [False, False, False, False, False, False],\n",
       "       [False, False, False, False, False,  True],\n",
       "       ...,\n",
       "       [ True, False, False, False, False, False],\n",
       "       [False, False, False, False, False, False],\n",
       "       [False, False, False, False, False, False]])"
      ]
     },
     "execution_count": 38,
     "metadata": {},
     "output_type": "execute_result"
    }
   ],
   "source": [
    "overlap_fj_h1"
   ]
  },
  {
   "cell_type": "code",
   "execution_count": 39,
   "metadata": {},
   "outputs": [
    {
     "data": {
      "text/plain": [
       "array([[False, False, False, False, False, False],\n",
       "       [ True, False, False, False, False, False],\n",
       "       [False, False, False, False, False,  True],\n",
       "       ...,\n",
       "       [False, False, False, False, False, False],\n",
       "       [False, False, False, False, False, False],\n",
       "       [ True, False, False, False, False, False]])"
      ]
     },
     "execution_count": 39,
     "metadata": {},
     "output_type": "execute_result"
    }
   ],
   "source": [
    "overlap_fj_h2"
   ]
  },
  {
   "cell_type": "code",
   "execution_count": 40,
   "metadata": {},
   "outputs": [
    {
     "data": {
      "text/plain": [
       "array([3, 3, 4, ..., 3, 3, 4])"
      ]
     },
     "execution_count": 40,
     "metadata": {},
     "output_type": "execute_result"
    }
   ],
   "source": [
    "h1ak4_nooverlap = (indexak4 == 0) & (overlap_fj_h1 == False)\n",
    "h2ak4_nooverlap = (indexak4 == 1) & (overlap_fj_h2 == False)\n",
    "\n",
    "num_ak4m2h1_nooverlap = h1ak4_nooverlap.sum(axis=1)\n",
    "num_ak4m2h2_nooverlap = h2ak4_nooverlap.sum(axis=1)\n",
    "\n",
    "num_ak4m2h_nooverlap = num_ak4m2h1_nooverlap + num_ak4m2h2_nooverlap\n",
    "num_ak4m2h_nooverlap"
   ]
  },
  {
   "cell_type": "code",
   "execution_count": 41,
   "metadata": {},
   "outputs": [
    {
     "data": {
      "text/plain": [
       "array([3, 3, 4, ..., 3, 3, 4])"
      ]
     },
     "execution_count": 41,
     "metadata": {},
     "output_type": "execute_result"
    }
   ],
   "source": [
    "num_ak4m2h"
   ]
  },
  {
   "cell_type": "code",
   "execution_count": 42,
   "metadata": {},
   "outputs": [
    {
     "data": {
      "text/plain": [
       "array([3, 3, 4, ..., 3, 3, 4])"
      ]
     },
     "execution_count": 42,
     "metadata": {},
     "output_type": "execute_result"
    }
   ],
   "source": [
    "num_ak4m2h_nooverlap"
   ]
  },
  {
   "cell_type": "code",
   "execution_count": 43,
   "metadata": {},
   "outputs": [
    {
     "data": {
      "text/plain": [
       "(1000000,)"
      ]
     },
     "execution_count": 43,
     "metadata": {},
     "output_type": "execute_result"
    }
   ],
   "source": [
    "num_ak4m2h1_nooverlap.shape"
   ]
  },
  {
   "cell_type": "code",
   "execution_count": 44,
   "metadata": {},
   "outputs": [
    {
     "data": {
      "text/plain": [
       "Text(0.5, 1.0, 'No overlap between ak4 and ak8')"
      ]
     },
     "execution_count": 44,
     "metadata": {},
     "output_type": "execute_result"
    },
    {
     "data": {
      "image/png": "[encoded data removed]",
      "text/plain": [
       "<Figure size 800x800 with 2 Axes>"
      ]
     },
     "metadata": {},
     "output_type": "display_data"
    }
   ],
   "source": [
    "nevents = num_ak4m2h1_nooverlap.shape[0]\n",
    "h = hist.Hist(nak4_axis, nak8_axis)\n",
    "h.fill(nak8=num_ak8m2h, nak4=num_ak4m2h_nooverlap)\n",
    "\n",
    "h = h/nevents\n",
    "\n",
    "fig, ax = plt.subplots(figsize=(8, 8))\n",
    "mplhep.hist2dplot(h, ax=ax, flow='none')\n",
    "values, bins_x, bins_y = h.to_numpy()\n",
    "for i in range(len(bins_x) - 1):\n",
    "    for j in range(len(bins_y) - 1):\n",
    "        ax.text(\n",
    "            (bins_x[i] + bins_x[i + 1]) / 2,\n",
    "            (bins_y[j] + bins_y[j + 1]) / 2,\n",
    "            values[i, j].round(4),\n",
    "            color=\"black\",\n",
    "            ha=\"center\",\n",
    "            va=\"center\",\n",
    "            fontsize=12,\n",
    "        )\n",
    "# Hide major tick labels\n",
    "ax.set_xticklabels('')\n",
    "ax.set_yticklabels('')\n",
    "\n",
    "# Customize minor tick labels\n",
    "ax.set_xticks([0.5,1.5,2.5,3.5,4.5],      minor=True)\n",
    "ax.set_xticklabels(['0','1','2','3','4'], minor=True)\n",
    "ax.set_yticks([0.5,1.5,2.5],      minor=True)\n",
    "ax.set_yticklabels(['0','1','2'], minor=True)\n",
    "ax.set_title(\"No overlap between ak4 and ak8\")"
   ]
  },
  {
   "cell_type": "code",
   "execution_count": 45,
   "metadata": {},
   "outputs": [
    {
     "name": "stdout",
     "output_type": "stream",
     "text": [
      "[0 1 0 ... 0 0 1]\n",
      "[0 0 0 ... 1 0 0]\n",
      "[1 0 1 ... 1 1 1]\n",
      "[0 1 1 ... 0 0 1]\n"
     ]
    }
   ],
   "source": [
    "# to have a reconstrucible higgs by ak8 we need 1 AK8 jets matched to each H\n",
    "num_h1recak8 = (np.sum(indexak8 == 0, axis=1)==1).astype(int)\n",
    "num_h2recak8 = (np.sum(indexak8 == 1, axis=1)==1).astype(int)\n",
    "print(num_h1recak8)\n",
    "print(num_h2recak8)\n",
    "num_hrecak8 = num_h1recak8 + num_h2recak8\n",
    "\n",
    "# to have a reconstrucible higgs by ak4 we need 2 AK4 jets matched to each H\n",
    "num_h1recak4_nooverlap = (np.sum((indexak4 == 0) & (overlap_fj_h1 == False), axis=1)==2).astype(int)\n",
    "num_h2recak4_nooverlap = (np.sum((indexak4 == 1) & (overlap_fj_h2 == False), axis=1)==2).astype(int)\n",
    "print(num_h1recak4_nooverlap)\n",
    "print(num_h2recak4_nooverlap)\n",
    "num_hrecak4_nooverlap = num_h1recak4_nooverlap + num_h2recak4_nooverlap"
   ]
  },
  {
   "cell_type": "code",
   "execution_count": 46,
   "metadata": {},
   "outputs": [
    {
     "data": {
      "text/plain": [
       "Text(0.5, 1.0, 'No overlap between ak4 and ak8')"
      ]
     },
     "execution_count": 46,
     "metadata": {},
     "output_type": "execute_result"
    },
    {
     "data": {
      "image/png": "[encoded data removed]",
      "text/plain": [
       "<Figure size 800x800 with 2 Axes>"
      ]
     },
     "metadata": {},
     "output_type": "display_data"
    }
   ],
   "source": [
    "nevents = num_h1recak8.shape[0]\n",
    "h = hist.Hist(nak4_rec_axis, nak8_rec_axis)\n",
    "h.fill(nak8=num_hrecak8, nak4=num_hrecak4_nooverlap)\n",
    "\n",
    "h = h/nevents\n",
    "\n",
    "fig, ax = plt.subplots(figsize=(8, 8))\n",
    "mplhep.hist2dplot(h, ax=ax, flow='none')\n",
    "values, bins_x, bins_y = h.to_numpy()\n",
    "for i in range(len(bins_x) - 1):\n",
    "    for j in range(len(bins_y) - 1):\n",
    "        ax.text(\n",
    "            (bins_x[i] + bins_x[i + 1]) / 2,\n",
    "            (bins_y[j] + bins_y[j + 1]) / 2,\n",
    "            values[i, j].round(4),\n",
    "            color=\"black\",\n",
    "            ha=\"center\",\n",
    "            va=\"center\",\n",
    "            fontsize=12,\n",
    "        )\n",
    "# Hide major tick labels\n",
    "ax.set_xticklabels('')\n",
    "ax.set_yticklabels('')\n",
    "\n",
    "# Customize minor tick labels\n",
    "ax.set_yticks([0.5,1.5,2.5],      minor=True)\n",
    "ax.set_yticklabels(['0','1','2'], minor=True)\n",
    "ax.set_xticks([0.5,1.5,2.5],      minor=True)\n",
    "ax.set_xticklabels(['0','1','2'], minor=True)\n",
    "ax.set_title(\"No overlap between ak4 and ak8\")"
   ]
  },
  {
   "cell_type": "code",
   "execution_count": 47,
   "metadata": {},
   "outputs": [
    {
     "data": {
      "text/plain": [
       "array([[0.065718, 0.027214, 0.039666],\n",
       "       [0.267996, 0.105299, 0.102653],\n",
       "       [0.294544, 0.09514 , 0.00177 ]])"
      ]
     },
     "execution_count": 47,
     "metadata": {},
     "output_type": "execute_result"
    }
   ],
   "source": [
    "values"
   ]
  },
  {
   "cell_type": "code",
   "execution_count": null,
   "metadata": {},
   "outputs": [],
   "source": []
  }
 ],
 "metadata": {
  "kernelspec": {
   "display_name": "coffea-env",
   "language": "python",
   "name": "python3"
  },
  "language_info": {
   "codemirror_mode": {
    "name": "ipython",
    "version": 3
   },
   "file_extension": ".py",
   "mimetype": "text/x-python",
   "name": "python",
   "nbconvert_exporter": "python",
   "pygments_lexer": "ipython3",
   "version": "3.8.16"
  },
  "orig_nbformat": 4
 },
 "nbformat": 4,
 "nbformat_minor": 2
}
