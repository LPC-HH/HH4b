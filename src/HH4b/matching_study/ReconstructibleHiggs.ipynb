{
 "cells": [
  {
   "cell_type": "code",
   "execution_count": null,
   "metadata": {},
   "outputs": [],
   "source": [
    "import sys\n",
    "sys.path.append(\"..\")\n",
    "\n",
    "import utils"
   ]
  },
  {
   "cell_type": "code",
   "execution_count": null,
   "metadata": {},
   "outputs": [],
   "source": [
    "import numpy as np\n",
    "import matplotlib.pyplot as plt\n",
    "import hist\n",
    "import mplhep\n",
    "import matplotlib as mpl\n",
    "mpl.rcParams['lines.linewidth'] = 2\n",
    "mpl.rcParams['grid.color'] = \"#CCCCCC\"\n",
    "mpl.rcParams['grid.linewidth'] = 0.5\n",
    "mpl.rcParams['figure.edgecolor'] = 'none'\n",
    "\n",
    "import pandas as pd\n",
    "import vector"
   ]
  },
  {
   "cell_type": "code",
   "execution_count": null,
   "metadata": {},
   "outputs": [],
   "source": [
    "samples = {\n",
    "    \"hh4b\": [\"GluGlutoHHto4B_cHHH1_TuneCP5_PSWeights_13TeV-powheg-pythia8\"],\n",
    "}\n",
    "\n",
    "# selection applied\n",
    "#path_to_dir = \"/eos/uscms/store/user/cmantill/bbbb/matching/Oct26NoSelection/\"\n",
    "# no selection applied\n",
    "# path_to_dir = \"/eos/uscms/store/user/cmantill/bbbb/matching/Oct26NoApplySelection/\"\n",
    "# resolved trigger and nak4>=4\n",
    "path_to_dir = \"/eos/uscms/store/user/cmantill/bbbb/matching/Oct27TrigAndNAK44/\"\n",
    "dirs = {path_to_dir: samples}\n",
    "year = \"2018\"\n",
    "\n",
    "filters = None\n",
    "\n",
    "# dictionary that will contain all information (from all samples)\n",
    "events_dict = {}\n",
    "for input_dir, samples in dirs.items():\n",
    "    events_dict = {\n",
    "        **events_dict,\n",
    "        # this function will load files (only the columns selected), apply filters and compute a weight per event\n",
    "        **utils.load_samples(input_dir, samples, year, filters=filters),\n",
    "    }\n",
    "\n",
    "samples_loaded = list(events_dict.keys())\n",
    "keys_loaded = list(events_dict[samples_loaded[0]].keys())\n",
    "print(f\"Keys in events_dict\")\n",
    "for i in keys_loaded: print(i)"
   ]
  },
  {
   "cell_type": "markdown",
   "metadata": {},
   "source": [
    "## Investigate confusion matrix"
   ]
  },
  {
   "cell_type": "code",
   "execution_count": null,
   "metadata": {},
   "outputs": [],
   "source": [
    "drbh1ak8 = events_dict[\"hh4b\"][\"ak8FatJetMaxdRH1\"].to_numpy()\n",
    "drbh2ak8 = events_dict[\"hh4b\"][\"ak8FatJetMaxdRH2\"].to_numpy()\n",
    "indexak8 = events_dict[\"hh4b\"][\"ak8FatJetHiggsMatchIndex\"].to_numpy()\n",
    "indexak4 = events_dict[\"hh4b\"][\"ak4JetHiggsMatchIndex\"].to_numpy()\n",
    "nbh1ak8 = events_dict[\"hh4b\"][\"ak8FatJetNumBMatchedH1\"].to_numpy()\n",
    "nbh2ak8 = events_dict[\"hh4b\"][\"ak8FatJetNumBMatchedH2\"].to_numpy()"
   ]
  },
  {
   "cell_type": "markdown",
   "metadata": {},
   "source": [
    "### With overlap"
   ]
  },
  {
   "cell_type": "code",
   "execution_count": null,
   "metadata": {},
   "outputs": [],
   "source": [
    "h1ak4 = indexak4 == 0\n",
    "h2ak4 = indexak4 == 1\n",
    "h1ak8 = indexak8 == 0\n",
    "h2ak8 = indexak8 == 1\n",
    "\n",
    "num_ak4m2h1 = h1ak4.sum(axis=1)\n",
    "num_ak4m2h2 = h2ak4.sum(axis=1)\n",
    "\n",
    "num_ak8m2h1 = h1ak8.sum(axis=1)\n",
    "num_ak8m2h2 = h2ak8.sum(axis=1)\n"
   ]
  },
  {
   "cell_type": "code",
   "execution_count": null,
   "metadata": {},
   "outputs": [],
   "source": [
    "# is ak8 matched to H1\n",
    "h1ak8"
   ]
  },
  {
   "cell_type": "code",
   "execution_count": null,
   "metadata": {},
   "outputs": [],
   "source": [
    "# is ak8 matched to H2\n",
    "h2ak8"
   ]
  },
  {
   "cell_type": "code",
   "execution_count": null,
   "metadata": {},
   "outputs": [],
   "source": [
    "num_ak8m2h = num_ak8m2h1 + num_ak8m2h2\n",
    "num_ak8m2h"
   ]
  },
  {
   "cell_type": "code",
   "execution_count": null,
   "metadata": {},
   "outputs": [],
   "source": [
    "num_ak4m2h = num_ak4m2h1 + num_ak4m2h2\n",
    "num_ak4m2h"
   ]
  },
  {
   "cell_type": "code",
   "execution_count": null,
   "metadata": {},
   "outputs": [],
   "source": [
    "nak8_axis = hist.axis.Variable([0,1,2,3], name=\"nak8\", label=\"Number of AK8 matched to Higgs\")\n",
    "nak4_axis = hist.axis.Variable([0,1,2,3,4,5,6], name=\"nak4\", label=\"Number of AK4 matched to Higgs\")\n"
   ]
  },
  {
   "cell_type": "code",
   "execution_count": null,
   "metadata": {},
   "outputs": [],
   "source": [
    "nak4_axis"
   ]
  },
  {
   "cell_type": "code",
   "execution_count": null,
   "metadata": {},
   "outputs": [],
   "source": [
    "h = hist.Hist(nak4_axis)\n",
    "h.fill(nak4=num_ak4m2h)\n",
    "h"
   ]
  },
  {
   "cell_type": "code",
   "execution_count": null,
   "metadata": {},
   "outputs": [],
   "source": [
    "h = hist.Hist(nak8_axis)\n",
    "h.fill(nak8=num_ak8m2h)"
   ]
  },
  {
   "cell_type": "code",
   "execution_count": null,
   "metadata": {},
   "outputs": [],
   "source": [
    "h = hist.Hist(nak4_axis, nak8_axis)\n",
    "h.fill(nak8=num_ak8m2h, nak4=num_ak4m2h)"
   ]
  },
  {
   "cell_type": "code",
   "execution_count": null,
   "metadata": {},
   "outputs": [],
   "source": [
    "h[{\"nak4\":4}].to_numpy()"
   ]
  },
  {
   "cell_type": "code",
   "execution_count": null,
   "metadata": {},
   "outputs": [],
   "source": [
    "np.sum(num_ak8m2h[num_ak4m2h==4]==0)"
   ]
  },
  {
   "cell_type": "code",
   "execution_count": null,
   "metadata": {},
   "outputs": [],
   "source": [
    "np.sum((num_ak8m2h==0) & (num_ak4m2h==4))"
   ]
  },
  {
   "cell_type": "code",
   "execution_count": null,
   "metadata": {},
   "outputs": [],
   "source": [
    "\n",
    "nevents = num_ak8m2h1.shape[0]\n",
    "h = hist.Hist(nak4_axis, nak8_axis)\n",
    "h.fill(nak8=num_ak8m2h, nak4=num_ak4m2h)\n",
    "\n",
    "h = h/nevents\n",
    "\n",
    "fig, ax = plt.subplots(figsize=(8, 8))\n",
    "mplhep.hist2dplot(h, ax=ax, flow='none')\n",
    "values, bins_x, bins_y = h.to_numpy()\n",
    "for i in range(len(bins_x) - 1):\n",
    "    for j in range(len(bins_y) - 1):\n",
    "        ax.text(\n",
    "            (bins_x[i] + bins_x[i + 1]) / 2,\n",
    "            (bins_y[j] + bins_y[j + 1]) / 2,\n",
    "            values[i, j].round(4),\n",
    "            color=\"black\",\n",
    "            ha=\"center\",\n",
    "            va=\"center\",\n",
    "            fontsize=12,\n",
    "        )\n",
    "# Hide major tick labels\n",
    "ax.set_xticklabels('')\n",
    "ax.set_yticklabels('')\n",
    "\n",
    "# Customize minor tick labels\n",
    "ax.set_xticks([0.5,1.5,2.5,3.5,4.5],      minor=True)\n",
    "ax.set_xticklabels(['0','1','2','3','4'], minor=True)\n",
    "ax.set_yticks([0.5,1.5,2.5],      minor=True)\n",
    "ax.set_yticklabels(['0','1','2'], minor=True)\n",
    "ax.set_title(\"Overlap between ak4 and ak8\")"
   ]
  },
  {
   "cell_type": "markdown",
   "metadata": {},
   "source": [
    "#### Number of reconstructible Higgses"
   ]
  },
  {
   "cell_type": "code",
   "execution_count": null,
   "metadata": {},
   "outputs": [],
   "source": [
    "nak8_rec_axis = hist.axis.Variable([0,1,2,3], name=\"nak8\", label=\"Number of reconstructible Higgs (AK8)\")\n",
    "nak4_rec_axis = hist.axis.Variable([0,1,2,3], name=\"nak4\", label=\"Number of reconstructible Higgs (AK4)\")\n"
   ]
  },
  {
   "cell_type": "code",
   "execution_count": null,
   "metadata": {},
   "outputs": [],
   "source": [
    "indexak4"
   ]
  },
  {
   "cell_type": "code",
   "execution_count": null,
   "metadata": {},
   "outputs": [],
   "source": [
    "np.sum(indexak4 == 0, axis=1)"
   ]
  },
  {
   "cell_type": "code",
   "execution_count": null,
   "metadata": {},
   "outputs": [],
   "source": [
    "# to have a reconstrucible higgs by ak4 we need 2 AK4 jets matched to each H\n",
    "num_h1recak4 = (np.sum(indexak4 == 0, axis=1)==2).astype(int)\n",
    "num_h2recak4 = (np.sum(indexak4 == 1, axis=1)==2).astype(int)\n",
    "print(num_h1recak4)\n",
    "print(num_h2recak4)\n",
    "num_hrecak4 = num_h1recak4 + num_h2recak4"
   ]
  },
  {
   "cell_type": "code",
   "execution_count": null,
   "metadata": {},
   "outputs": [],
   "source": [
    "indexak8"
   ]
  },
  {
   "cell_type": "code",
   "execution_count": null,
   "metadata": {},
   "outputs": [],
   "source": [
    "# to have a reconstrucible higgs by ak8 we need 1 AK8 jets matched to each H\n",
    "num_h1recak8 = (np.sum(indexak8 == 0, axis=1)==1).astype(int)\n",
    "num_h2recak8 = (np.sum(indexak8 == 1, axis=1)==1).astype(int)\n",
    "print(num_h1recak8)\n",
    "print(num_h2recak8)\n",
    "num_hrecak8 = num_h1recak8 + num_h2recak8"
   ]
  },
  {
   "cell_type": "code",
   "execution_count": null,
   "metadata": {},
   "outputs": [],
   "source": [
    "nevents = num_h1recak4.shape[0]\n",
    "h = hist.Hist(nak4_rec_axis, nak8_rec_axis)\n",
    "h.fill(nak8=num_hrecak8, nak4=num_hrecak4)\n",
    "\n",
    "h = h/nevents\n",
    "\n",
    "fig, ax = plt.subplots(figsize=(8, 8))\n",
    "mplhep.hist2dplot(h, ax=ax, flow='none')\n",
    "values, bins_x, bins_y = h.to_numpy()\n",
    "for i in range(len(bins_x) - 1):\n",
    "    for j in range(len(bins_y) - 1):\n",
    "        ax.text(\n",
    "            (bins_x[i] + bins_x[i + 1]) / 2,\n",
    "            (bins_y[j] + bins_y[j + 1]) / 2,\n",
    "            values[i, j].round(4),\n",
    "            color=\"black\",\n",
    "            ha=\"center\",\n",
    "            va=\"center\",\n",
    "            fontsize=12,\n",
    "        )\n",
    "# Hide major tick labels\n",
    "ax.set_xticklabels('')\n",
    "ax.set_yticklabels('')\n",
    "\n",
    "# Customize minor tick labels\n",
    "ax.set_yticks([0.5,1.5,2.5],      minor=True)\n",
    "ax.set_yticklabels(['0','1','2'], minor=True)\n",
    "ax.set_xticks([0.5,1.5,2.5],      minor=True)\n",
    "ax.set_xticklabels(['0','1','2'], minor=True)\n",
    "ax.set_title(\"Overlap between ak4 and ak8\")"
   ]
  },
  {
   "cell_type": "markdown",
   "metadata": {},
   "source": [
    "### Remove overlap"
   ]
  },
  {
   "cell_type": "code",
   "execution_count": null,
   "metadata": {},
   "outputs": [],
   "source": [
    "def make_vector(events: pd.DataFrame, obj: str):\n",
    "    \"\"\"Create a ``vector`` object from the columns of the dataframe\"\"\"\n",
    "    mstring = \"PNetMass\" if obj == \"ak8FatJet\" else \"Mass\"\n",
    "\n",
    "    return vector.array(\n",
    "        {\n",
    "            \"pt\": events[f\"{obj}Pt\"],\n",
    "            \"phi\": events[f\"{obj}Phi\"],\n",
    "            \"eta\": events[f\"{obj}Eta\"],\n",
    "            \"M\": events[f\"{obj}{mstring}\"],\n",
    "        }\n",
    "    )"
   ]
  },
  {
   "cell_type": "code",
   "execution_count": null,
   "metadata": {},
   "outputs": [],
   "source": [
    "# make boolean of whether ak4 is overlapping with ak8\n",
    "\n",
    "jets = make_vector(events_dict[\"hh4b\"], \"ak4Jet\")\n",
    "fatjets = make_vector(events_dict[\"hh4b\"], \"ak8FatJet\")"
   ]
  },
  {
   "cell_type": "code",
   "execution_count": null,
   "metadata": {},
   "outputs": [],
   "source": [
    "deltaR_fj0 = np.array([jets[:, i].deltaR(fatjets[:, 0]) for i in range(6)]).T\n",
    "deltaR_fj1 = np.array([jets[:, i].deltaR(fatjets[:, 1]) for i in range(6)]).T\n",
    "\n",
    "deltaR_fj = np.array([deltaR_fj0, deltaR_fj1])"
   ]
  },
  {
   "cell_type": "code",
   "execution_count": null,
   "metadata": {},
   "outputs": [],
   "source": [
    "indexak8h1 = np.sum(h1ak8, axis=1)\n",
    "indexak8h1"
   ]
  },
  {
   "cell_type": "code",
   "execution_count": null,
   "metadata": {},
   "outputs": [],
   "source": [
    "indexak8h2 = np.sum(h2ak8, axis=1)\n",
    "indexak8h2"
   ]
  },
  {
   "cell_type": "code",
   "execution_count": null,
   "metadata": {},
   "outputs": [],
   "source": [
    "h1ak4"
   ]
  },
  {
   "cell_type": "code",
   "execution_count": null,
   "metadata": {},
   "outputs": [],
   "source": [
    "overlap_fj_h1 = []\n",
    "for i,index in enumerate(indexak8h1):\n",
    "    if index>1: \n",
    "        overlap_fj_h1.append(np.array([False]*6))\n",
    "        continue\n",
    "    overlap_fj_h1.append(deltaR_fj[index][i] < 0.4)\n",
    "overlap_fj_h1 = np.array(overlap_fj_h1)"
   ]
  },
  {
   "cell_type": "code",
   "execution_count": null,
   "metadata": {},
   "outputs": [],
   "source": [
    "overlap_fj_h2 = []\n",
    "for i,index in enumerate(indexak8h2):\n",
    "    if index>1: \n",
    "        overlap_fj_h2.append(np.array([False]*6))\n",
    "        continue\n",
    "    overlap_fj_h2.append(deltaR_fj[index][i] < 0.4)\n",
    "overlap_fj_h2 = np.array(overlap_fj_h2)"
   ]
  },
  {
   "cell_type": "code",
   "execution_count": null,
   "metadata": {},
   "outputs": [],
   "source": [
    "overlap_fj_h1"
   ]
  },
  {
   "cell_type": "code",
   "execution_count": null,
   "metadata": {},
   "outputs": [],
   "source": [
    "overlap_fj_h2"
   ]
  },
  {
   "cell_type": "code",
   "execution_count": null,
   "metadata": {},
   "outputs": [],
   "source": [
    "h1ak4_nooverlap = (indexak4 == 0) & (overlap_fj_h1 == False)\n",
    "h2ak4_nooverlap = (indexak4 == 1) & (overlap_fj_h2 == False)\n",
    "\n",
    "num_ak4m2h1_nooverlap = h1ak4_nooverlap.sum(axis=1)\n",
    "num_ak4m2h2_nooverlap = h2ak4_nooverlap.sum(axis=1)\n",
    "\n",
    "num_ak4m2h_nooverlap = num_ak4m2h1_nooverlap + num_ak4m2h2_nooverlap\n",
    "num_ak4m2h_nooverlap"
   ]
  },
  {
   "cell_type": "code",
   "execution_count": null,
   "metadata": {},
   "outputs": [],
   "source": [
    "num_ak4m2h"
   ]
  },
  {
   "cell_type": "code",
   "execution_count": null,
   "metadata": {},
   "outputs": [],
   "source": [
    "num_ak4m2h_nooverlap"
   ]
  },
  {
   "cell_type": "code",
   "execution_count": null,
   "metadata": {},
   "outputs": [],
   "source": [
    "num_ak4m2h1_nooverlap.shape"
   ]
  },
  {
   "cell_type": "code",
   "execution_count": null,
   "metadata": {},
   "outputs": [],
   "source": [
    "nevents = num_ak4m2h1_nooverlap.shape[0]\n",
    "h = hist.Hist(nak4_axis, nak8_axis)\n",
    "h.fill(nak8=num_ak8m2h, nak4=num_ak4m2h_nooverlap)\n",
    "\n",
    "h = h/nevents\n",
    "\n",
    "fig, ax = plt.subplots(figsize=(8, 8))\n",
    "mplhep.hist2dplot(h, ax=ax, flow='none')\n",
    "values, bins_x, bins_y = h.to_numpy()\n",
    "for i in range(len(bins_x) - 1):\n",
    "    for j in range(len(bins_y) - 1):\n",
    "        ax.text(\n",
    "            (bins_x[i] + bins_x[i + 1]) / 2,\n",
    "            (bins_y[j] + bins_y[j + 1]) / 2,\n",
    "            values[i, j].round(4),\n",
    "            color=\"black\",\n",
    "            ha=\"center\",\n",
    "            va=\"center\",\n",
    "            fontsize=12,\n",
    "        )\n",
    "# Hide major tick labels\n",
    "ax.set_xticklabels('')\n",
    "ax.set_yticklabels('')\n",
    "\n",
    "# Customize minor tick labels\n",
    "ax.set_xticks([0.5,1.5,2.5,3.5,4.5],      minor=True)\n",
    "ax.set_xticklabels(['0','1','2','3','4'], minor=True)\n",
    "ax.set_yticks([0.5,1.5,2.5],      minor=True)\n",
    "ax.set_yticklabels(['0','1','2'], minor=True)\n",
    "ax.set_title(\"No overlap between ak4 and ak8\")"
   ]
  },
  {
   "cell_type": "code",
   "execution_count": null,
   "metadata": {},
   "outputs": [],
   "source": [
    "# to have a reconstrucible higgs by ak8 we need 1 AK8 jets matched to each H\n",
    "num_h1recak8 = (np.sum(indexak8 == 0, axis=1)==1).astype(int)\n",
    "num_h2recak8 = (np.sum(indexak8 == 1, axis=1)==1).astype(int)\n",
    "print(num_h1recak8)\n",
    "print(num_h2recak8)\n",
    "num_hrecak8 = num_h1recak8 + num_h2recak8\n",
    "\n",
    "# to have a reconstrucible higgs by ak4 we need 2 AK4 jets matched to each H\n",
    "num_h1recak4_nooverlap = (np.sum((indexak4 == 0) & (overlap_fj_h1 == False), axis=1)==2).astype(int)\n",
    "num_h2recak4_nooverlap = (np.sum((indexak4 == 1) & (overlap_fj_h2 == False), axis=1)==2).astype(int)\n",
    "print(num_h1recak4_nooverlap)\n",
    "print(num_h2recak4_nooverlap)\n",
    "num_hrecak4_nooverlap = num_h1recak4_nooverlap + num_h2recak4_nooverlap"
   ]
  },
  {
   "cell_type": "code",
   "execution_count": null,
   "metadata": {},
   "outputs": [],
   "source": [
    "nevents = num_h1recak8.shape[0]\n",
    "h = hist.Hist(nak4_rec_axis, nak8_rec_axis)\n",
    "h.fill(nak8=num_hrecak8, nak4=num_hrecak4_nooverlap)\n",
    "\n",
    "h = h/nevents\n",
    "\n",
    "fig, ax = plt.subplots(figsize=(8, 8))\n",
    "mplhep.hist2dplot(h, ax=ax, flow='none')\n",
    "values, bins_x, bins_y = h.to_numpy()\n",
    "for i in range(len(bins_x) - 1):\n",
    "    for j in range(len(bins_y) - 1):\n",
    "        ax.text(\n",
    "            (bins_x[i] + bins_x[i + 1]) / 2,\n",
    "            (bins_y[j] + bins_y[j + 1]) / 2,\n",
    "            values[i, j].round(4),\n",
    "            color=\"black\",\n",
    "            ha=\"center\",\n",
    "            va=\"center\",\n",
    "            fontsize=12,\n",
    "        )\n",
    "# Hide major tick labels\n",
    "ax.set_xticklabels('')\n",
    "ax.set_yticklabels('')\n",
    "\n",
    "# Customize minor tick labels\n",
    "ax.set_yticks([0.5,1.5,2.5],      minor=True)\n",
    "ax.set_yticklabels(['0','1','2'], minor=True)\n",
    "ax.set_xticks([0.5,1.5,2.5],      minor=True)\n",
    "ax.set_xticklabels(['0','1','2'], minor=True)\n",
    "ax.set_title(\"No overlap between ak4 and ak8\")"
   ]
  },
  {
   "cell_type": "code",
   "execution_count": null,
   "metadata": {},
   "outputs": [],
   "source": [
    "values"
   ]
  },
  {
   "cell_type": "code",
   "execution_count": null,
   "metadata": {},
   "outputs": [],
   "source": []
  }
 ],
 "metadata": {
  "kernelspec": {
   "display_name": "coffea-env",
   "language": "python",
   "name": "python3"
  },
  "language_info": {
   "codemirror_mode": {
    "name": "ipython",
    "version": 3
   },
   "file_extension": ".py",
   "mimetype": "text/x-python",
   "name": "python",
   "nbconvert_exporter": "python",
   "pygments_lexer": "ipython3",
   "version": "3.8.16"
  },
  "orig_nbformat": 4
 },
 "nbformat": 4,
 "nbformat_minor": 2
}
