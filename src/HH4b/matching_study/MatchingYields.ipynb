{
 "cells": [
  {
   "cell_type": "code",
   "execution_count": null,
   "metadata": {},
   "outputs": [],
   "source": [
    "import numpy as np\n",
    "import pandas as pd\n",
    "import vector\n",
    "import os\n",
    "import hist\n",
    "import awkward as ak\n",
    "\n",
    "vector.register_awkward()"
   ]
  },
  {
   "cell_type": "code",
   "execution_count": null,
   "metadata": {},
   "outputs": [],
   "source": [
    "import matplotlib.pyplot as plt\n",
    "import matplotlib.ticker as mticker\n",
    "\n",
    "# mplhep for CMS-style plots\n",
    "import mplhep as hep\n",
    "\n",
    "plt.style.use(hep.style.CMS)\n",
    "hep.style.use(\"CMS\")\n",
    "formatter = mticker.ScalarFormatter(useMathText=True)\n",
    "formatter.set_powerlimits((-3, 3))\n",
    "plt.rcParams.update({\"font.size\": 16})"
   ]
  },
  {
   "cell_type": "code",
   "execution_count": null,
   "metadata": {},
   "outputs": [],
   "source": [
    "def make_vector(events: pd.DataFrame, obj: str):\n",
    "    \"\"\"Create a ``vector`` object from the columns of the dataframe\"\"\"\n",
    "    mstring = \"Msd\" if obj == \"ak8FatJet\" else \"Mass\"\n",
    "\n",
    "    return vector.array(\n",
    "        {\n",
    "            \"pt\": events[f\"{obj}Pt\"],\n",
    "            \"phi\": events[f\"{obj}Phi\"],\n",
    "            \"eta\": events[f\"{obj}Eta\"],\n",
    "            \"M\": events[f\"{obj}{mstring}\"],\n",
    "        }\n",
    "    )"
   ]
  },
  {
   "cell_type": "code",
   "execution_count": null,
   "metadata": {},
   "outputs": [],
   "source": [
    "events = pd.read_parquet(\n",
    "    \"/eos/uscms/store/user/cmantill/bbbb/matching/Sep19/GluGlutoHHto4B_kl-1p00_kt-1p00_c2-0p00_TuneCP5_13p6TeV_TSG/parquet\"\n",
    ")\n",
    "jets = make_vector(events, \"ak4Jet\")\n",
    "gen_higgs = make_vector(events, \"GenHiggs\")\n",
    "fjs = make_vector(events, \"ak8FatJet\")"
   ]
  },
  {
   "cell_type": "code",
   "execution_count": null,
   "metadata": {},
   "outputs": [],
   "source": [
    "# ak4 jets matched to h1 and h2\n",
    "h1ak4 = events[\"ak4JetHiggsMatchIndex\"].to_numpy() == 0\n",
    "h2ak4 = events[\"ak4JetHiggsMatchIndex\"].to_numpy() == 1\n",
    "num_ak4m2h1 = h1ak4.sum(axis=1)\n",
    "num_ak4m2h2 = h2ak4.sum(axis=1)\n",
    "h1m2ak4 = num_ak4m2h1 == 2\n",
    "h2m2ak4 = num_ak4m2h2 == 2\n",
    "\n",
    "# ak8 jets matched to h1 and h2\n",
    "h1ak8 = events[\"ak8FatJetHiggsMatchIndex\"].to_numpy() == 0\n",
    "h2ak8 = events[\"ak8FatJetHiggsMatchIndex\"].to_numpy() == 1\n",
    "num_ak8m2h1 = h1ak8.sum(axis=1)\n",
    "num_ak8m2h2 = h2ak8.sum(axis=1)\n",
    "h1m1ak8 = num_ak8m2h1 == 1\n",
    "h2m1ak8 = num_ak8m2h2 == 1\n",
    "\n",
    "boosted = h1m1ak8 & h2m1ak8\n",
    "resolved = (h1m2ak4 & h2m2ak4) & ~(boosted)\n",
    "semi_resolved_h1 = h1m2ak4 & (h2m1ak8 & ~h2m2ak4) & ~(resolved) & ~(boosted)\n",
    "semi_resolved_h2 = h2m2ak4 & (h1m1ak8 & ~h1m2ak4) & ~(resolved) & ~(boosted)\n",
    "semi_resolved = semi_resolved_h1 | semi_resolved_h2\n",
    "not_categorized = ~(resolved | boosted | semi_resolved)"
   ]
  },
  {
   "cell_type": "markdown",
   "metadata": {},
   "source": [
    "## Classification from gen-level definition\n",
    "\n",
    "We can classify events depending on matching into orthogonal categories:\n",
    "- Boosted: 2 AK8 jets matched to H1 and H2, respectively\n",
    "- Resolved: 4 AK4 jets matched to H1 and H2, 2 and 2, respectively - AND vetoing boosted\n",
    "- Semi-resolved: \"2 AK4 jets matched to H1/H2 and 1 AK8 jet matched to H2/H1 - AND vetoing boosted or resolved"
   ]
  },
  {
   "cell_type": "code",
   "execution_count": null,
   "metadata": {},
   "outputs": [],
   "source": [
    "print(f\"Total number of signal events: {len(events)}\")\n",
    "print(f\"2 AK8 jets matched to H1 and H2: {ak.sum(boosted)}\")\n",
    "print(f\"4 AK4 jets matched to H1 and H2: {ak.sum(resolved)}\")\n",
    "print(f\"2 AK4 jets matched to H1/H2 and 1 AK8 jet matched to H2/H1: {ak.sum(semi_resolved)}\")\n",
    "print(f\"Outside of these categories: {ak.sum(not_categorized)}\")\n",
    "print(\n",
    "    f\"Sum of all: {ak.sum(not_categorized) + ak.sum(resolved) + ak.sum(boosted) + ak.sum(semi_resolved)}\"\n",
    ")"
   ]
  },
  {
   "cell_type": "markdown",
   "metadata": {},
   "source": [
    "## Tasks for billy (gen-level)\n",
    "\n",
    "Understand behavior at gen-level of `not-categorized events` (events that are not boosted, resolved or semi-resolved):\n",
    "- plot gen MHH for all events (95248 events) and for each of the 4 categories above\n",
    "- further categorize `not-categorized events`:\n",
    "  - what is the number of AK4 Jets matched to H1 and matched to H2 (1 + 2, 2 + 1, 0?. >2?)\n",
    "  - what is the number of AK8 Jets matched to H1 and matched to H2 (1 + 2, 2 + 1, 0?. >2?)\n"
   ]
  },
  {
   "cell_type": "code",
   "execution_count": null,
   "metadata": {},
   "outputs": [],
   "source": [
    "# e.g. number of ak4 jets matched to h1 and h2 for non-categorized events\n",
    "print(num_ak4m2h1[not_categorized])\n",
    "print(num_ak4m2h2[not_categorized])"
   ]
  },
  {
   "cell_type": "markdown",
   "metadata": {},
   "source": [
    "## Reco-level studies\n",
    "\n",
    "- Understand FatJet tagger score + particle net mass distributions for events in each gen-level category"
   ]
  },
  {
   "cell_type": "code",
   "execution_count": null,
   "metadata": {},
   "outputs": [],
   "source": [
    "fj_mwh1_idx = events[\"ak8FatJetHiggsMatchIndex\"].to_numpy() == 0\n",
    "fj_mwh2_idx = events[\"ak8FatJetHiggsMatchIndex\"].to_numpy() == 1\n",
    "\n",
    "fj_xbb = events[\"ak8FatJetPNetXbb\"].to_numpy()\n",
    "fj_mass = events[\"ak8FatJetPNetMass\"].to_numpy()"
   ]
  },
  {
   "cell_type": "code",
   "execution_count": null,
   "metadata": {},
   "outputs": [],
   "source": [
    "def plot_h1h2_fj(x, label, bins):\n",
    "    fj_mwh1_semi_resolved = x[semi_resolved][fj_mwh1_idx[semi_resolved]]\n",
    "    fj_mwh2_semi_resolved = x[semi_resolved][fj_mwh2_idx[semi_resolved]]\n",
    "\n",
    "    fj_mwh1_boosted = x[boosted][fj_mwh1_idx[boosted]]\n",
    "    fj_mwh2_boosted = x[boosted][fj_mwh2_idx[boosted]]\n",
    "\n",
    "    fj_mwh1_resolved = x[resolved][fj_mwh1_idx[resolved]]\n",
    "    fj_mwh2_resolved = x[resolved][fj_mwh2_idx[resolved]]\n",
    "\n",
    "    fj_mwh1_outside = x[not_categorized][fj_mwh1_idx[not_categorized]]\n",
    "    fj_mwh2_outside = x[not_categorized][fj_mwh2_idx[not_categorized]]\n",
    "\n",
    "    var_axis = hist.axis.Variable(bins, name=\"var\", label=\"variable\")\n",
    "    cat_axis = hist.axis.StrCategory([], name=\"cat\", growth=True)\n",
    "\n",
    "    h1 = hist.Hist(var_axis, cat_axis)\n",
    "    h1.fill(var=fj_mwh1_boosted, cat=\"boosted\")\n",
    "    h1.fill(var=fj_mwh1_semi_resolved, cat=\"semi_resolved\")\n",
    "    h1.fill(var=fj_mwh1_resolved, cat=\"resolved\")\n",
    "    h1.fill(var=fj_mwh1_outside, cat=\"non-categorized\")\n",
    "\n",
    "    h2 = hist.Hist(var_axis, cat_axis)\n",
    "    h2.fill(var=fj_mwh2_boosted, cat=\"boosted\")\n",
    "    h2.fill(var=fj_mwh2_semi_resolved, cat=\"semi_resolved\")\n",
    "    h2.fill(var=fj_mwh2_resolved, cat=\"resolved\")\n",
    "    h2.fill(var=fj_mwh2_outside, cat=\"non-categorized\")\n",
    "\n",
    "    fig, ax = plt.subplots(1, 2, figsize=(8, 4))\n",
    "    hep.histplot(h1[{\"cat\": \"boosted\"}], ax=ax[0], label=\"Boosted\")\n",
    "    hep.histplot(h1[{\"cat\": \"resolved\"}], ax=ax[0], label=\"Resolved\")\n",
    "    hep.histplot(h1[{\"cat\": \"semi_resolved\"}], ax=ax[0], label=\"Semi-Resolved\")\n",
    "    hep.histplot(h1[{\"cat\": \"non-categorized\"}], ax=ax[0], label=\"Outside of these categories\")\n",
    "    leg = ax[0].legend(fontsize=10)\n",
    "    leg.set_title(\"Gen-Level categories\", prop={\"size\": 10})\n",
    "    ax[0].set_xlabel(label + \" - matched to H1\")\n",
    "\n",
    "    hep.histplot(h2[{\"cat\": \"boosted\"}], ax=ax[1], label=\"Boosted\")\n",
    "    hep.histplot(h2[{\"cat\": \"resolved\"}], ax=ax[1], label=\"Resolved\")\n",
    "    hep.histplot(h2[{\"cat\": \"semi_resolved\"}], ax=ax[1], label=\"Semi-Resolved\")\n",
    "    hep.histplot(h2[{\"cat\": \"non-categorized\"}], ax=ax[1], label=\"Outside of these categories\")\n",
    "    leg = ax[1].legend(fontsize=10)\n",
    "    leg.set_title(\"Gen-Level categories\", prop={\"size\": 10})\n",
    "    ax[1].set_xlabel(label + \" matched to H2\")"
   ]
  },
  {
   "cell_type": "code",
   "execution_count": null,
   "metadata": {},
   "outputs": [],
   "source": [
    "plot_h1h2_fj(fj_xbb, r\"fj $T_{Xbb}$ Score\", np.arange(0, 1, 0.03))\n",
    "plot_h1h2_fj(fj_mass, r\"fj Mass\", np.arange(0, 200, 7))"
   ]
  },
  {
   "cell_type": "markdown",
   "metadata": {},
   "source": [
    "## Tasks for billy (reco-level)\n",
    "\n",
    "Understand behavior at gen-level of `not-categorized events` (events that are not boosted, resolved or semi-resolved):\n",
    "- 2d plot of fatjet reco pnet mass vs Xbb score for each category\n",
    "- Plot fatjet reco-mass and Xbb score for events that fail a tight boosted selection:\n",
    "  - tight boosted selection: (fj_0_Xbb > 0.99) & (fj_0_pnet_mass > 100) & (fj_0_pnet_mass < 140>) & (fj_1_Xbb > 0.99) & (fj_1_pnet_mass > 100) & (fj_1_pnet_mass < 140>) where fj_0 and fj_1 are the fatjets in the event (sorted by Xbb, 0 has the highest Xbb score)\n"
   ]
  },
  {
   "cell_type": "markdown",
   "metadata": {},
   "source": []
  }
 ],
 "metadata": {
  "kernelspec": {
   "display_name": "coffea-env",
   "language": "python",
   "name": "python3"
  },
  "language_info": {
   "codemirror_mode": {
    "name": "ipython",
    "version": 3
   },
   "file_extension": ".py",
   "mimetype": "text/x-python",
   "name": "python",
   "nbconvert_exporter": "python",
   "pygments_lexer": "ipython3",
   "version": "3.8.16"
  },
  "orig_nbformat": 4
 },
 "nbformat": 4,
 "nbformat_minor": 2
}
