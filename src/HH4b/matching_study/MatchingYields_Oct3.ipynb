{
 "cells": [
  {
   "cell_type": "code",
   "execution_count": null,
   "metadata": {},
   "outputs": [],
   "source": [
    "import numpy as np\n",
    "import pandas as pd\n",
    "import vector\n",
    "import os\n",
    "import hist\n",
    "import awkward as ak\n",
    "\n",
    "vector.register_awkward()"
   ]
  },
  {
   "cell_type": "code",
   "execution_count": null,
   "metadata": {},
   "outputs": [],
   "source": [
    "import matplotlib.pyplot as plt\n",
    "import matplotlib.ticker as mticker\n",
    "\n",
    "# mplhep for CMS-style plots\n",
    "import mplhep as hep\n",
    "\n",
    "plt.style.use(hep.style.CMS)\n",
    "hep.style.use(\"CMS\")\n",
    "formatter = mticker.ScalarFormatter(useMathText=True)\n",
    "formatter.set_powerlimits((-3, 3))\n",
    "plt.rcParams.update({\"font.size\": 16})"
   ]
  },
  {
   "cell_type": "code",
   "execution_count": null,
   "metadata": {},
   "outputs": [],
   "source": [
    "def make_vector(events: pd.DataFrame, obj: str):\n",
    "    \"\"\"Create a ``vector`` object from the columns of the dataframe\"\"\"\n",
    "    mstring = \"Msd\" if obj == \"ak8FatJet\" else \"Mass\"\n",
    "\n",
    "    return vector.array(\n",
    "        {\n",
    "            \"pt\": events[f\"{obj}Pt\"],\n",
    "            \"phi\": events[f\"{obj}Phi\"],\n",
    "            \"eta\": events[f\"{obj}Eta\"],\n",
    "            \"M\": events[f\"{obj}{mstring}\"],\n",
    "        }\n",
    "    )"
   ]
  },
  {
   "cell_type": "code",
   "execution_count": null,
   "metadata": {},
   "outputs": [],
   "source": [
    "events = pd.read_parquet(\n",
    "    \"/eos/uscms/store/user/cmantill/bbbb/matching/Oct2/2018/GluGlutoHHto4B_cHHH1_TuneCP5_PSWeights_13TeV-powheg-pythia8/parquet\"\n",
    ")\n",
    "jets = make_vector(events, \"ak4Jet\")\n",
    "gen_higgs = make_vector(events, \"GenHiggs\")\n",
    "fjs = make_vector(events, \"ak8FatJet\")"
   ]
  },
  {
   "cell_type": "code",
   "execution_count": null,
   "metadata": {},
   "outputs": [],
   "source": [
    "list(events.keys())"
   ]
  },
  {
   "cell_type": "code",
   "execution_count": null,
   "metadata": {},
   "outputs": [],
   "source": [
    "drbh1ak8 = events[\"ak8FatJetMaxdRH1\"].to_numpy()\n",
    "drbh2ak8 = events[\"ak8FatJetMaxdRH2\"].to_numpy()\n",
    "indexak8 = events[\"ak8FatJetHiggsMatchIndex\"].to_numpy()\n",
    "indexak4 = events[\"ak4JetHiggsMatchIndex\"].to_numpy()\n",
    "nbh1ak8 = events[\"ak8FatJetNumBMatchedH1\"].to_numpy()\n",
    "nbh2ak8 = events[\"ak8FatJetNumBMatchedH2\"].to_numpy()"
   ]
  },
  {
   "cell_type": "code",
   "execution_count": null,
   "metadata": {},
   "outputs": [],
   "source": [
    "drbh2ak8"
   ]
  },
  {
   "cell_type": "code",
   "execution_count": null,
   "metadata": {},
   "outputs": [],
   "source": [
    "drbh2ak8[indexak8 == 1]"
   ]
  },
  {
   "cell_type": "code",
   "execution_count": null,
   "metadata": {},
   "outputs": [],
   "source": [
    "drbh2ak8.shape"
   ]
  },
  {
   "cell_type": "code",
   "execution_count": null,
   "metadata": {},
   "outputs": [],
   "source": [
    "hist_dr_h1 = hist.Hist(hist.axis.Regular(40, 0, 4, name=\"drb\", label=\"max dr with b-quark\"))\n",
    "hist_dr_h1.fill(drb=drbh1ak8[indexak8 == 0])\n",
    "hist_dr_h1"
   ]
  },
  {
   "cell_type": "code",
   "execution_count": null,
   "metadata": {},
   "outputs": [],
   "source": [
    "indexak8"
   ]
  },
  {
   "cell_type": "code",
   "execution_count": null,
   "metadata": {},
   "outputs": [],
   "source": [
    "hist_dr_h2 = hist.Hist(hist.axis.Regular(40, 0, 4, name=\"drb\", label=\"max dr with b-quark\"))\n",
    "hist_dr_h2.fill(drb=drbh2ak8[indexak8 == 1])\n",
    "hist_dr_h2"
   ]
  },
  {
   "cell_type": "code",
   "execution_count": null,
   "metadata": {},
   "outputs": [],
   "source": [
    "fig, ax = plt.subplots(1, 1, figsize=(8, 4))\n",
    "hep.histplot(hist_dr_h1, ax=ax, label=\"fJ matched to H1\")\n",
    "hep.histplot(hist_dr_h2, ax=ax, label=\"fJ matched to H2\")\n",
    "leg = ax.legend(fontsize=10)\n",
    "leg.set_title(\"Gen-Level categories\", prop={\"size\": 10})\n",
    "ax.set_xlabel(r\"Max dR(fatjet, b-quark)\")"
   ]
  },
  {
   "cell_type": "code",
   "execution_count": null,
   "metadata": {},
   "outputs": [],
   "source": [
    "# ak4 jets matched to h1 and h2\n",
    "h1ak4 = indexak4 == 0\n",
    "h2ak4 = indexak4 == 1\n",
    "num_ak4m2h1 = h1ak4.sum(axis=1)\n",
    "num_ak4m2h2 = h2ak4.sum(axis=1)\n",
    "h1m2ak4 = num_ak4m2h1 == 2\n",
    "h2m2ak4 = num_ak4m2h2 == 2\n",
    "\n",
    "# ak8 jets matched to h1 and h2\n",
    "h1ak8 = indexak8 == 0\n",
    "h2ak8 = indexak8 == 1\n",
    "num_ak8m2h1 = h1ak8.sum(axis=1)\n",
    "num_ak8m2h2 = h2ak8.sum(axis=1)\n",
    "h1m1ak8 = num_ak8m2h1 == 1\n",
    "h2m1ak8 = num_ak8m2h2 == 1\n",
    "\n",
    "boosted = h1m1ak8 & h2m1ak8\n",
    "resolved = (h1m2ak4 & h2m2ak4) & ~(boosted) & (num_ak8m2h1 == 0) & (num_ak8m2h2 == 0)\n",
    "semi_resolved_h1 = h1m2ak4 & (h2m1ak8 & ~h2m2ak4) & ~(resolved) & ~(boosted)\n",
    "semi_resolved_h2 = h2m2ak4 & (h1m1ak8 & ~h1m2ak4) & ~(resolved) & ~(boosted)\n",
    "semi_resolved = semi_resolved_h1 | semi_resolved_h2\n",
    "not_categorized = ~(resolved | boosted | semi_resolved)"
   ]
  },
  {
   "cell_type": "code",
   "execution_count": null,
   "metadata": {},
   "outputs": [],
   "source": [
    "h1ak8nb2 = (indexak8 == 0) & (nbh1ak8 == 2)\n",
    "h2ak8nb2 = (indexak8 == 1) & (nbh2ak8 == 2)\n",
    "h1m1ak8b2 = h1ak8nb2.sum(axis=1) == 1\n",
    "h2m1ak8b2 = h2ak8nb2.sum(axis=1) == 1\n",
    "\n",
    "h1ak8nb1 = (indexak8 == 0) & (nbh1ak8 == 1)\n",
    "h2ak8nb1 = (indexak8 == 1) & (nbh2ak8 == 1)\n",
    "h1m1ak8b1 = h1ak8nb1.sum(axis=1) == 1\n",
    "h2m1ak8b1 = h2ak8nb1.sum(axis=1) == 1\n",
    "\n",
    "boosted_nb2 = h1m1ak8b2 & h2m1ak8b2\n",
    "boosted_nb1 = h1m1ak8b1 & h2m1ak8b1\n",
    "boosted_nb1nb2 = (h1m1ak8b1 & h2m1ak8b2) | (h1m1ak8b2 & h2m1ak8b1)"
   ]
  },
  {
   "cell_type": "code",
   "execution_count": null,
   "metadata": {},
   "outputs": [],
   "source": [
    "semi_resolved_h1_b2 = h1m2ak4 & (h2m1ak8b2 & ~h2m2ak4) & ~(resolved) & ~(boosted)\n",
    "semi_resolved_h2_b2 = h2m2ak4 & (h1m1ak8b2 & ~h1m2ak4) & ~(resolved) & ~(boosted)\n",
    "semi_resolved_h1_b1 = h1m2ak4 & (h2m1ak8b1 & ~h2m2ak4) & ~(resolved) & ~(boosted)\n",
    "semi_resolved_h2_b1 = h2m2ak4 & (h1m1ak8b1 & ~h1m2ak4) & ~(resolved) & ~(boosted)\n",
    "\n",
    "semi_resolved_h_b2 = semi_resolved_h1_b2 | semi_resolved_h2_b2\n",
    "semi_resolved_h_b1 = semi_resolved_h1_b1 | semi_resolved_h2_b1"
   ]
  },
  {
   "cell_type": "markdown",
   "metadata": {},
   "source": [
    "## Classification from gen-level definition\n",
    "\n",
    "We can classify events depending on matching into orthogonal categories:\n",
    "- Boosted: 2 AK8 jets matched to H1 and H2, respectively\n",
    "- Resolved: 4 AK4 jets matched to H1 and H2, 2 and 2, respectively - AND vetoing boosted\n",
    "- Semi-resolved: \"2 AK4 jets matched to H1/H2 and 1 AK8 jet matched to H2/H1 - AND vetoing boosted or resolved"
   ]
  },
  {
   "cell_type": "code",
   "execution_count": null,
   "metadata": {},
   "outputs": [],
   "source": [
    "print(f\"Total number of signal events: {len(events)}\")\n",
    "print(f\"2 AK8 jets matched to H1 and H2: {ak.sum(boosted)}\")\n",
    "print(f\"4 AK4 jets matched to H1 and H2: {ak.sum(resolved)}\")\n",
    "print(f\"2 AK4 jets matched to H1/H2 and 1 AK8 jet matched to H2/H1: {ak.sum(semi_resolved)}\")\n",
    "print(f\"Outside of these categories: {ak.sum(not_categorized)}\")\n",
    "print(\n",
    "    f\"Sum of all: {ak.sum(not_categorized) + ak.sum(resolved) + ak.sum(boosted) + ak.sum(semi_resolved)}\"\n",
    ")"
   ]
  },
  {
   "cell_type": "markdown",
   "metadata": {},
   "source": [
    "## Tasks for billy (gen-level)\n",
    "\n",
    "Understand behavior at gen-level of `not-categorized events` (events that are not boosted, resolved or semi-resolved):\n",
    "- plot gen MHH for all events (95248 events) and for each of the 4 categories above"
   ]
  },
  {
   "cell_type": "code",
   "execution_count": null,
   "metadata": {},
   "outputs": [],
   "source": [
    "# calcualte m_HH for every event\n",
    "mhh = (gen_higgs[:, 0] + gen_higgs[:, 1]).m\n",
    "\n",
    "# bypass into each category\n",
    "mhh_boosted = mhh[boosted]\n",
    "mhh_resolved = mhh[resolved]\n",
    "mhh_semi = mhh[semi_resolved]\n",
    "mhh_out = mhh[not_categorized]\n",
    "\n",
    "# start to plot, code modified on Christina's plot_h1h2_fj\n",
    "bins = np.arange(mhh.min(), mhh.max(), 10)\n",
    "bins = np.arange(100, 2000, 10)\n",
    "var_axis = hist.axis.Variable(bins, name=\"var\", label=\"variable\")\n",
    "cat_axis = hist.axis.StrCategory([], name=\"cat\", growth=True)\n",
    "\n",
    "hist_mhh = hist.Hist(var_axis, cat_axis)\n",
    "hist_mhh.fill(var=mhh_boosted, cat=\"boosted\")\n",
    "hist_mhh.fill(var=mhh_semi, cat=\"semi_resolved\")\n",
    "hist_mhh.fill(var=mhh_resolved, cat=\"resolved\")\n",
    "hist_mhh.fill(var=mhh_out, cat=\"non-categorized\")\n",
    "\n",
    "fig, ax = plt.subplots(1, 1, figsize=(8, 4))\n",
    "hist_mhh[{\"cat\": \"boosted\"}].plot1d(ax=ax, label=\"Boosted\")\n",
    "hist_mhh[{\"cat\": \"resolved\"}].plot1d(ax=ax, label=\"Resolved\")\n",
    "hist_mhh[{\"cat\": \"semi_resolved\"}].plot1d(ax=ax, label=\"Semi-Resolved\")\n",
    "hist_mhh[{\"cat\": \"non-categorized\"}].plot1d(ax=ax, label=\"Outside of these categories\")\n",
    "leg = ax.legend(fontsize=10)\n",
    "leg.set_title(\"Gen-Level categories\", prop={\"size\": 10})\n",
    "ax.set_xlim(0, 2000)\n",
    "ax.set_xlabel(r\"$m_{HH}$\")"
   ]
  },
  {
   "cell_type": "code",
   "execution_count": null,
   "metadata": {},
   "outputs": [],
   "source": [
    "fig, ax = plt.subplots(1, 1, figsize=(8, 4))\n",
    "hep.histplot(hist_mhh[{\"cat\": \"boosted\"}], ax=ax, label=\"Boosted\")\n",
    "hep.histplot(hist_mhh[{\"cat\": \"semi_resolved\"}], ax=ax, label=\"Semi-Resolved\")\n",
    "leg = ax.legend(fontsize=10)\n",
    "leg.set_title(\"Gen-Level categories\", prop={\"size\": 10})\n",
    "ax.set_xlabel(r\"$m_{HH}$\")\n",
    "ax.set_ylim(0, 5000)"
   ]
  },
  {
   "cell_type": "code",
   "execution_count": null,
   "metadata": {},
   "outputs": [],
   "source": [
    "bins = np.arange(mhh.min(), mhh.max(), 10)\n",
    "var_axis = hist.axis.Variable(bins, name=\"var\", label=\"variable\")\n",
    "cat_axis = hist.axis.StrCategory([], name=\"cat\", growth=True)\n",
    "\n",
    "hist_mhh = hist.Hist(var_axis, cat_axis)\n",
    "hist_mhh.fill(var=mhh[boosted_nb2], cat=\"boosted-2b\")\n",
    "hist_mhh.fill(var=mhh[boosted_nb1], cat=\"boosted-1b\")\n",
    "hist_mhh.fill(var=mhh[boosted_nb1nb2], cat=\"boosted-2b1b\")\n",
    "\n",
    "fig, ax = plt.subplots(1, 1, figsize=(8, 4))\n",
    "hep.histplot(hist_mhh[{\"cat\": \"boosted-2b\"}], ax=ax, label=\"Boosted (2 bs)\")\n",
    "hep.histplot(hist_mhh[{\"cat\": \"boosted-1b\"}], ax=ax, label=\"Boosted (1 bs)\")\n",
    "hep.histplot(hist_mhh[{\"cat\": \"boosted-2b1b\"}], ax=ax, label=\"Boosted (1b, 2bs matched)\")\n",
    "leg = ax.legend(fontsize=10)\n",
    "leg.set_title(\"Gen-Level categories\", prop={\"size\": 10})\n",
    "ax.set_xlabel(r\"$m_{HH}$\")\n",
    "ax.set_xlim(0, 2000)"
   ]
  },
  {
   "cell_type": "code",
   "execution_count": null,
   "metadata": {},
   "outputs": [],
   "source": [
    "bins = np.arange(mhh.min(), mhh.max(), 10)\n",
    "var_axis = hist.axis.Variable(bins, name=\"var\", label=\"variable\")\n",
    "cat_axis = hist.axis.StrCategory([], name=\"cat\", growth=True)\n",
    "\n",
    "hist_mhh = hist.Hist(var_axis, cat_axis)\n",
    "hist_mhh.fill(var=mhh[semi_resolved_h_b2], cat=\"semi-2b\")\n",
    "hist_mhh.fill(var=mhh[semi_resolved_h_b1], cat=\"semi-1b\")\n",
    "\n",
    "fig, ax = plt.subplots(1, 1, figsize=(8, 4))\n",
    "hep.histplot(hist_mhh[{\"cat\": \"semi-2b\"}], ax=ax, label=\"Semi-Resolved (fj-2 bs)\")\n",
    "hep.histplot(hist_mhh[{\"cat\": \"semi-1b\"}], ax=ax, label=\"Semi-Resolved (fj-1 bs)\")\n",
    "leg = ax.legend(fontsize=10)\n",
    "leg.set_title(\"Gen-Level categories\", prop={\"size\": 10})\n",
    "ax.set_xlabel(r\"$m_{HH}$\")\n",
    "ax.set_ylim(0, 5000)"
   ]
  },
  {
   "cell_type": "code",
   "execution_count": null,
   "metadata": {},
   "outputs": [],
   "source": [
    "hist_dr_h2 = hist.Hist(hist.axis.Regular(40, 0, 4, name=\"drb\", label=\"max dr with b-quark\"))\n",
    "hist_dr_h2.fill(drbh2ak8[semi_resolved_h2_b2][indexak8[semi_resolved_h2_b2] == 1])\n",
    "hist_dr_h2"
   ]
  },
  {
   "cell_type": "code",
   "execution_count": null,
   "metadata": {},
   "outputs": [],
   "source": [
    "hist_dr_h1 = hist.Hist(hist.axis.Regular(40, 0, 4, name=\"drb\", label=\"max dr with b-quark\"))\n",
    "hist_dr_h1.fill(drbh1ak8[semi_resolved_h1_b2][indexak8[semi_resolved_h1_b2] == 0])\n",
    "hist_dr_h1"
   ]
  },
  {
   "cell_type": "code",
   "execution_count": null,
   "metadata": {},
   "outputs": [],
   "source": [
    "fig, ax = plt.subplots(1, 1, figsize=(8, 4))\n",
    "hep.histplot(hist_dr_h1, ax=ax, label=\"fJ matched to H1\")\n",
    "hep.histplot(hist_dr_h2, ax=ax, label=\"fJ matched to H2\")\n",
    "leg = ax.legend(fontsize=10)\n",
    "leg.set_title(\"Gen-Level categories\", prop={\"size\": 10})\n",
    "ax.set_xlabel(r\"Max dR(fatjet, b-quark)\")"
   ]
  },
  {
   "cell_type": "code",
   "execution_count": null,
   "metadata": {},
   "outputs": [],
   "source": [
    "hist_dr_h2 = hist.Hist(hist.axis.Regular(40, 0, 4, name=\"drb\", label=\"max dr with b-quark\"))\n",
    "hist_dr_h2.fill(drbh2ak8[semi_resolved_h2_b1][indexak8[semi_resolved_h2_b1] == 1])\n",
    "hist_dr_h2"
   ]
  },
  {
   "cell_type": "code",
   "execution_count": null,
   "metadata": {},
   "outputs": [],
   "source": [
    "hist_dr_h1 = hist.Hist(hist.axis.Regular(40, 0, 4, name=\"drb\", label=\"max dr with b-quark\"))\n",
    "hist_dr_h1.fill(drbh1ak8[semi_resolved_h1_b1][indexak8[semi_resolved_h1_b1] == 0])\n",
    "hist_dr_h1"
   ]
  },
  {
   "cell_type": "code",
   "execution_count": null,
   "metadata": {},
   "outputs": [],
   "source": [
    "fig, ax = plt.subplots(1, 1, figsize=(8, 4))\n",
    "hep.histplot(hist_dr_h1, ax=ax, label=\"fJ matched to H1\")\n",
    "hep.histplot(hist_dr_h2, ax=ax, label=\"fJ matched to H2\")\n",
    "leg = ax.legend(fontsize=10)\n",
    "leg.set_title(\"Gen-Level categories\", prop={\"size\": 10})\n",
    "ax.set_xlabel(r\"Max dR(fatjet, b-quark)\")"
   ]
  },
  {
   "cell_type": "code",
   "execution_count": null,
   "metadata": {},
   "outputs": [],
   "source": [
    "drbh2ak8[semi_resolved_h2_b2][indexak8[semi_resolved_h2_b2] == 1]"
   ]
  },
  {
   "cell_type": "markdown",
   "metadata": {},
   "source": [
    "- further categorize `not-categorized events`:\n",
    "  - what is the number of AK4 Jets matched to H1 and matched to H2 (1 + 2, 2 + 1, 0?. >2?)"
   ]
  },
  {
   "cell_type": "code",
   "execution_count": null,
   "metadata": {},
   "outputs": [],
   "source": [
    "# e.g. number of ak4 jets matched to h1 and h2 for non-categorized events\n",
    "num_ak4m2h_nc = np.stack(\n",
    "    [num_ak4m2h1[not_categorized], num_ak4m2h2[not_categorized]], axis=1\n",
    ").tolist()\n",
    "\n",
    "unique_pair_ak4m2h_nc = []\n",
    "for pair in num_ak4m2h_nc:\n",
    "    if (pair not in unique_pair_ak4m2h_nc) and (pair[::-1] not in unique_pair_ak4m2h_nc):\n",
    "        unique_pair_ak4m2h_nc.append(pair)\n",
    "\n",
    "print(unique_pair_ak4m2h_nc)"
   ]
  },
  {
   "cell_type": "markdown",
   "metadata": {},
   "source": [
    "  - what is the number of AK8 Jets matched to H1 and matched to H2 (1 + 2, 2 + 1, 0?. >2?)"
   ]
  },
  {
   "cell_type": "code",
   "execution_count": null,
   "metadata": {},
   "outputs": [],
   "source": [
    "num_ak8m2h_nc = np.stack(\n",
    "    [num_ak8m2h1[not_categorized], num_ak8m2h2[not_categorized]], axis=1\n",
    ").tolist()\n",
    "\n",
    "unique_pair_ak8m2h_nc = []\n",
    "for pair in num_ak8m2h_nc:\n",
    "    if (pair not in unique_pair_ak8m2h_nc) and (pair[::-1] not in unique_pair_ak8m2h_nc):\n",
    "        unique_pair_ak8m2h_nc.append(pair)\n",
    "\n",
    "print(unique_pair_ak8m2h_nc)\n",
    "# filter out weird events"
   ]
  },
  {
   "cell_type": "markdown",
   "metadata": {},
   "source": [
    "## Reco-level studies\n",
    "\n",
    "- Understand FatJet tagger score + particle net mass distributions for events in each gen-level category"
   ]
  },
  {
   "cell_type": "code",
   "execution_count": null,
   "metadata": {},
   "outputs": [],
   "source": [
    "fj_mwh1_idx = events[\"ak8FatJetHiggsMatchIndex\"].to_numpy() == 0\n",
    "fj_mwh2_idx = events[\"ak8FatJetHiggsMatchIndex\"].to_numpy() == 1\n",
    "\n",
    "fj_xbb = events[\"ak8FatJetPNetXbb\"].to_numpy()\n",
    "fj_mass = events[\"ak8FatJetPNetMass\"].to_numpy()"
   ]
  },
  {
   "cell_type": "code",
   "execution_count": null,
   "metadata": {},
   "outputs": [],
   "source": [
    "def plot_h1h2_fj(x, label, bins):\n",
    "    fj_mwh1_semi_resolved = x[semi_resolved][fj_mwh1_idx[semi_resolved]]\n",
    "    fj_mwh2_semi_resolved = x[semi_resolved][fj_mwh2_idx[semi_resolved]]\n",
    "\n",
    "    fj_mwh1_boosted = x[boosted][fj_mwh1_idx[boosted]]\n",
    "    fj_mwh2_boosted = x[boosted][fj_mwh2_idx[boosted]]\n",
    "\n",
    "    fj_mwh1_resolved = x[resolved][fj_mwh1_idx[resolved]]\n",
    "    fj_mwh2_resolved = x[resolved][fj_mwh2_idx[resolved]]\n",
    "\n",
    "    fj_mwh1_outside = x[not_categorized][fj_mwh1_idx[not_categorized]]\n",
    "    fj_mwh2_outside = x[not_categorized][fj_mwh2_idx[not_categorized]]\n",
    "\n",
    "    var_axis = hist.axis.Variable(bins, name=\"var\", label=\"variable\")\n",
    "    cat_axis = hist.axis.StrCategory([], name=\"cat\", growth=True)\n",
    "\n",
    "    h1 = hist.Hist(var_axis, cat_axis)\n",
    "    h1.fill(var=fj_mwh1_boosted, cat=\"boosted\")\n",
    "    h1.fill(var=fj_mwh1_semi_resolved, cat=\"semi_resolved\")\n",
    "    # h1.fill(var=fj_mwh1_resolved, cat=\"resolved\")\n",
    "    h1.fill(var=fj_mwh1_outside, cat=\"non-categorized\")\n",
    "\n",
    "    h2 = hist.Hist(var_axis, cat_axis)\n",
    "    h2.fill(var=fj_mwh2_boosted, cat=\"boosted\")\n",
    "    h2.fill(var=fj_mwh2_semi_resolved, cat=\"semi_resolved\")\n",
    "    # h2.fill(var=fj_mwh2_resolved, cat=\"resolved\")\n",
    "    h2.fill(var=fj_mwh2_outside, cat=\"non-categorized\")\n",
    "\n",
    "    print(fj_mwh1_resolved)\n",
    "    fig, ax = plt.subplots(1, 2, figsize=(8, 4), sharey=True)\n",
    "    hep.histplot(h1[{\"cat\": \"boosted\"}], ax=ax[0], label=\"Boosted\", density=True)\n",
    "    # hep.histplot(h1[{\"cat\": \"resolved\"}], ax=ax[0], label=\"Resolved\", density=True)\n",
    "    hep.histplot(h1[{\"cat\": \"semi_resolved\"}], ax=ax[0], label=\"Semi-Resolved\", density=True)\n",
    "    hep.histplot(\n",
    "        h1[{\"cat\": \"non-categorized\"}], ax=ax[0], label=\"Outside of these categories\", density=True\n",
    "    )\n",
    "    leg = ax[0].legend(fontsize=10)\n",
    "    leg.set_title(\"Gen-Level categories\", prop={\"size\": 10})\n",
    "    ax[0].set_xlabel(label + \" - matched to H1\")\n",
    "\n",
    "    hep.histplot(h2[{\"cat\": \"boosted\"}], ax=ax[1], label=\"Boosted\", density=True)\n",
    "    # hep.histplot(h2[{\"cat\": \"resolved\"}], ax=ax[1], label=\"Resolved\", density=True)\n",
    "    hep.histplot(h2[{\"cat\": \"semi_resolved\"}], ax=ax[1], label=\"Semi-Resolved\", density=True)\n",
    "    hep.histplot(\n",
    "        h2[{\"cat\": \"non-categorized\"}], ax=ax[1], label=\"Outside of these categories\", density=True\n",
    "    )\n",
    "    leg = ax[1].legend(fontsize=10)\n",
    "    leg.set_title(\"Gen-Level categories\", prop={\"size\": 10})\n",
    "    ax[1].set_xlabel(label + \" matched to H2\")\n",
    "    ax[0].set_ylabel(\"Density\")"
   ]
  },
  {
   "cell_type": "code",
   "execution_count": null,
   "metadata": {},
   "outputs": [],
   "source": [
    "plot_h1h2_fj(fj_xbb, r\"fj $T_{Xbb}$ Score\", np.arange(-2, 1, 0.03))\n",
    "plot_h1h2_fj(fj_mass, r\"fj PN mass\", np.arange(0, 200, 7))"
   ]
  },
  {
   "cell_type": "code",
   "execution_count": null,
   "metadata": {},
   "outputs": [],
   "source": [
    "def plot_h1h2_fj(x, label, bins):\n",
    "    var_axis = hist.axis.Variable(bins, name=\"var\", label=\"variable\")\n",
    "    cat_axis = hist.axis.StrCategory([], name=\"cat\", growth=True)\n",
    "\n",
    "    h1 = hist.Hist(var_axis, cat_axis)\n",
    "    h1.fill(var=x[boosted_nb2][fj_mwh1_idx[boosted_nb2]], cat=\"boosted-2b\")\n",
    "    h1.fill(var=x[boosted_nb1][fj_mwh1_idx[boosted_nb1]], cat=\"boosted-1b\")\n",
    "    h1.fill(var=x[boosted_nb1nb2][fj_mwh1_idx[boosted_nb1nb2]], cat=\"boosted-2b1b\")\n",
    "\n",
    "    h2 = hist.Hist(var_axis, cat_axis)\n",
    "    h2.fill(var=x[boosted_nb2][fj_mwh2_idx[boosted_nb2]], cat=\"boosted-2b\")\n",
    "    h2.fill(var=x[boosted_nb1][fj_mwh2_idx[boosted_nb1]], cat=\"boosted-1b\")\n",
    "    h2.fill(var=x[boosted_nb1nb2][fj_mwh2_idx[boosted_nb1nb2]], cat=\"boosted-2b1b\")\n",
    "\n",
    "    fig, ax = plt.subplots(1, 2, figsize=(8, 4))\n",
    "    hep.histplot(h1[{\"cat\": \"boosted-2b\"}], ax=ax[0], label=\"Boosted 2b\", density=True)\n",
    "    hep.histplot(h1[{\"cat\": \"boosted-1b\"}], ax=ax[0], label=\"Boosted 1b\", density=True)\n",
    "    hep.histplot(h1[{\"cat\": \"boosted-2b1b\"}], ax=ax[0], label=\"Boosted 2b1b\", density=True)\n",
    "    leg = ax[0].legend(fontsize=10)\n",
    "    leg.set_title(\"Gen-Level categories\", prop={\"size\": 10})\n",
    "    ax[0].set_xlabel(label + \" - matched to H1\")\n",
    "\n",
    "    hep.histplot(h2[{\"cat\": \"boosted-2b\"}], ax=ax[1], label=\"Boosted 2b\", density=True)\n",
    "    hep.histplot(h2[{\"cat\": \"boosted-1b\"}], ax=ax[1], label=\"Boosted 1b\", density=True)\n",
    "    hep.histplot(h2[{\"cat\": \"boosted-2b1b\"}], ax=ax[1], label=\"Boosted 2b1b\", density=True)\n",
    "    leg = ax[1].legend(fontsize=10)\n",
    "    leg.set_title(\"Gen-Level categories\", prop={\"size\": 10})\n",
    "    ax[1].set_xlabel(label + \" matched to H2\")\n",
    "    ax[0].set_ylabel(\"Density\")"
   ]
  },
  {
   "cell_type": "code",
   "execution_count": null,
   "metadata": {},
   "outputs": [],
   "source": [
    "plot_h1h2_fj(fj_xbb, r\"fj $T_{Xbb}$ Score\", np.arange(0, 1, 0.03))\n",
    "plot_h1h2_fj(fj_mass, r\"fj PN mass\", np.arange(0, 200, 7))"
   ]
  },
  {
   "cell_type": "markdown",
   "metadata": {},
   "source": [
    "## Tasks for billy (reco-level)\n",
    "\n",
    "Understand behavior at gen-level of `not-categorized events` (events that are not boosted, resolved or semi-resolved):\n",
    "- 2d plot of fatjet reco pnet mass vs Xbb score for each category (Are they correlated?)"
   ]
  },
  {
   "cell_type": "code",
   "execution_count": null,
   "metadata": {},
   "outputs": [],
   "source": [
    "# define a function to plot 2d histogram\n",
    "plot_dir = \"/uscms/home/haoyang/HH4b/plots/MatchingStudy\"\n",
    "\n",
    "\n",
    "def plot_hist2d(\n",
    "    x_vals: np.ndarray,\n",
    "    y_vals: np.ndarray,\n",
    "    bins: [np.ndarray, np.ndarray],\n",
    "    x_label: str,\n",
    "    y_label: str,\n",
    "    filename: str,\n",
    "):\n",
    "    fig, ax = plt.subplots(1, 2, figsize=(20, 8))\n",
    "    for i in range(2):\n",
    "        ax[i].hist2d(\n",
    "            x_vals[:, i].reshape(-1),\n",
    "            y_vals[:, i].reshape(-1),\n",
    "            bins,\n",
    "        )\n",
    "        ax[i].set_xlabel(x_label)\n",
    "        ax[i].set_ylabel(y_label)\n",
    "        ax[i].set_title(f\"Higgs {i + 1}\")\n",
    "\n",
    "    # hep.cms.label(\"Work in Progress\", year=\"2022\", com=\"13.6\", ax=ax)\n",
    "    # plt.savefig(f\"{plot_dir}/{filename}.jpg\", bbox_inches=\"tight\")\n",
    "    plt.show()"
   ]
  },
  {
   "cell_type": "code",
   "execution_count": null,
   "metadata": {},
   "outputs": [],
   "source": [
    "# get PNetMass (y) ans Xbb (x)\n",
    "fjXbb = events[\"ak8FatJetPNetXbb\"].to_numpy()\n",
    "fjXbb_ooc = fjXbb[not_categorized]\n",
    "fjPNetMass = events[\"ak8FatJetPNetMass\"].to_numpy()\n",
    "fjPNetMass_ooc = fjPNetMass[not_categorized]\n",
    "\n",
    "xbins = np.arange(0, fjXbb_ooc.max(), 0.05)\n",
    "ybins = np.arange(0, fjPNetMass_ooc.max(), 5)\n",
    "bins = [xbins, ybins]\n",
    "plot_hist2d(fjXbb_ooc, fjPNetMass_ooc, bins, \"Xbb\", \"PNetMass\", \"fj_reco_PNetMass_vs_Xbb_for_ooc\")"
   ]
  },
  {
   "cell_type": "markdown",
   "metadata": {},
   "source": [
    "### Billy's note: There are large negative numbers in Xbb and PNetMass."
   ]
  },
  {
   "cell_type": "markdown",
   "metadata": {},
   "source": [
    "- Plot AK8JetPNetMass and Xbb score for events that fail a tight boosted selection:\n",
    "  - tight boosted selection: (fj_0_Xbb > 0.99) & (fj_0_pnet_mass > 100) & (fj_0_pnet_mass < 140>) & (fj_1_Xbb > 0.99) & (fj_1_pnet_mass > 100) & (fj_1_pnet_mass < 140>) where fj_0 and fj_1 are the fatjets in the event (sorted by Xbb, 0 has the highest Xbb score)"
   ]
  },
  {
   "cell_type": "code",
   "execution_count": null,
   "metadata": {},
   "outputs": [],
   "source": [
    "# select on ooc event's fatjets\n",
    "fj0Xbb_cond = fjXbb_ooc[:, 0] > 0.99\n",
    "fj0PNetMass_cond = (fjPNetMass_ooc[:, 0] > 100) & (fjPNetMass_ooc[:, 0] < 140)\n",
    "fj0_cond = fj0Xbb_cond & fj0PNetMass_cond\n",
    "\n",
    "fj1Xbb_cond = fjXbb_ooc[:, 1] > 0.99\n",
    "fj1PNetMass_cond = (fjPNetMass_ooc[:, 1] > 100) & (fjPNetMass_ooc[:, 1] < 140)\n",
    "fj1_cond = fj1Xbb_cond & fj1PNetMass_cond\n",
    "\n",
    "tight = fj0_cond & fj1_cond\n",
    "\n",
    "fjPNetMass_fail = fjPNetMass_ooc[~tight].reshape(-1)\n",
    "fjXbb_fail = fjXbb_ooc[~tight].reshape(-1)"
   ]
  },
  {
   "cell_type": "code",
   "execution_count": null,
   "metadata": {},
   "outputs": [],
   "source": [
    "plt.hist(fjPNetMass_fail, bins=ybins)\n",
    "plt.xlabel(\"failed ooc fjPNetMass\")"
   ]
  },
  {
   "cell_type": "code",
   "execution_count": null,
   "metadata": {},
   "outputs": [],
   "source": [
    "plt.hist(fjXbb_fail, bins=xbins)\n",
    "plt.xlabel(\"failed ooc fjXbb\")"
   ]
  },
  {
   "cell_type": "code",
   "execution_count": null,
   "metadata": {},
   "outputs": [],
   "source": []
  },
  {
   "cell_type": "markdown",
   "metadata": {},
   "source": []
  }
 ],
 "metadata": {
  "kernelspec": {
   "display_name": "Python 3 (ipykernel)",
   "language": "python",
   "name": "python3"
  },
  "language_info": {
   "codemirror_mode": {
    "name": "ipython",
    "version": 3
   },
   "file_extension": ".py",
   "mimetype": "text/x-python",
   "name": "python",
   "nbconvert_exporter": "python",
   "pygments_lexer": "ipython3",
   "version": "3.9.18"
  }
 },
 "nbformat": 4,
 "nbformat_minor": 4
}
