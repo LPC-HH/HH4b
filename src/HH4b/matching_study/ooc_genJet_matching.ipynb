{
 "cells": [
  {
   "cell_type": "markdown",
   "id": "392f12c9-dbeb-498c-b88d-211d3845eca3",
   "metadata": {},
   "source": [
    "# Investigate gen Jet matching with gen Higgs"
   ]
  },
  {
   "cell_type": "code",
   "execution_count": null,
   "id": "dd76f6fd-c8b7-4b96-b87f-08fd2a88b466",
   "metadata": {},
   "outputs": [],
   "source": [
    "import numpy as np\n",
    "import pandas as pd\n",
    "import vector\n",
    "import os\n",
    "import hist\n",
    "import awkward as ak\n",
    "\n",
    "vector.register_awkward()\n",
    "\n",
    "from itertools import permutations"
   ]
  },
  {
   "cell_type": "code",
   "execution_count": null,
   "id": "bc854b83-2341-4044-b957-94cf942be9e4",
   "metadata": {},
   "outputs": [],
   "source": [
    "import matplotlib.pyplot as plt\n",
    "import matplotlib.ticker as mticker\n",
    "from matplotlib.lines import Line2D\n",
    "\n",
    "# mplhep for CMS-style plots\n",
    "import mplhep as hep\n",
    "\n",
    "plt.style.use(hep.style.CMS)\n",
    "hep.style.use(\"CMS\")\n",
    "formatter = mticker.ScalarFormatter(useMathText=True)\n",
    "formatter.set_powerlimits((-3, 3))\n",
    "plt.rcParams.update({\"font.size\": 16})"
   ]
  },
  {
   "cell_type": "code",
   "execution_count": null,
   "id": "0bb9b72c-9ecb-4e45-84c6-0de4a46c5352",
   "metadata": {},
   "outputs": [],
   "source": [
    "def make_vector(events: pd.DataFrame, obj: str):\n",
    "    \"\"\"Create a ``vector`` object from the columns of the dataframe\"\"\"\n",
    "    mstring = \"Msd\" if obj == \"ak8FatJet\" else \"Mass\"\n",
    "\n",
    "    return vector.array(\n",
    "        {\n",
    "            \"pt\": events[f\"{obj}Pt\"],\n",
    "            \"phi\": events[f\"{obj}Phi\"],\n",
    "            \"eta\": events[f\"{obj}Eta\"],\n",
    "            \"M\": events[f\"{obj}{mstring}\"],\n",
    "        }\n",
    "    )"
   ]
  },
  {
   "cell_type": "code",
   "execution_count": null,
   "id": "4b7d9b72-3ef6-4d19-9d75-b82b59ec0ae7",
   "metadata": {},
   "outputs": [],
   "source": [
    "events = pd.read_parquet(\n",
    "    \"/eos/uscms/store/user/cmantill/bbbb/matching/Oct30/2018/GluGlutoHHto4B_cHHH1_TuneCP5_PSWeights_13TeV-powheg-pythia8/parquet/\"\n",
    ")"
   ]
  },
  {
   "cell_type": "code",
   "execution_count": null,
   "id": "206b9985-a88f-4356-b7cd-1e6b3430a750",
   "metadata": {},
   "outputs": [],
   "source": [
    "jets = make_vector(events, \"ak4Jet\")\n",
    "gen_higgs = make_vector(events, \"GenHiggs\")\n",
    "gen_bs = make_vector(events, \"Genb\")\n",
    "fjs = make_vector(events, \"ak8FatJet\")"
   ]
  },
  {
   "cell_type": "code",
   "execution_count": null,
   "id": "94b08050-23b5-439c-b765-28ef6c186770",
   "metadata": {},
   "outputs": [],
   "source": [
    "genJs = make_vector(events, \"ak4GenJet\")\n",
    "genBs = make_vector(events, \"Genb\")"
   ]
  },
  {
   "cell_type": "code",
   "execution_count": null,
   "id": "841c486b-b60e-42dc-af34-fdbd31451199",
   "metadata": {},
   "outputs": [],
   "source": [
    "# Pull out ak8 information to get boosted\n",
    "# remember we need to classify the boosted to get the ooc\n",
    "drbh1ak8 = events[\"ak8FatJetMaxdRH1\"].to_numpy()\n",
    "drbh2ak8 = events[\"ak8FatJetMaxdRH2\"].to_numpy()\n",
    "indexak8 = events[\"ak8FatJetHiggsMatchIndex\"].to_numpy()\n",
    "nbh1ak8 = events[\"ak8FatJetNumBMatchedH1\"].to_numpy()\n",
    "nbh2ak8 = events[\"ak8FatJetNumBMatchedH2\"].to_numpy()"
   ]
  },
  {
   "cell_type": "code",
   "execution_count": null,
   "id": "675218b1-b060-479f-b4e4-1e92831cbe3e",
   "metadata": {},
   "outputs": [],
   "source": [
    "# dissemble gen_b by H\n",
    "b_m2h1 = genBs[:,0:2]\n",
    "b_m2h2 = genBs[:,2:4]"
   ]
  },
  {
   "cell_type": "code",
   "execution_count": null,
   "id": "06d392cc-4099-4dd7-853c-a3a681fb4595",
   "metadata": {},
   "outputs": [],
   "source": [
    "# calculate dR between genb and each genJet\n",
    "dR_h1b1_genJs = b_m2h1[:, 0][:, np.newaxis].deltaR(genJs)\n",
    "dR_h1b2_genJs = b_m2h1[:, 1][:, np.newaxis].deltaR(genJs)\n",
    "dR_h2b1_genJs = b_m2h2[:, 0][:, np.newaxis].deltaR(genJs)\n",
    "dR_h2b2_genJs = b_m2h2[:, 1][:, np.newaxis].deltaR(genJs)"
   ]
  },
  {
   "cell_type": "code",
   "execution_count": null,
   "id": "dbef4572-5de3-44a4-bc72-d0b680f7baf5",
   "metadata": {},
   "outputs": [],
   "source": [
    "# count how many jets are matched to each b\n",
    "GenJm2b1h1 = (dR_h1b1_genJs < 0.4)[:,:, np.newaxis]\n",
    "GenJm2b2h1 = (dR_h1b2_genJs < 0.4)[:,:, np.newaxis]\n",
    "GenJm2b1h2 = (dR_h2b1_genJs < 0.4)[:,:, np.newaxis]\n",
    "GenJm2b2h2 = (dR_h2b2_genJs < 0.4)[:,:, np.newaxis]\n",
    "print(GenJm2b1h1.shape)\n",
    "\n",
    "# concatenate the arrays\n",
    "# 1st dimension: event\n",
    "# 2nd dimension: GenJ\n",
    "# 3rd dimension: match to each b true or false\n",
    "GenJm2b = np.concatenate([GenJm2b1h1, GenJm2b2h1, GenJm2b1h2, GenJm2b2h2], axis=2)\n",
    "print(GenJm2b.shape)"
   ]
  },
  {
   "cell_type": "code",
   "execution_count": null,
   "id": "c3cc57ca-cb0d-455c-97a7-57c30cb527b4",
   "metadata": {},
   "outputs": [],
   "source": [
    "# construct ak4GenJet info\n",
    "ak4GenJetHiggsMatch = np.zeros(shape=genJs.shape, dtype=bool)\n",
    "ak4GenJetHiggsMatchIndex = -1*np.ones(shape=genJs.shape, dtype=int)\n",
    "\n",
    "# If a gen J is matched to 1 and only 1 genb, \n",
    "# it is considered to be matched to the mother H\n",
    "# and will be assigned with a ak4GenJetHiggsMatchIndex\n",
    "GenJm2H = np.sum(GenJm2b, axis=2)==1\n",
    "ak4GenJetHiggsMatch[GenJm2H] = True\n",
    "\n",
    "# find which genb and H matched the genJ\n",
    "# draft in the sense that only the matched genJ's\n",
    "# genB and genH indices will be used\n",
    "bIdx_draft = np.argmax(GenJm2b, axis=2)\n",
    "hIdx_draft = np.floor(bIdx_draft/2)\n",
    "ak4GenJetHiggsMatchIndex[ak4GenJetHiggsMatch] = hIdx_draft[ak4GenJetHiggsMatch]"
   ]
  },
  {
   "cell_type": "markdown",
   "id": "87897f6f-b98b-4efd-9738-09f04720a095",
   "metadata": {},
   "source": [
    "## Plot each categories for the GenJ genb matching"
   ]
  },
  {
   "cell_type": "code",
   "execution_count": null,
   "id": "b0ab0caa-8b3f-423d-8da3-fe8dceb1cca1",
   "metadata": {},
   "outputs": [],
   "source": [
    "indexak8 = events[\"ak8FatJetHiggsMatchIndex\"].to_numpy()\n",
    "indexak4 = ak4GenJetHiggsMatchIndex"
   ]
  },
  {
   "cell_type": "code",
   "execution_count": null,
   "id": "c7ea6619-514d-4a19-9ced-b691cb0bcd00",
   "metadata": {},
   "outputs": [],
   "source": [
    "# ak4 jets matched to h1 and h2\n",
    "h1ak4 = indexak4 == 0\n",
    "h2ak4 = indexak4 == 1\n",
    "num_ak4m2h1 = h1ak4.sum(axis=1)\n",
    "num_ak4m2h2 = h2ak4.sum(axis=1)\n",
    "h1m2ak4 = num_ak4m2h1 == 2\n",
    "h2m2ak4 = num_ak4m2h2 == 2\n",
    "\n",
    "# ak8 jets matched to h1 and h2\n",
    "h1ak8 = indexak8 == 0\n",
    "h2ak8 = indexak8 == 1\n",
    "num_ak8m2h1 = h1ak8.sum(axis=1)\n",
    "num_ak8m2h2 = h2ak8.sum(axis=1)\n",
    "h1m1ak8 = num_ak8m2h1 == 1\n",
    "h2m1ak8 = num_ak8m2h2 == 1\n",
    "\n",
    "boosted = h1m1ak8 & h2m1ak8\n",
    "semi_resolved_h1 = h1m2ak4 & h2m1ak8 & ~(boosted)\n",
    "semi_resolved_h2 = h2m2ak4 & h1m1ak8 & ~(boosted)\n",
    "semi_resolved = semi_resolved_h1 | semi_resolved_h2\n",
    "resolved = (h1m2ak4 & h2m2ak4) & ~(boosted) & ~(semi_resolved) & (num_ak8m2h1 == 0) & (num_ak8m2h2 == 0)\n",
    "not_categorized = ~(resolved | boosted | semi_resolved)"
   ]
  },
  {
   "cell_type": "code",
   "execution_count": null,
   "id": "8d751975-f28f-4efb-b340-b5b635d0ba35",
   "metadata": {},
   "outputs": [],
   "source": [
    "h1ak8nb2 = (indexak8 == 0) & (nbh1ak8 == 2)\n",
    "h2ak8nb2 = (indexak8 == 1) & (nbh2ak8 == 2)\n",
    "h1m1ak8b2 = h1ak8nb2.sum(axis=1) == 1\n",
    "h2m1ak8b2 = h2ak8nb2.sum(axis=1) == 1\n",
    "\n",
    "h1ak8nb1 = (indexak8 == 0) & (nbh1ak8 == 1)\n",
    "h2ak8nb1 = (indexak8 == 1) & (nbh2ak8 == 1)\n",
    "h1m1ak8b1 = h1ak8nb1.sum(axis=1) == 1\n",
    "h2m1ak8b1 = h2ak8nb1.sum(axis=1) == 1\n",
    "\n",
    "boosted_nb2 = h1m1ak8b2 & h2m1ak8b2\n",
    "boosted_nb1 = h1m1ak8b1 & h2m1ak8b1\n",
    "boosted_nb1nb2 = (h1m1ak8b1 & h2m1ak8b2) | (h1m1ak8b2 & h2m1ak8b1)"
   ]
  },
  {
   "cell_type": "code",
   "execution_count": null,
   "id": "e21eb5cd-15fe-4e2b-aa02-0d22f486bf2c",
   "metadata": {},
   "outputs": [],
   "source": [
    "num_ak4N8m2h_nc = (\n",
    "    np.stack(\n",
    "        [\n",
    "            num_ak4m2h1[not_categorized],\n",
    "            num_ak4m2h2[not_categorized],\n",
    "            num_ak8m2h1[not_categorized],\n",
    "            num_ak8m2h2[not_categorized],\n",
    "        ],\n",
    "        axis=1,\n",
    "    )\n",
    "    .reshape(-1, 2, 2)\n",
    "    .tolist()\n",
    ")"
   ]
  },
  {
   "cell_type": "code",
   "execution_count": null,
   "id": "e382bff8-6191-466c-b161-124abe5e7bc6",
   "metadata": {},
   "outputs": [],
   "source": [
    "# trying to define a function for pie chart outpout\n",
    "# input: 3d array of shape (N_event, N_jetType, N_Higgs)\n",
    "# output: pie values and labels\n",
    "def make_ooc_pie(num_ak4N8m2h_nc):\n",
    "    # This function is tryig to assume H1 and H2 is symmetric\n",
    "    # e.g. num_ak4m2HX = (2, 1) == (1, 2)\n",
    "    # the point is to not differentiate H1 and H2\n",
    "    # note that if ak4 pair is permutated, then ak8 pair should be permutated in the same way\n",
    "    \n",
    "    # store all permutations of the recorded combinations of [[num_ak4m2H1, num_ak4m2H2], [num_ak8m2H1, num_ak8m2H2]]\n",
    "    perm_pair_ak4N8m2h_nc = []\n",
    "    # store unique combinations of [num_ak4m2HX, num_ak8m2HX]\n",
    "    unique_pair_ak4N8m2h_nc = []\n",
    "    \n",
    "    # loop from all num pairs constructed from the ooc events\n",
    "    for pair in num_ak4N8m2h_nc:\n",
    "        # if it doesn't match any permutation of the recorded unique pair\n",
    "        if pair not in perm_pair_ak4N8m2h_nc:\n",
    "            # add to the unique pair\n",
    "            unique_pair_ak4N8m2h_nc.append(pair)\n",
    "            # also add its permutations to the permutation list\n",
    "            perm_pair_ak4N8m2h_nc.append(pair)\n",
    "            perm_pair_ak4N8m2h_nc.append([pair[0][::-1], pair[1][::-1]])\n",
    "\n",
    "    LUT = {}\n",
    "    for pair in unique_pair_ak4N8m2h_nc:\n",
    "        num_ak4m2h1 = pair[0][0]\n",
    "        num_ak4m2h2 = pair[0][1]\n",
    "        num_ak8m2h1 = pair[1][0]\n",
    "        num_ak8m2h2 = pair[1][1]\n",
    "        LUT[f\"{num_ak4m2h1}{num_ak4m2h2}{num_ak8m2h1}{num_ak8m2h2}\"] = 0\n",
    "\n",
    "    for num in num_ak4N8m2h_nc:\n",
    "        num_ak4m2h1 = num[0][0]\n",
    "        num_ak4m2h2 = num[0][1]\n",
    "        num_ak8m2h1 = num[1][0]\n",
    "        num_ak8m2h2 = num[1][1]\n",
    "\n",
    "        if num in unique_pair_ak4N8m2h_nc:\n",
    "            LUT[f\"{num_ak4m2h1}{num_ak4m2h2}{num_ak8m2h1}{num_ak8m2h2}\"] += 1\n",
    "        else:\n",
    "            LUT[f\"{num_ak4m2h2}{num_ak4m2h1}{num_ak8m2h2}{num_ak8m2h1}\"] += 1\n",
    "\n",
    "    labels_pie = np.array(list(LUT.keys()))\n",
    "    ys_pie = np.array(list(LUT.values()))\n",
    "    labels_pie = labels_pie[np.argsort(ys_pie)[::-1]]\n",
    "    ys_pie = ys_pie[np.argsort(ys_pie)[::-1]]\n",
    "    \n",
    "    return ys_pie, labels_pie"
   ]
  },
  {
   "cell_type": "code",
   "execution_count": null,
   "id": "b4b9ff30-2976-4c53-9db4-b3e28a8da3a5",
   "metadata": {},
   "outputs": [],
   "source": [
    "ys_pie, labels_pie = make_ooc_pie(num_ak4N8m2h_nc)"
   ]
  },
  {
   "cell_type": "code",
   "execution_count": null,
   "id": "a085372d-e9c5-4eae-9ff2-52731c3ed084",
   "metadata": {},
   "outputs": [],
   "source": [
    "fig, ax = plt.subplots()\n",
    "ax.pie(ys_pie, labels=labels_pie, autopct=\"%1.0f%%\")\n",
    "ax.set(title=\"Pie Chart of OOC AK4GenJet Matching Patterns\")\n",
    "\n",
    "fig.text(0.5, 0.85, 'Number convention: AK4H1, AK4H2, AK8H1 AK8H2 (AK4=AK8)', ha='center', c='b')\n",
    "plt.show()"
   ]
  },
  {
   "cell_type": "code",
   "execution_count": null,
   "id": "efb94fa3-21bc-4bb3-a7e4-5493ceba8041",
   "metadata": {},
   "outputs": [],
   "source": [
    "# calcualte m_HH for every event\n",
    "mhh = (gen_higgs[:, 0] + gen_higgs[:, 1]).m\n",
    "\n",
    "# bypass into each category\n",
    "mhh_boosted = mhh[boosted]\n",
    "mhh_resolved = mhh[resolved]\n",
    "mhh_semi = mhh[semi_resolved]\n",
    "mhh_out = mhh[not_categorized]\n",
    "\n",
    "# start to plot, code modified on Christina's plot_h1h2_fj\n",
    "bins = np.arange(mhh.min(), mhh.max(), 10)\n",
    "bins = np.arange(100, 2000, 50)\n",
    "var_axis = hist.axis.Variable(bins, name=\"var\", label=\"variable\")\n",
    "cat_axis = hist.axis.StrCategory([], name=\"cat\", growth=True)\n",
    "\n",
    "hist_mhh = hist.Hist(var_axis, cat_axis)\n",
    "hist_mhh.fill(var=mhh_boosted, cat=\"boosted\")\n",
    "hist_mhh.fill(var=mhh_semi, cat=\"semi_resolved\")\n",
    "hist_mhh.fill(var=mhh_resolved, cat=\"resolved\")\n",
    "hist_mhh.fill(var=mhh_out, cat=\"non-categorized\")\n",
    "\n",
    "leg_elems = []\n",
    "fig, ax = plt.subplots(1, 1, figsize=(8, 4))\n",
    "hist_mhh[{\"cat\": \"boosted\"}].plot1d(ax=ax, label=\"Boosted\", color='y', ls='-')\n",
    "hist_mhh[{\"cat\": \"semi_resolved\"}].plot1d(ax=ax, label=\"Semi-Resolved\", color='r', ls=\"-.\")\n",
    "hist_mhh[{\"cat\": \"resolved\"}].plot1d(ax=ax, label=\"Resolved\", color='k', ls=':')\n",
    "hist_mhh[{\"cat\": \"non-categorized\"}].plot1d(ax=ax, label=\"Outside of these categories\", color='c', ls=\"--\")\n",
    "leg_elems.append(Line2D([0], [0], color='y', lw=2, ls='-', label='boosted'))\n",
    "leg_elems.append(Line2D([0], [0], color='r', lw=2, ls='-.', label='semi-resolved'))\n",
    "leg_elems.append(Line2D([0], [0], color='k', lw=2, ls=':', label='resolved'))\n",
    "leg_elems.append(Line2D([0], [0], color='c', lw=2, ls='--', label='ooc'))\n",
    "leg = ax.legend(handles=leg_elems)\n",
    "leg.set_title(\"Gen-Level categories\", prop={\"size\": 10})\n",
    "ax.set_xlim(0, 2000)\n",
    "ax.set_ylim(0, 30000)\n",
    "ax.set_xlabel(r\"$m_{HH}$\")\n",
    "ax.set_title(\"Catrgories of GenJet->GenH Matching (AK8>AK4)\")"
   ]
  }
 ],
 "metadata": {
  "kernelspec": {
   "display_name": "Python 3 (ipykernel)",
   "language": "python",
   "name": "python3"
  },
  "language_info": {
   "codemirror_mode": {
    "name": "ipython",
    "version": 3
   },
   "file_extension": ".py",
   "mimetype": "text/x-python",
   "name": "python",
   "nbconvert_exporter": "python",
   "pygments_lexer": "ipython3",
   "version": "3.9.18"
  }
 },
 "nbformat": 4,
 "nbformat_minor": 5
}
