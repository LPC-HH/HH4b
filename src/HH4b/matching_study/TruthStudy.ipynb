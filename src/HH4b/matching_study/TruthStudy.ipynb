{
 "cells": [
  {
   "cell_type": "code",
   "execution_count": null,
   "metadata": {},
   "outputs": [],
   "source": [
    "import numpy as np\n",
    "import pandas as pd\n",
    "import vector\n",
    "import os"
   ]
  },
  {
   "cell_type": "code",
   "execution_count": null,
   "metadata": {},
   "outputs": [],
   "source": [
    "import matplotlib.pyplot as plt\n",
    "import matplotlib.ticker as mticker\n",
    "\n",
    "# mplhep for CMS-style plots\n",
    "import mplhep as hep\n",
    "\n",
    "plt.style.use(hep.style.CMS)\n",
    "hep.style.use(\"CMS\")\n",
    "formatter = mticker.ScalarFormatter(useMathText=True)\n",
    "formatter.set_powerlimits((-3, 3))\n",
    "plt.rcParams.update({\"font.size\": 16})"
   ]
  },
  {
   "cell_type": "code",
   "execution_count": null,
   "metadata": {},
   "outputs": [],
   "source": [
    "# set up directory to save plots\n",
    "plot_dir = \"../../../plots/MatchingStudy/23Aug15/\"\n",
    "_ = os.system(f\"mkdir -p {plot_dir}\")"
   ]
  },
  {
   "cell_type": "code",
   "execution_count": null,
   "metadata": {},
   "outputs": [],
   "source": [
    "events = pd.read_parquet(\n",
    "    \"../../../0-1.parquet\"\n",
    "    # \"/eos/uscms/store/user/cmantill/bbbb/matching/Aug8/2022/GluGlutoHHto4B_kl-1p00_kt-1p00_c2-0p00_TuneCP5_13p6TeV_TSG/parquet\"\n",
    ")"
   ]
  },
  {
   "cell_type": "code",
   "execution_count": null,
   "metadata": {},
   "outputs": [],
   "source": [
    "def make_vector(events: pd.DataFrame, obj: str):\n",
    "    \"\"\"Create a ``vector`` object from the columns of the dataframe\"\"\"\n",
    "    mstring = \"Msd\" if obj == \"ak8FatJet\" else \"Mass\"\n",
    "\n",
    "    return vector.array(\n",
    "        {\n",
    "            \"pt\": events[f\"{obj}Pt\"],\n",
    "            \"phi\": events[f\"{obj}Phi\"],\n",
    "            \"eta\": events[f\"{obj}Eta\"],\n",
    "            \"M\": events[f\"{obj}{mstring}\"],\n",
    "        }\n",
    "    )"
   ]
  },
  {
   "cell_type": "code",
   "execution_count": null,
   "metadata": {},
   "outputs": [],
   "source": [
    "gen_higgs = make_vector(events, \"GenHiggs\")\n",
    "# gen_bs shape: [# events, # Higgs (2), # b's (2)]\n",
    "gen_bs = make_vector(events, \"Genb\").reshape(-1, 2, 2)\n",
    "\n",
    "# sort higgs by pT\n",
    "pt_argsort = np.argsort(gen_higgs.pt, axis=1)[:, ::-1]\n",
    "gen_higgs = np.take_along_axis(gen_higgs, pt_argsort, 1)\n",
    "# need to use np.newaxis to have same # of dimensions as gen_higgs (broadcasting)\n",
    "gen_bs = np.take_along_axis(gen_bs, pt_argsort[..., np.newaxis], 1)\n",
    "bh_dR = gen_bs.deltaR(gen_higgs[..., np.newaxis])\n",
    "bs_dR = gen_bs[:, :, 0].deltaR(gen_bs[:, :, 1])"
   ]
  },
  {
   "cell_type": "markdown",
   "metadata": {},
   "source": [
    "### Matching"
   ]
  },
  {
   "cell_type": "code",
   "execution_count": null,
   "metadata": {},
   "outputs": [],
   "source": [
    "matching_dR = 1\n",
    "num_gen_bs_close = np.sum(bs_dR < matching_dR, axis=1)"
   ]
  },
  {
   "cell_type": "code",
   "execution_count": null,
   "metadata": {},
   "outputs": [],
   "source": [
    "plt.hist(num_gen_bs_close, [0, 1, 2, 3], histtype=\"step\")\n",
    "plt.ylabel(\"Number of events\")\n",
    "plt.xlabel(r\"Number of Higgs daughters within $\\Delta R = 1$ of each other\")\n",
    "plt.savefig(f\"{plot_dir}/matching_dr1.pdf\")\n",
    "plt.show()"
   ]
  },
  {
   "cell_type": "markdown",
   "metadata": {},
   "source": [
    "### Plots"
   ]
  },
  {
   "cell_type": "code",
   "execution_count": null,
   "metadata": {},
   "outputs": [],
   "source": [
    "def plot_higgs_hist(vals: np.ndarray, bins: np.ndarray, xlabel: str, filename: str):\n",
    "    fig, ax = plt.subplots(figsize=(10, 8))\n",
    "    for i in range(2):\n",
    "        ax.hist(vals[:, i].reshape(-1), bins, histtype=\"step\", label=f\"Higgs {i + 1}\")\n",
    "\n",
    "    ax.legend()\n",
    "    ax.set_xlabel(xlabel)\n",
    "    ax.set_ylabel(\"Number of Events\")\n",
    "    hep.cms.label(\"Work in Progress\", year=\"2022\", com=\"13.6\", ax=ax)\n",
    "    plt.savefig(f\"{plot_dir}/{filename}.pdf\", bbox_inches=\"tight\")\n",
    "    plt.show()"
   ]
  },
  {
   "cell_type": "code",
   "execution_count": null,
   "metadata": {},
   "outputs": [],
   "source": [
    "# plot Higgs pT\n",
    "plot_higgs_hist(gen_higgs.pt, np.linspace(0, 800, 26), rf\"Higgs $p_T$ (GeV)\", \"higgspt\")\n",
    "# plot Higgs-b-quark dR\n",
    "plot_higgs_hist(\n",
    "    bh_dR, np.linspace(0, 2, 26), rf\"$\\Delta R$ between Higgs and daughter $b$-quarks\", \"bh_dR\"\n",
    ")\n",
    "# plot Higgs-b-quark dR\n",
    "plot_higgs_hist(bs_dR, np.linspace(0, 4, 26), rf\"$\\Delta R$ between daughter $b$-quarks\", \"bs_dR\")"
   ]
  },
  {
   "cell_type": "code",
   "execution_count": null,
   "metadata": {},
   "outputs": [],
   "source": []
  }
 ],
 "metadata": {
  "kernelspec": {
   "display_name": "python39",
   "language": "python",
   "name": "python3"
  },
  "language_info": {
   "codemirror_mode": {
    "name": "ipython",
    "version": 3
   },
   "file_extension": ".py",
   "mimetype": "text/x-python",
   "name": "python",
   "nbconvert_exporter": "python",
   "pygments_lexer": "ipython3",
   "version": "3.9.15"
  },
  "orig_nbformat": 4
 },
 "nbformat": 4,
 "nbformat_minor": 2
}
