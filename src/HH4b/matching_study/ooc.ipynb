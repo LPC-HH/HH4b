{
 "cells": [
  {
   "cell_type": "markdown",
   "id": "661b522e-afec-443d-9e46-40397f9186fe",
   "metadata": {},
   "source": [
    "## Background\n",
    "We categorized events by gen level infomartion: boosted, resolved ,semi-boosted, and out of categories (ooc). \n",
    "\n",
    "We found most ooc events are in the resolved pT mHH. \n",
    "\n",
    "Below is a recap"
   ]
  },
  {
   "cell_type": "code",
   "execution_count": 1,
   "id": "43e6a671-6d30-401f-b6db-10e4901b5e18",
   "metadata": {},
   "outputs": [],
   "source": [
    "import numpy as np\n",
    "import pandas as pd\n",
    "import vector\n",
    "import os\n",
    "import hist\n",
    "import awkward as ak\n",
    "\n",
    "vector.register_awkward()\n",
    "\n",
    "from itertools import permutations"
   ]
  },
  {
   "cell_type": "code",
   "execution_count": 2,
   "id": "0448d88f-38d6-4f4e-83d9-3f54e6d27f30",
   "metadata": {},
   "outputs": [],
   "source": [
    "import matplotlib.pyplot as plt\n",
    "import matplotlib.ticker as mticker\n",
    "\n",
    "# mplhep for CMS-style plots\n",
    "import mplhep as hep\n",
    "\n",
    "plt.style.use(hep.style.CMS)\n",
    "hep.style.use(\"CMS\")\n",
    "formatter = mticker.ScalarFormatter(useMathText=True)\n",
    "formatter.set_powerlimits((-3, 3))\n",
    "plt.rcParams.update({\"font.size\": 16})"
   ]
  },
  {
   "cell_type": "code",
   "execution_count": 3,
   "id": "29f6fabf-ec6f-420d-968c-89d4ce4464d5",
   "metadata": {},
   "outputs": [],
   "source": [
    "def make_vector(events: pd.DataFrame, obj: str):\n",
    "    \"\"\"Create a ``vector`` object from the columns of the dataframe\"\"\"\n",
    "    mstring = \"Msd\" if obj == \"ak8FatJet\" else \"Mass\"\n",
    "\n",
    "    return vector.array(\n",
    "        {\n",
    "            \"pt\": events[f\"{obj}Pt\"],\n",
    "            \"phi\": events[f\"{obj}Phi\"],\n",
    "            \"eta\": events[f\"{obj}Eta\"],\n",
    "            \"M\": events[f\"{obj}{mstring}\"],\n",
    "        }\n",
    "    )"
   ]
  },
  {
   "cell_type": "code",
   "execution_count": 4,
   "id": "c06fbbc6-63ed-4801-99ae-a8fb0f45fe61",
   "metadata": {},
   "outputs": [],
   "source": [
    "events = pd.read_parquet(\n",
    "    \"/eos/uscms/store/user/cmantill/bbbb/matching/Oct2/2018/GluGlutoHHto4B_cHHH1_TuneCP5_PSWeights_13TeV-powheg-pythia8/parquet\"\n",
    ")\n"
   ]
  },
  {
   "cell_type": "code",
   "execution_count": 5,
   "id": "aa7ba21b-033f-4c7a-8e6f-22bc6eb5f16e",
   "metadata": {},
   "outputs": [],
   "source": [
    "jets = make_vector(events, \"ak4Jet\")\n",
    "gen_higgs = make_vector(events, \"GenHiggs\")\n",
    "gen_bs = make_vector(events, \"Genb\")\n",
    "fjs = make_vector(events, \"ak8FatJet\")"
   ]
  },
  {
   "cell_type": "code",
   "execution_count": 6,
   "id": "002bfe11-c9eb-471b-ab8c-c897de1e77ab",
   "metadata": {
    "scrolled": true
   },
   "outputs": [
    {
     "data": {
      "text/plain": [
       "[('GenHiggsEta', 0),\n",
       " ('GenHiggsEta', 1),\n",
       " ('GenHiggsPhi', 0),\n",
       " ('GenHiggsPhi', 1),\n",
       " ('GenHiggsMass', 0),\n",
       " ('GenHiggsMass', 1),\n",
       " ('GenHiggsPt', 0),\n",
       " ('GenHiggsPt', 1),\n",
       " ('GenbEta', 0),\n",
       " ('GenbEta', 1),\n",
       " ('GenbEta', 2),\n",
       " ('GenbEta', 3),\n",
       " ('GenbPhi', 0),\n",
       " ('GenbPhi', 1),\n",
       " ('GenbPhi', 2),\n",
       " ('GenbPhi', 3),\n",
       " ('GenbMass', 0),\n",
       " ('GenbMass', 1),\n",
       " ('GenbMass', 2),\n",
       " ('GenbMass', 3),\n",
       " ('GenbPt', 0),\n",
       " ('GenbPt', 1),\n",
       " ('GenbPt', 2),\n",
       " ('GenbPt', 3),\n",
       " ('ak4JetHiggsMatch', 0),\n",
       " ('ak4JetHiggsMatch', 1),\n",
       " ('ak4JetHiggsMatch', 2),\n",
       " ('ak4JetHiggsMatch', 3),\n",
       " ('ak4JetHiggsMatch', 4),\n",
       " ('ak4JetHiggsMatch', 5),\n",
       " ('ak4JetHiggsMatchIndex', 0),\n",
       " ('ak4JetHiggsMatchIndex', 1),\n",
       " ('ak4JetHiggsMatchIndex', 2),\n",
       " ('ak4JetHiggsMatchIndex', 3),\n",
       " ('ak4JetHiggsMatchIndex', 4),\n",
       " ('ak4JetHiggsMatchIndex', 5),\n",
       " ('ak4JethadronFlavour', 0),\n",
       " ('ak4JethadronFlavour', 1),\n",
       " ('ak4JethadronFlavour', 2),\n",
       " ('ak4JethadronFlavour', 3),\n",
       " ('ak4JethadronFlavour', 4),\n",
       " ('ak4JethadronFlavour', 5),\n",
       " ('ak8FatJetHiggsMatch', 0),\n",
       " ('ak8FatJetHiggsMatch', 1),\n",
       " ('ak8FatJetHiggsMatch', 2),\n",
       " ('ak8FatJetHiggsMatchIndex', 0),\n",
       " ('ak8FatJetHiggsMatchIndex', 1),\n",
       " ('ak8FatJetHiggsMatchIndex', 2),\n",
       " ('ak8FatJetNumBMatchedH1', 0),\n",
       " ('ak8FatJetNumBMatchedH1', 1),\n",
       " ('ak8FatJetNumBMatchedH1', 2),\n",
       " ('ak8FatJetNumBMatchedH2', 0),\n",
       " ('ak8FatJetNumBMatchedH2', 1),\n",
       " ('ak8FatJetNumBMatchedH2', 2),\n",
       " ('ak8FatJetMaxdRH1', 0),\n",
       " ('ak8FatJetMaxdRH1', 1),\n",
       " ('ak8FatJetMaxdRH1', 2),\n",
       " ('ak8FatJetMaxdRH2', 0),\n",
       " ('ak8FatJetMaxdRH2', 1),\n",
       " ('ak8FatJetMaxdRH2', 2),\n",
       " ('ak4JetEta', 0),\n",
       " ('ak4JetEta', 1),\n",
       " ('ak4JetEta', 2),\n",
       " ('ak4JetEta', 3),\n",
       " ('ak4JetEta', 4),\n",
       " ('ak4JetEta', 5),\n",
       " ('ak4JetPhi', 0),\n",
       " ('ak4JetPhi', 1),\n",
       " ('ak4JetPhi', 2),\n",
       " ('ak4JetPhi', 3),\n",
       " ('ak4JetPhi', 4),\n",
       " ('ak4JetPhi', 5),\n",
       " ('ak4JetMass', 0),\n",
       " ('ak4JetMass', 1),\n",
       " ('ak4JetMass', 2),\n",
       " ('ak4JetMass', 3),\n",
       " ('ak4JetMass', 4),\n",
       " ('ak4JetMass', 5),\n",
       " ('ak4JetPt', 0),\n",
       " ('ak4JetPt', 1),\n",
       " ('ak4JetPt', 2),\n",
       " ('ak4JetPt', 3),\n",
       " ('ak4JetPt', 4),\n",
       " ('ak4JetPt', 5),\n",
       " ('ak4JetbtagDeepB', 0),\n",
       " ('ak4JetbtagDeepB', 1),\n",
       " ('ak4JetbtagDeepB', 2),\n",
       " ('ak4JetbtagDeepB', 3),\n",
       " ('ak4JetbtagDeepB', 4),\n",
       " ('ak4JetbtagDeepB', 5),\n",
       " ('ak4JetbtagDeepFlavB', 0),\n",
       " ('ak4JetbtagDeepFlavB', 1),\n",
       " ('ak4JetbtagDeepFlavB', 2),\n",
       " ('ak4JetbtagDeepFlavB', 3),\n",
       " ('ak4JetbtagDeepFlavB', 4),\n",
       " ('ak4JetbtagDeepFlavB', 5),\n",
       " ('ak8FatJetEta', 0),\n",
       " ('ak8FatJetEta', 1),\n",
       " ('ak8FatJetEta', 2),\n",
       " ('ak8FatJetPhi', 0),\n",
       " ('ak8FatJetPhi', 1),\n",
       " ('ak8FatJetPhi', 2),\n",
       " ('ak8FatJetMass', 0),\n",
       " ('ak8FatJetMass', 1),\n",
       " ('ak8FatJetMass', 2),\n",
       " ('ak8FatJetPt', 0),\n",
       " ('ak8FatJetPt', 1),\n",
       " ('ak8FatJetPt', 2),\n",
       " ('ak8FatJetMsd', 0),\n",
       " ('ak8FatJetMsd', 1),\n",
       " ('ak8FatJetMsd', 2),\n",
       " ('ak8FatJetPNetXbb', 0),\n",
       " ('ak8FatJetPNetXbb', 1),\n",
       " ('ak8FatJetPNetXbb', 2),\n",
       " ('ak8FatJetPNetXjj', 0),\n",
       " ('ak8FatJetPNetXjj', 1),\n",
       " ('ak8FatJetPNetXjj', 2),\n",
       " ('ak8FatJetPNetMass', 0),\n",
       " ('ak8FatJetPNetMass', 1),\n",
       " ('ak8FatJetPNetMass', 2),\n",
       " ('ak4GenJetEta', 0),\n",
       " ('ak4GenJetEta', 1),\n",
       " ('ak4GenJetEta', 2),\n",
       " ('ak4GenJetEta', 3),\n",
       " ('ak4GenJetEta', 4),\n",
       " ('ak4GenJetEta', 5),\n",
       " ('ak4GenJetPhi', 0),\n",
       " ('ak4GenJetPhi', 1),\n",
       " ('ak4GenJetPhi', 2),\n",
       " ('ak4GenJetPhi', 3),\n",
       " ('ak4GenJetPhi', 4),\n",
       " ('ak4GenJetPhi', 5),\n",
       " ('ak4GenJetMass', 0),\n",
       " ('ak4GenJetMass', 1),\n",
       " ('ak4GenJetMass', 2),\n",
       " ('ak4GenJetMass', 3),\n",
       " ('ak4GenJetMass', 4),\n",
       " ('ak4GenJetMass', 5),\n",
       " ('ak4GenJetPt', 0),\n",
       " ('ak4GenJetPt', 1),\n",
       " ('ak4GenJetPt', 2),\n",
       " ('ak4GenJetPt', 3),\n",
       " ('ak4GenJetPt', 4),\n",
       " ('ak4GenJetPt', 5),\n",
       " ('ak8GenJetEta', 0),\n",
       " ('ak8GenJetEta', 1),\n",
       " ('ak8GenJetEta', 2),\n",
       " ('ak8GenJetPhi', 0),\n",
       " ('ak8GenJetPhi', 1),\n",
       " ('ak8GenJetPhi', 2),\n",
       " ('ak8GenJetMass', 0),\n",
       " ('ak8GenJetMass', 1),\n",
       " ('ak8GenJetMass', 2),\n",
       " ('ak8GenJetPt', 0),\n",
       " ('ak8GenJetPt', 1),\n",
       " ('ak8GenJetPt', 2),\n",
       " ('weight', 0)]"
      ]
     },
     "execution_count": 6,
     "metadata": {},
     "output_type": "execute_result"
    }
   ],
   "source": [
    "list(events.keys())"
   ]
  },
  {
   "cell_type": "code",
   "execution_count": 7,
   "id": "628e27a7-204b-44a0-bbc4-727171bcd8ac",
   "metadata": {},
   "outputs": [],
   "source": [
    "drbh1ak8 = events[\"ak8FatJetMaxdRH1\"].to_numpy()\n",
    "drbh2ak8 = events[\"ak8FatJetMaxdRH2\"].to_numpy()\n",
    "indexak8 = events[\"ak8FatJetHiggsMatchIndex\"].to_numpy()\n",
    "indexak4 = events[\"ak4JetHiggsMatchIndex\"].to_numpy()\n",
    "nbh1ak8 = events[\"ak8FatJetNumBMatchedH1\"].to_numpy()\n",
    "nbh2ak8 = events[\"ak8FatJetNumBMatchedH2\"].to_numpy()"
   ]
  },
  {
   "cell_type": "code",
   "execution_count": 8,
   "id": "bc63c2bb-ecb3-4932-9423-67d4a46a5a11",
   "metadata": {},
   "outputs": [],
   "source": [
    "# ak4 jets matched to h1 and h2\n",
    "h1ak4 = indexak4 == 0\n",
    "h2ak4 = indexak4 == 1\n",
    "num_ak4m2h1 = h1ak4.sum(axis=1)\n",
    "num_ak4m2h2 = h2ak4.sum(axis=1)\n",
    "h1m2ak4 = num_ak4m2h1 == 2\n",
    "h2m2ak4 = num_ak4m2h2 == 2\n",
    "\n",
    "# ak8 jets matched to h1 and h2\n",
    "h1ak8 = indexak8 == 0\n",
    "h2ak8 = indexak8 == 1\n",
    "num_ak8m2h1 = h1ak8.sum(axis=1)\n",
    "num_ak8m2h2 = h2ak8.sum(axis=1)\n",
    "h1m1ak8 = num_ak8m2h1 == 1\n",
    "h2m1ak8 = num_ak8m2h2 == 1\n",
    "\n",
    "boosted = h1m1ak8 & h2m1ak8\n",
    "resolved = (h1m2ak4 & h2m2ak4) & ~(boosted) & (num_ak8m2h1 == 0) & (num_ak8m2h2 == 0)\n",
    "semi_resolved_h1 = h1m2ak4 & (h2m1ak8 & ~h2m2ak4) & ~(resolved) & ~(boosted)\n",
    "semi_resolved_h2 = h2m2ak4 & (h1m1ak8 & ~h1m2ak4) & ~(resolved) & ~(boosted)\n",
    "semi_resolved = semi_resolved_h1 | semi_resolved_h2\n",
    "not_categorized = ~(resolved | boosted | semi_resolved)"
   ]
  },
  {
   "cell_type": "code",
   "execution_count": 9,
   "id": "003b238e-b9ce-44b4-bb15-bf6778edb507",
   "metadata": {},
   "outputs": [],
   "source": [
    "h1ak8nb2 = (indexak8 == 0) & (nbh1ak8 == 2)\n",
    "h2ak8nb2 = (indexak8 == 1) & (nbh2ak8 == 2)\n",
    "h1m1ak8b2 = h1ak8nb2.sum(axis=1) == 1\n",
    "h2m1ak8b2 = h2ak8nb2.sum(axis=1) == 1\n",
    "\n",
    "h1ak8nb1 = (indexak8 == 0) & (nbh1ak8 == 1)\n",
    "h2ak8nb1 = (indexak8 == 1) & (nbh2ak8 == 1)\n",
    "h1m1ak8b1 = h1ak8nb1.sum(axis=1) == 1\n",
    "h2m1ak8b1 = h2ak8nb1.sum(axis=1) == 1\n",
    "\n",
    "boosted_nb2 = h1m1ak8b2 & h2m1ak8b2\n",
    "boosted_nb1 = h1m1ak8b1 & h2m1ak8b1\n",
    "boosted_nb1nb2 = (h1m1ak8b1 & h2m1ak8b2) | (h1m1ak8b2 & h2m1ak8b1)"
   ]
  },
  {
   "cell_type": "code",
   "execution_count": 10,
   "id": "22b3f20e-f3ad-4c28-a8c7-eda1e71ddddf",
   "metadata": {},
   "outputs": [],
   "source": [
    "semi_resolved_h1_b2 = h1m2ak4 & (h2m1ak8b2 & ~h2m2ak4) & ~(resolved) & ~(boosted)\n",
    "semi_resolved_h2_b2 = h2m2ak4 & (h1m1ak8b2 & ~h1m2ak4) & ~(resolved) & ~(boosted)\n",
    "semi_resolved_h1_b1 = h1m2ak4 & (h2m1ak8b1 & ~h2m2ak4) & ~(resolved) & ~(boosted)\n",
    "semi_resolved_h2_b1 = h2m2ak4 & (h1m1ak8b1 & ~h1m2ak4) & ~(resolved) & ~(boosted)\n",
    "\n",
    "semi_resolved_h_b2 = semi_resolved_h1_b2 | semi_resolved_h2_b2\n",
    "semi_resolved_h_b1 = semi_resolved_h1_b1 | semi_resolved_h2_b1"
   ]
  },
  {
   "cell_type": "code",
   "execution_count": 11,
   "id": "7dffe73d-7891-47cb-b0c2-e3b4e22f0b6e",
   "metadata": {},
   "outputs": [
    {
     "data": {
      "text/plain": [
       "Text(1, 0, '$m_{HH}$')"
      ]
     },
     "execution_count": 11,
     "metadata": {},
     "output_type": "execute_result"
    },
    {
     "data": {
      "image/png": "[encoded data removed]",
      "text/plain": [
       "<Figure size 800x400 with 1 Axes>"
      ]
     },
     "metadata": {},
     "output_type": "display_data"
    }
   ],
   "source": [
    "# calcualte m_HH for every event\n",
    "mhh = (gen_higgs[:, 0] + gen_higgs[:, 1]).m\n",
    "\n",
    "# bypass into each category\n",
    "mhh_boosted = mhh[boosted]\n",
    "mhh_resolved = mhh[resolved]\n",
    "mhh_semi = mhh[semi_resolved]\n",
    "mhh_out = mhh[not_categorized]\n",
    "\n",
    "# start to plot, code modified on Christina's plot_h1h2_fj\n",
    "bins = np.arange(mhh.min(), mhh.max(), 10)\n",
    "bins = np.arange(100, 2000, 10)\n",
    "var_axis = hist.axis.Variable(bins, name=\"var\", label=\"variable\")\n",
    "cat_axis = hist.axis.StrCategory([], name=\"cat\", growth=True)\n",
    "\n",
    "hist_mhh = hist.Hist(var_axis, cat_axis)\n",
    "hist_mhh.fill(var=mhh_boosted, cat=\"boosted\")\n",
    "hist_mhh.fill(var=mhh_semi, cat=\"semi_resolved\")\n",
    "hist_mhh.fill(var=mhh_resolved, cat=\"resolved\")\n",
    "hist_mhh.fill(var=mhh_out, cat=\"non-categorized\")\n",
    "\n",
    "fig, ax = plt.subplots(1, 1, figsize=(8, 4))\n",
    "hist_mhh[{\"cat\": \"boosted\"}].plot1d(ax=ax, label=\"Boosted\")\n",
    "hist_mhh[{\"cat\": \"resolved\"}].plot1d(ax=ax, label=\"Resolved\")\n",
    "hist_mhh[{\"cat\": \"semi_resolved\"}].plot1d(ax=ax, label=\"Semi-Resolved\")\n",
    "hist_mhh[{\"cat\": \"non-categorized\"}].plot1d(ax=ax, label=\"Outside of these categories\")\n",
    "leg = ax.legend(fontsize=10)\n",
    "leg.set_title(\"Gen-Level categories\", prop={\"size\": 10})\n",
    "ax.set_xlim(0, 2000)\n",
    "ax.set_xlabel(r\"$m_{HH}$\")"
   ]
  },
  {
   "cell_type": "markdown",
   "id": "7557aa80-0b29-4a8d-94eb-4f294ab8748b",
   "metadata": {},
   "source": [
    "## Investigations\n",
    "### Ak4 matched to b quarks vs. Higgs pT"
   ]
  },
  {
   "cell_type": "code",
   "execution_count": 16,
   "id": "9adf0321-b780-4fe3-b8d4-ea7ac27835ad",
   "metadata": {},
   "outputs": [],
   "source": [
    "events_ooc = events[not_categorized]\n",
    "Hs_ooc = gen_higgs[not_categorized]\n",
    "js_ooc = jets[not_categorized] "
   ]
  },
  {
   "cell_type": "code",
   "execution_count": 18,
   "id": "37607eb2-8155-402a-8c5b-ec7166966619",
   "metadata": {},
   "outputs": [],
   "source": [
    "b_m2h1_ooc = gen_bs[not_categorized][:,0:2]\n",
    "b_m2h2_ooc = gen_bs[not_categorized][:,2:4]"
   ]
  },
  {
   "cell_type": "code",
   "execution_count": 46,
   "id": "18efd37b-e91c-4418-9028-f9463be32ec5",
   "metadata": {},
   "outputs": [],
   "source": [
    "# calculate dR(b_quark, jets)\n",
    "dR_h1b1_js = b_m2h1_ooc[:,0][:, np.newaxis].deltaR(js_ooc)\n",
    "dR_h1b2_js = b_m2h1_ooc[:,1][:, np.newaxis].deltaR(js_ooc)\n",
    "dR_h2b1_js = b_m2h2_ooc[:,0][:, np.newaxis].deltaR(js_ooc)\n",
    "dR_h2b2_js = b_m2h2_ooc[:,1][:, np.newaxis].deltaR(js_ooc)\n",
    "\n",
    "# count how many jets are matched to each b\n",
    "N_jm2b1h1 = ak.sum(dR_h1b1_js<0.4, axis=-1)\n",
    "N_jm2b2h1 = ak.sum(dR_h1b2_js<0.4, axis=-1)\n",
    "N_jm2b1h2 = ak.sum(dR_h2b1_js<0.4, axis=-1)\n",
    "N_jm2b2h2 = ak.sum(dR_h2b2_js<0.4, axis=-1)"
   ]
  },
  {
   "cell_type": "code",
   "execution_count": 61,
   "id": "469e148f-1666-4362-8c52-925150cfd182",
   "metadata": {},
   "outputs": [],
   "source": [
    "# categorize them into\n",
    "# 1. exceed: both b1 and b2 matched to more than 1 ak4\n",
    "# 2. partial_exceed: one of the bs is matched to more than 1 ak4, another is matched to 1 ak4\n",
    "# 3. polarized: one of the bs is matched to more than 1 ak4, another is unmatched\n",
    "# 4. match: both b1 and b2 are uniquely matched\n",
    "# 5. partial_match: only one of the b is uniquely matched, the other is unmatched\n",
    "# 6. unmatch: no b is matched\n",
    "h1_exceed = (N_jm2b1h1 > 1) & (N_jm2b2h1 > 1)\n",
    "h2_exceed = (N_jm2b1h2 > 1) & (N_jm2b2h2 > 1)\n",
    "\n",
    "h1_partial_exceed = ((N_jm2b1h1 > 1) & (N_jm2b2h1 == 1)) | ((N_jm2b1h1 == 1) & (N_jm2b2h1 > 1))\n",
    "h2_partial_exceed = ((N_jm2b1h2 > 1) & (N_jm2b2h2 == 1)) | ((N_jm2b1h2 == 1) & (N_jm2b2h2 > 1))\n",
    "\n",
    "h1_polarized = ((N_jm2b1h1 > 1) & (N_jm2b2h1 == 0)) | ((N_jm2b1h1 == 0) & (N_jm2b2h1 > 1))\n",
    "h2_polarized = ((N_jm2b1h2 > 1) & (N_jm2b2h2 == 0)) | ((N_jm2b1h2 == 0) & (N_jm2b2h2 > 1))\n",
    "\n",
    "h1_match = (N_jm2b1h1 == 1) & (N_jm2b2h1 == 1)\n",
    "h2_match = (N_jm2b1h2 == 1) & (N_jm2b2h2 == 1)\n",
    "\n",
    "h1_partial_match = ((N_jm2b1h1 == 1) & (N_jm2b2h1 == 0)) | ((N_jm2b1h1 == 0) & (N_jm2b2h1 == 1))\n",
    "h2_partial_match = ((N_jm2b1h2 == 1) & (N_jm2b2h2 == 0)) | ((N_jm2b1h2 == 0) & (N_jm2b2h2 == 1))\n",
    "\n",
    "h1_unmatch = (N_jm2b1h1 == 0) & (N_jm2b2h1 == 0)\n",
    "h2_unmatch = (N_jm2b1h2 == 0) & (N_jm2b2h2 == 0)"
   ]
  },
  {
   "cell_type": "code",
   "execution_count": 69,
   "id": "833a7818-95a5-451c-b67f-3489ce387754",
   "metadata": {},
   "outputs": [
    {
     "name": "stdout",
     "output_type": "stream",
     "text": [
      "488033 488033\n"
     ]
    }
   ],
   "source": [
    "# check if the event numbers in each category adds up to total number of events\n",
    "category_h1 = [h1_exceed, h1_partial_exceed, h1_match, h1_polarized, h1_partial_match, h1_unmatch]\n",
    "category_h2 = [h2_exceed, h2_partial_exceed, h2_match, h2_polarized, h2_partial_match, h2_unmatch]\n",
    "category = category_h1+category_h2\n",
    "\n",
    "N_tot_running = 0\n",
    "for cat in category_h1:\n",
    "    N_tot_running += ak.sum(cat)\n",
    "\n",
    "print(N_tot_running, events_ooc.shape[0])"
   ]
  },
  {
   "cell_type": "code",
   "execution_count": 64,
   "id": "e191a7f7-40d1-4cc2-8eb6-2238c3eef46a",
   "metadata": {},
   "outputs": [],
   "source": [
    "ooc_ooc = (~h1_exceed) & (~h1_partial_exceed) & (~h1_match) & (~h1_polarized) & (~h1_partial_match) & (~h1_unmatch)"
   ]
  },
  {
   "cell_type": "code",
   "execution_count": 67,
   "id": "3c1893d2-81da-47d9-9728-079a81442925",
   "metadata": {},
   "outputs": [
    {
     "data": {
      "text/plain": [
       "0"
      ]
     },
     "execution_count": 67,
     "metadata": {},
     "output_type": "execute_result"
    }
   ],
   "source": [
    "for Ns in zip(N_jm2b1h1[ooc_ooc], N_jm2b2h1[ooc_ooc], N_jm2b1h2[ooc_ooc], N_jm2b2h2[ooc_ooc]):\n",
    "    print(Ns)\n",
    "\n",
    "ak.sum(ooc_ooc)\n"
   ]
  },
  {
   "cell_type": "code",
   "execution_count": 71,
   "id": "3f1f9236-bac0-444a-87bc-7f1ff84aa1c7",
   "metadata": {},
   "outputs": [],
   "source": [
    "# get pt in each H each category\n",
    "H1 = Hs_ooc[:,0]\n",
    "h1pt_exceed = H1[h1_exceed].pt\n",
    "h1pt_partial_exceed = H1[h1_partial_exceed].pt\n",
    "h1pt_polzrized = H1[h1_polarized].pt\n",
    "h1pt_match = H1[h1_match].pt\n",
    "h1pt_partial_match = H1[h1_partial_match].pt\n",
    "h1pt_unmatch = H1[h1_unmatch].pt"
   ]
  },
  {
   "cell_type": "code",
   "execution_count": 72,
   "id": "7ef968d1-48ae-4637-9d57-68dbc38b6383",
   "metadata": {},
   "outputs": [],
   "source": [
    "H2 = Hs_ooc[:,1]\n",
    "h2pt_exceed = H2[h2_exceed].pt\n",
    "h2pt_partial_exceed = H2[h2_partial_exceed].pt\n",
    "h2pt_polzrized = H2[h2_polarized].pt\n",
    "h2pt_match = H2[h2_match].pt\n",
    "h2pt_partial_match = H2[h2_partial_match].pt\n",
    "h2pt_unmatch = H2[h2_unmatch].pt"
   ]
  },
  {
   "cell_type": "code",
   "execution_count": 75,
   "id": "9a079762-041f-479c-b526-c5318044d803",
   "metadata": {},
   "outputs": [
    {
     "data": {
      "text/plain": [
       "Text(1, 0, '$pT_{H_2}$')"
      ]
     },
     "execution_count": 75,
     "metadata": {},
     "output_type": "execute_result"
    },
    {
     "data": {
      "image/png": "[encoded data removed]",
      "text/plain": [
       "<Figure size 1600x400 with 2 Axes>"
      ]
     },
     "metadata": {},
     "output_type": "display_data"
    }
   ],
   "source": [
    "# start to plot\n",
    "bins = np.arange(0, 500, 10)\n",
    "var_axis = hist.axis.Variable(bins, name=\"var\", label=\"variable\")\n",
    "cat_axis = hist.axis.StrCategory([], name=\"cat\", growth=True)\n",
    "\n",
    "hist_h1pt = hist.Hist(var_axis, cat_axis)\n",
    "hist_h1pt.fill(var=h1pt_exceed, cat=\"exceed\")\n",
    "hist_h1pt.fill(var=h1pt_partial_exceed, cat=\"partial_exceed\")\n",
    "hist_h1pt.fill(var=h1pt_polzrized, cat=\"polarized\")\n",
    "hist_h1pt.fill(var=h1pt_match, cat=\"match\")\n",
    "hist_h1pt.fill(var=h1pt_partial_match, cat=\"partial_match\")\n",
    "hist_h1pt.fill(var=h1pt_unmatch, cat=\"unmatch\")\n",
    "\n",
    "hist_h2pt = hist.Hist(var_axis, cat_axis)\n",
    "hist_h2pt.fill(var=h2pt_exceed, cat=\"exceed\")\n",
    "hist_h2pt.fill(var=h2pt_partial_exceed, cat=\"partial_exceed\")\n",
    "hist_h2pt.fill(var=h2pt_polzrized, cat=\"polarized\")\n",
    "hist_h2pt.fill(var=h2pt_match, cat=\"match\")\n",
    "hist_h2pt.fill(var=h2pt_partial_match, cat=\"partial_match\")\n",
    "hist_h2pt.fill(var=h2pt_unmatch, cat=\"unmatch\")\n",
    "\n",
    "\n",
    "fig, ax = plt.subplots(1, 2, figsize=(16, 4))\n",
    "hist_h1pt[{\"cat\": \"exceed\"}].plot1d(ax=ax[0], label=\"exceed\")\n",
    "hist_h1pt[{\"cat\": \"partial_exceed\"}].plot1d(ax=ax[0], label=\"partial_exceed\")\n",
    "hist_h1pt[{\"cat\": \"polarized\"}].plot1d(ax=ax[0], label=\"polarized\")\n",
    "hist_h1pt[{\"cat\": \"match\"}].plot1d(ax=ax[0], label=\"match\")\n",
    "hist_h1pt[{\"cat\": \"partial_match\"}].plot1d(ax=ax[0], label=\"partial_match\")\n",
    "hist_h1pt[{\"cat\": \"unmatch\"}].plot1d(ax=ax[0], label=\"unmatch\")\n",
    "\n",
    "hist_h2pt[{\"cat\": \"exceed\"}].plot1d(ax=ax[1], label=\"exceed\")\n",
    "hist_h2pt[{\"cat\": \"partial_exceed\"}].plot1d(ax=ax[1], label=\"partial_exceed\")\n",
    "hist_h2pt[{\"cat\": \"polarized\"}].plot1d(ax=ax[1], label=\"polarized\")\n",
    "hist_h2pt[{\"cat\": \"match\"}].plot1d(ax=ax[1], label=\"match\")\n",
    "hist_h2pt[{\"cat\": \"partial_match\"}].plot1d(ax=ax[1], label=\"partial_match\")\n",
    "hist_h2pt[{\"cat\": \"unmatch\"}].plot1d(ax=ax[1], label=\"unmatch\")\n",
    "\n",
    "leg1 = ax[0].legend(fontsize=10)\n",
    "leg1.set_title(\"b-AK4 match categories\", prop={\"size\": 10})\n",
    "ax[0].set_xlim(0, 500)\n",
    "ax[0].set_xlabel(r\"$pT_{H_1}$\")\n",
    "\n",
    "leg2 = ax[1].legend(fontsize=10)\n",
    "leg2.set_title(\"b-AK4 match categories\", prop={\"size\": 10})\n",
    "ax[1].set_xlim(0, 500)\n",
    "ax[1].set_xlabel(r\"$pT_{H_2}$\")"
   ]
  },
  {
   "cell_type": "markdown",
   "id": "8eccaf72-220c-4291-9e3d-10c23cc64918",
   "metadata": {},
   "source": [
    "### OOC matching combination statistics"
   ]
  },
  {
   "cell_type": "code",
   "execution_count": null,
   "id": "ae28b330-457d-458c-bde5-3cee52407b8a",
   "metadata": {},
   "outputs": [],
   "source": []
  }
 ],
 "metadata": {
  "kernelspec": {
   "display_name": "Python 3 (ipykernel)",
   "language": "python",
   "name": "python3"
  },
  "language_info": {
   "codemirror_mode": {
    "name": "ipython",
    "version": 3
   },
   "file_extension": ".py",
   "mimetype": "text/x-python",
   "name": "python",
   "nbconvert_exporter": "python",
   "pygments_lexer": "ipython3",
   "version": "3.9.18"
  }
 },
 "nbformat": 4,
 "nbformat_minor": 5
}
