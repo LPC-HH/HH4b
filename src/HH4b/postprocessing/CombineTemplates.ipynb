{
 "cells": [
  {
   "cell_type": "markdown",
   "metadata": {},
   "source": [
    "# Combining templates and plotting systematic shifts\n",
    "\n",
    "Author(s): Raghav Kansal, Javier Duarte"
   ]
  },
  {
   "cell_type": "code",
   "execution_count": null,
   "metadata": {},
   "outputs": [],
   "source": [
    "import pickle\n",
    "import json\n",
    "from pathlib import Path\n",
    "from HH4b.hh_vars import years"
   ]
  },
  {
   "cell_type": "code",
   "execution_count": null,
   "metadata": {},
   "outputs": [],
   "source": [
    "%load_ext autoreload\n",
    "%autoreload 2"
   ]
  },
  {
   "cell_type": "code",
   "execution_count": null,
   "metadata": {},
   "outputs": [],
   "source": [
    "templates_path = Path(\"src/HH4b/postprocessing/templates/24June3Test\")"
   ]
  },
  {
   "cell_type": "markdown",
   "metadata": {},
   "source": [
    "## Combining templates"
   ]
  },
  {
   "cell_type": "code",
   "execution_count": null,
   "metadata": {},
   "outputs": [],
   "source": [
    "templates = {}\n",
    "year = \"2022\"\n",
    "\n",
    "with (templates_path / f\"{year}_templates.pkl\").open(\"rb\") as f:\n",
    "    templates = pickle.load(f)"
   ]
  },
  {
   "cell_type": "code",
   "execution_count": null,
   "metadata": {},
   "outputs": [],
   "source": [
    "templates"
   ]
  },
  {
   "cell_type": "markdown",
   "metadata": {},
   "source": [
    "## Testing JES plots"
   ]
  },
  {
   "cell_type": "code",
   "execution_count": null,
   "metadata": {},
   "outputs": [],
   "source": [
    "import hist\n",
    "from hist import Hist\n",
    "import numpy as np\n",
    "from HH4b.hh_vars import jecs, jmsr, bg_keys, sig_keys, LUMI\n",
    "from HH4b import utils, plotting, postprocessing\n",
    "from HH4b.postprocessing import datacardHelpers, Region\n",
    "import warnings\n",
    "from pathlib import Path"
   ]
  },
  {
   "cell_type": "code",
   "execution_count": null,
   "metadata": {},
   "outputs": [],
   "source": [
    "main_plot_dir = Path(\"plots/PostProcessing/24May23VBFPriorityCat1/Templates\")\n",
    "\n",
    "\n",
    "selection_regions = {\n",
    "    \"pass_bin1\": Region(\n",
    "        cuts={\n",
    "            \"Category\": [1, 2],\n",
    "        },\n",
    "        label=\"Bin1\",\n",
    "    ),\n",
    "    \"pass_bin2\": Region(\n",
    "        cuts={\n",
    "            \"Category\": [2, 3],\n",
    "        },\n",
    "        label=\"Bin2\",\n",
    "    ),\n",
    "    \"pass_bin3\": Region(\n",
    "        cuts={\n",
    "            \"Category\": [3, 4],\n",
    "        },\n",
    "        label=\"Bin3\",\n",
    "    ),\n",
    "    \"fail\": Region(\n",
    "        cuts={\n",
    "            \"Category\": [4, 5],\n",
    "        },\n",
    "        label=\"Fail\",\n",
    "    ),\n",
    "}"
   ]
  },
  {
   "cell_type": "code",
   "execution_count": null,
   "metadata": {},
   "outputs": [],
   "source": [
    "def combine_hists(*hists):\n",
    "    csamples = []\n",
    "    for h in hists:\n",
    "        csamples += list(h.axes[0])\n",
    "\n",
    "    reth = Hist(\n",
    "        hist.axis.StrCategory(csamples, name=\"Sample\"),\n",
    "        *hists[0].axes[1:],\n",
    "        storage=\"weight\",\n",
    "    )\n",
    "\n",
    "    for h in hists:\n",
    "        for sample in h.axes[0]:\n",
    "            reth.view(flow=True)[utils.get_key_index(reth, sample), ...] = h[sample, ...].view(\n",
    "                flow=True\n",
    "            )\n",
    "\n",
    "    return reth"
   ]
  },
  {
   "cell_type": "code",
   "execution_count": null,
   "metadata": {},
   "outputs": [],
   "source": [
    "import matplotlib as mpl\n",
    "import matplotlib.pyplot as plt\n",
    "import matplotlib.ticker as mticker\n",
    "import mplhep as hep\n",
    "\n",
    "plt.style.use(hep.style.CMS)\n",
    "hep.style.use(\"CMS\")\n",
    "formatter = mticker.ScalarFormatter(useMathText=True)\n",
    "formatter.set_powerlimits((-3, 3))\n",
    "\n",
    "# this is needed for some reason to update the font size for the first plot\n",
    "fig, ax = plt.subplots(1, 1, figsize=(12, 12))\n",
    "plt.rcParams.update({\"font.size\": 24})\n",
    "plt.close()"
   ]
  },
  {
   "cell_type": "code",
   "execution_count": null,
   "metadata": {},
   "outputs": [],
   "source": [
    "warnings.filterwarnings(\"ignore\")\n",
    "\n",
    "# sig_key = \"hh4b\"\n",
    "# sig_key = \"vbfhh4b-k2v0\"\n",
    "sig_key = \"ttbar\"\n",
    "\n",
    "for rname, region in selection_regions.items():\n",
    "    plot_dir = main_plot_dir / year / \"wshifts\"\n",
    "    plot_dir.mkdir(exist_ok=True, parents=True)\n",
    "    # for wshift in list((jecs).keys()):\n",
    "    for wshift in [\n",
    "        \"ttbarSF_Xbb_bin_0_0.8\",\n",
    "        \"ttbarSF_Xbb_bin_0.8_0.94\",\n",
    "        \"ttbarSF_Xbb_bin_0.94_0.99\",\n",
    "        \"ttbarSF_Xbb_bin_0.99_1\",\n",
    "        \"ttbarSF_pTjj\",\n",
    "        \"ttbarSF_tau32\",\n",
    "    ]:\n",
    "        if wshift in jecs:\n",
    "            # adding jshift-ed histograms into the same histogram\n",
    "            cjshift_templates = [templates[rname]]\n",
    "            for shift in [\"up\", \"down\"]:\n",
    "                # new histogram with sample names renamed to \"{sample}_{jsf}_{shift}\"\n",
    "                jt = templates[f\"{rname}_{wshift}_{shift}\"]\n",
    "                slabels = [f\"{s}_{wshift}_{shift}\" for s in jt.axes[0]]\n",
    "                rjt = Hist(\n",
    "                    hist.axis.StrCategory(slabels, name=\"Sample\"),\n",
    "                    *jt.axes[1:],\n",
    "                    storage=\"weight\",\n",
    "                )\n",
    "                rjt.view()[...] = jt.view()\n",
    "                cjshift_templates.append(rjt)\n",
    "\n",
    "                cjt = combine_hists(*cjshift_templates)\n",
    "                shift_label = wshift\n",
    "        else:\n",
    "            shift_label = postprocessing.weight_shifts[wshift].label\n",
    "            cjt = templates[rname]\n",
    "        print(cjt)\n",
    "\n",
    "        plotting.sigErrRatioPlot(\n",
    "            cjt,\n",
    "            sig_key,\n",
    "            wshift,\n",
    "            \"$m_{reg}^{2}$ (GeV)\",\n",
    "            f\"{region.label} Region {shift_label} Variations\",\n",
    "            plot_dir,\n",
    "            f\"{rname}_sig_{wshift}\",\n",
    "            show=True,\n",
    "        )"
   ]
  },
  {
   "cell_type": "code",
   "execution_count": null,
   "metadata": {},
   "outputs": [],
   "source": [
    "from rhalphalib import MorphHistW2\n",
    "from HH4b.postprocessing.datacardHelpers import smass\n",
    "\n",
    "jmr_values = {\n",
    "    \"2022\": [1.13, 1.06, 1.20],\n",
    "    \"2022EE\": [1.20, 1.15, 1.25],\n",
    "    \"2023\": [1.20, 1.16, 1.24],\n",
    "    \"2023BPix\": [1.16, 1.09, 1.23],\n",
    "}\n",
    "jms_values = {\n",
    "    \"2022\": [1.015, 1.010, 1.005],\n",
    "    \"2022EE\": [1.021, 1.018, 1.024],\n",
    "    \"2023\": [0.999, 0.996, 1.003],\n",
    "    \"2023BPix\": [0.974, 0.970, 0.980],\n",
    "}\n",
    "\n",
    "\n",
    "def smorph(templ, sample_name, jms_value, jmr_value):\n",
    "    if templ is None:\n",
    "        return None\n",
    "\n",
    "    if sample_name not in [\"ttbar\", \"tthtobb\"]:\n",
    "        return MorphHistW2(templ).get(shift=(jms_value - 1.0) * smass(sample_name), smear=jmr_value)\n",
    "    else:\n",
    "        return templ\n",
    "\n",
    "\n",
    "histogram = templates[\"pass_bin1\"][\"hh4b\", :]\n",
    "templ = (histogram.values(), histogram.axes[0].edges, histogram.axes[0].name, histogram.variances())\n",
    "\n",
    "templ_nominal = smorph(templ, \"hh4b\", jms_values[year][0], jmr_values[year][0])\n",
    "templ_jms_dn = smorph(templ, \"hh4b\", jms_values[year][1], jmr_values[year][0])\n",
    "templ_jms_up = smorph(templ, \"hh4b\", jms_values[year][2], jmr_values[year][0])\n",
    "templ_jmr_dn = smorph(templ, \"hh4b\", jms_values[year][0], jmr_values[year][1])\n",
    "templ_jmr_up = smorph(templ, \"hh4b\", jms_values[year][0], jmr_values[year][2])"
   ]
  },
  {
   "cell_type": "code",
   "execution_count": null,
   "metadata": {},
   "outputs": [],
   "source": [
    "import matplotlib.pyplot as plt\n",
    "import mplhep as hep\n",
    "import numpy as np\n",
    "\n",
    "plt.figure()\n",
    "hep.histplot(\n",
    "    templ[0], templ[1], yerr=np.sqrt(templ[3]), histtype=\"step\", label=\"Original (JMS=1, JMR=1)\"\n",
    ")\n",
    "hep.histplot(\n",
    "    templ_nominal[0],\n",
    "    templ_nominal[1],\n",
    "    yerr=np.sqrt(templ_nominal[3]),\n",
    "    histtype=\"step\",\n",
    "    label=f\"Nominal (JMS={jms_values[year][0]}, JMR={jmr_values[year][0]})\",\n",
    ")\n",
    "plt.legend(title=f\"hh4b, {year}\")\n",
    "plt.xlabel(templ[2])\n",
    "plt.ylim(0, 0.035)\n",
    "plt.xlim(60, 220)\n",
    "plt.ylabel(\"Signal Yield\")\n",
    "plt.xlabel(templ[2] + \" [GeV]\")"
   ]
  },
  {
   "cell_type": "code",
   "execution_count": null,
   "metadata": {},
   "outputs": [],
   "source": [
    "plt.figure()\n",
    "hep.histplot(\n",
    "    templ_jms_dn[0],\n",
    "    templ_jms_dn[1],\n",
    "    yerr=np.sqrt(templ_jms_dn[3]),\n",
    "    histtype=\"step\",\n",
    "    label=f\"JMS Down (JMS={jms_values[year][1]})\",\n",
    ")\n",
    "hep.histplot(\n",
    "    templ_jms_up[0],\n",
    "    templ_jms_up[1],\n",
    "    yerr=np.sqrt(templ_jms_up[3]),\n",
    "    histtype=\"step\",\n",
    "    label=f\"JMS Up (JMS={jms_values[year][2]})\",\n",
    ")\n",
    "plt.legend(title=f\"hh4b, {year}\")\n",
    "plt.xlabel(templ[2])\n",
    "plt.ylim(0, 0.035)\n",
    "plt.xlim(60, 220)\n",
    "plt.ylabel(\"Signal Yield\")\n",
    "plt.xlabel(templ[2] + \" [GeV]\")"
   ]
  },
  {
   "cell_type": "code",
   "execution_count": null,
   "metadata": {},
   "outputs": [],
   "source": [
    "plt.figure()\n",
    "hep.histplot(\n",
    "    templ_jmr_dn[0],\n",
    "    templ_jmr_dn[1],\n",
    "    yerr=np.sqrt(templ_jmr_dn[3]),\n",
    "    histtype=\"step\",\n",
    "    label=f\"JMR Down (JMR={jmr_values[year][1]})\",\n",
    ")\n",
    "hep.histplot(\n",
    "    templ_jmr_up[0],\n",
    "    templ_jmr_up[1],\n",
    "    yerr=np.sqrt(templ_jmr_up[3]),\n",
    "    histtype=\"step\",\n",
    "    label=f\"JMR Up (JMR={jmr_values[year][2]})\",\n",
    ")\n",
    "plt.legend(title=f\"hh4b, {year}\")\n",
    "plt.xlabel(templ[2])\n",
    "plt.ylim(0, 0.035)\n",
    "plt.xlim(60, 220)\n",
    "plt.ylabel(\"Signal Yield\")\n",
    "plt.xlabel(templ[2] + \" [GeV]\")"
   ]
  },
  {
   "cell_type": "code",
   "execution_count": null,
   "metadata": {},
   "outputs": [],
   "source": []
  }
 ],
 "metadata": {
  "kernelspec": {
   "display_name": "python310",
   "language": "python",
   "name": "python3"
  },
  "language_info": {
   "codemirror_mode": {
    "name": "ipython",
    "version": 3
   },
   "file_extension": ".py",
   "mimetype": "text/x-python",
   "name": "python",
   "nbconvert_exporter": "python",
   "pygments_lexer": "ipython3",
   "version": "3.10.14"
  }
 },
 "nbformat": 4,
 "nbformat_minor": 2
}
