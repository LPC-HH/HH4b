{
 "cells": [
  {
   "cell_type": "code",
   "execution_count": null,
   "metadata": {},
   "outputs": [],
   "source": [
    "import utils\n",
    "import plotting\n",
    "import postprocessing\n",
    "from utils import ShapeVar\n",
    "from hh_vars import samples, data_key, bg_keys, sig_keys\n",
    "\n",
    "import numpy as np\n",
    "import pandas as pd"
   ]
  },
  {
   "cell_type": "code",
   "execution_count": null,
   "metadata": {},
   "outputs": [],
   "source": [
    "# automatically reloads imported files on edits\n",
    "%load_ext autoreload\n",
    "%autoreload 2"
   ]
  },
  {
   "cell_type": "code",
   "execution_count": null,
   "metadata": {},
   "outputs": [],
   "source": [
    "# define dictionary with directories of files (this can be configured in a yaml file later in the script)\n",
    "sig_keys = [\"hh4b\"]\n",
    "bg_keys = [\"qcd\", \"ttbar\"]\n",
    "for key in list(samples.keys()):\n",
    "    if key not in bg_keys + sig_keys + [data_key]:\n",
    "        del samples[key]\n",
    "\n",
    "# this is the directory to the files\n",
    "path_to_dir = \"/eos/uscms/store/user/cmantill/bbbb/skimmer/Oct13Test/\"\n",
    "sample_dirs = {path_to_dir: samples}\n",
    "year = \"2022EE\""
   ]
  },
  {
   "cell_type": "code",
   "execution_count": null,
   "metadata": {},
   "outputs": [],
   "source": [
    "# columns to load\n",
    "# the parquet files are too big so we can only load a few columns at a time without consumming much memory\n",
    "load_columns = [\n",
    "    (\"weight\", 1),\n",
    "    # (\"DijetMass\", 1),\n",
    "    (\"ak8FatJetPt\", 2),\n",
    "    (\"ak8FatJetPNetXbb\", 2),\n",
    "    (\"ak8FatJetPNetMass\", 2),\n",
    "]\n",
    "\n",
    "load_columns_mc = load_columns + [(\"single_weight_trigsf_2jet\", 1)]"
   ]
  },
  {
   "cell_type": "code",
   "execution_count": null,
   "metadata": {},
   "outputs": [],
   "source": [
    "# save cutflow as pandas table\n",
    "cutflow = pd.DataFrame(index=list(samples.keys()))\n",
    "\n",
    "# dictionary that will contain all information (from all samples)\n",
    "events_dict = {}\n",
    "for input_dir, samples in sample_dirs.items():\n",
    "    events_dict = {\n",
    "        **events_dict,\n",
    "        # this function will load files (only the columns selected), apply filters and compute a weight per event\n",
    "        **utils.load_samples(\n",
    "            input_dir,\n",
    "            samples,\n",
    "            year,\n",
    "            columns=utils.format_columns(load_columns),\n",
    "            columns_mc=utils.format_columns(load_columns_mc),\n",
    "        ),\n",
    "    }\n",
    "\n",
    "utils.add_to_cutflow(events_dict, \"Preselection\", \"weight\", cutflow)\n",
    "print(\"\\n\", cutflow)"
   ]
  },
  {
   "cell_type": "markdown",
   "metadata": {},
   "source": [
    "Control Plots"
   ]
  },
  {
   "cell_type": "code",
   "execution_count": null,
   "metadata": {},
   "outputs": [],
   "source": [
    "# {var: (bins, label)}\n",
    "control_plot_vars = {\n",
    "    # var must match key in events dictionary (i.e. as saved in parquet file)\n",
    "    # \"DijetMass\": ShapeVar(var=\"DijetMass\", label=r\"$m^{jj}$ (GeV)\", bins=[30, 600, 4000]),\n",
    "    \"ak8FatJetPt0\": ShapeVar(var=\"ak8FatJetPt0\", label=r\"$p_T^0$ (GeV)\", bins=[30, 300, 1500]),\n",
    "    \"ak8FatJetPt1\": ShapeVar(var=\"ak8FatJetPt1\", label=r\"$p_T^1$ (GeV)\", bins=[30, 300, 1500]),\n",
    "    \"ak8FatJetPNetMass0\": ShapeVar(\n",
    "        var=\"ak8FatJetPNetMass0\", label=r\"$m_{reg}^{0}$ (GeV)\", bins=[20, 50, 250]\n",
    "    ),\n",
    "    \"ak8FatJetPNetMass1\": ShapeVar(\n",
    "        var=\"ak8FatJetPNetMass1\", label=r\"$m_{reg}^{1}$ (GeV)\", bins=[20, 50, 250]\n",
    "    ),\n",
    "    # \"ak8FatJetPNetXbb0\": ShapeVar(\n",
    "    #     var=\"ak8FatJetPNetXbb0\",\n",
    "    #     label=r\"$TX_{bb}^{0}$\",\n",
    "    #     bins=[50, 0.0, 1],\n",
    "    # ),\n",
    "}\n",
    "\n",
    "hists = {}\n",
    "for shape_var in control_plot_vars:\n",
    "    if shape_var.var not in hists:\n",
    "        hists[shape_var.var] = utils.singleVarHist(\n",
    "            events_dict,\n",
    "            shape_var,\n",
    "            weight_key=\"weight\",\n",
    "        )\n",
    "\n",
    "for shape_var in control_plot_vars:\n",
    "    name = f\"{tplot_dir}/{cutstr}{shape_var.var}{logstr}.pdf\"\n",
    "    plotting.ratioHistPlot(\n",
    "        hists[shape_var.var],\n",
    "        year,\n",
    "        plot_sig_keys,\n",
    "        bg_keys,\n",
    "        name=name,\n",
    "        sig_scale_dict=tsig_scale_dict if not log else None,\n",
    "        plot_significance=plot_significance,\n",
    "        significance_dir=shape_var.significance_dir,\n",
    "        show=show,\n",
    "        log=log,\n",
    "        ylim=None if not log else 1e15,\n",
    "    )\n",
    "\n",
    "\n",
    "hists = postprocessing.control_plots(\n",
    "    events_dict,\n",
    "    bb_masks,\n",
    "    [\"HHbbVV\", \"qqHH_CV_1_C2V_1_kl_1_HHbbVV\"],\n",
    "    control_plot_vars,\n",
    "    f\"{plot_dir}/ControlPlots/{year}/\",\n",
    "    year,\n",
    "    bg_keys=[\"QCD\", \"TT\", \"ST\", \"V+Jets\", \"Diboson\"],\n",
    "    # bg_keys=[\"QCD\", \"TT\", \"ST\", \"V+Jets\", \"Hbb\"],\n",
    "    sig_scale_dict={\"HHbbVV\": 2e5, \"qqHH_CV_1_C2V_1_kl_1_HHbbVV\": 2e6},\n",
    "    show=True,\n",
    ")"
   ]
  }
 ],
 "metadata": {
  "kernelspec": {
   "display_name": "python39",
   "language": "python",
   "name": "python3"
  },
  "language_info": {
   "codemirror_mode": {
    "name": "ipython",
    "version": 3
   },
   "file_extension": ".py",
   "mimetype": "text/x-python",
   "name": "python",
   "nbconvert_exporter": "python",
   "pygments_lexer": "ipython3",
   "version": "3.9.15"
  }
 },
 "nbformat": 4,
 "nbformat_minor": 2
}
