{
 "cells": [
  {
   "cell_type": "markdown",
   "metadata": {},
   "source": [
    "# Postprocessing\n",
    "\n",
    "Makes control plots and templates.\n",
    "\n",
    "Authors: Raghav Kansal, Cristina Suarez"
   ]
  },
  {
   "cell_type": "code",
   "execution_count": null,
   "metadata": {},
   "outputs": [],
   "source": [
    "import os\n",
    "import utils\n",
    "import plotting\n",
    "import postprocessing\n",
    "from postprocessing import Region, weight_shifts\n",
    "from utils import ShapeVar, CUT_MAX_VAL\n",
    "from hh_vars import samples, data_key, bg_keys, sig_keys\n",
    "\n",
    "import numpy as np\n",
    "import pandas as pd\n",
    "\n",
    "import matplotlib.pyplot as plt\n",
    "import mplhep as hep\n",
    "import matplotlib.ticker as mticker\n",
    "\n",
    "plt.style.use(hep.style.CMS)\n",
    "hep.style.use(\"CMS\")\n",
    "formatter = mticker.ScalarFormatter(useMathText=True)\n",
    "formatter.set_powerlimits((-3, 3))\n",
    "plt.rcParams.update({\"font.size\": 16})"
   ]
  },
  {
   "cell_type": "code",
   "execution_count": null,
   "metadata": {},
   "outputs": [],
   "source": [
    "# automatically reloads imported files on edits\n",
    "%load_ext autoreload\n",
    "%autoreload 2"
   ]
  },
  {
   "cell_type": "code",
   "execution_count": null,
   "metadata": {},
   "outputs": [],
   "source": [
    "# define dictionary with directories of files (this can be configured in a yaml file later in the script)\n",
    "sig_keys = [\"hh4b\"]\n",
    "for key in list(samples.keys()):\n",
    "    if key not in bg_keys + sig_keys + [data_key]:\n",
    "        del samples[key]\n",
    "\n",
    "MAIN_DIR = \"../../../\"\n",
    "# this is the directory to the files\n",
    "# path_to_dir = \"/eos/uscms/store/user/cmantill/bbbb/skimmer/Oct13Test/\"\n",
    "path_to_dir = f\"{MAIN_DIR}/../data/skimmer/Oct19wSelection/\"\n",
    "sample_dirs = {path_to_dir: samples}\n",
    "year = \"2022EE\"\n",
    "\n",
    "# make plot and template directory\n",
    "date = \"23Oct23QCDPt\"\n",
    "plot_dir = f\"{MAIN_DIR}/plots/PostProcessing/{date}/\"\n",
    "template_dir = f\"templates/{date}/\"\n",
    "_ = os.system(f\"mkdir -p {plot_dir}\")\n",
    "_ = os.system(f\"mkdir -p {template_dir}/cutflows/{year}\")"
   ]
  },
  {
   "cell_type": "code",
   "execution_count": null,
   "metadata": {},
   "outputs": [],
   "source": [
    "# columns to load\n",
    "# the parquet files are too big so we can only load a few columns at a time without consumming much memory\n",
    "load_columns = [\n",
    "    (\"weight\", 1),\n",
    "    # (\"DijetMass\", 1),\n",
    "    (\"ak8FatJetPt\", 2),\n",
    "    (\"ak8FatJetPNetXbb\", 2),\n",
    "    (\"ak8FatJetMsd\", 2),\n",
    "    (\"ak8FatJetPNetMass\", 2),\n",
    "]\n",
    "\n",
    "load_columns_mc = load_columns + [(\"single_weight_trigsf_2jet\", 1)]\n",
    "# + [(f\"weight_{syst}_{shift}\", 1) for syst in weight_shifts for shift in [\"up\", \"down\"]]"
   ]
  },
  {
   "cell_type": "code",
   "execution_count": null,
   "metadata": {},
   "outputs": [],
   "source": [
    "df = pd.read_parquet(\n",
    "    \"../../../../data/skimmer/Oct19wSelection/2022EE/GluGlutoHHto4B_kl-0p00_kt-1p00_c2-0p00_TuneCP5_13p6TeV_TSG/parquet\"\n",
    ")\n",
    "list(df.columns)"
   ]
  },
  {
   "cell_type": "code",
   "execution_count": null,
   "metadata": {},
   "outputs": [],
   "source": [
    "filters = [\n",
    "    [\n",
    "        (\"('ak8FatJetPt', '0')\", \">=\", 300),\n",
    "        (\"('ak8FatJetPt', '1')\", \">=\", 300),\n",
    "        (\"('ak8FatJetMsd', '0')\", \">=\", 60),\n",
    "        (\"('ak8FatJetMsd', '1')\", \">=\", 60),\n",
    "        (\"('ak8FatJetPNetXbb', '0')\", \">=\", 0.8),\n",
    "    ],\n",
    "    [\n",
    "        (\"('ak8FatJetPt', '0')\", \">=\", 300),\n",
    "        (\"('ak8FatJetPt', '1')\", \">=\", 300),\n",
    "        (\"('ak8FatJetMsd', '0')\", \">=\", 60),\n",
    "        (\"('ak8FatJetMsd', '1')\", \">=\", 60),\n",
    "        (\"('ak8FatJetPNetXbb', '1')\", \">=\", 0.8),\n",
    "    ],\n",
    "]\n",
    "\n",
    "# save cutflow as pandas table\n",
    "cutflow = pd.DataFrame(index=list(samples.keys()))\n",
    "\n",
    "# dictionary that will contain all information (from all samples)\n",
    "events_dict = {}\n",
    "for input_dir, samples in sample_dirs.items():\n",
    "    events_dict = {\n",
    "        **events_dict,\n",
    "        # this function will load files (only the columns selected), apply filters and compute a weight per event\n",
    "        **utils.load_samples(\n",
    "            input_dir,\n",
    "            samples,\n",
    "            year,\n",
    "            filters=filters,\n",
    "            columns=utils.format_columns(load_columns),\n",
    "            columns_mc=utils.format_columns(load_columns_mc),\n",
    "        ),\n",
    "    }\n",
    "\n",
    "utils.add_to_cutflow(events_dict, \"Preselection\", \"weight\", cutflow)\n",
    "print(\"\\n\", cutflow)"
   ]
  },
  {
   "cell_type": "markdown",
   "metadata": {},
   "source": [
    "Checking weights without the trigger SFs"
   ]
  },
  {
   "cell_type": "code",
   "execution_count": null,
   "metadata": {},
   "outputs": [],
   "source": [
    "for key, events in events_dict.items():\n",
    "    if key == data_key:\n",
    "        events[\"weight_notrig\"] = events[\"weight\"]\n",
    "    else:\n",
    "        events[\"weight_notrig\"] = events[\"weight\"] / events[\"single_weight_trigsf_2jet\"]"
   ]
  },
  {
   "cell_type": "code",
   "execution_count": null,
   "metadata": {},
   "outputs": [],
   "source": [
    "_ = plt.hist(events_dict[\"qcd\"][\"single_weight_trigsf_2jet\"].values, bins=100, histtype=\"step\")"
   ]
  },
  {
   "cell_type": "markdown",
   "metadata": {},
   "source": [
    "### Control Plots"
   ]
  },
  {
   "cell_type": "code",
   "execution_count": null,
   "metadata": {},
   "outputs": [],
   "source": [
    "# {var: (bins, label)}\n",
    "control_plot_vars = [\n",
    "    # var must match key in events dictionary (i.e. as saved in parquet file)\n",
    "    # ShapeVar(var=\"DijetMass\", label=r\"$m^{jj}$ (GeV)\", bins=[30, 600, 4000]),\n",
    "    ShapeVar(var=\"ak8FatJetPt0\", label=r\"$p_T^{j1}$ (GeV)\", bins=[50, 300, 1500]),\n",
    "    # ShapeVar(var=\"ak8FatJetPt1\", label=r\"$p_T^{j2}$ (GeV)\", bins=[50, 300, 1500]),\n",
    "    # ShapeVar(\n",
    "    #     var=\"ak8FatJetPNetMass0\",\n",
    "    #     label=r\"$m_{reg}^{j1}$ (GeV)\",\n",
    "    #     bins=[20, 50, 250],\n",
    "    #     significance_dir=\"bin\",\n",
    "    # ),\n",
    "    # ShapeVar(\n",
    "    #     var=\"ak8FatJetPNetMass1\",\n",
    "    #     label=r\"$m_{reg}^{j2}$ (GeV)\",\n",
    "    #     bins=[20, 50, 250],\n",
    "    #     significance_dir=\"bin\",\n",
    "    # ),\n",
    "    # ShapeVar(\n",
    "    #     var=\"ak8FatJetMsd0\",\n",
    "    #     label=r\"$m_{SD}^{j1}$ (GeV)\",\n",
    "    #     bins=[20, 50, 250],\n",
    "    #     significance_dir=\"bin\",\n",
    "    # ),\n",
    "    # ShapeVar(\n",
    "    #     var=\"ak8FatJetMsd1\",\n",
    "    #     label=r\"$m_{SD}^{j2}$ (GeV)\",\n",
    "    #     bins=[20, 50, 250],\n",
    "    #     significance_dir=\"bin\",\n",
    "    # ),\n",
    "    # ShapeVar(\n",
    "    #     var=\"ak8FatJetPNetXbb0\",\n",
    "    #     label=r\"$T_{Xbb}^{j1}$\",\n",
    "    #     bins=[50, 0.0, 1],\n",
    "    # ),\n",
    "    # ShapeVar(\n",
    "    #     var=\"ak8FatJetPNetXbb1\",\n",
    "    #     label=r\"$T_{Xbb}^{j2}$\",\n",
    "    #     bins=[50, 0.0, 1],\n",
    "    # ),\n",
    "]\n",
    "\n",
    "# hists = {}\n",
    "for shape_var in control_plot_vars:\n",
    "    if shape_var.var not in hists:\n",
    "        hists[shape_var.var] = utils.singleVarHist(\n",
    "            events_dict,\n",
    "            shape_var,\n",
    "            weight_key=\"weight\",\n",
    "        )\n",
    "\n",
    "for shape_var in control_plot_vars:\n",
    "    name = f\"{plot_dir}/{shape_var.var}.pdf\"\n",
    "    plotting.ratioHistPlot(\n",
    "        hists[shape_var.var],\n",
    "        year,\n",
    "        sig_keys,\n",
    "        bg_keys,\n",
    "        name=name,\n",
    "        show=True,\n",
    "        log=True,\n",
    "        plot_significance=False,\n",
    "        significance_dir=shape_var.significance_dir,\n",
    "        ratio_ylims=None,\n",
    "    )\n",
    "    # break"
   ]
  },
  {
   "cell_type": "markdown",
   "metadata": {},
   "source": [
    "Mass plots for signal"
   ]
  },
  {
   "cell_type": "code",
   "execution_count": null,
   "metadata": {},
   "outputs": [],
   "source": [
    "sig_key = \"hh4b\"\n",
    "plots = {\n",
    "    \"bb0FatJetPNetMass\": r\"$m_{reg}^{j1}$ (GeV)\",\n",
    "    \"bb1FatJetPNetMass\": r\"$m_{reg}^{j2}$ (GeV)\",\n",
    "    \"bb0FatJetMsd\": r\"$m_{SD}^{j1}$ (GeV)\",\n",
    "    \"bb1FatJetMsd\": r\"$m_{SD}^{j2}$ (GeV)\",\n",
    "}\n",
    "\n",
    "for key, label in plots.items():\n",
    "    plt.hist(\n",
    "        utils.get_feat(events_dict[sig_key], key),\n",
    "        bins=20,\n",
    "        histtype=\"step\",\n",
    "        label=label,\n",
    "        range=[50, 250],\n",
    "        weights=utils.get_feat(events_dict[sig_key], \"weight\"),\n",
    "        linestyle=\"--\",\n",
    "        linewidth=2,\n",
    "    )\n",
    "\n",
    "plt.legend()\n",
    "plt.xlabel(\"Mass (GeV)\")\n",
    "plt.ylabel(\"Events\")\n",
    "plt.show()"
   ]
  },
  {
   "cell_type": "markdown",
   "metadata": {},
   "source": [
    "Control plots without trigger weights"
   ]
  },
  {
   "cell_type": "code",
   "execution_count": null,
   "metadata": {},
   "outputs": [],
   "source": [
    "hists_notrigweights = {}\n",
    "for shape_var in control_plot_vars:\n",
    "    if shape_var.var not in hists_notrigweights:\n",
    "        hists_notrigweights[shape_var.var] = utils.singleVarHist(\n",
    "            events_dict,\n",
    "            shape_var,\n",
    "            weight_key=\"weight_notrig\",\n",
    "        )\n",
    "\n",
    "for shape_var in control_plot_vars:\n",
    "    name = f\"{plot_dir}/{shape_var.var}_notrigweights.pdf\"\n",
    "    plotting.ratioHistPlot(\n",
    "        hists_notrigweights[shape_var.var],\n",
    "        year,\n",
    "        sig_keys,\n",
    "        bg_keys,\n",
    "        name=name,\n",
    "        show=True,\n",
    "        log=True,\n",
    "        ratio_ylims=None,\n",
    "    )"
   ]
  },
  {
   "cell_type": "markdown",
   "metadata": {},
   "source": [
    "### Cut-based selection"
   ]
  },
  {
   "cell_type": "code",
   "execution_count": null,
   "metadata": {},
   "outputs": [],
   "source": [
    "bb_masks = postprocessing.bb_assignment(events_dict)"
   ]
  },
  {
   "cell_type": "code",
   "execution_count": null,
   "metadata": {},
   "outputs": [],
   "source": [
    "# {label: {cutvar: [min, max], ...}, ...}\n",
    "txbb_cut = 0.985\n",
    "\n",
    "selection_regions = {\n",
    "    \"pass\": Region(\n",
    "        cuts={\n",
    "            \"bb0FatJetPNetXbb\": [txbb_cut, CUT_MAX_VAL],\n",
    "            \"bb1FatJetPNetXbb\": [txbb_cut, CUT_MAX_VAL],\n",
    "            \"bb0FatJetPNetMass\": [100, 150],\n",
    "        },\n",
    "        label=\"Pass\",\n",
    "    ),\n",
    "    \"fail\": Region(\n",
    "        cuts={\n",
    "            \"bb0FatJetPNetXbb\": [-CUT_MAX_VAL, txbb_cut],\n",
    "            \"bb1FatJetPNetXbb\": [-CUT_MAX_VAL, txbb_cut],\n",
    "            \"bb0FatJetPNetMass\": [100, 150],\n",
    "        },\n",
    "        label=\"Fail\",\n",
    "    ),\n",
    "}\n",
    "\n",
    "fit_shape_var = ShapeVar(\n",
    "    \"bb1FatJetPNetMass\",\n",
    "    r\"$m^{2}_\\mathrm{Reg}$ (GeV)\",\n",
    "    [20, 60, 260],\n",
    "    reg=True,\n",
    "    blind_window=[100, 150],\n",
    ")"
   ]
  },
  {
   "cell_type": "code",
   "execution_count": null,
   "metadata": {},
   "outputs": [],
   "source": [
    "templates = postprocessing.get_templates(\n",
    "    events_dict,\n",
    "    bb_masks,\n",
    "    year,\n",
    "    sig_keys,\n",
    "    selection_regions,\n",
    "    [fit_shape_var],\n",
    "    {},\n",
    "    template_dir,\n",
    "    bg_keys,\n",
    "    plot_dir,\n",
    "    cutflow,\n",
    "    weight_key=\"weight\",\n",
    "    # weight_shifts=weight_shifts,\n",
    "    show=True,\n",
    ")"
   ]
  },
  {
   "cell_type": "code",
   "execution_count": null,
   "metadata": {},
   "outputs": [],
   "source": [
    "templates"
   ]
  },
  {
   "cell_type": "code",
   "execution_count": null,
   "metadata": {},
   "outputs": [],
   "source": [
    "postprocessing.save_templates(\n",
    "    templates,\n",
    "    f\"{template_dir}/{year}_templates.pkl\",\n",
    "    fit_shape_var,\n",
    ")"
   ]
  },
  {
   "cell_type": "code",
   "execution_count": null,
   "metadata": {},
   "outputs": [],
   "source": [
    "import pickle\n",
    "\n",
    "with open(f\"templates/23Oct17/{year}_templates.pkl\", \"rb\") as f:\n",
    "    templates2 = pickle.load(f)"
   ]
  }
 ],
 "metadata": {
  "kernelspec": {
   "display_name": "python39",
   "language": "python",
   "name": "python3"
  },
  "language_info": {
   "codemirror_mode": {
    "name": "ipython",
    "version": 3
   },
   "file_extension": ".py",
   "mimetype": "text/x-python",
   "name": "python",
   "nbconvert_exporter": "python",
   "pygments_lexer": "ipython3",
   "version": "3.9.15"
  }
 },
 "nbformat": 4,
 "nbformat_minor": 2
}
