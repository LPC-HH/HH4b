{
 "cells": [
  {
   "cell_type": "markdown",
   "metadata": {},
   "source": [
    "# Postprocessing\n",
    "\n",
    "Makes control plots and templates.\n",
    "\n",
    "Authors: Raghav Kansal, Cristina Suarez"
   ]
  },
  {
   "cell_type": "code",
   "execution_count": null,
   "metadata": {},
   "outputs": [],
   "source": [
    "import os\n",
    "import utils\n",
    "import plotting\n",
    "import postprocessing\n",
    "from postprocessing import Region, weight_shifts\n",
    "from utils import ShapeVar, CUT_MAX_VAL\n",
    "from hh_vars import samples, data_key, bg_keys, sig_keys, LUMI\n",
    "\n",
    "import numpy as np\n",
    "import pandas as pd\n",
    "\n",
    "import matplotlib.pyplot as plt\n",
    "import mplhep as hep\n",
    "import matplotlib.ticker as mticker\n",
    "\n",
    "plt.style.use(hep.style.CMS)\n",
    "hep.style.use(\"CMS\")\n",
    "formatter = mticker.ScalarFormatter(useMathText=True)\n",
    "formatter.set_powerlimits((-3, 3))\n",
    "plt.rcParams.update({\"font.size\": 16})"
   ]
  },
  {
   "cell_type": "code",
   "execution_count": null,
   "metadata": {},
   "outputs": [],
   "source": [
    "# automatically reloads imported files on edits\n",
    "%load_ext autoreload\n",
    "%autoreload 2"
   ]
  },
  {
   "cell_type": "code",
   "execution_count": null,
   "metadata": {},
   "outputs": [],
   "source": [
    "MAIN_DIR = \"../../../\"\n",
    "# this is the directory to the files\n",
    "# path_to_dir = \"/eos/uscms/store/user/cmantill/bbbb/skimmer/Oct13Test/\"\n",
    "# path_to_dir = f\"{MAIN_DIR}/../data/skimmer/Oct19wSelection/\"\n",
    "path_to_dir = f\"{MAIN_DIR}/../data/skimmer/Oct26/\"\n",
    "year = \"2022\"\n",
    "\n",
    "# make plot and template directory\n",
    "date = \"23Nov6\"\n",
    "plot_dir = f\"{MAIN_DIR}/plots/PostProcessing/{date}/{year}\"\n",
    "template_dir = f\"templates/{date}/\"\n",
    "_ = os.system(f\"mkdir -p {plot_dir}\")\n",
    "_ = os.system(f\"mkdir -p {template_dir}/cutflows/{year}\")"
   ]
  },
  {
   "cell_type": "code",
   "execution_count": null,
   "metadata": {},
   "outputs": [],
   "source": [
    "# define dictionary with directories of files (this can be configured in a yaml file later in the script)\n",
    "sig_keys = [\"hh4b\"]\n",
    "for key in list(samples.keys()):\n",
    "    if key not in bg_keys + sig_keys + [data_key]:\n",
    "        del samples[key]\n",
    "\n",
    "sample_dirs = {path_to_dir: samples}"
   ]
  },
  {
   "cell_type": "code",
   "execution_count": null,
   "metadata": {},
   "outputs": [],
   "source": [
    "# columns to load\n",
    "# the parquet files are too big so we can only load a few columns at a time without consumming much memory\n",
    "load_columns = [\n",
    "    (\"weight\", 1),\n",
    "    # (\"DijetMass\", 1),\n",
    "    (\"ak8FatJetPt\", 2),\n",
    "    (\"ak8FatJetPNetXbb\", 2),\n",
    "    (\"ak8FatJetMsd\", 2),\n",
    "    (\"ak8FatJetPNetMass\", 2),\n",
    "    (\"ht\", 1),\n",
    "    (\"nPV\", 1),\n",
    "    # (\"single_weight_pileup\", 1),\n",
    "]\n",
    "\n",
    "load_columns_mc = load_columns + [(\"single_weight_pileup\", 1), (\"single_weight_genWeight\")]\n",
    "# + [(f\"weight_{syst}_{shift}\", 1) for syst in weight_shifts for shift in [\"up\", \"down\"]]"
   ]
  },
  {
   "cell_type": "code",
   "execution_count": null,
   "metadata": {},
   "outputs": [],
   "source": [
    "df = pd.read_parquet(\"../../../../data/skimmer/Oct26/2022EE/GluGluHto2B_PT-200_M-125/parquet\")\n",
    "list(df.columns)"
   ]
  },
  {
   "cell_type": "code",
   "execution_count": null,
   "metadata": {},
   "outputs": [],
   "source": [
    "df = pd.read_parquet(\n",
    "    \"../../../../data/skimmer/Oct19wSelection/2022EE/GluGlutoHHto4B_kl-0p00_kt-1p00_c2-0p00_TuneCP5_13p6TeV_TSG/parquet\"\n",
    ")\n",
    "list(df.columns)"
   ]
  },
  {
   "cell_type": "code",
   "execution_count": null,
   "metadata": {},
   "outputs": [],
   "source": [
    "hhcf = utils.get_cutflow(\n",
    "    \"../../../../data/skimmer/Oct26/2022EE/GluGlutoHHto4B_kl-0p00_kt-1p00_c2-0p00_TuneCP5_13p6TeV_TSG/pickles\",\n",
    "    year,\n",
    "    \"GluGlutoHHto4B_kl-0p00_kt-1p00_c2-0p00_TuneCP5_13p6TeV_TSG\",\n",
    ")\n",
    "hhcf"
   ]
  },
  {
   "cell_type": "code",
   "execution_count": null,
   "metadata": {},
   "outputs": [],
   "source": [
    "pt_cut = 300\n",
    "\n",
    "filters = [\n",
    "    [\n",
    "        (\"('ak8FatJetPt', '0')\", \">=\", pt_cut),\n",
    "        (\"('ak8FatJetPt', '1')\", \">=\", pt_cut),\n",
    "        (\"('ak8FatJetMsd', '0')\", \">=\", 60),\n",
    "        (\"('ak8FatJetMsd', '1')\", \">=\", 60),\n",
    "        (\"('ak8FatJetPNetXbb', '0')\", \">=\", 0.8),\n",
    "    ],\n",
    "    [\n",
    "        (\"('ak8FatJetPt', '0')\", \">=\", pt_cut),\n",
    "        (\"('ak8FatJetPt', '1')\", \">=\", pt_cut),\n",
    "        (\"('ak8FatJetMsd', '0')\", \">=\", 60),\n",
    "        (\"('ak8FatJetMsd', '1')\", \">=\", 60),\n",
    "        (\"('ak8FatJetPNetXbb', '1')\", \">=\", 0.8),\n",
    "    ],\n",
    "]\n",
    "\n",
    "# save cutflow as pandas table\n",
    "cutflow = pd.DataFrame(index=list(samples.keys()))\n",
    "\n",
    "# dictionary that will contain all information (from all samples)\n",
    "events_dict = {}\n",
    "for input_dir, samples in sample_dirs.items():\n",
    "    events_dict = {\n",
    "        **events_dict,\n",
    "        # this function will load files (only the columns selected), apply filters and compute a weight per event\n",
    "        **utils.load_samples(\n",
    "            input_dir,\n",
    "            samples,\n",
    "            year,\n",
    "            filters=filters,\n",
    "            columns=utils.format_columns(load_columns),\n",
    "            # columns_mc=utils.format_columns(load_columns_mc),\n",
    "        ),\n",
    "    }\n",
    "\n",
    "utils.add_to_cutflow(events_dict, \"Preselection\", \"weight\", cutflow)\n",
    "print(\"\\n\", cutflow)"
   ]
  },
  {
   "cell_type": "markdown",
   "metadata": {},
   "source": [
    "### Weights"
   ]
  },
  {
   "cell_type": "markdown",
   "metadata": {},
   "source": [
    "Removing high QCD event weight"
   ]
  },
  {
   "cell_type": "code",
   "execution_count": null,
   "metadata": {},
   "outputs": [],
   "source": [
    "plt.hist(events_dict[\"qcd\"][\"weight\"])\n",
    "plt.yscale(\"log\")\n",
    "plt.show()"
   ]
  },
  {
   "cell_type": "code",
   "execution_count": null,
   "metadata": {},
   "outputs": [],
   "source": [
    "events_dict[\"qcd\"] = events_dict[\"qcd\"][(events_dict[\"qcd\"][\"weight\"] < 1e3).values]"
   ]
  },
  {
   "cell_type": "markdown",
   "metadata": {},
   "source": [
    "Checking pileup weights and removing from signal"
   ]
  },
  {
   "cell_type": "code",
   "execution_count": null,
   "metadata": {},
   "outputs": [],
   "source": [
    "fig = plt.figure(figsize=(12, 12))\n",
    "plt.rcParams.update({\"font.size\": 24})\n",
    "plt.hist(\n",
    "    events_dict[\"hh4b\"][\"single_weight_pileup\"],\n",
    "    np.linspace(0, 10, 21),\n",
    "    histtype=\"step\",\n",
    "    label=\"HH4b\",\n",
    ")\n",
    "plt.hist(\n",
    "    events_dict[\"qcd\"][\"single_weight_pileup\"], np.linspace(0, 10, 21), histtype=\"step\", label=\"QCD\"\n",
    ")\n",
    "plt.hist(\n",
    "    events_dict[\"ttbar\"][\"single_weight_pileup\"],\n",
    "    np.linspace(0, 10, 21),\n",
    "    histtype=\"step\",\n",
    "    label=\"TT\",\n",
    ")\n",
    "plt.legend()\n",
    "plt.yscale(\"log\")\n",
    "plt.xlabel(\"Pileup Weights\")\n",
    "plt.ylabel(\"Events\")\n",
    "hep.cms.label(data=False, year=year, lumi=round(LUMI[year] / 1e3))\n",
    "plt.savefig(f\"{plot_dir}/pileup_weights.pdf\", bbox_inches=\"tight\")\n",
    "plt.show()"
   ]
  },
  {
   "cell_type": "code",
   "execution_count": null,
   "metadata": {},
   "outputs": [],
   "source": [
    "events_dict[\"hh4b\"][\"weight\"] /= events_dict[\"hh4b\"][\"single_weight_pileup\"]\n",
    "utils.add_to_cutflow(events_dict, \"Fix Weights\", \"weight\", cutflow)\n",
    "cutflow"
   ]
  },
  {
   "cell_type": "code",
   "execution_count": null,
   "metadata": {},
   "outputs": [],
   "source": [
    "events_dict[\"data\"][\"ak8FatJetPNetMass\"]"
   ]
  },
  {
   "cell_type": "markdown",
   "metadata": {},
   "source": [
    "Checking weights without the trigger SFs"
   ]
  },
  {
   "cell_type": "code",
   "execution_count": null,
   "metadata": {},
   "outputs": [],
   "source": [
    "for key, events in events_dict.items():\n",
    "    if key == data_key:\n",
    "        events[\"weight_notrig\"] = events[\"weight\"]\n",
    "    else:\n",
    "        events[\"weight_notrig\"] = events[\"weight\"] / events[\"single_weight_trigsf_2jet\"]"
   ]
  },
  {
   "cell_type": "code",
   "execution_count": null,
   "metadata": {},
   "outputs": [],
   "source": [
    "_ = plt.hist(events_dict[\"qcd\"][\"single_weight_trigsf_2jet\"].values, bins=100, histtype=\"step\")"
   ]
  },
  {
   "cell_type": "markdown",
   "metadata": {},
   "source": [
    "### Control Plots"
   ]
  },
  {
   "cell_type": "code",
   "execution_count": null,
   "metadata": {},
   "outputs": [],
   "source": [
    "ylims = {\n",
    "    \"2022\": 1e5,\n",
    "    \"2022EE\": 4e5,\n",
    "}\n",
    "\n",
    "# {var: (bins, label)}\n",
    "control_plot_vars = [\n",
    "    # var must match key in events dictionary (i.e. as saved in parquet file)\n",
    "    # ShapeVar(var=\"DijetMass\", label=r\"$m^{jj}$ (GeV)\", bins=[30, 600, 4000]),\n",
    "    ShapeVar(var=\"ak8FatJetPt0\", label=r\"$p_T^{j1}$ (GeV)\", bins=[50, 300, 1500]),\n",
    "    ShapeVar(var=\"ak8FatJetPt1\", label=r\"$p_T^{j2}$ (GeV)\", bins=[50, 300, 1500]),\n",
    "    ShapeVar(\n",
    "        var=\"ak8FatJetPNetMass0\",\n",
    "        label=r\"$m_{reg}^{j1}$ (GeV)\",\n",
    "        bins=[19, 60, 250],\n",
    "        significance_dir=\"bin\",\n",
    "    ),\n",
    "    ShapeVar(\n",
    "        var=\"ak8FatJetPNetMass1\",\n",
    "        label=r\"$m_{reg}^{j2}$ (GeV)\",\n",
    "        bins=[19, 60, 250],\n",
    "        significance_dir=\"bin\",\n",
    "    ),\n",
    "    ShapeVar(\n",
    "        var=\"ak8FatJetMsd0\",\n",
    "        label=r\"$m_{SD}^{j1}$ (GeV)\",\n",
    "        bins=[19, 60, 250],\n",
    "        significance_dir=\"bin\",\n",
    "    ),\n",
    "    ShapeVar(\n",
    "        var=\"ak8FatJetMsd1\",\n",
    "        label=r\"$m_{SD}^{j2}$ (GeV)\",\n",
    "        bins=[19, 60, 250],\n",
    "        significance_dir=\"bin\",\n",
    "    ),\n",
    "    # ShapeVar(\n",
    "    #     var=\"ak8FatJetPNetXbb0\",\n",
    "    #     label=r\"$T_{Xbb}^{j1}$\",\n",
    "    #     bins=[50, 0.0, 1],\n",
    "    # ),\n",
    "    # ShapeVar(\n",
    "    #     var=\"ak8FatJetPNetXbb1\",\n",
    "    #     label=r\"$T_{Xbb}^{j2}$\",\n",
    "    #     bins=[50, 0.0, 1],\n",
    "    # ),\n",
    "    # ShapeVar(\n",
    "    #     var=\"ht\",\n",
    "    #     label=r\"HT (GeV)\",\n",
    "    #     bins=[50, 0, 4000],\n",
    "    # ),\n",
    "]\n",
    "\n",
    "hists = {}\n",
    "for shape_var in control_plot_vars:\n",
    "    if shape_var.var not in hists:\n",
    "        hists[shape_var.var] = utils.singleVarHist(\n",
    "            events_dict,\n",
    "            shape_var,\n",
    "            weight_key=\"weight\",\n",
    "        )\n",
    "\n",
    "for shape_var in control_plot_vars:\n",
    "    name = f\"{plot_dir}/{shape_var.var}.pdf\"\n",
    "    plotting.ratioHistPlot(\n",
    "        hists[shape_var.var],\n",
    "        year,\n",
    "        sig_keys,\n",
    "        bg_keys,\n",
    "        name=name,\n",
    "        show=True,\n",
    "        log=True,\n",
    "        plot_significance=False,\n",
    "        significance_dir=shape_var.significance_dir,\n",
    "        ratio_ylims=[0.2, 1.8],\n",
    "        ylim=ylims[year],\n",
    "    )\n",
    "    # break"
   ]
  },
  {
   "cell_type": "markdown",
   "metadata": {},
   "source": [
    "Pileup Check"
   ]
  },
  {
   "cell_type": "code",
   "execution_count": null,
   "metadata": {},
   "outputs": [],
   "source": [
    "for key, events in events_dict.items():\n",
    "    if key in [data_key] + sig_keys:\n",
    "        events[\"weight_nopileup\"] = events[\"weight\"]\n",
    "    else:\n",
    "        events[\"weight_nopileup\"] = events[\"weight\"] / events[\"single_weight_pileup\"]"
   ]
  },
  {
   "cell_type": "code",
   "execution_count": null,
   "metadata": {},
   "outputs": [],
   "source": [
    "# {var: (bins, label)}\n",
    "\n",
    "# {var: (bins, label)}\n",
    "control_plot_vars = [\n",
    "    # var must match key in events dictionary (i.e. as saved in parquet file)\n",
    "    # ShapeVar(var=\"DijetMass\", label=r\"$m^{jj}$ (GeV)\", bins=[30, 600, 4000]),\n",
    "    ShapeVar(var=\"ak8FatJetPt0\", label=r\"$p_T^{j1}$ (GeV)\", bins=[50, 300, 1500]),\n",
    "    ShapeVar(var=\"ak8FatJetPt1\", label=r\"$p_T^{j2}$ (GeV)\", bins=[50, 300, 1500]),\n",
    "    ShapeVar(\n",
    "        var=\"ak8FatJetPNetMass0\",\n",
    "        label=r\"$m_{reg}^{j1}$ (GeV)\",\n",
    "        bins=[19, 60, 250],\n",
    "        significance_dir=\"bin\",\n",
    "    ),\n",
    "    ShapeVar(\n",
    "        var=\"ak8FatJetPNetMass1\",\n",
    "        label=r\"$m_{reg}^{j2}$ (GeV)\",\n",
    "        bins=[19, 60, 250],\n",
    "        significance_dir=\"bin\",\n",
    "    ),\n",
    "    ShapeVar(\n",
    "        var=\"ak8FatJetMsd0\",\n",
    "        label=r\"$m_{SD}^{j1}$ (GeV)\",\n",
    "        bins=[19, 60, 250],\n",
    "        significance_dir=\"bin\",\n",
    "    ),\n",
    "    ShapeVar(\n",
    "        var=\"ak8FatJetMsd1\",\n",
    "        label=r\"$m_{SD}^{j2}$ (GeV)\",\n",
    "        bins=[19, 60, 250],\n",
    "        significance_dir=\"bin\",\n",
    "    ),\n",
    "    # ShapeVar(\n",
    "    #     var=\"ak8FatJetPNetXbb0\",\n",
    "    #     label=r\"$T_{Xbb}^{j1}$\",\n",
    "    #     bins=[50, 0.0, 1],\n",
    "    # ),\n",
    "    # ShapeVar(\n",
    "    #     var=\"ak8FatJetPNetXbb1\",\n",
    "    #     label=r\"$T_{Xbb}^{j2}$\",\n",
    "    #     bins=[50, 0.0, 1],\n",
    "    # ),\n",
    "    # ShapeVar(var=\"nPV\", label=r\"nPV\", bins=[20, 0, 80])\n",
    "    # ShapeVar(\n",
    "    #     var=\"ht\",\n",
    "    #     label=r\"HT (GeV)\",\n",
    "    #     bins=[50, 0, 4000],\n",
    "    # ),\n",
    "]\n",
    "\n",
    "# for weight_key in [\"weight\", \"weight_nopileup\"]:\n",
    "for weight_key in [\"weight_nopileup\"]:\n",
    "    hists = {}\n",
    "    for shape_var in control_plot_vars:\n",
    "        if shape_var.var not in hists:\n",
    "            hists[shape_var.var] = utils.singleVarHist(\n",
    "                events_dict,\n",
    "                shape_var,\n",
    "                weight_key=weight_key,\n",
    "            )\n",
    "\n",
    "    for shape_var in control_plot_vars:\n",
    "        name = f\"{plot_dir}/{shape_var.var}_{weight_key}.pdf\"\n",
    "        plotting.ratioHistPlot(\n",
    "            hists[shape_var.var],\n",
    "            year,\n",
    "            sig_keys,\n",
    "            bg_keys,\n",
    "            name=name,\n",
    "            show=True,\n",
    "            log=True,\n",
    "            ratio_ylims=[0.2, 1.8],\n",
    "            ylim=ylims[year],\n",
    "            # title=\"With Pileup Reweighting\"\n",
    "            # if weight_key == \"weight\"\n",
    "            # else \"Without Pileup Reweighting\",\n",
    "        )\n",
    "        # break"
   ]
  },
  {
   "cell_type": "markdown",
   "metadata": {},
   "source": [
    "Mass plots for signal"
   ]
  },
  {
   "cell_type": "code",
   "execution_count": null,
   "metadata": {},
   "outputs": [],
   "source": [
    "sig_key = \"hh4b\"\n",
    "plots = {\n",
    "    \"bb0FatJetPNetMass\": r\"$m_{reg}^{j1}$ (GeV)\",\n",
    "    \"bb1FatJetPNetMass\": r\"$m_{reg}^{j2}$ (GeV)\",\n",
    "    \"bb0FatJetMsd\": r\"$m_{SD}^{j1}$ (GeV)\",\n",
    "    \"bb1FatJetMsd\": r\"$m_{SD}^{j2}$ (GeV)\",\n",
    "}\n",
    "\n",
    "for key, label in plots.items():\n",
    "    plt.hist(\n",
    "        utils.get_feat(events_dict[sig_key], key),\n",
    "        bins=20,\n",
    "        histtype=\"step\",\n",
    "        label=label,\n",
    "        range=[50, 250],\n",
    "        weights=utils.get_feat(events_dict[sig_key], \"weight\"),\n",
    "        linestyle=\"--\",\n",
    "        linewidth=2,\n",
    "    )\n",
    "\n",
    "plt.legend()\n",
    "plt.xlabel(\"Mass (GeV)\")\n",
    "plt.ylabel(\"Events\")\n",
    "plt.show()"
   ]
  },
  {
   "cell_type": "markdown",
   "metadata": {},
   "source": [
    "Control plots without trigger weights"
   ]
  },
  {
   "cell_type": "code",
   "execution_count": null,
   "metadata": {},
   "outputs": [],
   "source": [
    "hists_notrigweights = {}\n",
    "for shape_var in control_plot_vars:\n",
    "    if shape_var.var not in hists_notrigweights:\n",
    "        hists_notrigweights[shape_var.var] = utils.singleVarHist(\n",
    "            events_dict,\n",
    "            shape_var,\n",
    "            weight_key=\"weight_notrig\",\n",
    "        )\n",
    "\n",
    "for shape_var in control_plot_vars:\n",
    "    name = f\"{plot_dir}/{shape_var.var}_notrigweights.pdf\"\n",
    "    plotting.ratioHistPlot(\n",
    "        hists_notrigweights[shape_var.var],\n",
    "        year,\n",
    "        sig_keys,\n",
    "        bg_keys,\n",
    "        name=name,\n",
    "        show=True,\n",
    "        log=True,\n",
    "        ratio_ylims=None,\n",
    "    )"
   ]
  },
  {
   "cell_type": "markdown",
   "metadata": {},
   "source": [
    "Pt plots for different Txbb cuts"
   ]
  },
  {
   "cell_type": "code",
   "execution_count": null,
   "metadata": {},
   "outputs": [],
   "source": [
    "# {var: (bins, label)}\n",
    "control_plot_vars = [\n",
    "    # var must match key in events dictionary (i.e. as saved in parquet file)\n",
    "    # ShapeVar(var=\"DijetMass\", label=r\"$m^{jj}$ (GeV)\", bins=[30, 600, 4000]),\n",
    "    ShapeVar(var=\"ak8FatJetPt0\", label=r\"$p_T^{j1}$ (GeV)\", bins=[50, 300, 1500]),\n",
    "    ShapeVar(var=\"ak8FatJetPt1\", label=r\"$p_T^{j2}$ (GeV)\", bins=[50, 300, 1500]),\n",
    "    ShapeVar(var=\"ak8FatJetMsd0\", label=r\"$m_{SD}^{j1}$ (GeV)\", bins=[19, 60, 250]),\n",
    "    ShapeVar(var=\"ak8FatJetMsd1\", label=r\"$m_{SD}^{j2}$ (GeV)\", bins=[19, 60, 250]),\n",
    "]\n",
    "\n",
    "for txbb_cut in [0, 0.35, 0.6, 0.8, 0.9, 0.95, 0.985]:\n",
    "    print(txbb_cut)\n",
    "    hists = {}\n",
    "    sel, _ = utils.make_selection(\n",
    "        {\"ak8FatJetPNetXbb0+ak8FatJetPNetXbb1\": [txbb_cut, CUT_MAX_VAL]}, events_dict\n",
    "    )\n",
    "    print(np.mean(sel[\"qcd\"]))\n",
    "    for shape_var in control_plot_vars:\n",
    "        if shape_var.var not in hists:\n",
    "            hists[shape_var.var] = utils.singleVarHist(\n",
    "                events_dict,\n",
    "                shape_var,\n",
    "                weight_key=\"weight\",\n",
    "                selection=sel,\n",
    "            )\n",
    "\n",
    "    for shape_var in control_plot_vars:\n",
    "        name = f\"{plot_dir}/{shape_var.var}_txbb{txbb_cut}.pdf\"\n",
    "        plotting.ratioHistPlot(\n",
    "            hists[shape_var.var],\n",
    "            year,\n",
    "            sig_keys,\n",
    "            bg_keys,\n",
    "            name=name,\n",
    "            show=True,\n",
    "            log=True,\n",
    "            plot_significance=False,\n",
    "            significance_dir=shape_var.significance_dir,\n",
    "            ratio_ylims=[0.2, 1.8],\n",
    "            title=rf\"At least one Jet's $T_{{Xbb}}$ > {txbb_cut}\",\n",
    "        )\n",
    "        # break"
   ]
  },
  {
   "cell_type": "markdown",
   "metadata": {},
   "source": [
    "ROC Curve"
   ]
  },
  {
   "cell_type": "code",
   "execution_count": null,
   "metadata": {},
   "outputs": [],
   "source": [
    "sig_jets_score = events_dict[\"gghtobb\"][\"ak8FatJetPNetXbb\"].values\n",
    "sig_jets_score = np.max(sig_jets_score, axis=1)"
   ]
  },
  {
   "cell_type": "code",
   "execution_count": null,
   "metadata": {},
   "outputs": [],
   "source": [
    "bg_jets_score = events_dict[\"qcd\"][\"ak8FatJetPNetXbb\"].values.reshape(-1)"
   ]
  },
  {
   "cell_type": "code",
   "execution_count": null,
   "metadata": {},
   "outputs": [],
   "source": [
    "# copy array values to second column\n",
    "sig_jets_score = np.stack((sig_jets_score, sig_jets_score), axis=1)"
   ]
  },
  {
   "cell_type": "code",
   "execution_count": null,
   "metadata": {},
   "outputs": [],
   "source": [
    "from sklearn.metrics import roc_curve\n",
    "\n",
    "\n",
    "bg_skip = 4\n",
    "sig_key = \"gghtobb\"\n",
    "bg_keys = [\"qcd\"]  # add ttbar too?\n",
    "\n",
    "y_true = np.concatenate(\n",
    "    [\n",
    "        np.ones(len(sig_jets_score)),\n",
    "        np.zeros(len(bg_jets_score) // bg_skip),\n",
    "    ]\n",
    ")\n",
    "\n",
    "weights = np.concatenate(\n",
    "    [events_dict[sig_key][\"weight\"].values.reshape(-1)]\n",
    "    + [\n",
    "        np.stack(\n",
    "            (events_dict[bg_key][\"weight\"].values, events_dict[bg_key][\"weight\"].values), axis=1\n",
    "        ).reshape(-1)[::bg_skip]\n",
    "        for bg_key in bg_keys\n",
    "    ],\n",
    ")\n",
    "\n",
    "scores = np.concatenate((sig_jets_score, bg_jets_score[::bg_skip]))\n",
    "\n",
    "fpr, tpr, thresholds = roc_curve(y_true, scores, sample_weight=weights)"
   ]
  },
  {
   "cell_type": "code",
   "execution_count": null,
   "metadata": {},
   "outputs": [],
   "source": [
    "def find_nearest(array, value):\n",
    "    array = np.asarray(array)\n",
    "    idx = (np.abs(array - value)).argmin()\n",
    "    return idx"
   ]
  },
  {
   "cell_type": "code",
   "execution_count": null,
   "metadata": {},
   "outputs": [],
   "source": [
    "plot_thresholds = [0.35, 0.8, 0.95, 0.975, 0.985, 0.99]\n",
    "th_colours = [\"#9381FF\", \"#1f78b4\", \"#a6cee3\", \"#ff7f00\", \"#7CB518\", \"#EDB458\", \"#36213E\"]\n",
    "\n",
    "pths = {th: [[], []] for th in plot_thresholds}\n",
    "plt.figure(figsize=(12, 12))\n",
    "plt.plot(\n",
    "    tpr,\n",
    "    fpr,\n",
    "    linewidth=2,\n",
    ")\n",
    "\n",
    "for th in plot_thresholds:\n",
    "    idx = find_nearest(thresholds, th)\n",
    "    pths[th][0].append(tpr[idx])\n",
    "    pths[th][1].append(fpr[idx])\n",
    "\n",
    "\n",
    "for k, th in enumerate(plot_thresholds):\n",
    "    plt.scatter(\n",
    "        *pths[th],\n",
    "        marker=\"o\",\n",
    "        s=40,\n",
    "        label=rf\"$T_{{Xbb}}$ > {th}\",\n",
    "        color=th_colours[k],\n",
    "        zorder=100,\n",
    "    )\n",
    "\n",
    "    plt.vlines(\n",
    "        x=pths[th][0],\n",
    "        ymin=0,\n",
    "        ymax=pths[th][1],\n",
    "        color=th_colours[k],\n",
    "        linestyles=\"dashed\",\n",
    "        alpha=0.5,\n",
    "    )\n",
    "\n",
    "    plt.hlines(\n",
    "        y=pths[th][1],\n",
    "        xmin=0,\n",
    "        xmax=pths[th][0],\n",
    "        color=th_colours[k],\n",
    "        linestyles=\"dashed\",\n",
    "        alpha=0.5,\n",
    "    )\n",
    "\n",
    "\n",
    "hep.cms.label(data=False, rlabel=\"\")\n",
    "# plt.hlines(y=0.01, xmin=0, xmax=1, colors=\"lightgrey\", linestyles=\"dashed\")\n",
    "plt.yscale(\"log\")\n",
    "plt.xlabel(\"Signal efficiency\")\n",
    "plt.ylabel(\"Background efficiency\")\n",
    "# plt.suptitle(f\"HVV FatJet {pvars['title']} ROC\", y=0.95)\n",
    "# plt.title(cut_labels[cutstr], fontsize=20)\n",
    "plt.xlim([0.1, 1])\n",
    "# plt.ylim(*ylim)\n",
    "plt.legend(loc=\"lower left\")\n",
    "plt.savefig(f\"{plot_dir}/roccurve.pdf\", bbox_inches=\"tight\")"
   ]
  },
  {
   "cell_type": "markdown",
   "metadata": {},
   "source": [
    "### Cut-based selection"
   ]
  },
  {
   "cell_type": "code",
   "execution_count": null,
   "metadata": {},
   "outputs": [],
   "source": [
    "bb_masks = postprocessing.bb_assignment(events_dict)"
   ]
  },
  {
   "cell_type": "code",
   "execution_count": null,
   "metadata": {},
   "outputs": [],
   "source": [
    "# {label: {cutvar: [min, max], ...}, ...}\n",
    "txbb_cut = 0.985\n",
    "pt_cut = 300\n",
    "\n",
    "selection_regions = {\n",
    "    \"pass\": Region(\n",
    "        cuts={\n",
    "            \"bb0FatJetPNetXbb\": [txbb_cut, CUT_MAX_VAL],\n",
    "            \"bb1FatJetPNetXbb\": [txbb_cut, CUT_MAX_VAL],\n",
    "            \"bb0FatJetPt\": [pt_cut, CUT_MAX_VAL],\n",
    "            \"bb1FatJetPt\": [pt_cut, CUT_MAX_VAL],\n",
    "            \"bb0FatJetPNetMass\": [100, 150],\n",
    "        },\n",
    "        label=\"Pass\",\n",
    "    ),\n",
    "    \"fail\": Region(\n",
    "        cuts={\n",
    "            \"bb0FatJetPNetXbb\": [-CUT_MAX_VAL, txbb_cut],\n",
    "            \"bb1FatJetPNetXbb\": [-CUT_MAX_VAL, txbb_cut],\n",
    "            \"bb0FatJetPt\": [pt_cut, CUT_MAX_VAL],\n",
    "            \"bb1FatJetPt\": [pt_cut, CUT_MAX_VAL],\n",
    "            \"bb0FatJetPNetMass\": [100, 150],\n",
    "        },\n",
    "        label=\"Fail\",\n",
    "    ),\n",
    "}\n",
    "\n",
    "fit_shape_var = ShapeVar(\n",
    "    \"bb1FatJetPNetMass\",\n",
    "    r\"$m^{2}_\\mathrm{Reg}$ (GeV)\",\n",
    "    [19, 60, 250],\n",
    "    reg=True,\n",
    "    blind_window=[100, 150],\n",
    ")"
   ]
  },
  {
   "cell_type": "code",
   "execution_count": null,
   "metadata": {},
   "outputs": [],
   "source": [
    "templates = postprocessing.get_templates(\n",
    "    events_dict,\n",
    "    bb_masks,\n",
    "    year,\n",
    "    sig_keys,\n",
    "    selection_regions,\n",
    "    [fit_shape_var],\n",
    "    {},\n",
    "    template_dir,\n",
    "    bg_keys,\n",
    "    plot_dir,\n",
    "    cutflow,\n",
    "    weight_key=\"weight\",\n",
    "    # weight_shifts=weight_shifts,\n",
    "    show=True,\n",
    ")"
   ]
  },
  {
   "cell_type": "code",
   "execution_count": null,
   "metadata": {},
   "outputs": [],
   "source": [
    "templates"
   ]
  },
  {
   "cell_type": "code",
   "execution_count": null,
   "metadata": {},
   "outputs": [],
   "source": [
    "postprocessing.save_templates(\n",
    "    templates,\n",
    "    f\"{template_dir}/{year}_templates.pkl\",\n",
    "    fit_shape_var,\n",
    ")"
   ]
  },
  {
   "cell_type": "code",
   "execution_count": null,
   "metadata": {},
   "outputs": [],
   "source": [
    "import pickle\n",
    "\n",
    "with open(f\"templates/23Oct17/{year}_templates.pkl\", \"rb\") as f:\n",
    "    templates2 = pickle.load(f)"
   ]
  }
 ],
 "metadata": {
  "kernelspec": {
   "display_name": "python39",
   "language": "python",
   "name": "python3"
  },
  "language_info": {
   "codemirror_mode": {
    "name": "ipython",
    "version": 3
   },
   "file_extension": ".py",
   "mimetype": "text/x-python",
   "name": "python",
   "nbconvert_exporter": "python",
   "pygments_lexer": "ipython3",
   "version": "3.10.11"
  }
 },
 "nbformat": 4,
 "nbformat_minor": 2
}
