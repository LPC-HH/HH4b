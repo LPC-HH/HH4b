{
 "cells": [
  {
   "cell_type": "code",
   "execution_count": 2,
   "metadata": {},
   "outputs": [],
   "source": [
    "import numpy as np\n",
    "import hist\n",
    "\n",
    "%load_ext autoreload\n",
    "%autoreload 2"
   ]
  },
  {
   "cell_type": "code",
   "execution_count": 49,
   "metadata": {},
   "outputs": [],
   "source": [
    "# plot_dir = \"plots/PostProcess/24June19Pt300250VBFRun3SaveArrays/\"\n",
    "# plot_dir = \"plots/PostProcess/24Oct23Reproduce/\"\n",
    "plot_dir = \"plots/PostProcess/24Oct25GloParTv2/\"\n",
    "# plot_dir = \"/home/users/haoyang/HH4b_billy/plots/PostProcess/24Oct25GloParTv2_vbf/\"\n",
    "category = \"bin2\"\n",
    "arrays_file = f\"{plot_dir}/fom_{category}_abcd_mass115-160_fom_arrays.npz\"\n",
    "\n",
    "bdt_min = 0.675\n",
    "bdt_max = 0.95\n",
    "xbb_min = 0.65\n",
    "xbb_max = 0.825"
   ]
  },
  {
   "cell_type": "code",
   "execution_count": 50,
   "metadata": {},
   "outputs": [],
   "source": [
    "with np.load(arrays_file) as f:\n",
    "    all_fom = f[\"all_fom\"]\n",
    "    all_s = f[\"all_s\"]\n",
    "    all_b = f[\"all_b\"]\n",
    "    all_b_unc = f[\"all_b_unc\"]\n",
    "    all_sideband_events = f[\"all_sideband_events\"]\n",
    "    all_bdt_cuts = f[\"all_bdt_cuts\"]\n",
    "    all_xbb_cuts = f[\"all_xbb_cuts\"]"
   ]
  },
  {
   "cell_type": "code",
   "execution_count": null,
   "metadata": {},
   "outputs": [],
   "source": [
    "bdt_cuts = np.sort(np.unique(all_bdt_cuts))\n",
    "xbb_cuts = np.sort(np.unique(all_xbb_cuts))\n",
    "\n",
    "bdt_cuts = np.array([bdt_cut for bdt_cut in bdt_cuts if bdt_cut >= bdt_min and bdt_cut <= bdt_max])\n",
    "xbb_cuts = np.array([xbb_cut for xbb_cut in xbb_cuts if xbb_cut >= xbb_min and xbb_cut <= xbb_max])\n",
    "\n",
    "print(xbb_cuts)\n",
    "print(bdt_cuts)"
   ]
  },
  {
   "cell_type": "code",
   "execution_count": 52,
   "metadata": {},
   "outputs": [],
   "source": [
    "h_sb = hist.Hist(\n",
    "    hist.axis.Variable(list(bdt_cuts), name=\"bdt_cut\"),\n",
    "    hist.axis.Variable(list(xbb_cuts), name=\"xbb_cut\"),\n",
    ")\n",
    "\n",
    "h_b = hist.Hist(\n",
    "    hist.axis.Variable(list(bdt_cuts), name=\"bdt_cut\"),\n",
    "    hist.axis.Variable(list(xbb_cuts), name=\"xbb_cut\"),\n",
    ")\n",
    "\n",
    "h_s = hist.Hist(\n",
    "    hist.axis.Variable(list(bdt_cuts), name=\"bdt_cut\"),\n",
    "    hist.axis.Variable(list(xbb_cuts), name=\"xbb_cut\"),\n",
    ")\n",
    "\n",
    "h_b_unc = hist.Hist(\n",
    "    hist.axis.Variable(list(bdt_cuts), name=\"bdt_cut\"),\n",
    "    hist.axis.Variable(list(xbb_cuts), name=\"xbb_cut\"),\n",
    ")\n",
    "\n",
    "h_sideband = hist.Hist(\n",
    "    hist.axis.Variable(list(bdt_cuts), name=\"bdt_cut\"),\n",
    "    hist.axis.Variable(list(xbb_cuts), name=\"xbb_cut\"),\n",
    ")"
   ]
  },
  {
   "cell_type": "code",
   "execution_count": 53,
   "metadata": {},
   "outputs": [],
   "source": [
    "for xbb_cut in xbb_cuts:\n",
    "    for bdt_cut in bdt_cuts:\n",
    "        # find index of this cut\n",
    "        idx = np.where((all_bdt_cuts == bdt_cut) & (all_xbb_cuts == xbb_cut))[0][0]\n",
    "        if all_s[idx] > 0.5 and all_b[idx] >= 2 and all_sideband_events[idx] >= 12:\n",
    "            h_sb.fill(bdt_cut, xbb_cut, weight=all_fom[idx])\n",
    "            h_b.fill(bdt_cut, xbb_cut, weight=all_b[idx])\n",
    "            h_b_unc.fill(bdt_cut, xbb_cut, weight=all_b_unc[idx])\n",
    "            h_sideband.fill(bdt_cut, xbb_cut, weight=all_sideband_events[idx])\n",
    "            h_s.fill(bdt_cut, xbb_cut, weight=all_s[idx])"
   ]
  },
  {
   "cell_type": "code",
   "execution_count": 54,
   "metadata": {},
   "outputs": [],
   "source": [
    "import matplotlib.pyplot as plt\n",
    "import matplotlib as mpl\n",
    "import matplotlib.pyplot as plt\n",
    "import matplotlib.ticker as mticker\n",
    "\n",
    "import mplhep as hep\n",
    "from tqdm import tqdm\n",
    "\n",
    "formatter = mticker.ScalarFormatter(useMathText=True)\n",
    "formatter.set_powerlimits((-3, 3))\n",
    "\n",
    "mpl.rcParams[\"font.size\"] = 30\n",
    "mpl.rcParams[\"lines.linewidth\"] = 2\n",
    "mpl.rcParams[\"grid.color\"] = \"#CCCCCC\"\n",
    "mpl.rcParams[\"grid.linewidth\"] = 0.5\n",
    "mpl.rcParams[\"figure.dpi\"] = 400\n",
    "mpl.rcParams[\"figure.edgecolor\"] = \"none\"\n",
    "\n",
    "plt.style.use(hep.style.CMS)\n",
    "hep.style.use(\"CMS\")\n",
    "\n",
    "\n",
    "def plot_fom(h_sb, plot_dir, name=\"figofmerit\", show=False, fontsize=3.5, label=\"Fig Of Merit\"):\n",
    "    \"\"\"Plot FoM scan\"\"\"\n",
    "\n",
    "    eff, bins_x, bins_y = h_sb.to_numpy()\n",
    "    fig, ax = plt.subplots(1, 1, figsize=(7, 7))\n",
    "    plt.rcParams.update({\"font.size\": 18})\n",
    "\n",
    "    cbar = hep.hist2dplot(\n",
    "        h_sb, ax=ax, cmin=np.min(eff[eff > 0]) * 0.75, cmax=np.max(eff[eff > 0]) * 1.25, flow=\"none\"\n",
    "    )\n",
    "    cbar.cbar.set_label(label, size=18)\n",
    "    cbar.cbar.ax.get_yaxis().labelpad = 15\n",
    "    for i in tqdm(range(len(bins_x) - 1)):\n",
    "        for j in range(len(bins_y) - 1):\n",
    "            if eff[i, j] > 0:\n",
    "                ax.text(\n",
    "                    (bins_x[i] + bins_x[i + 1]) / 2,\n",
    "                    (bins_y[j] + bins_y[j + 1]) / 2,\n",
    "                    eff[i, j].round(1),\n",
    "                    color=\"black\",\n",
    "                    ha=\"center\",\n",
    "                    va=\"center\",\n",
    "                    fontsize=fontsize,\n",
    "                )\n",
    "\n",
    "    ax.set_xlabel(\"BDT Cut\")\n",
    "    ax.set_ylabel(r\"$T_{Xbb}$ Cut\")\n",
    "    ax.set_ylim(bins_y[0], bins_y[-1])\n",
    "    ax.set_xlim(bins_x[0], bins_x[-1])\n",
    "    fig.tight_layout()\n",
    "    plt.savefig(f\"{plot_dir}/{name}.png\", bbox_inches=\"tight\")\n",
    "    plt.savefig(f\"{plot_dir}/{name}.pdf\", bbox_inches=\"tight\")\n",
    "\n",
    "    if show:\n",
    "        plt.show()\n",
    "    else:\n",
    "        plt.close()"
   ]
  },
  {
   "cell_type": "code",
   "execution_count": null,
   "metadata": {},
   "outputs": [],
   "source": [
    "name = f\"fom_{category}_abcd_mass115-160\"\n",
    "plot_fom(h_sb, plot_dir, name=name, fontsize=2.0, show=True, label=\"Fig Of Merit\")\n",
    "# plot_fom(h_b, plot_dir, name=f\"{name}_bkg\", fontsize=2.0, show=True, label=\"Background Pred.\")\n",
    "# plot_fom(h_b_unc, plot_dir, name=f\"{name}_bkgunc\", fontsize=2.0, show=True, label=\"Background Unc.\")\n",
    "# plot_fom(h_sideband, plot_dir, name=f\"{name}_sideband\", fontsize=2.0, show=True, label=\"Sideband Events\")\n",
    "# plot_fom(h_s, plot_dir, name=f\"{name}_signal\", fontsize=2.0, show=True, label=\"Signal Pred.\")"
   ]
  },
  {
   "cell_type": "code",
   "execution_count": null,
   "metadata": {},
   "outputs": [],
   "source": [
    "global_min = np.min(h_sb.values()[h_sb.values() > 0])\n",
    "\n",
    "argmin_axis0 = np.argmin(np.abs(h_sb.values() - global_min), axis=0)\n",
    "min_axis0 = np.min(h_sb.values(), axis=0)\n",
    "\n",
    "argmin_axis1 = np.argmin(np.abs(h_sb.values() - global_min), axis=1)\n",
    "min_axis1 = np.min(h_sb.values(), axis=1)\n",
    "\n",
    "bdt_cut = h_sb.axes[0].edges[argmin_axis0[min_axis0 == global_min]]\n",
    "xbb_cut = h_sb.axes[1].edges[argmin_axis1[min_axis1 == global_min]]\n",
    "\n",
    "print(f\"Category: {category}\")\n",
    "print(f\"FoM: {global_min}\")\n",
    "print(f\"BDT cut: {bdt_cut}\")\n",
    "print(f\"TXbb cut: {xbb_cut}\")"
   ]
  }
 ],
 "metadata": {
  "kernelspec": {
   "display_name": "Python 3",
   "language": "python",
   "name": "python3"
  },
  "language_info": {
   "codemirror_mode": {
    "name": "ipython",
    "version": 3
   },
   "file_extension": ".py",
   "mimetype": "text/x-python",
   "name": "python",
   "nbconvert_exporter": "python",
   "pygments_lexer": "ipython3",
   "version": "3.10.14"
  }
 },
 "nbformat": 4,
 "nbformat_minor": 2
}
