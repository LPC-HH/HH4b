{
 "cells": [
  {
   "cell_type": "code",
   "execution_count": 1,
   "id": "b003fdb7-5d91-4742-b23e-099459ad23b0",
   "metadata": {},
   "outputs": [],
   "source": [
    "import pandas as pd\n",
    "import numpy as np\n",
    "from sklearn.model_selection import train_test_split\n",
    "from xgboost import XGBClassifier\n",
    "from sklearn.metrics import accuracy_score, roc_auc_score\n",
    "import utils\n",
    "import plotting\n",
    "from sklearn.metrics import roc_curve, auc\n",
    "import matplotlib.pyplot as plt\n",
    "import mplhep as hep\n",
    "import vector"
   ]
  },
  {
   "cell_type": "code",
   "execution_count": 2,
   "id": "deabb526-29f4-4163-9feb-4131d6b9e538",
   "metadata": {},
   "outputs": [
    {
     "name": "stdout",
     "output_type": "stream",
     "text": [
      "Loading GluGlutoHHto4B_cHHH1_TuneCP5_PSWeights_13TeV-powheg-pythia8\n",
      "/eos/uscms/store/user/cmantill/bbbb/matching/23Nov18_WSel_v9_private//2018/GluGlutoHHto4B_cHHH1_TuneCP5_PSWeights_13TeV-powheg-pythia8/parquet\n",
      "Loading QCD_HT-1000to1500-13TeV\n",
      "/eos/uscms/store/user/cmantill/bbbb/matching/23Nov18_WSel_v9_private//2018/QCD_HT-1000to1500-13TeV/parquet\n",
      "Loading QCD_HT-1500to2000-13TeV\n",
      "/eos/uscms/store/user/cmantill/bbbb/matching/23Nov18_WSel_v9_private//2018/QCD_HT-1500to2000-13TeV/parquet\n",
      "Loading QCD_HT-2000toInf-13TeV\n",
      "/eos/uscms/store/user/cmantill/bbbb/matching/23Nov18_WSel_v9_private//2018/QCD_HT-2000toInf-13TeV/parquet\n",
      "Loading QCD_HT-200to300-13TeV\n",
      "/eos/uscms/store/user/cmantill/bbbb/matching/23Nov18_WSel_v9_private//2018/QCD_HT-200to300-13TeV/parquet\n",
      "Loading QCD_HT-300to500-13TeV\n",
      "/eos/uscms/store/user/cmantill/bbbb/matching/23Nov18_WSel_v9_private//2018/QCD_HT-300to500-13TeV/parquet\n",
      "Loading QCD_HT-500to700-13TeV\n",
      "/eos/uscms/store/user/cmantill/bbbb/matching/23Nov18_WSel_v9_private//2018/QCD_HT-500to700-13TeV/parquet\n",
      "Loading QCD_HT-700to1000-13TeV\n",
      "/eos/uscms/store/user/cmantill/bbbb/matching/23Nov18_WSel_v9_private//2018/QCD_HT-700to1000-13TeV/parquet\n",
      "Loading TTTo2L2Nu_13TeV\n",
      "/eos/uscms/store/user/cmantill/bbbb/matching/23Nov18_WSel_v9_private//2018/TTTo2L2Nu_13TeV/parquet\n",
      "Loading TTToHadronic_13TeV\n",
      "/eos/uscms/store/user/cmantill/bbbb/matching/23Nov18_WSel_v9_private//2018/TTToHadronic_13TeV/parquet\n",
      "Loading TTToSemiLeptonic_13TeV\n",
      "/eos/uscms/store/user/cmantill/bbbb/matching/23Nov18_WSel_v9_private//2018/TTToSemiLeptonic_13TeV/parquet\n"
     ]
    }
   ],
   "source": [
    "#Load your dataset\n",
    "samples = {\n",
    "    \"hh4b\": [\"GluGlutoHHto4B_cHHH1_TuneCP5_PSWeights_13TeV-powheg-pythia8\"],\n",
    "    # \"hh4b-c2p45\": [\"GluGlutoHHto4B_cHHH2p45_TuneCP5_PSWeights_13TeV-powheg-pythia8\"],\n",
    "    # \"hh4b-c5\": [\"GluGlutoHHto4B_cHHH5_TuneCP5_PSWeights_13TeV-powheg-pythia8\"],\n",
    "    # \"hh4b-c0\": [\"GluGlutoHHto4B_cHHH0_TuneCP5_PSWeights_13TeV-powheg-pythia8\"],\n",
    "    \"qcd\": [\n",
    "        \"QCD_HT-200to300-13TeV\",\n",
    "        \"QCD_HT-300to500-13TeV\",\n",
    "        \"QCD_HT-500to700-13TeV\",\n",
    "        \"QCD_HT-700to1000-13TeV\",\n",
    "        \"QCD_HT-1000to1500-13TeV\",\n",
    "        \"QCD_HT-1500to2000-13TeV\",\n",
    "        \"QCD_HT-2000toInf-13TeV\",\n",
    "    ],\n",
    "    \"ttbar\": [\n",
    "        \"TTTo2L2Nu_13TeV\",\n",
    "        \"TTToHadronic_13TeV\",\n",
    "        \"TTToSemiLeptonic_13TeV\",\n",
    "        \n",
    "    ],    \n",
    "}\n",
    "\n",
    "year = \"2018\"#\n",
    "dir_name = \"23Nov18_WSel_v9_private\"\n",
    "path_to_dir = f\"/eos/uscms/store/user/cmantill/bbbb/matching/{dir_name}/\"\n",
    "dirs = {path_to_dir: samples}\n",
    "\n",
    "filters = [\n",
    "    [\n",
    "        # one good fatjet (fatjet with index 0 has the largest Xbb score)\n",
    "        (\"('ak8FatJetPt', '0')\", \">=\", 300),\n",
    "        (\"('ak8FatJetMsd', '0')\", \">=\", 60),\n",
    "        (\"('ak8FatJetPNetXbb', '0')\", \">=\", 0.9734),  # medium WP\n",
    "        # second fatjet has lower\n",
    "        (\"('ak8FatJetPNetXbb', '1')\", \"<\", 0.9880),  # tight WP\n",
    "    ]\n",
    "]\n",
    "\n",
    "# columns to load                                                                                                                                                                                                                                     \n",
    "# the parquet files are too big so we can only load a few columns at a time without consumming much memory\n",
    "load_columns = [\n",
    "    (\"weight\", 1),\n",
    "\t(\"ak8FatJetMsd\", 2),\n",
    "    (\"ak8FatJetPNetMass\", 2),\n",
    "\t(\"ak8FatJetPNetXbb\", 2),                                                                                                                                                                                                                     \n",
    "]\n",
    "# reformat into (\"column name\", \"idx\") format for reading multiindex columns                                                                                                                                                                          \n",
    "columns = []\n",
    "for key, num_columns in load_columns:\n",
    "    for i in range(num_columns):\n",
    "        columns.append(f\"('{key}', '{i}')\")\n",
    "\n",
    "\n",
    "events_dict = {}\n",
    "for input_dir, samples in dirs.items():\n",
    "    events_dict = {\n",
    "        **events_dict,\n",
    "        # this function will load files (only the columns selected), apply filters and compute a weight per event\n",
    "        **utils.load_samples(input_dir, samples, year, filters=filters),\n",
    "    }\n",
    "\n",
    "samples_loaded = list(events_dict.keys())\n",
    "keys_loaded = list(events_dict[samples_loaded[0]].keys())\n",
    "\n",
    "#This section prints all keys for inspection\n",
    "#print(f\"Keys in events_dict\")\n",
    "#for i in keys_loaded:\n",
    "#    print(i)\n",
    "\n",
    "\n",
    "# Assuming df has features and a binary target column named 'target'\n",
    "#features = df.drop('target', axis=1)\n",
    "#target = df['target']"
   ]
  },
  {
   "cell_type": "code",
   "execution_count": 3,
   "id": "a73db755-debc-4afa-a1fe-512163a2d9af",
   "metadata": {},
   "outputs": [],
   "source": [
    "def make_vector(events: pd.DataFrame, obj: str):\n",
    "    \"\"\"Create a ``vector`` object from the columns of the dataframe\"\"\"\n",
    "    mstring = \"PNetMass\" if obj == \"ak8FatJet\" else \"Mass\"\n",
    "\n",
    "    return vector.array(\n",
    "        {\n",
    "            \"pt\": events[f\"{obj}Pt\"],\n",
    "            \"phi\": events[f\"{obj}Phi\"],\n",
    "            \"eta\": events[f\"{obj}Eta\"],\n",
    "            \"M\": events[f\"{obj}{mstring}\"],\n",
    "        }\n",
    "    )"
   ]
  },
  {
   "cell_type": "code",
   "execution_count": 4,
   "id": "db83ad36-5089-4488-af17-cb64a5f919f5",
   "metadata": {},
   "outputs": [
    {
     "name": "stderr",
     "output_type": "stream",
     "text": [
      "/tmp/ipykernel_25843/1199893880.py:7: PerformanceWarning: indexing past lexsort depth may impact performance.\n",
      "  events.loc['hh4b', 'target'] = 1  # Set to 1 for 'hh4b' samples (signal)\n"
     ]
    },
    {
     "name": "stdout",
     "output_type": "stream",
     "text": [
      "hh4b   0         0.996094\n",
      "       1         0.999512\n",
      "       2         0.959961\n",
      "       3         0.992676\n",
      "       4         0.997070\n",
      "                   ...   \n",
      "ttbar  194517    0.311035\n",
      "       194518    0.899902\n",
      "       194519    0.989258\n",
      "       194520    0.999512\n",
      "       194521    0.999023\n",
      "Name: 0, Length: 502802, dtype: float64\n"
     ]
    },
    {
     "name": "stderr",
     "output_type": "stream",
     "text": [
      "/tmp/ipykernel_25843/1199893880.py:48: RuntimeWarning: invalid value encountered in log\n",
      "  df['logPtJ3'] = np.log(j3.pt)#\n",
      "/tmp/ipykernel_25843/1199893880.py:49: RuntimeWarning: invalid value encountered in log\n",
      "  df['logPtJ4'] = np.log(j4.pt)#\n"
     ]
    },
    {
     "ename": "ValueError",
     "evalue": "cannot handle a non-unique multi-index!",
     "output_type": "error",
     "traceback": [
      "\u001b[0;31m---------------------------------------------------------------------------\u001b[0m",
      "\u001b[0;31mValueError\u001b[0m                                Traceback (most recent call last)",
      "Cell \u001b[0;32mIn[4], line 53\u001b[0m\n\u001b[1;32m     51\u001b[0m df[\u001b[38;5;124m'\u001b[39m\u001b[38;5;124mdPhiJ3J4\u001b[39m\u001b[38;5;124m'\u001b[39m] \u001b[38;5;241m=\u001b[39m j3\u001b[38;5;241m.\u001b[39mdeltaphi(j4)\n\u001b[1;32m     52\u001b[0m df[\u001b[38;5;124m'\u001b[39m\u001b[38;5;124mdRJ3J4\u001b[39m\u001b[38;5;124m'\u001b[39m] \u001b[38;5;241m=\u001b[39m j3\u001b[38;5;241m.\u001b[39mdeltaR(j4)\u001b[38;5;66;03m#\u001b[39;00m\n\u001b[0;32m---> 53\u001b[0m \u001b[43mdf\u001b[49m\u001b[43m[\u001b[49m\u001b[38;5;124;43m'\u001b[39;49m\u001b[38;5;124;43mj3_btag\u001b[39;49m\u001b[38;5;124;43m'\u001b[39;49m\u001b[43m]\u001b[49m \u001b[38;5;241m=\u001b[39m j3_btag\u001b[38;5;66;03m#\u001b[39;00m\n\u001b[1;32m     54\u001b[0m df[\u001b[38;5;124m'\u001b[39m\u001b[38;5;124mj4_btag\u001b[39m\u001b[38;5;124m'\u001b[39m] \u001b[38;5;241m=\u001b[39m j4_btag\u001b[38;5;66;03m#\u001b[39;00m\n\u001b[1;32m     55\u001b[0m df[\u001b[38;5;124m'\u001b[39m\u001b[38;5;124mj3_j4_ratio\u001b[39m\u001b[38;5;124m'\u001b[39m] \u001b[38;5;241m=\u001b[39m j3\u001b[38;5;241m.\u001b[39mpt\u001b[38;5;241m/\u001b[39mj4\u001b[38;5;241m.\u001b[39mpt\u001b[38;5;66;03m#\u001b[39;00m\n",
      "File \u001b[0;32m/uscms_data/d3/dprim7/mambaforge/envs/hh4b/lib/python3.9/site-packages/pandas/core/frame.py:4094\u001b[0m, in \u001b[0;36mDataFrame.__setitem__\u001b[0;34m(self, key, value)\u001b[0m\n\u001b[1;32m   4091\u001b[0m     \u001b[38;5;28mself\u001b[39m\u001b[38;5;241m.\u001b[39m_setitem_array([key], value)\n\u001b[1;32m   4092\u001b[0m \u001b[38;5;28;01melse\u001b[39;00m:\n\u001b[1;32m   4093\u001b[0m     \u001b[38;5;66;03m# set column\u001b[39;00m\n\u001b[0;32m-> 4094\u001b[0m     \u001b[38;5;28;43mself\u001b[39;49m\u001b[38;5;241;43m.\u001b[39;49m\u001b[43m_set_item\u001b[49m\u001b[43m(\u001b[49m\u001b[43mkey\u001b[49m\u001b[43m,\u001b[49m\u001b[43m \u001b[49m\u001b[43mvalue\u001b[49m\u001b[43m)\u001b[49m\n",
      "File \u001b[0;32m/uscms_data/d3/dprim7/mambaforge/envs/hh4b/lib/python3.9/site-packages/pandas/core/frame.py:4303\u001b[0m, in \u001b[0;36mDataFrame._set_item\u001b[0;34m(self, key, value)\u001b[0m\n\u001b[1;32m   4293\u001b[0m \u001b[38;5;28;01mdef\u001b[39;00m \u001b[38;5;21m_set_item\u001b[39m(\u001b[38;5;28mself\u001b[39m, key, value) \u001b[38;5;241m-\u001b[39m\u001b[38;5;241m>\u001b[39m \u001b[38;5;28;01mNone\u001b[39;00m:\n\u001b[1;32m   4294\u001b[0m \u001b[38;5;250m    \u001b[39m\u001b[38;5;124;03m\"\"\"\u001b[39;00m\n\u001b[1;32m   4295\u001b[0m \u001b[38;5;124;03m    Add series to DataFrame in specified column.\u001b[39;00m\n\u001b[1;32m   4296\u001b[0m \n\u001b[0;32m   (...)\u001b[0m\n\u001b[1;32m   4301\u001b[0m \u001b[38;5;124;03m    ensure homogeneity.\u001b[39;00m\n\u001b[1;32m   4302\u001b[0m \u001b[38;5;124;03m    \"\"\"\u001b[39;00m\n\u001b[0;32m-> 4303\u001b[0m     value, refs \u001b[38;5;241m=\u001b[39m \u001b[38;5;28;43mself\u001b[39;49m\u001b[38;5;241;43m.\u001b[39;49m\u001b[43m_sanitize_column\u001b[49m\u001b[43m(\u001b[49m\u001b[43mvalue\u001b[49m\u001b[43m)\u001b[49m\n\u001b[1;32m   4305\u001b[0m     \u001b[38;5;28;01mif\u001b[39;00m (\n\u001b[1;32m   4306\u001b[0m         key \u001b[38;5;129;01min\u001b[39;00m \u001b[38;5;28mself\u001b[39m\u001b[38;5;241m.\u001b[39mcolumns\n\u001b[1;32m   4307\u001b[0m         \u001b[38;5;129;01mand\u001b[39;00m value\u001b[38;5;241m.\u001b[39mndim \u001b[38;5;241m==\u001b[39m \u001b[38;5;241m1\u001b[39m\n\u001b[1;32m   4308\u001b[0m         \u001b[38;5;129;01mand\u001b[39;00m \u001b[38;5;129;01mnot\u001b[39;00m \u001b[38;5;28misinstance\u001b[39m(value\u001b[38;5;241m.\u001b[39mdtype, ExtensionDtype)\n\u001b[1;32m   4309\u001b[0m     ):\n\u001b[1;32m   4310\u001b[0m         \u001b[38;5;66;03m# broadcast across multiple columns if necessary\u001b[39;00m\n\u001b[1;32m   4311\u001b[0m         \u001b[38;5;28;01mif\u001b[39;00m \u001b[38;5;129;01mnot\u001b[39;00m \u001b[38;5;28mself\u001b[39m\u001b[38;5;241m.\u001b[39mcolumns\u001b[38;5;241m.\u001b[39mis_unique \u001b[38;5;129;01mor\u001b[39;00m \u001b[38;5;28misinstance\u001b[39m(\u001b[38;5;28mself\u001b[39m\u001b[38;5;241m.\u001b[39mcolumns, MultiIndex):\n",
      "File \u001b[0;32m/uscms_data/d3/dprim7/mambaforge/envs/hh4b/lib/python3.9/site-packages/pandas/core/frame.py:5039\u001b[0m, in \u001b[0;36mDataFrame._sanitize_column\u001b[0;34m(self, value)\u001b[0m\n\u001b[1;32m   5037\u001b[0m     \u001b[38;5;28;01mif\u001b[39;00m \u001b[38;5;129;01mnot\u001b[39;00m \u001b[38;5;28misinstance\u001b[39m(value, Series):\n\u001b[1;32m   5038\u001b[0m         value \u001b[38;5;241m=\u001b[39m Series(value)\n\u001b[0;32m-> 5039\u001b[0m     \u001b[38;5;28;01mreturn\u001b[39;00m \u001b[43m_reindex_for_setitem\u001b[49m\u001b[43m(\u001b[49m\u001b[43mvalue\u001b[49m\u001b[43m,\u001b[49m\u001b[43m \u001b[49m\u001b[38;5;28;43mself\u001b[39;49m\u001b[38;5;241;43m.\u001b[39;49m\u001b[43mindex\u001b[49m\u001b[43m)\u001b[49m\n\u001b[1;32m   5041\u001b[0m \u001b[38;5;28;01mif\u001b[39;00m is_list_like(value):\n\u001b[1;32m   5042\u001b[0m     com\u001b[38;5;241m.\u001b[39mrequire_length_match(value, \u001b[38;5;28mself\u001b[39m\u001b[38;5;241m.\u001b[39mindex)\n",
      "File \u001b[0;32m/uscms_data/d3/dprim7/mambaforge/envs/hh4b/lib/python3.9/site-packages/pandas/core/frame.py:12312\u001b[0m, in \u001b[0;36m_reindex_for_setitem\u001b[0;34m(value, index)\u001b[0m\n\u001b[1;32m  12308\u001b[0m \u001b[38;5;28;01mexcept\u001b[39;00m \u001b[38;5;167;01mValueError\u001b[39;00m \u001b[38;5;28;01mas\u001b[39;00m err:\n\u001b[1;32m  12309\u001b[0m     \u001b[38;5;66;03m# raised in MultiIndex.from_tuples, see test_insert_error_msmgs\u001b[39;00m\n\u001b[1;32m  12310\u001b[0m     \u001b[38;5;28;01mif\u001b[39;00m \u001b[38;5;129;01mnot\u001b[39;00m value\u001b[38;5;241m.\u001b[39mindex\u001b[38;5;241m.\u001b[39mis_unique:\n\u001b[1;32m  12311\u001b[0m         \u001b[38;5;66;03m# duplicate axis\u001b[39;00m\n\u001b[0;32m> 12312\u001b[0m         \u001b[38;5;28;01mraise\u001b[39;00m err\n\u001b[1;32m  12314\u001b[0m     \u001b[38;5;28;01mraise\u001b[39;00m \u001b[38;5;167;01mTypeError\u001b[39;00m(\n\u001b[1;32m  12315\u001b[0m         \u001b[38;5;124m\"\u001b[39m\u001b[38;5;124mincompatible index of inserted column with frame index\u001b[39m\u001b[38;5;124m\"\u001b[39m\n\u001b[1;32m  12316\u001b[0m     ) \u001b[38;5;28;01mfrom\u001b[39;00m \u001b[38;5;21;01merr\u001b[39;00m\n\u001b[1;32m  12317\u001b[0m \u001b[38;5;28;01mreturn\u001b[39;00m reindexed_value, \u001b[38;5;28;01mNone\u001b[39;00m\n",
      "File \u001b[0;32m/uscms_data/d3/dprim7/mambaforge/envs/hh4b/lib/python3.9/site-packages/pandas/core/frame.py:12307\u001b[0m, in \u001b[0;36m_reindex_for_setitem\u001b[0;34m(value, index)\u001b[0m\n\u001b[1;32m  12305\u001b[0m \u001b[38;5;66;03m# GH#4107\u001b[39;00m\n\u001b[1;32m  12306\u001b[0m \u001b[38;5;28;01mtry\u001b[39;00m:\n\u001b[0;32m> 12307\u001b[0m     reindexed_value \u001b[38;5;241m=\u001b[39m \u001b[43mvalue\u001b[49m\u001b[38;5;241;43m.\u001b[39;49m\u001b[43mreindex\u001b[49m\u001b[43m(\u001b[49m\u001b[43mindex\u001b[49m\u001b[43m)\u001b[49m\u001b[38;5;241m.\u001b[39m_values\n\u001b[1;32m  12308\u001b[0m \u001b[38;5;28;01mexcept\u001b[39;00m \u001b[38;5;167;01mValueError\u001b[39;00m \u001b[38;5;28;01mas\u001b[39;00m err:\n\u001b[1;32m  12309\u001b[0m     \u001b[38;5;66;03m# raised in MultiIndex.from_tuples, see test_insert_error_msmgs\u001b[39;00m\n\u001b[1;32m  12310\u001b[0m     \u001b[38;5;28;01mif\u001b[39;00m \u001b[38;5;129;01mnot\u001b[39;00m value\u001b[38;5;241m.\u001b[39mindex\u001b[38;5;241m.\u001b[39mis_unique:\n\u001b[1;32m  12311\u001b[0m         \u001b[38;5;66;03m# duplicate axis\u001b[39;00m\n",
      "File \u001b[0;32m/uscms_data/d3/dprim7/mambaforge/envs/hh4b/lib/python3.9/site-packages/pandas/core/series.py:4982\u001b[0m, in \u001b[0;36mSeries.reindex\u001b[0;34m(self, index, axis, method, copy, level, fill_value, limit, tolerance)\u001b[0m\n\u001b[1;32m   4965\u001b[0m \u001b[38;5;129m@doc\u001b[39m(\n\u001b[1;32m   4966\u001b[0m     NDFrame\u001b[38;5;241m.\u001b[39mreindex,  \u001b[38;5;66;03m# type: ignore[has-type]\u001b[39;00m\n\u001b[1;32m   4967\u001b[0m     klass\u001b[38;5;241m=\u001b[39m_shared_doc_kwargs[\u001b[38;5;124m\"\u001b[39m\u001b[38;5;124mklass\u001b[39m\u001b[38;5;124m\"\u001b[39m],\n\u001b[0;32m   (...)\u001b[0m\n\u001b[1;32m   4980\u001b[0m     tolerance\u001b[38;5;241m=\u001b[39m\u001b[38;5;28;01mNone\u001b[39;00m,\n\u001b[1;32m   4981\u001b[0m ) \u001b[38;5;241m-\u001b[39m\u001b[38;5;241m>\u001b[39m Series:\n\u001b[0;32m-> 4982\u001b[0m     \u001b[38;5;28;01mreturn\u001b[39;00m \u001b[38;5;28;43msuper\u001b[39;49m\u001b[43m(\u001b[49m\u001b[43m)\u001b[49m\u001b[38;5;241;43m.\u001b[39;49m\u001b[43mreindex\u001b[49m\u001b[43m(\u001b[49m\n\u001b[1;32m   4983\u001b[0m \u001b[43m        \u001b[49m\u001b[43mindex\u001b[49m\u001b[38;5;241;43m=\u001b[39;49m\u001b[43mindex\u001b[49m\u001b[43m,\u001b[49m\n\u001b[1;32m   4984\u001b[0m \u001b[43m        \u001b[49m\u001b[43mmethod\u001b[49m\u001b[38;5;241;43m=\u001b[39;49m\u001b[43mmethod\u001b[49m\u001b[43m,\u001b[49m\n\u001b[1;32m   4985\u001b[0m \u001b[43m        \u001b[49m\u001b[43mcopy\u001b[49m\u001b[38;5;241;43m=\u001b[39;49m\u001b[43mcopy\u001b[49m\u001b[43m,\u001b[49m\n\u001b[1;32m   4986\u001b[0m \u001b[43m        \u001b[49m\u001b[43mlevel\u001b[49m\u001b[38;5;241;43m=\u001b[39;49m\u001b[43mlevel\u001b[49m\u001b[43m,\u001b[49m\n\u001b[1;32m   4987\u001b[0m \u001b[43m        \u001b[49m\u001b[43mfill_value\u001b[49m\u001b[38;5;241;43m=\u001b[39;49m\u001b[43mfill_value\u001b[49m\u001b[43m,\u001b[49m\n\u001b[1;32m   4988\u001b[0m \u001b[43m        \u001b[49m\u001b[43mlimit\u001b[49m\u001b[38;5;241;43m=\u001b[39;49m\u001b[43mlimit\u001b[49m\u001b[43m,\u001b[49m\n\u001b[1;32m   4989\u001b[0m \u001b[43m        \u001b[49m\u001b[43mtolerance\u001b[49m\u001b[38;5;241;43m=\u001b[39;49m\u001b[43mtolerance\u001b[49m\u001b[43m,\u001b[49m\n\u001b[1;32m   4990\u001b[0m \u001b[43m    \u001b[49m\u001b[43m)\u001b[49m\n",
      "File \u001b[0;32m/uscms_data/d3/dprim7/mambaforge/envs/hh4b/lib/python3.9/site-packages/pandas/core/generic.py:5521\u001b[0m, in \u001b[0;36mNDFrame.reindex\u001b[0;34m(self, labels, index, columns, axis, method, copy, level, fill_value, limit, tolerance)\u001b[0m\n\u001b[1;32m   5518\u001b[0m     \u001b[38;5;28;01mreturn\u001b[39;00m \u001b[38;5;28mself\u001b[39m\u001b[38;5;241m.\u001b[39m_reindex_multi(axes, copy, fill_value)\n\u001b[1;32m   5520\u001b[0m \u001b[38;5;66;03m# perform the reindex on the axes\u001b[39;00m\n\u001b[0;32m-> 5521\u001b[0m \u001b[38;5;28;01mreturn\u001b[39;00m \u001b[38;5;28;43mself\u001b[39;49m\u001b[38;5;241;43m.\u001b[39;49m\u001b[43m_reindex_axes\u001b[49m\u001b[43m(\u001b[49m\n\u001b[1;32m   5522\u001b[0m \u001b[43m    \u001b[49m\u001b[43maxes\u001b[49m\u001b[43m,\u001b[49m\u001b[43m \u001b[49m\u001b[43mlevel\u001b[49m\u001b[43m,\u001b[49m\u001b[43m \u001b[49m\u001b[43mlimit\u001b[49m\u001b[43m,\u001b[49m\u001b[43m \u001b[49m\u001b[43mtolerance\u001b[49m\u001b[43m,\u001b[49m\u001b[43m \u001b[49m\u001b[43mmethod\u001b[49m\u001b[43m,\u001b[49m\u001b[43m \u001b[49m\u001b[43mfill_value\u001b[49m\u001b[43m,\u001b[49m\u001b[43m \u001b[49m\u001b[43mcopy\u001b[49m\n\u001b[1;32m   5523\u001b[0m \u001b[43m\u001b[49m\u001b[43m)\u001b[49m\u001b[38;5;241m.\u001b[39m__finalize__(\u001b[38;5;28mself\u001b[39m, method\u001b[38;5;241m=\u001b[39m\u001b[38;5;124m\"\u001b[39m\u001b[38;5;124mreindex\u001b[39m\u001b[38;5;124m\"\u001b[39m)\n",
      "File \u001b[0;32m/uscms_data/d3/dprim7/mambaforge/envs/hh4b/lib/python3.9/site-packages/pandas/core/generic.py:5544\u001b[0m, in \u001b[0;36mNDFrame._reindex_axes\u001b[0;34m(self, axes, level, limit, tolerance, method, fill_value, copy)\u001b[0m\n\u001b[1;32m   5541\u001b[0m     \u001b[38;5;28;01mcontinue\u001b[39;00m\n\u001b[1;32m   5543\u001b[0m ax \u001b[38;5;241m=\u001b[39m \u001b[38;5;28mself\u001b[39m\u001b[38;5;241m.\u001b[39m_get_axis(a)\n\u001b[0;32m-> 5544\u001b[0m new_index, indexer \u001b[38;5;241m=\u001b[39m \u001b[43max\u001b[49m\u001b[38;5;241;43m.\u001b[39;49m\u001b[43mreindex\u001b[49m\u001b[43m(\u001b[49m\n\u001b[1;32m   5545\u001b[0m \u001b[43m    \u001b[49m\u001b[43mlabels\u001b[49m\u001b[43m,\u001b[49m\u001b[43m \u001b[49m\u001b[43mlevel\u001b[49m\u001b[38;5;241;43m=\u001b[39;49m\u001b[43mlevel\u001b[49m\u001b[43m,\u001b[49m\u001b[43m \u001b[49m\u001b[43mlimit\u001b[49m\u001b[38;5;241;43m=\u001b[39;49m\u001b[43mlimit\u001b[49m\u001b[43m,\u001b[49m\u001b[43m \u001b[49m\u001b[43mtolerance\u001b[49m\u001b[38;5;241;43m=\u001b[39;49m\u001b[43mtolerance\u001b[49m\u001b[43m,\u001b[49m\u001b[43m \u001b[49m\u001b[43mmethod\u001b[49m\u001b[38;5;241;43m=\u001b[39;49m\u001b[43mmethod\u001b[49m\n\u001b[1;32m   5546\u001b[0m \u001b[43m\u001b[49m\u001b[43m)\u001b[49m\n\u001b[1;32m   5548\u001b[0m axis \u001b[38;5;241m=\u001b[39m \u001b[38;5;28mself\u001b[39m\u001b[38;5;241m.\u001b[39m_get_axis_number(a)\n\u001b[1;32m   5549\u001b[0m obj \u001b[38;5;241m=\u001b[39m obj\u001b[38;5;241m.\u001b[39m_reindex_with_indexers(\n\u001b[1;32m   5550\u001b[0m     {axis: [new_index, indexer]},\n\u001b[1;32m   5551\u001b[0m     fill_value\u001b[38;5;241m=\u001b[39mfill_value,\n\u001b[1;32m   5552\u001b[0m     copy\u001b[38;5;241m=\u001b[39mcopy,\n\u001b[1;32m   5553\u001b[0m     allow_dups\u001b[38;5;241m=\u001b[39m\u001b[38;5;28;01mFalse\u001b[39;00m,\n\u001b[1;32m   5554\u001b[0m )\n",
      "File \u001b[0;32m/uscms_data/d3/dprim7/mambaforge/envs/hh4b/lib/python3.9/site-packages/pandas/core/indexes/base.py:4430\u001b[0m, in \u001b[0;36mIndex.reindex\u001b[0;34m(self, target, method, level, limit, tolerance)\u001b[0m\n\u001b[1;32m   4426\u001b[0m     indexer \u001b[38;5;241m=\u001b[39m \u001b[38;5;28mself\u001b[39m\u001b[38;5;241m.\u001b[39mget_indexer(\n\u001b[1;32m   4427\u001b[0m         target, method\u001b[38;5;241m=\u001b[39mmethod, limit\u001b[38;5;241m=\u001b[39mlimit, tolerance\u001b[38;5;241m=\u001b[39mtolerance\n\u001b[1;32m   4428\u001b[0m     )\n\u001b[1;32m   4429\u001b[0m \u001b[38;5;28;01melif\u001b[39;00m \u001b[38;5;28mself\u001b[39m\u001b[38;5;241m.\u001b[39m_is_multi:\n\u001b[0;32m-> 4430\u001b[0m     \u001b[38;5;28;01mraise\u001b[39;00m \u001b[38;5;167;01mValueError\u001b[39;00m(\u001b[38;5;124m\"\u001b[39m\u001b[38;5;124mcannot handle a non-unique multi-index!\u001b[39m\u001b[38;5;124m\"\u001b[39m)\n\u001b[1;32m   4431\u001b[0m \u001b[38;5;28;01melif\u001b[39;00m \u001b[38;5;129;01mnot\u001b[39;00m \u001b[38;5;28mself\u001b[39m\u001b[38;5;241m.\u001b[39mis_unique:\n\u001b[1;32m   4432\u001b[0m     \u001b[38;5;66;03m# GH#42568\u001b[39;00m\n\u001b[1;32m   4433\u001b[0m     \u001b[38;5;28;01mraise\u001b[39;00m \u001b[38;5;167;01mValueError\u001b[39;00m(\u001b[38;5;124m\"\u001b[39m\u001b[38;5;124mcannot reindex on an axis with duplicate labels\u001b[39m\u001b[38;5;124m\"\u001b[39m)\n",
      "\u001b[0;31mValueError\u001b[0m: cannot handle a non-unique multi-index!"
     ]
    }
   ],
   "source": [
    "#DEFINE FEATURES & TARGET\n",
    "\n",
    "# Higgs candidate selection example\n",
    "events = pd.concat([events_dict[\"hh4b\"], events_dict[\"qcd\"], events_dict[\"ttbar\"]], keys=['hh4b','qcd', 'ttbar'])\n",
    "\n",
    "events['target'] = 0  # Default to 0 (background)\n",
    "events.loc['hh4b', 'target'] = 1  # Set to 1 for 'hh4b' samples (signal)\n",
    "\n",
    "#print(events)\n",
    "\n",
    "# jets outside the fatjet - sorted by b-score\n",
    "jets_outside = make_vector(events, \"ak4JetOutside\")\n",
    "# fatjets sorted by xbb\n",
    "fatjets = make_vector(events, \"ak8FatJet\")\n",
    "\n",
    "# H1 candidate\n",
    "h1 = fatjets[:, 0]\n",
    "h1_xbb = events.ak8FatJetPNetXbb[0]\n",
    "\n",
    "# H2 candidate\n",
    "# ak4 jet (outside) with highest b-tagging score (btagDeepFlavB)\n",
    "j3 = jets_outside[:, 0]\n",
    "j4 = jets_outside[:, 1]\n",
    "j3_btag = events.ak4JetOutsidebtagDeepFlavB[0]\n",
    "\n",
    "print(j3_btag)\n",
    "j4_btag = events.ak4JetOutsidebtagDeepFlavB[1]\n",
    "h2 = j3 + j4\n",
    "hh = h1 + h2\n",
    "\n",
    "# Second fatjet\n",
    "fj2 = fatjets[:, 1]\n",
    "fj2_xbb = events.ak8FatJetPNetXbb[1]\n",
    "\n",
    "\n",
    "\n",
    "df = pd.DataFrame()\n",
    "\n",
    "\n",
    "\n",
    "\n",
    "#df['ak4JetOutsideEta'] = events_dict['ak4GenJetEta', 0]\n",
    "#df['ak8FatJetPNetMass'] = events.ak8FatJetPNetMass[0]\n",
    "\n",
    "#TODO: remove h1_xbb, hb_mass from dataframe, this currently causes df indexing issues\n",
    "\n",
    "#df['h1_xbb'] = h1_xbb#\n",
    "df['logPtHH'] = np.log(hh.pt)#\n",
    "df['logPtH1'] = np.log(h1.pt)#\n",
    "df['logPtJ3'] = np.log(j3.pt)#\n",
    "df['logPtJ4'] = np.log(j4.pt)#\n",
    "df['H1Pt_H2Pt'] = h1.pt#\n",
    "df['dPhiJ3J4'] = j3.deltaphi(j4)\n",
    "df['dRJ3J4'] = j3.deltaR(j4)#\n",
    "df['j3_btag'] = j3_btag#\n",
    "df['j4_btag'] = j4_btag#\n",
    "df['j3_j4_ratio'] = j3.pt/j4.pt#\n",
    "df['hb_eta'] = h1.eta#\n",
    "#df['hb_mass'] = h1.mass#\n",
    "df['hr_pt'] = h2.pt#\n",
    "df['hr_eta'] = h2.eta#\n",
    "df['hr_mass'] = h2.mass#\n",
    "hh.eta[np.isinf(hh.eta)] = 10000\n",
    "df['HHEta'] = hh.eta#  # this triggers invalid value exception due to inf values\n",
    "df['HHMass'] = hh.M#\n",
    "df['fj2_pt'] = fj2.pt#\n",
    "df['fj2_eta'] = fj2.eta#\n",
    "df['fj2_mass'] = fj2.M#\n",
    "df['fj2_btag'] = fj2_xbb#\n",
    "drh1h2 = np.sqrt((h1.eta-h2.eta)**2 + (h1.phi - h2.phi)**2)\n",
    "drh1h2[np.isinf(drh1h2)] = 10000\n",
    "df['dRH1H2'] = drh1h2#\n",
    "df['dphi'] = h1.deltaphi(h2)#\n",
    "df['deta'] = h1.deltaeta(h2)#\n",
    "\n",
    "df.replace(np.inf, 10000, inplace=True)\n",
    "df.replace(-np.inf, 10000, inplace=True)\n",
    "#print(df['ak8FatJetPNetMass'])\n",
    "\n"
   ]
  },
  {
   "cell_type": "code",
   "execution_count": null,
   "id": "af5f5cec-9f74-4a38-aa60-f37002144241",
   "metadata": {},
   "outputs": [],
   "source": [
    "#LOAD FEATURES INTO PD DF\n",
    "\n",
    "features = df\n",
    "\n",
    "#define target\n",
    "target = events['target']"
   ]
  },
  {
   "cell_type": "code",
   "execution_count": null,
   "id": "f593aee3-1d75-4da4-b50b-e10b81896b79",
   "metadata": {},
   "outputs": [],
   "source": [
    "# Splitting the dataset into training and testing sets\n",
    "X_train, X_test, y_train, y_test = train_test_split(features, target, test_size=0.2, random_state=42)"
   ]
  },
  {
   "cell_type": "code",
   "execution_count": null,
   "id": "906a8c6a-d227-4f63-b528-23f11ba4b0f4",
   "metadata": {},
   "outputs": [],
   "source": [
    "# Initialize the BDT model\n",
    "bdt_model = XGBClassifier(\n",
    "    n_estimators= 196,\n",
    "    max_depth= 17,\n",
    "    learning_rate=0.1,\n",
    "    subsample=0.5,\n",
    "    random_state=42\n",
    ")\n",
    "\n"
   ]
  },
  {
   "cell_type": "code",
   "execution_count": null,
   "id": "23c0864d-2c2e-400e-b378-b930a21bf100",
   "metadata": {},
   "outputs": [],
   "source": [
    "# Train the model\n",
    "bdt_model.fit(X_train, y_train)"
   ]
  },
  {
   "cell_type": "code",
   "execution_count": null,
   "id": "93b88fb2-830c-4ff7-bdfe-fc3e5d476e8e",
   "metadata": {},
   "outputs": [],
   "source": [
    "# Make predictions\n",
    "predictions = bdt_model.predict(X_test)\n"
   ]
  },
  {
   "cell_type": "code",
   "execution_count": null,
   "id": "9c7a8344-d16a-4cc2-bab5-bc0220aca5f2",
   "metadata": {},
   "outputs": [],
   "source": [
    "# Evaluate the model\n",
    "accuracy = accuracy_score(y_test, predictions)\n",
    "roc_auc = roc_auc_score(y_test, predictions)"
   ]
  },
  {
   "cell_type": "code",
   "execution_count": null,
   "id": "a1019742-7f30-4a8c-a282-e739e5c697ff",
   "metadata": {},
   "outputs": [],
   "source": [
    "print(predictions)"
   ]
  },
  {
   "cell_type": "code",
   "execution_count": null,
   "id": "812f1af7-2b20-4a25-a972-4d6cec55fa92",
   "metadata": {},
   "outputs": [],
   "source": [
    "probabilities = bdt_model.predict_proba(X_test)\n",
    "\n",
    "print(probabilities[:,0])"
   ]
  },
  {
   "cell_type": "code",
   "execution_count": null,
   "id": "d947c38d-d2ee-4fb2-bc93-71fc12d6f052",
   "metadata": {},
   "outputs": [],
   "source": [
    "y_scores = bdt_model.predict_proba(X_test)[:, 1]\n",
    "\n",
    "fpr, tpr, thresholds = roc_curve(y_test, y_scores)\n",
    "roc_auc = auc(fpr, tpr)\n",
    "\n",
    "#histogram for y scores signal & background \n",
    "#rank by importance\n",
    "\n",
    "#number of b-jets that can be identified in resolved\n",
    "#another feather cos(theta_star)\n",
    "\n",
    "#Plottting\n",
    "plt.figure()\n",
    "plt.plot(tpr, fpr, color='darkorange', lw=2, label='ROC curve (area = %0.2f)' % roc_auc)\n",
    "plt.xlabel('Signal (HH)')\n",
    "plt.ylabel('Background (QCD&ttbar)')\n",
    "plt.title('ROC')\n",
    "plt.legend(loc=\"upper left\")\n",
    "plt.yscale('log')\n",
    "plt.savefig('plots/ROC_BDT.png')\n",
    "plt.show()\n"
   ]
  },
  {
   "cell_type": "code",
   "execution_count": null,
   "id": "8375cfbb-5666-4fd2-982a-9f8146ac2604",
   "metadata": {},
   "outputs": [],
   "source": [
    "from sklearn.ensemble import RandomForestClassifier\n",
    "from sklearn.datasets import load_iris\n",
    "from sklearn.model_selection import cross_val_score\n",
    "from skopt import BayesSearchCV\n",
    "import numpy as np\n",
    "\n",
    "# Load data\n",
    "iris = load_iris()\n",
    "X, y = iris.data, iris.target\n",
    "\n",
    "# Define the model\n",
    "model = RandomForestClassifier()\n",
    "\n",
    "# Define the hyperparameters and their ranges\n",
    "search_space = {\n",
    "    'n_estimators': (10, 200),  # Integer range\n",
    "    'max_depth': (5, 50)        # Integer range\n",
    "}\n",
    "\n",
    "# Set up Bayesian optimization\n",
    "bayes_search = BayesSearchCV(model, search_space, n_iter=32, scoring='accuracy', cv=5, n_jobs=-1, random_state=0)\n",
    "\n",
    "# Perform the Bayesian optimization\n",
    "bayes_search.fit(X, y)\n",
    "\n",
    "# Best parameters\n",
    "print(\"Best parameters:\", bayes_search.best_params_)\n"
   ]
  },
  {
   "cell_type": "code",
   "execution_count": null,
   "id": "23d0cbfb-52e3-43e4-84a5-c78152226f36",
   "metadata": {
    "scrolled": true
   },
   "outputs": [],
   "source": [
    "#determine importance of the features\n",
    "\n",
    "importances = bdt_model.feature_importances_\n",
    "\n",
    "feature_names = df.columns\n",
    "feature_importance = sorted(zip(feature_names, importances), key=lambda x: x[1], reverse=True)\n",
    "\n",
    "for feature in feature_importance:\n",
    "    print(f\"{feature[0]}: {feature[1]:.3f}\")\n"
   ]
  },
  {
   "cell_type": "code",
   "execution_count": null,
   "id": "c21d45a9-9fae-4e43-8b34-100feb411632",
   "metadata": {},
   "outputs": [],
   "source": [
    "hh4b_scores = bdt_model.predict_proba(X_test.loc['hh4b'])[:, 1]\n",
    "qcd_scores = bdt_model.predict_proba(X_test.loc['qcd'])[:, 1]\n",
    "ttbar_scores = bdt_model.predict_proba(X_test.loc['ttbar'])[:, 1]"
   ]
  },
  {
   "cell_type": "code",
   "execution_count": null,
   "id": "d15a1a42-eb7e-489b-b3fa-cdba4cc35bb5",
   "metadata": {},
   "outputs": [],
   "source": [
    "plt.figure()\n",
    "plt.hist(hh4b_scores, bins=40, histtype='step', linewidth=1.5, color='darkblue')\n",
    "plt.hist(qcd_scores, bins=40, histtype='step', linewidth=1.5, color='red')\n",
    "plt.hist(ttbar_scores, bins=40, histtype='step', linewidth=1.5, color='darkgreen')\n",
    "plt.legend(['hh4b', 'qcd', 'ttbar'])\n",
    "plt.ylabel('Frequency')\n",
    "plt.xlabel('Prediciton Score')\n",
    "plt.title('Model Predictions Histogram')\n",
    "plt.yscale('log')\n",
    "plt.show()\n"
   ]
  },
  {
   "cell_type": "code",
   "execution_count": null,
   "id": "da465544-356a-4058-9226-4ad841afe4de",
   "metadata": {},
   "outputs": [],
   "source": []
  }
 ],
 "metadata": {
  "kernelspec": {
   "display_name": "Python 3 (ipykernel)",
   "language": "python",
   "name": "python3"
  },
  "language_info": {
   "codemirror_mode": {
    "name": "ipython",
    "version": 3
   },
   "file_extension": ".py",
   "mimetype": "text/x-python",
   "name": "python",
   "nbconvert_exporter": "python",
   "pygments_lexer": "ipython3",
   "version": "3.9.18"
  }
 },
 "nbformat": 4,
 "nbformat_minor": 5
}
