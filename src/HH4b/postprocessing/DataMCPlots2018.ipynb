{
 "cells": [
  {
   "cell_type": "markdown",
   "metadata": {},
   "source": [
    "# data/mc plots in 2018"
   ]
  },
  {
   "cell_type": "markdown",
   "metadata": {},
   "source": [
    "### Post-process Data and MC samples\n",
    "\n",
    "- Sum all MC samples that belong to the same process\n",
    "- Scale the number of events by the total sum of weights"
   ]
  },
  {
   "cell_type": "code",
   "execution_count": null,
   "metadata": {},
   "outputs": [],
   "source": [
    "# import utilities for post-process\n",
    "import utils"
   ]
  },
  {
   "cell_type": "code",
   "execution_count": null,
   "metadata": {},
   "outputs": [],
   "source": [
    "samples = {\n",
    "    \"hh4b\": [\"GluGlutoHHto4B_cHHH1_TuneCP5_PSWeights_13TeV-powheg-pythia8\"],\n",
    "    \"hh4b-kl0\": [\"GluGlutoHHto4B_cHHH0_TuneCP5_PSWeights_13TeV-powheg-pythia8\"],\n",
    "    \"hh4b-kl2p45\": [\"GluGlutoHHto4B_cHHH2p45_TuneCP5_PSWeights_13TeV-powheg-pythia8\"],\n",
    "    \"hh4b-kl5\": [\"GluGlutoHHto4B_cHHH5_TuneCP5_PSWeights_13TeV-powheg-pythia8\"],\n",
    "    \"qcd\": [\n",
    "        \"QCD_HT-200to300-13TeV\",\n",
    "        \"QCD_HT-300to500-13TeV\"\n",
    "        \"QCD_HT-500to700-13TeV\",\n",
    "        \"QCD_HT-700to1000-13TeV\",\n",
    "        \"QCD_HT-1000to1500-13TeV\",\n",
    "        \"QCD_HT-1500to2000-13TeV\",\n",
    "        \"QCD_HT-2000toInf-13TeV\",\n",
    "    ],\n",
    "    \"ttbar\": [\n",
    "        \"TTToSemiLeptonic_13TeV\",\n",
    "        \"TTToHadronic_13TeV\",\n",
    "        \"TTTo2L2Nu_13TeV\",\n",
    "    ],\n",
    "    \"vjets\": [\n",
    "        \"WJetsToQQ_HT-200to400_13TeV\",\n",
    "        \"WJetsToQQ_HT-400to600_13TeV\",\n",
    "        \"WJetsToQQ_HT-600to800_13TeV\",\n",
    "        \"WJetsToQQ_HT-800toInf_13TeV\", \n",
    "        \"ZJetsToQQ_HT-200to400_13TeV\",\n",
    "        \"ZJetsToQQ_HT-400to600_13TeV\",\n",
    "        \"ZJetsToQQ_HT-600to800_13TeV\",\n",
    "        \"ZJetsToQQ_HT-800toInf_13TeV\",\n",
    "    ],\n",
    "}\n",
    "\n",
    "# define dictionary with directories of files (this can be configured in a yaml file later in the script)\n",
    "\n",
    "# this is the directory to the files\n",
    "path_to_dir = \"/eos/uscms/store/user/cmantill/bbbb/matching/Oct9\"\n",
    "dirs = {path_to_dir: samples}\n",
    "year = \"2018\""
   ]
  },
  {
   "cell_type": "code",
   "execution_count": null,
   "metadata": {},
   "outputs": [],
   "source": [
    "# filters are sequences of strings that can be used to place a selection or mask in the parquet files                                                                                                                                                                              \n",
    "# e.g. https://github.com/rkansal47/HHbbVV/blob/main/src/HHbbVV/postprocessing/postprocessing.py#L80                                                                                                                                                  \n",
    "filters = [\n",
    "    [\n",
    "        (\"('ak8FatJetPt', '0')\", \">=\", 300),\n",
    "        (\"('ak8FatJetMsd', '0')\", \">=\", 60),\n",
    "    ]\n",
    "]"
   ]
  },
  {
   "cell_type": "code",
   "execution_count": null,
   "metadata": {},
   "outputs": [],
   "source": [
    "# columns to load                                                                                                                                                                                                                                     \n",
    "# the parquet files are too big so we can only load a few columns at a time without consumming much memory\n",
    "load_columns = [\n",
    "    (\"weight\", 1),\n",
    "    # (\"ak4JetPt\", 6),\n",
    "    (\"ak4JetbtagDeepFlavB\", 6),\n",
    "    # (\"ak4JetEta\", 6),\n",
    "    # (\"ak4JetPhi\", 6),\n",
    "    # (\"ak4JetMass\", 6),\n",
    "    ('ak4DijetPt0', 1),\n",
    "    ('ak4DijetPt1', 1),\n",
    "    ('ak4DijetDeltaR', 1),\n",
    "\t(\"ak8FatJetPt\", 2),\n",
    "    ('ak8FatJetPNetMass', 2),\n",
    "\t(\"ak8FatJetPNetXbb\", 2),                                                                                                                                                                                                                     \n",
    "]\n",
    "# reformat into (\"column name\", \"idx\") format for reading multiindex columns                                                                                                                                                                          \n",
    "columns = []\n",
    "for key, num_columns in load_columns:\n",
    "    for i in range(num_columns):\n",
    "        columns.append(f\"('{key}', '{i}')\")"
   ]
  },
  {
   "cell_type": "code",
   "execution_count": null,
   "metadata": {},
   "outputs": [],
   "source": [
    "# dictionary that will contain all information (from all samples)\n",
    "\n",
    "events_dict = {}\n",
    "for input_dir, samples in dirs.items():\n",
    "    events_dict = {\n",
    "        **events_dict,\n",
    "        # this function will load files (only the columns selected), apply filters and compute a weight per event\n",
    "        **utils.load_samples(input_dir, samples, year, filters=filters, columns=columns)\n",
    "\t}"
   ]
  },
  {
   "cell_type": "code",
   "execution_count": null,
   "metadata": {},
   "outputs": [],
   "source": [
    "# this will be the weight that will be stored in the eventsDict once the utils.loadSamples function is done\n",
    "weight_key = [\"finalWeight\"]"
   ]
  },
  {
   "cell_type": "code",
   "execution_count": null,
   "metadata": {},
   "outputs": [],
   "source": [
    "samples_loaded = list(events_dict.keys())\n",
    "keys_loaded = list(events_dict[samples_loaded[0]].keys())\n",
    "print(f\"Keys in events_dict {keys_loaded}\")  "
   ]
  },
  {
   "cell_type": "code",
   "execution_count": null,
   "metadata": {},
   "outputs": [],
   "source": [
    "samples_loaded"
   ]
  },
  {
   "cell_type": "code",
   "execution_count": null,
   "metadata": {},
   "outputs": [],
   "source": [
    "samples_to_fill = [\n",
    "    #\"data\",\n",
    "    \"qcd\",\n",
    "    \"vjets\",\n",
    "    \"ttbar\",\n",
    "    #\"hbb\"\n",
    "]\n",
    "vars_to_plot = [\n",
    "    \"ak4DijetPt0\",\n",
    "    \"ak4DijetPt1\",\n",
    "    \"ak8FatJetPt0\",\n",
    "    \"ak8FatJetPt1\",\n",
    "    \"ak4JetbtagDeepFlavB0\",\n",
    "    \"ak4JetbtagDeepFlavB1\",\n",
    "    # \"DijetMass\",\n",
    "    \"ak8FatJetPNetXbb0\",\n",
    "    \"ak8FatJetPNetMass0\",\n",
    "    \"ak8FatJetPNetXbb1\",\n",
    "    \"ak8FatJetPNetMass1\",\n",
    "]"
   ]
  },
  {
   "cell_type": "code",
   "execution_count": null,
   "metadata": {},
   "outputs": [],
   "source": [
    "# define ShapeVar (label and bins for a given variable)                                                                                                                                                                                                   \n",
    "from utils import ShapeVar\n",
    "\n",
    "var_to_shapevar = {\n",
    "    # var must match key in events dictionary (i.e. as saved in parquet file)                                                                                                                                                                             \n",
    "    \"DijetMass\": ShapeVar(\n",
    "        var=\"DijetMass\", label=r\"AK8 $m^{jj}$ (GeV)\", bins=[30, 600, 4000]\n",
    "    ),\n",
    "    \"ak4JetbtagDeepFlavB0\": ShapeVar(\n",
    "        var=\"ak4JetbtagDeepFlavB0\", label=r\"AK4 deepFlavB $^0$ (GeV)\", bins=[30, 0 , 1], significance_dir=\"right\"\n",
    "    ),\n",
    "    \"ak4JetbtagDeepFlavB1\": ShapeVar(\n",
    "        var=\"ak4JetbtagDeepFlavB1\", label=r\"AK4 deepFlavB $^1$ (GeV)\", bins=[30, 0 , 1], significance_dir=\"right\"\n",
    "    ),\n",
    "    \"ak4DijetPt0\": ShapeVar(\n",
    "        var=\"ak4DijetPt0\", label=r\"AK4 jj (0) $p_T$ (GeV)\", bins=[30, 300, 1500], significance_dir=\"right\"\n",
    "    ),\n",
    "    \"ak4DijetPt1\": ShapeVar(\n",
    "        var=\"ak4DijetPt1\", label=r\"$AK4 jj (1) p_T$ (GeV)\", bins=[30, 300, 1500], significance_dir=\"right\"\n",
    "    ),\n",
    "    \"ak8FatJetPt0\": ShapeVar(\n",
    "        var=\"ak8FatJetPt0\", label=r\"$AK8 p_T^0$ (GeV)\", bins=[30, 300, 1500], significance_dir=\"right\"\n",
    "    ),\n",
    "    \"ak8FatJetPt1\": ShapeVar(\n",
    "        var=\"ak8FatJetPt1\", label=r\"AK8 $p_T^1$ (GeV)\", bins=[30, 300, 1500], significance_dir=\"right\"\n",
    "    ),\n",
    "    \"ak8FatJetPNetMass0\": ShapeVar(\n",
    "        var=\"ak8FatJetPNetMass0\", label=r\"AK8 $m_{reg}^{0}$ (GeV)\", bins=[20, 0, 260]\n",
    "    ),\n",
    "    \"ak8FatJetPNetXbb0\": ShapeVar(\n",
    "        var=\"ak8FatJetPNetXbb0\", label=r\"AK8 $TX_{bb}^{0}$\", bins=[50, 0.8, 1],\n",
    "    ),\n",
    "    \"ak8FatJetPNetMass1\": ShapeVar(\n",
    "        var=\"ak8FatJetPNetMass1\", label=r\"AK8 $m_{reg}^{1}$ (GeV)\", bins=[20, 0, 260]\n",
    "    ),\n",
    "    \"ak8FatJetPNetXbb1\": ShapeVar(\n",
    "        var=\"ak8FatJetPNetXbb1\", label=r\"AK8 $TX_{bb}^{1}$\", bins=[100, -2, 1],\n",
    "    ),\n",
    "}"
   ]
  },
  {
   "cell_type": "code",
   "execution_count": null,
   "metadata": {},
   "outputs": [],
   "source": [
    "# make a histogram                                                                                                                                                                                                                                \n",
    "hists = {}\n",
    "for var in vars_to_plot:\n",
    "    shape_var = var_to_shapevar[var]\n",
    "    if shape_var.var not in hists:\n",
    "        hists[shape_var.var] = utils.singleVarHist(\n",
    "            events_dict,\n",
    "            shape_var,\n",
    "            weight_key=weight_key,\n",
    "            selection=None,\n",
    "        )\n"
   ]
  },
  {
   "cell_type": "code",
   "execution_count": null,
   "metadata": {},
   "outputs": [],
   "source": [
    "hists"
   ]
  },
  {
   "cell_type": "code",
   "execution_count": null,
   "metadata": {},
   "outputs": [],
   "source": [
    "hists[\"ak8FatJetPt0\"][{\"Sample\": \"qcd\"}]"
   ]
  },
  {
   "cell_type": "code",
   "execution_count": null,
   "metadata": {},
   "outputs": [],
   "source": [
    "import mplhep as hep\n",
    "hist, bins = hists[\"ak8FatJetPt0\"][{\"Sample\": \"qcd\"}].to_numpy()\n",
    "print(hist)\n",
    "hep.histplot(hist,bins=bins,stack=True)"
   ]
  },
  {
   "cell_type": "code",
   "execution_count": null,
   "metadata": {},
   "outputs": [],
   "source": [
    "hists"
   ]
  },
  {
   "cell_type": "code",
   "execution_count": null,
   "metadata": {},
   "outputs": [],
   "source": [
    " # make a stacked plot    \n",
    "from plotting import plot_hists\n",
    "plot_hists(\n",
    "    year,\n",
    "    hists,\n",
    "    [\n",
    "    \"ak4JetbtagDeepFlavB0\",\n",
    "    \"ak4JetbtagDeepFlavB1\",\n",
    "    \"ak4DijetPt0\",\n",
    "    \"ak4DijetPt1\",\n",
    "    \"ak8FatJetPt0\",\n",
    "    \"ak8FatJetPt1\",\n",
    "    # \"DijetMass\",\n",
    "    \"ak8FatJetPNetXbb0\",\n",
    "    \"ak8FatJetPNetMass0\",\n",
    "    \"ak8FatJetPNetXbb1\",\n",
    "    \"ak8FatJetPNetMass1\",\n",
    "    ],\n",
    "    58.6,\n",
    "    add_data = False,\n",
    "    mult_factor = 100,\n",
    "    logy = True\n",
    ")"
   ]
  },
  {
   "cell_type": "code",
   "execution_count": null,
   "metadata": {},
   "outputs": [],
   "source": []
  },
  {
   "cell_type": "code",
   "execution_count": null,
   "metadata": {},
   "outputs": [],
   "source": []
  }
 ],
 "metadata": {
  "kernelspec": {
   "display_name": "coffea-env",
   "language": "python",
   "name": "python3"
  },
  "language_info": {
   "codemirror_mode": {
    "name": "ipython",
    "version": 3
   },
   "file_extension": ".py",
   "mimetype": "text/x-python",
   "name": "python",
   "nbconvert_exporter": "python",
   "pygments_lexer": "ipython3",
   "version": "3.8.16"
  },
  "orig_nbformat": 4
 },
 "nbformat": 4,
 "nbformat_minor": 2
}
