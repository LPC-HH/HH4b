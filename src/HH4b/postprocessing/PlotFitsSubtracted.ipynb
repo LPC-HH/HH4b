{
 "cells": [
  {
   "cell_type": "code",
   "execution_count": null,
   "metadata": {},
   "outputs": [],
   "source": [
    "from pathlib import Path\n",
    "from collections import OrderedDict\n",
    "\n",
    "import hist\n",
    "import numpy as np\n",
    "import uproot\n",
    "\n",
    "from HH4b import plotting\n",
    "from HH4b.utils import ShapeVar\n",
    "from HH4b.hh_vars import data_key"
   ]
  },
  {
   "cell_type": "code",
   "execution_count": null,
   "metadata": {},
   "outputs": [],
   "source": [
    "%load_ext autoreload\n",
    "%autoreload 2"
   ]
  },
  {
   "cell_type": "code",
   "execution_count": null,
   "metadata": {},
   "outputs": [],
   "source": [
    "MAIN_DIR = Path(\"/home/users/woodson/HH4b\")\n",
    "\n",
    "vbf = True\n",
    "# k2v0sig = True\n",
    "mreg = True\n",
    "\n",
    "plot_dir = MAIN_DIR / \"plots/PostFit/run3-bdt-february17-glopartv2-bdtv13-ntf0000-sf-update\"\n",
    "plot_dir.mkdir(exist_ok=True, parents=True)\n",
    "\n",
    "regions = \"all\""
   ]
  },
  {
   "cell_type": "code",
   "execution_count": null,
   "metadata": {},
   "outputs": [],
   "source": [
    "cards_dir = \"run3-bdt-february17-glopartv2-bdtv13-ntf0000-sf-update-all-sig\"\n",
    "file = uproot.open(f\"{MAIN_DIR}/src/HH4b/cards/{cards_dir}/FitShapes.root\")"
   ]
  },
  {
   "cell_type": "code",
   "execution_count": null,
   "metadata": {},
   "outputs": [],
   "source": [
    "# (name in templates -> name in cards)\n",
    "hist_label_map_inverse = OrderedDict(\n",
    "    [\n",
    "        (\"qcd\", \"CMS_bbbb_hadronic_qcd_datadriven\"),\n",
    "        (\"diboson\", \"diboson\"),\n",
    "        (\"vjets\", \"vjets\"),\n",
    "        (\"ttbar\", \"ttbar\"),\n",
    "        (\"vhtobb\", \"VH_hbb\"),\n",
    "        (\"tthtobb\", \"ttH_hbb\"),\n",
    "        (\"data\", \"data_obs\"),\n",
    "        (\"hh4b\", \"ggHH_kl_1_kt_1_13p6TeV_hbbhbb\"),\n",
    "        (\"vbfhh4b\", \"qqHH_CV_1_C2V_1_kl_1_13p6TeV_hbbhbb\"),\n",
    "    ]\n",
    ")\n",
    "\n",
    "hist_label_map = {val: key for key, val in hist_label_map_inverse.items()}\n",
    "samples = list(hist_label_map.values())\n",
    "\n",
    "fit_shape_var_msd = ShapeVar(\n",
    "    \"H2Msd\",\n",
    "    r\"$m^{j2}_\\mathrm{SD}$ (GeV)\",\n",
    "    [16, 60, 220],\n",
    "    reg=True,\n",
    "    blind_window=[110, 140],\n",
    ")\n",
    "\n",
    "fit_shape_var_mreg = ShapeVar(\n",
    "    \"H2PNetMass\",\n",
    "    r\"$m^{j2}_\\mathrm{reg}$ (GeV)\",\n",
    "    [16, 60, 220],\n",
    "    reg=True,\n",
    "    blind_window=[110, 140],\n",
    ")\n",
    "shape_vars = [fit_shape_var_msd] if not mreg else [fit_shape_var_mreg]"
   ]
  },
  {
   "cell_type": "code",
   "execution_count": null,
   "metadata": {},
   "outputs": [],
   "source": [
    "shapes = {\n",
    "    # \"prefit\": \"Pre-Fit\",\n",
    "    \"postfit\": \"B-only Post-Fit\",\n",
    "}\n",
    "\n",
    "selection_regions_labels = {\n",
    "    \"passbin1\": \"Pass Bin1\",\n",
    "    \"passbin2\": \"Pass Bin2\",\n",
    "    \"passbin3\": \"Pass Bin3\",\n",
    "    \"passvbf\": \"Pass VBF\",\n",
    "    \"fail\": \"Fail\",\n",
    "}"
   ]
  },
  {
   "cell_type": "code",
   "execution_count": null,
   "metadata": {},
   "outputs": [],
   "source": [
    "if regions == \"all\":\n",
    "    signal_regions = [\"passbin1\", \"passbin2\", \"passbin3\", \"passvbf\"]\n",
    "else:\n",
    "    signal_regions = [regions]\n",
    "\n",
    "bins = [*signal_regions, \"fail\"]\n",
    "selection_regions = {key: selection_regions_labels[key] for key in bins}"
   ]
  },
  {
   "cell_type": "code",
   "execution_count": null,
   "metadata": {},
   "outputs": [],
   "source": [
    "# build histograms\n",
    "hists = {}\n",
    "bgerrs = {}\n",
    "data_errs = {}\n",
    "for shape in shapes:\n",
    "    hists[shape] = {\n",
    "        region: hist.Hist(\n",
    "            hist.axis.StrCategory(samples, name=\"Sample\"),\n",
    "            *[shape_var.axis for shape_var in shape_vars],\n",
    "            storage=\"double\",\n",
    "        )\n",
    "        for region in selection_regions\n",
    "    }\n",
    "\n",
    "    bgerrs[shape] = {}\n",
    "    data_errs[shape] = {}\n",
    "\n",
    "    for region in selection_regions:\n",
    "        h = hists[shape][region]\n",
    "        templates = file[f\"{region}_{shape}\"]\n",
    "        for key, file_key in hist_label_map_inverse.items():\n",
    "            if key != data_key:\n",
    "                if file_key not in templates:\n",
    "                    print(f\"No {key} in {region}\")\n",
    "                    continue\n",
    "\n",
    "                data_key_index = np.where(np.array(list(h.axes[0])) == key)[0][0]\n",
    "                h.view(flow=False)[data_key_index, :] = templates[file_key].values()\n",
    "\n",
    "        data_key_index = np.where(np.array(list(h.axes[0])) == data_key)[0][0]\n",
    "        h.view(flow=False)[data_key_index, :] = np.nan_to_num(\n",
    "            templates[hist_label_map_inverse[data_key]].values()\n",
    "        )\n",
    "        # bgerrs[shape][region] = templates[\"TotalBkg\"].errors()\n",
    "        bgerrs[shape][region] = templates[\"CMS_bbbb_hadronic_qcd_datadriven\"].errors()"
   ]
  },
  {
   "cell_type": "code",
   "execution_count": null,
   "metadata": {},
   "outputs": [],
   "source": [
    "year = \"2022-2023\"\n",
    "pass_ratio_ylims = [0, 2]\n",
    "fail_ratio_ylims = [0, 2]\n",
    "\n",
    "ylims = {\n",
    "    \"passvbf\": 0.0001,\n",
    "    \"passbin1\": 0.0001,\n",
    "    \"passbin2\": 0.002,\n",
    "    \"passbin3\": 0.02,\n",
    "    \"fail\": 1,\n",
    "}\n",
    "\n",
    "for shape, shape_label in shapes.items():\n",
    "    for region, region_label in selection_regions.items():\n",
    "        pass_region = region.startswith(\"pass\")\n",
    "        if not pass_region:\n",
    "            continue\n",
    "        for shape_var in shape_vars:\n",
    "            plot_params = {\n",
    "                \"hists\": hists[shape][region],\n",
    "                \"hists_fail\": hists[shape][\"fail\"],\n",
    "                \"bg_keys\": [\"qcd\", \"ttbar\", \"vhtobb\", \"tthtobb\", \"others\"],\n",
    "                \"bg_err\": bgerrs[shape][region],\n",
    "                \"show\": True,\n",
    "                \"year\": year,\n",
    "                \"ylim\": ylims[region],\n",
    "                \"xlim\": 220,\n",
    "                \"xlim_low\": 60,\n",
    "                \"ratio_ylims\": pass_ratio_ylims if pass_region else fail_ratio_ylims,\n",
    "                \"title\": f\"{shape_label} {region_label} Region\",\n",
    "                \"name\": f\"{plot_dir}/{shape}_{region}_{shape_var.var}_subtracted.pdf\",\n",
    "                \"bg_order\": [\"diboson\", \"vjets\", \"vhtobb\", \"ttbar\", \"qcd\"],\n",
    "                \"energy\": 13.6,\n",
    "            }\n",
    "\n",
    "            plotting.subtractedHistPlot(**plot_params)"
   ]
  },
  {
   "cell_type": "code",
   "execution_count": null,
   "metadata": {},
   "outputs": [],
   "source": []
  }
 ],
 "metadata": {
  "kernelspec": {
   "display_name": "hh4b",
   "language": "python",
   "name": "python3"
  },
  "language_info": {
   "codemirror_mode": {
    "name": "ipython",
    "version": 3
   },
   "file_extension": ".py",
   "mimetype": "text/x-python",
   "name": "python",
   "nbconvert_exporter": "python",
   "pygments_lexer": "ipython3",
   "version": "3.10.14"
  },
  "orig_nbformat": 4
 },
 "nbformat": 4,
 "nbformat_minor": 2
}
